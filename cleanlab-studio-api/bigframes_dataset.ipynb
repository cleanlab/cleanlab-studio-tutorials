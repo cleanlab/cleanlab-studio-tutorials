{
 "cells": [
  {
   "cell_type": "markdown",
   "metadata": {},
   "source": [
    "# Uploading Data from BigFrames to Cleanlab Studio\n",
    "\n",
    "In this tutorial, you\u2019ll learn how to upload data from `bigframes` to Cleanlab Studio. You\u2019ll start by creating a `bigframes` DataFrame and then use the Python client to upload your table. This guide will help you integrate your `bigframes`/BigQuery data into Cleanlab Studio efficiently.\n",
    "\n",
    "This notebook uses the `bigframes` package, along with the `cleanlab-studio` Python Package."
   ]
  },
  {
   "cell_type": "markdown",
   "metadata": {},
   "source": [
    "## 1. Install and import dependencies\n",
    "\n",
    "You'll need to install the `cleanlab-studio` package, along with the `bigframes` package."
   ]
  },
  {
   "cell_type": "markdown",
   "metadata": {},
   "source": [
    "### 1a. Install the required packages\n",
    "\n",
    "Required packages are installed using `pip`:"
   ]
  },
  {
   "cell_type": "code",
   "execution_count": null,
   "metadata": {},
   "outputs": [],
   "source": [
    "%pip install -U cleanlab-studio"
   ]
  },
  {
   "cell_type": "code",
   "execution_count": null,
   "metadata": {},
   "outputs": [],
   "source": [
    "%pip install bigframes \"numpy>=1.26.0\""
   ]
  },
  {
   "cell_type": "code",
   "execution_count": 5,
   "metadata": {},
   "outputs": [],
   "source": [
    "import bigframes.pandas as bpd\n",
    "from cleanlab_studio import Studio"
   ]
  },
  {
   "cell_type": "markdown",
   "metadata": {},
   "source": [
    "### 1b. Setup BigQuery options and Cleanlab Studio\n",
    "To make API calls to BigQuery and Cleanlab Studio, you need to setup BigQuery DataFrame options and create a Cleanlab Studio client. \n",
    "\n",
    "This tutorial assumes you have already authenticated your Google Cloud account. If you haven't, you can follow the instructions in the [Google Cloud documentation](https://cloud.google.com/docs/authentication/client-libraries).\n",
    "\n",
    "Ensure that you set the `GCP_PROJECT` variable along with the Cleanlab Studio API key in the following block."
   ]
  },
  {
   "cell_type": "code",
   "execution_count": 6,
   "metadata": {},
   "outputs": [],
   "source": [
    "# Set BigQuery DataFrames options\n",
    "GCP_PROJECT = \"<your-gcp-project>\"\n",
    "GCP_REGION = \"US\"\n",
    "bpd.options.bigquery.project = GCP_PROJECT\n",
    "bpd.options.bigquery.location = GCP_REGION\n",
    "\n",
    "# create a Studio client\n",
    "# you can find your Cleanlab Studio API key by going to app.cleanlab.ai/account\n",
    "API_KEY = \"<YOUR_API_KEY>\"\n",
    "studio = Studio(API_KEY)"
   ]
  },
  {
   "cell_type": "markdown",
   "metadata": {},
   "source": [
    "## 2. Create a DataFrame (from a BigQuery table)\n",
    "\n",
    "The following code block creates a DataFrame from a (public) BigQuery table. You can use this DataFrame to upload data to Cleanlab Studio."
   ]
  },
  {
   "cell_type": "code",
   "execution_count": 16,
   "metadata": {},
   "outputs": [],
   "source": [
    "# get the dataset and read into a DataFrame\n",
    "query_or_table = \"bigquery-public-data.ml_datasets.penguins\"\n",
    "df = bpd.read_gbq(query_or_table)"
   ]
  },
  {
   "cell_type": "markdown",
   "metadata": {},
   "source": [
    "## 3. Upload `bigframes` DataFrame to Cleanlab Studio\n",
    "\n",
    "You can use the `cleanlab-studio` Python package to upload the `bigframes` DataFrame to Cleanlab Studio.\n",
    "\n",
    "After uploading the data, you can access it in Cleanlab Studio by opening the application and finding the dataset on the Dashboard (or clicking the link below)."
   ]
  },
  {
   "cell_type": "code",
   "execution_count": null,
   "metadata": {},
   "outputs": [],
   "source": [
    "# upload the dataset to Cleanlab Studio\n",
    "dataset_id = studio.upload_from_bigframe(df)\n",
    "\n",
    "# view the dataset in Cleanlab Studio\n",
    "print(f\"https://app.cleanlab.ai/datasets/{dataset_id}\")"
   ]
  },
  {
   "cell_type": "markdown",
   "metadata": {},
   "source": [
    "## 4. Conclusion\n",
    "\n",
    "In this tutorial, you learned how to upload data from BigQuery to Cleanlab Studio. You created a table in BigQuery, configured access, and uploaded the data using the `cleanlab-studio` Python package. You can now access your BigQuery data in Cleanlab Studio and use it to create projects. For next steps, check out our [Projects guide](/guide/concepts/projects)."
   ]
  }
 ],
 "metadata": {
  "kernelspec": {
   "display_name": "Python 3",
   "language": "python",
   "name": "python3"
  },
  "language_info": {
   "codemirror_mode": {
    "name": "ipython",
    "version": 3
   },
   "file_extension": ".py",
   "mimetype": "text/x-python",
   "name": "python",
   "nbconvert_exporter": "python",
   "pygments_lexer": "ipython3",
   "version": "3.10.13"
  }
 },
 "nbformat": 4,
 "nbformat_minor": 2
}