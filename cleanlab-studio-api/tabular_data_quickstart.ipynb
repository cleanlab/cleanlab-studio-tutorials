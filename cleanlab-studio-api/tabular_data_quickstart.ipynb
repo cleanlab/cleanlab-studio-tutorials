{
 "cells": [
  {
   "cell_type": "markdown",
   "metadata": {},
   "source": [
    "# Detecting Issues in Structured/Tabular Datasets\n",
    "\n",
    "This is the recommended quickstart tutorial for using Cleanlab Studio's [Python API](/guide/quickstart/api/) to analyze tabular datasets (Excel/database files with columns of numeric/string values).\n",
    "\n",
    "In this tutorial, we demonstrate the metadata Cleanlab Studio automatically generates for any classification dataset stored as a data table. This metadata (returned as [Cleanlab Columns](/guide/concepts/cleanlab_columns)) helps you discover various problems in your dataset and understand their severity. This entire notebook is run using the `cleanlab_studio` Python package, so you can audit your datasets programmatically."
   ]
  },
  {
   "cell_type": "markdown",
   "metadata": {},
   "source": [
    "## Install and import dependencies\n",
    "\n",
    "Make sure you have `wget` installed to run this tutorial.\n",
    "You can use pip to install all other packages required for this tutorial as follows:"
   ]
  },
  {
   "cell_type": "code",
   "execution_count": null,
   "metadata": {},
   "outputs": [],
   "source": [
    "%pip install matplotlib cleanlab-studio"
   ]
  },
  {
   "cell_type": "code",
   "execution_count": 1,
   "metadata": {},
   "outputs": [],
   "source": [
    "import numpy as np\n",
    "import pandas as pd\n",
    "import os"
   ]
  },
  {
   "cell_type": "markdown",
   "metadata": {},
   "source": [
    "## Dataset structure"
   ]
  },
  {
   "cell_type": "markdown",
   "metadata": {},
   "source": [
    "Fetch the dataset for this tutorial, which is stored as a standard data table in CSV format."
   ]
  },
  {
   "cell_type": "code",
   "execution_count": null,
   "metadata": {},
   "outputs": [],
   "source": [
    "!wget -nc https://s.cleanlab.ai/grades-tabular-demo.csv -P data"
   ]
  },
  {
   "cell_type": "markdown",
   "metadata": {},
   "source": [
    "The CSV file contains the following columns:\n",
    "\n",
    "```\n",
    "stud_ID,exam_1,exam_2,exam_3,notes,letter_grade\n",
    "f48f73,53,77,93,,C\n",
    "0bd4e7,81,64,80,great participation +10,B\n",
    "e1795d,74,88,97,,B\n",
    "<id of student>,<grade on exam 1>,<grade on exam 2>,<grade on exam 3>,<optional notes>,<overall letter grade for student>\n",
    "...\n",
    "```\n",
    "\n",
    "You can similarly format any other tabular dataset and run the rest of this tutorial. Details on how to format your dataset can be found in [this guide](/guide/concepts/datasets/), which also outlines other format options. Cleanlab Studio works out-of-the-box for messy tabular datasets with arbitrary numeric/string columns that may contain missing values.\n",
    "\n",
    "Our dataset for this tutorial is a collection of student grades and other information about each student. Suppose we are interested detecting incorrect values (data entry errors) in students' final `letter_grade`, which belongs to one of five categories: **A**, **B**, **C**, **D**, **F**. In machine learning terminology, this can be considered a **multi-class classification** dataset, where the `letter_grade` column is viewed as **class label** for each row (student) in the table. If you were say aiming to detect miscategorized products in an e-commerce dataset, you would select the product-category column as the class label."
   ]
  },
  {
   "cell_type": "code",
   "execution_count": 3,
   "metadata": {},
   "outputs": [],
   "source": [
    "BASE_PATH = os.getcwd()\n",
    "dataset_path = os.path.join(BASE_PATH, \"data/grades-tabular-demo.csv\")"
   ]
  },
  {
   "cell_type": "markdown",
   "metadata": {},
   "source": [
    "## Load dataset into Cleanlab Studio\n",
    "\n",
    "Use your API key to instantiate a `Studio` object, which can be used to analyze your dataset."
   ]
  },
  {
   "cell_type": "code",
   "execution_count": 4,
   "metadata": {},
   "outputs": [],
   "source": [
    "from cleanlab_studio import Studio\n",
    "\n",
    "# you can find your Cleanlab Studio API key by going to app.cleanlab.ai/upload,\n",
    "# clicking \"Upload via Python API\", and copying the API key there\n",
    "API_KEY = \"<insert your API key>\"\n",
    "\n",
    "# initialize studio object\n",
    "studio = Studio(API_KEY)"
   ]
  },
  {
   "cell_type": "markdown",
   "metadata": {},
   "source": [
    "Next load the dataset into Cleanlab Studio (more details/options can be found in [this guide](/guide/quickstart/api/#uploading-a-dataset)). This may take a while for big datasets."
   ]
  },
  {
   "cell_type": "code",
   "execution_count": null,
   "metadata": {},
   "outputs": [],
   "source": [
    "dataset_id = studio.upload_dataset(dataset_path, dataset_name=\"student-grades\", id_column=\"stud_ID\")\n",
    "print(f\"Dataset ID: {dataset_id}\")"
   ]
  },
  {
   "cell_type": "markdown",
   "metadata": {},
   "source": [
    "## Launch a Project\n",
    "\n",
    "Let's now create a project using this dataset. A Cleanlab Studio project will automatically train ML models to provide AI-based analysis of your dataset.\n",
    "\n",
    "Here, we explicitly specify the column containing the class labels for each data point (`letter_grade` column in this dataset)."
   ]
  },
  {
   "cell_type": "code",
   "execution_count": null,
   "metadata": {},
   "outputs": [],
   "source": [
    "project_id = studio.create_project(\n",
    "    dataset_id=dataset_id,\n",
    "    project_name=\"student-grades project\",\n",
    "    modality=\"tabular\",\n",
    "    task_type=\"multi-class\",\n",
    "    model_type=\"regular\",\n",
    "    label_column=\"letter_grade\",\n",
    ")\n",
    "print(f\"Project successfully created and training has begun! project_id: {project_id}\")"
   ]
  },
  {
   "cell_type": "markdown",
   "metadata": {},
   "source": [
    "Once the project has been launched successfully and you see your `project_id` you can feel free to close this notebook. It will take some time for Cleanlab\u2019s AI to train on your data and analyze it. Come back after training is complete (you will receive an email) and continue with the notebook to review your results.\n",
    "\n",
    "You should only execute the above cell once per dataset. After launching the project, you can poll for its status to programmatically wait until the results are ready for review. Each project creates a [cleanset](/guide/concepts/cleanset/), an improved version of your original dataset that contains additional metadata for helping you clean up the data. The next code cell simply waits until this *cleanset* has been created.\n",
    "\n",
    "**Warning!** For big datasets, this next cell may take a long time to execute while Cleanlab's AI model is training. If your notebook has timed out during this process, then you can resume work by re-running the below cell (which should return the `cleanset_id` instantly if the project has completed training). Do not re-run the above cell and create a new project."
   ]
  },
  {
   "cell_type": "code",
   "execution_count": null,
   "metadata": {},
   "outputs": [],
   "source": [
    "cleanset_id = studio.get_latest_cleanset_id(project_id)\n",
    "print(f\"cleanset_id: {cleanset_id}\")\n",
    "project_status = studio.poll_cleanset_status(cleanset_id)"
   ]
  },
  {
   "cell_type": "markdown",
   "metadata": {},
   "source": [
    "Once the above cell completes execution, your project results are ready for review!  At this point, you can optionally view your project in the [Cleanlab Studio web interface](https://app.cleanlab.ai/) and interactively improve your dataset. However this tutorial will stick with a fully programmatic workflow."
   ]
  },
  {
   "cell_type": "markdown",
   "metadata": {},
   "source": [
    "## Download Cleanlab columns\n",
    "\n",
    "We can fetch the [Cleanlab columns](/guide/concepts/cleanlab_columns/) that contain the metadata of this *cleanset* using its `cleanset_id`. These columns have the same length as your original dataset and provide metadata about each individual data point, like what types of issues it exhibits and severe these issues are.\n",
    "\n",
    "If at any point you want to re-run the remaining parts of this notebook (without creating another project), simply call `studio.download_cleanlab_columns(cleanset_id)` with the `cleanset_id` printed from the previous cell."
   ]
  },
  {
   "cell_type": "code",
   "execution_count": 8,
   "metadata": {},
   "outputs": [
    {
     "data": {
      "text/html": [
       "<div>\n",
       "<style scoped>\n",
       "    .dataframe tbody tr th:only-of-type {\n",
       "        vertical-align: middle;\n",
       "    }\n",
       "\n",
       "    .dataframe tbody tr th {\n",
       "        vertical-align: top;\n",
       "    }\n",
       "\n",
       "    .dataframe thead th {\n",
       "        text-align: right;\n",
       "    }\n",
       "</style>\n",
       "<table border=\"1\" class=\"dataframe\">\n",
       "  <thead>\n",
       "    <tr style=\"text-align: right;\">\n",
       "      <th></th>\n",
       "      <th>stud_ID</th>\n",
       "      <th>corrected_label</th>\n",
       "      <th>is_label_issue</th>\n",
       "      <th>label_issue_score</th>\n",
       "      <th>suggested_label</th>\n",
       "      <th>is_ambiguous</th>\n",
       "      <th>ambiguous_score</th>\n",
       "      <th>is_well_labeled</th>\n",
       "      <th>is_outlier</th>\n",
       "      <th>outlier_score</th>\n",
       "      <th>is_initially_unlabeled</th>\n",
       "    </tr>\n",
       "  </thead>\n",
       "  <tbody>\n",
       "    <tr>\n",
       "      <th>0</th>\n",
       "      <td>008816</td>\n",
       "      <td>&lt;NA&gt;</td>\n",
       "      <td>False</td>\n",
       "      <td>0.432302</td>\n",
       "      <td>&lt;NA&gt;</td>\n",
       "      <td>False</td>\n",
       "      <td>0.684539</td>\n",
       "      <td>False</td>\n",
       "      <td>False</td>\n",
       "      <td>0.349355</td>\n",
       "      <td>False</td>\n",
       "    </tr>\n",
       "    <tr>\n",
       "      <th>1</th>\n",
       "      <td>0094d7</td>\n",
       "      <td>&lt;NA&gt;</td>\n",
       "      <td>False</td>\n",
       "      <td>0.108246</td>\n",
       "      <td>&lt;NA&gt;</td>\n",
       "      <td>False</td>\n",
       "      <td>0.649589</td>\n",
       "      <td>True</td>\n",
       "      <td>False</td>\n",
       "      <td>0.784108</td>\n",
       "      <td>False</td>\n",
       "    </tr>\n",
       "    <tr>\n",
       "      <th>2</th>\n",
       "      <td>00c486</td>\n",
       "      <td>&lt;NA&gt;</td>\n",
       "      <td>False</td>\n",
       "      <td>0.282233</td>\n",
       "      <td>&lt;NA&gt;</td>\n",
       "      <td>False</td>\n",
       "      <td>0.845231</td>\n",
       "      <td>False</td>\n",
       "      <td>False</td>\n",
       "      <td>0.439252</td>\n",
       "      <td>False</td>\n",
       "    </tr>\n",
       "    <tr>\n",
       "      <th>3</th>\n",
       "      <td>00c500</td>\n",
       "      <td>&lt;NA&gt;</td>\n",
       "      <td>False</td>\n",
       "      <td>0.270428</td>\n",
       "      <td>&lt;NA&gt;</td>\n",
       "      <td>False</td>\n",
       "      <td>0.742181</td>\n",
       "      <td>False</td>\n",
       "      <td>False</td>\n",
       "      <td>0.523693</td>\n",
       "      <td>False</td>\n",
       "    </tr>\n",
       "    <tr>\n",
       "      <th>4</th>\n",
       "      <td>00dfe5</td>\n",
       "      <td>&lt;NA&gt;</td>\n",
       "      <td>False</td>\n",
       "      <td>0.275567</td>\n",
       "      <td>&lt;NA&gt;</td>\n",
       "      <td>False</td>\n",
       "      <td>0.795635</td>\n",
       "      <td>False</td>\n",
       "      <td>False</td>\n",
       "      <td>0.448815</td>\n",
       "      <td>False</td>\n",
       "    </tr>\n",
       "  </tbody>\n",
       "</table>\n",
       "</div>"
      ],
      "text/plain": [
       "  stud_ID corrected_label  is_label_issue  label_issue_score suggested_label  \\\n",
       "0  008816            <NA>           False           0.432302            <NA>   \n",
       "1  0094d7            <NA>           False           0.108246            <NA>   \n",
       "2  00c486            <NA>           False           0.282233            <NA>   \n",
       "3  00c500            <NA>           False           0.270428            <NA>   \n",
       "4  00dfe5            <NA>           False           0.275567            <NA>   \n",
       "\n",
       "   is_ambiguous  ambiguous_score  is_well_labeled  is_outlier  outlier_score  \\\n",
       "0         False         0.684539            False       False       0.349355   \n",
       "1         False         0.649589             True       False       0.784108   \n",
       "2         False         0.845231            False       False       0.439252   \n",
       "3         False         0.742181            False       False       0.523693   \n",
       "4         False         0.795635            False       False       0.448815   \n",
       "\n",
       "   is_initially_unlabeled  \n",
       "0                   False  \n",
       "1                   False  \n",
       "2                   False  \n",
       "3                   False  \n",
       "4                   False  "
      ]
     },
     "execution_count": 8,
     "metadata": {},
     "output_type": "execute_result"
    }
   ],
   "source": [
    "cleanlab_columns_df = studio.download_cleanlab_columns(cleanset_id)\n",
    "cleanlab_columns_df.head()"
   ]
  },
  {
   "cell_type": "markdown",
   "id": 0,
   "metadata": {},
   "source": [
    "**Optional: Initialize visualization helper functions**\n",
    "\n",
    "",
    "We define some rule-based coloring functions below to better visualize the numeric and string columns in this dataset.\n",
    "Coloring helps us clearly understand data entry errors for this particular tutorial dataset, but is optional for your own datasets.\n"
   ]
  },
  {
   "cell_type": "code",
   "execution_count": 11,
   "metadata": {},
   "outputs": [],
   "source": [
    "from typing import Callable, Dict, Optional\n",
    "from IPython.core.display import HTML\n",
    "import matplotlib.colors\n",
    "\n",
    "def color_calc(value: int):\n",
    "    \"\"\"\n",
    "    Calculate color based on the given value. Intended for the range of 0 to 100. No error checking is done.\n",
    "    \n",
    "    Parameters:\n",
    "    value (int or float): Value based on which the color is determined.\n",
    "    \n",
    "    Returns:\n",
    "    str: Hexadecimal color code.\n",
    "    \"\"\"\n",
    "    if value <= 50:\n",
    "        r = 1.0\n",
    "        g = (value / 50) * 194.0 / 255.0 + 61.0 / 255.0\n",
    "        b = 61.0 / 255.0\n",
    "    else:\n",
    "        r = (100 - value) / 50\n",
    "        g = 1.0\n",
    "        b = 0.0\n",
    "    hex_color = matplotlib.colors.to_hex((r, g, b))\n",
    "    return hex_color\n",
    "\n",
    "def grade_to_color(value: int):\n",
    "    \"\"\"\n",
    "    Format numerical grade value with background color. Intended for the range of 0 to 100. No error checking is done.\n",
    "    \n",
    "    Parameters:\n",
    "    value (int or float): Numerical grade value.\n",
    "    \n",
    "    Returns:\n",
    "    str: HTML div string with background color based on grade value.\n",
    "    \"\"\"\n",
    "    hex_color = color_calc(value)\n",
    "    return f'<div style=\"background-color: {hex_color}; text-align: center;\">{value}</div>'\n",
    "\n",
    "def letter_grade_to_color(grade: str):\n",
    "    \"\"\"\n",
    "    Format letter grade with background color to match the numerical grade. No error checking is done.\n",
    "    \n",
    "    Parameters:\n",
    "    grade (str): Letter grade.\n",
    "    \n",
    "    Returns:\n",
    "    str: HTML div string with background color based on letter grade.\n",
    "    \"\"\"\n",
    "    grade_map = {'A': 100, 'B': 75, 'C': 50, 'D': 25, 'F': 0}\n",
    "    value = grade_map.get(grade, 0)  # default to 0 if grade is not found\n",
    "    hex_color = color_calc(value)\n",
    "    return f'<div style=\"background-color: {hex_color}; text-align: center;\">{grade}</div>'\n",
    "\n",
    "def highlight_notes(note: str):\n",
    "    \"\"\"\n",
    "    Format notes with background color based on keywords. Notes are returned as is if no keywords are found.\n",
    "    \n",
    "    Parameters:\n",
    "    note (str): Text of notes.\n",
    "    \n",
    "    Returns:\n",
    "    str: HTML div string with background color based on keywords found in notes.\n",
    "    \"\"\"\n",
    "    if 'missed' in note:\n",
    "        value = 40\n",
    "    elif 'cheated' in note:\n",
    "        value = 0\n",
    "    elif 'great participation' in note:\n",
    "        value = 100\n",
    "    else:\n",
    "        return note # default (no color)\n",
    "\n",
    "    hex_color = color_calc(value)\n",
    "    return f'<div style=\"background-color: {hex_color};\">{note}</div>'\n",
    "\n",
    "_TUTORIAL_FORMATTERS = {\n",
    "    'exam_1': grade_to_color,\n",
    "    'exam_2': grade_to_color,\n",
    "    'exam_3': grade_to_color,\n",
    "    'given_label': letter_grade_to_color,\n",
    "    'suggested_label': letter_grade_to_color,\n",
    "    'notes': highlight_notes\n",
    "}\n",
    "    \n",
    "\n",
    "def display(df, formatters: Optional[Dict[str, Callable]] = None):\n",
    "    \"\"\"\n",
    "    Display DataFrame with formatted columns.\n",
    "    \n",
    "    Parameters:\n",
    "    df (pd.DataFrame): DataFrame to display.\n",
    "    \n",
    "    Returns:\n",
    "    IPython.core.display.HTML: HTML representation of formatted DataFrame.\n",
    "    \"\"\"\n",
    "    if formatters is None:\n",
    "        formatters = {}\n",
    "    return HTML(df.to_html(escape=False, formatters=formatters, index=False))\n",
    "\n",
    "\n",
    "disable_pretty_print = False  # set to True to disable pretty printing when displaying DataFrames\n",
    "\n",
    "optional_df_display_formatters = None if disable_pretty_print else _TUTORIAL_FORMATTERS"
   ]
  },
  {
   "cell_type": "markdown",
   "metadata": {},
   "source": [
    "## Review detected data issues \n",
    "\n",
    "Details about all of the returned Cleanlab columns and their meanings can be found in [this guide](/guide/concepts/cleanlab_columns/). Here we briefly showcase some of the Cleanlab columns that correspond to issues detected in our tutorial dataset:\n",
    "- **Label issue** indicates the original value in the column you chose as the class label appears incorrect for this row (perhaps due to data entry error, or accidental mislabeling). For such data, consider correcting this value to the `suggested_label` value if it seems more appropriate.\n",
    "- **Ambiguous** indicates this data point is a borderline case, which might be appropriately described by more than one class label or none of the options at all. Multiple people might disagree on how to label this data point, so you might consider refining your annotation instructions to clarify how to handle data points like this if your data are human-labeled.\n",
    "- **Outlier** indicates this row is very different from the rest of the rows in your dataset (looks atypical). The presence of outliers may indicate problems in your data sources, consider deleting such data from your dataset if appropriate.\n",
    "\n",
    "The rows exhibiting each type of issue are indicated with boolean values in the respective `is_<issue>` column, and the severity of this issue in each row is quantified in the respective `<issue>_score` column (on a scale of 0-1 with 1 indicating the most severe instances of the issue).\n",
    "\n",
    "Let's go through some of the Cleanlab columns and types of data issues, starting with label issues. We first create a `given_label` column in our dataframe to clearly indicate the class label originally assigned to each data point in this dataset.\n"
   ]
  },
  {
   "cell_type": "code",
   "execution_count": 13,
   "metadata": {},
   "outputs": [],
   "source": [
    "# Load the dataset into a DataFrame\n",
    "df = pd.read_csv(dataset_path)\n",
    "\n",
    "# Combine the dataset with the cleanlab columns\n",
    "combined_dataset_df = df.merge(cleanlab_columns_df, on=\"stud_ID\")\n",
    "\n",
    "# Set a \"given_label\" column to the original label\n",
    "combined_dataset_df.rename(columns={\"letter_grade\": \"given_label\"}, inplace=True)\n",
    "\n",
    "# Store the column names of the dataset for visualization\n",
    "DATASET_COLUMNS = df.columns.drop(\"letter_grade\").tolist()"
   ]
  },
  {
   "cell_type": "markdown",
   "metadata": {},
   "source": [
    "To see which data points are estimated to be mislabeled (i.e. have potentially erroneous values in the class label column), we filter by `is_label_issue`. We sort by `label_issue_score` to see which of these data points are *most likely* mislabeled."
   ]
  },
  {
   "cell_type": "code",
   "execution_count": 14,
   "metadata": {},
   "outputs": [
    {
     "data": {
      "text/html": [
       "<table border=\"1\" class=\"dataframe\">\n",
       "  <thead>\n",
       "    <tr style=\"text-align: right;\">\n",
       "      <th>stud_ID</th>\n",
       "      <th>exam_1</th>\n",
       "      <th>exam_2</th>\n",
       "      <th>exam_3</th>\n",
       "      <th>notes</th>\n",
       "      <th>label_issue_score</th>\n",
       "      <th>is_label_issue</th>\n",
       "      <th>given_label</th>\n",
       "      <th>suggested_label</th>\n",
       "    </tr>\n",
       "  </thead>\n",
       "  <tbody>\n",
       "    <tr>\n",
       "      <td>ee538b</td>\n",
       "      <td><div style=\"background-color: #00ff00; text-align: center;\">100</div></td>\n",
       "      <td><div style=\"background-color: #00ff00; text-align: center;\">100</div></td>\n",
       "      <td><div style=\"background-color: #05ff00; text-align: center;\">99</div></td>\n",
       "      <td>NaN</td>\n",
       "      <td>0.967213</td>\n",
       "      <td>True</td>\n",
       "      <td><div style=\"background-color: #ff3d3d; text-align: center;\">F</div></td>\n",
       "      <td><div style=\"background-color: #00ff00; text-align: center;\">A</div></td>\n",
       "    </tr>\n",
       "    <tr>\n",
       "      <td>77c9c5</td>\n",
       "      <td><div style=\"background-color: #ff3d3d; text-align: center;\">0</div></td>\n",
       "      <td><div style=\"background-color: #6bff00; text-align: center;\">79</div></td>\n",
       "      <td><div style=\"background-color: #b2ff00; text-align: center;\">65</div></td>\n",
       "      <td><div style=\"background-color: #ff3d3d;\">cheated on exam, gets 0pts</div></td>\n",
       "      <td>0.966834</td>\n",
       "      <td>True</td>\n",
       "      <td><div style=\"background-color: #00ff00; text-align: center;\">A</div></td>\n",
       "      <td><div style=\"background-color: #ff3d3d; text-align: center;\">F</div></td>\n",
       "    </tr>\n",
       "    <tr>\n",
       "      <td>c8ef2c</td>\n",
       "      <td><div style=\"background-color: #ff3d3d; text-align: center;\">0</div></td>\n",
       "      <td><div style=\"background-color: #ffff3d; text-align: center;\">50</div></td>\n",
       "      <td><div style=\"background-color: #4cff00; text-align: center;\">85</div></td>\n",
       "      <td><div style=\"background-color: #ff3d3d;\">cheated on exam, gets 0pts</div></td>\n",
       "      <td>0.947974</td>\n",
       "      <td>True</td>\n",
       "      <td><div style=\"background-color: #00ff00; text-align: center;\">A</div></td>\n",
       "      <td><div style=\"background-color: #ff3d3d; text-align: center;\">F</div></td>\n",
       "    </tr>\n",
       "    <tr>\n",
       "      <td>34ccdd</td>\n",
       "      <td><div style=\"background-color: #33ff00; text-align: center;\">90</div></td>\n",
       "      <td><div style=\"background-color: #00ff00; text-align: center;\">100</div></td>\n",
       "      <td><div style=\"background-color: #38ff00; text-align: center;\">89</div></td>\n",
       "      <td><div style=\"background-color: #00ff00;\">great participation +10</div></td>\n",
       "      <td>0.934045</td>\n",
       "      <td>True</td>\n",
       "      <td><div style=\"background-color: #ff3d3d; text-align: center;\">F</div></td>\n",
       "      <td><div style=\"background-color: #00ff00; text-align: center;\">A</div></td>\n",
       "    </tr>\n",
       "    <tr>\n",
       "      <td>1803b9</td>\n",
       "      <td><div style=\"background-color: #80ff00; text-align: center;\">75</div></td>\n",
       "      <td><div style=\"background-color: #ff3d3d; text-align: center;\">0</div></td>\n",
       "      <td><div style=\"background-color: #e6ff00; text-align: center;\">55</div></td>\n",
       "      <td><div style=\"background-color: #ff3d3d;\">cheated on exam, gets 0pts</div></td>\n",
       "      <td>0.933881</td>\n",
       "      <td>True</td>\n",
       "      <td><div style=\"background-color: #00ff00; text-align: center;\">A</div></td>\n",
       "      <td><div style=\"background-color: #ff3d3d; text-align: center;\">F</div></td>\n",
       "    </tr>\n",
       "  </tbody>\n",
       "</table>"
      ],
      "text/plain": [
       "<IPython.core.display.HTML object>"
      ]
     },
     "execution_count": 14,
     "metadata": {},
     "output_type": "execute_result"
    }
   ],
   "source": [
    "samples_ranked_by_label_issue_score = combined_dataset_df.sort_values(\"label_issue_score\", ascending=False)\n",
    "\n",
    "columns_to_display = DATASET_COLUMNS + [\"label_issue_score\", \"is_label_issue\", \"given_label\", \"suggested_label\"]\n",
    "display(samples_ranked_by_label_issue_score.head(5)[columns_to_display], formatters=optional_df_display_formatters)"
   ]
  },
  {
   "cell_type": "markdown",
   "metadata": {},
   "source": [
    "Note that in each of these rows, the `given_label` (i.e. final letter grade) really does seem wrong. Data entry and labeling is an error-prone process and mistakes are made! Luckily we can easily correct these data points by just using Cleanlab's `suggested_label` above, which seems like a much more suitable final `letter_grade` value in most cases.\n",
    "\n",
    "While the boolean flags above can help estimate the overall label error rate, the numeric scores help decide what data to prioritize for review. You can alternatively ignore these boolean `is_label_issue` flags and filter the data by thresholding the `label_issue_score` yourself (if say you find the default thresholds produce false positives/negatives)."
   ]
  },
  {
   "cell_type": "markdown",
   "metadata": {},
   "source": [
    "Next, let's look at the ambiguous examples in the dataset. Many of these students fall right on the border between two final letter grades."
   ]
  },
  {
   "cell_type": "code",
   "execution_count": 15,
   "metadata": {},
   "outputs": [
    {
     "data": {
      "text/html": [
       "<table border=\"1\" class=\"dataframe\">\n",
       "  <thead>\n",
       "    <tr style=\"text-align: right;\">\n",
       "      <th>stud_ID</th>\n",
       "      <th>exam_1</th>\n",
       "      <th>exam_2</th>\n",
       "      <th>exam_3</th>\n",
       "      <th>notes</th>\n",
       "      <th>ambiguous_score</th>\n",
       "      <th>is_ambiguous</th>\n",
       "      <th>given_label</th>\n",
       "      <th>suggested_label</th>\n",
       "    </tr>\n",
       "  </thead>\n",
       "  <tbody>\n",
       "    <tr>\n",
       "      <td>9f7f44</td>\n",
       "      <td><div style=\"background-color: #c7ff00; text-align: center;\">61</div></td>\n",
       "      <td><div style=\"background-color: #b2ff00; text-align: center;\">65</div></td>\n",
       "      <td><div style=\"background-color: #00ff00; text-align: center;\">100</div></td>\n",
       "      <td><div style=\"background-color: #ffd83d;\">missed homework frequently -10</div></td>\n",
       "      <td>0.964519</td>\n",
       "      <td>True</td>\n",
       "      <td><div style=\"background-color: #ff9e3d; text-align: center;\">D</div></td>\n",
       "      <td><NA></td>\n",
       "    </tr>\n",
       "    <tr>\n",
       "      <td>85a963</td>\n",
       "      <td><div style=\"background-color: #85ff00; text-align: center;\">74</div></td>\n",
       "      <td><div style=\"background-color: #6bff00; text-align: center;\">79</div></td>\n",
       "      <td><div style=\"background-color: #29ff00; text-align: center;\">92</div></td>\n",
       "      <td><div style=\"background-color: #ffd83d;\">missed homework frequently -10</div></td>\n",
       "      <td>0.960154</td>\n",
       "      <td>False</td>\n",
       "      <td><div style=\"background-color: #ffff3d; text-align: center;\">C</div></td>\n",
       "      <td><NA></td>\n",
       "    </tr>\n",
       "    <tr>\n",
       "      <td>a0a66b</td>\n",
       "      <td><div style=\"background-color: #05ff00; text-align: center;\">99</div></td>\n",
       "      <td><div style=\"background-color: #52ff00; text-align: center;\">84</div></td>\n",
       "      <td><div style=\"background-color: #5cff00; text-align: center;\">82</div></td>\n",
       "      <td><div style=\"background-color: #ffd83d;\">missed class frequently -10</div></td>\n",
       "      <td>0.960008</td>\n",
       "      <td>True</td>\n",
       "      <td><div style=\"background-color: #ff3d3d; text-align: center;\">F</div></td>\n",
       "      <td><div style=\"background-color: #ffff3d; text-align: center;\">C</div></td>\n",
       "    </tr>\n",
       "    <tr>\n",
       "      <td>535cbe</td>\n",
       "      <td><div style=\"background-color: #85ff00; text-align: center;\">74</div></td>\n",
       "      <td><div style=\"background-color: #14ff00; text-align: center;\">96</div></td>\n",
       "      <td><div style=\"background-color: #29ff00; text-align: center;\">92</div></td>\n",
       "      <td><div style=\"background-color: #ffd83d;\">missed class frequently -10</div></td>\n",
       "      <td>0.957413</td>\n",
       "      <td>False</td>\n",
       "      <td><div style=\"background-color: #ffff3d; text-align: center;\">C</div></td>\n",
       "      <td><NA></td>\n",
       "    </tr>\n",
       "    <tr>\n",
       "      <td>9acca4</td>\n",
       "      <td><div style=\"background-color: #fff73d; text-align: center;\">48</div></td>\n",
       "      <td><div style=\"background-color: #33ff00; text-align: center;\">90</div></td>\n",
       "      <td><div style=\"background-color: #2eff00; text-align: center;\">91</div></td>\n",
       "      <td>NaN</td>\n",
       "      <td>0.955861</td>\n",
       "      <td>False</td>\n",
       "      <td><div style=\"background-color: #ffff3d; text-align: center;\">C</div></td>\n",
       "      <td><NA></td>\n",
       "    </tr>\n",
       "  </tbody>\n",
       "</table>"
      ],
      "text/plain": [
       "<IPython.core.display.HTML object>"
      ]
     },
     "execution_count": 15,
     "metadata": {},
     "output_type": "execute_result"
    }
   ],
   "source": [
    "samples_ranked_by_ambiguous_score = combined_dataset_df.sort_values(\"ambiguous_score\", ascending=False)\n",
    "\n",
    "columns_to_display = DATASET_COLUMNS + [\"ambiguous_score\", \"is_ambiguous\", \"given_label\", \"suggested_label\"]\n",
    "display(samples_ranked_by_ambiguous_score.head(5)[columns_to_display], formatters=optional_df_display_formatters)"
   ]
  },
  {
   "cell_type": "markdown",
   "metadata": {},
   "source": [
    "Next, let's look at the outliers in the dataset. Many of these students suspiciously got a 0 on `exam_1` and may be worth a second look."
   ]
  },
  {
   "cell_type": "code",
   "execution_count": 16,
   "metadata": {},
   "outputs": [
    {
     "data": {
      "text/html": [
       "<table border=\"1\" class=\"dataframe\">\n",
       "  <thead>\n",
       "    <tr style=\"text-align: right;\">\n",
       "      <th>stud_ID</th>\n",
       "      <th>exam_1</th>\n",
       "      <th>exam_2</th>\n",
       "      <th>exam_3</th>\n",
       "      <th>notes</th>\n",
       "      <th>outlier_score</th>\n",
       "      <th>is_outlier</th>\n",
       "      <th>given_label</th>\n",
       "      <th>suggested_label</th>\n",
       "    </tr>\n",
       "  </thead>\n",
       "  <tbody>\n",
       "    <tr>\n",
       "      <td>77c9c5</td>\n",
       "      <td><div style=\"background-color: #ff3d3d; text-align: center;\">0</div></td>\n",
       "      <td><div style=\"background-color: #6bff00; text-align: center;\">79</div></td>\n",
       "      <td><div style=\"background-color: #b2ff00; text-align: center;\">65</div></td>\n",
       "      <td><div style=\"background-color: #ff3d3d;\">cheated on exam, gets 0pts</div></td>\n",
       "      <td>1.000000</td>\n",
       "      <td>False</td>\n",
       "      <td><div style=\"background-color: #00ff00; text-align: center;\">A</div></td>\n",
       "      <td><div style=\"background-color: #ff3d3d; text-align: center;\">F</div></td>\n",
       "    </tr>\n",
       "    <tr>\n",
       "      <td>c8ef2c</td>\n",
       "      <td><div style=\"background-color: #ff3d3d; text-align: center;\">0</div></td>\n",
       "      <td><div style=\"background-color: #ffff3d; text-align: center;\">50</div></td>\n",
       "      <td><div style=\"background-color: #4cff00; text-align: center;\">85</div></td>\n",
       "      <td><div style=\"background-color: #ff3d3d;\">cheated on exam, gets 0pts</div></td>\n",
       "      <td>0.983749</td>\n",
       "      <td>False</td>\n",
       "      <td><div style=\"background-color: #00ff00; text-align: center;\">A</div></td>\n",
       "      <td><div style=\"background-color: #ff3d3d; text-align: center;\">F</div></td>\n",
       "    </tr>\n",
       "    <tr>\n",
       "      <td>b34a12</td>\n",
       "      <td><div style=\"background-color: #ff3d3d; text-align: center;\">0</div></td>\n",
       "      <td><div style=\"background-color: #94ff00; text-align: center;\">71</div></td>\n",
       "      <td><div style=\"background-color: #66ff00; text-align: center;\">80</div></td>\n",
       "      <td><div style=\"background-color: #ff3d3d;\">cheated on exam, gets 0pts</div></td>\n",
       "      <td>0.966706</td>\n",
       "      <td>False</td>\n",
       "      <td><div style=\"background-color: #ff3d3d; text-align: center;\">F</div></td>\n",
       "      <td><NA></td>\n",
       "    </tr>\n",
       "    <tr>\n",
       "      <td>7b00e6</td>\n",
       "      <td><div style=\"background-color: #ff3d3d; text-align: center;\">0</div></td>\n",
       "      <td><div style=\"background-color: #80ff00; text-align: center;\">75</div></td>\n",
       "      <td><div style=\"background-color: #70ff00; text-align: center;\">78</div></td>\n",
       "      <td><div style=\"background-color: #ff3d3d;\">cheated on exam, gets 0pts</div></td>\n",
       "      <td>0.963287</td>\n",
       "      <td>False</td>\n",
       "      <td><div style=\"background-color: #ff3d3d; text-align: center;\">F</div></td>\n",
       "      <td><NA></td>\n",
       "    </tr>\n",
       "    <tr>\n",
       "      <td>091ebb</td>\n",
       "      <td><div style=\"background-color: #ff3d3d; text-align: center;\">0</div></td>\n",
       "      <td><div style=\"background-color: #a3ff00; text-align: center;\">68</div></td>\n",
       "      <td><div style=\"background-color: #42ff00; text-align: center;\">87</div></td>\n",
       "      <td><div style=\"background-color: #ff3d3d;\">cheated on exam, gets 0pts</div></td>\n",
       "      <td>0.958418</td>\n",
       "      <td>False</td>\n",
       "      <td><div style=\"background-color: #ff3d3d; text-align: center;\">F</div></td>\n",
       "      <td><NA></td>\n",
       "    </tr>\n",
       "  </tbody>\n",
       "</table>"
      ],
      "text/plain": [
       "<IPython.core.display.HTML object>"
      ]
     },
     "execution_count": 16,
     "metadata": {},
     "output_type": "execute_result"
    }
   ],
   "source": [
    "samples_ranked_by_outlier_score = combined_dataset_df.sort_values(\"outlier_score\", ascending=False)\n",
    "\n",
    "columns_to_display = DATASET_COLUMNS + [\"outlier_score\", \"is_outlier\", \"given_label\", \"suggested_label\"]\n",
    "display(samples_ranked_by_outlier_score.head(5)[columns_to_display], formatters=optional_df_display_formatters)"
   ]
  },
  {
   "cell_type": "markdown",
   "metadata": {},
   "source": [
    "## Improve the dataset based on the detected issues"
   ]
  },
  {
   "cell_type": "markdown",
   "metadata": {},
   "source": [
    "Since the results of this analysis appear reasonable, let's use the Cleanlab columns to improve the quality of our dataset. For your own datasets, which actions you should take to remedy the detected issues will depend on what you are using the data for. No single action is going to be the best choice across all datasets, so we caution against blindly copying the actions we perform below. \n",
    "\n",
    "For data marked as `label_issue`, we create a new `corrected_label` column, which will be the given label for data without detected label issues, and the `suggested_label` for data with detected label issues."
   ]
  },
  {
   "cell_type": "code",
   "execution_count": 17,
   "metadata": {},
   "outputs": [],
   "source": [
    "corrected_label = np.where(combined_dataset_df[\"is_label_issue\"],\n",
    "                           combined_dataset_df[\"suggested_label\"],\n",
    "                           combined_dataset_df[\"given_label\"])"
   ]
  },
  {
   "cell_type": "markdown",
   "metadata": {},
   "source": [
    "For data marked as outlier or ambiguous, we will exclude them from our dataset here for demonstration purposes. Here we create a boolean vector `rows_to_exclude` to track which data points will be excluded."
   ]
  },
  {
   "cell_type": "code",
   "execution_count": 18,
   "metadata": {},
   "outputs": [],
   "source": [
    "rows_to_exclude = combined_dataset_df[\"is_outlier\"] | combined_dataset_df[\"is_ambiguous\"]"
   ]
  },
  {
   "cell_type": "markdown",
   "metadata": {},
   "source": [
    "We can check the total amount of excluded data:"
   ]
  },
  {
   "cell_type": "code",
   "execution_count": 19,
   "metadata": {},
   "outputs": [
    {
     "name": "stdout",
     "output_type": "stream",
     "text": [
      "Excluding 39 examples (out of 941)\n"
     ]
    }
   ],
   "source": [
    "print(f\"Excluding {rows_to_exclude.sum()} examples (out of {len(combined_dataset_df)})\")"
   ]
  },
  {
   "cell_type": "markdown",
   "metadata": {},
   "source": [
    "Finally, let's actually make a new version of our dataset with these changes.\n",
    "\n",
    "We craft a new dataframe from the original, applying corrections and exclusions, and then use this dataframe to save the new dataset in a separate CSV file. The new dataset is a CSV file that looks just like our original dataset -- you can use it as a plug-in replacement to get more reliable results in your ML and Analytics pipelines, without any change in your existing modeling code."
   ]
  },
  {
   "cell_type": "code",
   "execution_count": 20,
   "metadata": {},
   "outputs": [],
   "source": [
    "new_dataset_filename = \"improved_dataset.csv\""
   ]
  },
  {
   "cell_type": "code",
   "execution_count": null,
   "metadata": {},
   "outputs": [],
   "source": [
    "# Fetch the original dataset\n",
    "fixed_dataset = combined_dataset_df[DATASET_COLUMNS].copy()\n",
    "\n",
    "# Add the corrected label column \n",
    "fixed_dataset[\"letter_grade\"] = corrected_label\n",
    "\n",
    "# Automatically exclude selected rows\n",
    "fixed_dataset = fixed_dataset[~rows_to_exclude]\n",
    "\n",
    "# Save improved dataset to new CSV file\n",
    "fixed_dataset.to_csv(new_dataset_filename, index=False)\n",
    "print(f\"Adjusted dataset saved to {new_dataset_filename}\")"
   ]
  }
 ],
 "metadata": {
  "kernelspec": {
   "display_name": "Python 3 (ipykernel)",
   "language": "python",
   "name": "python3"
  },
  "language_info": {
   "codemirror_mode": {
    "name": "ipython",
    "version": 3
   },
   "file_extension": ".py",
   "mimetype": "text/x-python",
   "name": "python",
   "nbconvert_exporter": "python",
   "pygments_lexer": "ipython3",
   "version": "3.9.12"
  }
 },
 "nbformat": 4,
 "nbformat_minor": 4
}