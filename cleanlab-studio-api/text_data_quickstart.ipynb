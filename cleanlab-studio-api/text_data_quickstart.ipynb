{
 "cells": [
  {
   "cell_type": "markdown",
   "metadata": {},
   "source": [
    "# Detecting Issues in Text Datasets\n",
    "\n",
    "This is the recommended quickstart tutorial for analyzing text datasets via the Cleanlab Studio's [Python API](/guide/quickstart/api/).\n",
    "\n",
    "In this tutorial, we demonstrate the metadata Cleanlab Studio automatically generates for any text classification dataset. This metadata (returned as [Cleanlab Columns](/guide/concepts/cleanlab_columns)) helps you discover various problems in your dataset and understand their severity. This entire notebook is run using the `cleanlab_studio` Python package, so you can audit your datasets programmatically."
   ]
  },
  {
   "cell_type": "markdown",
   "metadata": {},
   "source": [
    "## Install and import dependencies\n",
    "\n",
    "Make sure you have `wget` installed to run this tutorial. You can use pip to install all other packages required for this tutorial as follows:"
   ]
  },
  {
   "cell_type": "code",
   "execution_count": 1,
   "metadata": {
    "scrolled": true
   },
   "outputs": [],
   "source": [
    "!pip install cleanlab-studio"
   ]
  },
  {
   "cell_type": "code",
   "execution_count": 3,
   "metadata": {},
   "outputs": [],
   "source": [
    "import numpy as np\n",
    "import pandas as pd\n",
    "import os\n",
    "\n",
    "from IPython.display import display, Markdown\n",
    "pd.set_option(\"display.max_colwidth\", None)"
   ]
  },
  {
   "cell_type": "markdown",
   "metadata": {},
   "source": [
    "## Fetch and view dataset"
   ]
  },
  {
   "cell_type": "markdown",
   "metadata": {},
   "source": [
    "Fetch the dataset for this tutorial."
   ]
  },
  {
   "cell_type": "code",
   "execution_count": null,
   "metadata": {},
   "outputs": [],
   "source": [
    "!mkdir -p data/\n",
    "!wget -nc https://cleanlab-public.s3.amazonaws.com/Datasets/banking-text-quickstart-v1.csv -O data/banking-text-quickstart.csv"
   ]
  },
  {
   "cell_type": "markdown",
   "metadata": {},
   "source": [
    "Here we'll use a variant of the [BANKING77](https://paperswithcode.com/dataset/banking77-oos) text dataset. This is a **multi-class classification** dataset where customer service requests are labeled as belonging to one of *K* classes (intent categories).\n",
    "\n",
    "We can view the first few rows of our dataset below:"
   ]
  },
  {
   "cell_type": "code",
   "execution_count": 5,
   "metadata": {},
   "outputs": [],
   "source": [
    "BASE_PATH = os.getcwd()\n",
    "dataset_path = os.path.join(BASE_PATH, \"data/banking-text-quickstart.csv\")"
   ]
  },
  {
   "cell_type": "code",
   "execution_count": 6,
   "metadata": {},
   "outputs": [
    {
     "data": {
      "text/html": [
       "<div>\n",
       "<style scoped>\n",
       "    .dataframe tbody tr th:only-of-type {\n",
       "        vertical-align: middle;\n",
       "    }\n",
       "\n",
       "    .dataframe tbody tr th {\n",
       "        vertical-align: top;\n",
       "    }\n",
       "\n",
       "    .dataframe thead th {\n",
       "        text-align: right;\n",
       "    }\n",
       "</style>\n",
       "<table border=\"1\" class=\"dataframe\">\n",
       "  <thead>\n",
       "    <tr style=\"text-align: right;\">\n",
       "      <th></th>\n",
       "      <th>text</th>\n",
       "      <th>label</th>\n",
       "    </tr>\n",
       "  </thead>\n",
       "  <tbody>\n",
       "    <tr>\n",
       "      <th>0</th>\n",
       "      <td>i need to cancel my recent transfer as soon as possible. i made an error there. please help before it goes through.</td>\n",
       "      <td>cancel_transfer</td>\n",
       "    </tr>\n",
       "    <tr>\n",
       "      <th>1</th>\n",
       "      <td>why is there a fee when i thought there would be no fees?</td>\n",
       "      <td>card_payment_fee_charged</td>\n",
       "    </tr>\n",
       "    <tr>\n",
       "      <th>2</th>\n",
       "      <td>why can't my beneficiary access my account?</td>\n",
       "      <td>beneficiary_not_allowed</td>\n",
       "    </tr>\n",
       "    <tr>\n",
       "      <th>3</th>\n",
       "      <td>does it cost extra to send out more than one card?</td>\n",
       "      <td>getting_spare_card</td>\n",
       "    </tr>\n",
       "    <tr>\n",
       "      <th>4</th>\n",
       "      <td>can i change my pin at an atm?</td>\n",
       "      <td>change_pin</td>\n",
       "    </tr>\n",
       "  </tbody>\n",
       "</table>\n",
       "</div>"
      ],
      "text/plain": [
       "                                                                                                                  text  \\\n",
       "0  i need to cancel my recent transfer as soon as possible. i made an error there. please help before it goes through.   \n",
       "1                                                            why is there a fee when i thought there would be no fees?   \n",
       "2                                                                          why can't my beneficiary access my account?   \n",
       "3                                                                   does it cost extra to send out more than one card?   \n",
       "4                                                                                       can i change my pin at an atm?   \n",
       "\n",
       "                      label  \n",
       "0           cancel_transfer  \n",
       "1  card_payment_fee_charged  \n",
       "2   beneficiary_not_allowed  \n",
       "3        getting_spare_card  \n",
       "4                change_pin  "
      ]
     },
     "execution_count": 6,
     "metadata": {},
     "output_type": "execute_result"
    }
   ],
   "source": [
    "data = pd.read_csv(dataset_path)\n",
    "data.head()"
   ]
  },
  {
   "cell_type": "markdown",
   "metadata": {},
   "source": [
    "### Dataset Structure"
   ]
  },
  {
   "cell_type": "markdown",
   "metadata": {},
   "source": [
    "The data used in the tutorial is stored in a standard CSV file containing the following columns:\n",
    "\n",
    "```\n",
    "text,label\n",
    "<a text example>,<a class label>\n",
    "\"<a text example with quotes, to escape commas as column separators>\",<another class label>\n",
    "...\n",
    "```\n",
    "\n",
    "You can similarly format any other text dataset and run the rest of this tutorial. Details on how to format your dataset can be found in [this guide](/guide/concepts/datasets/), which also outlines other format options."
   ]
  },
  {
   "cell_type": "markdown",
   "metadata": {},
   "source": [
    "## Load dataset into Cleanlab Studio"
   ]
  },
  {
   "cell_type": "markdown",
   "metadata": {},
   "source": [
    "Now that we have our dataset, let's load it into Cleanlab Studio and conduct our analysis. Use your API key to instantiate a `studio` object, which analyzes your dataset."
   ]
  },
  {
   "cell_type": "code",
   "execution_count": 7,
   "metadata": {},
   "outputs": [],
   "source": [
    "from cleanlab_studio import Studio\n",
    "\n",
    "# you can find your Cleanlab Studio API key by going to app.cleanlab.ai/upload,\n",
    "# clicking \"Upload via Python API\", and copying the API key there\n",
    "API_KEY = \"<insert your API key>\"\n",
    "\n",
    "# initialize studio object\n",
    "studio = Studio(API_KEY)"
   ]
  },
  {
   "cell_type": "markdown",
   "metadata": {},
   "source": [
    "Load the data into Cleanlab Studio (more details/options can be found in [this guide](/guide/quickstart/api/#uploading-a-dataset)). This may take a while for big datasets."
   ]
  },
  {
   "cell_type": "code",
   "execution_count": null,
   "metadata": {},
   "outputs": [],
   "source": [
    "dataset_id = studio.upload_dataset(dataset_path, dataset_name=\"banking-text-quickstart\")\n",
    "print(f\"Dataset ID: {dataset_id}\")"
   ]
  },
  {
   "cell_type": "markdown",
   "metadata": {},
   "source": [
    "## Launch a Project\n",
    "\n",
    "A Cleanlab Studio project automatically trains ML models to provide AI-based analysis of your dataset. Let's launch one."
   ]
  },
  {
   "cell_type": "code",
   "execution_count": null,
   "metadata": {},
   "outputs": [],
   "source": [
    "project_id = studio.create_project(\n",
    "    dataset_id=dataset_id,\n",
    "    project_name=\"banking-text-quickstart-project\",\n",
    "    modality=\"text\",\n",
    "    task_type=\"multi-class\",\n",
    "    model_type=\"regular\",\n",
    ")\n",
    "print(f\"Project successfully created and training has begun! project_id: {project_id}\")"
   ]
  },
  {
   "cell_type": "markdown",
   "metadata": {},
   "source": [
    "Once the project has been launched successfully and you see your `project_id` you can feel free to close this notebook. It will take some time for Cleanlab\u2019s AI to train on your data and analyze it. Come back after training is complete (you will receive an email) and continue with the notebook to review your results.\n",
    "\n",
    "You should only execute the above cell once per dataset. After launching the project, you can poll for its status to programmatically wait until the results are ready for review. Each project creates a [cleanset](/guide/concepts/cleanset/), an improved version of your original dataset that contains additional metadata for helping you clean up the data. The next code cell simply waits until this [cleanset](/guide/concepts/cleanset) has been created.\n",
    "\n",
    "**Warning!** For big datasets, this next cell may take a long time to execute while Cleanlab's AI model is training. If your Jupyter notebook has timed out during this process, you can resume work by re-running the below cell (which should return instantly if the project has completed training). **Do not** create a new project."
   ]
  },
  {
   "cell_type": "code",
   "execution_count": null,
   "metadata": {},
   "outputs": [],
   "source": [
    "cleanset_id = studio.get_latest_cleanset_id(project_id)\n",
    "print(f\"cleanset_id: {cleanset_id}\")\n",
    "project_status = studio.wait_until_cleanset_ready(cleanset_id)"
   ]
  },
  {
   "cell_type": "markdown",
   "metadata": {},
   "source": [
    "Once the above cell completes execution, your project results are ready for review!  At this point, you can optionally view your project in the [Cleanlab Studio web interface](https://app.cleanlab.ai/) and interactively improve your dataset. However this tutorial will stick with a fully programmatic workflow."
   ]
  },
  {
   "cell_type": "markdown",
   "metadata": {},
   "source": [
    "## Download Cleanlab columns\n",
    "\n",
    "We can fetch [Cleanlab columns](/guide/concepts/cleanlab_columns/) that store metadata for this [cleanset](/guide/concepts/cleanset) using its `cleanset_id`. These columns have the same length as your original dataset and provide metadata about each individual data point, like what types of issues it exhibits and how severely.\n",
    "\n",
    "If at any point you want to re-run the remaining parts of this notebook (without creating another project), simply call `studio.download_cleanlab_columns(cleanset_id)` with the `cleanset_id` printed from the previous cell."
   ]
  },
  {
   "cell_type": "code",
   "execution_count": 30,
   "metadata": {},
   "outputs": [
    {
     "data": {
      "text/html": [
       "<div>\n",
       "<style scoped>\n",
       "    .dataframe tbody tr th:only-of-type {\n",
       "        vertical-align: middle;\n",
       "    }\n",
       "\n",
       "    .dataframe tbody tr th {\n",
       "        vertical-align: top;\n",
       "    }\n",
       "\n",
       "    .dataframe thead th {\n",
       "        text-align: right;\n",
       "    }\n",
       "</style>\n",
       "<table border=\"1\" class=\"dataframe\">\n",
       "  <thead>\n",
       "    <tr style=\"text-align: right;\">\n",
       "      <th></th>\n",
       "      <th>cleanlab_row_ID</th>\n",
       "      <th>corrected_label</th>\n",
       "      <th>is_label_issue</th>\n",
       "      <th>label_issue_score</th>\n",
       "      <th>suggested_label</th>\n",
       "      <th>is_ambiguous</th>\n",
       "      <th>ambiguous_score</th>\n",
       "      <th>is_well_labeled</th>\n",
       "      <th>is_near_duplicate</th>\n",
       "      <th>near_duplicate_score</th>\n",
       "      <th>...</th>\n",
       "      <th>PII_score</th>\n",
       "      <th>PII_types</th>\n",
       "      <th>PII_items</th>\n",
       "      <th>is_informal</th>\n",
       "      <th>informal_score</th>\n",
       "      <th>is_non_english</th>\n",
       "      <th>non_english_score</th>\n",
       "      <th>predicted_language</th>\n",
       "      <th>is_toxic</th>\n",
       "      <th>toxic_score</th>\n",
       "    </tr>\n",
       "  </thead>\n",
       "  <tbody>\n",
       "    <tr>\n",
       "      <th>0</th>\n",
       "      <td>0</td>\n",
       "      <td>&lt;NA&gt;</td>\n",
       "      <td>False</td>\n",
       "      <td>0.187229</td>\n",
       "      <td>&lt;NA&gt;</td>\n",
       "      <td>False</td>\n",
       "      <td>0.895058</td>\n",
       "      <td>False</td>\n",
       "      <td>False</td>\n",
       "      <td>0.989314</td>\n",
       "      <td>...</td>\n",
       "      <td>0.0</td>\n",
       "      <td>[]</td>\n",
       "      <td>[]</td>\n",
       "      <td>False</td>\n",
       "      <td>0.011878</td>\n",
       "      <td>False</td>\n",
       "      <td>0.004226</td>\n",
       "      <td>&lt;NA&gt;</td>\n",
       "      <td>False</td>\n",
       "      <td>0.104431</td>\n",
       "    </tr>\n",
       "    <tr>\n",
       "      <th>1</th>\n",
       "      <td>1</td>\n",
       "      <td>&lt;NA&gt;</td>\n",
       "      <td>False</td>\n",
       "      <td>0.208311</td>\n",
       "      <td>&lt;NA&gt;</td>\n",
       "      <td>False</td>\n",
       "      <td>0.901848</td>\n",
       "      <td>False</td>\n",
       "      <td>False</td>\n",
       "      <td>0.946454</td>\n",
       "      <td>...</td>\n",
       "      <td>0.0</td>\n",
       "      <td>[]</td>\n",
       "      <td>[]</td>\n",
       "      <td>False</td>\n",
       "      <td>0.033124</td>\n",
       "      <td>False</td>\n",
       "      <td>0.007218</td>\n",
       "      <td>&lt;NA&gt;</td>\n",
       "      <td>False</td>\n",
       "      <td>0.181641</td>\n",
       "    </tr>\n",
       "    <tr>\n",
       "      <th>2</th>\n",
       "      <td>2</td>\n",
       "      <td>&lt;NA&gt;</td>\n",
       "      <td>False</td>\n",
       "      <td>0.114819</td>\n",
       "      <td>&lt;NA&gt;</td>\n",
       "      <td>False</td>\n",
       "      <td>0.805536</td>\n",
       "      <td>False</td>\n",
       "      <td>False</td>\n",
       "      <td>0.987998</td>\n",
       "      <td>...</td>\n",
       "      <td>0.0</td>\n",
       "      <td>[]</td>\n",
       "      <td>[]</td>\n",
       "      <td>False</td>\n",
       "      <td>0.160778</td>\n",
       "      <td>False</td>\n",
       "      <td>0.008784</td>\n",
       "      <td>&lt;NA&gt;</td>\n",
       "      <td>False</td>\n",
       "      <td>0.062195</td>\n",
       "    </tr>\n",
       "    <tr>\n",
       "      <th>3</th>\n",
       "      <td>3</td>\n",
       "      <td>&lt;NA&gt;</td>\n",
       "      <td>False</td>\n",
       "      <td>0.452269</td>\n",
       "      <td>&lt;NA&gt;</td>\n",
       "      <td>False</td>\n",
       "      <td>0.946026</td>\n",
       "      <td>False</td>\n",
       "      <td>False</td>\n",
       "      <td>0.962509</td>\n",
       "      <td>...</td>\n",
       "      <td>0.0</td>\n",
       "      <td>[]</td>\n",
       "      <td>[]</td>\n",
       "      <td>False</td>\n",
       "      <td>0.275605</td>\n",
       "      <td>False</td>\n",
       "      <td>0.004739</td>\n",
       "      <td>&lt;NA&gt;</td>\n",
       "      <td>False</td>\n",
       "      <td>0.184570</td>\n",
       "    </tr>\n",
       "    <tr>\n",
       "      <th>4</th>\n",
       "      <td>4</td>\n",
       "      <td>&lt;NA&gt;</td>\n",
       "      <td>False</td>\n",
       "      <td>0.189948</td>\n",
       "      <td>&lt;NA&gt;</td>\n",
       "      <td>False</td>\n",
       "      <td>0.902838</td>\n",
       "      <td>False</td>\n",
       "      <td>False</td>\n",
       "      <td>0.992378</td>\n",
       "      <td>...</td>\n",
       "      <td>0.0</td>\n",
       "      <td>[]</td>\n",
       "      <td>[]</td>\n",
       "      <td>False</td>\n",
       "      <td>0.390461</td>\n",
       "      <td>False</td>\n",
       "      <td>0.058934</td>\n",
       "      <td>&lt;NA&gt;</td>\n",
       "      <td>False</td>\n",
       "      <td>0.120178</td>\n",
       "    </tr>\n",
       "  </tbody>\n",
       "</table>\n",
       "<p>5 rows \u00d7 25 columns</p>\n",
       "</div>"
      ],
      "text/plain": [
       "   cleanlab_row_ID corrected_label  is_label_issue  label_issue_score  \\\n",
       "0                0            <NA>           False           0.187229   \n",
       "1                1            <NA>           False           0.208311   \n",
       "2                2            <NA>           False           0.114819   \n",
       "3                3            <NA>           False           0.452269   \n",
       "4                4            <NA>           False           0.189948   \n",
       "\n",
       "  suggested_label  is_ambiguous  ambiguous_score  is_well_labeled  \\\n",
       "0            <NA>         False         0.895058            False   \n",
       "1            <NA>         False         0.901848            False   \n",
       "2            <NA>         False         0.805536            False   \n",
       "3            <NA>         False         0.946026            False   \n",
       "4            <NA>         False         0.902838            False   \n",
       "\n",
       "   is_near_duplicate  near_duplicate_score  ...  PII_score  PII_types  \\\n",
       "0              False              0.989314  ...        0.0         []   \n",
       "1              False              0.946454  ...        0.0         []   \n",
       "2              False              0.987998  ...        0.0         []   \n",
       "3              False              0.962509  ...        0.0         []   \n",
       "4              False              0.992378  ...        0.0         []   \n",
       "\n",
       "   PII_items  is_informal  informal_score  is_non_english non_english_score  \\\n",
       "0         []        False        0.011878           False          0.004226   \n",
       "1         []        False        0.033124           False          0.007218   \n",
       "2         []        False        0.160778           False          0.008784   \n",
       "3         []        False        0.275605           False          0.004739   \n",
       "4         []        False        0.390461           False          0.058934   \n",
       "\n",
       "  predicted_language  is_toxic  toxic_score  \n",
       "0               <NA>     False     0.104431  \n",
       "1               <NA>     False     0.181641  \n",
       "2               <NA>     False     0.062195  \n",
       "3               <NA>     False     0.184570  \n",
       "4               <NA>     False     0.120178  \n",
       "\n",
       "[5 rows x 25 columns]"
      ]
     },
     "execution_count": 30,
     "metadata": {},
     "output_type": "execute_result"
    }
   ],
   "source": [
    "cleanlab_columns_df = studio.download_cleanlab_columns(cleanset_id)\n",
    "cleanlab_columns_df.head()"
   ]
  },
  {
   "cell_type": "markdown",
   "metadata": {},
   "source": [
    "## Review data issues"
   ]
  },
  {
   "cell_type": "markdown",
   "metadata": {},
   "source": [
    "Details about all of the Cleanlab columns and their meanings can be found in [this guide](/guide/concepts/cleanlab_columns/). Here we briefly showcase some of the Cleanlab columns that correspond to issues detected in our tutorial dataset:\n",
    "- **Label issue** indicates the given label of this data point is likely wrong. For such data, consider correcting their label to the `suggested_label` if it seems more appropriate.\n",
    "- **Ambiguous** indicates this data point does not clearly belong to any of the classes (e.g. a borderline case). Multiple human annotators might disagree on how to label this data point, so you might consider refining your annotation instructions to clarify how to handle data points like this.\n",
    "- **Outlier** indicates this data point is very different from the rest of the data (looks atypical). The presence of outliers may indicate problems in your data sources, consider deleting such data from your dataset if appropriate.\n",
    "- **Near duplicate** indicates there are other data points that are (exactly or nearly) identical to this data point. Duplicated data points can have an outsized impact on models/analytics, so consider deleting the extra copies from your dataset if appropriate.\n",
    "\n",
    "The data points exhibiting each type of issue are indicated with boolean values in the respective `is_<issue>` column, and the severity of this issue in each data point is quantified in the respective `<issue>_score` column (on a scale of 0-1 with 1 indicating the most severe instances of the issue).\n",
    "\n",
    "Let's go through some of the Cleanlab columns and types of data issues, starting with label issues (i.e. mislabeled data). We first create a `given_label` column in our dataframe to clearly indicate the original class label originally assigned to each data point (customer service request)."
   ]
  },
  {
   "cell_type": "code",
   "execution_count": 35,
   "metadata": {},
   "outputs": [],
   "source": [
    "# Load the dataset into a DataFrame\n",
    "df = pd.read_csv(dataset_path)\n",
    "\n",
    "# Combine the dataset with the cleanlab columns\n",
    "combined_dataset_df = df.merge(cleanlab_columns_df, left_index=True, right_on=\"cleanlab_row_ID\")\n",
    "\n",
    "# Set a \"given_label\" column to the original label\n",
    "combined_dataset_df.rename(columns={\"label\": \"given_label\"}, inplace=True)"
   ]
  },
  {
   "cell_type": "markdown",
   "metadata": {},
   "source": [
    "To see which text examples are estimated to be mislabeled, we filter by `is_label_issue`. We sort by `label_issue_score` to see which of these data points are *most likely* mislabeled."
   ]
  },
  {
   "cell_type": "code",
   "execution_count": 36,
   "metadata": {},
   "outputs": [
    {
     "data": {
      "text/html": [
       "<div>\n",
       "<style scoped>\n",
       "    .dataframe tbody tr th:only-of-type {\n",
       "        vertical-align: middle;\n",
       "    }\n",
       "\n",
       "    .dataframe tbody tr th {\n",
       "        vertical-align: top;\n",
       "    }\n",
       "\n",
       "    .dataframe thead th {\n",
       "        text-align: right;\n",
       "    }\n",
       "</style>\n",
       "<table border=\"1\" class=\"dataframe\">\n",
       "  <thead>\n",
       "    <tr style=\"text-align: right;\">\n",
       "      <th></th>\n",
       "      <th>cleanlab_row_ID</th>\n",
       "      <th>text</th>\n",
       "      <th>label_issue_score</th>\n",
       "      <th>is_label_issue</th>\n",
       "      <th>given_label</th>\n",
       "      <th>suggested_label</th>\n",
       "    </tr>\n",
       "  </thead>\n",
       "  <tbody>\n",
       "    <tr>\n",
       "      <th>524</th>\n",
       "      <td>524</td>\n",
       "      <td>will i be sent a new card before mine expires?</td>\n",
       "      <td>0.994404</td>\n",
       "      <td>True</td>\n",
       "      <td>apple_pay_or_google_pay</td>\n",
       "      <td>card_about_to_expire</td>\n",
       "    </tr>\n",
       "    <tr>\n",
       "      <th>8</th>\n",
       "      <td>8</td>\n",
       "      <td>can i change my pin on holiday?</td>\n",
       "      <td>0.984735</td>\n",
       "      <td>True</td>\n",
       "      <td>beneficiary_not_allowed</td>\n",
       "      <td>change_pin</td>\n",
       "    </tr>\n",
       "    <tr>\n",
       "      <th>808</th>\n",
       "      <td>808</td>\n",
       "      <td>what atms will allow me to change my pin?</td>\n",
       "      <td>0.982135</td>\n",
       "      <td>True</td>\n",
       "      <td>beneficiary_not_allowed</td>\n",
       "      <td>change_pin</td>\n",
       "    </tr>\n",
       "    <tr>\n",
       "      <th>133</th>\n",
       "      <td>133</td>\n",
       "      <td>my card is almost expired.  how fast will i get a new one and what is the cost?</td>\n",
       "      <td>0.980538</td>\n",
       "      <td>True</td>\n",
       "      <td>apple_pay_or_google_pay</td>\n",
       "      <td>card_about_to_expire</td>\n",
       "    </tr>\n",
       "    <tr>\n",
       "      <th>874</th>\n",
       "      <td>874</td>\n",
       "      <td>why am i being charge a fee when using an atm?</td>\n",
       "      <td>0.960389</td>\n",
       "      <td>True</td>\n",
       "      <td>card_about_to_expire</td>\n",
       "      <td>card_payment_fee_charged</td>\n",
       "    </tr>\n",
       "  </tbody>\n",
       "</table>\n",
       "</div>"
      ],
      "text/plain": [
       "     cleanlab_row_ID  \\\n",
       "524              524   \n",
       "8                  8   \n",
       "808              808   \n",
       "133              133   \n",
       "874              874   \n",
       "\n",
       "                                                                                text  \\\n",
       "524                                   will i be sent a new card before mine expires?   \n",
       "8                                                    can i change my pin on holiday?   \n",
       "808                                        what atms will allow me to change my pin?   \n",
       "133  my card is almost expired.  how fast will i get a new one and what is the cost?   \n",
       "874                                   why am i being charge a fee when using an atm?   \n",
       "\n",
       "     label_issue_score  is_label_issue              given_label  \\\n",
       "524           0.994404            True  apple_pay_or_google_pay   \n",
       "8             0.984735            True  beneficiary_not_allowed   \n",
       "808           0.982135            True  beneficiary_not_allowed   \n",
       "133           0.980538            True  apple_pay_or_google_pay   \n",
       "874           0.960389            True     card_about_to_expire   \n",
       "\n",
       "              suggested_label  \n",
       "524      card_about_to_expire  \n",
       "8                  change_pin  \n",
       "808                change_pin  \n",
       "133      card_about_to_expire  \n",
       "874  card_payment_fee_charged  "
      ]
     },
     "metadata": {},
     "output_type": "display_data"
    }
   ],
   "source": [
    "samples_ranked_by_label_issue_score = combined_dataset_df.query(\"is_label_issue\").sort_values(\"label_issue_score\", ascending=False)\n",
    "\n",
    "columns_to_display = [\"cleanlab_row_ID\", \"text\", \"label_issue_score\", \"is_label_issue\", \"given_label\", \"suggested_label\"]\n",
    "display(samples_ranked_by_label_issue_score.head(5)[columns_to_display])"
   ]
  },
  {
   "cell_type": "markdown",
   "metadata": {},
   "source": [
    "Note that in each of these examples, the `given_label` really does seem wrong (the annotated intent in the original dataset does not appear appropriate for the customer request). Data labeling is an error-prone process and annotators make mistakes! Luckily we can easily correct these data points by just using Cleanlab's `suggested_label` above, which seems like a much more suitable label in most cases.\n",
    "\n",
    "While the boolean flags above can help estimate the overall label error rate, the numeric scores help decide what data to prioritize for review. You can alternatively ignore these boolean `is_label_issue` flags and filter the data by thresholding the `label_issue_score` yourself (if say you find the default thresholds produce false positives/negatives)."
   ]
  },
  {
   "cell_type": "markdown",
   "metadata": {},
   "source": [
    "Next, let's look at the ambiguous examples detected in the dataset."
   ]
  },
  {
   "cell_type": "code",
   "execution_count": 16,
   "metadata": {},
   "outputs": [
    {
     "data": {
      "text/html": [
       "<div>\n",
       "<style scoped>\n",
       "    .dataframe tbody tr th:only-of-type {\n",
       "        vertical-align: middle;\n",
       "    }\n",
       "\n",
       "    .dataframe tbody tr th {\n",
       "        vertical-align: top;\n",
       "    }\n",
       "\n",
       "    .dataframe thead th {\n",
       "        text-align: right;\n",
       "    }\n",
       "</style>\n",
       "<table border=\"1\" class=\"dataframe\">\n",
       "  <thead>\n",
       "    <tr style=\"text-align: right;\">\n",
       "      <th></th>\n",
       "      <th>cleanlab_row_ID</th>\n",
       "      <th>text</th>\n",
       "      <th>ambiguous_score</th>\n",
       "      <th>is_ambiguous</th>\n",
       "      <th>given_label</th>\n",
       "      <th>suggested_label</th>\n",
       "    </tr>\n",
       "  </thead>\n",
       "  <tbody>\n",
       "    <tr>\n",
       "      <th>652</th>\n",
       "      <td>652</td>\n",
       "      <td>i just made a top-up but it shows as pending! i use your service all the time and have never had a problem before. why does it keep showing up as pending?</td>\n",
       "      <td>0.987011</td>\n",
       "      <td>True</td>\n",
       "      <td>cancel_transfer</td>\n",
       "      <td>supported_cards_and_currencies</td>\n",
       "    </tr>\n",
       "    <tr>\n",
       "      <th>898</th>\n",
       "      <td>898</td>\n",
       "      <td>hi,  one of payment is still coming as pending for which i have already paid by card. i guess it did not processed, could you please check and update me.</td>\n",
       "      <td>0.983816</td>\n",
       "      <td>True</td>\n",
       "      <td>lost_or_stolen_phone</td>\n",
       "      <td>card_payment_fee_charged</td>\n",
       "    </tr>\n",
       "    <tr>\n",
       "      <th>793</th>\n",
       "      <td>793</td>\n",
       "      <td>what reasons would cause my card payment to be cancelled?</td>\n",
       "      <td>0.982958</td>\n",
       "      <td>True</td>\n",
       "      <td>change_pin</td>\n",
       "      <td>cancel_transfer</td>\n",
       "    </tr>\n",
       "    <tr>\n",
       "      <th>783</th>\n",
       "      <td>783</td>\n",
       "      <td>how do i avoid charges in the future</td>\n",
       "      <td>0.980937</td>\n",
       "      <td>True</td>\n",
       "      <td>card_payment_fee_charged</td>\n",
       "      <td>getting_spare_card</td>\n",
       "    </tr>\n",
       "    <tr>\n",
       "      <th>320</th>\n",
       "      <td>320</td>\n",
       "      <td>payment did not process</td>\n",
       "      <td>0.978533</td>\n",
       "      <td>True</td>\n",
       "      <td>beneficiary_not_allowed</td>\n",
       "      <td>card_payment_fee_charged</td>\n",
       "    </tr>\n",
       "  </tbody>\n",
       "</table>\n",
       "</div>"
      ],
      "text/plain": [
       "     cleanlab_row_ID  \\\n",
       "652              652   \n",
       "898              898   \n",
       "793              793   \n",
       "783              783   \n",
       "320              320   \n",
       "\n",
       "                                                                                                                                                           text  \\\n",
       "652  i just made a top-up but it shows as pending! i use your service all the time and have never had a problem before. why does it keep showing up as pending?   \n",
       "898   hi,  one of payment is still coming as pending for which i have already paid by card. i guess it did not processed, could you please check and update me.   \n",
       "793                                                                                                   what reasons would cause my card payment to be cancelled?   \n",
       "783                                                                                                                        how do i avoid charges in the future   \n",
       "320                                                                                                                                     payment did not process   \n",
       "\n",
       "     ambiguous_score  is_ambiguous               given_label  \\\n",
       "652         0.987011          True           cancel_transfer   \n",
       "898         0.983816          True      lost_or_stolen_phone   \n",
       "793         0.982958          True                change_pin   \n",
       "783         0.980937          True  card_payment_fee_charged   \n",
       "320         0.978533          True   beneficiary_not_allowed   \n",
       "\n",
       "                    suggested_label  \n",
       "652  supported_cards_and_currencies  \n",
       "898        card_payment_fee_charged  \n",
       "793                 cancel_transfer  \n",
       "783              getting_spare_card  \n",
       "320        card_payment_fee_charged  "
      ]
     },
     "metadata": {},
     "output_type": "display_data"
    }
   ],
   "source": [
    "samples_ranked_by_ambiguous_score = combined_dataset_df.query(\"is_ambiguous\").sort_values(\"ambiguous_score\", ascending=False)\n",
    "\n",
    "columns_to_display = [\"cleanlab_row_ID\", \"text\", \"ambiguous_score\", \"is_ambiguous\", \"given_label\", \"suggested_label\"]\n",
    "display(samples_ranked_by_ambiguous_score.head(5)[columns_to_display])"
   ]
  },
  {
   "cell_type": "markdown",
   "metadata": {},
   "source": [
    "Next, let's look at the outliers detected in the dataset."
   ]
  },
  {
   "cell_type": "code",
   "execution_count": 17,
   "metadata": {},
   "outputs": [
    {
     "data": {
      "text/html": [
       "<div>\n",
       "<style scoped>\n",
       "    .dataframe tbody tr th:only-of-type {\n",
       "        vertical-align: middle;\n",
       "    }\n",
       "\n",
       "    .dataframe tbody tr th {\n",
       "        vertical-align: top;\n",
       "    }\n",
       "\n",
       "    .dataframe thead th {\n",
       "        text-align: right;\n",
       "    }\n",
       "</style>\n",
       "<table border=\"1\" class=\"dataframe\">\n",
       "  <thead>\n",
       "    <tr style=\"text-align: right;\">\n",
       "      <th></th>\n",
       "      <th>cleanlab_row_ID</th>\n",
       "      <th>text</th>\n",
       "      <th>outlier_score</th>\n",
       "      <th>is_outlier</th>\n",
       "      <th>given_label</th>\n",
       "      <th>suggested_label</th>\n",
       "    </tr>\n",
       "  </thead>\n",
       "  <tbody>\n",
       "    <tr>\n",
       "      <th>180</th>\n",
       "      <td>180</td>\n",
       "      <td>p</td>\n",
       "      <td>0.375975</td>\n",
       "      <td>True</td>\n",
       "      <td>getting_spare_card</td>\n",
       "      <td>change_pin</td>\n",
       "    </tr>\n",
       "    <tr>\n",
       "      <th>503</th>\n",
       "      <td>503</td>\n",
       "      <td>cancel transaction</td>\n",
       "      <td>0.276691</td>\n",
       "      <td>True</td>\n",
       "      <td>cancel_transfer</td>\n",
       "      <td>cancel_transfer</td>\n",
       "    </tr>\n",
       "    <tr>\n",
       "      <th>528</th>\n",
       "      <td>528</td>\n",
       "      <td>my sc</td>\n",
       "      <td>0.259906</td>\n",
       "      <td>True</td>\n",
       "      <td>apple_pay_or_google_pay</td>\n",
       "      <td>change_pin</td>\n",
       "    </tr>\n",
       "    <tr>\n",
       "      <th>683</th>\n",
       "      <td>683</td>\n",
       "      <td>bad bank</td>\n",
       "      <td>0.251266</td>\n",
       "      <td>True</td>\n",
       "      <td>apple_pay_or_google_pay</td>\n",
       "      <td>change_pin</td>\n",
       "    </tr>\n",
       "    <tr>\n",
       "      <th>520</th>\n",
       "      <td>520</td>\n",
       "      <td>switch banks</td>\n",
       "      <td>0.242160</td>\n",
       "      <td>True</td>\n",
       "      <td>change_pin</td>\n",
       "      <td>change_pin</td>\n",
       "    </tr>\n",
       "  </tbody>\n",
       "</table>\n",
       "</div>"
      ],
      "text/plain": [
       "     cleanlab_row_ID                text  outlier_score  is_outlier  \\\n",
       "180              180                   p       0.375975        True   \n",
       "503              503  cancel transaction       0.276691        True   \n",
       "528              528               my sc       0.259906        True   \n",
       "683              683            bad bank       0.251266        True   \n",
       "520              520        switch banks       0.242160        True   \n",
       "\n",
       "                 given_label  suggested_label  \n",
       "180       getting_spare_card       change_pin  \n",
       "503          cancel_transfer  cancel_transfer  \n",
       "528  apple_pay_or_google_pay       change_pin  \n",
       "683  apple_pay_or_google_pay       change_pin  \n",
       "520               change_pin       change_pin  "
      ]
     },
     "metadata": {},
     "output_type": "display_data"
    }
   ],
   "source": [
    "samples_ranked_by_outlier_score = combined_dataset_df.query(\"is_outlier\").sort_values(\"outlier_score\", ascending=False)\n",
    "\n",
    "columns_to_display = [\"cleanlab_row_ID\", \"text\", \"outlier_score\", \"is_outlier\", \"given_label\", \"suggested_label\"]\n",
    "display(samples_ranked_by_outlier_score.head(5)[columns_to_display])\n"
   ]
  },
  {
   "cell_type": "markdown",
   "metadata": {},
   "source": [
    "Next, let's look at the near duplicates detected in the dataset."
   ]
  },
  {
   "cell_type": "code",
   "execution_count": 18,
   "metadata": {},
   "outputs": [
    {
     "name": "stdout",
     "output_type": "stream",
     "text": [
      "There are 3 sets of near duplicate texts in the dataset.\n"
     ]
    }
   ],
   "source": [
    "n_near_duplicate_sets = len(set(combined_dataset_df.loc[combined_dataset_df[\"near_duplicate_cluster_id\"].notna(), \"near_duplicate_cluster_id\"]))\n",
    "print(f\"There are {n_near_duplicate_sets} sets of near duplicate texts in the dataset.\")"
   ]
  },
  {
   "cell_type": "markdown",
   "metadata": {},
   "source": [
    "Note that the near duplicate data points each have an associated `near_duplicate_cluster_id` integer.  Data points that share the same IDs are near duplicates of each other, so you can use this column to find the near duplicates of any data point. And remember the near duplicates also include *exact* duplicates as well (which have `near_duplicate_score` = 1).\n",
    " \n",
    "\n",
    "Let's check out the near duplicates with id = 0:"
   ]
  },
  {
   "cell_type": "code",
   "execution_count": 19,
   "metadata": {},
   "outputs": [
    {
     "data": {
      "text/html": [
       "<div>\n",
       "<style scoped>\n",
       "    .dataframe tbody tr th:only-of-type {\n",
       "        vertical-align: middle;\n",
       "    }\n",
       "\n",
       "    .dataframe tbody tr th {\n",
       "        vertical-align: top;\n",
       "    }\n",
       "\n",
       "    .dataframe thead th {\n",
       "        text-align: right;\n",
       "    }\n",
       "</style>\n",
       "<table border=\"1\" class=\"dataframe\">\n",
       "  <thead>\n",
       "    <tr style=\"text-align: right;\">\n",
       "      <th></th>\n",
       "      <th>cleanlab_row_ID</th>\n",
       "      <th>text</th>\n",
       "      <th>near_duplicate_score</th>\n",
       "      <th>is_near_duplicate</th>\n",
       "      <th>given_label</th>\n",
       "    </tr>\n",
       "  </thead>\n",
       "  <tbody>\n",
       "    <tr>\n",
       "      <th>344</th>\n",
       "      <td>344</td>\n",
       "      <td>is there a charge for sending out more cards?</td>\n",
       "      <td>0.997122</td>\n",
       "      <td>True</td>\n",
       "      <td>getting_spare_card</td>\n",
       "    </tr>\n",
       "    <tr>\n",
       "      <th>453</th>\n",
       "      <td>453</td>\n",
       "      <td>is there a fee for sending out more cards?</td>\n",
       "      <td>0.997122</td>\n",
       "      <td>True</td>\n",
       "      <td>getting_spare_card</td>\n",
       "    </tr>\n",
       "  </tbody>\n",
       "</table>\n",
       "</div>"
      ],
      "text/plain": [
       "     cleanlab_row_ID                                           text  \\\n",
       "344              344  is there a charge for sending out more cards?   \n",
       "453              453     is there a fee for sending out more cards?   \n",
       "\n",
       "     near_duplicate_score  is_near_duplicate         given_label  \n",
       "344              0.997122               True  getting_spare_card  \n",
       "453              0.997122               True  getting_spare_card  "
      ]
     },
     "execution_count": 19,
     "metadata": {},
     "output_type": "execute_result"
    }
   ],
   "source": [
    "near_duplicate_cluster_id = 0  # play with this value to see other sets of near duplicates\n",
    "selected_samples_by_near_duplicate_cluster_id = combined_dataset_df.query(\"near_duplicate_cluster_id == @near_duplicate_cluster_id\")\n",
    "\n",
    "columns_to_display = [\"cleanlab_row_ID\", \"text\", \"near_duplicate_score\", \"is_near_duplicate\", \"given_label\"]\n",
    "selected_samples_by_near_duplicate_cluster_id[columns_to_display]"
   ]
  },
  {
   "cell_type": "markdown",
   "metadata": {},
   "source": [
    "## Text issues"
   ]
  },
  {
   "cell_type": "markdown",
   "metadata": {},
   "source": [
    "Cleanlab Studio can also detect potential problems in any text in your dataset, such as the occurrence of toxic language, personally identifiable information (PII), or nonsensical language (e.g. HTML/XML tags and other random strings contaminating text descriptions). The following Cleanlab columns are specific to the text fields in your dataset (see [here](/guide/concepts/cleanlab_columns/#columns-specific-to-text-data) for details).\n",
    "\n",
    "Similar to above, the `is_<issue>` column contains boolean values indicating if a text field has been identified to exhibit a particular issue, and the `<issue>_score` column contains numeric scores between 0 and 1 indicating the severity of this particular issue (1 indicates the most severe instance of the issue).\n",
    "\n",
    "Let's take a closer look at some text issues that have been flagged in our dataset:"
   ]
  },
  {
   "cell_type": "markdown",
   "metadata": {},
   "source": [
    ":::note\n",
    "Text issues detection is currently only provided for *text* modality projects running in *regular* mode.\n",
    ":::"
   ]
  },
  {
   "cell_type": "markdown",
   "metadata": {},
   "source": [
    "Text that contains **toxic language** may have elements of hateful speech and language others may find harmful or aggressive. Identifying toxic language is vital in tasks such as content moderation and LLM training/evaluation, where appropriate action should be taken to ensure safe platforms, chatbots, or other applications depending on this dataset.\n",
    "\n",
    "Here are some examples in this dataset detected to contain toxic language:"
   ]
  },
  {
   "cell_type": "code",
   "execution_count": 20,
   "metadata": {},
   "outputs": [
    {
     "data": {
      "text/html": [
       "<div>\n",
       "<style scoped>\n",
       "    .dataframe tbody tr th:only-of-type {\n",
       "        vertical-align: middle;\n",
       "    }\n",
       "\n",
       "    .dataframe tbody tr th {\n",
       "        vertical-align: top;\n",
       "    }\n",
       "\n",
       "    .dataframe thead th {\n",
       "        text-align: right;\n",
       "    }\n",
       "</style>\n",
       "<table border=\"1\" class=\"dataframe\">\n",
       "  <thead>\n",
       "    <tr style=\"text-align: right;\">\n",
       "      <th></th>\n",
       "      <th>cleanlab_row_ID</th>\n",
       "      <th>text</th>\n",
       "      <th>toxic_score</th>\n",
       "      <th>is_toxic</th>\n",
       "    </tr>\n",
       "  </thead>\n",
       "  <tbody>\n",
       "    <tr>\n",
       "      <th>852</th>\n",
       "      <td>852</td>\n",
       "      <td>help me change my pin your garbage app is broken, the most pathetic bank and absolute worst customer service ever</td>\n",
       "      <td>0.837891</td>\n",
       "      <td>True</td>\n",
       "    </tr>\n",
       "    <tr>\n",
       "      <th>773</th>\n",
       "      <td>773</td>\n",
       "      <td>i'm really sick of your stupid requirements, just issue me the damn credit card!</td>\n",
       "      <td>0.834473</td>\n",
       "      <td>True</td>\n",
       "    </tr>\n",
       "    <tr>\n",
       "      <th>416</th>\n",
       "      <td>416</td>\n",
       "      <td>some f-ing lowlife mugged me, they stole everything including my phone. i can't use your app anymore, what can i do?</td>\n",
       "      <td>0.818848</td>\n",
       "      <td>True</td>\n",
       "    </tr>\n",
       "  </tbody>\n",
       "</table>\n",
       "</div>"
      ],
      "text/plain": [
       "     cleanlab_row_ID  \\\n",
       "852              852   \n",
       "773              773   \n",
       "416              416   \n",
       "\n",
       "                                                                                                                     text  \\\n",
       "852     help me change my pin your garbage app is broken, the most pathetic bank and absolute worst customer service ever   \n",
       "773                                      i'm really sick of your stupid requirements, just issue me the damn credit card!   \n",
       "416  some f-ing lowlife mugged me, they stole everything including my phone. i can't use your app anymore, what can i do?   \n",
       "\n",
       "     toxic_score  is_toxic  \n",
       "852     0.837891      True  \n",
       "773     0.834473      True  \n",
       "416     0.818848      True  "
      ]
     },
     "metadata": {},
     "output_type": "display_data"
    }
   ],
   "source": [
    "toxic_samples = combined_dataset_df.query(\"is_toxic\").sort_values(\"toxic_score\", ascending=False)\n",
    "\n",
    "columns_to_display = [\"cleanlab_row_ID\", \"text\", \"toxic_score\", \"is_toxic\"]\n",
    "display(toxic_samples.head(5)[columns_to_display])"
   ]
  },
  {
   "cell_type": "markdown",
   "metadata": {},
   "source": [
    "**Personally Identifiable Information (PII)** is information that could be used to identify an individual or is otherwise sensitive. Exposing PII can compromise an individual's security and hence should be safeguarded and anonymized/removed if discovered in publicly shared data.\n",
    "\n",
    "The PII issue check also returns two extra columns, `PII_items` and `PII_types`, which lists the specific PII detected in the text and its type.\n",
    "\n",
    "Here are some examples of PII detected in the dataset:"
   ]
  },
  {
   "cell_type": "code",
   "execution_count": 21,
   "metadata": {},
   "outputs": [
    {
     "data": {
      "text/html": [
       "<div>\n",
       "<style scoped>\n",
       "    .dataframe tbody tr th:only-of-type {\n",
       "        vertical-align: middle;\n",
       "    }\n",
       "\n",
       "    .dataframe tbody tr th {\n",
       "        vertical-align: top;\n",
       "    }\n",
       "\n",
       "    .dataframe thead th {\n",
       "        text-align: right;\n",
       "    }\n",
       "</style>\n",
       "<table border=\"1\" class=\"dataframe\">\n",
       "  <thead>\n",
       "    <tr style=\"text-align: right;\">\n",
       "      <th></th>\n",
       "      <th>cleanlab_row_ID</th>\n",
       "      <th>text</th>\n",
       "      <th>PII_score</th>\n",
       "      <th>is_PII</th>\n",
       "      <th>PII_types</th>\n",
       "      <th>PII_items</th>\n",
       "    </tr>\n",
       "  </thead>\n",
       "  <tbody>\n",
       "    <tr>\n",
       "      <th>68</th>\n",
       "      <td>68</td>\n",
       "      <td>my card number is 4012888888881881 how do I know if it is mastercard or visa?</td>\n",
       "      <td>1.0</td>\n",
       "      <td>True</td>\n",
       "      <td>[\"credit card\"]</td>\n",
       "      <td>[\"4012888888881881\"]</td>\n",
       "    </tr>\n",
       "    <tr>\n",
       "      <th>235</th>\n",
       "      <td>235</td>\n",
       "      <td>i just replaced my phone, do i have to make a new account? my username is gavdlin@gmail.com new phone number is 212-978-1213</td>\n",
       "      <td>0.5</td>\n",
       "      <td>True</td>\n",
       "      <td>[\"email\", \"phone number\"]</td>\n",
       "      <td>[\"gavdlin@gmail.com\", \"212-978-1213\"]</td>\n",
       "    </tr>\n",
       "    <tr>\n",
       "      <th>485</th>\n",
       "      <td>485</td>\n",
       "      <td>i no longer have my phone number +44 20 8356 1167, what should i do?</td>\n",
       "      <td>0.5</td>\n",
       "      <td>True</td>\n",
       "      <td>[\"phone number\"]</td>\n",
       "      <td>[\"+44 20 8356 1167\"]</td>\n",
       "    </tr>\n",
       "    <tr>\n",
       "      <th>760</th>\n",
       "      <td>760</td>\n",
       "      <td>i wish to cancel a transfer sent to judmunz@yahoo.com</td>\n",
       "      <td>0.5</td>\n",
       "      <td>True</td>\n",
       "      <td>[\"email\"]</td>\n",
       "      <td>[\"judmunz@yahoo.com\"]</td>\n",
       "    </tr>\n",
       "    <tr>\n",
       "      <th>243</th>\n",
       "      <td>243</td>\n",
       "      <td>i want to choose a new pin, name on account is alvin weber and dob 2/10/1967</td>\n",
       "      <td>0.4</td>\n",
       "      <td>True</td>\n",
       "      <td>[\"date of birth\"]</td>\n",
       "      <td>[\"2/10/1967\"]</td>\n",
       "    </tr>\n",
       "  </tbody>\n",
       "</table>\n",
       "</div>"
      ],
      "text/plain": [
       "     cleanlab_row_ID  \\\n",
       "68                68   \n",
       "235              235   \n",
       "485              485   \n",
       "760              760   \n",
       "243              243   \n",
       "\n",
       "                                                                                                                             text  \\\n",
       "68                                                  my card number is 4012888888881881 how do I know if it is mastercard or visa?   \n",
       "235  i just replaced my phone, do i have to make a new account? my username is gavdlin@gmail.com new phone number is 212-978-1213   \n",
       "485                                                          i no longer have my phone number +44 20 8356 1167, what should i do?   \n",
       "760                                                                         i wish to cancel a transfer sent to judmunz@yahoo.com   \n",
       "243                                                  i want to choose a new pin, name on account is alvin weber and dob 2/10/1967   \n",
       "\n",
       "     PII_score  is_PII                  PII_types  \\\n",
       "68         1.0    True            [\"credit card\"]   \n",
       "235        0.5    True  [\"email\", \"phone number\"]   \n",
       "485        0.5    True           [\"phone number\"]   \n",
       "760        0.5    True                  [\"email\"]   \n",
       "243        0.4    True          [\"date of birth\"]   \n",
       "\n",
       "                                 PII_items  \n",
       "68                    [\"4012888888881881\"]  \n",
       "235  [\"gavdlin@gmail.com\", \"212-978-1213\"]  \n",
       "485                   [\"+44 20 8356 1167\"]  \n",
       "760                  [\"judmunz@yahoo.com\"]  \n",
       "243                          [\"2/10/1967\"]  "
      ]
     },
     "metadata": {},
     "output_type": "display_data"
    }
   ],
   "source": [
    "PII_samples = combined_dataset_df.query(\"is_PII\").sort_values(\"PII_score\", ascending=False)\n",
    "\n",
    "columns_to_display = [\"cleanlab_row_ID\", \"text\", \"PII_score\", \"is_PII\", \"PII_types\", \"PII_items\"]\n",
    "display(PII_samples.head(5)[columns_to_display])"
   ]
  },
  {
   "cell_type": "markdown",
   "metadata": {},
   "source": [
    "**Non-English** text includes text written in a foreign language or containing nonsensical characters (such as HTML/XML tags, identifiers, hashes, random characters). These are important to identify and remove in situations where we want to ensure the text fields in our data are understandable (e.g. if they are text descriptions intended to be read).\n",
    "\n",
    "If a text datapoint is detected to be non-English, Cleanlab Studio will predicted its language in the `predicted_language` column. If an alternative langauge cannot be predicted (this could either represent that the text contains more than one langauge, or that it contains nonsensical characters), the `predicted_language` will contain a null value.\n",
    "\n",
    "Here are some non-English examples detected in the dataset:"
   ]
  },
  {
   "cell_type": "code",
   "execution_count": 22,
   "metadata": {},
   "outputs": [
    {
     "data": {
      "text/html": [
       "<div>\n",
       "<style scoped>\n",
       "    .dataframe tbody tr th:only-of-type {\n",
       "        vertical-align: middle;\n",
       "    }\n",
       "\n",
       "    .dataframe tbody tr th {\n",
       "        vertical-align: top;\n",
       "    }\n",
       "\n",
       "    .dataframe thead th {\n",
       "        text-align: right;\n",
       "    }\n",
       "</style>\n",
       "<table border=\"1\" class=\"dataframe\">\n",
       "  <thead>\n",
       "    <tr style=\"text-align: right;\">\n",
       "      <th></th>\n",
       "      <th>cleanlab_row_ID</th>\n",
       "      <th>text</th>\n",
       "      <th>non_english_score</th>\n",
       "      <th>is_non_english</th>\n",
       "      <th>predicted_language</th>\n",
       "    </tr>\n",
       "  </thead>\n",
       "  <tbody>\n",
       "    <tr>\n",
       "      <th>180</th>\n",
       "      <td>180</td>\n",
       "      <td>p</td>\n",
       "      <td>0.991476</td>\n",
       "      <td>True</td>\n",
       "      <td>&lt;NA&gt;</td>\n",
       "    </tr>\n",
       "    <tr>\n",
       "      <th>755</th>\n",
       "      <td>755</td>\n",
       "      <td>404Error&lt;body&gt;&lt;p&gt;InvalidUsername&lt;/p&gt;&lt;p&gt; InvalidPIN&lt;/p&gt;&lt;/body&gt;</td>\n",
       "      <td>0.949186</td>\n",
       "      <td>True</td>\n",
       "      <td>&lt;NA&gt;</td>\n",
       "    </tr>\n",
       "    <tr>\n",
       "      <th>770</th>\n",
       "      <td>770</td>\n",
       "      <td>la trasferenza al mio conto non \u00e8 stata consentita.</td>\n",
       "      <td>0.866523</td>\n",
       "      <td>True</td>\n",
       "      <td>Italian</td>\n",
       "    </tr>\n",
       "    <tr>\n",
       "      <th>220</th>\n",
       "      <td>220</td>\n",
       "      <td>qu\u00e9 necesito hacer para cancelar una transacci\u00f3n?</td>\n",
       "      <td>0.828047</td>\n",
       "      <td>True</td>\n",
       "      <td>Spanish</td>\n",
       "    </tr>\n",
       "  </tbody>\n",
       "</table>\n",
       "</div>"
      ],
      "text/plain": [
       "     cleanlab_row_ID  \\\n",
       "180              180   \n",
       "755              755   \n",
       "770              770   \n",
       "220              220   \n",
       "\n",
       "                                                              text  \\\n",
       "180                                                              p   \n",
       "755  404Error<body><p>InvalidUsername</p><p> InvalidPIN</p></body>   \n",
       "770            la trasferenza al mio conto non \u00e8 stata consentita.   \n",
       "220              qu\u00e9 necesito hacer para cancelar una transacci\u00f3n?   \n",
       "\n",
       "     non_english_score  is_non_english predicted_language  \n",
       "180           0.991476            True               <NA>  \n",
       "755           0.949186            True               <NA>  \n",
       "770           0.866523            True            Italian  \n",
       "220           0.828047            True            Spanish  "
      ]
     },
     "metadata": {},
     "output_type": "display_data"
    }
   ],
   "source": [
    "non_english_samples = combined_dataset_df.query(\"is_non_english\").sort_values(\"non_english_score\", ascending=False)\n",
    "\n",
    "columns_to_display = [\"cleanlab_row_ID\", \"text\", \"non_english_score\", \"is_non_english\", \"predicted_language\"]\n",
    "display(non_english_samples.head(5)[columns_to_display])"
   ]
  },
  {
   "cell_type": "markdown",
   "metadata": {},
   "source": [
    "**Informal** text contains casual language, slang, or poor writing such as improper grammar or spelling. It's presence may be noteworthy if you are expecting the text in your dataset to be well-written.\n",
    "\n",
    "Here are some examples of informal text detected in the dataset:"
   ]
  },
  {
   "cell_type": "code",
   "execution_count": 23,
   "metadata": {},
   "outputs": [
    {
     "data": {
      "text/html": [
       "<div>\n",
       "<style scoped>\n",
       "    .dataframe tbody tr th:only-of-type {\n",
       "        vertical-align: middle;\n",
       "    }\n",
       "\n",
       "    .dataframe tbody tr th {\n",
       "        vertical-align: top;\n",
       "    }\n",
       "\n",
       "    .dataframe thead th {\n",
       "        text-align: right;\n",
       "    }\n",
       "</style>\n",
       "<table border=\"1\" class=\"dataframe\">\n",
       "  <thead>\n",
       "    <tr style=\"text-align: right;\">\n",
       "      <th></th>\n",
       "      <th>cleanlab_row_ID</th>\n",
       "      <th>text</th>\n",
       "      <th>informal_score</th>\n",
       "      <th>is_informal</th>\n",
       "    </tr>\n",
       "  </thead>\n",
       "  <tbody>\n",
       "    <tr>\n",
       "      <th>528</th>\n",
       "      <td>528</td>\n",
       "      <td>my sc</td>\n",
       "      <td>0.701533</td>\n",
       "      <td>True</td>\n",
       "    </tr>\n",
       "    <tr>\n",
       "      <th>720</th>\n",
       "      <td>720</td>\n",
       "      <td>google pay top up not working.</td>\n",
       "      <td>0.700279</td>\n",
       "      <td>True</td>\n",
       "    </tr>\n",
       "    <tr>\n",
       "      <th>192</th>\n",
       "      <td>192</td>\n",
       "      <td>which atm's am i able to change my pin?</td>\n",
       "      <td>0.694062</td>\n",
       "      <td>True</td>\n",
       "    </tr>\n",
       "    <tr>\n",
       "      <th>564</th>\n",
       "      <td>564</td>\n",
       "      <td>i do i top up from my apple watch?</td>\n",
       "      <td>0.674827</td>\n",
       "      <td>True</td>\n",
       "    </tr>\n",
       "    <tr>\n",
       "      <th>476</th>\n",
       "      <td>476</td>\n",
       "      <td>google play top up help?</td>\n",
       "      <td>0.671472</td>\n",
       "      <td>True</td>\n",
       "    </tr>\n",
       "  </tbody>\n",
       "</table>\n",
       "</div>"
      ],
      "text/plain": [
       "     cleanlab_row_ID                                     text  informal_score  \\\n",
       "528              528                                    my sc        0.701533   \n",
       "720              720           google pay top up not working.        0.700279   \n",
       "192              192  which atm's am i able to change my pin?        0.694062   \n",
       "564              564       i do i top up from my apple watch?        0.674827   \n",
       "476              476                 google play top up help?        0.671472   \n",
       "\n",
       "     is_informal  \n",
       "528         True  \n",
       "720         True  \n",
       "192         True  \n",
       "564         True  \n",
       "476         True  "
      ]
     },
     "metadata": {},
     "output_type": "display_data"
    }
   ],
   "source": [
    "informal_samples = combined_dataset_df.query(\"is_informal\").sort_values(\"informal_score\", ascending=False)\n",
    "\n",
    "columns_to_display = [\"cleanlab_row_ID\", \"text\", \"informal_score\", \"is_informal\"]\n",
    "display(informal_samples.head(5)[columns_to_display])"
   ]
  },
  {
   "cell_type": "markdown",
   "metadata": {},
   "source": [
    "## Improve the dataset based on the detected issues"
   ]
  },
  {
   "cell_type": "markdown",
   "metadata": {},
   "source": [
    "Since the results of this analysis appear reasonable, let's use the Cleanlab columns to improve the quality of our dataset. For your own datasets, which actions you should take to remedy the detected issues will depend on what you are using the data for. No action may be the best choice for certain datasets, we caution against blindly copying the actions we perform below.\n",
    "\n",
    "For data marked as `label_issue`, we create a new `corrected_label` column, which will be the given label for data without detected label issues, and the `suggested_label` for data with detected label issues."
   ]
  },
  {
   "cell_type": "code",
   "execution_count": 24,
   "metadata": {},
   "outputs": [],
   "source": [
    "corrected_label = np.where(combined_dataset_df[\"is_label_issue\"],\n",
    "                           combined_dataset_df[\"suggested_label\"],\n",
    "                           combined_dataset_df[\"given_label\"])"
   ]
  },
  {
   "cell_type": "markdown",
   "metadata": {},
   "source": [
    "For data marked as outlier or ambiguous, we will simply exclude them from our dataset. Here we create a boolean vector `rows_to_exclude` to track which data points will be excluded."
   ]
  },
  {
   "cell_type": "code",
   "execution_count": 25,
   "metadata": {},
   "outputs": [],
   "source": [
    "# create an exclude column to keep track of the excluded data\n",
    "rows_to_exclude = combined_dataset_df[\"is_outlier\"] | combined_dataset_df[\"is_ambiguous\"]"
   ]
  },
  {
   "cell_type": "markdown",
   "metadata": {},
   "source": [
    "For each set of near duplicates, we only want to keep one of the data points that share a common `near_duplicate_cluster_id` (so that the resulting dataset will no longer contain any near duplicates)."
   ]
  },
  {
   "cell_type": "code",
   "execution_count": 26,
   "metadata": {},
   "outputs": [],
   "source": [
    "near_duplicates_to_exclude = combined_dataset_df['is_near_duplicate'] & combined_dataset_df['near_duplicate_cluster_id'].duplicated(keep='first')\n",
    "\n",
    "rows_to_exclude |= near_duplicates_to_exclude"
   ]
  },
  {
   "cell_type": "markdown",
   "metadata": {},
   "source": [
    "Note we didn't exclude the data with text issues here but you might want to in your applications. We can check the total amount of excluded data:"
   ]
  },
  {
   "cell_type": "code",
   "execution_count": 27,
   "metadata": {},
   "outputs": [
    {
     "name": "stdout",
     "output_type": "stream",
     "text": [
      "Excluding 28 text examples (out of 1000)\n"
     ]
    }
   ],
   "source": [
    "print(f\"Excluding {rows_to_exclude.sum()} text examples (out of {len(combined_dataset_df)})\")"
   ]
  },
  {
   "cell_type": "markdown",
   "metadata": {},
   "source": [
    "Finally, let's actually make a new version of our dataset with these changes. \n",
    "\n",
    "We craft a new dataframe from the original, applying corrections and exclusions, and then use this dataframe to save the new dataset in a separate CSV file. The new dataset is a CSV file that has the same format as our original dataset -- you can use it as a plug-in replacement to get more reliable results in your ML and Analytics pipelines, without any change in your existing modeling code."
   ]
  },
  {
   "cell_type": "code",
   "execution_count": 28,
   "metadata": {},
   "outputs": [],
   "source": [
    "new_dataset_filename = \"improved_dataset.csv\""
   ]
  },
  {
   "cell_type": "code",
   "execution_count": null,
   "metadata": {},
   "outputs": [],
   "source": [
    "# Fetch the original dataset\n",
    "fixed_dataset = combined_dataset_df[[\"text\"]].copy()\n",
    "\n",
    "# Add the corrected label column \n",
    "fixed_dataset[\"label\"] = corrected_label\n",
    "\n",
    "# Automatically exclude selected rows\n",
    "fixed_dataset = fixed_dataset[~rows_to_exclude]\n",
    "\n",
    "# Check if the file exists before saving\n",
    "if os.path.exists(new_dataset_filename):\n",
    "    raise ValueError(f\"File {new_dataset_filename} already exists. Cannot overwite so please delete it first, or specify a different new_dataset_filename.\")\n",
    "else:\n",
    "    # Save the adjusted dataset to a CSV file\n",
    "    fixed_dataset.to_csv(new_dataset_filename, index=False)\n",
    "    print(f\"Adjusted dataset saved to {new_dataset_filename}\")"
   ]
  }
 ],
 "metadata": {
  "kernelspec": {
   "display_name": "Python 3 (ipykernel)",
   "language": "python",
   "name": "python3"
  },
  "language_info": {
   "codemirror_mode": {
    "name": "ipython",
    "version": 3
   },
   "file_extension": ".py",
   "mimetype": "text/x-python",
   "name": "python",
   "nbconvert_exporter": "python",
   "pygments_lexer": "ipython3",
   "version": "3.9.6"
  }
 },
 "nbformat": 4,
 "nbformat_minor": 4
}