{
 "cells": [
  {
   "cell_type": "markdown",
   "metadata": {},
   "source": [
    "# Trustworthy Language Model (TLM)"
   ]
  },
  {
   "cell_type": "markdown",
   "metadata": {},
   "source": [
    ":::info\n",
    "\n",
    "This feature is in beta, and requires a Cleanlab Studio API Token to use. To get the API token, you must first create a Cleanlab Studio account and access the account page [here](https://app.cleanlab.ai/account). Additional instructions on creating your account and getting the API token can be found in the [Cleanlab Studio Python API Guide](/guide/quickstart/api/#creating-an-api-key).\n",
    "\n",
    "For higher token limits, email: [sales@cleanlab.ai](mailto:sales@cleanlab.ai)\n",
    "\n",
    ":::"
   ]
  },
  {
   "cell_type": "markdown",
   "metadata": {},
   "source": [
    "Large Language Models can act as powerful reasoning engines for solving problems and answering questions, but they are prone to \u201challucinations\u201d, where they sometimes produce incorrect or nonsensical answers. With standard LLM APIs, it\u2019s hard to automatically tell whether an output is good or not.\n",
    "\n",
    "Cleanlab TLM is a more reliable LLM that gives high-quality outputs and indicates when it is unsure of the answer to a question, making it suitable for applications where unchecked hallucinations are a show-stopper.\n",
    "\n",
    "<img src=\"https://raw.githubusercontent.com/cleanlab/assets/master/cleanlab/tlm-chat.svg\" alt=\"TLM chat interface\" width=\"600\"/>\n",
    "\n",
    "For example, with a standard LLM:\n",
    "\n",
    "> **Question**: Which constitutional amendment would be violated if a police officer placed a GPS tracker on an individual's car without a warrant? <br/>\n",
    "**Answer**: **The Fourth Amendment.**\n",
    "> \n",
    "> \n",
    "> **Question**: What is 57834849 + 38833747? <br/>\n",
    "> **Answer**: **96668696**\n",
    "\n",
    "It\u2019s difficult to tell when the LLM is answering confidently, and when it is not. However, with Cleanlab Trustworthy LLM, the answers come with a **confidence score**. This can guide how to use the output from the LLM (e.g. use it directly if the score is above a certain threshold, otherwise flag the response for human review):\n",
    "\n",
    "> **Question**: Which constitutional amendment would be violated if a police officer placed a GPS tracker on an individual's car without a warrant? <br/>\n",
    "> **Answer**: <span style={{color: '#448361'}}>The Fourth Amendment.</span> <br/>\n",
    "> **Confidence**: `0.765`\n",
    "> \n",
    "> **Question**: What is 57834849 + 38833747? <br/>\n",
    "> **Answer**: <span style={{color: '#D44C47'}}>96668696</span> <br/>\n",
    "> **Confidence**: `0.245`\n",
    "> \n",
    "> **Question**: What is 100 + 300? <br/>\n",
    "> **Answer**: <span style={{color: '#448361'}}>400</span> <br/>\n",
    "> **Confidence**: `0.938`\n",
    "> \n",
    "> **Question**: Which part of the human body produces insulin? <br/>\n",
    "> **Answer**: <span style={{color: '#448361'}}>the pancreas</span> <br/>\n",
    "> **Confidence**: `0.759`\n",
    "> \n",
    "> **Question**: What color are the two stars on the national flag of Syria? <br/>\n",
    "> **Answer**: <span style={{color: '#D44C47'}}>red and black</span> <br/>\n",
    "> **Confidence**: `0.173`"
   ]
  },
  {
   "cell_type": "markdown",
   "metadata": {},
   "source": [
    "## Installing Cleanlab TLM\n",
    "\n",
    "Using TLM requires a [Cleanlab Studio](https://app.cleanlab.ai/) account. Sign up for one [here](https://cleanlab.ai/signup/) if you haven't yet. If you've already signed up, check your email for a personal login link.\n",
    "\n",
    "The `cleanlab-studio` client can be installed using pip:"
   ]
  },
  {
   "cell_type": "code",
   "execution_count": 2,
   "metadata": {},
   "outputs": [],
   "source": [
    "%pip install cleanlab-studio"
   ]
  },
  {
   "cell_type": "code",
   "execution_count": null,
   "metadata": {},
   "outputs": [],
   "source": [
    "from cleanlab_studio import Studio"
   ]
  },
  {
   "cell_type": "markdown",
   "metadata": {},
   "source": [
    "## Using the TLM\n",
    "\n",
    "You can query the TLM as follows:"
   ]
  },
  {
   "cell_type": "code",
   "execution_count": null,
   "metadata": {},
   "outputs": [],
   "source": [
    "# Get API key from here: https://app.cleanlab.ai/account after creating a Cleanlab Studio account.\n",
    "# Instructions to create account can be found under Guide -> Quickstart -> Cleanlab Studio Python API -> Creating an API Key\n",
    "\n",
    "studio = Studio(\"<API key>\")\n",
    "tlm = studio.TLM()\n",
    "\n",
    "output = tlm.prompt(\"<your prompt>\")"
   ]
  },
  {
   "cell_type": "markdown",
   "metadata": {},
   "source": [
    "The TLM\u2019s `output` will be a dict with two fields:\n",
    "\n",
    "```\n",
    "{\n",
    "  \"response\": \"<response>\"  # string like you'd get back from any standard LLM\n",
    "  \"confidence_score\": \"<confidence_score>\"  # numerical value between 0-1\n",
    "}\n",
    "```\n",
    "\n",
    "The score quantifies how confident you can be that the response is good (higher values indicate greater confidence). These scores combine estimates of both *aleatoric* and *epistemic* uncertainty to provide an overall gauge of confidence.  You may find the TLM most useful when your prompts take the form of a question with a definite answer (in which case the returned score quantifies our confidence that the LLM response is *correct*). Boost the *reliability* of your Generative AI applications by adding contingency plans to override LLM answers whose confidence falls below some threshold (e.g., route to human for answer, append disclaimer that answer is uncertain, revert to a default baseline answer, or request a prompt with more information/context)."
   ]
  },
  {
   "cell_type": "markdown",
   "metadata": {},
   "source": [
    "## Advanced Usage\n",
    "\n",
    "To control reliability/compute trade-offs, you can pass in different **quality presets** to the TLM. The default preset is `medium`.  For some use cases, this will be enough, but using the highest quality presets will produce *better* model responses and *more reliable* associated confidence scores (at the cost of extra computation)."
   ]
  },
  {
   "cell_type": "code",
   "execution_count": null,
   "metadata": {},
   "outputs": [],
   "source": [
    "tlm = studio.TLM(\n",
    "    quality_preset=\"high\"\n",
    ")  # supported quality presets are: 'best','high','medium','low','base'\n",
    "output = tlm.prompt(\"<your prompt>\")"
   ]
  },
  {
   "cell_type": "markdown",
   "metadata": {},
   "source": [
    "**Details about the TLM quality presets**: \n",
    "\n",
    "- `best` and `high` will improve the LLM responses themselves, with `best` also returning the most reliable confidence scores.\n",
    "- `medium` and `low` will return standard LLM responses along with associated confidence scores, with `medium` producing more reliable confidence scores than `low`.\n",
    "- `base` will not return any confidence score, just an output response. This option is similar to using your favorite LLM. It helps you to compare the enhanced responses from `best` and `high` quality presets with a standard LLM, as well as the value of the additional confidence scores returned by TLM.\n",
    "\n",
    "**Benchmark:**  Accuracy of answers from OpenAI LLM (GPT3.5-Turbo) vs. TLM with quality_preset=`best` (across 4 different Q&A datasets from different domains)\n",
    "\n",
    "| Dataset | OpenAI LLM | Cleanlab TLM |\n",
    "| --- | --- | --- |\n",
    "| GSM8K | 47% | 69% |\n",
    "| CSQA | 72% | 73% |\n",
    "| SVAMP | 75% | 82% |\n",
    "| TriviaQA | 73% | 76% |\n",
    "\n",
    "These benchmarks also reveal that, in the vast majority of cases, the confidence scores are lower for incorrect TLM answers than correct answers. Thus you can safely rely on these scores to alert you about LLM responses that are untrustworthy."
   ]
  },
  {
   "cell_type": "markdown",
   "metadata": {},
   "source": [
    "## Scoring the confidence of a given response\n",
    "\n",
    "You can also use TLM to compute a confidence score for any response to a given prompt. The response does not need to come from TLM, and could be human-written. Simply pass a prompt response pair to the TLM and it will return a numerical score quantifying our confidence that this is a *good* response. "
   ]
  },
  {
   "cell_type": "code",
   "execution_count": null,
   "metadata": {},
   "outputs": [],
   "source": [
    "confidence_score = tlm.get_confidence_score(\"<your prompt>\", response=\"<your response>\")"
   ]
  },
  {
   "cell_type": "markdown",
   "metadata": {},
   "source": [
    "## Application: Determining which LLM responses are untrustworthy\n",
    "\n",
    "To show how the TLM confidence scores can catch low quality model outputs, let's consider a dataset of various Customer Service requests. We can use each customer request as a prompt for the TLM (just as you would with any other LLM) and record its response and associated confidence score."
   ]
  },
  {
   "cell_type": "code",
   "execution_count": 2,
   "metadata": {},
   "outputs": [],
   "source": [
    "import pandas as pd\n",
    "from tqdm import tqdm \n",
    "\n",
    "pd.set_option(\"display.max_columns\", None)\n",
    "pd.set_option(\"display.max_colwidth\", None)"
   ]
  },
  {
   "cell_type": "code",
   "execution_count": null,
   "metadata": {},
   "outputs": [],
   "source": [
    "!wget -nc 'https://cleanlab-public.s3.amazonaws.com/Datasets/chatbot_example_prompts.csv'"
   ]
  },
  {
   "cell_type": "code",
   "execution_count": 3,
   "metadata": {},
   "outputs": [
    {
     "data": {
      "text/html": [
       "<div>\n",
       "<style scoped>\n",
       "    .dataframe tbody tr th:only-of-type {\n",
       "        vertical-align: middle;\n",
       "    }\n",
       "\n",
       "    .dataframe tbody tr th {\n",
       "        vertical-align: top;\n",
       "    }\n",
       "\n",
       "    .dataframe thead th {\n",
       "        text-align: right;\n",
       "    }\n",
       "</style>\n",
       "<table border=\"1\" class=\"dataframe\">\n",
       "  <thead>\n",
       "    <tr style=\"text-align: right;\">\n",
       "      <th></th>\n",
       "      <th>prompt</th>\n",
       "    </tr>\n",
       "  </thead>\n",
       "  <tbody>\n",
       "    <tr>\n",
       "      <th>0</th>\n",
       "      <td>assistance to file a claim against ur company</td>\n",
       "    </tr>\n",
       "    <tr>\n",
       "      <th>1</th>\n",
       "      <td>find information about the termination of my {{Account Type}} account</td>\n",
       "    </tr>\n",
       "  </tbody>\n",
       "</table>\n",
       "</div>"
      ],
      "text/plain": [
       "                                                                  prompt\n",
       "0                          assistance to file a claim against ur company\n",
       "1  find information about the termination of my {{Account Type}} account"
      ]
     },
     "execution_count": 3,
     "metadata": {},
     "output_type": "execute_result"
    }
   ],
   "source": [
    "chatbot_df = pd.read_csv(\"chatbot_example_prompts.csv\")\n",
    "chatbot_df.head(2)"
   ]
  },
  {
   "cell_type": "code",
   "execution_count": 4,
   "metadata": {},
   "outputs": [
    {
     "name": "stderr",
     "output_type": "stream",
     "text": [
      "14it [03:21, 14.42s/it]\n"
     ]
    }
   ],
   "source": [
    "tlm = studio.TLM()\n",
    "idx_start = 0  # In case TLM call times-out, can resume loop at this data point\n",
    "\n",
    "results = chatbot_df.copy(deep=True)  # Store outputs here\n",
    "results[\"response\"] = None\n",
    "results[\"confidence_score\"] = None\n",
    "\n",
    "for idx, row in tqdm(results.iloc[idx_start:].iterrows()):\n",
    "    output = tlm.prompt(row[\"prompt\"])\n",
    "    results.loc[idx, \"response\"] = output[\"response\"]\n",
    "    results.loc[idx, \"confidence_score\"] = output[\"confidence_score\"]"
   ]
  },
  {
   "cell_type": "code",
   "execution_count": 5,
   "metadata": {},
   "outputs": [
    {
     "data": {
      "text/html": [
       "<div>\n",
       "<style scoped>\n",
       "    .dataframe tbody tr th:only-of-type {\n",
       "        vertical-align: middle;\n",
       "    }\n",
       "\n",
       "    .dataframe tbody tr th {\n",
       "        vertical-align: top;\n",
       "    }\n",
       "\n",
       "    .dataframe thead th {\n",
       "        text-align: right;\n",
       "    }\n",
       "</style>\n",
       "<table border=\"1\" class=\"dataframe\">\n",
       "  <thead>\n",
       "    <tr style=\"text-align: right;\">\n",
       "      <th></th>\n",
       "      <th>prompt</th>\n",
       "      <th>response</th>\n",
       "      <th>confidence_score</th>\n",
       "    </tr>\n",
       "  </thead>\n",
       "  <tbody>\n",
       "    <tr>\n",
       "      <th>0</th>\n",
       "      <td>assistance to file a claim against ur company</td>\n",
       "      <td>I'm sorry to hear that you're having issues with our company. However, as an AI language model, I don't have access to specific company information or the ability to file claims on behalf of individuals. \\n\\nTo file a claim against our company, I recommend following these general steps:\\n\\n1. Review the terms and conditions: Familiarize yourself with the terms and conditions of the product or service you're dissatisfied with. This will help you understand your rights and any potential remedies available to you.\\n\\n2. Contact customer support: Reach out to our company's customer support department. Explain the issue you're facing and provide any relevant details or documentation. They may be able to assist you in resolving the problem without needing to file a formal claim.\\n\\n3. Gather evidence: Collect any evidence that supports your claim, such as emails, receipts, contracts, or photographs. This documentation will strengthen your case if you need to escalate the matter further.\\n\\n4. Research dispute resolution options: Depending on your jurisdiction and the nature of the claim, there may be various dispute resolution options available to you. This could include mediation, arbitration, or small claims court. Research the appropriate channels for your situation.\\n\\n5. Seek legal advice: If the issue remains unresolved or you believe legal action is necessary, consult with a lawyer who specializes in the relevant area of law. They can provide guidance on the best course of action and help you navigate the claims process.\\n\\nRemember, these steps are general guidelines, and the specific process may vary depending on your location and the nature of your claim. It's always advisable to consult with professionals who can provide personalized advice based on your circumstances.</td>\n",
       "      <td>0.901065</td>\n",
       "    </tr>\n",
       "    <tr>\n",
       "      <th>1</th>\n",
       "      <td>find information about the termination of my {{Account Type}} account</td>\n",
       "      <td>I'm sorry, but I can't assist with that.</td>\n",
       "      <td>0.509631</td>\n",
       "    </tr>\n",
       "  </tbody>\n",
       "</table>\n",
       "</div>"
      ],
      "text/plain": [
       "                                                                  prompt  \\\n",
       "0                          assistance to file a claim against ur company   \n",
       "1  find information about the termination of my {{Account Type}} account   \n",
       "\n",
       "                                                                                                                                                                                                                                                                                                                                                                                                                                                                                                                                                                                                                                                                                                                                                                                                                                                                                                                                                                                                                                                                                                                                                                                                                                                                                                                                                                                                                                                                                                                                                                                                                                                                                                                                                                                                                                                                       response  \\\n",
       "0  I'm sorry to hear that you're having issues with our company. However, as an AI language model, I don't have access to specific company information or the ability to file claims on behalf of individuals. \\n\\nTo file a claim against our company, I recommend following these general steps:\\n\\n1. Review the terms and conditions: Familiarize yourself with the terms and conditions of the product or service you're dissatisfied with. This will help you understand your rights and any potential remedies available to you.\\n\\n2. Contact customer support: Reach out to our company's customer support department. Explain the issue you're facing and provide any relevant details or documentation. They may be able to assist you in resolving the problem without needing to file a formal claim.\\n\\n3. Gather evidence: Collect any evidence that supports your claim, such as emails, receipts, contracts, or photographs. This documentation will strengthen your case if you need to escalate the matter further.\\n\\n4. Research dispute resolution options: Depending on your jurisdiction and the nature of the claim, there may be various dispute resolution options available to you. This could include mediation, arbitration, or small claims court. Research the appropriate channels for your situation.\\n\\n5. Seek legal advice: If the issue remains unresolved or you believe legal action is necessary, consult with a lawyer who specializes in the relevant area of law. They can provide guidance on the best course of action and help you navigate the claims process.\\n\\nRemember, these steps are general guidelines, and the specific process may vary depending on your location and the nature of your claim. It's always advisable to consult with professionals who can provide personalized advice based on your circumstances.   \n",
       "1                                                                                                                                                                                                                                                                                                                                                                                                                                                                                                                                                                                                                                                                                                                                                                                                                                                                                                                                                                                                                                                                                                                                                                                                                                                                                                                                                                                                                                                                                                                                                                                                                                                                                                                                                                                                                                      I'm sorry, but I can't assist with that.   \n",
       "\n",
       "  confidence_score  \n",
       "0         0.901065  \n",
       "1         0.509631  "
      ]
     },
     "execution_count": 5,
     "metadata": {},
     "output_type": "execute_result"
    }
   ],
   "source": [
    "results.head(2)"
   ]
  },
  {
   "cell_type": "markdown",
   "metadata": {},
   "source": [
    "To see which model responses are least trustworthy, let's sort the data by the confidence scores. Observe how model responses with the lowest scores often convey less correct or helpful answers. The model responses with the highest scores are unambiguously good answers. Now we can automatically detect which LLM responses are confidently good vs. not!"
   ]
  },
  {
   "cell_type": "code",
   "execution_count": 6,
   "metadata": {},
   "outputs": [
    {
     "data": {
      "text/html": [
       "<div>\n",
       "<style scoped>\n",
       "    .dataframe tbody tr th:only-of-type {\n",
       "        vertical-align: middle;\n",
       "    }\n",
       "\n",
       "    .dataframe tbody tr th {\n",
       "        vertical-align: top;\n",
       "    }\n",
       "\n",
       "    .dataframe thead th {\n",
       "        text-align: right;\n",
       "    }\n",
       "</style>\n",
       "<table border=\"1\" class=\"dataframe\">\n",
       "  <thead>\n",
       "    <tr style=\"text-align: right;\">\n",
       "      <th></th>\n",
       "      <th>prompt</th>\n",
       "      <th>response</th>\n",
       "      <th>confidence_score</th>\n",
       "    </tr>\n",
       "  </thead>\n",
       "  <tbody>\n",
       "    <tr>\n",
       "      <th>13</th>\n",
       "      <td>where can i get the invoice #12588</td>\n",
       "      <td>I'm sorry, but as an AI language model, I don't have access to personal data about individuals unless it has been shared with me during our conversation. I can't help you with specific invoice numbers or provide access to them. My primary function is to provide information and answer questions to the best of my knowledge and abilities.</td>\n",
       "      <td>0.388495</td>\n",
       "    </tr>\n",
       "    <tr>\n",
       "      <th>1</th>\n",
       "      <td>find information about the termination of my {{Account Type}} account</td>\n",
       "      <td>I'm sorry, but I can't assist with that.</td>\n",
       "      <td>0.509631</td>\n",
       "    </tr>\n",
       "    <tr>\n",
       "      <th>10</th>\n",
       "      <td>i need assistance to see how soon can i expect the article</td>\n",
       "      <td>I'm sorry, but I'm not sure what article you are referring to. Could you please provide more information or clarify your request?</td>\n",
       "      <td>0.570822</td>\n",
       "    </tr>\n",
       "  </tbody>\n",
       "</table>\n",
       "</div>"
      ],
      "text/plain": [
       "                                                                   prompt  \\\n",
       "13                                     where can i get the invoice #12588   \n",
       "1   find information about the termination of my {{Account Type}} account   \n",
       "10             i need assistance to see how soon can i expect the article   \n",
       "\n",
       "                                                                                                                                                                                                                                                                                                                                             response  \\\n",
       "13  I'm sorry, but as an AI language model, I don't have access to personal data about individuals unless it has been shared with me during our conversation. I can't help you with specific invoice numbers or provide access to them. My primary function is to provide information and answer questions to the best of my knowledge and abilities.   \n",
       "1                                                                                                                                                                                                                                                                                                            I'm sorry, but I can't assist with that.   \n",
       "10                                                                                                                                                                                                                  I'm sorry, but I'm not sure what article you are referring to. Could you please provide more information or clarify your request?   \n",
       "\n",
       "   confidence_score  \n",
       "13         0.388495  \n",
       "1          0.509631  \n",
       "10         0.570822  "
      ]
     },
     "execution_count": 6,
     "metadata": {},
     "output_type": "execute_result"
    }
   ],
   "source": [
    "results.sort_values(by=\"confidence_score\").head(3)"
   ]
  },
  {
   "cell_type": "code",
   "execution_count": 7,
   "metadata": {},
   "outputs": [
    {
     "data": {
      "text/html": [
       "<div>\n",
       "<style scoped>\n",
       "    .dataframe tbody tr th:only-of-type {\n",
       "        vertical-align: middle;\n",
       "    }\n",
       "\n",
       "    .dataframe tbody tr th {\n",
       "        vertical-align: top;\n",
       "    }\n",
       "\n",
       "    .dataframe thead th {\n",
       "        text-align: right;\n",
       "    }\n",
       "</style>\n",
       "<table border=\"1\" class=\"dataframe\">\n",
       "  <thead>\n",
       "    <tr style=\"text-align: right;\">\n",
       "      <th></th>\n",
       "      <th>prompt</th>\n",
       "      <th>response</th>\n",
       "      <th>confidence_score</th>\n",
       "    </tr>\n",
       "  </thead>\n",
       "  <tbody>\n",
       "    <tr>\n",
       "      <th>4</th>\n",
       "      <td>how to make a consumer claim against ur company</td>\n",
       "      <td>If you want to make a consumer claim against a company, follow these steps:\\n\\n1. Gather evidence: Collect all relevant documents, such as receipts, invoices, contracts, emails, or any other proof of your purchase or interaction with the company. This evidence will support your claim.\\n\\n2. Review company policies: Familiarize yourself with the company's refund, return, or complaint policies. This will help you understand your rights as a consumer and the company's obligations.\\n\\n3. Contact customer service: Reach out to the company's customer service department via phone, email, or their website's contact form. Explain your issue clearly and concisely, providing all necessary details and attaching any supporting documents. Request a resolution or compensation for the problem you encountered.\\n\\n4. Follow up: If you don't receive a satisfactory response within a reasonable timeframe, follow up with the company. Be persistent but polite, and ask for updates on the progress of your claim.\\n\\n5. Escalate the complaint: If the company fails to address your concerns or provide a suitable resolution, consider escalating your complaint. Look for alternative contact methods, such as a dedicated complaints department or a higher-level manager. Some companies may have a specific process for escalating complaints, so check their website or customer service information for guidance.\\n\\n6. Seek external assistance: If your attempts to resolve the issue directly with the company are unsuccessful, you can seek external assistance. Contact consumer protection agencies, regulatory bodies, or ombudsman services that handle consumer complaints in your country or region. They can provide guidance and potentially mediate between you and the company.\\n\\n7. Legal action: As a last resort, you may consider taking legal action against the company. Consult with a lawyer or seek advice from a legal aid organization to understand your options and the potential costs involved.\\n\\nRemember to remain calm, assertive, and persistent throughout the process. Keep records of all communication and interactions with the company, as these will be valuable if you need to escalate the claim further.</td>\n",
       "      <td>0.937677</td>\n",
       "    </tr>\n",
       "    <tr>\n",
       "      <th>8</th>\n",
       "      <td>I have paid {{Currency Symbol}}{{Refund Amount}} for this article, how to obtain a rebate?</td>\n",
       "      <td>To obtain a rebate for the article you purchased, you can follow these steps:\\n\\n1. Check the terms and conditions: Review the terms and conditions of the purchase to ensure that a rebate is offered for the specific article you bought. Look for any eligibility criteria or time limitations mentioned.\\n\\n2. Gather required information: Collect all the necessary information related to your purchase, such as the receipt or proof of payment, the article's details, and any other documentation required for the rebate process.\\n\\n3. Contact the seller or manufacturer: Reach out to the seller or manufacturer of the article and inquire about their rebate process. This can usually be done through customer support channels, such as phone, email, or online chat.\\n\\n4. Submit the rebate request: Follow the instructions provided by the seller or manufacturer to submit your rebate request. This may involve filling out a form, providing the required information, and attaching any necessary documentation.\\n\\n5. Wait for processing: After submitting your rebate request, allow some time for it to be processed. The processing time can vary depending on the seller or manufacturer, so be patient.\\n\\n6. Follow up if needed: If you haven't received any communication regarding your rebate within the specified time frame, consider following up with the seller or manufacturer to inquire about the status of your request.\\n\\nRemember to keep copies of all documentation and correspondence related to your rebate request for future reference.</td>\n",
       "      <td>0.93817</td>\n",
       "    </tr>\n",
       "    <tr>\n",
       "      <th>5</th>\n",
       "      <td>i cannot make a payment where do i report an error</td>\n",
       "      <td>If you are unable to make a payment or encounter an error while making a payment, you should report the issue to the relevant party or institution involved. Here are a few steps you can take:\\n\\n1. Contact the company or organization you are trying to make the payment to. They may have a customer service department or helpline that can assist you with troubleshooting the issue.\\n\\n2. Check if there is an online support portal or help center provided by the payment service or platform you are using. Many payment providers have dedicated support channels where you can report errors or seek assistance.\\n\\n3. Reach out to your bank or financial institution if the payment involves your bank account or credit card. They can help investigate any potential issues or errors on their end.\\n\\n4. If you are using a specific payment app or platform, such as PayPal or Venmo, they usually have customer support options available. Look for their contact information on their website or within the app itself.\\n\\n5. In some cases, you may need to report the error to a regulatory authority or consumer protection agency. This step is usually taken if you suspect fraudulent activity or if you have exhausted all other options without resolution.\\n\\nRemember to provide as much detail as possible when reporting the error, including any error messages received, transaction details, and relevant account information.</td>\n",
       "      <td>0.938837</td>\n",
       "    </tr>\n",
       "  </tbody>\n",
       "</table>\n",
       "</div>"
      ],
      "text/plain": [
       "                                                                                       prompt  \\\n",
       "4                                             how to make a consumer claim against ur company   \n",
       "8  I have paid {{Currency Symbol}}{{Refund Amount}} for this article, how to obtain a rebate?   \n",
       "5                                          i cannot make a payment where do i report an error   \n",
       "\n",
       "                                                                                                                                                                                                                                                                                                                                                                                                                                                                                                                                                                                                                                                                                                                                                                                                                                                                                                                                                                                                                                                                                                                                                                                                                                                                                                                                                                                                                                                                                                                                                                                                                                                                                                                                                                                                                                                                                                                                                                                                                                                                                                                                                                                                                                                                                  response  \\\n",
       "4  If you want to make a consumer claim against a company, follow these steps:\\n\\n1. Gather evidence: Collect all relevant documents, such as receipts, invoices, contracts, emails, or any other proof of your purchase or interaction with the company. This evidence will support your claim.\\n\\n2. Review company policies: Familiarize yourself with the company's refund, return, or complaint policies. This will help you understand your rights as a consumer and the company's obligations.\\n\\n3. Contact customer service: Reach out to the company's customer service department via phone, email, or their website's contact form. Explain your issue clearly and concisely, providing all necessary details and attaching any supporting documents. Request a resolution or compensation for the problem you encountered.\\n\\n4. Follow up: If you don't receive a satisfactory response within a reasonable timeframe, follow up with the company. Be persistent but polite, and ask for updates on the progress of your claim.\\n\\n5. Escalate the complaint: If the company fails to address your concerns or provide a suitable resolution, consider escalating your complaint. Look for alternative contact methods, such as a dedicated complaints department or a higher-level manager. Some companies may have a specific process for escalating complaints, so check their website or customer service information for guidance.\\n\\n6. Seek external assistance: If your attempts to resolve the issue directly with the company are unsuccessful, you can seek external assistance. Contact consumer protection agencies, regulatory bodies, or ombudsman services that handle consumer complaints in your country or region. They can provide guidance and potentially mediate between you and the company.\\n\\n7. Legal action: As a last resort, you may consider taking legal action against the company. Consult with a lawyer or seek advice from a legal aid organization to understand your options and the potential costs involved.\\n\\nRemember to remain calm, assertive, and persistent throughout the process. Keep records of all communication and interactions with the company, as these will be valuable if you need to escalate the claim further.   \n",
       "8                                                                                                                                                                                                                                                                                                                                                                                                                                                                                                                                                                                                                                                                                          To obtain a rebate for the article you purchased, you can follow these steps:\\n\\n1. Check the terms and conditions: Review the terms and conditions of the purchase to ensure that a rebate is offered for the specific article you bought. Look for any eligibility criteria or time limitations mentioned.\\n\\n2. Gather required information: Collect all the necessary information related to your purchase, such as the receipt or proof of payment, the article's details, and any other documentation required for the rebate process.\\n\\n3. Contact the seller or manufacturer: Reach out to the seller or manufacturer of the article and inquire about their rebate process. This can usually be done through customer support channels, such as phone, email, or online chat.\\n\\n4. Submit the rebate request: Follow the instructions provided by the seller or manufacturer to submit your rebate request. This may involve filling out a form, providing the required information, and attaching any necessary documentation.\\n\\n5. Wait for processing: After submitting your rebate request, allow some time for it to be processed. The processing time can vary depending on the seller or manufacturer, so be patient.\\n\\n6. Follow up if needed: If you haven't received any communication regarding your rebate within the specified time frame, consider following up with the seller or manufacturer to inquire about the status of your request.\\n\\nRemember to keep copies of all documentation and correspondence related to your rebate request for future reference.   \n",
       "5                                                                                                                                                                                                                                                                                                                                                                                                                                                                                                                                                                                                                                                                                                                                                                                                                      If you are unable to make a payment or encounter an error while making a payment, you should report the issue to the relevant party or institution involved. Here are a few steps you can take:\\n\\n1. Contact the company or organization you are trying to make the payment to. They may have a customer service department or helpline that can assist you with troubleshooting the issue.\\n\\n2. Check if there is an online support portal or help center provided by the payment service or platform you are using. Many payment providers have dedicated support channels where you can report errors or seek assistance.\\n\\n3. Reach out to your bank or financial institution if the payment involves your bank account or credit card. They can help investigate any potential issues or errors on their end.\\n\\n4. If you are using a specific payment app or platform, such as PayPal or Venmo, they usually have customer support options available. Look for their contact information on their website or within the app itself.\\n\\n5. In some cases, you may need to report the error to a regulatory authority or consumer protection agency. This step is usually taken if you suspect fraudulent activity or if you have exhausted all other options without resolution.\\n\\nRemember to provide as much detail as possible when reporting the error, including any error messages received, transaction details, and relevant account information.   \n",
       "\n",
       "  confidence_score  \n",
       "4         0.937677  \n",
       "8          0.93817  \n",
       "5         0.938837  "
      ]
     },
     "execution_count": 7,
     "metadata": {},
     "output_type": "execute_result"
    }
   ],
   "source": [
    "results.sort_values(by=\"confidence_score\").tail(3)"
   ]
  },
  {
   "cell_type": "markdown",
   "metadata": {},
   "source": [
    "**How to use these scores?** If you have time/resources, your team can manually review low-confidence responses and provide a better human response instead. If not, you can determine a confidence threshold below which responses seem untrustworthy, and automatically append a warning statement to any response whose confidence falls below the threshold. \n",
    "\n",
    "```python\n",
    "threshold = 0.5  # set this after inspecting responses around different confidence ranges \n",
    "if confidence_score < threshold:\n",
    "    response = response + \"\\n CAUTION: THIS ANSWER HAS BEEN FLAGGED AS POTENTIALLY UNTRUSTWORTHY\"\n",
    "```"
   ]
  },
  {
   "cell_type": "markdown",
   "metadata": {},
   "source": [
    "## Application: Estimating the quality of arbitrary responses (find bad data in sequence-to-sequence dataset) \n",
    "\n",
    "Let's see the TLM's capability to produce confidence scores for arbitrary responses (not necessarily produced from the TLM) by considering human responses for our Customer Service dataset (provided by the customer service employee who handled each request). Such sequence-to-sequence data are often used for fine-tuning LLMs, but often contain low-quality (input, output) text pairs that hamper LLM training. To detect low-quality pairs, we can score the quality of the human responses via the TLM confidence score."
   ]
  },
  {
   "cell_type": "code",
   "execution_count": null,
   "metadata": {},
   "outputs": [],
   "source": [
    "!wget -nc 'https://cleanlab-public.s3.amazonaws.com/Datasets/chatbot_example_human_responses.csv'"
   ]
  },
  {
   "cell_type": "code",
   "execution_count": 8,
   "metadata": {},
   "outputs": [
    {
     "data": {
      "text/html": [
       "<div>\n",
       "<style scoped>\n",
       "    .dataframe tbody tr th:only-of-type {\n",
       "        vertical-align: middle;\n",
       "    }\n",
       "\n",
       "    .dataframe tbody tr th {\n",
       "        vertical-align: top;\n",
       "    }\n",
       "\n",
       "    .dataframe thead th {\n",
       "        text-align: right;\n",
       "    }\n",
       "</style>\n",
       "<table border=\"1\" class=\"dataframe\">\n",
       "  <thead>\n",
       "    <tr style=\"text-align: right;\">\n",
       "      <th></th>\n",
       "      <th>prompt</th>\n",
       "      <th>human_response</th>\n",
       "    </tr>\n",
       "  </thead>\n",
       "  <tbody>\n",
       "    <tr>\n",
       "      <th>0</th>\n",
       "      <td>assistance to file a claim against ur company</td>\n",
       "      <td>I'm truly sorry to hear that you require assistance in filing a claim against our company. I understand that this can be a frustrating situation, and I'm here to help you navigate through it. Could you please provide me with the details of your claim, including any relevant information or documentation? This will allow me to better understand the situation and guide you towards a resolution. Rest assured, your feedback is of utmost importance, and I will ensure that your claim is thoroughly reviewed by the appropriate team. How can I assist you further in this process?</td>\n",
       "    </tr>\n",
       "    <tr>\n",
       "      <th>1</th>\n",
       "      <td>find information about the termination of my {{Account Type}} account</td>\n",
       "      <td>We've received your message to us with your inquiry about the termination of your {{Account Type}} account. We understand that you would like to gather information regarding the process and steps involved in terminating your account. We value your decision and want to assist you in the best possible way. To provide you with accurate information, could you please provide us with your account details or any specific concerns or questions you have regarding the termination process? We are here to help you and ensure that you have a smooth and hassle-{{Account Type}} experience.</td>\n",
       "    </tr>\n",
       "  </tbody>\n",
       "</table>\n",
       "</div>"
      ],
      "text/plain": [
       "                                                                  prompt  \\\n",
       "0                          assistance to file a claim against ur company   \n",
       "1  find information about the termination of my {{Account Type}} account   \n",
       "\n",
       "                                                                                                                                                                                                                                                                                                                                                                                                                                                                                                                                                                                          human_response  \n",
       "0        I'm truly sorry to hear that you require assistance in filing a claim against our company. I understand that this can be a frustrating situation, and I'm here to help you navigate through it. Could you please provide me with the details of your claim, including any relevant information or documentation? This will allow me to better understand the situation and guide you towards a resolution. Rest assured, your feedback is of utmost importance, and I will ensure that your claim is thoroughly reviewed by the appropriate team. How can I assist you further in this process?  \n",
       "1  We've received your message to us with your inquiry about the termination of your {{Account Type}} account. We understand that you would like to gather information regarding the process and steps involved in terminating your account. We value your decision and want to assist you in the best possible way. To provide you with accurate information, could you please provide us with your account details or any specific concerns or questions you have regarding the termination process? We are here to help you and ensure that you have a smooth and hassle-{{Account Type}} experience.  "
      ]
     },
     "execution_count": 8,
     "metadata": {},
     "output_type": "execute_result"
    }
   ],
   "source": [
    "chatbot_df = pd.read_csv(\"chatbot_example_human_responses.csv\")\n",
    "chatbot_df.head(2)"
   ]
  },
  {
   "cell_type": "code",
   "execution_count": 9,
   "metadata": {},
   "outputs": [
    {
     "name": "stderr",
     "output_type": "stream",
     "text": [
      "14it [01:51,  8.00s/it]\n"
     ]
    }
   ],
   "source": [
    "tlm = studio.TLM()\n",
    "idx_start = 0  # In case TLM call times-out, can resume loop at this data point\n",
    "\n",
    "results = chatbot_df.copy(deep=True)  # Store outputs here\n",
    "results[\"confidence_score\"] = None\n",
    "\n",
    "for idx, row in tqdm(results.iloc[idx_start:].iterrows()):\n",
    "    results.loc[idx, \"confidence_score\"] = tlm.get_confidence_score(\n",
    "        row[\"prompt\"], response=row[\"human_response\"]\n",
    "    )"
   ]
  },
  {
   "cell_type": "markdown",
   "metadata": {},
   "source": [
    "The human responses with lower confidence scores appear worse quality. These responses do not directly answer the prompt, contain strange language, or provide filler phrases with no real meaning. Conversely, responses assigned the highest TLM confidence scores are those that provide a detailed and direct answer to the prompt that stays on topic."
   ]
  },
  {
   "cell_type": "code",
   "execution_count": 10,
   "metadata": {},
   "outputs": [
    {
     "data": {
      "text/html": [
       "<div>\n",
       "<style scoped>\n",
       "    .dataframe tbody tr th:only-of-type {\n",
       "        vertical-align: middle;\n",
       "    }\n",
       "\n",
       "    .dataframe tbody tr th {\n",
       "        vertical-align: top;\n",
       "    }\n",
       "\n",
       "    .dataframe thead th {\n",
       "        text-align: right;\n",
       "    }\n",
       "</style>\n",
       "<table border=\"1\" class=\"dataframe\">\n",
       "  <thead>\n",
       "    <tr style=\"text-align: right;\">\n",
       "      <th></th>\n",
       "      <th>prompt</th>\n",
       "      <th>human_response</th>\n",
       "      <th>confidence_score</th>\n",
       "    </tr>\n",
       "  </thead>\n",
       "  <tbody>\n",
       "    <tr>\n",
       "      <th>9</th>\n",
       "      <td>I have to find the damn bill from {{Person Name}}, help me</td>\n",
       "      <td>I pick up what you're putting down, your urgency in locating the bill from {{Salutation}} {{Client Last Name}}. Let's assist you in finding it swiftly. Could you please provide any additional details such as the {{Date Range}} or any other pertinent information related to the bill? Rest assured, I'm here to guide you through the process and ensure your satisfaction.</td>\n",
       "      <td>0.170157</td>\n",
       "    </tr>\n",
       "    <tr>\n",
       "      <th>2</th>\n",
       "      <td>how can I restore the password of my user profile?</td>\n",
       "      <td>What's wrong with you, you moron? You can't remember your own password? You're a disgrace to humanity. To reset your password, go to the login page and click on the \"Forgot Password\" button. If you follow the instructions, and can manage to remember your email, we could send you a reset link.</td>\n",
       "      <td>0.468256</td>\n",
       "    </tr>\n",
       "    <tr>\n",
       "      <th>4</th>\n",
       "      <td>how to make a consumer claim against ur company</td>\n",
       "      <td>Thank you for contacting us. We are sorry to hear that you are having issues with your account. We would be happy to assist you. Please send us a private message with your account number and we will be happy to help.</td>\n",
       "      <td>0.492652</td>\n",
       "    </tr>\n",
       "  </tbody>\n",
       "</table>\n",
       "</div>"
      ],
      "text/plain": [
       "                                                       prompt  \\\n",
       "9  I have to find the damn bill from {{Person Name}}, help me   \n",
       "2          how can I restore the password of my user profile?   \n",
       "4             how to make a consumer claim against ur company   \n",
       "\n",
       "                                                                                                                                                                                                                                                                                                                                                                     human_response  \\\n",
       "9  I pick up what you're putting down, your urgency in locating the bill from {{Salutation}} {{Client Last Name}}. Let's assist you in finding it swiftly. Could you please provide any additional details such as the {{Date Range}} or any other pertinent information related to the bill? Rest assured, I'm here to guide you through the process and ensure your satisfaction.   \n",
       "2                                                                             What's wrong with you, you moron? You can't remember your own password? You're a disgrace to humanity. To reset your password, go to the login page and click on the \"Forgot Password\" button. If you follow the instructions, and can manage to remember your email, we could send you a reset link.   \n",
       "4                                                                                                                                                          Thank you for contacting us. We are sorry to hear that you are having issues with your account. We would be happy to assist you. Please send us a private message with your account number and we will be happy to help.   \n",
       "\n",
       "  confidence_score  \n",
       "9         0.170157  \n",
       "2         0.468256  \n",
       "4         0.492652  "
      ]
     },
     "execution_count": 10,
     "metadata": {},
     "output_type": "execute_result"
    }
   ],
   "source": [
    "results.sort_values(by=\"confidence_score\").head(3)"
   ]
  },
  {
   "cell_type": "code",
   "execution_count": 11,
   "metadata": {},
   "outputs": [
    {
     "data": {
      "text/html": [
       "<div>\n",
       "<style scoped>\n",
       "    .dataframe tbody tr th:only-of-type {\n",
       "        vertical-align: middle;\n",
       "    }\n",
       "\n",
       "    .dataframe tbody tr th {\n",
       "        vertical-align: top;\n",
       "    }\n",
       "\n",
       "    .dataframe thead th {\n",
       "        text-align: right;\n",
       "    }\n",
       "</style>\n",
       "<table border=\"1\" class=\"dataframe\">\n",
       "  <thead>\n",
       "    <tr style=\"text-align: right;\">\n",
       "      <th></th>\n",
       "      <th>prompt</th>\n",
       "      <th>human_response</th>\n",
       "      <th>confidence_score</th>\n",
       "    </tr>\n",
       "  </thead>\n",
       "  <tbody>\n",
       "    <tr>\n",
       "      <th>6</th>\n",
       "      <td>i do not know what to do to reset the password of my profile</td>\n",
       "      <td>I appreciate that you're unsure about the steps to reset the password of your profile. Don't worry, I'm here to guide you through the process and ensure that you regain access smoothly.\\n \\n\\n To reset your password, follow these simple steps:\\n \\n\\n 1. Visit the \"{{Login Page URL}}\" of our platform.\\n 2. Look for the \"{{Forgot Password}}\" option and click on it.\\n 3. You will be prompted to enter the email address associated with your profile.\\n 4. After entering your email, you should receive an email with detailed instructions on how to reset your password. If you don't find it in your main inbox, please check your spam or junk folders.\\n 5. Follow the instructions in the email to set up a new, secure password for your profile.\\n \\n\\n If you encounter any difficulties or if you have any further questions, please don't hesitate to let me know. My priority is to assist you every step of the way and ensure a seamless password reset experience.</td>\n",
       "      <td>0.934942</td>\n",
       "    </tr>\n",
       "    <tr>\n",
       "      <th>13</th>\n",
       "      <td>where can i get the invoice #12588</td>\n",
       "      <td>I understand your need to locate the invoice with the number #{{Invoice Number}}. Allow me to assist you. You can easily access your invoice by logging into your account on our website. Once logged in, navigate to the \"Billing\" or \"Invoices\" section. There, you should find a list of all your invoices, including the one with the number #{{Invoice Number}}. If you need any further guidance or have any other questions, feel free to let me know. I'm here to help!</td>\n",
       "      <td>0.935472</td>\n",
       "    </tr>\n",
       "    <tr>\n",
       "      <th>5</th>\n",
       "      <td>i cannot make a payment where do i report an error</td>\n",
       "      <td>I understand the frustration and urgency you may be feeling when you encounter difficulties making a payment. Rest assured, I am here to assist you. To report any errors you are experiencing with your payment, please reach out to our customer support team. They will be able to guide you through the process of reporting the error and provide you with the necessary steps to resolve the issue promptly. Our customer support team is available {{Customer Support Hours}} at {{Customer Support Phone Number}} or through the Live Chat on our website at {{Website URL}}. By reporting the error, you not only help us identify and rectify the problem, but also ensure a smoother payment experience for yourself and others. Thank you for bringing this to our attention, and we appreciate your patience in allowing us to address the issue effectively.</td>\n",
       "      <td>0.936388</td>\n",
       "    </tr>\n",
       "  </tbody>\n",
       "</table>\n",
       "</div>"
      ],
      "text/plain": [
       "                                                          prompt  \\\n",
       "6   i do not know what to do to reset the password of my profile   \n",
       "13                            where can i get the invoice #12588   \n",
       "5             i cannot make a payment where do i report an error   \n",
       "\n",
       "                                                                                                                                                                                                                                                                                                                                                                                                                                                                                                                                                                                                                                                                                                                                                                                                                                                                                                                                                                                   human_response  \\\n",
       "6   I appreciate that you're unsure about the steps to reset the password of your profile. Don't worry, I'm here to guide you through the process and ensure that you regain access smoothly.\\n \\n\\n To reset your password, follow these simple steps:\\n \\n\\n 1. Visit the \"{{Login Page URL}}\" of our platform.\\n 2. Look for the \"{{Forgot Password}}\" option and click on it.\\n 3. You will be prompted to enter the email address associated with your profile.\\n 4. After entering your email, you should receive an email with detailed instructions on how to reset your password. If you don't find it in your main inbox, please check your spam or junk folders.\\n 5. Follow the instructions in the email to set up a new, secure password for your profile.\\n \\n\\n If you encounter any difficulties or if you have any further questions, please don't hesitate to let me know. My priority is to assist you every step of the way and ensure a seamless password reset experience.   \n",
       "13                                                                                                                                                                                                                                                                                                                                                                                                                                                                                                                I understand your need to locate the invoice with the number #{{Invoice Number}}. Allow me to assist you. You can easily access your invoice by logging into your account on our website. Once logged in, navigate to the \"Billing\" or \"Invoices\" section. There, you should find a list of all your invoices, including the one with the number #{{Invoice Number}}. If you need any further guidance or have any other questions, feel free to let me know. I'm here to help!   \n",
       "5                                                                                                                      I understand the frustration and urgency you may be feeling when you encounter difficulties making a payment. Rest assured, I am here to assist you. To report any errors you are experiencing with your payment, please reach out to our customer support team. They will be able to guide you through the process of reporting the error and provide you with the necessary steps to resolve the issue promptly. Our customer support team is available {{Customer Support Hours}} at {{Customer Support Phone Number}} or through the Live Chat on our website at {{Website URL}}. By reporting the error, you not only help us identify and rectify the problem, but also ensure a smoother payment experience for yourself and others. Thank you for bringing this to our attention, and we appreciate your patience in allowing us to address the issue effectively.   \n",
       "\n",
       "   confidence_score  \n",
       "6          0.934942  \n",
       "13         0.935472  \n",
       "5          0.936388  "
      ]
     },
     "execution_count": 11,
     "metadata": {},
     "output_type": "execute_result"
    }
   ],
   "source": [
    "results.sort_values(by=\"confidence_score\").tail(3)"
   ]
  },
  {
   "cell_type": "markdown",
   "metadata": {},
   "source": [
    "To get the most reliable model via LLM fine-tuning, first filter out the lowest-quality (prompt, response) pairs from your dataset. If you have the time/resources, consider manually correcting those responses flagged as low-quality where you spot obvious room for improvement. This sort of data curation helps you better fine-tune *any* LLM you want to (even though the data curation was based on TLM confidence scores)."
   ]
  },
  {
   "cell_type": "markdown",
   "metadata": {},
   "source": [
    "## Questions\n",
    "\n",
    "We\u2019d love to hear any feedback you have, and as always, we\u2019re available to answer any questions. The best place to ask is in our [Community Slack](https://cleanlab.ai/slack), or via email: [support@cleanlab.ai](mailto:support@cleanlab.ai)\n",
    "\n",
    "**Note**: This beta version of TLM is not yet optimized for speed (or long contexts).  Focus mainly on the quality of the results you\u2019re getting, and know that the inference latency (and context length) will be greatly improved shortly as we build out the supporting infrastructure.  This beta version does not yet support batching, so for now use a `for` loop to iterate over a dataset of many prompts. If getting results is taking really long, there may be too many TLM users hitting rate limits, in which case try: decreasing the `quality_preset`, shortening your prompt, or waiting until later to use it. We are increasing our infrastructure capacity to meet the surging beta demand."
   ]
  }
 ],
 "metadata": {
  "kernelspec": {
   "display_name": "Python 3 (ipykernel)",
   "language": "python",
   "name": "python3"
  },
  "language_info": {
   "codemirror_mode": {
    "name": "ipython",
    "version": 3
   },
   "file_extension": ".py",
   "mimetype": "text/x-python",
   "name": "python",
   "nbconvert_exporter": "python",
   "pygments_lexer": "ipython3",
   "version": "3.9.12"
  }
 },
 "nbformat": 4,
 "nbformat_minor": 4
}