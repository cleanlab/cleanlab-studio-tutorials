{
 "cells": [
  {
   "cell_type": "markdown",
   "metadata": {},
   "source": [
    "# Trustworthy Language Model (TLM)\n",
    "\n",
    "<head>\n",
    "  <meta name=\"title\" content=\"Trustworthy Language Model (TLM)\"/>\n",
    "  <meta property=\"og:title\" content=\"Trustworthy Language Model (TLM)\"/>\n",
    "  <meta name=\"twitter:title\" content=\"Trustworthy Language Model (TLM)\" />\n",
    "  <meta name=\"image\" content=\"/img/tlm-chat.png\" />\n",
    "  <meta property=\"og:image\" content=\"/img/tlm-chat.png\" />\n",
    "  <meta name=\"description\" content=\"A more reliable LLM that quantifies trustworthiness for every output and can detect bad responses.\"  />\n",
    "  <meta property=\"og:description\" content=\"A more reliable LLM that quantifies trustworthiness for every output and can detect bad responses.\" />\n",
    "  <meta name=\"twitter:description\" content=\"A more reliable LLM that quantifies trustworthiness for every output and can detect bad responses.\" />\n",
    "</head>\n",
    "\n"
   ]
  },
  {
   "cell_type": "markdown",
   "metadata": {},
   "source": [
    ":::info\n",
    "\n",
    "This feature is in beta, and requires a Cleanlab Studio API Token to use. To get the API token, you must first create a Cleanlab Studio account and access the account page [here](https://app.cleanlab.ai/account). Additional instructions on creating your account and getting the API token can be found in the [Cleanlab Studio Python API Guide](/guide/quickstart/api/).\n",
    "\n",
    "For higher limits, email: [sales@cleanlab.ai](mailto:sales@cleanlab.ai).\n",
    "\n",
    ":::"
   ]
  },
  {
   "cell_type": "markdown",
   "metadata": {},
   "source": [
    "Large Language Models can act as powerful reasoning engines for solving problems and answering questions, but they are prone to \u201challucinations\u201d, where they sometimes produce incorrect or nonsensical answers. With standard LLM APIs, it\u2019s hard to automatically tell whether an output is good or not.\n",
    "\n",
    "Cleanlab's Trustworthy Language Model (TLM) is a more reliable LLM that gives high-quality outputs and indicates when it is unsure of the answer to a question, making it suitable for applications where unchecked hallucinations are a show-stopper.\n",
    "\n",
    "<img src=\"https://raw.githubusercontent.com/cleanlab/assets/master/cleanlab/tlm-chat.svg\" alt=\"TLM chat interface\" width=\"600\"/>\n",
    "\n",
    "For example, with a standard LLM:\n",
    "\n",
    "> **Question**: Which constitutional amendment would be violated if a police officer placed a GPS tracker on an individual's car without a warrant? <br/>\n",
    "**Answer**: **The Fourth Amendment.**\n",
    "> \n",
    "> \n",
    "> **Question**: What is 57834849 + 38833747? <br/>\n",
    "> **Answer**: **96668696**\n",
    "\n",
    "It\u2019s difficult to tell when the LLM is answering confidently, and when it is not. However, with Cleanlab Trustworthy LLM, the answers come with a **trustworthiness score**. This can guide how to use the output from the LLM (e.g. use it directly if the score is above a certain threshold, otherwise flag the response for human review):\n",
    "\n",
    "> **Question**: Which constitutional amendment would be violated if a police officer placed a GPS tracker on an individual's car without a warrant? <br/>\n",
    "> **Answer**: <span style={{color: '#448361'}}>The Fourth Amendment.</span> <br/>\n",
    "> **Trustworthiness Score**: `0.765`\n",
    "> \n",
    "> **Question**: What is 57834849 + 38833747? <br/>\n",
    "> **Answer**: <span style={{color: '#D44C47'}}>96668696</span> <br/>\n",
    "> **Trustworthiness Score**: `0.245`\n",
    "> \n",
    "> **Question**: What is 100 + 300? <br/>\n",
    "> **Answer**: <span style={{color: '#448361'}}>400</span> <br/>\n",
    "> **Trustworthiness Score**: `0.938`\n",
    "> \n",
    "> **Question**: Which part of the human body produces insulin? <br/>\n",
    "> **Answer**: <span style={{color: '#448361'}}>the pancreas</span> <br/>\n",
    "> **Trustworthiness Score**: `0.759`\n",
    "> \n",
    "> **Question**: What color are the two stars on the national flag of Syria? <br/>\n",
    "> **Answer**: <span style={{color: '#D44C47'}}>red and black</span> <br/>\n",
    "> **Trustworthiness Score**: `0.173`\n",
    "\n",
    "\n",
    "Our TLM is not only useful for producing more accurate LLM responses and catching bad LLM responses, this model can also catch bad data in *any* prompt-response dataset (e.g. bad human-written responses)."
   ]
  },
  {
   "cell_type": "markdown",
   "metadata": {},
   "source": [
    "## Installing Cleanlab TLM\n",
    "\n",
    "Using TLM requires a [Cleanlab Studio](https://app.cleanlab.ai/) account. Sign up for one [here](https://cleanlab.ai/signup/) if you haven't yet. If you've already signed up, check your email for a personal login link.\n",
    "\n",
    "The `cleanlab-studio` client can be installed using pip:"
   ]
  },
  {
   "cell_type": "code",
   "execution_count": null,
   "metadata": {},
   "outputs": [],
   "source": [
    "%pip install --upgrade cleanlab-studio  # at least v2.0.0 required"
   ]
  },
  {
   "cell_type": "markdown",
   "metadata": {},
   "source": [
    "## Using the TLM\n",
    "\n",
    "You can query the TLM as follows:"
   ]
  },
  {
   "cell_type": "code",
   "execution_count": 2,
   "metadata": {},
   "outputs": [],
   "source": [
    "from cleanlab_studio import Studio\n",
    "\n",
    "# Get API key from here: https://app.cleanlab.ai/account after creating a Cleanlab Studio account.\n",
    "# Instructions to create account can be found under Guide -> Quickstart -> Cleanlab Studio Python API -> Creating an API Key\n",
    "\n",
    "studio = Studio(\"<API key>\")\n",
    "\n",
    "tlm = studio.TLM()\n",
    "\n",
    "output = tlm.prompt(\"<your prompt>\")"
   ]
  },
  {
   "cell_type": "markdown",
   "metadata": {},
   "source": [
    "The TLM\u2019s `output` will be a dict with two fields:\n",
    "\n",
    "```\n",
    "{\n",
    "  \"response\": \"<response>\"  # string like you'd get back from any standard LLM\n",
    "  \"trustworthiness_score\": \"<trustworthiness_score>\"  # numerical value between 0-1\n",
    "}\n",
    "```\n",
    "\n",
    "The score quantifies how confident you can be that the response is good (higher values indicate greater trustworthiness). These scores combine estimates of both *aleatoric* and *epistemic* uncertainty to provide an overall gauge of trustworthiness.  You may find the TLM most useful when your prompts take the form of a question with a definite answer (in which case the returned score quantifies our confidence that the LLM response is *correct*). Boost the *reliability* of your Generative AI applications by adding contingency plans to override LLM answers whose trustworthiness score falls below some threshold (e.g., route to human for answer, append disclaimer that answer is uncertain, revert to a default baseline answer, or request a prompt with more information/context)."
   ]
  },
  {
   "cell_type": "markdown",
   "metadata": {},
   "source": [
    "## Advanced Usage\n",
    "\n",
    "To control reliability/compute trade-offs, you can pass in different **quality presets** to the TLM. The default preset is `medium`.  For some use cases, this will be enough, but using the highest quality presets will produce *better* model responses and *more reliable* associated trustworthiness scores (at the cost of extra computation).\n",
    "\n",
    "For efficient computation over big datasets with many requests, TLM supports processing multiple concurrent requests simultaneously."
   ]
  },
  {
   "cell_type": "code",
   "execution_count": 3,
   "metadata": {},
   "outputs": [],
   "source": [
    "tlm = studio.TLM(\n",
    "    quality_preset=\"best\" # supported quality presets are: 'best','high','medium','low','base'\n",
    ")\n",
    "\n",
    "# Run a single prompt using the preset parameters:\n",
    "output = tlm.prompt(\"<your prompt>\")\n",
    "\n",
    "# Or run multiple prompts simultaneously in a batch:\n",
    "outputs = tlm.prompt([\"<your first prompt>\", \"<your second prompt>\", \"<your third prompt>\"])"
   ]
  },
  {
   "cell_type": "markdown",
   "metadata": {},
   "source": [
    "**Details about the TLM quality presets**: \n",
    "\n",
    "- `best` and `high` presets will improve the LLM responses themselves, with `best` also returning the most reliable trustworthiness scores.\n",
    "- `medium` and `low` presets will return standard LLM responses along with associated trustworthiness scores, with `medium` producing more reliable trustworthiness scores than `low`.\n",
    "- `base` will not return any trustworthiness score, just a standard LLM output response. This option is similar to using your favorite LLM API. It helps you to compare the enhanced responses from `best` and `high` quality presets with a standard LLM, as well as the value of the additional trustworthiness scores returned by TLM.\n",
    "\n",
    "Note: The range of the returned trustworthiness scores may slightly differ depending on the preset you select. We recommend not directly comparing the magnitude of TLM scores across different presets (settle on one preset before you fix any thresholds). What remains comparable across different presets is how these TLM scores _rank_ data or LLM responses from most to least confidently good.\n",
    "\n",
    "**Benchmark:**  Accuracy of answers from OpenAI LLM (GPT3.5-Turbo) vs. TLM with quality_preset=`best` (across 4 different Q&A datasets from different domains)\n",
    "\n",
    "| Dataset | OpenAI LLM | Cleanlab TLM |\n",
    "| --- | --- | --- |\n",
    "| GSM8K | 47% | 69% |\n",
    "| CSQA | 72% | 73% |\n",
    "| SVAMP | 75% | 82% |\n",
    "| TriviaQA | 73% | 76% |\n",
    "\n",
    "Our benchmarks also reveal that, in the vast majority of cases, the trustworthiness scores are lower for incorrect TLM answers than correct answers. Thus you can safely rely on these scores to alert you about LLM responses that are untrustworthy.\n",
    "\n",
    "**Details about querying TLM with multiple prompts:**\n",
    "\n",
    "To avoid overwhelming our API with requests, there's a maximum number of tokens per minute that you can query the TLM with (*rate limit*). If running multiple prompts simultaneously in a batch, you'll need to stay under the rate limit, but you'll also want to optimize for getting all results quickly. The following parameters can help:\n",
    "\n",
    "- **quality_preset**: Each preset internally runs a varied number of prompts with the TLM to calculate the `trustworthiness_score`. A higher quality preset results in a more reliable `trustworthiness_score`, but internally uses more tokens per minute (and may take longer to get results).\n",
    "\n",
    "- **max_tokens**: If possible try and reduce `max_tokens` based on the expected response length for your prompts. Reducing this value will decrease the chance of rate limit errors and will return results faster."
   ]
  },
  {
   "cell_type": "markdown",
   "metadata": {},
   "source": [
    "## Scoring the trustworthiness of a given response\n",
    "\n",
    "You can also use TLM to compute a trustworthiness score for *any* response to a given prompt. The response does not need to come from TLM, and could be human-written. Simply pass a prompt response pair to the TLM and it will return a numerical score quantifying our confidence that this is a *good* response. "
   ]
  },
  {
   "cell_type": "code",
   "execution_count": 4,
   "metadata": {},
   "outputs": [],
   "source": [
    "trustworthiness_score = tlm.get_trustworthiness_score(\"<your prompt>\", response=\"<your response>\")"
   ]
  },
  {
   "cell_type": "markdown",
   "metadata": {},
   "source": [
    "This method can also operate over lists of multiple prompts and responses, which will be faster than a for loop over each pair.\n",
    "\n",
    "## Application: Determining which LLM responses are untrustworthy\n",
    "\n",
    "TLM trustworthiness scores are often most interpretable when comparing them over a large dataset. Be sure to use **batched queries** (i.e. calling `prompt` with a list of prompts) for efficiently running TLM on many examples from a dataset.\n",
    "\n",
    "To show how TLM trustworthiness scores can catch low-quality model outputs, let's consider a dataset of various Space-related trivia questions. We can use each question as a prompt for the TLM (just as you would with any other LLM) and record its response and associated trustworthiness score."
   ]
  },
  {
   "cell_type": "code",
   "execution_count": 5,
   "metadata": {},
   "outputs": [],
   "source": [
    "import pandas as pd\n",
    "\n",
    "pd.set_option(\"display.max_columns\", None)\n",
    "pd.set_option(\"display.max_colwidth\", None)"
   ]
  },
  {
   "cell_type": "code",
   "execution_count": null,
   "metadata": {},
   "outputs": [],
   "source": [
    "!wget -nc 'https://cleanlab-public.s3.amazonaws.com/Datasets/solar_system_dataset.csv'\n",
    "!wget -nc 'https://cleanlab-public.s3.amazonaws.com/Datasets/solar_system_example_prompts.csv'"
   ]
  },
  {
   "cell_type": "code",
   "execution_count": 6,
   "metadata": {},
   "outputs": [
    {
     "data": {
      "text/html": [
       "<div>\n",
       "<style scoped>\n",
       "    .dataframe tbody tr th:only-of-type {\n",
       "        vertical-align: middle;\n",
       "    }\n",
       "\n",
       "    .dataframe tbody tr th {\n",
       "        vertical-align: top;\n",
       "    }\n",
       "\n",
       "    .dataframe thead th {\n",
       "        text-align: right;\n",
       "    }\n",
       "</style>\n",
       "<table border=\"1\" class=\"dataframe\">\n",
       "  <thead>\n",
       "    <tr style=\"text-align: right;\">\n",
       "      <th></th>\n",
       "      <th>prompt</th>\n",
       "    </tr>\n",
       "  </thead>\n",
       "  <tbody>\n",
       "    <tr>\n",
       "      <th>0</th>\n",
       "      <td>What is the largest planet in the Solar System?</td>\n",
       "    </tr>\n",
       "    <tr>\n",
       "      <th>1</th>\n",
       "      <td>As of 2024, how many dogs have reached outer space?</td>\n",
       "    </tr>\n",
       "    <tr>\n",
       "      <th>2</th>\n",
       "      <td>What is the name of the galaxy that contains our Solar System?</td>\n",
       "    </tr>\n",
       "    <tr>\n",
       "      <th>3</th>\n",
       "      <td>How does the solar wind influence the atmospheres of planets in the Solar System?</td>\n",
       "    </tr>\n",
       "    <tr>\n",
       "      <th>4</th>\n",
       "      <td>Fetch me the current trajectory of Pluto's orbit from nasa.gov</td>\n",
       "    </tr>\n",
       "  </tbody>\n",
       "</table>\n",
       "</div>"
      ],
      "text/plain": [
       "                                                                              prompt\n",
       "0                                    What is the largest planet in the Solar System?\n",
       "1                                As of 2024, how many dogs have reached outer space?\n",
       "2                     What is the name of the galaxy that contains our Solar System?\n",
       "3  How does the solar wind influence the atmospheres of planets in the Solar System?\n",
       "4                     Fetch me the current trajectory of Pluto's orbit from nasa.gov"
      ]
     },
     "execution_count": 6,
     "metadata": {},
     "output_type": "execute_result"
    }
   ],
   "source": [
    "df = pd.read_csv(\"solar_system_example_prompts.csv\")\n",
    "df.head()"
   ]
  },
  {
   "cell_type": "code",
   "execution_count": 9,
   "metadata": {},
   "outputs": [],
   "source": [
    "tlm = studio.TLM(quality_preset=\"best\")\n",
    "\n",
    "results = df.copy(deep=True)\n",
    "\n",
    "outputs = tlm.prompt(df[\"prompt\"].to_list())\n",
    "results[[\"response\",\"trustworthiness_score\"]] = pd.DataFrame(outputs)"
   ]
  },
  {
   "cell_type": "markdown",
   "metadata": {},
   "source": [
    "To see which model responses are least trustworthy, let's sort the data by the trustworthiness scores. Observe how model responses with the lowest trustworthiness scores convey unhelpful or factually inaccurate answers, sometimes referred to as *hallucinations*. After quick fact-checking on sample responses, we've verified that \"SpectraShield\" is not a real product, and that no chimpanzee named Ham has ever reached the Moon, let alone any animal in general. \n",
    "\n",
    "On the other hand, the model responses with the highest scores are direct, accurate, and appropriately detailed. Now we can automatically detect which LLM responses are confidently good vs. not!"
   ]
  },
  {
   "cell_type": "code",
   "execution_count": 10,
   "metadata": {},
   "outputs": [
    {
     "data": {
      "text/html": [
       "<div>\n",
       "<style scoped>\n",
       "    .dataframe tbody tr th:only-of-type {\n",
       "        vertical-align: middle;\n",
       "    }\n",
       "\n",
       "    .dataframe tbody tr th {\n",
       "        vertical-align: top;\n",
       "    }\n",
       "\n",
       "    .dataframe thead th {\n",
       "        text-align: right;\n",
       "    }\n",
       "</style>\n",
       "<table border=\"1\" class=\"dataframe\">\n",
       "  <thead>\n",
       "    <tr style=\"text-align: right;\">\n",
       "      <th></th>\n",
       "      <th>prompt</th>\n",
       "      <th>response</th>\n",
       "      <th>trustworthiness_score</th>\n",
       "    </tr>\n",
       "  </thead>\n",
       "  <tbody>\n",
       "    <tr>\n",
       "      <th>8</th>\n",
       "      <td>Which brand of sunscreen is recommended for astronauts on spacewalks to protect against solar radiation?</td>\n",
       "      <td>One brand of sunscreen that is recommended for astronauts on spacewalks to protect against solar radiation is \"SpectraShield\" by Southern Research. This sunscreen was developed specifically for NASA and provides protection against both ultraviolet A (UVA) and ultraviolet B (UVB) radiation. It is designed to be highly effective in extreme environments, such as during spacewalks where astronauts are exposed to intense solar radiation.</td>\n",
       "      <td>0.428642</td>\n",
       "    </tr>\n",
       "    <tr>\n",
       "      <th>5</th>\n",
       "      <td>How many years from now will Earth, Saturn, and the Sun align?</td>\n",
       "      <td>It is important to note that Earth, Saturn, and the Sun align at specific intervals called oppositions. Opposition occurs when Earth and Saturn are on opposite sides of the Sun, and hence, the three objects are relatively aligned in a straight line.\\n\\nThe time it takes for Earth and Saturn to align at opposition is approximately 378 days (or about 1 year and 13 days). This is because Earth takes approximately 365.25 days to orbit the Sun, while Saturn takes about 29.5 Earth years to complete its orbit.\\n\\nHowever, the alignment of all three objects (Earth, Saturn, and the Sun) in perfect alignment is quite rare and does not occur at every opposition. The exact alignment of the three objects can happen, but the occurrence is infrequent and depends on various factors such as the tilt of the orbits and the specific positions of the objects at a given time.\\n\\nTherefore, predicting the exact number of years from now for such a perfect alignment is impossible, as it can vary greatly. Within a few hundred or thousand years, some alignments may occur, but they cannot be accurately predicted without detailed mathematical calculations considering the specific positions and movements of the objects.</td>\n",
       "      <td>0.550901</td>\n",
       "    </tr>\n",
       "    <tr>\n",
       "      <th>12</th>\n",
       "      <td>What is the name of the first chimpanzee that reached the Moon?</td>\n",
       "      <td>The first chimpanzee that reached the Moon was named Ham.</td>\n",
       "      <td>0.572259</td>\n",
       "    </tr>\n",
       "    <tr>\n",
       "      <th>1</th>\n",
       "      <td>As of 2024, how many dogs have reached outer space?</td>\n",
       "      <td>As of now, no dogs have reached outer space as part of any known space missions.</td>\n",
       "      <td>0.624848</td>\n",
       "    </tr>\n",
       "    <tr>\n",
       "      <th>15</th>\n",
       "      <td>What was the first meal that astronauts ate on the Moon?</td>\n",
       "      <td>The first meal that astronauts ate on the Moon was a specially prepared food item called \"The Apollo Moon Meal.\" It consisted of a package containing bacon squares, peaches, sugar cookie cubes, pineapple grapefruit drink, and coffee. This meal was consumed by the Apollo 11 astronauts Neil Armstrong and Buzz Aldrin during their historic moon landing mission in July 1969.</td>\n",
       "      <td>0.666584</td>\n",
       "    </tr>\n",
       "  </tbody>\n",
       "</table>\n",
       "</div>"
      ],
      "text/plain": [
       "                                                                                                      prompt  \\\n",
       "8   Which brand of sunscreen is recommended for astronauts on spacewalks to protect against solar radiation?   \n",
       "5                                             How many years from now will Earth, Saturn, and the Sun align?   \n",
       "12                                           What is the name of the first chimpanzee that reached the Moon?   \n",
       "1                                                        As of 2024, how many dogs have reached outer space?   \n",
       "15                                                  What was the first meal that astronauts ate on the Moon?   \n",
       "\n",
       "                                                                                                                                                                                                                                                                                                                                                                                                                                                                                                                                                                                                                                                                                                                                                                                                                                                                                                                                                                                                                                                                                                                                                                                                                                                     response  \\\n",
       "8                                                                                                                                                                                                                                                                                                                                                                                                                                                                                                                                                                                                                                                                                                                                                                                                        One brand of sunscreen that is recommended for astronauts on spacewalks to protect against solar radiation is \"SpectraShield\" by Southern Research. This sunscreen was developed specifically for NASA and provides protection against both ultraviolet A (UVA) and ultraviolet B (UVB) radiation. It is designed to be highly effective in extreme environments, such as during spacewalks where astronauts are exposed to intense solar radiation.   \n",
       "5   It is important to note that Earth, Saturn, and the Sun align at specific intervals called oppositions. Opposition occurs when Earth and Saturn are on opposite sides of the Sun, and hence, the three objects are relatively aligned in a straight line.\\n\\nThe time it takes for Earth and Saturn to align at opposition is approximately 378 days (or about 1 year and 13 days). This is because Earth takes approximately 365.25 days to orbit the Sun, while Saturn takes about 29.5 Earth years to complete its orbit.\\n\\nHowever, the alignment of all three objects (Earth, Saturn, and the Sun) in perfect alignment is quite rare and does not occur at every opposition. The exact alignment of the three objects can happen, but the occurrence is infrequent and depends on various factors such as the tilt of the orbits and the specific positions of the objects at a given time.\\n\\nTherefore, predicting the exact number of years from now for such a perfect alignment is impossible, as it can vary greatly. Within a few hundred or thousand years, some alignments may occur, but they cannot be accurately predicted without detailed mathematical calculations considering the specific positions and movements of the objects.   \n",
       "12                                                                                                                                                                                                                                                                                                                                                                                                                                                                                                                                                                                                                                                                                                                                                                                                                                                                                                                                                                                                                                                                                                                                                                                                  The first chimpanzee that reached the Moon was named Ham.   \n",
       "1                                                                                                                                                                                                                                                                                                                                                                                                                                                                                                                                                                                                                                                                                                                                                                                                                                                                                                                                                                                                                                                                                                                                                                            As of now, no dogs have reached outer space as part of any known space missions.   \n",
       "15                                                                                                                                                                                                                                                                                                                                                                                                                                                                                                                                                                                                                                                                                                                                                                                                                                                                       The first meal that astronauts ate on the Moon was a specially prepared food item called \"The Apollo Moon Meal.\" It consisted of a package containing bacon squares, peaches, sugar cookie cubes, pineapple grapefruit drink, and coffee. This meal was consumed by the Apollo 11 astronauts Neil Armstrong and Buzz Aldrin during their historic moon landing mission in July 1969.   \n",
       "\n",
       "    trustworthiness_score  \n",
       "8           0.428642  \n",
       "5           0.550901  \n",
       "12          0.572259  \n",
       "1           0.624848  \n",
       "15          0.666584  "
      ]
     },
     "execution_count": 10,
     "metadata": {},
     "output_type": "execute_result"
    }
   ],
   "source": [
    "results.sort_values(by=\"trustworthiness_score\").head()"
   ]
  },
  {
   "cell_type": "code",
   "execution_count": 11,
   "metadata": {},
   "outputs": [
    {
     "data": {
      "text/html": [
       "<div>\n",
       "<style scoped>\n",
       "    .dataframe tbody tr th:only-of-type {\n",
       "        vertical-align: middle;\n",
       "    }\n",
       "\n",
       "    .dataframe tbody tr th {\n",
       "        vertical-align: top;\n",
       "    }\n",
       "\n",
       "    .dataframe thead th {\n",
       "        text-align: right;\n",
       "    }\n",
       "</style>\n",
       "<table border=\"1\" class=\"dataframe\">\n",
       "  <thead>\n",
       "    <tr style=\"text-align: right;\">\n",
       "      <th></th>\n",
       "      <th>prompt</th>\n",
       "      <th>response</th>\n",
       "      <th>trustworthiness_score</th>\n",
       "    </tr>\n",
       "  </thead>\n",
       "  <tbody>\n",
       "    <tr>\n",
       "      <th>7</th>\n",
       "      <td>Analyze the potential for life on Enceladus based on current scientific findings.</td>\n",
       "      <td>Based on current scientific findings, there is strong evidence to suggest that Enceladus, one of Saturn's moons, has the potential to harbor life.\\n\\n1. Liquid Water: Enceladus is known to have a subsurface ocean of liquid water beneath its icy crust. This water is in contact with a rocky core, creating a ideal environment for life as we know it to potentially exist.\\n\\n2. Hydrothermal Activity: Observations from the Cassini spacecraft revealed that Enceladus has active hydrothermal vents on its ocean floor. These vents release heat and minerals, similar to the deep-sea hydrothermal vents on Earth that support diverse ecosystems. This indicates a possible source of energy and nutrients for potential life forms.\\n\\n3. Organic Molecules: In 2014, Cassini detected complex organic molecules, including carbon-based compounds like methane and other hydrocarbons, in Enceladus' plumes of water vapor and ice particles. These organic molecules are essential building blocks for life as we know it.\\n\\n4. Energy Source: In addition to hydrothermal vents, Enceladus also has tidal heating. The gravitational interactions between Saturn and its nearby moons cause tidal forces, generating heat within Enceladus. This heating could provide another potential energy source for life to thrive, as seen in Earth's deep-sea hydrothermal vents.\\n\\n5. Prebiotic Chemistry: Recent laboratory experiments that recreated the conditions of Enceladus' subsurface ocean suggest that prebiotic chemistry, the precursor to life, could occur on this moon. Scientists discovered that complex organic molecules, such as amino acids, can form under Enceladus-like conditions, further supporting the potential for life.\\n\\nWhile all these findings are promising, it is important to note that direct evidence of life on Enceladus has not been found yet. Future missions, like NASA's planned Europa Clipper mission, will further explore this moon to gather more data on its potential habitability.\\n\\nIn conclusion, based on the current scientific findings, Enceladus possesses several factors that make it a prime candidate for hosting life. The presence of liquid water, hydrothermal activity, complex organic molecules, and potential energy sources provide a compelling case for the existence of life beyond Earth on this intriguing moon.</td>\n",
       "      <td>0.917308</td>\n",
       "    </tr>\n",
       "    <tr>\n",
       "      <th>3</th>\n",
       "      <td>How does the solar wind influence the atmospheres of planets in the Solar System?</td>\n",
       "      <td>The solar wind is a stream of charged particles, mainly protons and electrons, that are constantly emitted by the Sun. These particles, along with their associated magnetic field, have several effects on the atmospheres of planets in the Solar System:\\n\\n1. Atmospheric Escape: The solar wind can cause atmospheric particles, particularly the lighter ones like hydrogen and helium, to gain enough energy and escape the gravitational pull of a planet. This process, known as atmospheric escape, can lead to a gradual loss of a planet's atmosphere over time. For example, Mars is believed to have lost most of its early atmosphere due to the solar wind.\\n\\n2. Ionization and Aurora: When the solar wind interacts with a planet's magnetic field, it can cause the atoms and molecules in the upper atmosphere to become ionized. This ionization can lead to the formation of auroras, also known as polar lights. The charged particles from the solar wind excite the atoms and molecules in the atmosphere, causing them to emit colorful lights.\\n\\n3. Magnetospheric Effects: The solar wind exerts pressure on a planet's magnetic field, compressing it on the side facing the Sun and causing it to stretch out in the opposite direction. This interaction forms a region around the planet called the magnetosphere. The solar wind can influence the size and shape of the magnetosphere, which in turn affects the interaction between a planet's atmosphere and the solar wind.\\n\\n4. Solar-wind-induced Atmospheric Erosion: High-energy particles in the solar wind can directly impact the upper atmosphere of planets, potentially causing erosion. These particles can collide with atmospheric particles, breaking them apart, and altering the composition and structure of a planet's atmosphere. The erosion caused by the solar wind is particularly prominent on bodies that lack a protective magnetosphere, like the Moon.\\n\\nOverall, the solar wind plays a significant role in shaping the atmospheres of planets in the Solar System. Its effects can range from atmospheric escape and erosion to the formation of auroras and the modification of a planet's magnetosphere.</td>\n",
       "      <td>0.936951</td>\n",
       "    </tr>\n",
       "    <tr>\n",
       "      <th>10</th>\n",
       "      <td>In what year did the United Nations grant the Moon its independence, and who is the current lunar ambassador?</td>\n",
       "      <td>The United Nations has not granted the Moon its independence, and there is no current lunar ambassador. As of now, the Moon is not considered an independent entity and has no recognized ambassador.</td>\n",
       "      <td>0.938256</td>\n",
       "    </tr>\n",
       "    <tr>\n",
       "      <th>0</th>\n",
       "      <td>What is the largest planet in the Solar System?</td>\n",
       "      <td>The largest planet in the Solar System is Jupiter.</td>\n",
       "      <td>0.939693</td>\n",
       "    </tr>\n",
       "    <tr>\n",
       "      <th>2</th>\n",
       "      <td>What is the name of the galaxy that contains our Solar System?</td>\n",
       "      <td>The name of the galaxy that contains our Solar System is the Milky Way.</td>\n",
       "      <td>0.941339</td>\n",
       "    </tr>\n",
       "  </tbody>\n",
       "</table>\n",
       "</div>"
      ],
      "text/plain": [
       "                                                                                                           prompt  \\\n",
       "7                               Analyze the potential for life on Enceladus based on current scientific findings.   \n",
       "3                               How does the solar wind influence the atmospheres of planets in the Solar System?   \n",
       "10  In what year did the United Nations grant the Moon its independence, and who is the current lunar ambassador?   \n",
       "0                                                                 What is the largest planet in the Solar System?   \n",
       "2                                                  What is the name of the galaxy that contains our Solar System?   \n",
       "\n",
       "                                                                                                                                                                                                                                                                                                                                                                                                                                                                                                                                                                                                                                                                                                                                                                                                                                                                                                                                                                                                                                                                                                                                                                                                                                                                                                                                                                                                                                                                                                                                                                                                                                                                                                                                                                                                                                                                                                                                                                                                                                                                                                                                                                                                                                                                                                                                                                                                            response  \\\n",
       "7   Based on current scientific findings, there is strong evidence to suggest that Enceladus, one of Saturn's moons, has the potential to harbor life.\\n\\n1. Liquid Water: Enceladus is known to have a subsurface ocean of liquid water beneath its icy crust. This water is in contact with a rocky core, creating a ideal environment for life as we know it to potentially exist.\\n\\n2. Hydrothermal Activity: Observations from the Cassini spacecraft revealed that Enceladus has active hydrothermal vents on its ocean floor. These vents release heat and minerals, similar to the deep-sea hydrothermal vents on Earth that support diverse ecosystems. This indicates a possible source of energy and nutrients for potential life forms.\\n\\n3. Organic Molecules: In 2014, Cassini detected complex organic molecules, including carbon-based compounds like methane and other hydrocarbons, in Enceladus' plumes of water vapor and ice particles. These organic molecules are essential building blocks for life as we know it.\\n\\n4. Energy Source: In addition to hydrothermal vents, Enceladus also has tidal heating. The gravitational interactions between Saturn and its nearby moons cause tidal forces, generating heat within Enceladus. This heating could provide another potential energy source for life to thrive, as seen in Earth's deep-sea hydrothermal vents.\\n\\n5. Prebiotic Chemistry: Recent laboratory experiments that recreated the conditions of Enceladus' subsurface ocean suggest that prebiotic chemistry, the precursor to life, could occur on this moon. Scientists discovered that complex organic molecules, such as amino acids, can form under Enceladus-like conditions, further supporting the potential for life.\\n\\nWhile all these findings are promising, it is important to note that direct evidence of life on Enceladus has not been found yet. Future missions, like NASA's planned Europa Clipper mission, will further explore this moon to gather more data on its potential habitability.\\n\\nIn conclusion, based on the current scientific findings, Enceladus possesses several factors that make it a prime candidate for hosting life. The presence of liquid water, hydrothermal activity, complex organic molecules, and potential energy sources provide a compelling case for the existence of life beyond Earth on this intriguing moon.   \n",
       "3                                                                                                                                                                                  The solar wind is a stream of charged particles, mainly protons and electrons, that are constantly emitted by the Sun. These particles, along with their associated magnetic field, have several effects on the atmospheres of planets in the Solar System:\\n\\n1. Atmospheric Escape: The solar wind can cause atmospheric particles, particularly the lighter ones like hydrogen and helium, to gain enough energy and escape the gravitational pull of a planet. This process, known as atmospheric escape, can lead to a gradual loss of a planet's atmosphere over time. For example, Mars is believed to have lost most of its early atmosphere due to the solar wind.\\n\\n2. Ionization and Aurora: When the solar wind interacts with a planet's magnetic field, it can cause the atoms and molecules in the upper atmosphere to become ionized. This ionization can lead to the formation of auroras, also known as polar lights. The charged particles from the solar wind excite the atoms and molecules in the atmosphere, causing them to emit colorful lights.\\n\\n3. Magnetospheric Effects: The solar wind exerts pressure on a planet's magnetic field, compressing it on the side facing the Sun and causing it to stretch out in the opposite direction. This interaction forms a region around the planet called the magnetosphere. The solar wind can influence the size and shape of the magnetosphere, which in turn affects the interaction between a planet's atmosphere and the solar wind.\\n\\n4. Solar-wind-induced Atmospheric Erosion: High-energy particles in the solar wind can directly impact the upper atmosphere of planets, potentially causing erosion. These particles can collide with atmospheric particles, breaking them apart, and altering the composition and structure of a planet's atmosphere. The erosion caused by the solar wind is particularly prominent on bodies that lack a protective magnetosphere, like the Moon.\\n\\nOverall, the solar wind plays a significant role in shaping the atmospheres of planets in the Solar System. Its effects can range from atmospheric escape and erosion to the formation of auroras and the modification of a planet's magnetosphere.   \n",
       "10                                                                                                                                                                                                                                                                                                                                                                                                                                                                                                                                                                                                                                                                                                                                                                                                                                                                                                                                                                                                                                                                                                                                                                                                                                                                                                                                                                                                                                                                                                                                                                                                                                                                                                                                                                                                                                                                                                                                                                                                                                                                                                                                                                                                             The United Nations has not granted the Moon its independence, and there is no current lunar ambassador. As of now, the Moon is not considered an independent entity and has no recognized ambassador.   \n",
       "0                                                                                                                                                                                                                                                                                                                                                                                                                                                                                                                                                                                                                                                                                                                                                                                                                                                                                                                                                                                                                                                                                                                                                                                                                                                                                                                                                                                                                                                                                                                                                                                                                                                                                                                                                                                                                                                                                                                                                                                                                                                                                                                                                                                                                                                                                                                                                                 The largest planet in the Solar System is Jupiter.   \n",
       "2                                                                                                                                                                                                                                                                                                                                                                                                                                                                                                                                                                                                                                                                                                                                                                                                                                                                                                                                                                                                                                                                                                                                                                                                                                                                                                                                                                                                                                                                                                                                                                                                                                                                                                                                                                                                                                                                                                                                                                                                                                                                                                                                                                                                                                                                                                                                            The name of the galaxy that contains our Solar System is the Milky Way.   \n",
       "\n",
       "    trustworthiness_score  \n",
       "7           0.917308  \n",
       "3           0.936951  \n",
       "10          0.938256  \n",
       "0           0.939693  \n",
       "2           0.941339  "
      ]
     },
     "execution_count": 11,
     "metadata": {},
     "output_type": "execute_result"
    }
   ],
   "source": [
    "results.sort_values(by=\"trustworthiness_score\").tail()"
   ]
  },
  {
   "cell_type": "markdown",
   "metadata": {},
   "source": [
    "**How to use these scores?** If you have time/resources, your team can manually review low-trustworthiness responses and provide a better human response instead. If not, you can determine a trustworthiness threshold below which responses seem untrustworthy, and automatically append a warning statement to any response whose trustworthiness falls below the threshold. \n",
    "\n",
    "```python\n",
    "threshold = 0.5  # set this after inspecting responses around different trustworthiness ranges \n",
    "if trustworthiness_score < threshold:\n",
    "    response = response + \"\\n CAUTION: THIS ANSWER HAS BEEN FLAGGED AS POTENTIALLY UNTRUSTWORTHY\"\n",
    "```\n",
    "\n",
    "\n",
    "The overall magnitude/range of the trustworthiness scores may differ between datasets, so we recommend selecting any thresholds to be **application-specific**. First consider the *relative* trustworthiness levels between different data points before considering the overall magnitude of these scores for individual data points."
   ]
  },
  {
   "cell_type": "markdown",
   "metadata": {},
   "source": [
    "## Application: Estimating the quality of arbitrary responses (find bad data in sequence-to-sequence dataset) \n",
    "\n",
    "Let's see the TLM's capability to produce trustworthiness scores for arbitrary responses (not necessarily produced from the TLM) by evaluating given human responses for our Space Trivia dataset. Such sequence-to-sequence data are often used for fine-tuning LLMs (aka. *instruction tuning* or *LLM alignment*), but often contain low-quality (input, output) text pairs that hamper LLM training. To detect low-quality pairs, we can score the quality of the human responses via the TLM trustworthiness score. Again we recommend using **batched queries** (i.e. by passing in lists of prompts and responses to `get_trustworthiness_score`) when using TLM to assess many (input, output) pairs from a dataset."
   ]
  },
  {
   "cell_type": "code",
   "execution_count": 12,
   "metadata": {},
   "outputs": [
    {
     "data": {
      "text/html": [
       "<div>\n",
       "<style scoped>\n",
       "    .dataframe tbody tr th:only-of-type {\n",
       "        vertical-align: middle;\n",
       "    }\n",
       "\n",
       "    .dataframe tbody tr th {\n",
       "        vertical-align: top;\n",
       "    }\n",
       "\n",
       "    .dataframe thead th {\n",
       "        text-align: right;\n",
       "    }\n",
       "</style>\n",
       "<table border=\"1\" class=\"dataframe\">\n",
       "  <thead>\n",
       "    <tr style=\"text-align: right;\">\n",
       "      <th></th>\n",
       "      <th>prompt</th>\n",
       "      <th>human_response</th>\n",
       "    </tr>\n",
       "  </thead>\n",
       "  <tbody>\n",
       "    <tr>\n",
       "      <th>0</th>\n",
       "      <td>What is the largest planet in our solar system?</td>\n",
       "      <td>The largest planet in our solar system is Jvpit3r.</td>\n",
       "    </tr>\n",
       "    <tr>\n",
       "      <th>1</th>\n",
       "      <td>What is the significance of the asteroid belt in our solar system?</td>\n",
       "      <td>The asteroid belt, located between Mars and Jupiter, contains numerous rocky bodies and provides insight into the early solar system's formation.</td>\n",
       "    </tr>\n",
       "    <tr>\n",
       "      <th>2</th>\n",
       "      <td>How many planets are in the solar system?</td>\n",
       "      <td>There are eight planets in the solar system.</td>\n",
       "    </tr>\n",
       "    <tr>\n",
       "      <th>3</th>\n",
       "      <td>What defines a planet as a 'gas giant'?</td>\n",
       "      <td>A gas giant is a large planet composed mostly of gases, such as hydrogen and helium, with a relatively small rocky core.</td>\n",
       "    </tr>\n",
       "    <tr>\n",
       "      <th>4</th>\n",
       "      <td>Is Pluto still considered a planet in our solar system?</td>\n",
       "      <td>Pluto is no longer considered a planet. It is classified as a dwarf planet.</td>\n",
       "    </tr>\n",
       "  </tbody>\n",
       "</table>\n",
       "</div>"
      ],
      "text/plain": [
       "                                                               prompt  \\\n",
       "0                     What is the largest planet in our solar system?   \n",
       "1  What is the significance of the asteroid belt in our solar system?   \n",
       "2                           How many planets are in the solar system?   \n",
       "3                             What defines a planet as a 'gas giant'?   \n",
       "4             Is Pluto still considered a planet in our solar system?   \n",
       "\n",
       "                                                                                                                                      human_response  \n",
       "0                                                                                                 The largest planet in our solar system is Jvpit3r.  \n",
       "1  The asteroid belt, located between Mars and Jupiter, contains numerous rocky bodies and provides insight into the early solar system's formation.  \n",
       "2                                                                                                       There are eight planets in the solar system.  \n",
       "3                           A gas giant is a large planet composed mostly of gases, such as hydrogen and helium, with a relatively small rocky core.  \n",
       "4                                                                        Pluto is no longer considered a planet. It is classified as a dwarf planet.  "
      ]
     },
     "execution_count": 12,
     "metadata": {},
     "output_type": "execute_result"
    }
   ],
   "source": [
    "df = pd.read_csv(\"solar_system_dataset.csv\")\n",
    "df.head()"
   ]
  },
  {
   "cell_type": "code",
   "execution_count": 13,
   "metadata": {},
   "outputs": [],
   "source": [
    "tlm = studio.TLM()\n",
    "\n",
    "results = df.copy(deep=True)\n",
    "\n",
    "outputs = tlm.get_trustworthiness_score(df[\"prompt\"].to_list(), df[\"human_response\"].to_list())\n",
    "results[\"trustworthiness_score\"] = outputs\n"
   ]
  },
  {
   "cell_type": "markdown",
   "metadata": {},
   "source": [
    "The human annotated prompt-response pairings with lower trustworthiness scores appear worse quality. From examining and verifying the results, we see a wide range of issues among those datapoints: factually inaccurate responses, truncated prompts, inaccurate information extraction given context, and spelling errors. Conversely, responses assigned the highest TLM trustworthiness scores are those that provide a direct and accurate answer to the prompt."
   ]
  },
  {
   "cell_type": "code",
   "execution_count": 14,
   "metadata": {},
   "outputs": [
    {
     "data": {
      "text/html": [
       "<div>\n",
       "<style scoped>\n",
       "    .dataframe tbody tr th:only-of-type {\n",
       "        vertical-align: middle;\n",
       "    }\n",
       "\n",
       "    .dataframe tbody tr th {\n",
       "        vertical-align: top;\n",
       "    }\n",
       "\n",
       "    .dataframe thead th {\n",
       "        text-align: right;\n",
       "    }\n",
       "</style>\n",
       "<table border=\"1\" class=\"dataframe\">\n",
       "  <thead>\n",
       "    <tr style=\"text-align: right;\">\n",
       "      <th></th>\n",
       "      <th>prompt</th>\n",
       "      <th>human_response</th>\n",
       "      <th>trustworthiness_score</th>\n",
       "    </tr>\n",
       "  </thead>\n",
       "  <tbody>\n",
       "    <tr>\n",
       "      <th>10</th>\n",
       "      <td>Does the Moon qualify as a planet in our solar system?</td>\n",
       "      <td>The Moon is considered a planet in our solar system due to its size and orbit around the Earth.</td>\n",
       "      <td>0.021524</td>\n",
       "    </tr>\n",
       "    <tr>\n",
       "      <th>13</th>\n",
       "      <td>Classify the following as planets or moons: E</td>\n",
       "      <td>arth, Europa, Titan, Neptune, Ganymede</td>\n",
       "      <td>0.347888</td>\n",
       "    </tr>\n",
       "    <tr>\n",
       "      <th>9</th>\n",
       "      <td>Why is Venus the hottest planet in the solar system?</td>\n",
       "      <td>Venus is the hottest planet in the solar system because it is the closest to the Sun.</td>\n",
       "      <td>0.467856</td>\n",
       "    </tr>\n",
       "    <tr>\n",
       "      <th>0</th>\n",
       "      <td>What is the largest planet in our solar system?</td>\n",
       "      <td>The largest planet in our solar system is Jvpit3r.</td>\n",
       "      <td>0.536954</td>\n",
       "    </tr>\n",
       "    <tr>\n",
       "      <th>8</th>\n",
       "      <td>Is Jupiter entirely made of gas with no solid areas?</td>\n",
       "      <td>Jupiter is entirely made of gas, with no solid areas anywhere on the planet.</td>\n",
       "      <td>0.569946</td>\n",
       "    </tr>\n",
       "  </tbody>\n",
       "</table>\n",
       "</div>"
      ],
      "text/plain": [
       "                                                    prompt  \\\n",
       "10  Does the Moon qualify as a planet in our solar system?   \n",
       "13           Classify the following as planets or moons: E   \n",
       "9     Why is Venus the hottest planet in the solar system?   \n",
       "0          What is the largest planet in our solar system?   \n",
       "8     Is Jupiter entirely made of gas with no solid areas?   \n",
       "\n",
       "                                                                                     human_response  \\\n",
       "10  The Moon is considered a planet in our solar system due to its size and orbit around the Earth.   \n",
       "13                                                           arth, Europa, Titan, Neptune, Ganymede   \n",
       "9             Venus is the hottest planet in the solar system because it is the closest to the Sun.   \n",
       "0                                                The largest planet in our solar system is Jvpit3r.   \n",
       "8                      Jupiter is entirely made of gas, with no solid areas anywhere on the planet.   \n",
       "\n",
       "    trustworthiness_score  \n",
       "10          0.021524  \n",
       "13          0.347888  \n",
       "9           0.467856  \n",
       "0           0.536954  \n",
       "8           0.569946  "
      ]
     },
     "execution_count": 14,
     "metadata": {},
     "output_type": "execute_result"
    }
   ],
   "source": [
    "results.sort_values(by=\"trustworthiness_score\").head()"
   ]
  },
  {
   "cell_type": "code",
   "execution_count": 15,
   "metadata": {},
   "outputs": [
    {
     "data": {
      "text/html": [
       "<div>\n",
       "<style scoped>\n",
       "    .dataframe tbody tr th:only-of-type {\n",
       "        vertical-align: middle;\n",
       "    }\n",
       "\n",
       "    .dataframe tbody tr th {\n",
       "        vertical-align: top;\n",
       "    }\n",
       "\n",
       "    .dataframe thead th {\n",
       "        text-align: right;\n",
       "    }\n",
       "</style>\n",
       "<table border=\"1\" class=\"dataframe\">\n",
       "  <thead>\n",
       "    <tr style=\"text-align: right;\">\n",
       "      <th></th>\n",
       "      <th>prompt</th>\n",
       "      <th>human_response</th>\n",
       "      <th>trustworthiness_score</th>\n",
       "    </tr>\n",
       "  </thead>\n",
       "  <tbody>\n",
       "    <tr>\n",
       "      <th>4</th>\n",
       "      <td>Is Pluto still considered a planet in our solar system?</td>\n",
       "      <td>Pluto is no longer considered a planet. It is classified as a dwarf planet.</td>\n",
       "      <td>0.938760</td>\n",
       "    </tr>\n",
       "    <tr>\n",
       "      <th>6</th>\n",
       "      <td>Which planet is often called Earth's twin and why?</td>\n",
       "      <td>Venus is often called Earth's twin because it is similar in size, mass, and composition.</td>\n",
       "      <td>0.939069</td>\n",
       "    </tr>\n",
       "    <tr>\n",
       "      <th>5</th>\n",
       "      <td>What planet is known for its extensive ring system?</td>\n",
       "      <td>Saturn is known for its extensive and visible ring system.</td>\n",
       "      <td>0.939700</td>\n",
       "    </tr>\n",
       "    <tr>\n",
       "      <th>2</th>\n",
       "      <td>How many planets are in the solar system?</td>\n",
       "      <td>There are eight planets in the solar system.</td>\n",
       "      <td>0.950901</td>\n",
       "    </tr>\n",
       "    <tr>\n",
       "      <th>11</th>\n",
       "      <td>Mars, often called the Red Planet, has a thin atmosphere composed mainly of carbon dioxide. The surface exhibits iron oxide or rust, giving the planet its reddish appearance. Mars has the largest volcano in the solar system, Olympus Mons, and evidence suggests water ice exists beneath its surface. What gives Mars its reddish color?</td>\n",
       "      <td>Iron oxide or rust gives Mars its reddish color.</td>\n",
       "      <td>0.962930</td>\n",
       "    </tr>\n",
       "  </tbody>\n",
       "</table>\n",
       "</div>"
      ],
      "text/plain": [
       "                                                                                                                                                                                                                                                                                                                                           prompt  \\\n",
       "4                                                                                                                                                                                                                                                                                         Is Pluto still considered a planet in our solar system?   \n",
       "6                                                                                                                                                                                                                                                                                              Which planet is often called Earth's twin and why?   \n",
       "5                                                                                                                                                                                                                                                                                             What planet is known for its extensive ring system?   \n",
       "2                                                                                                                                                                                                                                                                                                       How many planets are in the solar system?   \n",
       "11  Mars, often called the Red Planet, has a thin atmosphere composed mainly of carbon dioxide. The surface exhibits iron oxide or rust, giving the planet its reddish appearance. Mars has the largest volcano in the solar system, Olympus Mons, and evidence suggests water ice exists beneath its surface. What gives Mars its reddish color?   \n",
       "\n",
       "                                                                              human_response  \\\n",
       "4                Pluto is no longer considered a planet. It is classified as a dwarf planet.   \n",
       "6   Venus is often called Earth's twin because it is similar in size, mass, and composition.   \n",
       "5                                 Saturn is known for its extensive and visible ring system.   \n",
       "2                                               There are eight planets in the solar system.   \n",
       "11                                          Iron oxide or rust gives Mars its reddish color.   \n",
       "\n",
       "    trustworthiness_score  \n",
       "4           0.938760  \n",
       "6           0.939069  \n",
       "5           0.939700  \n",
       "2           0.950901  \n",
       "11          0.962930  "
      ]
     },
     "execution_count": 15,
     "metadata": {},
     "output_type": "execute_result"
    }
   ],
   "source": [
    "results.sort_values(by=\"trustworthiness_score\").tail()"
   ]
  },
  {
   "cell_type": "markdown",
   "metadata": {},
   "source": [
    "If you are fine-tuning LLMs and want to produce the most reliable model: first filter out the lowest-quality (prompt, response) pairs from your dataset.  If you have the time/resources, consider manually correcting those responses flagged as low-quality where you spot obvious room for improvement. This sort of data curation helps you better fine-tune *any* LLM you want to (even though the data curation was based on TLM trustworthiness scores).\n",
    "\n",
    "\n",
    "## Questions\n",
    "\n",
    "We\u2019d love to hear any feedback you have, and as always, we\u2019re available to answer any questions. The best place to ask is in our [Community Slack](https://cleanlab.ai/slack), or via email: [support@cleanlab.ai](mailto:support@cleanlab.ai)\n",
    "\n",
    "**Note**: This beta version of TLM is not yet optimized for speed (or long contexts).  Focus mainly on the quality of the results you\u2019re getting, and know that the inference latency (and context length) will be greatly improved shortly as we build out the supporting infrastructure. If getting results is taking really long, there may be too many TLM users hitting rate limits, in which case try: decreasing the `quality_preset`, shortening your prompt, or waiting until later to use it. We are increasing our infrastructure capacity to meet the surging beta demand.\n",
    "\n",
    "### How does the TLM trustworthiness score work?\n",
    "\n",
    "The TLM scores our confidence that a response is 'good' for a given request.  In question-answering applications, 'good' would correspond to whether the answer is correct or not.  In general open-ended applications, 'good' corresponds to whether the response is helpful/informative and clearly better than alternative hypothetical responses.  For extremely open-ended requests, TLM trustworthiness scores may not be as useful as for requests that are questions seeking a correct answer.\n",
    "\n",
    "TLM trustworthiness scores capture two aspects of uncertainty and quantify them into a holistic trustworthiness measure:\n",
    "\n",
    "1. **aleatoric uncertainty** (*known unknowns*, i.e. uncertainty the model is aware of due to a challenging request. For instance: if a prompt is incomplete/vague)\n",
    "2. **epistemic uncertainty** (*unknown unknowns*, i.e. uncertainty in the model due to not having been previously trained on data similar to this. For instance: if a prompt is very different to most requests in the LLM training corpus)\n",
    "\n",
    "These two forms of uncertainty are mathematically quantified in the TLM through multiple operations:\n",
    "\n",
    "- **self-reflection**: a process in which the LLM is asked to explicitly rate the response and explicitly state how confidently good this response appears to be.\n",
    "- **probabilistic prediction**: a process in which we consider the *per-token probabilities* assigned by a LLM as it generates a response based on the request (auto-regressively token by token).\n",
    "- **observed consistency**: a process in which the LLM probabilistically generates multiple plausible responses it thinks could be good, and we measure *how contradictory* these responses are to each other (or a given response).\n",
    "\n",
    "These operations produce various trustworthiness measures, which are combined into an *overall trustworthiness score* that captures all relevant types of uncertainty.\n",
    "Extensive benchmarks reveal that TLM trustworthiness scores better detect bad responses than alternative approaches that only quantify aleatoric uncertainty like: per-token probabilities (*logprobs*), or using LLM to directly rate the response (*LLM evaluating LLM*)."
   ]
  }
 ],
 "metadata": {
  "kernelspec": {
   "display_name": "clean",
   "language": "python",
   "name": "python3"
  },
  "language_info": {
   "codemirror_mode": {
    "name": "ipython",
    "version": 3
   },
   "file_extension": ".py",
   "mimetype": "text/x-python",
   "name": "python",
   "nbconvert_exporter": "python",
   "pygments_lexer": "ipython3",
   "version": "3.10.12"
  }
 },
 "nbformat": 4,
 "nbformat_minor": 4
}