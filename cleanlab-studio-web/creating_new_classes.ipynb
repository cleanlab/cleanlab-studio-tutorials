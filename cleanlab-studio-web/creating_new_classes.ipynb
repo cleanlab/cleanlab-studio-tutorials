{
 "cells": [
  {
   "cell_type": "markdown",
   "metadata": {
    "vscode": {
     "languageId": "plaintext"
    }
   },
   "source": [
    "# Dynamically evolve your classification dataset by adding new classes\n",
    "\n",
    "<head>\n",
    "  <meta name=\"title\" content=\"Dynamically evolve your classification datasets by adding new classes\"/>\n",
    "  <meta property=\"og:title\" content=\"Dynamically evolve your classification datasets by adding new classes\"/>\n",
    "  <meta name=\"twitter:title\" content=\"Dynamically evolve your classification datasets by adding new classes\" />\n",
    "  <meta name=\"image\" content=\"/img/dataannotation.png\" />\n",
    "  <meta property=\"og:image\" content=\"/img/dataannotation.png\" />\n",
    "  <meta name=\"description\" content=\"How to identify and add classes to a classification dataset with Cleanlab Studio.\"  />\n",
    "  <meta property=\"og:description\" content=\"How to identify and add classes to a classification dataset with Cleanlab Studio.\" />\n",
    "  <meta name=\"twitter:description\" content=\"How to identify and add classes to a classification dataset with Cleanlab Studio.\" />\n",
    "</head>\n",
    "\n",
    "In classification datasets, a common problem arises when there are hidden classes \u2014 categories that exist within the data but were not identified or labeled during the initial dataset creation.\n",
    "\n",
    "Cleanlab Studio offers a feature that streamlines the process of identifying and labeling these hidden classes. This feature enables efficient categorization with minimal manual effort, allowing you to dynamically improve your datasets for better machine learning performance."
   ]
  },
  {
   "cell_type": "markdown",
   "metadata": {},
   "source": [
    "![create_label_main.png](../assets/creating-new-classes-tutorial/create_label_main.png)\n",
    "\n",
    "For this demonstration, we will use a [Shoes Dataset](https://cleanlab-public.s3.amazonaws.com/Datasets/shoes.zip) from a retailer, which contains around 1300 examples across five categories: `boots`, `flip_flops`, `sandals`, `sneakers`, and `soccer_shoes`. These steps can be applied to *any* multi-class classification dataset.\n",
    "\n",
    "First, create a project in Cleanlab Studio using this dataset. You can download the dataset and upload it, or use the `Import via URL` option for direct upload. Next, set up a multi-class image classification project in *fast* mode.\n",
    "\n",
    "![select_task_type.png](../assets/creating-new-classes-tutorial/select_task_type.png)"
   ]
  },
  {
   "cell_type": "markdown",
   "metadata": {},
   "source": [
    "## Creating a label for a new category in your dataset\n",
    "\n",
    "Once the project is `Ready for Review`, review the detected issues. **You may find data points that don't fit into the existing categories**. For example, some shoes may belong to the casual category of *loafers* instead of `sneakers` or `sandals` \n",
    "\n",
    "![resolver_view](../assets/creating-new-classes-tutorial/resolver_view.png)\n",
    "\n",
    "Creating a new label for such cases is straightforward. This feature is also useful for **splitting overarching labels into more fine-grained categories**, like dividing `sandals` into `flats` and `heels`. Watch the video below to see how to create a new label. Here, we sort the rows in descending order of label issue score and go over the data points.\n",
    "\n",
    "<Video\n",
    "  width=\"1792\"\n",
    "  height=\"1010\"\n",
    "  src=\"../assets/creating-new-classes-tutorial/add_label_loafers.mov\"\n",
    "  autoPlay={false}\n",
    "  loop={false}\n",
    "  muted={true}\n",
    "/>\n",
    "After creating the new label, you can start labeling data points that belong to this new category. This helps Cleanlab Studio learn from these examples and find more similar data points when you re-run the analysis. You can label examples individually or in batches using filters.\n",
    "<Video\n",
    "  width=\"1792\"\n",
    "  height=\"1010\"\n",
    "  src=\"../assets/creating-new-classes-tutorial/label_loafers.mov\"\n",
    "  autoPlay={false}\n",
    "  loop={false}\n",
    "  muted={true}\n",
    "/>"
   ]
  },
  {
   "cell_type": "markdown",
   "metadata": {},
   "source": [
    "## Creating a label for irrelevant data points\n",
    "\n",
    "For ambiguous or outlier images, such as those focusing on the person rather than the shoe, you can create a label like *people*. This ensures these images are categorized appropriately without being excluded or tagged as issues. This scenario is quite common in classification datasets, where a **data point may belong to a class that is not relevant at the moment**. These classes could be labeled as miscellaneous, other, unknown, or simply clutter.\n",
    "\n",
    "<Video\n",
    "  width=\"1792\"\n",
    "  height=\"1010\"\n",
    "  src=\"../assets/creating-new-classes-tutorial/add_label_outliers.mov\"\n",
    "  autoPlay={false}\n",
    "  loop={false}\n",
    "  muted={true}\n",
    "/>"
   ]
  },
  {
   "cell_type": "markdown",
   "metadata": {},
   "source": [
    "\n",
    "## Find more data points belonging to the new class\n",
    "\n",
    "Once you have labeled a few images for the new class, hit `Improve Issues Found` to re-run Cleanlab Studio\u2019s analysis. This process will identify more data points that belong to the new class, allowing for quick and efficient labeling. After the analyis is complete, and the Project is *Ready for Review*, we can now see more data points with suggested label l*oafers* using the filter, and use *auto-fix* batch action to correct labels for all of them.\n",
    "\n",
    "<Video\n",
    "  width=\"1792\"\n",
    "  height=\"1010\"\n",
    "  src=\"../assets/creating-new-classes-tutorial/suggested_loafers.mov\"\n",
    "  autoPlay={false}\n",
    "  loop={false}\n",
    "  muted={true}\n",
    "/>\n",
    "\n",
    "Similarly we label images with suggested label *people.*\n",
    "\n",
    "<Video\n",
    "  width=\"1792\"\n",
    "  height=\"1010\"\n",
    "  src=\"../assets/creating-new-classes-tutorial/suggested_people.mov\"\n",
    "  autoPlay={false}\n",
    "  loop={false}\n",
    "  muted={true}\n",
    "/>"
   ]
  }
 ],
 "metadata": {
  "language_info": {
   "name": "python"
  }
 },
 "nbformat": 4,
 "nbformat_minor": 2
}