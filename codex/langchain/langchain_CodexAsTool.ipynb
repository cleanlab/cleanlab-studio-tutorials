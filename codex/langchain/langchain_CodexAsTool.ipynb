{
 "cells": [
  {
   "cell_type": "markdown",
   "metadata": {},
   "source": [
    "# Integrate Codex as-a-Tool with LangChain\n",
    "\n",
    "We demonstrate how to integrate Codex with a conversational RAG app built with [Langchain](https://github.com/langchain-ai/langchain).\n",
    "\n",
    "This tutorial presumes your RAG app already supports tool calls. Learn how to add tool calls to any LangChain application via our tutorial: [RAG with Tool Calls in LangChain](/codex/tutorials/langchain/langchain_CodexAsTool/).\n",
    "\n",
    "Once you have a RAG app that supports tool calling, **adding Codex as an additional Tool takes minimal effort but guarantees better responses from your AI application**.\n",
    "\n",
    "![RAG Workflow](../assets/codexastool_retrievalastool_simple.png)\n",
    "\n",
    "If you want to integrate Codex without adding tool calls to your application, check out our [other integrations](/codex/concepts/integrations/).\n",
    "\n",
    "Let's first install packages required for this tutorial."
   ]
  },
  {
   "cell_type": "code",
   "execution_count": null,
   "metadata": {},
   "outputs": [],
   "source": [
    "%pip install langchain-text-splitters langchain-community langgraph langchain-openai  # we used package-versions 0.3.5, 0.3.16, 1.59.7, 0.3.2\n",
    "%pip install --upgrade cleanlab-codex"
   ]
  },
  {
   "cell_type": "code",
   "execution_count": null,
   "metadata": {},
   "outputs": [],
   "source": [
    "import os\n",
    "\n",
    "os.environ[\"OPENAI_API_KEY\"] = \"<YOUR-KEY-HERE>\"  # Replace with your OpenAI API key"
   ]
  },
  {
   "cell_type": "markdown",
   "id": "3e0e6238-51d4-4c15-b96a-3edb2f2da98b",
   "metadata": {},
   "source": [
    "**Optional: Helper methods for basic RAG from prior tutorial (Adding Tool Calls to RAG)**\n",
    "\n"
   ]
  },
  {
   "cell_type": "code",
   "execution_count": 28,
   "metadata": {},
   "outputs": [],
   "source": [
    "from langchain_core.tools import tool\n",
    "from datetime import datetime\n",
    "\n",
    "@tool\n",
    "def get_todays_date(date_format: str) -> str:\n",
    "  \"A tool that returns today's date in the date format requested. Options for date_format parameter are: '%Y-%m-%d', '%d', '%m', '%Y'.\"\n",
    "  datetime_str = datetime.now().strftime(date_format)\n",
    "  return datetime_str\n",
    "\n",
    "@tool\n",
    "def retrieve(query: str) -> str:\n",
    "    \"\"\"Search through available documents to find relevant information.\"\"\"\n",
    "    docs = vector_store.similarity_search(query, k=2)\n",
    "    return \"\\n\\n\".join(doc.page_content for doc in docs)\n",
    "\n",
    "embedding_model = \"text-embedding-3-small\"   # any LangChain embeddings model \n",
    "\n",
    "fallback_answer = \"Based on the available information, I cannot provide a complete answer to this question.\"\n",
    "\n",
    "system_message_without_codex = f\"\"\"\n",
    "    Answer the user's Question based on the following possibly relevant Context. Follow these rules:\n",
    "    1. Never use phrases like \"according to the context,\" \"as the context states,\" etc. Treat the Context as your own knowledge, not something you are referencing.\n",
    "    2. Give a clear, short, and accurate answer. Explain complex terms if needed.\n",
    "    3. You have access to the retrieve tool, to retrieve relevant information to the query as Context.\n",
    "    4. If the answer to the question requires today's date, use the following tool: get_todays_date.\n",
    "    5. If the Context doesn't adequately address the Question, say: \"{fallback_answer}\" only, nothing else.\n",
    "\n",
    "    Remember, your purpose is to provide information based on the Context, not to offer original advice.\n",
    "\"\"\"\n",
    "\n",
    "from langchain_openai import ChatOpenAI\n",
    "from langchain_openai import OpenAIEmbeddings\n",
    "from langchain_core.documents import Document\n",
    "from langchain_core.vectorstores import InMemoryVectorStore\n",
    "from langchain_text_splitters import RecursiveCharacterTextSplitter\n",
    "from langchain_core.tools import BaseTool\n",
    "from langchain_core.messages import (\n",
    "    HumanMessage,\n",
    "    SystemMessage,\n",
    "    BaseMessage,\n",
    ")\n",
    "from typing import List, Optional\n",
    "\n",
    "# Initialize vector store\n",
    "embeddings = OpenAIEmbeddings(model=embedding_model)\n",
    "vector_store = InMemoryVectorStore(embeddings)\n",
    "\n",
    "# Sample document to demonstrate Codex integration\n",
    "product_page_content = \"\"\"Simple Water Bottle - Amber (limited edition launched Jan 1st 2025)\n",
    "A water bottle designed with a perfect blend of functionality and aesthetics in mind. Crafted from high-quality, durable plastic with a sleek honey-colored finish.\n",
    "Price: $24.99 \\nDimensions: 10 inches height x 4 inches width\"\"\"\n",
    "documents =[\n",
    "    Document(\n",
    "        id=\"simple_water_bottle.txt\",\n",
    "        page_content=product_page_content,\n",
    "    ),\n",
    "]\n",
    "\n",
    "# Standard LangChain text splitting - use any splitter that fits your docs\n",
    "text_splitter = RecursiveCharacterTextSplitter(chunk_size=1000, chunk_overlap=200)\n",
    "all_splits = text_splitter.split_documents(documents)\n",
    "\n",
    "# Add documents to your chosen vector store\n",
    "_ = vector_store.add_documents(documents=all_splits)\n",
    "\n",
    "class RAGApp:\n",
    "    def __init__(\n",
    "        self,\n",
    "        llm: ChatOpenAI,\n",
    "        tools: List[BaseTool],\n",
    "        retriever: BaseTool,\n",
    "        messages: Optional[List[BaseMessage]] = None\n",
    "    ):\n",
    "        \"\"\"Initialize RAG application with provided components.\"\"\"\n",
    "        _tools = [retriever] + tools\n",
    "        self.tools = {tool.name: tool for tool in _tools}\n",
    "        self.llm = llm.bind_tools(_tools)\n",
    "        self.messages: List[BaseMessage] = messages or []\n",
    "\n",
    "    def chat(self, user_query: str) -> str:\n",
    "        \"\"\"Process user input and handle any necessary tool calls.\"\"\"\n",
    "        # Add user query to messages\n",
    "        self.messages.append(HumanMessage(content=user_query))\n",
    "        \n",
    "        # Get initial response (may include tool calls)\n",
    "        response = self.llm.invoke(self.messages)\n",
    "        self.messages.append(response)\n",
    "        \n",
    "        # Handle any tool calls\n",
    "        while response.tool_calls:\n",
    "            # Process each tool call\n",
    "            for tool_call in response.tool_calls:\n",
    "                # Get the appropriate tool\n",
    "                tool = self.tools[tool_call[\"name\"].lower()]\n",
    "                \n",
    "                # Call the tool and get result\n",
    "                tool_name = tool_call[\"name\"]\n",
    "                tool_args = tool_call[\"args\"]\n",
    "                print(f\"[internal log] Calling tool: {tool_name} with args: {tool_args}\")\n",
    "                tool_result = tool.invoke(tool_call)\n",
    "                print(f'[internal log] Tool response: {str(tool_result)}')\n",
    "                self.messages.append(tool_result)\n",
    "            \n",
    "            # Get next response after tool calls\n",
    "            response = self.llm.invoke(self.messages)\n",
    "            self.messages.append(response)\n",
    "        \n",
    "        return response.content"
   ]
  },
  {
   "cell_type": "markdown",
   "metadata": {},
   "source": [
    "## Example: Customer Service for a New Product\n",
    "\n",
    "Let's revisit our RAG app built in the [RAG With Tool Calls in LangChain](/codex/tutorials/langchain/langchain_ToolCalls/) tutorial, which has the option to call a `get_todays_date()` tool. This example represents a customer support / e-commerce use-case where the Knowledge Base contains product listings like the following:\n",
    "\n",
    "![Image of a beautiful simple water bottle that is definitely worth more than the asking price](../assets/simple_water_bottle.png)\n",
    "\n",
    "The details of this example RAG app are unimportant if you are already familiar with RAG and Tool Calling, otherwise refer to the [RAG With Tool Calls in LangChain](/codex/tutorials/langchain/langchain_ToolCalls/) tutorial. That tutorial walks through the RAG app defined above. Subsequently, we integrate Codex-as-a-Tool and demonstrate its benefits."
   ]
  },
  {
   "cell_type": "code",
   "execution_count": 29,
   "metadata": {},
   "outputs": [],
   "source": [
    "generation_model = \"gpt-4o\"  # model used by RAG system (has to support tool calling)\n",
    "embedding_model = \"text-embedding-3-small\"   # any LangChain embeddings model \n",
    "\n",
    "llm = ChatOpenAI(model=generation_model)"
   ]
  },
  {
   "cell_type": "markdown",
   "metadata": {},
   "source": [
    "## Create Codex Project\n",
    "\n",
    "To use Codex, first create a Project in the [Web App](https://codex.cleanlab.ai/). That is covered in our tutorial: [Getting Started with the Codex Web App](/codex/sme_tutorials/getting_started/).\n",
    "\n",
    "Here we assume some common (question, answer) pairs about the *Simple Water Bottle* have already been added to a Codex Project.\n",
    "To learn how that was done, see our tutorial: [Populating Codex](/codex/sme_tutorials/populating_codex/).\n",
    "\n",
    "Our existing Codex Project contains the following entries:\n",
    "\n",
    "![Codex Knowledge Base Example](../assets/codex_kb.png)"
   ]
  },
  {
   "cell_type": "code",
   "execution_count": 4,
   "metadata": {},
   "outputs": [],
   "source": [
    "access_key = \"<YOUR-PROJECT-ACCESS-KEY>\"  # Obtain from your Project's settings page: https://codex.cleanlab.ai/"
   ]
  },
  {
   "cell_type": "code",
   "execution_count": 30,
   "metadata": {},
   "outputs": [],
   "source": [
    "# Optional: Programmatically populate the Codex Project with above (question, answer) pairs. Note: The recommended flow is to do this manually in the Web App.\n",
    "from cleanlab_codex.client import Client\n",
    "\n",
    "os.environ[\"CODEX_API_KEY\"] = \"<YOUR-KEY-HERE>\"  # Replace with your Codex API key\n",
    "codex_client = Client()\n",
    "\n",
    "# Create a project\n",
    "project = codex_client.create_project(\n",
    "    name=\"Product FAQs\",\n",
    "    description=\"Questions about product pages\",\n",
    ")\n",
    "\n",
    "# Add entries to the project\n",
    "project.add_entries(\n",
    "    entries=[\n",
    "        {\"question\": \"How much water can the Simple Water Bottle hold?\", \"answer\": \"32oz\"},\n",
    "        {\"question\": \"Can I return my Simple Water Bottle?\", \"answer\": \"Return it within 30 days for a full refund-- no questions asked. Contact our support team to initiate your return!\"},\n",
    "    ],\n",
    ")\n",
    "\n",
    "access_key = project.create_access_key(\"test access key\")"
   ]
  },
  {
   "cell_type": "markdown",
   "metadata": {},
   "source": [
    "## Integrate Codex as an additional tool\n",
    "\n",
    "Integrating Codex into a RAG app that supports tool calling requires minimal code changes:\n",
    "\n",
    "1. Import Codex and add it into your list of `tools`.\n",
    "2. Update your system prompt to include instructions for calling Codex, as demonstrated below in: `system_prompt_with_codex`.\n",
    "\n",
    "After that, call your original RAG pipeline with these updated variables to start experiencing the benefits of Codex!"
   ]
  },
  {
   "cell_type": "code",
   "execution_count": 31,
   "metadata": {},
   "outputs": [],
   "source": [
    "# 1: Import CodexTool\n",
    "from cleanlab_codex import CodexTool\n",
    "\n",
    "codex_tool = CodexTool.from_access_key(access_key=access_key, fallback_answer=fallback_answer)\n",
    "codex_tool_langchain = codex_tool.to_langchain_tool()\n",
    "\n",
    "globals()[codex_tool.tool_name] = codex_tool.query  # Optional step for convenience: make function to call the tool globally accessible\n",
    "\n",
    "# 2: Update the RAG system prompt with instructions for handling Codex (adjust based on your needs)\n",
    "system_message_with_codex = f\"\"\"\n",
    "    You are a helpful assistant designed to help users navigate a complex set of documents for question-answering tasks. Answer the user's Question based on the following possibly relevant Context and previous chat history using the tools provided if necessary. Follow these rules in order:\n",
    "    1. NEVER use phrases like 'according to the context,' 'as the context states,' etc. Treat the Context as your own knowledge, not something you are referencing.\n",
    "    2. Use only information from the provided Context. Your purpose is to provide information based on the Context, not to offer original advice.\n",
    "    3. Give a clear, short, and accurate answer. Explain complex terms if needed.\n",
    "    4. You have access to the retrieve tool, to retrieve relevant information to the query as Context. Prioritize using this tool to answer the user's question.\n",
    "    5. If the answer to the question requires today's date, use the following tool: todays_date_tool. Return the date in the exact format the tool provides it.\n",
    "    6. If you remain unsure how to answer the user query, then use the {codex_tool.tool_name} tool to search for the answer.  Always call {codex_tool.tool_name} whenever the provided Context does not answer the user query. Do not call {codex_tool.tool_name} if you already know the right answer or the necessary information is in the provided Context. Your query to {codex_tool.tool_name} should match the user's original query, unless minor clarification is needed to form a self-contained query. After you have called {codex_tool.tool_name}, determine whether its answer seems helpful, and if so, respond with this answer to the user. If the answer from {codex_tool.tool_name} does not seem helpful, then simply ignore it.\n",
    "    7. If you remain unsure how to answer the Question (even after using the {codex_tool.tool_name} tool and considering the provided Context), then only respond with: \"{fallback_answer}\".\n",
    "\"\"\"\n",
    "\n",
    "# 3: Initialize RAGApp with the CodexTool\n",
    "llm = ChatOpenAI(model=generation_model)\n",
    "rag_with_codex = RAGApp(\n",
    "    llm=llm,\n",
    "    tools=[get_todays_date, codex_tool_langchain],  # Add Codex to list of tools\n",
    "    retriever=retrieve,\n",
    "    messages=[SystemMessage(content=system_message_with_codex)]  # Add system message with Codex instructions\n",
    ")"
   ]
  },
  {
   "cell_type": "markdown",
   "id": "76dfce05-37a7-42ba-a8c5-960722618223",
   "metadata": {},
   "source": [
    "**Optional: Initialize RAG App without CodexTool**\n",
    "\n"
   ]
  },
  {
   "cell_type": "code",
   "execution_count": 32,
   "metadata": {},
   "outputs": [],
   "source": [
    "rag_without_codex = RAGApp(\n",
    "    llm=llm,\n",
    "    tools=[get_todays_date],  # Add your tools here\n",
    "    retriever=retrieve,\n",
    "    messages=[SystemMessage(content=system_message_without_codex)]\n",
    ")"
   ]
  },
  {
   "cell_type": "markdown",
   "metadata": {},
   "source": [
    "## RAG with Codex in action \n",
    "\n",
    "Integrating Codex as-a-Tool allows your RAG app to answer more questions than it was originally capable of.\n",
    "\n",
    "### Example 1\n",
    "\n",
    "Let's ask a question to our **original** RAG app (before Codex was integrated)."
   ]
  },
  {
   "cell_type": "code",
   "execution_count": 34,
   "metadata": {},
   "outputs": [
    {
     "name": "stdout",
     "output_type": "stream",
     "text": [
      "[internal log] Calling tool: retrieve with args: {'query': 'return policy for Simple water bottle'}\n",
      "[internal log] Tool response: content='Simple Water Bottle - Amber (limited edition launched Jan 1st 2025)\\nA water bottle designed with a perfect blend of functionality and aesthetics in mind. Crafted from high-quality, durable plastic with a sleek honey-colored finish.\\nPrice: $24.99 \\nDimensions: 10 inches height x 4 inches width' name='retrieve' tool_call_id='call_egFYhcCvh3D8U2ZGEUjaof0i'\n",
      "\n",
      "[RAG response] Based on the available information, I cannot provide a complete answer to this question.\n"
     ]
    }
   ],
   "source": [
    "response = rag_without_codex.chat(\"Can I return my simple water bottle?\")\n",
    "print(f\"\\n[RAG response] {response}\")"
   ]
  },
  {
   "cell_type": "markdown",
   "metadata": {},
   "source": [
    "The **original RAG app is unable to answer**, in this case because the required information is not in its Knowledge Base.\n",
    "\n",
    "Let's ask the same question to our RAG app with Codex added as an additional tool. \n",
    "Note that we use the updated system prompt and tool list when Codex is integrated in the RAG app."
   ]
  },
  {
   "cell_type": "code",
   "execution_count": 38,
   "metadata": {},
   "outputs": [
    {
     "name": "stdout",
     "output_type": "stream",
     "text": [
      "[internal log] Calling tool: retrieve with args: {'query': 'return policy simple water bottle'}\n",
      "[internal log] Tool response: content='Simple Water Bottle - Amber (limited edition launched Jan 1st 2025)\\nA water bottle designed with a perfect blend of functionality and aesthetics in mind. Crafted from high-quality, durable plastic with a sleek honey-colored finish.\\nPrice: $24.99 \\nDimensions: 10 inches height x 4 inches width' name='retrieve' tool_call_id='call_8un0K0rtE3Pe8Ku1fy50vl47'\n",
      "[internal log] Calling tool: consult_codex with args: {'question': 'Can I return my simple water bottle?'}\n",
      "[internal log] Tool response: content='Return it within 30 days for a full refund-- no questions asked. Contact our support team to initiate your return!' name='consult_codex' tool_call_id='call_vwuHJIxq8FYoFh40J3HnUVq5'\n",
      "\n",
      "[RAG response] You can return your Simple Water Bottle within 30 days for a full refund. Simply contact the support team to initiate your return.\n"
     ]
    }
   ],
   "source": [
    "response = rag_with_codex.chat(\"Can I return my simple water bottle?\")\n",
    "print(f\"\\n[RAG response] {response}\")"
   ]
  },
  {
   "cell_type": "markdown",
   "metadata": {},
   "source": [
    "As you see, **integrating Codex enables your RAG app to answer questions it originally strugged with**, as long as a similar question was already answered in the corresponding Codex Project.\n",
    "\n",
    "### Example 2\n",
    "\n",
    "Let's ask another question to our RAG app with Codex integrated."
   ]
  },
  {
   "cell_type": "code",
   "execution_count": 43,
   "metadata": {},
   "outputs": [
    {
     "name": "stdout",
     "output_type": "stream",
     "text": [
      "[internal log] Calling tool: consult_codex with args: {'question': 'How can I order the Simple Water Bottle in bulk? Please give specific instructions.'}\n",
      "[internal log] Tool response: content='Based on the available information, I cannot provide a complete answer to this question.' name='consult_codex' tool_call_id='call_UAJhjaXsXeKQWWZRyYDqQ5c0'\n",
      "\n",
      "[RAG response] Based on the available information, I cannot provide a complete answer to this question.\n"
     ]
    }
   ],
   "source": [
    "response = rag_with_codex.chat(\"How can I order the Simple Water Bottle in bulk? Please give specific instructions.\")\n",
    "print(f\"\\n[RAG response] {response}\")"
   ]
  },
  {
   "cell_type": "markdown",
   "metadata": {},
   "source": [
    "Our RAG app is unable to answer this question because there is no relevant information in its Knowledge Base, nor has a similar question been answered in the Codex Project (see the contents of the Codex Project above).\n",
    "\n",
    "**Codex automatically recognizes this question could not be answered and logs it into the Project where it awaits an answer from a SME**.\n",
    "\n",
    "![Codex Project with asked question that has not been answered yet](../assets/codex_kb_unanswered.png)\n",
    "\n",
    "As soon as an answer is provided in Codex, our RAG app will be able to answer all similar questions going forward (as seen for the previous query).\n",
    "\n",
    "### Example 3\n",
    "\n",
    "Let's ask another query to our RAG app with Codex integrated. This is a query the  original RAG app was able to correctly answer without Codex (since the relevant information exists in the Knowledge Base)."
   ]
  },
  {
   "cell_type": "code",
   "execution_count": 44,
   "metadata": {},
   "outputs": [
    {
     "name": "stdout",
     "output_type": "stream",
     "text": [
      "\n",
      "[RAG response] The Simple Water Bottle has dimensions of 10 inches in height and 4 inches in width.\n"
     ]
    }
   ],
   "source": [
    "response = rag_with_codex.chat(\"How big is the water bottle?\")\n",
    "print(f\"\\n[RAG response] {response}\")"
   ]
  },
  {
   "cell_type": "markdown",
   "metadata": {},
   "source": [
    "We see that the RAG app with Codex integrated is still able to correctly answer this query. **Integrating Codex has no negative effect on questions your original RAG app could answer**.\n",
    "\n",
    "## Next Steps\n",
    "\n",
    "Now that Codex is integrated with your RAG app, you and SMEs can [open the Codex Project and answer questions](/codex/sme_tutorials/codex_as_sme/) logged there to continuously improve your AI.\n",
    "\n",
    "**Adding Codex only improves your RAG app.** Once integrated, Codex automatically logs all user queries that your original RAG app handles poorly. Using a [simple web interface](/codex/sme_tutorials/codex_as_sme/), SMEs at your company can answer the highest priority questions in the Codex Project. As soon as an answer is entered in Codex, your RAG app will be able to properly handle all similar questions encountered in the future.\n",
    "\n",
    "Codex is **the fastest way for nontechnical SMEs to directly improve your AI application**. As the Developer, you simply integrate Codex once, and from then on, SMEs can continuously improve how your AI handles common user queries without needing your help.\n",
    "\n",
    "Need help, more capabilities, or other deployment options? \n",
    "Check the [FAQ](/codex/FAQ/) or email us at: support@cleanlab.ai"
   ]
  },
  {
   "cell_type": "markdown",
   "id": "7bb862b4-f619-4ed5-9045-4abb2923d2c9",
   "metadata": {},
   "source": [
    "**Optional: View message history for deeper understanding**\n",
    "\n"
   ]
  },
  {
   "cell_type": "code",
   "execution_count": null,
   "metadata": {},
   "outputs": [],
   "source": [
    "\n",
    "rag_with_codex.messages[-2:]\n",
    "\n",
    "\n",
    "# Use the above code to print the full conversation history including tool calls, which can help you understand the internal steps. Here is the output:\n",
    "\n",
    "[HumanMessage(content='How big is the water bottle?', additional_kwargs={}, response_metadata={}),\n",
    " AIMessage(content='The Simple Water Bottle has dimensions of 10 inches in height and 4 inches in width.', additional_kwargs={'refusal': None}, response_metadata={'token_usage': {'completion_tokens': 21, 'prompt_tokens': 1892, 'total_tokens': 1913, 'completion_tokens_details': {'accepted_prediction_tokens': 0, 'audio_tokens': 0, 'reasoning_tokens': 0, 'rejected_prediction_tokens': 0}, 'prompt_tokens_details': {'audio_tokens': 0, 'cached_tokens': 1664}}, 'model_name': 'gpt-4o-2024-08-06', 'system_fingerprint': 'fp_523b9b6e5f', 'finish_reason': 'stop', 'logprobs': None}, id='run-08ce1883-e6fc-4d9c-9446-91794a136c74-0', usage_metadata={'input_tokens': 1892, 'output_tokens': 21, 'total_tokens': 1913, 'input_token_details': {'audio': 0, 'cache_read': 1664}, 'output_token_details': {'audio': 0, 'reasoning': 0}})]"
   ]
  }
 ],
 "metadata": {
  "kernelspec": {
   "display_name": "codex-env",
   "language": "python",
   "name": "python3"
  },
  "language_info": {
   "codemirror_mode": {
    "name": "ipython",
    "version": 3
   },
   "file_extension": ".py",
   "mimetype": "text/x-python",
   "name": "python",
   "nbconvert_exporter": "python",
   "pygments_lexer": "ipython3",
   "version": "3.13.0"
  }
 },
 "nbformat": 4,
 "nbformat_minor": 2
}