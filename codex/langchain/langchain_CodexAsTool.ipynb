{
 "cells": [
  {
   "cell_type": "markdown",
   "metadata": {},
   "source": [
    "# Integrate Codex as-a-Tool with LangChain\n",
    "\n",
    "We demonstrate how to integrate Codex with a conversational *agentic* RAG application built with [Langchain](https://github.com/langchain-ai/langchain).\n",
    "\n",
    "This tutorial presumes your RAG app already supports tool calls. Learn how to add tool calls to any LangChain application via our tutorial: [RAG with Tool Calls in LangChain](/codex/tutorials/langchain/langchain_CodexAsTool/).\n",
    "\n",
    "Once you have a RAG app that supports tool calling, **adding Codex as an additional Tool takes minimal effort but guarantees better responses from your AI application**.\n",
    "\n",
    "![RAG Workflow](../assets/codexastool_retrievalastool_simple.png)\n",
    "\n",
    "If you want to integrate Codex without adding tool calls to your application, check out our [other integrations](/codex/concepts/integrations/).\n",
    "\n",
    "Let's first install packages required for this tutorial."
   ]
  },
  {
   "cell_type": "code",
   "execution_count": null,
   "metadata": {},
   "outputs": [],
   "source": [
    "%pip install langchain-text-splitters langchain-community langgraph langchain-openai  # we used package-versions 0.3.5, 0.3.16, 1.59.7, 0.3.2\n",
    "%pip install --upgrade cleanlab-codex"
   ]
  },
  {
   "cell_type": "code",
   "execution_count": null,
   "metadata": {},
   "outputs": [],
   "source": [
    "import os\n",
    "\n",
    "os.environ[\"OPENAI_API_KEY\"] = \"<YOUR-KEY-HERE>\"  # Replace with your OpenAI API key"
   ]
  },
  {
   "cell_type": "markdown",
   "id": "00827732-fa3e-45fb-ac5f-bd84ccae0c83",
   "metadata": {},
   "source": [
    "**Optional: Helper methods for basic RAG from prior tutorial (Adding Tool Calls to RAG)**\n",
    "\n"
   ]
  },
  {
   "cell_type": "code",
   "execution_count": 7,
   "metadata": {},
   "outputs": [],
   "source": [
    "from langchain_core.tools import tool\n",
    "from datetime import datetime\n",
    "\n",
    "@tool\n",
    "def get_todays_date(date_format: str) -> str:\n",
    "  \"A tool that returns today's date in the date format requested. Options for date_format parameter are: '%Y-%m-%d', '%d', '%m', '%Y'.\"\n",
    "  datetime_str = datetime.now().strftime(date_format)\n",
    "  return datetime_str\n",
    "\n",
    "@tool\n",
    "def retrieve(query: str) -> str:\n",
    "    \"\"\"Search through available documents to find relevant information.\"\"\"\n",
    "    docs = vector_store.similarity_search(query, k=2)\n",
    "    return \"\\n\\n\".join(doc.page_content for doc in docs)\n",
    "\n",
    "embedding_model = \"text-embedding-3-small\"   # any LangChain embeddings model \n",
    "\n",
    "fallback_answer = \"Based on the available information, I cannot provide a complete answer to this question.\"\n",
    "\n",
    "system_message_without_codex = f\"\"\"You are a helpful assistant designed to help users navigate a complex set of documents for question-answering tasks. Answer the user's Question based on the following possibly relevant Context and previous chat history using the tools provided if necessary. Follow these rules in order:\n",
    "    1. NEVER use phrases like \"according to the context\", \"as the context states\", etc. Treat the Context as your own knowledge, not something you are referencing.\n",
    "    2. Use only information from the provided Context.\n",
    "    3. Give a clear, short, and accurate Answer. Explain complex terms if needed.\n",
    "    4. You have access to the retrieve tool, to retrieve relevant information to the query as Context.\n",
    "    5. If the answer to the question requires today's date, use the following tool: get_todays_date. Return the date in the exact format the tool provides it.\n",
    "    6. If the Context doesn't adequately address the Question or you are unsure how to answer the Question, say: \"{fallback_answer}\" only, nothing else.\n",
    "\n",
    "    Remember, your purpose is to provide information based on the Context, not to offer original advice.\n",
    "\"\"\"\n",
    "\n",
    "from langchain_openai import ChatOpenAI\n",
    "from langchain_openai import OpenAIEmbeddings\n",
    "from langchain_core.documents import Document\n",
    "from langchain_core.vectorstores import InMemoryVectorStore\n",
    "from langchain_text_splitters import RecursiveCharacterTextSplitter\n",
    "from langchain_core.tools import BaseTool\n",
    "from langchain_core.messages import (\n",
    "    HumanMessage,\n",
    "    SystemMessage,\n",
    "    BaseMessage,\n",
    ")\n",
    "from typing import List, Optional\n",
    "\n",
    "# Initialize vector store\n",
    "embeddings = OpenAIEmbeddings(model=embedding_model)\n",
    "vector_store = InMemoryVectorStore(embeddings)\n",
    "\n",
    "# Sample document to demonstrate Codex integration\n",
    "product_page_content = \"\"\"Simple Water Bottle - Amber (limited edition launched Jan 1st 2025)\n",
    "A water bottle designed with a perfect blend of functionality and aesthetics in mind. Crafted from high-quality, durable plastic with a sleek honey-colored finish.\n",
    "Price: $24.99 \\nDimensions: 10 inches height x 4 inches width\"\"\"\n",
    "documents =[\n",
    "    Document(\n",
    "        id=\"simple_water_bottle.txt\",\n",
    "        page_content=product_page_content,\n",
    "    ),\n",
    "]\n",
    "\n",
    "# Standard LangChain text splitting - use any splitter that fits your docs\n",
    "text_splitter = RecursiveCharacterTextSplitter(chunk_size=1000, chunk_overlap=200)\n",
    "all_splits = text_splitter.split_documents(documents)\n",
    "\n",
    "# Add documents to your chosen vector store\n",
    "_ = vector_store.add_documents(documents=all_splits)\n",
    "\n",
    "class RAGApp:\n",
    "    def __init__(\n",
    "        self,\n",
    "        llm: ChatOpenAI,\n",
    "        tools: List[BaseTool],\n",
    "        retriever: BaseTool,\n",
    "        messages: Optional[List[BaseMessage]] = None\n",
    "    ):\n",
    "        \"\"\"Initialize RAG application with provided components.\"\"\"\n",
    "        _tools = [retriever] + tools\n",
    "        self.tools = {tool.name: tool for tool in _tools}\n",
    "        self.llm = llm.bind_tools(_tools)\n",
    "        self.messages: List[BaseMessage] = messages or []\n",
    "\n",
    "    def chat(self, user_query: str) -> str:\n",
    "        \"\"\"Process user input and handle any necessary tool calls.\"\"\"\n",
    "        # Add user query to messages\n",
    "        self.messages.append(HumanMessage(content=user_query))\n",
    "        \n",
    "        # Get initial response (may include tool calls)\n",
    "        print(f\"[internal log] Invoking LLM text\\n{user_query}\\n\\n\")\n",
    "        response = self.llm.invoke(self.messages)\n",
    "        self.messages.append(response)\n",
    "        \n",
    "        # Handle any tool calls\n",
    "        while response.tool_calls:\n",
    "            # Process each tool call\n",
    "            for tool_call in response.tool_calls:\n",
    "                # Get the appropriate tool\n",
    "                tool = self.tools[tool_call[\"name\"].lower()]\n",
    "                \n",
    "                # Call the tool and get result\n",
    "                tool_name = tool_call[\"name\"]\n",
    "                tool_args = tool_call[\"args\"]\n",
    "                print(f\"[internal log] Calling tool: {tool_name} with args: {tool_args}\")\n",
    "                tool_result = tool.invoke(tool_call)\n",
    "                print(f'[internal log] Tool response: {str(tool_result)}')\n",
    "                self.messages.append(tool_result)\n",
    "            \n",
    "            # Get next response after tool calls\n",
    "            response = self.llm.invoke(self.messages)\n",
    "            self.messages.append(response)\n",
    "        \n",
    "        return response.content"
   ]
  },
  {
   "cell_type": "markdown",
   "metadata": {},
   "source": [
    "## Example: Customer Service for a New Product\n",
    "\n",
    "Let's revisit our RAG app built in the [RAG With Tool Calls in LangChain](/codex/tutorials/langchain/langchain_ToolCalls/) tutorial, which has the option to call a `get_todays_date()` tool. This example represents a customer support / e-commerce use-case where the Knowledge Base contains product listings like the following:\n",
    "\n",
    "![Image of a beautiful simple water bottle that is definitely worth more than the asking price](../assets/simple_water_bottle.png)\n",
    "\n",
    "The details of this example RAG app are unimportant if you are already familiar with RAG and Tool Calling, otherwise refer to the [RAG With Tool Calls in LangChain](/codex/tutorials/langchain/langchain_ToolCalls/) tutorial. That tutorial walks through the RAG app defined above. Subsequently, we integrate Codex-as-a-Tool and demonstrate its benefits."
   ]
  },
  {
   "cell_type": "code",
   "execution_count": 8,
   "metadata": {},
   "outputs": [],
   "source": [
    "generation_model = \"gpt-4o\"  # model used by RAG system (has to support tool calling)\n",
    "embedding_model = \"text-embedding-3-small\"   # any LangChain embeddings model \n",
    "\n",
    "llm = ChatOpenAI(model=generation_model)"
   ]
  },
  {
   "cell_type": "markdown",
   "metadata": {},
   "source": [
    "## Create Codex Project\n",
    "\n",
    "To use Codex, first create a Project in the [Web App](https://codex.cleanlab.ai/). That is covered in our tutorial: [Getting Started with the Codex Web App](/codex/web_tutorials/create_project/).\n",
    "\n",
    "Here we assume some common (question, answer) pairs about the *Simple Water Bottle* have already been added to a Codex Project.\n",
    "To learn how that was done, see our tutorial: [Populating Codex](/codex/web_tutorials/populating_codex/).\n",
    "\n",
    "Our existing Codex Project contains the following entries:\n",
    "\n",
    "![Codex Knowledge Base Example](../assets/codex_kb.png)"
   ]
  },
  {
   "cell_type": "code",
   "execution_count": 4,
   "metadata": {},
   "outputs": [],
   "source": [
    "access_key = \"<YOUR-PROJECT-ACCESS-KEY>\"  # Obtain from your Project's settings page: https://codex.cleanlab.ai/"
   ]
  },
  {
   "cell_type": "code",
   "execution_count": 9,
   "metadata": {},
   "outputs": [],
   "source": [
    "# Optional: Programmatically populate the Codex Project with above (question, answer) pairs. Note: The recommended flow is to do this manually in the Web App.\n",
    "from cleanlab_codex.client import Client\n",
    "\n",
    "os.environ[\"CODEX_API_KEY\"] = \"<YOUR-KEY-HERE>\"  # Replace with your Codex API key\n",
    "codex_client = Client()\n",
    "\n",
    "# Create a project\n",
    "project = codex_client.create_project(\n",
    "    name=\"Product FAQs\",\n",
    "    description=\"Questions about product pages\",\n",
    ")\n",
    "\n",
    "# Add entries to the project\n",
    "project.add_entries(\n",
    "    entries=[\n",
    "        {\"question\": \"How much water can the Simple Water Bottle hold?\", \"answer\": \"32oz\"},\n",
    "        {\"question\": \"Can I return my Simple Water Bottle?\", \"answer\": \"Return it within 30 days for a full refund-- no questions asked. Contact our support team to initiate your return!\"},\n",
    "    ],\n",
    ")\n",
    "\n",
    "access_key = project.create_access_key(\"test access key\")"
   ]
  },
  {
   "cell_type": "markdown",
   "metadata": {},
   "source": [
    "## Integrate Codex as an additional tool\n",
    "\n",
    "Integrating Codex into a RAG app that supports tool calling requires minimal code changes:\n",
    "\n",
    "1. Import Codex and add it into your list of `tools`.\n",
    "2. Update your system prompt to include instructions for calling Codex, as demonstrated below in: `system_prompt_with_codex`.\n",
    "\n",
    "After that, call your original RAG pipeline with these updated variables to start experiencing the benefits of Codex!"
   ]
  },
  {
   "cell_type": "code",
   "execution_count": 10,
   "metadata": {},
   "outputs": [],
   "source": [
    "# 1: Import CodexTool\n",
    "from cleanlab_codex import CodexTool\n",
    "\n",
    "codex_tool = CodexTool.from_access_key(access_key=access_key, fallback_answer=fallback_answer)\n",
    "codex_tool_langchain = codex_tool.to_langchain_tool()\n",
    "\n",
    "globals()[codex_tool.tool_name] = codex_tool.query  # Optional step for convenience: make function to call the tool globally accessible\n",
    "\n",
    "# 2: Update the RAG system prompt with instructions for handling Codex (adjust based on your needs)\n",
    "system_message_with_codex = f\"\"\"You are a helpful assistant designed to help users navigate a complex set of documents for question-answering tasks. Answer the user's Question based on the following possibly relevant Context and previous chat history using the tools provided if necessary. Follow these rules in order:\n",
    "    1. NEVER use phrases like \"according to the context\", \"as the context states\", etc. Treat the Context as your own knowledge, not something you are referencing.\n",
    "    2. Use only information from the provided Context.\n",
    "    3. Give a clear, short, and accurate Answer. Explain complex terms if needed.\n",
    "    4. You have access to the retrieve tool, to retrieve relevant information to the query as Context. Prioritize using this tool to answer the user's question.\n",
    "    5. If the answer to the question requires today's date, use the following tool: get_todays_date. Return the date in the exact format the tool provides it.\n",
    "    6. When the Context does not answer the user's Question, call the `{codex_tool.tool_name}` tool.\n",
    "        - Always use `{codex_tool.tool_name}` if the provided Context lacks the necessary information.\n",
    "        - Your query to `{codex_tool.tool_name}` should closely match the user\u2019s original Question, with only minor clarifications if needed.\n",
    "        - Evaluate the response from `{codex_tool.tool_name}`. If the response is helpful, use it to answer the user\u2019s Question. If the response is not helpful, ignore it.\n",
    "    7. If you still cannot confidently answer the user's Question (even after using `{codex_tool.tool_name}` and other tools), say: \"{fallback_answer}\".\n",
    "    \n",
    "    Remember, your purpose is to provide information based on the Context and make effective use of `{codex_tool.tool_name}` when necessary, not to offer original advice.\n",
    "\"\"\"\n",
    "\n",
    "# 3: Initialize RAGApp with the CodexTool\n",
    "llm = ChatOpenAI(model=generation_model)\n",
    "rag_with_codex = RAGApp(\n",
    "    llm=llm,\n",
    "    tools=[get_todays_date, codex_tool_langchain],  # Add Codex to list of tools\n",
    "    retriever=retrieve,\n",
    "    messages=[SystemMessage(content=system_message_with_codex)]  # Add system message with Codex instructions\n",
    ")"
   ]
  },
  {
   "cell_type": "markdown",
   "id": "bb44efe5-7ad7-45c0-b39f-cec4236e1a48",
   "metadata": {},
   "source": [
    "**Optional: Initialize RAG App without CodexTool**\n",
    "\n"
   ]
  },
  {
   "cell_type": "code",
   "execution_count": 11,
   "metadata": {},
   "outputs": [],
   "source": [
    "rag_without_codex = RAGApp(\n",
    "    llm=llm,\n",
    "    tools=[get_todays_date],  # Add your tools here\n",
    "    retriever=retrieve,\n",
    "    messages=[SystemMessage(content=system_message_without_codex)]\n",
    ")"
   ]
  },
  {
   "cell_type": "markdown",
   "metadata": {},
   "source": [
    "## RAG with Codex in action \n",
    "\n",
    "Integrating Codex as-a-Tool allows your RAG app to answer more questions than it was originally capable of.\n",
    "\n",
    "### Example 1\n",
    "\n",
    "Let's ask a question to our **original** RAG app (before Codex was integrated)."
   ]
  },
  {
   "cell_type": "code",
   "execution_count": 12,
   "metadata": {},
   "outputs": [
    {
     "name": "stdout",
     "output_type": "stream",
     "text": [
      "[internal log] Invoking LLM text\n",
      "Can I return my Simple Water Bottle?\n",
      "\n",
      "\n",
      "[internal log] Calling tool: retrieve with args: {'query': 'return policy Simple Water Bottle'}\n",
      "[internal log] Tool response: content='Simple Water Bottle - Amber (limited edition launched Jan 1st 2025)\\nA water bottle designed with a perfect blend of functionality and aesthetics in mind. Crafted from high-quality, durable plastic with a sleek honey-colored finish.\\nPrice: $24.99 \\nDimensions: 10 inches height x 4 inches width' name='retrieve' tool_call_id='call_sgAI7KAE6FOkLEkrNO3gyTa8'\n",
      "[internal log] Calling tool: retrieve with args: {'query': 'product return policy for Simple Water Bottle'}\n",
      "[internal log] Tool response: content='Simple Water Bottle - Amber (limited edition launched Jan 1st 2025)\\nA water bottle designed with a perfect blend of functionality and aesthetics in mind. Crafted from high-quality, durable plastic with a sleek honey-colored finish.\\nPrice: $24.99 \\nDimensions: 10 inches height x 4 inches width' name='retrieve' tool_call_id='call_uLEor5qEOATBccqZkle18xs6'\n",
      "\n",
      "[RAG response] Based on the available information, I cannot provide a complete answer to this question.\n"
     ]
    }
   ],
   "source": [
    "response = rag_without_codex.chat(\"Can I return my Simple Water Bottle?\")\n",
    "print(f\"\\n[RAG response] {response}\")"
   ]
  },
  {
   "cell_type": "markdown",
   "metadata": {},
   "source": [
    "The **original RAG app is unable to answer**, in this case because the required information is not in its Knowledge Base.\n",
    "\n",
    "Let's ask the same question to our RAG app with Codex added as an additional tool. \n",
    "Note that we use the updated system prompt and tool list when Codex is integrated in the RAG app."
   ]
  },
  {
   "cell_type": "code",
   "execution_count": 13,
   "metadata": {},
   "outputs": [
    {
     "name": "stdout",
     "output_type": "stream",
     "text": [
      "[internal log] Invoking LLM text\n",
      "Can I return my Simple Water Bottle?\n",
      "\n",
      "\n",
      "[internal log] Calling tool: retrieve with args: {'query': 'return policy for Simple Water Bottle'}\n",
      "[internal log] Tool response: content='Simple Water Bottle - Amber (limited edition launched Jan 1st 2025)\\nA water bottle designed with a perfect blend of functionality and aesthetics in mind. Crafted from high-quality, durable plastic with a sleek honey-colored finish.\\nPrice: $24.99 \\nDimensions: 10 inches height x 4 inches width' name='retrieve' tool_call_id='call_Wq45UKhvTUPu4dYHMapvz7XK'\n",
      "[internal log] Calling tool: consult_codex with args: {'question': 'Can I return my Simple Water Bottle?'}\n",
      "[internal log] Tool response: content='Return it within 30 days for a full refund-- no questions asked. Contact our support team to initiate your return!' name='consult_codex' tool_call_id='call_WWXpJs9gVJ76iBxkVok2iusd'\n",
      "\n",
      "[RAG response] You can return your Simple Water Bottle within 30 days for a full refund, no questions asked. To start the return process, contact the support team.\n"
     ]
    }
   ],
   "source": [
    "response = rag_with_codex.chat(\"Can I return my Simple Water Bottle?\")\n",
    "print(f\"\\n[RAG response] {response}\")"
   ]
  },
  {
   "cell_type": "markdown",
   "metadata": {},
   "source": [
    "As you see, **integrating Codex enables your RAG app to answer questions it originally strugged with**, as long as a similar question was already answered in the corresponding Codex Project.\n",
    "\n",
    "### Example 2\n",
    "\n",
    "Let's ask another question to our RAG app with Codex integrated."
   ]
  },
  {
   "cell_type": "code",
   "execution_count": 14,
   "metadata": {},
   "outputs": [
    {
     "name": "stdout",
     "output_type": "stream",
     "text": [
      "[internal log] Invoking LLM text\n",
      "How can I order the Simple Water Bottle in bulk?\n",
      "\n",
      "\n",
      "[internal log] Calling tool: retrieve with args: {'query': 'bulk order information for Simple Water Bottle'}\n",
      "[internal log] Tool response: content='Simple Water Bottle - Amber (limited edition launched Jan 1st 2025)\\nA water bottle designed with a perfect blend of functionality and aesthetics in mind. Crafted from high-quality, durable plastic with a sleek honey-colored finish.\\nPrice: $24.99 \\nDimensions: 10 inches height x 4 inches width' name='retrieve' tool_call_id='call_Pnmk649A9owExO1ObQqjNQsN'\n",
      "[internal log] Calling tool: consult_codex with args: {'question': 'How can I order the Simple Water Bottle in bulk?'}\n",
      "[internal log] Tool response: content='Based on the available information, I cannot provide a complete answer to this question.' name='consult_codex' tool_call_id='call_P1xGJRR4MCzTIkJawyepqvn8'\n",
      "\n",
      "[RAG response] Based on the available information, I cannot provide a complete answer to your question about ordering the Simple Water Bottle in bulk. It would be best to contact the manufacturer or the retailer directly for bulk ordering options.\n"
     ]
    }
   ],
   "source": [
    "response = rag_with_codex.chat(\"How can I order the Simple Water Bottle in bulk?\")\n",
    "print(f\"\\n[RAG response] {response}\")"
   ]
  },
  {
   "cell_type": "markdown",
   "metadata": {},
   "source": [
    "Our RAG app is unable to answer this question because there is no relevant information in its Knowledge Base, nor has a similar question been answered in the Codex Project (see the contents of the Codex Project above).\n",
    "\n",
    "**Codex automatically recognizes this question could not be answered and logs it into the Project where it awaits an answer from a SME**.\n",
    "\n",
    "![Codex Project with asked question that has not been answered yet](../assets/codex_kb_unanswered.png)\n",
    "\n",
    "As soon as an answer is provided in Codex, our RAG app will be able to answer all similar questions going forward (as seen for the previous query).\n",
    "\n",
    "### Example 3\n",
    "\n",
    "Let's ask another query to our RAG app with Codex integrated. This is a query the  original RAG app was able to correctly answer without Codex (since the relevant information exists in the Knowledge Base)."
   ]
  },
  {
   "cell_type": "code",
   "execution_count": 15,
   "metadata": {},
   "outputs": [
    {
     "name": "stdout",
     "output_type": "stream",
     "text": [
      "[internal log] Invoking LLM text\n",
      "How big is the water bottle?\n",
      "\n",
      "\n",
      "\n",
      "[RAG response] The Simple Water Bottle is 10 inches in height and 4 inches in width.\n"
     ]
    }
   ],
   "source": [
    "response = rag_with_codex.chat(\"How big is the water bottle?\")\n",
    "print(f\"\\n[RAG response] {response}\")"
   ]
  },
  {
   "cell_type": "markdown",
   "metadata": {},
   "source": [
    "We see that the RAG app with Codex integrated is still able to correctly answer this query. **Integrating Codex has no negative effect on questions your original RAG app could answer**.\n",
    "\n",
    "## Next Steps\n",
    "\n",
    "Now that Codex is integrated with your RAG app, you and SMEs can [open the Codex Project and answer questions](/codex/web_tutorials/codex_as_sme/) logged there to continuously improve your AI.\n",
    "\n",
    "**Adding Codex only improves your RAG app.** Once integrated, Codex automatically logs all user queries that your original RAG app handles poorly. Using a [simple web interface](/codex/web_tutorials/codex_as_sme/), SMEs at your company can answer the highest priority questions in the Codex Project. As soon as an answer is entered in Codex, your RAG app will be able to properly handle all similar questions encountered in the future.\n",
    "\n",
    "Codex is **the fastest way for nontechnical SMEs to directly improve your AI application**. As the Developer, you simply integrate Codex once, and from then on, SMEs can continuously improve how your AI handles common user queries without needing your help.\n",
    "\n",
    "Need help, more capabilities, or other deployment options? \n",
    "Check the [FAQ](/codex/FAQ/) or email us at: support@cleanlab.ai"
   ]
  },
  {
   "cell_type": "markdown",
   "id": "681c1431-b158-4094-89c5-a48a255e3925",
   "metadata": {},
   "source": [
    "**Optional: View message history for deeper understanding**\n",
    "\n",
    "The full conversation history including tool calls can help you understand the internal steps. Here is the output:\n"
   ]
  },
  {
   "cell_type": "code",
   "execution_count": 16,
   "metadata": {},
   "outputs": [
    {
     "data": {
      "text/plain": [
       "[SystemMessage(content='You are a helpful assistant designed to help users navigate a complex set of documents for question-answering tasks. Answer the user\\'s Question based on the following possibly relevant Context and previous chat history using the tools provided if necessary. Follow these rules in order:\\n    1. NEVER use phrases like \"according to the context\", \"as the context states\", etc. Treat the Context as your own knowledge, not something you are referencing.\\n    2. Use only information from the provided Context.\\n    3. Give a clear, short, and accurate Answer. Explain complex terms if needed.\\n    4. You have access to the retrieve tool, to retrieve relevant information to the query as Context. Prioritize using this tool to answer the user\\'s question.\\n    5. If the answer to the question requires today\\'s date, use the following tool: get_todays_date. Return the date in the exact format the tool provides it.\\n    6. When the Context does not answer the user\\'s Question, call the `consult_codex` tool.\\n        - Always use `consult_codex` if the provided Context lacks the necessary information.\\n        - Your query to `consult_codex` should closely match the user\u2019s original Question, with only minor clarifications if needed.\\n        - Evaluate the response from `consult_codex`. If the response is helpful, use it to answer the user\u2019s Question. If the response is not helpful, ignore it.\\n    7. If you still cannot confidently answer the user\\'s Question (even after using `consult_codex` and other tools), say: \"Based on the available information, I cannot provide a complete answer to this question.\".\\n    \\n    Remember, your purpose is to provide information based on the Context and make effective use of `consult_codex` when necessary, not to offer original advice.\\n', additional_kwargs={}, response_metadata={}),\n",
       " HumanMessage(content='Can I return my Simple Water Bottle?', additional_kwargs={}, response_metadata={}),\n",
       " AIMessage(content='', additional_kwargs={'tool_calls': [{'id': 'call_Wq45UKhvTUPu4dYHMapvz7XK', 'function': {'arguments': '{\"query\":\"return policy for Simple Water Bottle\"}', 'name': 'retrieve'}, 'type': 'function'}], 'refusal': None}, response_metadata={'token_usage': {'completion_tokens': 19, 'prompt_tokens': 555, 'total_tokens': 574, 'completion_tokens_details': {'accepted_prediction_tokens': 0, 'audio_tokens': 0, 'reasoning_tokens': 0, 'rejected_prediction_tokens': 0}, 'prompt_tokens_details': {'audio_tokens': 0, 'cached_tokens': 0}}, 'model_name': 'gpt-4o-2024-08-06', 'system_fingerprint': 'fp_eb9dce56a8', 'finish_reason': 'tool_calls', 'logprobs': None}, id='run-ac4728e8-88f0-4e7c-b7cd-174e1f4748a9-0', tool_calls=[{'name': 'retrieve', 'args': {'query': 'return policy for Simple Water Bottle'}, 'id': 'call_Wq45UKhvTUPu4dYHMapvz7XK', 'type': 'tool_call'}], usage_metadata={'input_tokens': 555, 'output_tokens': 19, 'total_tokens': 574, 'input_token_details': {'audio': 0, 'cache_read': 0}, 'output_token_details': {'audio': 0, 'reasoning': 0}}),\n",
       " ToolMessage(content='Simple Water Bottle - Amber (limited edition launched Jan 1st 2025)\\nA water bottle designed with a perfect blend of functionality and aesthetics in mind. Crafted from high-quality, durable plastic with a sleek honey-colored finish.\\nPrice: $24.99 \\nDimensions: 10 inches height x 4 inches width', name='retrieve', tool_call_id='call_Wq45UKhvTUPu4dYHMapvz7XK'),\n",
       " AIMessage(content='', additional_kwargs={'tool_calls': [{'id': 'call_WWXpJs9gVJ76iBxkVok2iusd', 'function': {'arguments': '{\"question\":\"Can I return my Simple Water Bottle?\"}', 'name': 'consult_codex'}, 'type': 'function'}], 'refusal': None}, response_metadata={'token_usage': {'completion_tokens': 24, 'prompt_tokens': 644, 'total_tokens': 668, 'completion_tokens_details': {'accepted_prediction_tokens': 0, 'audio_tokens': 0, 'reasoning_tokens': 0, 'rejected_prediction_tokens': 0}, 'prompt_tokens_details': {'audio_tokens': 0, 'cached_tokens': 0}}, 'model_name': 'gpt-4o-2024-08-06', 'system_fingerprint': 'fp_eb9dce56a8', 'finish_reason': 'tool_calls', 'logprobs': None}, id='run-201b4141-eeff-405e-a6d1-3c8de77ac0d9-0', tool_calls=[{'name': 'consult_codex', 'args': {'question': 'Can I return my Simple Water Bottle?'}, 'id': 'call_WWXpJs9gVJ76iBxkVok2iusd', 'type': 'tool_call'}], usage_metadata={'input_tokens': 644, 'output_tokens': 24, 'total_tokens': 668, 'input_token_details': {'audio': 0, 'cache_read': 0}, 'output_token_details': {'audio': 0, 'reasoning': 0}}),\n",
       " ToolMessage(content='Return it within 30 days for a full refund-- no questions asked. Contact our support team to initiate your return!', name='consult_codex', tool_call_id='call_WWXpJs9gVJ76iBxkVok2iusd'),\n",
       " AIMessage(content='You can return your Simple Water Bottle within 30 days for a full refund, no questions asked. To start the return process, contact the support team.', additional_kwargs={'refusal': None}, response_metadata={'token_usage': {'completion_tokens': 33, 'prompt_tokens': 700, 'total_tokens': 733, 'completion_tokens_details': {'accepted_prediction_tokens': 0, 'audio_tokens': 0, 'reasoning_tokens': 0, 'rejected_prediction_tokens': 0}, 'prompt_tokens_details': {'audio_tokens': 0, 'cached_tokens': 0}}, 'model_name': 'gpt-4o-2024-08-06', 'system_fingerprint': 'fp_eb9dce56a8', 'finish_reason': 'stop', 'logprobs': None}, id='run-9117ef08-7b93-44a9-904a-b77fb5d530f5-0', usage_metadata={'input_tokens': 700, 'output_tokens': 33, 'total_tokens': 733, 'input_token_details': {'audio': 0, 'cache_read': 0}, 'output_token_details': {'audio': 0, 'reasoning': 0}}),\n",
       " HumanMessage(content='How can I order the Simple Water Bottle in bulk?', additional_kwargs={}, response_metadata={}),\n",
       " AIMessage(content='', additional_kwargs={'tool_calls': [{'id': 'call_Pnmk649A9owExO1ObQqjNQsN', 'function': {'arguments': '{\"query\":\"bulk order information for Simple Water Bottle\"}', 'name': 'retrieve'}, 'type': 'function'}], 'refusal': None}, response_metadata={'token_usage': {'completion_tokens': 20, 'prompt_tokens': 750, 'total_tokens': 770, 'completion_tokens_details': {'accepted_prediction_tokens': 0, 'audio_tokens': 0, 'reasoning_tokens': 0, 'rejected_prediction_tokens': 0}, 'prompt_tokens_details': {'audio_tokens': 0, 'cached_tokens': 0}}, 'model_name': 'gpt-4o-2024-08-06', 'system_fingerprint': 'fp_eb9dce56a8', 'finish_reason': 'tool_calls', 'logprobs': None}, id='run-84aa636c-b0d0-432d-9b14-c0e12ae17f7a-0', tool_calls=[{'name': 'retrieve', 'args': {'query': 'bulk order information for Simple Water Bottle'}, 'id': 'call_Pnmk649A9owExO1ObQqjNQsN', 'type': 'tool_call'}], usage_metadata={'input_tokens': 750, 'output_tokens': 20, 'total_tokens': 770, 'input_token_details': {'audio': 0, 'cache_read': 0}, 'output_token_details': {'audio': 0, 'reasoning': 0}}),\n",
       " ToolMessage(content='Simple Water Bottle - Amber (limited edition launched Jan 1st 2025)\\nA water bottle designed with a perfect blend of functionality and aesthetics in mind. Crafted from high-quality, durable plastic with a sleek honey-colored finish.\\nPrice: $24.99 \\nDimensions: 10 inches height x 4 inches width', name='retrieve', tool_call_id='call_Pnmk649A9owExO1ObQqjNQsN'),\n",
       " AIMessage(content='', additional_kwargs={'tool_calls': [{'id': 'call_P1xGJRR4MCzTIkJawyepqvn8', 'function': {'arguments': '{\"question\":\"How can I order the Simple Water Bottle in bulk?\"}', 'name': 'consult_codex'}, 'type': 'function'}], 'refusal': None}, response_metadata={'token_usage': {'completion_tokens': 27, 'prompt_tokens': 840, 'total_tokens': 867, 'completion_tokens_details': {'accepted_prediction_tokens': 0, 'audio_tokens': 0, 'reasoning_tokens': 0, 'rejected_prediction_tokens': 0}, 'prompt_tokens_details': {'audio_tokens': 0, 'cached_tokens': 0}}, 'model_name': 'gpt-4o-2024-08-06', 'system_fingerprint': 'fp_eb9dce56a8', 'finish_reason': 'tool_calls', 'logprobs': None}, id='run-3dcebd00-7e8d-4823-96b2-8b395008f8eb-0', tool_calls=[{'name': 'consult_codex', 'args': {'question': 'How can I order the Simple Water Bottle in bulk?'}, 'id': 'call_P1xGJRR4MCzTIkJawyepqvn8', 'type': 'tool_call'}], usage_metadata={'input_tokens': 840, 'output_tokens': 27, 'total_tokens': 867, 'input_token_details': {'audio': 0, 'cache_read': 0}, 'output_token_details': {'audio': 0, 'reasoning': 0}}),\n",
       " ToolMessage(content='Based on the available information, I cannot provide a complete answer to this question.', name='consult_codex', tool_call_id='call_P1xGJRR4MCzTIkJawyepqvn8'),\n",
       " AIMessage(content='Based on the available information, I cannot provide a complete answer to your question about ordering the Simple Water Bottle in bulk. It would be best to contact the manufacturer or the retailer directly for bulk ordering options.', additional_kwargs={'refusal': None}, response_metadata={'token_usage': {'completion_tokens': 43, 'prompt_tokens': 891, 'total_tokens': 934, 'completion_tokens_details': {'accepted_prediction_tokens': 0, 'audio_tokens': 0, 'reasoning_tokens': 0, 'rejected_prediction_tokens': 0}, 'prompt_tokens_details': {'audio_tokens': 0, 'cached_tokens': 0}}, 'model_name': 'gpt-4o-2024-08-06', 'system_fingerprint': 'fp_eb9dce56a8', 'finish_reason': 'stop', 'logprobs': None}, id='run-f8425fb8-1588-4737-bad1-f21fc9059b91-0', usage_metadata={'input_tokens': 891, 'output_tokens': 43, 'total_tokens': 934, 'input_token_details': {'audio': 0, 'cache_read': 0}, 'output_token_details': {'audio': 0, 'reasoning': 0}}),\n",
       " HumanMessage(content='How big is the water bottle?', additional_kwargs={}, response_metadata={}),\n",
       " AIMessage(content='The Simple Water Bottle is 10 inches in height and 4 inches in width.', additional_kwargs={'refusal': None}, response_metadata={'token_usage': {'completion_tokens': 19, 'prompt_tokens': 947, 'total_tokens': 966, 'completion_tokens_details': {'accepted_prediction_tokens': 0, 'audio_tokens': 0, 'reasoning_tokens': 0, 'rejected_prediction_tokens': 0}, 'prompt_tokens_details': {'audio_tokens': 0, 'cached_tokens': 0}}, 'model_name': 'gpt-4o-2024-08-06', 'system_fingerprint': 'fp_eb9dce56a8', 'finish_reason': 'stop', 'logprobs': None}, id='run-3996c1b6-c757-4131-9cbd-27b87818c3e0-0', usage_metadata={'input_tokens': 947, 'output_tokens': 19, 'total_tokens': 966, 'input_token_details': {'audio': 0, 'cache_read': 0}, 'output_token_details': {'audio': 0, 'reasoning': 0}})]"
      ]
     },
     "execution_count": 16,
     "metadata": {},
     "output_type": "execute_result"
    }
   ],
   "source": [
    "\n",
    "rag_with_codex.messages"
   ]
  },
  {
   "cell_type": "code",
   "execution_count": null,
   "metadata": {},
   "outputs": [],
   "source": []
  }
 ],
 "metadata": {
  "kernelspec": {
   "display_name": "3.10.12",
   "language": "python",
   "name": "python3"
  },
  "language_info": {
   "codemirror_mode": {
    "name": "ipython",
    "version": 3
   },
   "file_extension": ".py",
   "mimetype": "text/x-python",
   "name": "python",
   "nbconvert_exporter": "python",
   "pygments_lexer": "ipython3",
   "version": "3.10.12"
  }
 },
 "nbformat": 4,
 "nbformat_minor": 2
}