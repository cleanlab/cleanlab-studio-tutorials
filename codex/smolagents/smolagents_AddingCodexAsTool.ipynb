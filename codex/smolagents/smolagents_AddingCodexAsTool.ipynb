{
 "cells": [
  {
   "cell_type": "markdown",
   "metadata": {},
   "source": [
    "# Integrate Codex as-a-tool with smolagents"
   ]
  },
  {
   "cell_type": "markdown",
   "metadata": {},
   "source": [
    "This notebook demonstrates how to integrate Codex as a tool within an existing AI Agent using the [smolagents](https://github.com/huggingface/smolagents) library.\n",
    "\n",
    "For simplicity, this example shows how to set up a basic Agent with vector store search, then showcases how adding Codex as a tool enables the Agent to handle questions beyond its knowledge base.\n",
    "\n",
    "This tutorial presumes you have already set up an AI Agent that does RAG with smolagents. If unsure how to set up an AI Agent that does RAG with smolagents, follow our tutorial: [Adding Tool Calls to RAG](/codex/tutorials/smolagents/smolagents_ToolCalls/).\n",
    "\n",
    "The code provided in this notebook is for an Agentic RAG application, with single-turn conversations.\n",
    "\n",
    "![RAG Workflow](../assets/codexastool_retrievalastool_simple.png)\n",
    "\n",
    "If you prefer to integrate Codex without adding tool calls to your Agent, check out our [other integrations](/codex/concepts/integrations/) for an overview.\n",
    "\n",
    "\n",
    "Let's first install packages required for this tutorial. Most of these packages are the same as those used in [smolagents' RAG tutorial](https://huggingface.co/docs/smolagents/examples/rag)."
   ]
  },
  {
   "cell_type": "code",
   "execution_count": null,
   "metadata": {},
   "outputs": [],
   "source": [
    "%pip install smolagents pandas langchain langchain-community rank_bm25 --upgrade -q"
   ]
  },
  {
   "cell_type": "markdown",
   "metadata": {},
   "source": [
    "%pip install litellm  # Optional dependency of smolagents to use LiteLLM as a gateway to many LLMs, "
   ]
  },
  {
   "cell_type": "code",
   "execution_count": null,
   "metadata": {},
   "outputs": [],
   "source": [
    "%pip install cleanlab-codex"
   ]
  },
  {
   "cell_type": "markdown",
   "id": "01c992d5-7128-4363-a037-10864d10cf8c",
   "metadata": {},
   "source": [
    "**Optional: Helper methods for a smolagents agent from prior tutorial (Agentic RAG with smolagents)**\n",
    "\n"
   ]
  },
  {
   "cell_type": "code",
   "execution_count": 1,
   "metadata": {},
   "outputs": [],
   "source": [
    "\n",
    "from datetime import datetime\n",
    "from langchain.docstore.document import Document\n",
    "from langchain.text_splitter import RecursiveCharacterTextSplitter\n",
    "from langchain_community.retrievers import BM25Retriever\n",
    "from smolagents import Tool, tool\n",
    "\n",
    "\n",
    "source_docs = [\n",
    "    Document(\n",
    "        page_content=\"\"\"Simple Water Bottle - Amber (limited edition launched Jan 1st 2025)\n",
    "        \n",
    "        A water bottle designed with a perfect blend of functionality and aesthetics in mind. \n",
    "        Crafted from high-quality, durable plastic with a sleek honey-colored finish.\n",
    "\n",
    "        Price: $24.99\n",
    "        Dimensions: 10 inches height x 4 inches width\n",
    "        \"\"\",\n",
    "        metadata={\"source\": \"bottle.txt\"}\n",
    "    ),\n",
    "]\n",
    "\n",
    "text_splitter = RecursiveCharacterTextSplitter(\n",
    "    chunk_size=500,\n",
    "    chunk_overlap=50,\n",
    "    add_start_index=True,\n",
    "    strip_whitespace=True,\n",
    "    separators=[\"\\n\\n\", \"\\n\", \".\", \" \", \"\"],\n",
    ")\n",
    "docs_processed = text_splitter.split_documents(source_docs)\n",
    "\n",
    "\n",
    "fallback_answer = \"Based on the available information, I cannot provide a complete answer to this question.\"\n",
    "\n",
    "# First, we'll define a retriever tool similar to the one in smolagents' RAG tutorial\n",
    "# (https://huggingface.co/docs/smolagents/examples/rag). The key difference is that we've \n",
    "# enhanced the tool description to give the agent clear instructions about when and how to \n",
    "# use this search capability. This helps the agent make better decisions about tool usage \n",
    "# and handle cases where information isn't found.\n",
    "class RetrieverTool(Tool):\n",
    "    name = \"retriever\"\n",
    "    description = f\"\"\"Uses search to retrieve relevant parts of a knowledge base to answer a query.\n",
    "    Start with the original question for search. If no relevant information is found, prefer alternate tools or state \"{fallback_answer}\".\n",
    "    Avoid making assumptions.\n",
    "    \"\"\"\n",
    "\n",
    "    inputs = {\n",
    "        \"query\": {\n",
    "            \"type\": \"string\",\n",
    "            \"description\": \"The question to answer. Always use the original question, never rephrase it.\",\n",
    "        }\n",
    "    }\n",
    "    output_type = \"string\"\n",
    "\n",
    "    def __init__(self, docs, **kwargs):\n",
    "        super().__init__(**kwargs)\n",
    "        self.retriever = BM25Retriever.from_documents(\n",
    "            docs, k=10\n",
    "        )\n",
    "\n",
    "    def forward(self, query: str) -> str:\n",
    "    \n",
    "        assert isinstance(query, str), \"Your search query must be a string\"\n",
    "\n",
    "        docs = self.retriever.invoke(\n",
    "            query,\n",
    "        )\n",
    "        return \"\\nRetrieved documents:\\n\" + \"\".join(\n",
    "            [\n",
    "                f\"\\n\\n===== Document {str(i)} =====\\n\" + doc.page_content\n",
    "                for i, doc in enumerate(docs)\n",
    "            ]\n",
    "        )\n",
    "\n",
    "@tool\n",
    "def get_todays_date(date_format: str) -> str:\n",
    "  \"\"\"A tool that returns today's date in the date format requested. Use this tool when knowing today's date is necessary to answer the question, like checking if something is available now or calculating how long until a future or past date.\n",
    "  \n",
    "  Args:\n",
    "      date_format: The date format to return today's date in. Options are: '%Y-%m-%d', '%d', '%m', '%Y'. The default is '%Y-%m-%d'.\n",
    "    \n",
    "  Returns:\n",
    "      str: Today's date in the requested format.\n",
    "  \"\"\"\n",
    "  datetime_str = datetime.now().strftime(date_format)\n",
    "  return datetime_str"
   ]
  },
  {
   "cell_type": "markdown",
   "metadata": {},
   "source": [
    "## Example: Customer Service for a New Product\n",
    "\n",
    "Let's revisit our Agent built in the tutorial: [RAG with Tool Calls in smolagents](/codex/tutorials/smolagents/smolagents_ToolCalls/), which has the option to call a `get_todays_date()` tool. This example represents a customer support / e-commerce use-case where the Knowledge Base contains product listings like the following:\n",
    "\n",
    "![Image of a beautiful simple water bottle that is definitely worth more than the asking price](../assets/simple_water_bottle.png)\n",
    "\n",
    "For simplicity, our Agent's Knowledge Base here only contains a single document featuring this one product description.\n",
    "\n",
    "Let's initialize an LLM with tool-calling capabilities, as well as the retriever tool and then integrate Codex to improve the Agent's responses."
   ]
  },
  {
   "cell_type": "code",
   "execution_count": 2,
   "metadata": {},
   "outputs": [],
   "source": [
    "from smolagents import LiteLLMModel\n",
    "import os\n",
    "\n",
    "os.environ[\"OPENAI_API_KEY\"] = \"<YOUR-KEY-HERE>\"  # Replace with your OpenAI API key\n",
    "model = LiteLLMModel(\"openai/gpt-4o-mini\")"
   ]
  },
  {
   "cell_type": "markdown",
   "metadata": {},
   "source": [
    "## Create Codex Project\n",
    "\n",
    "To use Codex, first [create a Project](/codex/web_tutorials/create_project/).\n",
    "\n",
    "Here we assume some common (question, answer) pairs about the *Simple Water Bottle* have already been added to a Codex Project.\n",
    "Learn how that was done via our tutorial: [Populating Codex](/codex/web_tutorials/populating_codex/).\n",
    "\n",
    "Our existing Codex Project contains the following entries:\n",
    "\n",
    "![Codex Knowledge Base Example](../assets/codex_kb.png)"
   ]
  },
  {
   "cell_type": "code",
   "execution_count": 3,
   "metadata": {},
   "outputs": [],
   "source": [
    "access_key = \"<YOUR-PROJECT-ACCESS-KEY>\"  # Obtain from your Project's settings page: https://codex.cleanlab.ai/"
   ]
  },
  {
   "cell_type": "code",
   "execution_count": 5,
   "metadata": {},
   "outputs": [],
   "source": [
    "# Optional: Programmatically populate the Codex Project with above (question, answer) pairs. Note: The recommended flow is to do this manually in the Web App.\n",
    "from cleanlab_codex.client import Client\n",
    "import os\n",
    "\n",
    "os.environ[\"CODEX_API_KEY\"] = \"<YOUR-KEY-HERE>\"  # Replace with your Codex API key\n",
    "codex_client = Client()\n",
    "\n",
    "# Create a project\n",
    "project = codex_client.create_project(\n",
    "    name=\"Product FAQs\",\n",
    "    description=\"Questions about product pages\",\n",
    ")\n",
    "\n",
    "# Add entries to the project\n",
    "project.add_entries(\n",
    "    entries=[\n",
    "        {\"question\": \"How much water can the Simple Water Bottle hold?\", \"answer\": \"32oz\"},\n",
    "        {\"question\": \"Can I return my Simple Water Bottle?\", \"answer\": \"Return it within 30 days for a full refund-- no questions asked. Contact our support team to initiate your return!\"},\n",
    "    ],\n",
    ")\n",
    "\n",
    "access_key = project.create_access_key(\"test access key\")"
   ]
  },
  {
   "cell_type": "markdown",
   "metadata": {},
   "source": [
    "## Integrate Codex as an additional tool\n",
    "\n",
    "You only need to make minimal changes to your code to include Codex as an additional tool:\n",
    "\n",
    "Add Codex to the list of tools provided to the Agent. But before that, you should update the description of the Codex tool to include instructions for the agent on when to use it.\n",
    "\n",
    "After that, call your Agent with these updated variables to start experiencing the benefits of Codex!"
   ]
  },
  {
   "cell_type": "code",
   "execution_count": 4,
   "metadata": {},
   "outputs": [],
   "source": [
    "from cleanlab_codex import CodexTool\n",
    "from smolagents import CodeAgent\n",
    "\n",
    "# Instantiate the retriever tool\n",
    "retriever_tool = RetrieverTool(docs_processed)\n",
    "\n",
    "\n",
    "# Instantiate the Codex tool\n",
    "codex_tool = CodexTool.from_access_key(access_key=access_key)\n",
    "\n",
    "# Update the description of the Codex tool to include instructions for the agent on when to use it.\n",
    "codex_tool.tool_description += \"\\nUse this tool once as a backup when you cannot find sufficient information to answer the question. Always use the original question as the query - do not rephrase or modify it.\"\n",
    "\n",
    "# Convert the Codex tool to a Smolagents tool\n",
    "codex_tool_smolagents = codex_tool.to_smolagents_tool()\n",
    "\n",
    "\n",
    "agent_with_codex = CodeAgent(\n",
    "    tools=[\n",
    "        retriever_tool,\n",
    "        codex_tool_smolagents,\n",
    "        get_todays_date,  # Add other tools here\n",
    "    ],\n",
    "    model=model,\n",
    "    verbosity_level=0,  # Suppress internal logging\n",
    ")"
   ]
  },
  {
   "cell_type": "markdown",
   "id": "9e8023c4-aaf5-4b51-8e8e-0cec552206e2",
   "metadata": {},
   "source": [
    "**Optional: Create another version of the Assistant without Codex (`rag_without_codex`)**\n",
    "\n"
   ]
  },
  {
   "cell_type": "code",
   "execution_count": 5,
   "metadata": {},
   "outputs": [],
   "source": [
    "agent_without_codex = CodeAgent(\n",
    "    tools=[\n",
    "        retriever_tool,\n",
    "        get_todays_date,  # Add other tools here\n",
    "    ],\n",
    "    model=model,\n",
    "    verbosity_level=0,  # Suppress internal logging\n",
    ")"
   ]
  },
  {
   "cell_type": "markdown",
   "metadata": {},
   "source": [
    "**Note:** This tutorial uses a Codex tool definition provided in [smolagents format](https://huggingface.co/docs/smolagents/en/reference/tools#smolagents.Tool) via the `to_smolagents_tool()` function. You can instead manually write the Codex tool definition yourself or import it in alternate [provided formats](/codex/api/python/codex_tool/).\n",
    "\n",
    "In with agentic frameworks like smolagents, retrieval is implemented as a tool (named `retrieval`) that can be called by the Agent. \n",
    "We're using a `CodeAgent`, which is more powerful than a traditional tool-calling Agent because:\n",
    "\n",
    "1. A `CodeAgent` can write and execute code to orchestrate tool interactions in sophisticated ways\n",
    "2. A tool-calling Agent can only make direct calls to the provided tools in a sequential manner\n",
    "\n",
    "With this added complexity, we should avoid modifying the pre-defined system prompt unless we fully understand the implications of doing so. Instead, **we recommend providing clear tool usage instructions \n",
    "through the tool descriptions themselves**.\n",
    " \n",
    "The smolagents framework will naturally integrate the updated description of the Codex tool into the system prompt.\n",
    "For smolagents, we recommend instructing the Agent to only consider the Codex tool after it has used `retrieval` and is still unsure how to answer."
   ]
  },
  {
   "cell_type": "markdown",
   "metadata": {},
   "source": [
    "## RAG with Codex in action\n",
    "\n",
    "Integrating Codex as-a-Tool allows your Agent to answer more questions than it was originally capable of.\n",
    "\n",
    "### Example 1\n",
    "\n",
    "Let's ask a question to our **original** Agent (before Codex was integrated)."
   ]
  },
  {
   "cell_type": "code",
   "execution_count": 6,
   "metadata": {},
   "outputs": [
    {
     "name": "stdout",
     "output_type": "stream",
     "text": [
      "Based on the available information, I cannot provide a complete answer to this question.\n"
     ]
    }
   ],
   "source": [
    "user_question = \"Can I return my simple water bottle?\"\n",
    "response = agent_without_codex.run(user_question)\n",
    "print(response)"
   ]
  },
  {
   "cell_type": "markdown",
   "metadata": {},
   "source": [
    "The **original Agent is unable to answer**, in this case because the required information is not in its Knowledge Base.\n",
    "\n",
    "Let's ask the same question to our agent with Codex added as an additional tool. \n",
    "Note that we use the updated tool list when Codex is integrated in the Agent."
   ]
  },
  {
   "cell_type": "code",
   "execution_count": 7,
   "metadata": {},
   "outputs": [
    {
     "name": "stdout",
     "output_type": "stream",
     "text": [
      "You can return your simple water bottle within 30 days for a full refund, no questions asked. Please contact the support team to initiate your return.\n"
     ]
    }
   ],
   "source": [
    "response = agent_with_codex.run(user_question)\n",
    "print(response)"
   ]
  },
  {
   "cell_type": "markdown",
   "metadata": {},
   "source": [
    "As you see, **integrating Codex enables your Agent to answer questions it originally strugged with**, as long as a similar question was already answered in the corresponding Codex Project."
   ]
  },
  {
   "cell_type": "markdown",
   "metadata": {},
   "source": [
    "### Example 2\n",
    "\n",
    "Let's ask another question to our agent with Codex integrated."
   ]
  },
  {
   "cell_type": "code",
   "execution_count": 8,
   "metadata": {},
   "outputs": [
    {
     "name": "stdout",
     "output_type": "stream",
     "text": [
      "Based on the available information, I cannot provide a complete answer to this question.\n"
     ]
    }
   ],
   "source": [
    "user_question = \"How can I order the Simple Water Bottle in bulk?\"\n",
    "response = agent_with_codex.run(user_question)\n",
    "print(response)"
   ]
  },
  {
   "cell_type": "markdown",
   "metadata": {},
   "source": [
    "Our Agent is unable to answer this question because there is no relevant information in its Knowledge Base, nor has a similar question been answered in the Codex Project (see the contents of the Codex Project above).\n",
    "\n",
    "**Codex automatically recognizes this question could not be answered and logs it into the Project where it awaits an answer from a SME**.\n",
    "Navigate to your Codex Project in the [Web App](https://codex.cleanlab.ai/) where you (or a SME at your company) can enter the desired answer for this query.\n",
    "\n",
    "![Codex Project with asked question that has not been answered yet](../assets/codex_kb_unanswered.png)\n",
    "\n",
    "As soon as an answer is provided in Codex, our Agent will be able to answer all similar questions going forward (as seen for the previous query)."
   ]
  },
  {
   "cell_type": "markdown",
   "metadata": {},
   "source": [
    "### Example 3\n",
    "\n",
    "Let's ask another query to our Agent with Codex integrated. This is a query the original Agent was able to correctly answer without Codex (since the relevant information exists in the Knowledge Base)."
   ]
  },
  {
   "cell_type": "code",
   "execution_count": 9,
   "metadata": {},
   "outputs": [
    {
     "name": "stdout",
     "output_type": "stream",
     "text": [
      "The water bottle has a height of 10 inches and a width of 4 inches.\n"
     ]
    }
   ],
   "source": [
    "user_question = \"How big is the water bottle?\"\n",
    "response = agent_with_codex.run(user_question)\n",
    "print(response)"
   ]
  },
  {
   "cell_type": "markdown",
   "metadata": {},
   "source": [
    "We see that the Agent with Codex integrated is still able to correctly answer this query. **Integrating Codex has no negative effect on questions your original Agent could answer**.\n",
    "\n",
    "## Next Steps\n",
    "\n",
    "Now that Codex is integrated with your Agent, you and SMEs can [open the Codex Project and answer questions](/codex/web_tutorials/codex_as_sme/) logged there to continuously improve your AI.\n",
    "\n",
    "**Adding Codex only improves your AI Agent.** Once integrated, Codex automatically logs all user queries that your original AI Agent handles poorly. Using a [simple web interface](/codex/web_tutorials/codex_as_sme/), SMEs at your company can answer the highest priority questions in the Codex Project. As soon as an answer is entered in Codex, your AI Agent will be able to properly handle all similar questions encountered in the future.\n",
    "\n",
    "Codex is **the fastest way for nontechnical SMEs to directly improve your AI application**. As the Developer, you simply integrate Codex once, and from then on, SMEs can continuously improve how your AI handles common user queries without needing your help.\n",
    "\n",
    "Need help, more capabilities, or other deployment options? \n",
    "Check the [FAQ](/codex/FAQ/) or email us at: support@cleanlab.ai"
   ]
  }
 ],
 "metadata": {
  "kernelspec": {
   "display_name": ".venv",
   "language": "python",
   "name": "python3"
  },
  "language_info": {
   "codemirror_mode": {
    "name": "ipython",
    "version": 3
   },
   "file_extension": ".py",
   "mimetype": "text/x-python",
   "name": "python",
   "nbconvert_exporter": "python",
   "pygments_lexer": "ipython3",
   "version": "3.12.8"
  }
 },
 "nbformat": 4,
 "nbformat_minor": 2
}