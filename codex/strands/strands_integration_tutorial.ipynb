{
 "cells": [
  {
   "cell_type": "markdown",
   "metadata": {},
   "source": [
    "# Integrate Cleanlab with AWS Strands Agents\n",
    "\n",
    "This tutorial demonstrates how to integrate Cleanlab with AI Agents built using the [Strands SDK](https://github.com/strands-agents/sdk-python). With *minimal* changes to your existing Strands Agent code, you can detect bad responses and automatically remediate them in real-time."
   ]
  },
  {
   "cell_type": "markdown",
   "metadata": {},
   "source": [
    "## Setup\n",
    "\n",
    "The Python packages required for this tutorial can be installed using pip:"
   ]
  },
  {
   "cell_type": "code",
   "execution_count": null,
   "metadata": {},
   "outputs": [],
   "source": [
    "%pip install --upgrade cleanlab-codex strands-agents \"strands-agents[openai]\" tavily-python"
   ]
  },
  {
   "cell_type": "markdown",
   "metadata": {},
   "source": [
    "This tutorial requires a Cleanlab API key. Get one [here](https://codex.cleanlab.ai/)."
   ]
  },
  {
   "cell_type": "code",
   "execution_count": null,
   "metadata": {},
   "outputs": [],
   "source": [
    "import os\n",
    "os.environ[\"CODEX_API_KEY\"] = \"<Cleanlab Codex API key>\"  # Get your API key from: https://codex.cleanlab.ai/\n",
    "os.environ[\"OPENAI_API_KEY\"] = \"<OpenAI API key>\"  # for using OpenAI models with Strands\n",
    "os.environ[\"TAVILY_API_KEY\"] = \"<TAVILY API KEY>\"  # for using a web search tool (get your free API key from Tavily)"
   ]
  },
  {
   "cell_type": "code",
   "execution_count": 6,
   "metadata": {},
   "outputs": [],
   "source": [
    "from cleanlab_codex.client import Client\n",
    "from tavily import TavilyClient"
   ]
  },
  {
   "cell_type": "markdown",
   "metadata": {},
   "source": [
    "## Overview of this tutorial\n",
    "\n",
    "This tutorial showcases using Cleanlab's CleanlabModel wrapper to add real-time validation to Strands Agents. \n",
    "\n",
    "We'll demonstrate five key scenarios:\n",
    "\n",
    "1. **Conversational Chat Response** - Basic agent interaction with validation\n",
    "2. **Tool Call Response** - Agent response using tools with validation\n",
    "3. **Bad AI Response** - How Cleanlab detects and scores problematic responses\n",
    "4. **Expert Answer Response** - A deterministic remediation to problematic responses\n",
    "5. **Information Retrieval Tool Call Response** - Context-aware validation with web search"
   ]
  },
  {
   "cell_type": "markdown",
   "metadata": {},
   "source": [
    "### Create Cleanlab Project\n",
    "\n",
    "To use the Cleanlab AI Platform for validation, we must first [create a Project](/codex/web_tutorials/create_project/).\n",
    "Here we assume no (question, answer) pairs have already been added to the Project yet.\n",
    "\n",
    "User queries where Cleanlab detected a bad response from your AI app will be logged in this Project for SMEs to later answer."
   ]
  },
  {
   "cell_type": "code",
   "execution_count": 3,
   "metadata": {},
   "outputs": [],
   "source": [
    "# Create a Cleanlab project\n",
    "client = Client()\n",
    "\n",
    "project = client.create_project(\n",
    "    name=\"Strands Agent with Cleanlab Validation Tutorial\",\n",
    "    description=\"Tutorial demonstrating validation of a Strands Agent with CleanlabModel wrapper\"\n",
    ")"
   ]
  },
  {
   "cell_type": "markdown",
   "metadata": {},
   "source": [
    "### Example Use Case: Bank Loan Customer Support\n",
    "\n",
    "We'll build a customer support agent for bank loans to demonstrate validation scenarios.\n",
    "\n",
    "Let's define tools representing different response quality levels:\n",
    "- a *good* tool that returns reasonable information\n",
    "- a *bad* tool that returns problematic information\n",
    "- a web search tool that provides additional *context* to the Agent\n",
    "\n",
    "**Note:** The web search tool follows the example information retrieval function defined in the [Strands Web Search tutorial](https://aws.amazon.com/blogs/machine-learning/build-dynamic-web-research-agents-with-the-strands-agents-sdk-and-tavily/)"
   ]
  },
  {
   "cell_type": "markdown",
   "id": "5500890e-119f-4df6-9e1f-f0df9c518469",
   "metadata": {},
   "source": [
    "**Optional: Tool definitions for demonstration scenarios**\n",
    "\n"
   ]
  },
  {
   "cell_type": "code",
   "execution_count": 4,
   "metadata": {},
   "outputs": [],
   "source": [
    "from strands.tools.decorator import tool\n",
    "\n",
    "# ============ Good Tool: Returns reasonable information ============\n",
    "@tool\n",
    "def get_payment_schedule(account_id: str) -> str:\n",
    "    \"\"\"Get payment schedule for an account.\"\"\"\n",
    "    payment_schedule = f\"\"\"Account {account_id} has: \n",
    "        Bi-weekly payment plan\n",
    "        Upcoming payment scheduled for next Friday\n",
    "    \"\"\"\n",
    "    return payment_schedule\n",
    "\n",
    "# ============ Bad Tool: Returns problematic information ============\n",
    "@tool\n",
    "def get_total_amount_owed(account_id: str) -> dict:\n",
    "    \"\"\"A tool that simulates fetching the total amount owed for a loan.\n",
    "    **Note:** This tool returns a hardcoded *unrealistic* total amount for demonstration purposes.\"\"\"\n",
    "    return {\n",
    "        \"account_id\": account_id,\n",
    "        \"currency\": \"USD\",\n",
    "        \"total\": 7000000000000000000000000000000000000.00,\n",
    "    }\n",
    "\n",
    "# ============ Web Search Tool: Provides context for the Agent ============\n",
    "@tool\n",
    "def web_search(\n",
    "    query: str, time_range: str | None = None, include_domains: str | None = None\n",
    ") -> str:\n",
    "    \"\"\"Perform a web search. Returns the search results as a string, with the title, url, and content of each result ranked by relevance.\n",
    "    Args:\n",
    "        query (str): The search query to be sent for the web search.\n",
    "        time_range (str | None, optional): Limits results to content published within a specific timeframe.\n",
    "            Valid values: 'd' (day - 24h), 'w' (week - 7d), 'm' (month - 30d), 'y' (year - 365d).\n",
    "            Defaults to None.\n",
    "        include_domains (list[str] | None, optional): A list of domains to restrict search results to.\n",
    "            Only results from these domains will be returned. Defaults to None.\n",
    "    Returns:\n",
    "        formatted_results (str): The web search results\n",
    "    \"\"\"\n",
    "    \n",
    "    def format_search_results_for_agent(search_results: list[dict]) -> str:\n",
    "        \"\"\"Format search results into a numbered context string for the agent.\"\"\"\n",
    "        results = search_results[\"results\"]\n",
    "        parts = []\n",
    "        for i, r in enumerate(results, start=1):\n",
    "            title = r.get(\"title\", \"\").strip()\n",
    "            content = r.get(\"content\", \"\").strip()\n",
    "            if title or content:\n",
    "                block = (\n",
    "                    f\"Context {i}:\\n\"\n",
    "                    f\"title: {title}\\n\"\n",
    "                    f\"content: {content}\"\n",
    "                )\n",
    "                parts.append(block)\n",
    "        return \"\\n\\n\".join(parts)\n",
    "    \n",
    "    client = TavilyClient(api_key=os.getenv(\"TAVILY_API_KEY\"))\n",
    "    formatted_results = format_search_results_for_agent(\n",
    "        client.search(\n",
    "            query=query,\n",
    "            max_results=2,\n",
    "            time_range=time_range,\n",
    "            include_domains=include_domains\n",
    "        )\n",
    "    )\n",
    "    return formatted_results"
   ]
  },
  {
   "cell_type": "markdown",
   "metadata": {},
   "source": [
    "## Strands Integration\n",
    "\n",
    "To add response validation to your Strands agents, wrap any existing Strands model with a CleanlabModel for real-time validation during Agent execution.\n",
    "\n",
    "Cleanlab's wrapper intercepts responses during generation and validates them in real-time, and provides automatic expert answer substitution and guardrail enforcement.\n",
    "\n",
    "**Integration steps:**\n",
    "1. Wrap your Model with CleanlabModel \n",
    "2. Create your Agent with the wrapped Model\n",
    "3. Call `cleanlab_model.set_agent_reference(agent)` for full functionality\n",
    "\n",
    "#### Context-Aware Validation for Information Retrieval\n",
    "\n",
    "For agents with tools that retrieve information (e.g., RAG, web search, database queries), Cleanlab can use this retrieved content as **context** during validation. This enables more accurate evaluation by:\n",
    "\n",
    "- Checking if the AI response is grounded in the retrieved information\n",
    "- Measuring context sufficiency (whether enough information was retrieved)\n",
    "- Detecting hallucinations by comparing the response against actual context\n",
    "\n",
    "To enable this, specify the names of your context-providing tools in the `context_retrieval_tools` parameter during CleanlabModel initialization."
   ]
  },
  {
   "cell_type": "code",
   "execution_count": 14,
   "metadata": {},
   "outputs": [],
   "source": [
    "import uuid\n",
    "\n",
    "from strands.agent.agent import Agent\n",
    "from strands.models.openai import OpenAIModel\n",
    "from strands.session.file_session_manager import FileSessionManager\n",
    "\n",
    "from cleanlab_codex.experimental.strands import CleanlabModel\n",
    "\n",
    "SYSTEM_PROMPT = \"You are a customer service agent for bank loans. Be polite and concise in your responses. Always rely on the tool answers.\"\n",
    "\n",
    "# Create base model\n",
    "base_model = OpenAIModel(\n",
    "    model_id=\"gpt-4o-mini\",\n",
    ")\n",
    "\n",
    "### New code to add for Cleanlab API ###\n",
    "FALLBACK_RESPONSE = \"Sorry I am unsure. You can try rephrasing your request.\"\n",
    "\n",
    "cleanlab_model = CleanlabModel( # Wrap with Cleanlab validation\n",
    "    underlying_model=base_model,\n",
    "    cleanlab_project=project,\n",
    "    fallback_response=FALLBACK_RESPONSE,\n",
    "    context_retrieval_tools=[\"web_search\", \"get_payment_schedule\", \"get_total_amount_owed\"]  # Specify tool(s) that provide context\n",
    ")\n",
    "### End of new code to add for Cleanlab API ###\n",
    "\n",
    "# Create agent with validated model for normal conversation\n",
    "agent = Agent(\n",
    "    model=cleanlab_model,  # Add your wrapped model here\n",
    "    system_prompt=SYSTEM_PROMPT,\n",
    "    tools=[get_payment_schedule, get_total_amount_owed, web_search],\n",
    "    session_manager=FileSessionManager(session_id=uuid.uuid4().hex),  # Persist chat history\n",
    "    callback_handler=None,  # Optionally add a callback handler for logging\n",
    ")\n",
    "\n",
    "### New code to add for Cleanlab API ###\n",
    "cleanlab_model.set_agent_reference(agent)\n",
    "### End of new code to add for Cleanlab API ###"
   ]
  },
  {
   "cell_type": "markdown",
   "metadata": {},
   "source": [
    "### Scenario 1: Conversational Chat Response\n",
    "\n",
    "Let's start with a basic agent interaction without tools. \n",
    "\n",
    "The CleanlabModel wrapper validates the response in real-time."
   ]
  },
  {
   "cell_type": "markdown",
   "id": "31a8325c-b323-473d-8117-791853b846ed",
   "metadata": {},
   "source": [
    "**Optional: Helper method to run the agent and print Cleanlab validation results**\n",
    "\n"
   ]
  },
  {
   "cell_type": "code",
   "execution_count": 7,
   "metadata": {},
   "outputs": [],
   "source": [
    "\n",
    "def display_openai_validation_results(final_output, initial_llm_response, validation_result, query):\n",
    "    \"\"\"Helper function to display OpenAI Agent validation results with consistent formatting\"\"\"\n",
    "    print(\"-\" * 30)\n",
    "    print(\"Response Delivered to User:\")\n",
    "    print(\"-\" * 30)  \n",
    "    print() \n",
    "    print(final_output)\n",
    "    print()\n",
    "    print()\n",
    "    print(\"=== Internal Trace (not shown to user) ===\")\n",
    "    print()\n",
    "    \n",
    "    if validation_result:\n",
    "        # Group core detection metrics\n",
    "        should_guardrail = validation_result.get('should_guardrail', False)\n",
    "        escalated_to_sme = validation_result.get('escalated_to_sme', False)\n",
    "        is_bad_response = validation_result.get('is_bad_response', False)\n",
    "        expert_answer_available = bool(validation_result.get('expert_answer'))\n",
    "\n",
    "        print(\"-\" * 30)\n",
    "        if should_guardrail or expert_answer_available:\n",
    "            print(f\"Original AI Response (not delivered to user):\")\n",
    "            print(\"-\" * 30)\n",
    "            print()\n",
    "            print(initial_llm_response)\n",
    "            print()\n",
    "        else:\n",
    "            print(f\"Original AI Response:\")\n",
    "            print(\"-\" * 30)  \n",
    "            print()\n",
    "            print(\"[Same as \\\"Response Delivered to User\\\"]\")\n",
    "            print()\n",
    "        \n",
    "        print(\"-\" * 30) \n",
    "        print(\"Cleanlab Analysis:\")\n",
    "        print(\"-\" * 30)\n",
    "        print()\n",
    "        \n",
    "        print(f\"Should Guardrail: {should_guardrail}\")\n",
    "        print(f\"Escalated to SME: {escalated_to_sme}\")\n",
    "        print(f\"Is Bad Response: {is_bad_response}\")\n",
    "        print(f\"Expert Answer Available: {expert_answer_available}\")\n",
    "        \n",
    "        # Show evaluation scores if available\n",
    "        eval_scores = validation_result.get('eval_scores', None)\n",
    "        if eval_scores is not None:\n",
    "            print()\n",
    "\n",
    "            # Access trustworthiness score\n",
    "            if 'trustworthiness' in eval_scores:\n",
    "                trust_score = eval_scores['trustworthiness'].get(\"score\", None)\n",
    "                if trust_score is not None:\n",
    "                    print(f\"Trustworthiness: {trust_score:.3f} (triggered_guardrail = {eval_scores['trustworthiness'].get('triggered_guardrail', False)})\")\n",
    "\n",
    "            # Access response helpfulness score\n",
    "            if 'response_helpfulness' in eval_scores:\n",
    "                help_score = eval_scores['response_helpfulness'].get(\"score\", None)\n",
    "                if help_score is not None:\n",
    "                    print(f\"Response Helpfulness: {help_score:.3f} (triggered_guardrail = {eval_scores['response_helpfulness'].get('triggered_guardrail', False)})\")\n",
    "\n",
    "            # Access context sufficiency score (for retrieval scenarios)\n",
    "            if 'context_sufficiency' in eval_scores:\n",
    "                context_score = eval_scores['context_sufficiency'].get(\"score\", None)\n",
    "                if context_score is not None:\n",
    "                    print(f\"Context Sufficiency: {context_score:.3f} (triggered_guardrail = {eval_scores['context_sufficiency'].get('triggered_guardrail', False)})\")\n",
    "\n",
    "        # Show expert answer if available\n",
    "        if expert_answer_available:\n",
    "            print()\n",
    "            print(\"-\" * 30)\n",
    "            print(\"Expert Answer Available:\")\n",
    "            print(\"-\" * 30)\n",
    "            print()\n",
    "            print(validation_result.get('expert_answer'))\n",
    "            print()\n",
    "        \n",
    "        # Show validation status summary\n",
    "        if should_guardrail or is_bad_response or expert_answer_available:\n",
    "            print()\n",
    "            if expert_answer_available:\n",
    "                print(\"\ud83d\udca1 EXPERT ANSWER AVAILABLE: Expert answer was available and delivered to user instead of Original AI Response\")\n",
    "            elif should_guardrail:\n",
    "                print(\"\u26a0\ufe0f GUARDRAIL TRIGGERED: Original AI Response was blocked and a fallback response was delivered to user\")\n",
    "            if escalated_to_sme and (not expert_answer_available) and (not should_guardrail):\n",
    "                print(\"\ud83d\udd04 ESCALATED: This case was flagged as problematic for subject matter expert review in the Cleanlab Project Interface\")\n",
    "        else:\n",
    "            print()\n",
    "            print(\"\u2705 VALIDATION PASSED: Original AI Response delivered to user\")\n",
    "    \n",
    "    else:\n",
    "        print(\"No validation results available\")\n",
    "\n",
    "\n",
    "def run_with_validation(agent: Agent, query: str):\n",
    "    # Prompt the agent and get response\n",
    "    result = agent(query)\n",
    "\n",
    "    # Display results with validation details\n",
    "    final_output = str(result)\n",
    "    validation_results = agent.state.get('cleanlab_validation_results')\n",
    "    initial_llm_response = agent.state.get('initial_model_response')\n",
    "    initial_llm_response = initial_llm_response[0].get('text', str(initial_llm_response))\n",
    "    display_openai_validation_results(final_output, initial_llm_response, validation_results, query)"
   ]
  },
  {
   "cell_type": "code",
   "execution_count": 8,
   "metadata": {},
   "outputs": [
    {
     "name": "stdout",
     "output_type": "stream",
     "text": [
      "------------------------------\n",
      "Response Delivered to User:\n",
      "------------------------------\n",
      "\n",
      "A credit score is a numerical representation of a person's creditworthiness, typically ranging from 300 to 850. It is used by lenders to assess the likelihood that an individual will repay borrowed money. A higher credit score indicates better creditworthiness, making it easier to qualify for loans and credit cards with favorable terms. Factors influencing credit scores include payment history, credit utilization, length of credit history, types of credit, and recent credit inquiries.\n",
      "\n",
      "\n",
      "\n",
      "=== Internal Trace (not shown to user) ===\n",
      "\n",
      "------------------------------\n",
      "Original AI Response:\n",
      "------------------------------\n",
      "\n",
      "[Same as \"Response Delivered to User\"]\n",
      "\n",
      "------------------------------\n",
      "Cleanlab Analysis:\n",
      "------------------------------\n",
      "\n",
      "Should Guardrail: False\n",
      "Escalated to SME: False\n",
      "Is Bad Response: False\n",
      "Expert Answer Available: False\n",
      "\n",
      "Trustworthiness: 0.890 (triggered_guardrail = False)\n",
      "Response Helpfulness: 0.998 (triggered_guardrail = False)\n",
      "\n",
      "\u2705 VALIDATION PASSED: Original AI Response delivered to user\n"
     ]
    }
   ],
   "source": [
    "run_with_validation(agent, \"What is a credit score?\")"
   ]
  },
  {
   "cell_type": "markdown",
   "metadata": {},
   "source": [
    "**Without Cleanlab:** The agent would deliver its response directly to the user without any validation or safety checks.\n",
    "\n",
    "**With Cleanlab:** The above response is automatically validated for trustworthiness and helpfulness before reaching the user. In this case, Cleanlab found the response trustworthy, so it allowed the original response to be delivered to the user.\n",
    "\n",
    "### Scenario 2: Tool Call Response\n",
    "\n",
    "Now let's test an agent interaction that uses tools. Cleanlab validation checks both tool usage and the final response."
   ]
  },
  {
   "cell_type": "code",
   "execution_count": 9,
   "metadata": {},
   "outputs": [
    {
     "name": "stdout",
     "output_type": "stream",
     "text": [
      "------------------------------\n",
      "Response Delivered to User:\n",
      "------------------------------\n",
      "\n",
      "The payment schedule for account ID 12345 is as follows:\n",
      "\n",
      "- **Payment Plan:** Bi-weekly\n",
      "- **Next Payment:** Scheduled for next Friday.\n",
      "\n",
      "\n",
      "\n",
      "=== Internal Trace (not shown to user) ===\n",
      "\n",
      "------------------------------\n",
      "Original AI Response:\n",
      "------------------------------\n",
      "\n",
      "[Same as \"Response Delivered to User\"]\n",
      "\n",
      "------------------------------\n",
      "Cleanlab Analysis:\n",
      "------------------------------\n",
      "\n",
      "Should Guardrail: False\n",
      "Escalated to SME: False\n",
      "Is Bad Response: False\n",
      "Expert Answer Available: False\n",
      "\n",
      "Trustworthiness: 0.998 (triggered_guardrail = False)\n",
      "Response Helpfulness: 0.997 (triggered_guardrail = False)\n",
      "\n",
      "\u2705 VALIDATION PASSED: Original AI Response delivered to user\n"
     ]
    }
   ],
   "source": [
    "run_with_validation(agent, \"What is the payment schedule for account ID 12345?\")"
   ]
  },
  {
   "cell_type": "markdown",
   "metadata": {},
   "source": [
    "**Without Cleanlab:** The agent would deliver its tool-based response directly to the user without validation.\n",
    "\n",
    "**With Cleanlab:** The response is validated even when tools are used. Cleanlab evaluated both the which tools are called and the final response, found them highly trustworthy,  and delivered the original response to the user.\n",
    "\n",
    "After this interaction, we can see the tool calls and response show up in the message history."
   ]
  },
  {
   "cell_type": "code",
   "execution_count": 10,
   "metadata": {},
   "outputs": [
    {
     "data": {
      "text/plain": [
       "[{'role': 'user',\n",
       "  'content': [{'text': 'What is the payment schedule for account ID 12345?'}]},\n",
       " {'role': 'assistant',\n",
       "  'content': [{'toolUse': {'toolUseId': 'call_yLQJO77sDRhpa8xDccg3gznO',\n",
       "     'name': 'get_payment_schedule',\n",
       "     'input': {'account_id': '12345'}}}]},\n",
       " {'role': 'user',\n",
       "  'content': [{'toolResult': {'toolUseId': 'call_yLQJO77sDRhpa8xDccg3gznO',\n",
       "     'status': 'success',\n",
       "     'content': [{'text': 'Account 12345 has: \\n        Bi-weekly payment plan\\n        Upcoming payment scheduled for next Friday\\n    '}]}}]},\n",
       " {'role': 'assistant',\n",
       "  'content': [{'text': 'The payment schedule for account ID 12345 is as follows:\\n\\n- **Payment Plan:** Bi-weekly\\n- **Next Payment:** Scheduled for next Friday.'}]}]"
      ]
     },
     "execution_count": 10,
     "metadata": {},
     "output_type": "execute_result"
    }
   ],
   "source": [
    "agent.messages[-4:]"
   ]
  },
  {
   "cell_type": "markdown",
   "metadata": {},
   "source": [
    "### Scenario 3: Bad AI Response\n",
    "\n",
    "When an Agent calls an incorrect tool or summarizes problematic information returned from the tool call, Cleanlab automatically:\n",
    "\n",
    "1. **Detects** the problematic response \n",
    "2. **Blocks** it from reaching the user\n",
    "3. **Substitutes** a safe fallback response\n",
    "4. **Cleans** message history to remove problematic tool calls\n",
    "\n",
    "Let's see this in action:"
   ]
  },
  {
   "cell_type": "code",
   "execution_count": 11,
   "metadata": {},
   "outputs": [
    {
     "name": "stdout",
     "output_type": "stream",
     "text": [
      "------------------------------\n",
      "Response Delivered to User:\n",
      "------------------------------\n",
      "\n",
      "Sorry I am unsure. You can try rephrasing your request.\n",
      "\n",
      "\n",
      "\n",
      "=== Internal Trace (not shown to user) ===\n",
      "\n",
      "------------------------------\n",
      "Original AI Response (not delivered to user):\n",
      "------------------------------\n",
      "\n",
      "The total amount owed on your loan for account ID 12345 is approximately $7,000,000,000,000,000,000,000,000,000,000,000,000. Please note that this figure is unusually high and may not reflect accurate information. If you have concerns, I recommend checking with our loan department.\n",
      "\n",
      "------------------------------\n",
      "Cleanlab Analysis:\n",
      "------------------------------\n",
      "\n",
      "Should Guardrail: True\n",
      "Escalated to SME: True\n",
      "Is Bad Response: True\n",
      "Expert Answer Available: False\n",
      "\n",
      "Trustworthiness: 0.058 (triggered_guardrail = True)\n",
      "Response Helpfulness: 0.653 (triggered_guardrail = False)\n",
      "\n",
      "\u26a0\ufe0f GUARDRAIL TRIGGERED: Original AI Response was blocked and a fallback response was delivered to user\n"
     ]
    }
   ],
   "source": [
    "run_with_validation(agent, \"How much do I owe on my loan for account ID 12345?\")"
   ]
  },
  {
   "cell_type": "markdown",
   "metadata": {},
   "source": [
    "After this chat turn, we see the message history is updated only with the *user query* and *final agent response*."
   ]
  },
  {
   "cell_type": "code",
   "execution_count": 12,
   "metadata": {},
   "outputs": [
    {
     "data": {
      "text/plain": [
       "[{'role': 'user',\n",
       "  'content': [{'text': 'What is the payment schedule for account ID 12345?'}]},\n",
       " {'role': 'assistant',\n",
       "  'content': [{'toolUse': {'toolUseId': 'call_yLQJO77sDRhpa8xDccg3gznO',\n",
       "     'name': 'get_payment_schedule',\n",
       "     'input': {'account_id': '12345'}}}]},\n",
       " {'role': 'user',\n",
       "  'content': [{'toolResult': {'toolUseId': 'call_yLQJO77sDRhpa8xDccg3gznO',\n",
       "     'status': 'success',\n",
       "     'content': [{'text': 'Account 12345 has: \\n        Bi-weekly payment plan\\n        Upcoming payment scheduled for next Friday\\n    '}]}}]},\n",
       " {'role': 'assistant',\n",
       "  'content': [{'text': 'The payment schedule for account ID 12345 is as follows:\\n\\n- **Payment Plan:** Bi-weekly\\n- **Next Payment:** Scheduled for next Friday.'}]},\n",
       " {'role': 'user',\n",
       "  'content': [{'text': 'How much do I owe on my loan for account ID 12345?'}]},\n",
       " {'role': 'assistant',\n",
       "  'content': [{'text': 'Sorry I am unsure. You can try rephrasing your request.'}]}]"
      ]
     },
     "execution_count": 12,
     "metadata": {},
     "output_type": "execute_result"
    }
   ],
   "source": [
    "agent.messages[-6:]"
   ]
  },
  {
   "cell_type": "markdown",
   "metadata": {},
   "source": [
    "**Without Cleanlab:** The user would receive the problematic response: \"The total amount owed on your loan for account ID 12345 is $7,000,000,000,000,000,000,000,000,000,000,000,000,000...\" - clearly an unrealistic and harmful amount that could confuse or alarm the user.\n",
    "\n",
    "**With Cleanlab:** Cleanlab's validation detects the unrealistic amount, assigns a very low trustworthiness score, blocks the problematic response, removes bad tool interaction from the message history and delivers a configurable fallback response to the user.\n",
    "\n",
    "After this interaction, we can see the conversation history is updated with the safe fallback response.\n",
    "\n",
    "## Scenario 4: Expert Answer Response\n",
    "\n",
    "After setting up the project in Cleanlab UI, you can add expert answer to common queries that could be deterministically returned to the user instead of the Agent response.\n",
    "\n",
    "Consider the following user query:"
   ]
  },
  {
   "cell_type": "code",
   "execution_count": 17,
   "metadata": {},
   "outputs": [
    {
     "name": "stdout",
     "output_type": "stream",
     "text": [
      "------------------------------\n",
      "Response Delivered to User:\n",
      "------------------------------\n",
      "\n",
      "Sorry I am unsure. You can try rephrasing your request.\n",
      "\n",
      "\n",
      "\n",
      "=== Internal Trace (not shown to user) ===\n",
      "\n",
      "------------------------------\n",
      "Original AI Response (not delivered to user):\n",
      "------------------------------\n",
      "\n",
      "To add a payee to your Mortgagelender loan, please follow these steps:\n",
      "\n",
      "1. **Log In**: Access the Mortgagelender website and log into your account.\n",
      "   \n",
      "2. **Navigate to Payments**: Once logged in, go to the **Pay & Transfer** section.\n",
      "\n",
      "3. **Select Pay Bills**: Click on the **Pay Bills** option.\n",
      "\n",
      "4. **Add Payee**: Look for an option to **Add a new payee**. \n",
      "\n",
      "5. **Enter Payee Information**: Complete the required fields by typing in the name of your payee. Follow any prompts to provide further information about the payee.\n",
      "\n",
      "6. **Confirm and Save**: After entering the necessary details, confirm the information and save the new payee.\n",
      "\n",
      "If you encounter any issues, check the help section of the Mortgagelender website or contact their customer support for assistance.\n",
      "\n",
      "------------------------------\n",
      "Cleanlab Analysis:\n",
      "------------------------------\n",
      "\n",
      "Should Guardrail: True\n",
      "Escalated to SME: True\n",
      "Is Bad Response: True\n",
      "Expert Answer Available: False\n",
      "\n",
      "Trustworthiness: 0.549 (triggered_guardrail = True)\n",
      "Response Helpfulness: 0.974 (triggered_guardrail = False)\n",
      "\n",
      "\u26a0\ufe0f GUARDRAIL TRIGGERED: Original AI Response was blocked and a fallback response was delivered to user\n"
     ]
    }
   ],
   "source": [
    "run_with_validation(agent, \"How do I add a payee to my Mortgagelender loan? Give me specific steps for Mortgagelender website.\")"
   ]
  },
  {
   "cell_type": "markdown",
   "metadata": {},
   "source": [
    "Since we did not give our Agent specific context on how to do this action, the Original LLM Response are *hallucinated*. \n",
    "\n",
    "As expected, the Trustworthiness score is low and the query, answer pair is marked as an *Issue* in the Web UI. \n",
    "\n",
    "Consider adding an expert answer for the Question above on the proper steps like:\n",
    "\n",
    "```text\n",
    "1. Open the Morgagelender site or app and sign into your profile.\n",
    "2. Go to the section where you handle billing or transfer details.\n",
    "3. Look for an option to set up a new recipient for payments.\n",
    "4. Fill in the recipient\u2019s required details (name, account info, etc.).\n",
    "5. Confirm the details and complete the setup.\n",
    "6. Wait for a notice or email confirming the payee has been linked.\n",
    "```\n",
    "\n",
    "Now, when we re-run the same exact query the expert answer will be used, immediately improving the accuracy of the Agent responses."
   ]
  },
  {
   "cell_type": "code",
   "execution_count": 22,
   "metadata": {},
   "outputs": [
    {
     "name": "stdout",
     "output_type": "stream",
     "text": [
      "------------------------------\n",
      "Response Delivered to User:\n",
      "------------------------------\n",
      "\n",
      "1\\. Open the Morgagelender site or app and sign into your profile.\n",
      "\n",
      "2\\. Go to the section where you handle billing or transfer details.\n",
      "\n",
      "3\\. Look for an option to set up a new recipient for payments.\n",
      "\n",
      "4\\. Fill in the recipient\u2019s required details (name, account info, etc.).\n",
      "\n",
      "5\\. Confirm the details and complete the setup.\n",
      "\n",
      "6\\. Wait for a notice or email confirming the payee has been linked.\n",
      "\n",
      "\n",
      "\n",
      "=== Internal Trace (not shown to user) ===\n",
      "\n",
      "------------------------------\n",
      "Original AI Response (not delivered to user):\n",
      "------------------------------\n",
      "\n",
      "[{'toolUse': {'toolUseId': 'call_ykLd2aacQQUclN2oydu5lOnF', 'name': 'web_search', 'input': {'query': 'how to add a payee Mortgagelender', 'time_range': 'm'}}}]\n",
      "\n",
      "------------------------------\n",
      "Cleanlab Analysis:\n",
      "------------------------------\n",
      "\n",
      "Should Guardrail: False\n",
      "Escalated to SME: False\n",
      "Is Bad Response: False\n",
      "Expert Answer Available: True\n",
      "\n",
      "Trustworthiness: 1.000 (triggered_guardrail = False)\n",
      "Response Helpfulness: 1.000 (triggered_guardrail = False)\n",
      "Context Sufficiency: 1.000 (triggered_guardrail = False)\n",
      "\n",
      "------------------------------\n",
      "Expert Answer Available:\n",
      "------------------------------\n",
      "\n",
      "1\\. Open the Morgagelender site or app and sign into your profile.\n",
      "\n",
      "2\\. Go to the section where you handle billing or transfer details.\n",
      "\n",
      "3\\. Look for an option to set up a new recipient for payments.\n",
      "\n",
      "4\\. Fill in the recipient\u2019s required details (name, account info, etc.).\n",
      "\n",
      "5\\. Confirm the details and complete the setup.\n",
      "\n",
      "6\\. Wait for a notice or email confirming the payee has been linked.\n",
      "\n",
      "\n",
      "\ud83d\udca1 EXPERT ANSWER AVAILABLE: Expert answer was available and delivered to user instead of Original AI Response\n"
     ]
    }
   ],
   "source": [
    "run_with_validation(agent, \"How do I add a payee to my Mortgagelender loan? Give me specific steps for Mortgagelender website.\")"
   ]
  },
  {
   "cell_type": "markdown",
   "metadata": {},
   "source": [
    "### Scenario 5: Information Retrieval Tool Call Response\n",
    "\n",
    "Now let's ask a question that requires our Agent to use web search, which we specified in our `context_retrieval_tools` list.\n",
    "\n",
    "**What happens with context-aware validation:**\n",
    "- Tool results are automatically passed to Cleanlab as context\n",
    "- Cleanlab can evaluate whether the AI response is grounded in the retrieved information, represented with the Context Sufficiency score\n",
    "- You'll see a \"Retrieved Context\" section in the Cleanlab Project UI showing what information was available for validation"
   ]
  },
  {
   "cell_type": "code",
   "execution_count": 19,
   "metadata": {},
   "outputs": [
    {
     "name": "stdout",
     "output_type": "stream",
     "text": [
      "------------------------------\n",
      "Response Delivered to User:\n",
      "------------------------------\n",
      "\n",
      "The current mortgage interest rates are as follows:\n",
      "\n",
      "- **15-Year Fixed Rate**: 5.375%\n",
      "- **30-Year Fixed-Rate VA**: 5.625%\n",
      "- **30-Year Fixed Rate**: 6.375%\n",
      "\n",
      "These rates may change, so it's advisable to check regularly for updates.\n",
      "\n",
      "\n",
      "\n",
      "=== Internal Trace (not shown to user) ===\n",
      "\n",
      "------------------------------\n",
      "Original AI Response:\n",
      "------------------------------\n",
      "\n",
      "[Same as \"Response Delivered to User\"]\n",
      "\n",
      "------------------------------\n",
      "Cleanlab Analysis:\n",
      "------------------------------\n",
      "\n",
      "Should Guardrail: False\n",
      "Escalated to SME: False\n",
      "Is Bad Response: False\n",
      "Expert Answer Available: False\n",
      "\n",
      "Trustworthiness: 0.896 (triggered_guardrail = False)\n",
      "Response Helpfulness: 0.998 (triggered_guardrail = False)\n",
      "\n",
      "\u2705 VALIDATION PASSED: Original AI Response delivered to user\n"
     ]
    }
   ],
   "source": [
    "run_with_validation(agent, \"What are current mortgage interest rates?\")"
   ]
  },
  {
   "cell_type": "markdown",
   "metadata": {},
   "source": [
    "Context is now automatically extracted from web search tool result and passed to Cleanlab validation, improving evaluation accuracy for information retrieval scenarios."
   ]
  },
  {
   "cell_type": "code",
   "execution_count": 20,
   "metadata": {},
   "outputs": [
    {
     "data": {
      "text/plain": [
       "[{'role': 'assistant',\n",
       "  'content': [{'toolUse': {'toolUseId': 'call_J4rOfRIJ6PQSfGVE1kGWJpiJ',\n",
       "     'name': 'web_search',\n",
       "     'input': {'query': 'current mortgage interest rates',\n",
       "      'time_range': 'w'}}}]},\n",
       " {'role': 'user',\n",
       "  'content': [{'toolResult': {'toolUseId': 'call_J4rOfRIJ6PQSfGVE1kGWJpiJ',\n",
       "     'status': 'success',\n",
       "     'content': [{'text': 'Context 1:\\ntitle: 20-year fixed mortgage rates\\ncontent: Check outcurrent rates for a 20-year conventional fixed-rate loan. These rates and APRs are current as of 09/29/2025 and may change at any time. They assume\\n\\nContext 2:\\ntitle: Compare current mortgage interest rates\\ncontent: Mortgage interest rates today; 15-Year Fixed Rate \u00b7 5.375% \u00b7 5.639% ; 30-Year Fixed-Rate VA \u00b7 5.625% \u00b7 5.829% ; 30-Year Fixed Rate \u00b7 6.375% \u00b7 6.540%.'}]}}]},\n",
       " {'role': 'assistant',\n",
       "  'content': [{'text': \"The current mortgage interest rates are as follows:\\n\\n- **15-Year Fixed Rate**: 5.375%\\n- **30-Year Fixed-Rate VA**: 5.625%\\n- **30-Year Fixed Rate**: 6.375%\\n\\nThese rates may change, so it's advisable to check regularly for updates.\"}]}]"
      ]
     },
     "execution_count": 20,
     "metadata": {},
     "output_type": "execute_result"
    }
   ],
   "source": [
    "agent.messages[-3:] # Last 3 messages to see web search tool call and context"
   ]
  },
  {
   "cell_type": "markdown",
   "metadata": {},
   "source": [
    "## How Cleanlab Validation Works\n",
    "\n",
    "Cleanlab evaluates AI responses across multiple dimensions (trustworthiness, helpfulness, reasoning quality, etc.) and provides scores, guardrail decisions, and expert remediation.\n",
    "\n",
    "For detailed information on Cleanlab's validation methodology, see:\n",
    "- [Cleanlab Validation Overview](/codex/tutorials/other_rag_frameworks/validator/)\n",
    "- [Understanding Evaluation Metrics](/codex/tutorials/other_rag_frameworks/validator_conversational/#evaluation-metrics)\n",
    "- [Configuring Validation Thresholds](/codex/web_tutorials/create_project/)\n",
    "\n",
    "### Message History Management\n",
    "\n",
    "When Cleanlab detects a problematic response that involved tool calls, it performs the following cleanup:\n",
    "\n",
    "1. **Identifies the problematic turn**: Finds the conversation turn that produced the bad response\n",
    "2. **Removes tool calls**: Eliminates the assistant message containing tool calls from history\n",
    "3. **Removes tool results**: Eliminates the corresponding tool result messages from history\n",
    "4. **Preserves user messages**: Keeps user queries to maintain conversation context\n",
    "5. **Adds clean response**: Adds the safe fallback or expert answer to history\n",
    "\n",
    "This prevents the problematic tool information from contaminating future conversation turns."
   ]
  },
  {
   "cell_type": "markdown",
   "metadata": {},
   "source": [
    "### Specifying Context Handling in More Detail\n",
    "\n",
    "If you want more control over how context is passed to Cleanlab, it's recommended to create a custom CleanlabModel subclass and override the `cleanlab_get_validate_fields` method with custom logic to extract context from tool results and include in validation.\n",
    "\n",
    "```python\n",
    "from typing import Any\n",
    "from strands.types.content import Messages\n",
    "from cleanlab_codex.experimental.strands import CleanlabModel\n",
    "from cleanlab_codex.experimental.strands.cleanlab_model import get_latest_user_message_content\n",
    "\n",
    "def custom_get_context_function(messages: Messages) -> str:\n",
    "    # Define your custom context extraction logic here\n",
    "    return \"your context extraction logic\"\n",
    "\n",
    "class CleanlabModelWithContext(CleanlabModel):\n",
    "    def __init__(self, **init_args) -> None:\n",
    "        super().__init__(**init_args)\n",
    "    \n",
    "    def cleanlab_get_validate_fields(self, messages: Messages) -> dict[str, Any]:\n",
    "        \"\"\"Extract fields from messages for cleanlab validation (overridden to also return context).\"\"\"\n",
    "        user_message_content = get_latest_user_message_content(messages)\n",
    "        context = custom_get_context_function(messages)  # User defined function to extract context\n",
    "        return {\n",
    "            \"query\": user_message_content,\n",
    "            \"context\": context,\n",
    "        }\n",
    "```"
   ]
  },
  {
   "cell_type": "markdown",
   "metadata": {},
   "source": [
    "## What's different if I'm using Amazon Bedrock models with Strands?\n",
    "\n",
    "The CleanlabModel wrapper works with any Strands-compatible model provider. To use Amazon Bedrock:\n",
    "\n",
    "```python\n",
    "from strands.models.bedrock import BedrockModel\n",
    "\n",
    "# Create Bedrock model\n",
    "base_model = BedrockModel(\n",
    "    model_id=\"anthropic.claude-3-sonnet-20240229-v1:0\",\n",
    "    params={\"temperature\": 0.1}\n",
    ")\n",
    "\n",
    "# Wrap with CleanlabModel\n",
    "cleanlab_model = CleanlabModel(\n",
    "    underlying_model=base_model,\n",
    "    cleanlab_project=project,\n",
    ")\n",
    "\n",
    "# Use exactly as shown in the examples above\n",
    "agent = Agent(model=cleanlab_model, tools=[...])\n",
    "cleanlab_model.set_agent_reference(agent)  # Remember to set agent reference\n",
    "```\n",
    "\n",
    "The validation behavior and message history management work identically across all model providers."
   ]
  },
  {
   "cell_type": "markdown",
   "metadata": {},
   "source": [
    "## Summary\n",
    "\n",
    "This tutorial demonstrated integrating Cleanlab validation with AWS Strands Agents using the CleanlabModel wrapper. \n",
    "\n",
    "Key benefits:\n",
    "\n",
    "- **Real-time validation** during response generation\n",
    "- **Automatic remediation** with expert answers and fallbacks\n",
    "- **Message history cleanup** to prevent contamination\n",
    "- **Context-aware validation** for retrieval-based agents\n",
    "- **Multi-model support** (OpenAI, Anthropic, Amazon Bedrock, etc.)\n",
    "\n",
    "The CleanlabModel wrapper provides enterprise-grade safety with minimal code changes."
   ]
  },
  {
   "cell_type": "markdown",
   "metadata": {},
   "source": []
  }
 ],
 "metadata": {
  "kernelspec": {
   "display_name": "codex (3.10.12)",
   "language": "python",
   "name": "python3"
  },
  "language_info": {
   "codemirror_mode": {
    "name": "ipython",
    "version": 3
   },
   "file_extension": ".py",
   "mimetype": "text/x-python",
   "name": "python",
   "nbconvert_exporter": "python",
   "pygments_lexer": "ipython3",
   "version": "3.10.12"
  }
 },
 "nbformat": 4,
 "nbformat_minor": 4
}