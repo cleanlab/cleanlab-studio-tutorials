{
 "cells": [
  {
   "attachments": {},
   "cell_type": "markdown",
   "metadata": {},
   "source": [
    "# Deploying Reliable Models in Production"
   ]
  },
  {
   "cell_type": "markdown",
   "metadata": {},
   "source": [
    "import Video from \"@site/src/components/Video\";\n",
    "import deployVideo from \"@site/static/video/inference-tutorial/deploy_model.mp4\";"
   ]
  },
  {
   "attachments": {},
   "cell_type": "markdown",
   "metadata": {},
   "source": [
    "In this tutorial, we'll train a reliable model on real-world messy data and deploy it in production to obtain predictions on new data using Cleanlab Studio's Python API. We'll be working with a product classification dataset from Web Data Commons. This dataset, which can be found in it's original form [here](https://data.dws.informatik.uni-mannheim.de/largescaleproductcorpus/data/amazon_training.json.gzip), contains titles, descriptions, and category labels for 23,000 products on Amazon.\n",
    "\n",
    "**Overview of what we'll do in this tutorial:**\n",
    "- [Upload a dataset](#2-prepare-and-upload-dataset)\n",
    "- [Clean your data](#3-clean-your-data)\n",
    "- [Deploy a model on the cleaned data](#4-train-a-model)\n",
    "- [Use the model in production to obtain predictions on new data](#5-use-the-model-in-production)\n",
    "\n",
    "![Product Descriptions Dataset](/img/inference-tutorial/dataset_preview.png)"
   ]
  },
  {
   "cell_type": "markdown",
   "metadata": {},
   "source": [
    "```python\n",
    ">>> model.predict(['$100 Dollar Bill Design (Benjamin) Eraser'])\n",
    "['Office_Products']\n",
    "```"
   ]
  },
  {
   "attachments": {},
   "cell_type": "markdown",
   "metadata": {},
   "source": [
    "## 1. Install and Import Required Dependencies\n",
    "\n",
    "You can use `pip` to install all packages required for this tutorial as follows:"
   ]
  },
  {
   "cell_type": "code",
   "execution_count": null,
   "metadata": {},
   "outputs": [],
   "source": [
    "!pip install pandas\n",
    "!pip install cleanlab-studio"
   ]
  },
  {
   "cell_type": "code",
   "execution_count": 2,
   "metadata": {},
   "outputs": [],
   "source": [
    "import os\n",
    "\n",
    "from cleanlab_studio import Studio\n",
    "import pandas as pd"
   ]
  },
  {
   "cell_type": "code",
   "execution_count": 4,
   "metadata": {},
   "outputs": [],
   "source": [
    "# code to render dataframes\n",
    "from IPython.core.display import HTML\n",
    "\n",
    "def display(data: pd.DataFrame | pd.Series) -> None:\n",
    "    return HTML(data.to_html(escape=False))"
   ]
  },
  {
   "attachments": {},
   "cell_type": "markdown",
   "metadata": {},
   "source": [
    "## 2. Prepare and Upload Dataset\n",
    "\n",
    "The dataset used in this demo can be found hosted at this [link](https://cleanlab-public.s3.amazonaws.com/StudioDemoDatasets/amazon-products/amazon_products_train.csv). The link points to a preprocessed version of the original Web Data Commons dataset (which was constructed from Common Crawl). The preprocessed dataset concatentates the title and description of products into a single field, which is then used to predict the category label."
   ]
  },
  {
   "attachments": {},
   "cell_type": "markdown",
   "metadata": {},
   "source": [
    "### Prepare Data\n",
    "\n",
    "For this tutorial, we'll be uploading our dataset to Cleanlab Studio as a CSV file structured as follows:\n",
    "```\n",
    "asin,brand,categoryLabel,description,title,text\n",
    "B007CC3KXI,,Tools_and_Home_Improvement,\"Light up your fence, gate, deck or stairs with this pair of solar-powered LED lights. Weather resistant plastic, no wiring req. Each includes a rechargeable battery. 4 1/2\"\"L x 2 1/4\"\"H\",Deck And Fence Wall Mount Solar Stair &amp; Step Lights - 2 Pack,\"Deck And Fence Wall Mount Solar Stair &amp; Step Lights - 2 Pack\n",
    "Light up your fence, gate, deck or stairs with this pair of solar-powered LED lights. Weather resistant plastic, no wiring req. Each includes a rechargeable battery. 4 1/2\"\"L x 2 1/4\"\"H\"\n",
    "...\n",
    "```"
   ]
  },
  {
   "cell_type": "code",
   "execution_count": 12,
   "metadata": {},
   "outputs": [
    {
     "data": {
      "text/html": [
       "<table border=\"1\" class=\"dataframe\">\n",
       "  <thead>\n",
       "    <tr style=\"text-align: right;\">\n",
       "      <th></th>\n",
       "      <th>asin</th>\n",
       "      <th>brand</th>\n",
       "      <th>categoryLabel</th>\n",
       "      <th>description</th>\n",
       "      <th>title</th>\n",
       "      <th>text</th>\n",
       "    </tr>\n",
       "  </thead>\n",
       "  <tbody>\n",
       "    <tr>\n",
       "      <th>0</th>\n",
       "      <td>B007CC3KXI</td>\n",
       "      <td>NaN</td>\n",
       "      <td>Tools_and_Home_Improvement</td>\n",
       "      <td>Light up your fence, gate, deck or stairs with this pair of solar-powered LED lights. Weather resistant plastic, no wiring req. Each includes a rechargeable battery. 4 1/2\"L x 2 1/4\"H</td>\n",
       "      <td>Deck And Fence Wall Mount Solar Stair &amp; Step Lights - 2 Pack</td>\n",
       "      <td>Deck And Fence Wall Mount Solar Stair &amp; Step Lights - 2 Pack\\nLight up your fence, gate, deck or stairs with this pair of solar-powered LED lights. Weather resistant plastic, no wiring req. Each includes a rechargeable battery. 4 1/2\"L x 2 1/4\"H</td>\n",
       "    </tr>\n",
       "    <tr>\n",
       "      <th>1</th>\n",
       "      <td>B00IHPX9FS</td>\n",
       "      <td>NaN</td>\n",
       "      <td>Home_and_Garden</td>\n",
       "      <td>Mezzati Luxury LinensModern luxury meets classic comfort. Affordable, top quality linens.BenefitsMicrofiber sheets arewarm and cuddly in winterandcool in summer- like a cozy t-shirt.Hypoallergenic and resistant to dust mites.Excellent solution for those who tend to sweat at night. Wick moisture and remain cool, and very fast drying.Provide aluxurious softness, resist wrinkling and are strong and durable.You will be surprised how comfortable you will feel.1800 Prestige CollectionThese sheets shall complement any bed no matter what bedroom style you are trying to match.What's more important is that it will insure that you and your close ones have a good night sleep.We spend third of our lives in bed so why not make sure that we spend it in comfort.Besides with Mezzati sheet sets you don't need to spend a fortune like you would on some other luxury linens.The price that fits any budget and product that will satisfy your need for luxurious comfort that you deserve.Easy CareWrinkle and Fade resistant, machine wash in cold water. Tumble dry on low.100% Satisfaction GuaranteedIf within 30 days you're not 100% happy with your purchase of Mezzati Luxury Linenslet us know and we'll refund your entire purchase price...no questions asked!Mezzati Luxury Linens offers the Highest Quality Brushed Microfiber on the Market!Choose Quality - Choose Comfort! Order now while supplies last!</td>\n",
       "      <td>Mezzati Luxury Bed Sheets Set - #1 On Amazon! &#9733; Best, Softest, Coziest Bed Sheets Ever! &#9733; Sale Today Only &#9733; 1800 Prestige Collection Brushed Microfiber Luxury Wrinkle Resistant Bedding Sheets - Deep Pocket - High Quality with Soft Silky Touch &#9733; All with 100% Money Back Guarantee!! (Gold, Queen)</td>\n",
       "      <td>Mezzati Luxury Bed Sheets Set - #1 On Amazon! &#9733; Best, Softest, Coziest Bed Sheets Ever! &#9733; Sale Today Only &#9733; 1800 Prestige Collection Brushed Microfiber Luxury Wrinkle Resistant Bedding Sheets - Deep Pocket - High Quality with Soft Silky Touch &#9733; All with 100% Money Back Guarantee!! (Gold, Queen)\\nMezzati Luxury LinensModern luxury meets classic comfort. Affordable, top quality linens.BenefitsMicrofiber sheets arewarm and cuddly in winterandcool in summer- like a cozy t-shirt.Hypoallergenic and resistant to dust mites.Excellent solution for those who tend to sweat at night. Wick moisture and remain cool, and very fast drying.Provide aluxurious softness, resist wrinkling and are strong and durable.You will be surprised how comfortable you will feel.1800 Prestige CollectionThese sheets shall complement any bed no matter what bedroom style you are trying to match.What's more important is that it will insure that you and your close ones have a good night sleep.We spend third of our lives in bed so why not make sure that we spend it in comfort.Besides with Mezzati sheet sets you don't need to spend a fortune like you would on some other luxury linens.The price that fits any budget and product that will satisfy your need for luxurious comfort that you deserve.Easy CareWrinkle and Fade resistant, machine wash in cold water. Tumble dry on low.100% Satisfaction GuaranteedIf within 30 days you're not 100% happy with your purchase of Mezzati Luxury Linenslet us know and we'll refund your entire purchase price...no questions asked!Mezzati Luxury Linens offers the Highest Quality Brushed Microfiber on the Market!Choose Quality - Choose Comfort! Order now while supplies last!</td>\n",
       "    </tr>\n",
       "    <tr>\n",
       "      <th>2</th>\n",
       "      <td>B00AE1L9VO</td>\n",
       "      <td>NaN</td>\n",
       "      <td>Camera_and_Photo</td>\n",
       "      <td>ThisImpact BDA-PRO Adapter for Beauty Dishallows you to mount all sizes of Impact Beauty Dishes on your studio flash. The adapter slips quickly into the reflectors and is secured by a simple thumbscrew.Compatible with:Profoto strobes</td>\n",
       "      <td>Impact BDA-PRO Adapter for Beauty Dish</td>\n",
       "      <td>Impact BDA-PRO Adapter for Beauty Dish\\nThisImpact BDA-PRO Adapter for Beauty Dishallows you to mount all sizes of Impact Beauty Dishes on your studio flash. The adapter slips quickly into the reflectors and is secured by a simple thumbscrew.Compatible with:Profoto strobes</td>\n",
       "    </tr>\n",
       "  </tbody>\n",
       "</table>"
      ],
      "text/plain": [
       "<IPython.core.display.HTML object>"
      ]
     },
     "execution_count": 12,
     "metadata": {},
     "output_type": "execute_result"
    }
   ],
   "source": [
    "df = pd.read_csv(\"https://cleanlab-public.s3.amazonaws.com/StudioDemoDatasets/amazon-products/amazon_products_train.csv\")\n",
    "display(df.head(3))"
   ]
  },
  {
   "attachments": {},
   "cell_type": "markdown",
   "metadata": {},
   "source": [
    "### Upload Dataset"
   ]
  },
  {
   "attachments": {},
   "cell_type": "markdown",
   "metadata": {},
   "source": [
    "<details><summary>This tutorial focuses on using the Python API, but you can also use our <a href=\"https://app.cleanlab.ai\">Web UI</a> for a no-code option <b>(click to expand)</b></summary>\n",
    "\n",
    "If you would like to upload your data without writing code, simply go to [https://app.cleanlab.ai/upload](https://app.cleanlab.ai/upload) and follow these steps:\n",
    "1. Click \"Upload from URL\"\n",
    "2. Enter [link to dataset](https://cleanlab-public.s3.amazonaws.com/StudioDemoDatasets/amazon-products/amazon_products_train.csv)\n",
    "3. Click \"Upload\" and wait for the file to upload\n",
    "4. Click \"Next\"\n",
    "5. Make sure \"text\" is selected as the dataset modality. Leave everything else on the schema editing page as default\n",
    "6. Click \"Confirm\"\n",
    "7. Wait for data ingestion to complete\n",
    "\n",
    "</details>"
   ]
  },
  {
   "attachments": {},
   "cell_type": "markdown",
   "metadata": {},
   "source": [
    "To upload your dataset to Cleanlab Studio using our Python API, use the following code:"
   ]
  },
  {
   "cell_type": "code",
   "execution_count": 6,
   "metadata": {},
   "outputs": [],
   "source": [
    "# you can find your API key by going to app.cleanlab.ai/upload, \n",
    "# clicking \"Upload via Python API\", and copying the API key there\n",
    "API_KEY = \"<YOUR_API_KEY>\"\n",
    "\n",
    "# initialize studio object\n",
    "studio = Studio(API_KEY)"
   ]
  },
  {
   "cell_type": "code",
   "execution_count": null,
   "metadata": {},
   "outputs": [],
   "source": [
    "# upload dataset\n",
    "dataset_id = studio.upload_dataset(df, dataset_name=\"Product Descriptions\")"
   ]
  },
  {
   "attachments": {},
   "cell_type": "markdown",
   "metadata": {},
   "source": [
    "## 3. Clean Your Data\n",
    "\n",
    "Real world data is messy and often contains issues including label errors, outliers, duplicate examples, etc. If we use Cleanlab Studio to address these issues and train a model on the improved data, we'll obtain a [model that gives more reliable predictions](https://cleanlab.ai/blog/model-deployment/).\n",
    "\n",
    "Since cleaning your data using Cleanlab Studio isn't the main focus of this tutorial, we won't go into detail on it here. Instead see our [Python API](/guide/quickstart/api#creating-a-project) or [Web UI](/guide/quickstart/web#create-a-project-to-find-and-correct-outliers-and-label-issues) quickstarts. "
   ]
  },
  {
   "attachments": {},
   "cell_type": "markdown",
   "metadata": {},
   "source": [
    "## 4. Train a Model\n",
    "\n",
    "Once you're happy with your dataset corrections, you can use Cleanlab Studio to automatically train and deploy a model using the cleaned data. To do this, click on the \"Deploy Model\" button on the project page, name your model, and click deploy! Cleanlab Studio will automatically train many models using state-of-the-art autoML to find the best model for your dataset.\n",
    "\n",
    "<Video\n",
    "  width=\"1792\"\n",
    "  height=\"1010\"\n",
    "  src={deployVideo}\n",
    "  autoPlay={false}\n",
    "  loop={false}\n",
    "  muted={true}\n",
    "  shadow={true}\n",
    "/>"
   ]
  },
  {
   "attachments": {},
   "cell_type": "markdown",
   "metadata": {},
   "source": [
    "## 5. Use the Model in Production\n",
    "\n",
    "Now that you've deployed your model, you can use Cleanlab Studio's Python API to obtain predictions for new data points! For this tutorial, we've prepared several batches of samples to run inference on.\n",
    "\n",
    "Batches for text models must be provided as lists, NumPy arrays, or Pandas Series of strings. Batches for tabular models must be provided as Pandas DataFrames."
   ]
  },
  {
   "cell_type": "code",
   "execution_count": 5,
   "metadata": {},
   "outputs": [
    {
     "data": {
      "text/plain": [
       "0     Tablet Portfolio for iPad Tablets\\nTablet Port...\n",
       "1     Factory-Reconditioned Milwaukee 2471-81 12-Vol...\n",
       "2     Microsoft Zune Armor Case - The Metal Case (Bl...\n",
       "3     90W AC Power Adapter/Battery Charger for HP Pa...\n",
       "4     Golda\\nAs Israel's prime minister from 1969 to...\n",
       "                            ...                        \n",
       "95    HQRP 2.0Ah Power Tools Battery for DeWalt DE90...\n",
       "96    L-Tryptophan - 100 Grams (3.53 Oz) - 99+% Pure...\n",
       "97    Beba Toy\\nThe Beba Toy is the &#x201C;World&#x...\n",
       "98    Coby TFTV3925 39-Inch 1080p 60Hz LCD HDTV (Bla...\n",
       "99    Mokingtop Fashion New 6 Pieces Babys Girls Hea...\n",
       "Name: text, Length: 100, dtype: object"
      ]
     },
     "metadata": {},
     "output_type": "display_data"
    }
   ],
   "source": [
    "# load and prepare batch\n",
    "batch = pd.read_csv(\"https://cleanlab-public.s3.amazonaws.com/StudioDemoDatasets/amazon-products/amazon_products_inference_batch_0.csv\")\n",
    "batch_text = batch[\"text\"]\n",
    "display(batch_text)"
   ]
  },
  {
   "cell_type": "code",
   "execution_count": 3,
   "metadata": {},
   "outputs": [],
   "source": [
    "# create studio client\n",
    "API_KEY = \"<YOUR_API_KEY>\"\n",
    "\n",
    "# initialize studio object\n",
    "studio = Studio(API_KEY)"
   ]
  },
  {
   "cell_type": "markdown",
   "metadata": {},
   "source": [
    "![Model ID](/img/inference-tutorial/model_id.png)"
   ]
  },
  {
   "cell_type": "code",
   "execution_count": 7,
   "metadata": {},
   "outputs": [
    {
     "data": {
      "text/html": [
       "<div>\n",
       "<style scoped>\n",
       "    .dataframe tbody tr th:only-of-type {\n",
       "        vertical-align: middle;\n",
       "    }\n",
       "\n",
       "    .dataframe tbody tr th {\n",
       "        vertical-align: top;\n",
       "    }\n",
       "\n",
       "    .dataframe thead th {\n",
       "        text-align: right;\n",
       "    }\n",
       "</style>\n",
       "<table border=\"1\" class=\"dataframe\">\n",
       "  <thead>\n",
       "    <tr style=\"text-align: right;\">\n",
       "      <th></th>\n",
       "      <th>text</th>\n",
       "      <th>predictions</th>\n",
       "    </tr>\n",
       "  </thead>\n",
       "  <tbody>\n",
       "    <tr>\n",
       "      <th>0</th>\n",
       "      <td>Tablet Portfolio for iPad Tablets\\nTablet Port...</td>\n",
       "      <td>Computers_and_Accessories</td>\n",
       "    </tr>\n",
       "    <tr>\n",
       "      <th>1</th>\n",
       "      <td>Factory-Reconditioned Milwaukee 2471-81 12-Vol...</td>\n",
       "      <td>Tools_and_Home_Improvement</td>\n",
       "    </tr>\n",
       "    <tr>\n",
       "      <th>2</th>\n",
       "      <td>Microsoft Zune Armor Case - The Metal Case (Bl...</td>\n",
       "      <td>Other_Electronics</td>\n",
       "    </tr>\n",
       "  </tbody>\n",
       "</table>\n",
       "</div>"
      ],
      "text/plain": [
       "                                                text  \\\n",
       "0  Tablet Portfolio for iPad Tablets\\nTablet Port...   \n",
       "1  Factory-Reconditioned Milwaukee 2471-81 12-Vol...   \n",
       "2  Microsoft Zune Armor Case - The Metal Case (Bl...   \n",
       "\n",
       "                  predictions  \n",
       "0   Computers_and_Accessories  \n",
       "1  Tools_and_Home_Improvement  \n",
       "2           Other_Electronics  "
      ]
     },
     "metadata": {},
     "output_type": "display_data"
    }
   ],
   "source": [
    "# load model from Studio\n",
    "# you can find your model ID in the models table on the dashboard!\n",
    "model_id = \"<YOUR_MODEL_ID>\"\n",
    "model = studio.get_model(model_id)\n",
    "\n",
    "predictions = model.predict(batch_text)\n",
    "display(pd.DataFrame({\"text\": batch_text, \"predictions\": predictions}).head(3))"
   ]
  },
  {
   "attachments": {},
   "cell_type": "markdown",
   "metadata": {},
   "source": [
    "<details><summary>It's also possible to use our <a href=\"https://app.cleanlab.ai/\">Web UI</a> to get predictions</summary>\n",
    "\n",
    "If you would like to get predictions without writing code, simply go to [https://app.cleanlab.ai/](https://app.cleanlab.ai/) and follow these steps:\n",
    "1. Click \"View model\" for the model you created\n",
    "2. Click \"Predict new labels\"\n",
    "3. Upload a CSV containing the examples you want predictions for\n",
    "    1. For text models, your CSV should have a single column\n",
    "    2. For tabular models, your CSV should contain all of your predictive columns\n",
    "4. Click \"Predict New Labels\"\n",
    "7. Wait for inference to complete\n",
    "8. Click \"Export\" for the query you made\n",
    "\n",
    "</details>"
   ]
  },
  {
   "attachments": {},
   "cell_type": "markdown",
   "metadata": {},
   "source": [
    "Congrats! You now have a model trained on reliable data that effectively predict product categories given product descriptions. This model can be deployed in production for real-time queries, or as part of an ETL pipeline."
   ]
  }
 ],
 "metadata": {
  "kernelspec": {
   "display_name": "Python 3.10.4 64-bit ('shims')",
   "language": "python",
   "name": "python3"
  },
  "language_info": {
   "codemirror_mode": {
    "name": "ipython",
    "version": 3
   },
   "file_extension": ".py",
   "mimetype": "text/x-python",
   "name": "python",
   "nbconvert_exporter": "python",
   "pygments_lexer": "ipython3",
   "version": "3.10.4"
  },
  "orig_nbformat": 4,
  "vscode": {
   "interpreter": {
    "hash": "e5bd469d13e6ac3463822d1cb85078d2b0f986df9366ef2fd39097878badfc56"
   }
  }
 },
 "nbformat": 4,
 "nbformat_minor": 2
}
