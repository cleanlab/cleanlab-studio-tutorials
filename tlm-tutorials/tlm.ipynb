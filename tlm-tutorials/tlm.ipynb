{
 "cells": [
  {
   "cell_type": "markdown",
   "metadata": {},
   "source": [
    "# Trustworthy Language Model (TLM) - Quickstart\n",
    "\n",
    "<head>\n",
    "  <meta name=\"title\" content=\"Trustworthy Language Model (TLM)\"/>\n",
    "  <meta property=\"og:title\" content=\"Trustworthy Language Model (TLM)\"/>\n",
    "  <meta name=\"twitter:title\" content=\"Trustworthy Language Model (TLM)\" />\n",
    "  <meta name=\"image\" content=\"/img/tlm-chat.png\" />\n",
    "  <meta property=\"og:image\" content=\"/img/tlm-chat.png\" />\n",
    "  <meta name=\"description\" content=\"A more reliable LLM that quantifies trustworthiness for every output and can detect bad responses.\"  />\n",
    "  <meta property=\"og:description\" content=\"A more reliable LLM that quantifies trustworthiness for every output and can detect bad responses.\" />\n",
    "  <meta name=\"twitter:description\" content=\"A more reliable LLM that quantifies trustworthiness for every output and can detect bad responses.\" />\n",
    "</head>\n",
    "\n"
   ]
  },
  {
   "cell_type": "markdown",
   "metadata": {},
   "source": [
    "Cleanlab's Trustworthy Language Model **scores the trustworthiness** of every LLM\u00a0response in real-time, automatically flagging when the model's response may be incorrect.\n",
    "TLM can detect incorrect outputs from *any* LLM model and can score *any* type of model output (natural language response, classification decision, structured output, tool-call, etc).\n",
    "\n",
    "This tutorial demonstrates how to quickly make *any* LLM application more reliable with TLM; other tutorials and our [cheat sheet](/tlm/faq/) demonstrate how to better utilize TLM in specific applications."
   ]
  },
  {
   "cell_type": "markdown",
   "metadata": {},
   "source": [
    "## Setup\n",
    "\n",
    "This tutorial requires a TLM API key. Get one [here](https://tlm.cleanlab.ai/).\n",
    "\n",
    "Cleanlab's TLM Python client can be installed using pip:"
   ]
  },
  {
   "cell_type": "code",
   "execution_count": 3,
   "metadata": {},
   "outputs": [],
   "source": [
    "%pip install --upgrade cleanlab-tlm"
   ]
  },
  {
   "cell_type": "code",
   "execution_count": null,
   "metadata": {},
   "outputs": [],
   "source": [
    "# Set your API key\n",
    "import os\n",
    "os.environ[\"CLEANLAB_TLM_API_KEY\"] = \"<API key>\"  # Get your free API key from: https://tlm.cleanlab.ai/"
   ]
  },
  {
   "cell_type": "markdown",
   "metadata": {},
   "source": [
    "## Using TLM\n",
    "\n",
    "You can use TLM pretty much like any other LLM API:"
   ]
  },
  {
   "cell_type": "code",
   "execution_count": 4,
   "metadata": {},
   "outputs": [],
   "source": [
    "from cleanlab_tlm import TLM\n",
    "\n",
    "tlm = TLM()  # See Advanced Tutorial for optional TLM configurations to get better/faster results\n",
    "\n",
    "output = tlm.prompt(\"<your prompt>\")"
   ]
  },
  {
   "cell_type": "markdown",
   "metadata": {},
   "source": [
    "TLM\u2019s `output` will be a dict with two fields:\n",
    "\n",
    "```\n",
    "{\n",
    "  \"response\": \"<response>\"  # string like you'd get back from any standard LLM\n",
    "  \"trustworthiness_score\": \"<trustworthiness_score>\"  # numerical value between 0-1\n",
    "}\n",
    "```\n",
    "\n",
    "The **response** is generated from the base LLM model powering TLM (most standard [LLM models are supported](/tlm/tutorials/tlm_advanced/#other-tlm-options)). The **score** quantifies how *confident* you can be that the response is *correct* (higher values indicate greater trustworthiness). These scores are computed via [state-of-the-art](https://cleanlab.ai/blog/trustworthy-language-model/) uncertainty estimation for LLMs.\n",
    "\n",
    "Boost the *reliability* of any LLM application by adding contingency plans to handle LLM responses whose trustworthiness score is low (e.g. escalate to human, append disclaimer, revert to a fallback answer, request more information from user, ...)."
   ]
  },
  {
   "cell_type": "markdown",
   "metadata": {},
   "source": [
    "## Scoring the trustworthiness of a given response\n",
    "\n",
    "TLM can also score the trustworthiness of *any* response to a given prompt. The response could be from *any* LLM you're using, or even be human-written."
   ]
  },
  {
   "cell_type": "code",
   "execution_count": 5,
   "metadata": {},
   "outputs": [],
   "source": [
    "trustworthiness_score = tlm.get_trustworthiness_score(\"<your prompt>\", response=\"<your response>\")"
   ]
  },
  {
   "cell_type": "markdown",
   "metadata": {},
   "source": [
    "The output will be a dict with one field:\n",
    "\n",
    "```\n",
    "{\n",
    "   \"trustworthiness_score\": \"<trustworthiness_score>\"  # numerical value between 0-1\n",
    "}\n",
    "```"
   ]
  },
  {
   "cell_type": "markdown",
   "metadata": {},
   "source": [
    "For example, TLM returns a high score when your LLM's response is confidently accurate:"
   ]
  },
  {
   "cell_type": "code",
   "execution_count": 5,
   "metadata": {},
   "outputs": [
    {
     "data": {
      "text/plain": [
       "{'trustworthiness_score': 0.9997738711822411}"
      ]
     },
     "execution_count": 5,
     "metadata": {},
     "output_type": "execute_result"
    }
   ],
   "source": [
    "tlm.get_trustworthiness_score(\"What's the first month of the year?\", response=\"January\")"
   ]
  },
  {
   "cell_type": "markdown",
   "metadata": {},
   "source": [
    "And TLM returns a low score when your LLM's reponse is untrustworthy, either because it is incorrect/unhelpful or the model is highly uncertain:"
   ]
  },
  {
   "cell_type": "code",
   "execution_count": 6,
   "metadata": {},
   "outputs": [
    {
     "data": {
      "text/plain": [
       "{'trustworthiness_score': 0.04739682241488771}"
      ]
     },
     "execution_count": 6,
     "metadata": {},
     "output_type": "execute_result"
    }
   ],
   "source": [
    "tlm.get_trustworthiness_score(\"What's the first month of the year?\", response=\"February\")"
   ]
  },
  {
   "cell_type": "markdown",
   "metadata": {},
   "source": [
    "`TLM.get_trustworthiness_score()` helps you add trustworthiness scoring to any LLM application without changing your existing code.\n",
    "`TLM.prompt()` helps you simultaneously generate and score LLM responses.\n",
    "\n",
    "TLM runs on top of a **base LLM model** (OpenAI's gpt-4.1-mini by default). For faster/better TLM results, specify a faster/better base model than the default. Learn about optional configurations to get faster/better TLM results in our [Advanced Tutorial](/tlm/tutorials/tlm_advanced/)."
   ]
  },
  {
   "cell_type": "markdown",
   "metadata": {},
   "source": [
    "## Application: Detecting which LLM responses are untrustworthy\n",
    "\n",
    "When initially exploring TLM, consider analyzing LLM responses over a dataset. Use **batched queries** for faster results -- both `TLM.prompt()` and `TLM.get_trustworthiness_score()` can operate over lists of multiple prompts (and responses).\n",
    "\n",
    "Here we consider an example dataset of Space-related trivia questions. We use each question as a *prompt* for TLM (just as you would with any other LLM) and record its response with the associated trustworthiness score."
   ]
  },
  {
   "cell_type": "code",
   "execution_count": 7,
   "metadata": {},
   "outputs": [],
   "source": [
    "import pandas as pd\n",
    "\n",
    "pd.set_option(\"display.max_columns\", None)\n",
    "pd.set_option(\"display.max_colwidth\", None)"
   ]
  },
  {
   "cell_type": "code",
   "execution_count": null,
   "metadata": {},
   "outputs": [],
   "source": [
    "!wget -nc 'https://cleanlab-public.s3.amazonaws.com/Datasets/solar_system_dataset.csv'\n",
    "!wget -nc 'https://cleanlab-public.s3.amazonaws.com/Datasets/solar_system_example_prompts.csv'"
   ]
  },
  {
   "cell_type": "code",
   "execution_count": 9,
   "metadata": {},
   "outputs": [
    {
     "data": {
      "text/html": [
       "<div>\n",
       "<style scoped>\n",
       "    .dataframe tbody tr th:only-of-type {\n",
       "        vertical-align: middle;\n",
       "    }\n",
       "\n",
       "    .dataframe tbody tr th {\n",
       "        vertical-align: top;\n",
       "    }\n",
       "\n",
       "    .dataframe thead th {\n",
       "        text-align: right;\n",
       "    }\n",
       "</style>\n",
       "<table border=\"1\" class=\"dataframe\">\n",
       "  <thead>\n",
       "    <tr style=\"text-align: right;\">\n",
       "      <th></th>\n",
       "      <th>prompt</th>\n",
       "    </tr>\n",
       "  </thead>\n",
       "  <tbody>\n",
       "    <tr>\n",
       "      <th>0</th>\n",
       "      <td>What is the largest planet in the Solar System?</td>\n",
       "    </tr>\n",
       "    <tr>\n",
       "      <th>1</th>\n",
       "      <td>As of 2024, how many dogs have reached outer space?</td>\n",
       "    </tr>\n",
       "    <tr>\n",
       "      <th>2</th>\n",
       "      <td>What is the name of the galaxy that contains our Solar System?</td>\n",
       "    </tr>\n",
       "    <tr>\n",
       "      <th>3</th>\n",
       "      <td>How does the solar wind influence the atmospheres of planets in the Solar System?</td>\n",
       "    </tr>\n",
       "    <tr>\n",
       "      <th>4</th>\n",
       "      <td>Fetch me the current trajectory of Pluto's orbit from nasa.gov</td>\n",
       "    </tr>\n",
       "  </tbody>\n",
       "</table>\n",
       "</div>"
      ],
      "text/plain": [
       "                                                                              prompt\n",
       "0                                    What is the largest planet in the Solar System?\n",
       "1                                As of 2024, how many dogs have reached outer space?\n",
       "2                     What is the name of the galaxy that contains our Solar System?\n",
       "3  How does the solar wind influence the atmospheres of planets in the Solar System?\n",
       "4                     Fetch me the current trajectory of Pluto's orbit from nasa.gov"
      ]
     },
     "execution_count": 6,
     "metadata": {},
     "output_type": "execute_result"
    }
   ],
   "source": [
    "df = pd.read_csv(\"solar_system_example_prompts.csv\")\n",
    "df.head()"
   ]
  },
  {
   "cell_type": "code",
   "execution_count": 10,
   "metadata": {},
   "outputs": [
    {
     "name": "stderr",
     "output_type": "stream",
     "text": [
      "Querying TLM... 100%|\u2588\u2588\u2588\u2588\u2588\u2588\u2588\u2588\u2588\u2588\u2588\u2588\u2588\u2588\u2588\u2588\u2588\u2588\u2588\u2588\u2588\u2588\u2588\u2588\u2588\u2588\u2588\u2588\u2588\u2588\u2588\u2588\u2588\u2588\u2588\u2588\u2588\u2588\u2588\u2588\u2588\u2588\u2588\u2588\u2588\u2588\u2588\u2588\u2588\u2588\u2588\u2588\u2588\u2588\u2588\u2588\u2588\u2588\u2588\u2588\u2588\u2588\u2588\u2588\u2588\u2588\u2588\u2588\u2588\u2588\u2588\u2588\u2588\u2588\u2588\u2588\u2588\u2588\u2588\u2588\u2588\u2588\u2588\u2588\u2588\u2588\u2588\u2588\u2588\u2588\u2588\u2588\u2588\u2588\u2588\u2588\u2588\u2588\u2588\u2588\u2588\u2588\u2588\u2588\u2588\u2588\u2588\u2588\u2588\u2588\u2588\u2588\u2588\u2588\u2588\u2588\u2588\u2588\u2588\u2588\u2588\u2588\u2588\u2588\u2588\u2588\u2588\u2588\u2588\u2588\u2588\u2588\u2588\u2588\u2588\u2588\u2588\u2588\u2588\u2588\u2588\u2588\u2588\u2588\u2588\u2588\u2588\u2588\u2588\u2588\u2588\u2588\u2588\u2588\u2588\u2588\u2588\u2588\u2588\u2588\u2588\u2588\u2588\u2588\u2588\u2588\u2588\u2588\u2588\u2588\u2588\u2588\u2588\u2588\u2588\u2588\u2588\u2588\u2588\u2588|\n"
     ]
    }
   ],
   "source": [
    "tlm = TLM()\n",
    "\n",
    "results = df.copy(deep=True)  # stores TLM outputs for each example\n",
    "\n",
    "outputs = tlm.prompt(df[\"prompt\"].to_list())\n",
    "results[[\"response\",\"trustworthiness_score\"]] = pd.DataFrame(outputs)"
   ]
  },
  {
   "cell_type": "markdown",
   "metadata": {},
   "source": [
    "Let's sort the data by trustworthiness scores. Observe how the LLM responses with the lowest trustworthiness scores convey unhelpful or factually inaccurate answers, sometimes referred to as *hallucinations*. Thankfully, TLM automatically caught these incorrect responses!"
   ]
  },
  {
   "cell_type": "code",
   "execution_count": 11,
   "metadata": {},
   "outputs": [
    {
     "data": {
      "text/html": [
       "<div>\n",
       "<style scoped>\n",
       "    .dataframe tbody tr th:only-of-type {\n",
       "        vertical-align: middle;\n",
       "    }\n",
       "\n",
       "    .dataframe tbody tr th {\n",
       "        vertical-align: top;\n",
       "    }\n",
       "\n",
       "    .dataframe thead th {\n",
       "        text-align: right;\n",
       "    }\n",
       "</style>\n",
       "<table border=\"1\" class=\"dataframe\">\n",
       "  <thead>\n",
       "    <tr style=\"text-align: right;\">\n",
       "      <th></th>\n",
       "      <th>prompt</th>\n",
       "      <th>response</th>\n",
       "      <th>trustworthiness_score</th>\n",
       "    </tr>\n",
       "  </thead>\n",
       "  <tbody>\n",
       "    <tr>\n",
       "      <th>12</th>\n",
       "      <td>What is the name of the first chimpanzee that reached the Moon?</td>\n",
       "      <td>The first chimpanzee to reach the Moon was named \"Ham.\" However, it's important to note that Ham did not actually land on the Moon; he was the first chimpanzee in space, launched by NASA on January 31, 1961. The first living beings to reach the Moon were the Soviet Union's tortoises aboard the Zond 5 mission in 1968. If you meant a specific mission involving chimpanzees and the Moon, there hasn't been one where a chimpanzee landed on the Moon.</td>\n",
       "      <td>0.342736</td>\n",
       "    </tr>\n",
       "    <tr>\n",
       "      <th>1</th>\n",
       "      <td>As of 2024, how many dogs have reached outer space?</td>\n",
       "      <td>As of 2024, a total of 12 dogs have been sent into space as part of the Soviet space program during the 1950s and 1960s. The most famous of these dogs is Laika, who became the first animal to orbit the Earth aboard Sputnik 2 in 1957. Other dogs, such as Belka and Strelka, also made significant contributions to space exploration. The missions involving these dogs were crucial for understanding the effects of space travel on living organisms.</td>\n",
       "      <td>0.598447</td>\n",
       "    </tr>\n",
       "    <tr>\n",
       "      <th>11</th>\n",
       "      <td>Scientists have recently confirmed that Mars has been inhabited since the 1960s, but they are thirty years behind Earth in terms of fashion. What style of haircut is fashionable for Martian men these days?</td>\n",
       "      <td>If Martians are thirty years behind Earth in terms of fashion and we consider the 1960s as their starting point, then the current fashionable haircut for Martian men would likely reflect styles from the 1990s. Popular haircuts from that era included the \"bowl cut,\" \"mullet,\" and \"fade.\" Given the playful nature of this scenario, it's possible that Martian men might be sporting a unique blend of these styles, perhaps with a twist that incorporates Martian culture or aesthetics. So, a fashionable Martian man might be seen with a modernized mullet or a bowl cut with vibrant colors, reflecting both their retro influences and their extraterrestrial flair!</td>\n",
       "      <td>0.619199</td>\n",
       "    </tr>\n",
       "    <tr>\n",
       "      <th>8</th>\n",
       "      <td>Which brand of sunscreen is recommended for astronauts on spacewalks to protect against solar radiation?</td>\n",
       "      <td>Astronauts on spacewalks use a specialized sunscreen called **\"SPF 50\"** or higher, which is often provided by brands like **Banana Boat** or **Coppertone**. However, the specific formulation used by NASA is designed to withstand the harsh conditions of space, including extreme temperatures and solar radiation. The sunscreen is formulated to provide protection against both UV radiation and the unique environmental factors encountered in space. It's important to note that the exact brand and formulation may vary based on mission requirements and advancements in technology.</td>\n",
       "      <td>0.642048</td>\n",
       "    </tr>\n",
       "    <tr>\n",
       "      <th>16</th>\n",
       "      <td>How many countries have planted their flags on the moon?</td>\n",
       "      <td>As of now, six countries have successfully landed missions on the Moon and planted their flags. These countries are:\\n\\n1. United States\\n2. Soviet Union (now Russia)\\n3. China\\n4. India\\n5. Japan\\n6. Israel\\n\\nThe most notable missions that involved flag planting were the Apollo missions by the United States, particularly Apollo 11, which was the first manned mission to land on the Moon in 1969. Other countries have conducted uncrewed missions to the Moon, but the above list includes those that have successfully planted flags on the lunar surface.</td>\n",
       "      <td>0.648395</td>\n",
       "    </tr>\n",
       "  </tbody>\n",
       "</table>\n",
       "</div>"
      ],
      "text/plain": [
       "                                                                                                                                                                                                           prompt  \\\n",
       "12                                                                                                                                                What is the name of the first chimpanzee that reached the Moon?   \n",
       "1                                                                                                                                                             As of 2024, how many dogs have reached outer space?   \n",
       "11  Scientists have recently confirmed that Mars has been inhabited since the 1960s, but they are thirty years behind Earth in terms of fashion. What style of haircut is fashionable for Martian men these days?   \n",
       "8                                                                                                        Which brand of sunscreen is recommended for astronauts on spacewalks to protect against solar radiation?   \n",
       "16                                                                                                                                                       How many countries have planted their flags on the moon?   \n",
       "\n",
       "                                                                                                                                                                                                                                                                                                                                                                                                                                                                                                                                                                                                                                                                              response  \\\n",
       "12                                                                                                                                                                                                                     The first chimpanzee to reach the Moon was named \"Ham.\" However, it's important to note that Ham did not actually land on the Moon; he was the first chimpanzee in space, launched by NASA on January 31, 1961. The first living beings to reach the Moon were the Soviet Union's tortoises aboard the Zond 5 mission in 1968. If you meant a specific mission involving chimpanzees and the Moon, there hasn't been one where a chimpanzee landed on the Moon.   \n",
       "1                                                                                                                                                                                                                         As of 2024, a total of 12 dogs have been sent into space as part of the Soviet space program during the 1950s and 1960s. The most famous of these dogs is Laika, who became the first animal to orbit the Earth aboard Sputnik 2 in 1957. Other dogs, such as Belka and Strelka, also made significant contributions to space exploration. The missions involving these dogs were crucial for understanding the effects of space travel on living organisms.   \n",
       "11  If Martians are thirty years behind Earth in terms of fashion and we consider the 1960s as their starting point, then the current fashionable haircut for Martian men would likely reflect styles from the 1990s. Popular haircuts from that era included the \"bowl cut,\" \"mullet,\" and \"fade.\" Given the playful nature of this scenario, it's possible that Martian men might be sporting a unique blend of these styles, perhaps with a twist that incorporates Martian culture or aesthetics. So, a fashionable Martian man might be seen with a modernized mullet or a bowl cut with vibrant colors, reflecting both their retro influences and their extraterrestrial flair!   \n",
       "8                                                                                   Astronauts on spacewalks use a specialized sunscreen called **\"SPF 50\"** or higher, which is often provided by brands like **Banana Boat** or **Coppertone**. However, the specific formulation used by NASA is designed to withstand the harsh conditions of space, including extreme temperatures and solar radiation. The sunscreen is formulated to provide protection against both UV radiation and the unique environmental factors encountered in space. It's important to note that the exact brand and formulation may vary based on mission requirements and advancements in technology.   \n",
       "16                                                                                                          As of now, six countries have successfully landed missions on the Moon and planted their flags. These countries are:\\n\\n1. United States\\n2. Soviet Union (now Russia)\\n3. China\\n4. India\\n5. Japan\\n6. Israel\\n\\nThe most notable missions that involved flag planting were the Apollo missions by the United States, particularly Apollo 11, which was the first manned mission to land on the Moon in 1969. Other countries have conducted uncrewed missions to the Moon, but the above list includes those that have successfully planted flags on the lunar surface.   \n",
       "\n",
       "    trustworthiness_score  \n",
       "12               0.342736  \n",
       "1                0.598447  \n",
       "11               0.619199  \n",
       "8                0.642048  \n",
       "16               0.648395  "
      ]
     },
     "execution_count": 8,
     "metadata": {},
     "output_type": "execute_result"
    }
   ],
   "source": [
    "results.sort_values(by=\"trustworthiness_score\").head()"
   ]
  },
  {
   "cell_type": "markdown",
   "metadata": {},
   "source": [
    "Inspecting the LLM responses with the highest trustworthiness scores, we find they are accurate and appropriate/helpful. TLM allows you to automatically detect which LLM responses are confidently correct vs. not!"
   ]
  },
  {
   "cell_type": "code",
   "execution_count": 12,
   "metadata": {},
   "outputs": [
    {
     "data": {
      "text/html": [
       "<div>\n",
       "<style scoped>\n",
       "    .dataframe tbody tr th:only-of-type {\n",
       "        vertical-align: middle;\n",
       "    }\n",
       "\n",
       "    .dataframe tbody tr th {\n",
       "        vertical-align: top;\n",
       "    }\n",
       "\n",
       "    .dataframe thead th {\n",
       "        text-align: right;\n",
       "    }\n",
       "</style>\n",
       "<table border=\"1\" class=\"dataframe\">\n",
       "  <thead>\n",
       "    <tr style=\"text-align: right;\">\n",
       "      <th></th>\n",
       "      <th>prompt</th>\n",
       "      <th>response</th>\n",
       "      <th>trustworthiness_score</th>\n",
       "    </tr>\n",
       "  </thead>\n",
       "  <tbody>\n",
       "    <tr>\n",
       "      <th>7</th>\n",
       "      <td>Analyze the potential for life on Enceladus based on current scientific findings.</td>\n",
       "      <td>Enceladus, one of Saturn's moons, has garnered significant interest in the search for extraterrestrial life due to several compelling scientific findings. Here\u2019s an analysis of the potential for life on Enceladus based on current knowledge:\\n\\n### 1. **Subsurface Ocean**\\nOne of the most promising aspects of Enceladus is the presence of a subsurface ocean beneath its icy crust. Data from NASA's Cassini spacecraft, which orbited Saturn from 2004 to 2017, indicated that Enceladus has a global ocean of liquid water beneath its surface. This ocean is believed to be in contact with the moon's rocky core, which is crucial for the potential for life, as it could provide the necessary chemical interactions.\\n\\n### 2. **Hydrothermal Activity**\\nCassini's observations revealed plumes of water vapor and ice particles erupting from the moon's south pole. These plumes contain not only water but also organic molecules and salts, suggesting that hydrothermal activity may be occurring on the ocean floor. Hydrothermal vents on Earth are known to support diverse ecosystems, and similar environments on Enceladus could potentially harbor microbial life.\\n\\n### 3. **Organic Compounds**\\nThe analysis of the plumes has detected organic compounds, including simple hydrocarbons. While these compounds are not definitive evidence of life, they are essential building blocks for life as we know it. The presence of these organic materials, combined with liquid water and energy sources from hydrothermal activity, creates a potentially habitable environment.\\n\\n### 4. **Energy Sources**\\nFor life to exist, it requires energy. The potential hydrothermal vents on the ocean floor could provide the necessary energy through chemical reactions, similar to those that sustain life in Earth's deep oceans. Additionally, the interaction between the ocean and the rocky core could produce a variety of chemical nutrients.\\n\\n### 5. **Chemical Equilibrium**\\nThe presence of molecular hydrogen (H\u2082) detected in the plumes suggests that there may be chemical processes occurring that could support life. On Earth, hydrogen is often associated with microbial life, particularly in environments like hydrothermal vents.\\n\\n### 6. **Icy Surface and Protection**\\nEnceladus's thick ice shell provides a protective barrier against cosmic radiation and other environmental factors that could be harmful to potential life forms. This insulation could help maintain a stable environment for life to thrive in the subsurface ocean.\\n\\n### 7. **Comparative Planetology**\\nThe study of extremophiles on Earth\u2014organisms that thrive in extreme</td>\n",
       "      <td>0.939376</td>\n",
       "    </tr>\n",
       "    <tr>\n",
       "      <th>9</th>\n",
       "      <td>What is the primary reason Venus has not been colonized yet despite its similar size and gravity to Earth?</td>\n",
       "      <td>The primary reason Venus has not been colonized, despite its similar size and gravity to Earth, is its extremely hostile environment. Venus has a thick atmosphere composed mainly of carbon dioxide, with clouds of sulfuric acid, leading to surface temperatures around 467 degrees Celsius (872 degrees Fahrenheit). This intense heat, combined with crushing atmospheric pressure about 92 times that of Earth, makes the surface of Venus incredibly inhospitable for human life and current technology.\\n\\nAdditionally, the lack of water and the presence of corrosive chemicals further complicate the possibility of colonization. While there have been discussions about potential floating colonies in the upper atmosphere, where conditions are less extreme, the challenges of developing the necessary technology and infrastructure for such habitats remain significant. Overall, the extreme environmental conditions are the primary barrier to colonization efforts on Venus.</td>\n",
       "      <td>0.957340</td>\n",
       "    </tr>\n",
       "    <tr>\n",
       "      <th>17</th>\n",
       "      <td>Name a few planets other than Earth that contain volcanos.</td>\n",
       "      <td>Several planets and moons in our solar system are known to have volcanic activity or features indicative of past volcanism. Here are a few:\\n\\n1. **Mars**: Mars has the largest volcano in the solar system, Olympus Mons, which is about 13.6 miles (22 kilometers) high. It also has several other large shield volcanoes.\\n\\n2. **Venus**: Venus has numerous volcanoes, with many large shield volcanoes and evidence of past volcanic activity. Some scientists believe that Venus may still be volcanically active today.\\n\\n3. **Io**: One of Jupiter's moons, Io is the most volcanically active body in the solar system. It has hundreds of active volcanoes, some of which erupt with lava fountains and plumes of sulfur and sulfur dioxide.\\n\\n4. **Enceladus**: A moon of Saturn, Enceladus has geysers that erupt water vapor and ice particles, indicating cryovolcanism (cold volcanism). This suggests that there may be subsurface volcanic activity.\\n\\n5. **Triton**: Neptune's largest moon, Triton, shows signs of cryovolcanism as well, with geysers that may be driven by subsurface activity.\\n\\nThese celestial bodies provide fascinating insights into volcanic processes beyond Earth.</td>\n",
       "      <td>0.963893</td>\n",
       "    </tr>\n",
       "    <tr>\n",
       "      <th>0</th>\n",
       "      <td>What is the largest planet in the Solar System?</td>\n",
       "      <td>The largest planet in the Solar System is Jupiter. It is a gas giant with a diameter of about 86,881 miles (139,822 kilometers) and is known for its prominent bands of clouds, Great Red Spot, and numerous moons.</td>\n",
       "      <td>0.981862</td>\n",
       "    </tr>\n",
       "    <tr>\n",
       "      <th>2</th>\n",
       "      <td>What is the name of the galaxy that contains our Solar System?</td>\n",
       "      <td>The galaxy that contains our Solar System is called the Milky Way Galaxy.</td>\n",
       "      <td>0.983264</td>\n",
       "    </tr>\n",
       "  </tbody>\n",
       "</table>\n",
       "</div>"
      ],
      "text/plain": [
       "                                                                                                        prompt  \\\n",
       "7                            Analyze the potential for life on Enceladus based on current scientific findings.   \n",
       "9   What is the primary reason Venus has not been colonized yet despite its similar size and gravity to Earth?   \n",
       "17                                                  Name a few planets other than Earth that contain volcanos.   \n",
       "0                                                              What is the largest planet in the Solar System?   \n",
       "2                                               What is the name of the galaxy that contains our Solar System?   \n",
       "\n",
       "                                                                                                                                                                                                                                                                                                                                                                                                                                                                                                                                                                                                                                                                                                                                                                                                                                                                                                                                                                                                                                                                                                                                                                                                                                                                                                                                                                                                                                                                                                                                                                                                                                                                                                                                                                                                                                                                                                                                                                                                                                                                                                                                                                                                                                                                                                                                                                                                                                                                                                                                                                                                                                                                                                                    response  \\\n",
       "7   Enceladus, one of Saturn's moons, has garnered significant interest in the search for extraterrestrial life due to several compelling scientific findings. Here\u2019s an analysis of the potential for life on Enceladus based on current knowledge:\\n\\n### 1. **Subsurface Ocean**\\nOne of the most promising aspects of Enceladus is the presence of a subsurface ocean beneath its icy crust. Data from NASA's Cassini spacecraft, which orbited Saturn from 2004 to 2017, indicated that Enceladus has a global ocean of liquid water beneath its surface. This ocean is believed to be in contact with the moon's rocky core, which is crucial for the potential for life, as it could provide the necessary chemical interactions.\\n\\n### 2. **Hydrothermal Activity**\\nCassini's observations revealed plumes of water vapor and ice particles erupting from the moon's south pole. These plumes contain not only water but also organic molecules and salts, suggesting that hydrothermal activity may be occurring on the ocean floor. Hydrothermal vents on Earth are known to support diverse ecosystems, and similar environments on Enceladus could potentially harbor microbial life.\\n\\n### 3. **Organic Compounds**\\nThe analysis of the plumes has detected organic compounds, including simple hydrocarbons. While these compounds are not definitive evidence of life, they are essential building blocks for life as we know it. The presence of these organic materials, combined with liquid water and energy sources from hydrothermal activity, creates a potentially habitable environment.\\n\\n### 4. **Energy Sources**\\nFor life to exist, it requires energy. The potential hydrothermal vents on the ocean floor could provide the necessary energy through chemical reactions, similar to those that sustain life in Earth's deep oceans. Additionally, the interaction between the ocean and the rocky core could produce a variety of chemical nutrients.\\n\\n### 5. **Chemical Equilibrium**\\nThe presence of molecular hydrogen (H\u2082) detected in the plumes suggests that there may be chemical processes occurring that could support life. On Earth, hydrogen is often associated with microbial life, particularly in environments like hydrothermal vents.\\n\\n### 6. **Icy Surface and Protection**\\nEnceladus's thick ice shell provides a protective barrier against cosmic radiation and other environmental factors that could be harmful to potential life forms. This insulation could help maintain a stable environment for life to thrive in the subsurface ocean.\\n\\n### 7. **Comparative Planetology**\\nThe study of extremophiles on Earth\u2014organisms that thrive in extreme   \n",
       "9                                                                                                                                                                                                                                                                                                                                                                                                                                                                                                                                                                                                                                                                                                                                                                                                                                                                                                                                                                                                                                                                                                                                                                                                                                                                                                                                                                                                                                                                                                                                                                                                                                                                                                                      The primary reason Venus has not been colonized, despite its similar size and gravity to Earth, is its extremely hostile environment. Venus has a thick atmosphere composed mainly of carbon dioxide, with clouds of sulfuric acid, leading to surface temperatures around 467 degrees Celsius (872 degrees Fahrenheit). This intense heat, combined with crushing atmospheric pressure about 92 times that of Earth, makes the surface of Venus incredibly inhospitable for human life and current technology.\\n\\nAdditionally, the lack of water and the presence of corrosive chemicals further complicate the possibility of colonization. While there have been discussions about potential floating colonies in the upper atmosphere, where conditions are less extreme, the challenges of developing the necessary technology and infrastructure for such habitats remain significant. Overall, the extreme environmental conditions are the primary barrier to colonization efforts on Venus.   \n",
       "17                                                                                                                                                                                                                                                                                                                                                                                                                                                                                                                                                                                                                                                                                                                                                                                                                                                                                                                                                                                                                                                                                                                                                                                                                                                                                                                                                                                                                                                                                                    Several planets and moons in our solar system are known to have volcanic activity or features indicative of past volcanism. Here are a few:\\n\\n1. **Mars**: Mars has the largest volcano in the solar system, Olympus Mons, which is about 13.6 miles (22 kilometers) high. It also has several other large shield volcanoes.\\n\\n2. **Venus**: Venus has numerous volcanoes, with many large shield volcanoes and evidence of past volcanic activity. Some scientists believe that Venus may still be volcanically active today.\\n\\n3. **Io**: One of Jupiter's moons, Io is the most volcanically active body in the solar system. It has hundreds of active volcanoes, some of which erupt with lava fountains and plumes of sulfur and sulfur dioxide.\\n\\n4. **Enceladus**: A moon of Saturn, Enceladus has geysers that erupt water vapor and ice particles, indicating cryovolcanism (cold volcanism). This suggests that there may be subsurface volcanic activity.\\n\\n5. **Triton**: Neptune's largest moon, Triton, shows signs of cryovolcanism as well, with geysers that may be driven by subsurface activity.\\n\\nThese celestial bodies provide fascinating insights into volcanic processes beyond Earth.   \n",
       "0                                                                                                                                                                                                                                                                                                                                                                                                                                                                                                                                                                                                                                                                                                                                                                                                                                                                                                                                                                                                                                                                                                                                                                                                                                                                                                                                                                                                                                                                                                                                                                                                                                                                                                                                                                                                                                                                                                                                                                                                                                                                                                                                                                                                                                                                                                                                                                                                                                                                                                        The largest planet in the Solar System is Jupiter. It is a gas giant with a diameter of about 86,881 miles (139,822 kilometers) and is known for its prominent bands of clouds, Great Red Spot, and numerous moons.   \n",
       "2                                                                                                                                                                                                                                                                                                                                                                                                                                                                                                                                                                                                                                                                                                                                                                                                                                                                                                                                                                                                                                                                                                                                                                                                                                                                                                                                                                                                                                                                                                                                                                                                                                                                                                                                                                                                                                                                                                                                                                                                                                                                                                                                                                                                                                                                                                                                                                                                                                                                                                                                                                                                                                                  The galaxy that contains our Solar System is called the Milky Way Galaxy.   \n",
       "\n",
       "    trustworthiness_score  \n",
       "7                0.939376  \n",
       "9                0.957340  \n",
       "17               0.963893  \n",
       "0                0.981862  \n",
       "2                0.983264  "
      ]
     },
     "execution_count": 9,
     "metadata": {},
     "output_type": "execute_result"
    }
   ],
   "source": [
    "results.sort_values(by=\"trustworthiness_score\").tail()"
   ]
  },
  {
   "cell_type": "markdown",
   "metadata": {},
   "source": [
    "## Application: Scoring the trustworthiness of pre-generated responses\n",
    "\n",
    "Let's see TLM's capability to score the trustworthiness of arbitrary responses (from *any* LLM model, or even human-written). When using `TLM.get_trustworthiness_score()` to score responses from your own LLM, simply provide the *same* `prompt` used for your own LLM (including any instructions, context, message history, etc). Here we use **batched queries** to run TLM more quickly over a dataset containing pre-generated responses."
   ]
  },
  {
   "cell_type": "code",
   "execution_count": 13,
   "metadata": {},
   "outputs": [
    {
     "data": {
      "text/html": [
       "<div>\n",
       "<style scoped>\n",
       "    .dataframe tbody tr th:only-of-type {\n",
       "        vertical-align: middle;\n",
       "    }\n",
       "\n",
       "    .dataframe tbody tr th {\n",
       "        vertical-align: top;\n",
       "    }\n",
       "\n",
       "    .dataframe thead th {\n",
       "        text-align: right;\n",
       "    }\n",
       "</style>\n",
       "<table border=\"1\" class=\"dataframe\">\n",
       "  <thead>\n",
       "    <tr style=\"text-align: right;\">\n",
       "      <th></th>\n",
       "      <th>prompt</th>\n",
       "      <th>human_response</th>\n",
       "    </tr>\n",
       "  </thead>\n",
       "  <tbody>\n",
       "    <tr>\n",
       "      <th>0</th>\n",
       "      <td>What is the largest planet in our solar system?</td>\n",
       "      <td>The largest planet in our solar system is Jvpit3r.</td>\n",
       "    </tr>\n",
       "    <tr>\n",
       "      <th>1</th>\n",
       "      <td>What is the significance of the asteroid belt in our solar system?</td>\n",
       "      <td>The asteroid belt, located between Mars and Jupiter, contains numerous rocky bodies and provides insight into the early solar system's formation.</td>\n",
       "    </tr>\n",
       "    <tr>\n",
       "      <th>2</th>\n",
       "      <td>How many planets are in the solar system?</td>\n",
       "      <td>There are eight planets in the solar system.</td>\n",
       "    </tr>\n",
       "    <tr>\n",
       "      <th>3</th>\n",
       "      <td>What defines a planet as a 'gas giant'?</td>\n",
       "      <td>A gas giant is a large planet composed mostly of gases, such as hydrogen and helium, with a relatively small rocky core.</td>\n",
       "    </tr>\n",
       "    <tr>\n",
       "      <th>4</th>\n",
       "      <td>Is Pluto still considered a planet in our solar system?</td>\n",
       "      <td>Pluto is no longer considered a planet. It is classified as a dwarf planet.</td>\n",
       "    </tr>\n",
       "  </tbody>\n",
       "</table>\n",
       "</div>"
      ],
      "text/plain": [
       "                                                               prompt  \\\n",
       "0                     What is the largest planet in our solar system?   \n",
       "1  What is the significance of the asteroid belt in our solar system?   \n",
       "2                           How many planets are in the solar system?   \n",
       "3                             What defines a planet as a 'gas giant'?   \n",
       "4             Is Pluto still considered a planet in our solar system?   \n",
       "\n",
       "                                                                                                                                      human_response  \n",
       "0                                                                                                 The largest planet in our solar system is Jvpit3r.  \n",
       "1  The asteroid belt, located between Mars and Jupiter, contains numerous rocky bodies and provides insight into the early solar system's formation.  \n",
       "2                                                                                                       There are eight planets in the solar system.  \n",
       "3                           A gas giant is a large planet composed mostly of gases, such as hydrogen and helium, with a relatively small rocky core.  \n",
       "4                                                                        Pluto is no longer considered a planet. It is classified as a dwarf planet.  "
      ]
     },
     "execution_count": 10,
     "metadata": {},
     "output_type": "execute_result"
    }
   ],
   "source": [
    "df = pd.read_csv(\"solar_system_dataset.csv\")\n",
    "df.head()"
   ]
  },
  {
   "cell_type": "code",
   "execution_count": 17,
   "metadata": {},
   "outputs": [
    {
     "name": "stderr",
     "output_type": "stream",
     "text": [
      "Querying TLM... 100%|\u2588\u2588\u2588\u2588\u2588\u2588\u2588\u2588\u2588\u2588\u2588\u2588\u2588\u2588\u2588\u2588\u2588\u2588\u2588\u2588\u2588\u2588\u2588\u2588\u2588\u2588\u2588\u2588\u2588\u2588\u2588\u2588\u2588\u2588\u2588\u2588\u2588\u2588\u2588\u2588\u2588\u2588\u2588\u2588\u2588\u2588\u2588\u2588\u2588\u2588\u2588\u2588\u2588\u2588\u2588\u2588\u2588\u2588\u2588\u2588\u2588\u2588\u2588\u2588\u2588\u2588\u2588\u2588\u2588\u2588\u2588\u2588\u2588\u2588\u2588\u2588\u2588\u2588\u2588\u2588\u2588\u2588\u2588\u2588\u2588\u2588\u2588\u2588\u2588\u2588\u2588\u2588\u2588\u2588\u2588\u2588\u2588\u2588\u2588\u2588\u2588\u2588\u2588\u2588\u2588\u2588\u2588\u2588\u2588\u2588\u2588\u2588\u2588\u2588\u2588\u2588\u2588\u2588\u2588\u2588\u2588\u2588\u2588\u2588\u2588\u2588\u2588\u2588\u2588\u2588\u2588\u2588\u2588\u2588\u2588\u2588\u2588\u2588\u2588\u2588\u2588\u2588\u2588\u2588\u2588\u2588\u2588\u2588\u2588\u2588\u2588\u2588\u2588\u2588\u2588\u2588\u2588\u2588\u2588\u2588\u2588\u2588\u2588\u2588\u2588\u2588\u2588\u2588\u2588\u2588\u2588\u2588\u2588\u2588\u2588\u2588\u2588\u2588\u2588\u2588|\n"
     ]
    }
   ],
   "source": [
    "tlm = TLM()\n",
    "\n",
    "results = df.copy(deep=True)\n",
    "\n",
    "outputs = tlm.get_trustworthiness_score(df[\"prompt\"].to_list(), df[\"human_response\"].to_list())\n",
    "results[\"trustworthiness_score\"] = [output[\"trustworthiness_score\"] for output in outputs]"
   ]
  },
  {
   "cell_type": "markdown",
   "metadata": {},
   "source": [
    "The responses receiving lower trustworthiness scores tend to be inaccurate, containing issues like: incorrect facts, contradicting given context, and poor writing quality. Sometimes the prompts were vague/confusing.\n",
    "While other hallucination detection and automated scoring strategies can only detect certain types of LLM errors, TLM can detect all sorts of incorrect LLM responses via its comprehensive uncertainty estimation.\n",
    "\n",
    "Below, we see that the responses receiving high trustworthiness scores are all accurate and helpful answers. If your application requires highly accurate outputs, you could safely rely on the outputs with high trustworthiness scores, while implementing a fallback strategy to handle the rest of the outputs."
   ]
  },
  {
   "cell_type": "code",
   "execution_count": 19,
   "metadata": {},
   "outputs": [
    {
     "data": {
      "text/html": [
       "<div>\n",
       "<style scoped>\n",
       "    .dataframe tbody tr th:only-of-type {\n",
       "        vertical-align: middle;\n",
       "    }\n",
       "\n",
       "    .dataframe tbody tr th {\n",
       "        vertical-align: top;\n",
       "    }\n",
       "\n",
       "    .dataframe thead th {\n",
       "        text-align: right;\n",
       "    }\n",
       "</style>\n",
       "<table border=\"1\" class=\"dataframe\">\n",
       "  <thead>\n",
       "    <tr style=\"text-align: right;\">\n",
       "      <th></th>\n",
       "      <th>prompt</th>\n",
       "      <th>human_response</th>\n",
       "      <th>trustworthiness_score</th>\n",
       "    </tr>\n",
       "  </thead>\n",
       "  <tbody>\n",
       "    <tr>\n",
       "      <th>10</th>\n",
       "      <td>Does the Moon qualify as a planet in our solar system?</td>\n",
       "      <td>The Moon is considered a planet in our solar system due to its size and orbit around the Earth.</td>\n",
       "      <td>0.053171</td>\n",
       "    </tr>\n",
       "    <tr>\n",
       "      <th>8</th>\n",
       "      <td>Is Jupiter entirely made of gas with no solid areas?</td>\n",
       "      <td>Jupiter is entirely made of gas, with no solid areas anywhere on the planet.</td>\n",
       "      <td>0.092502</td>\n",
       "    </tr>\n",
       "    <tr>\n",
       "      <th>9</th>\n",
       "      <td>Why is Venus the hottest planet in the solar system?</td>\n",
       "      <td>Venus is the hottest planet in the solar system because it is the closest to the Sun.</td>\n",
       "      <td>0.478233</td>\n",
       "    </tr>\n",
       "    <tr>\n",
       "      <th>13</th>\n",
       "      <td>Classify the following as planets or moons: E</td>\n",
       "      <td>arth, Europa, Titan, Neptune, Ganymede</td>\n",
       "      <td>0.522682</td>\n",
       "    </tr>\n",
       "    <tr>\n",
       "      <th>7</th>\n",
       "      <td>Mars, with its thin atmosphere and cold desert landscape, has surface features that include large volcanoes like Olympus Mons, the largest in the solar system, and valleys such as Valles Marineris. Evidence of water ice beneath its surface and dry river beds suggest it once had liquid water. What suggests Mars could currently support Earth-like life?</td>\n",
       "      <td>The presence of large bodies of surface water and a thick, oxygen-rich atmosphere.</td>\n",
       "      <td>0.537487</td>\n",
       "    </tr>\n",
       "  </tbody>\n",
       "</table>\n",
       "</div>"
      ],
      "text/plain": [
       "                                                                                                                                                                                                                                                                                                                                                              prompt  \\\n",
       "10                                                                                                                                                                                                                                                                                                            Does the Moon qualify as a planet in our solar system?   \n",
       "8                                                                                                                                                                                                                                                                                                               Is Jupiter entirely made of gas with no solid areas?   \n",
       "9                                                                                                                                                                                                                                                                                                               Why is Venus the hottest planet in the solar system?   \n",
       "13                                                                                                                                                                                                                                                                                                                     Classify the following as planets or moons: E   \n",
       "7   Mars, with its thin atmosphere and cold desert landscape, has surface features that include large volcanoes like Olympus Mons, the largest in the solar system, and valleys such as Valles Marineris. Evidence of water ice beneath its surface and dry river beds suggest it once had liquid water. What suggests Mars could currently support Earth-like life?   \n",
       "\n",
       "                                                                                     human_response  \\\n",
       "10  The Moon is considered a planet in our solar system due to its size and orbit around the Earth.   \n",
       "8                      Jupiter is entirely made of gas, with no solid areas anywhere on the planet.   \n",
       "9             Venus is the hottest planet in the solar system because it is the closest to the Sun.   \n",
       "13                                                           arth, Europa, Titan, Neptune, Ganymede   \n",
       "7                The presence of large bodies of surface water and a thick, oxygen-rich atmosphere.   \n",
       "\n",
       "    trustworthiness_score  \n",
       "10               0.053171  \n",
       "8                0.092502  \n",
       "9                0.478233  \n",
       "13               0.522682  \n",
       "7                0.537487  "
      ]
     },
     "execution_count": 12,
     "metadata": {},
     "output_type": "execute_result"
    }
   ],
   "source": [
    "results.sort_values(by=\"trustworthiness_score\").head()"
   ]
  },
  {
   "cell_type": "code",
   "execution_count": 20,
   "metadata": {},
   "outputs": [
    {
     "data": {
      "text/html": [
       "<div>\n",
       "<style scoped>\n",
       "    .dataframe tbody tr th:only-of-type {\n",
       "        vertical-align: middle;\n",
       "    }\n",
       "\n",
       "    .dataframe tbody tr th {\n",
       "        vertical-align: top;\n",
       "    }\n",
       "\n",
       "    .dataframe thead th {\n",
       "        text-align: right;\n",
       "    }\n",
       "</style>\n",
       "<table border=\"1\" class=\"dataframe\">\n",
       "  <thead>\n",
       "    <tr style=\"text-align: right;\">\n",
       "      <th></th>\n",
       "      <th>prompt</th>\n",
       "      <th>human_response</th>\n",
       "      <th>trustworthiness_score</th>\n",
       "    </tr>\n",
       "  </thead>\n",
       "  <tbody>\n",
       "    <tr>\n",
       "      <th>4</th>\n",
       "      <td>Is Pluto still considered a planet in our solar system?</td>\n",
       "      <td>Pluto is no longer considered a planet. It is classified as a dwarf planet.</td>\n",
       "      <td>0.939432</td>\n",
       "    </tr>\n",
       "    <tr>\n",
       "      <th>6</th>\n",
       "      <td>Which planet is often called Earth's twin and why?</td>\n",
       "      <td>Venus is often called Earth's twin because it is similar in size, mass, and composition.</td>\n",
       "      <td>0.940159</td>\n",
       "    </tr>\n",
       "    <tr>\n",
       "      <th>2</th>\n",
       "      <td>How many planets are in the solar system?</td>\n",
       "      <td>There are eight planets in the solar system.</td>\n",
       "      <td>0.986228</td>\n",
       "    </tr>\n",
       "    <tr>\n",
       "      <th>11</th>\n",
       "      <td>Mars, often called the Red Planet, has a thin atmosphere composed mainly of carbon dioxide. The surface exhibits iron oxide or rust, giving the planet its reddish appearance. Mars has the largest volcano in the solar system, Olympus Mons, and evidence suggests water ice exists beneath its surface. What gives Mars its reddish color?</td>\n",
       "      <td>Iron oxide or rust gives Mars its reddish color.</td>\n",
       "      <td>0.986975</td>\n",
       "    </tr>\n",
       "    <tr>\n",
       "      <th>5</th>\n",
       "      <td>What planet is known for its extensive ring system?</td>\n",
       "      <td>Saturn is known for its extensive and visible ring system.</td>\n",
       "      <td>0.987380</td>\n",
       "    </tr>\n",
       "  </tbody>\n",
       "</table>\n",
       "</div>"
      ],
      "text/plain": [
       "                                                                                                                                                                                                                                                                                                                                           prompt  \\\n",
       "4                                                                                                                                                                                                                                                                                         Is Pluto still considered a planet in our solar system?   \n",
       "6                                                                                                                                                                                                                                                                                              Which planet is often called Earth's twin and why?   \n",
       "2                                                                                                                                                                                                                                                                                                       How many planets are in the solar system?   \n",
       "11  Mars, often called the Red Planet, has a thin atmosphere composed mainly of carbon dioxide. The surface exhibits iron oxide or rust, giving the planet its reddish appearance. Mars has the largest volcano in the solar system, Olympus Mons, and evidence suggests water ice exists beneath its surface. What gives Mars its reddish color?   \n",
       "5                                                                                                                                                                                                                                                                                             What planet is known for its extensive ring system?   \n",
       "\n",
       "                                                                              human_response  \\\n",
       "4                Pluto is no longer considered a planet. It is classified as a dwarf planet.   \n",
       "6   Venus is often called Earth's twin because it is similar in size, mass, and composition.   \n",
       "2                                               There are eight planets in the solar system.   \n",
       "11                                          Iron oxide or rust gives Mars its reddish color.   \n",
       "5                                 Saturn is known for its extensive and visible ring system.   \n",
       "\n",
       "    trustworthiness_score  \n",
       "4                0.939432  \n",
       "6                0.940159  \n",
       "2                0.986228  \n",
       "11               0.986975  \n",
       "5                0.987380  "
      ]
     },
     "execution_count": 13,
     "metadata": {},
     "output_type": "execute_result"
    }
   ],
   "source": [
    "results.sort_values(by=\"trustworthiness_score\").tail()"
   ]
  },
  {
   "cell_type": "markdown",
   "metadata": {},
   "source": [
    "Beyond catching incorrect responses from your LLM **in real-time**, TLM is also useful if you are doing **LLM Evals** with a dataset of responses from your own LLM (i.e. production logs from your AI application). Before you evaluate (or train) models on such data, first triage the lowest-quality examples identified by TLM."
   ]
  },
  {
   "cell_type": "markdown",
   "metadata": {},
   "source": [
    "## How to use these trust scores for reliable AI?\n",
    "\n",
    "Offline, you can manually review the lowest-trust LLM responses across a dataset and discover insights to [improve your LLM prompts](https://www.promptingguide.ai/).\n",
    "\n",
    "In real-time, you can automatically determine *which* LLM responses are untrustworthy by comparing trustworthiness scores against a fixed threshold (say 0.7).\n",
    "The overall magnitude of trust scores may differ between applications, so select *application-specific* thresholds.\n",
    "\n",
    "For maximally reliable AI applications, you can **escalate untrustworthy LLM responses for human review**.\n",
    "\n",
    "Here are other **strategies to automatically handle untrustworthy LLM responses** without a human-in-the-loop:\n",
    "   1. Append a warning message/disclaimer to the response.\n",
    "   2. Replace your LLM response with a fallback message such as: \"*Sorry I am unsure. Try rephrasing your request, or contact us*\".\n",
    "   3. In RAG, the fallback message might include raw retrieved context or search-results, for example: \"*Sorry I am unsure. Here's some potentially relevant information: ...*\".\n",
    "   4. Replace your original LLM response with a re-generated response.\n",
    "   5. Escalate to a more expensive AI system (e.g. DeepResearch API).\n",
    "\n",
    "Below, we showcase example implementations of these strategies. But our *main recommendation* for handling untrustworthy LLM responses is to use [Cleanlab Codex](https://help.cleanlab.ai/codex/) to: log them for remediation, prioritize what to remediate, and serve appropriate remediations for such cases (like expert-provided answers).\n",
    "\n",
    "### Append disclaimer to untrustworthy responses\n",
    "\n",
    "One straightforward strategy is to still present untrustworthy LLM responses to your user, but first edit them to make them less misleading. You could append a cautionary warning after the response:\n",
    "\n",
    "```python\n",
    "if trustworthiness_score < threshold:  # say 0.7\n",
    "    response = response + \"\\n\\n CAUTION: This answer was flagged as potentially untrustworthy.\"\n",
    "```\n",
    "\n",
    "Or you could append a *hedging statement* before the response, making it sound less confident:\n",
    "\n",
    "```python\n",
    "if trustworthiness_score < threshold:  # say 0.7\n",
    "    response = \"I'm not sure, but I'd guess:\\n\\n\" + response\n",
    "```\n",
    "\n",
    "\n",
    "### Automated response improvement strategies"
   ]
  },
  {
   "cell_type": "markdown",
   "id": "c0ec69c9-711b-43b9-b569-6a976a74fb5e",
   "metadata": {},
   "source": [
    "**Optional: Define helper methods: improve_response_tlm_explanation(), generate_improved_response()**\n",
    "\n"
   ]
  },
  {
   "cell_type": "code",
   "execution_count": null,
   "metadata": {},
   "outputs": [],
   "source": [
    "\n",
    "def improve_response_tlm_explanation(prompt, response, tlm_output, trust_score_threshold=0.7):\n",
    "    \"\"\" Use alternative response if one was identified in the TLM explanation and it has higher trust score.\"\"\"\n",
    "    # Variable that will store final response to return to user\n",
    "    final_response = tlm_output[\"response\"]\n",
    "    final_score = tlm_output[\"trustworthiness_score\"]\n",
    "    if final_score < trust_score_threshold:\n",
    "        # Try to get and evaluate alternative response\n",
    "        alt_response = get_alternative_response(tlm_output[\"log\"][\"explanation\"])\n",
    "        if alt_response:\n",
    "            try:\n",
    "                alt_score = tlm.get_trustworthiness_score(\n",
    "                    prompt=prompt,\n",
    "                    response=alt_response\n",
    "                )\n",
    "                # Update final values if alternative is better\n",
    "                if alt_score[\"trustworthiness_score\"] > final_score:\n",
    "                    final_response = alt_response\n",
    "                    final_score = alt_score[\"trustworthiness_score\"]\n",
    "            except:\n",
    "                pass  # Keep original response if scoring fails\n",
    "\n",
    "    print(f\"Original Response: {tlm_output['response']}\\n\")\n",
    "    print(f\"Original Score: {tlm_output['trustworthiness_score']}\\n\")\n",
    "    print(f\"Final Response: {final_response}\\n\")\n",
    "    print(f\"Final Score: {final_score}\")\n",
    "    return (final_response, final_score)\n",
    "\n",
    "\n",
    "# Extract alternative response from explanation (if one exists)\n",
    "def get_alternative_response(explanation):\n",
    "    if \":\" in explanation:\n",
    "        alt = explanation.split(\":\")[-1].strip()\n",
    "        return alt\n",
    "    return None\n",
    "\n",
    "\n",
    "def generate_improved_response(prompt, response, tlm_output, trust_score_threshold=0.7):\n",
    "    \"\"\" Regenerate the response, with TLM's explanation added to the prompt.\"\"\"\n",
    "    final_response = response\n",
    "    final_score = tlm_output[\"trustworthiness_score\"]\n",
    "    tlm_explanation = tlm_output[\"log\"][\"explanation\"]\n",
    "\n",
    "    if final_score < trust_score_threshold:\n",
    "        improvement_prompt = f\"\"\"\n",
    "## User Question\n",
    "\n",
    "{prompt}\n",
    "\n",
    "## Answer proposed by an AI Assistant\n",
    "\n",
    "{response}\n",
    "\n",
    "## Flaws identified in the proposed Answer\n",
    "\n",
    "{tlm_explanation}\n",
    "\n",
    "## Your task\n",
    "\n",
    "After reviewing the above information, provide a better alternative answer to the User Question.\n",
    "If you are unable to identify a better alternative answer, then either respond with the same\n",
    "proposed Answer above or say: \"Sorry I am unsure, try providing more information.\"\n",
    "\n",
    "Your answer:\n",
    "\"\"\"\n",
    "        try:\n",
    "            improved_output = tlm.prompt(improvement_prompt)  # You could use your own LLM here instead of TLM\n",
    "            final_response = improved_output[\"response\"]\n",
    "            final_score = improved_output[\"trustworthiness_score\"]\n",
    "        except:\n",
    "            pass\n",
    "\n",
    "    print(f\"Original Response: {response}\\n\")\n",
    "    print(f\"Original Score: {tlm_output['trustworthiness_score']}\\n\")\n",
    "    print(f\"Improved Response: {final_response}\\n\")\n",
    "    print(f\"Improved Score: {final_score}\")\n",
    "    return (final_response, final_score)\n"
   ]
  },
  {
   "cell_type": "markdown",
   "metadata": {},
   "source": [
    "TLM's [explanation feature](/tlm/tutorials/tlm_advanced/#explaining-low-trustworthiness-scores) often provides alternative responses that might be more trustworthy (discovered during trust scoring).  You can automatically replace untrustworthy LLM responses with such an alternative response (if one was found) like this:"
   ]
  },
  {
   "cell_type": "code",
   "execution_count": null,
   "id": "989c2c80",
   "metadata": {},
   "outputs": [
    {
     "name": "stdout",
     "output_type": "stream",
     "text": [
      "Original Response: Bobby has 3 sisters, and since Bobby is one of the brothers, he is the only brother that each of his sisters has. Therefore, there is only 1 brother (Bobby) in total.\n",
      "Original Score: 0.6618441307670467\n",
      "Final Response: 2 brothers.\n",
      "Final Score: 0.9959271450161626\n"
     ]
    }
   ],
   "source": [
    "user_query = \"Bobby (a boy) has 3 sisters. Each sister has 2 brothers. How many brothers?\"\n",
    "\n",
    "tlm = TLM(options={\"log\": [\"explanation\"]})  # log explanations during trust scoring\n",
    "\n",
    "# Generate initial response and score its trustworthiness (could instead produce response using your own LLM)\n",
    "tlm_output = tlm.prompt(user_query)\n",
    "response = tlm_output[\"response\"]\n",
    "\n",
    "final_response, final_score = improve_response_tlm_explanation(user_query, response, tlm_output)"
   ]
  },
  {
   "cell_type": "markdown",
   "id": "cdecf924",
   "metadata": {},
   "source": [
    "Here's another way to automatically improve an untrustworthy LLM response: invoke a second LLM call to re-generate the response, this time modifying the prompt to include TLM's explanation for *why* the original response was deemed untrustworthy."
   ]
  },
  {
   "cell_type": "code",
   "execution_count": null,
   "id": "09541b71",
   "metadata": {},
   "outputs": [
    {
     "name": "stdout",
     "output_type": "stream",
     "text": [
      "Original Response: Bobby has 3 sisters, and since Bobby is one of the brothers, he is the only brother that each of his sisters has. Therefore, there is only 1 brother (Bobby) in total.\n",
      "Original Score: 0.6618441307670467\n",
      "Improved Response: Bobby has 3 sisters, and he is one of the brothers. Since each sister has 2 brothers, and Bobby is one of them, it means there is one additional brother. Therefore, in total, there are 2 brothers (Bobby and his other brother).\n",
      "Improved Score: 0.8661622424182114\n"
     ]
    }
   ],
   "source": [
    "final_response, final_score = generate_improved_response(user_query, response, tlm_output)"
   ]
  },
  {
   "cell_type": "markdown",
   "id": "f02b1578",
   "metadata": {},
   "source": [
    "These automated response improvement techniques work whether you generate responses via `TLM.prompt()` or via your own LLM followed by `TLM.get_trustworthiness_score()`.\n",
    "\n",
    "Instead of using the automated response improvement methods shown above, you can alternatively just call `TLM.prompt()` using `options = {\"num_candidate_responses\": 4}` (or any number larger than 1) for similar automated response-improvements (see [Advanced Tutorial](/tlm/tutorials/tlm_advanced/#other-tlm-options)).\n",
    "\n",
    "When replacing/editing LLM responses in conversational applications, don't forget to also update the chat history to reflect what your user actually saw."
   ]
  },
  {
   "cell_type": "markdown",
   "metadata": {},
   "source": [
    "## Next Steps \n",
    "\n",
    "- Learn about models/configurations to get faster/better TLM results in the [Advanced Tutorial](/tlm/tutorials/tlm_advanced/). The default TLM configuration (used in this tutorial) is **not** latency/cost-optimized because it must remain effective across *all* possible LLM use-cases. For your specific use-case, **you can greatly improve latency/cost without compromising results**. Strategy: first run TLM with default settings to see what results look like over a dataset from your use-case; once results look promising, adjust the TLM preset/options/model to reduce latency for your application. If TLM's default configuration seems ineffective, switch to a more powerful `model` or add [custom evaluation criteria](/tlm/tutorials/tlm_custom_eval/).\n",
    "\n",
    "- Search for your use-case in our tutorials and [cheat sheet](/tlm/faq/) to learn how you can best use TLM.\n",
    "\n",
    "- If you're using OpenAI (or an OpenAI-like API), check out TLM's [Chat Completions API](/tlm/tutorials/tlm_chat_completion/).\n",
    "\n",
    "- If you need an additional capability or deployment option, or are unsure how to achieve desired results, just ask: [support@cleanlab.ai](mailto:support@cleanlab.ai). We love hearing from users, and are happy to help optimize TLM latency/accuracy for your use-case or provide private deployments."
   ]
  }
 ],
 "metadata": {
  "kernelspec": {
   "display_name": "Python 3 (ipykernel)",
   "language": "python",
   "name": "python3"
  },
  "language_info": {
   "codemirror_mode": {
    "name": "ipython",
    "version": 3
   },
   "file_extension": ".py",
   "mimetype": "text/x-python",
   "name": "python",
   "nbconvert_exporter": "python",
   "pygments_lexer": "ipython3",
   "version": "3.9.6"
  }
 },
 "nbformat": 4,
 "nbformat_minor": 4
}