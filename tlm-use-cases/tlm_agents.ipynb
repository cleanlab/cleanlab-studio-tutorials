{
 "cells": [
  {
   "cell_type": "markdown",
   "metadata": {},
   "source": [
    "# Trustworthy Agents with LangGraph and Cleanlab\n",
    "\n",
    "<head>\n",
    "  <meta name=\"title\" content=\"Trustworthy Agents with LangGraph and Cleanlab\"/>\n",
    "  <meta property=\"og:title\" content=\"Trustworthy Agents with LangGraph and Cleanlab\"/>\n",
    "  <meta name=\"twitter:title\" content=\"Trustworthy Agents with LangGraph and Cleanlab\" />\n",
    "  <meta name=\"description\" content=\"How to prevent incorrect responses from your agentic AI.\"  />\n",
    "  <meta property=\"og:description\" content=\"How to prevent incorrect responses from your agentic AI.\" />\n",
    "  <meta name=\"twitter:description\" content=\"How to prevent incorrect responses from your agentic AI.\" />\n",
    "</head>\n",
    "\n",
    "Agentic AI applications \u2014 such as those built with [LangGraph](https://www.langchain.com/langgraph) \u2014 can chain together multiple tools and LLM calls to answer complex user queries. However due to LLM hallucinations, Agents occasionally produce incorrect responses, which erodes user trust and production readiness. This tutorial demonstrates how to score the trustworthiness of responses from any LangGraph Agent in real-time, and prevent incorrect responses from being served to your users."
   ]
  },
  {
   "cell_type": "markdown",
   "metadata": {},
   "source": [
    "## Setup"
   ]
  },
  {
   "cell_type": "code",
   "execution_count": null,
   "metadata": {},
   "outputs": [],
   "source": [
    "# Install required packages\n",
    "%pip install cleanlab-tlm langgraph langchain langchain_openai"
   ]
  },
  {
   "cell_type": "code",
   "execution_count": null,
   "metadata": {},
   "outputs": [],
   "source": [
    "# Set API keys\n",
    "import os\n",
    "os.environ[\"CLEANLAB_TLM_API_KEY\"] = \"<YOUR_CLEANLAB_TLM_API_KEY>\"  # Get your free API key from: https://tlm.cleanlab.ai/\n",
    "os.environ[\"OPENAI_API_KEY\"] = \"<YOUR_OPENAI_API_KEY>\" # Get API key from: https://platform.openai.com/signup"
   ]
  },
  {
   "cell_type": "code",
   "execution_count": null,
   "metadata": {},
   "outputs": [],
   "source": [
    "# Import required libraries\n",
    "import langgraph\n",
    "from cleanlab_tlm import TLM"
   ]
  },
  {
   "cell_type": "markdown",
   "metadata": {},
   "source": [
    "## Build a LangGraph Agent"
   ]
  },
  {
   "cell_type": "markdown",
   "metadata": {},
   "source": [
    "Here we build on LangGraph\u2019s [Customer Support Bot](https://langchain-ai.github.io/langgraph/tutorials/customer-support/customer-support/) tutorial, which you should refer to learn more about building Agents with LangGraph.\n",
    "\n",
    "Our customer support Agent will be able to use various read-only Tools (functions without irreversible side-effects) in order to gather necessary information before answering the user. This tutorial shows how to automatically detect when the Agent's answer is untrustworthy (likely incorrect). Other agentic AI applications where you can apply the same code demonstrated here include: Research Agents (DeepResearch), AI Analysts, Advisor Agents, Sales/Marketing Agents, Data Processing Agents, i.e. applications where the Agent's response must be accurate.\n",
    "\n",
    "These applications are different than *task-oriented* Agents whose sole job is to execute some Tool(s) (often an irreversible operation like writing in a calendar) rather than giving the user an accurate and informative answer. For *task-oriented* Agents, we instead recommend scoring the trustworthiness of *every* internal Agent output (LLM call) to prevent mistakes before an irreversible Tool is called."
   ]
  },
  {
   "cell_type": "markdown",
   "id": "583732e5-1464-4a38-8693-272066416d7b",
   "metadata": {},
   "source": [
    "**Optional: Populate Database that Agent can access via Tool Call**\n",
    "\n"
   ]
  },
  {
   "cell_type": "code",
   "execution_count": null,
   "metadata": {},
   "outputs": [],
   "source": [
    "import os\n",
    "import shutil\n",
    "import sqlite3\n",
    "\n",
    "import pandas as pd\n",
    "import requests\n",
    "\n",
    "from datetime import timedelta\n",
    "\n",
    "db_url = \"https://storage.googleapis.com/benchmarks-artifacts/travel-db/travel2.sqlite\"\n",
    "local_file = \"travel2.sqlite\"\n",
    "# The backup lets us restart for each tutorial section\n",
    "backup_file = \"travel2.backup.sqlite\"\n",
    "overwrite = False\n",
    "if overwrite or not os.path.exists(local_file):\n",
    "    response = requests.get(db_url)\n",
    "    response.raise_for_status()  # Ensure the request was successful\n",
    "    with open(local_file, \"wb\") as f:\n",
    "        f.write(response.content)\n",
    "    # Backup - we will use this to \"reset\" our DB in each section\n",
    "    shutil.copy(local_file, backup_file)\n",
    "\n",
    "\n",
    "# Convert the flights to present time for our tutorial\n",
    "def update_dates(file):\n",
    "    shutil.copy(backup_file, file)\n",
    "    conn = sqlite3.connect(file)\n",
    "    cursor = conn.cursor()\n",
    "\n",
    "    tables = pd.read_sql(\n",
    "        \"SELECT name FROM sqlite_master WHERE type='table';\", conn\n",
    "    ).name.tolist()\n",
    "    tdf = {}\n",
    "    for t in tables:\n",
    "        tdf[t] = pd.read_sql(f\"SELECT * from {t}\", conn)\n",
    "\n",
    "    example_time = pd.to_datetime(\n",
    "        tdf[\"flights\"][\"actual_departure\"].replace(\"\\\\N\", pd.NaT)\n",
    "    ).max()\n",
    "    current_time = pd.to_datetime(\"now\").tz_localize(example_time.tz)\n",
    "    time_diff = current_time - example_time\n",
    "\n",
    "    tdf[\"bookings\"][\"book_date\"] = (\n",
    "        pd.to_datetime(tdf[\"bookings\"][\"book_date\"].replace(\"\\\\N\", pd.NaT), utc=True)\n",
    "        + time_diff\n",
    "    )\n",
    "\n",
    "    datetime_columns = [\n",
    "        \"scheduled_departure\",\n",
    "        \"scheduled_arrival\",\n",
    "        \"actual_departure\",\n",
    "        \"actual_arrival\",\n",
    "    ]\n",
    "    for column in datetime_columns:\n",
    "        tdf[\"flights\"][column] = (\n",
    "            pd.to_datetime(tdf[\"flights\"][column].replace(\"\\\\N\", pd.NaT)) + time_diff\n",
    "        )\n",
    "\n",
    "    for table_name, df in tdf.items():\n",
    "        df.to_sql(table_name, conn, if_exists=\"replace\", index=False)\n",
    "    del df\n",
    "    del tdf\n",
    "    conn.commit()\n",
    "    conn.close()\n",
    "\n",
    "    return file\n",
    "\n",
    "\n",
    "db = update_dates(local_file)"
   ]
  },
  {
   "cell_type": "markdown",
   "id": "9b4ce9f6-06db-45ad-94df-2f5b54995058",
   "metadata": {},
   "source": [
    "**Optional: Define the available Tools**\n",
    "\n"
   ]
  },
  {
   "cell_type": "code",
   "execution_count": null,
   "metadata": {},
   "outputs": [],
   "source": [
    "import re\n",
    "\n",
    "import numpy as np\n",
    "import openai\n",
    "import requests\n",
    "from langchain_core.tools import tool\n",
    "\n",
    "response = requests.get(\n",
    "    \"https://storage.googleapis.com/benchmarks-artifacts/travel-db/swiss_faq.md\"\n",
    ")\n",
    "response.raise_for_status()\n",
    "faq_text = response.text\n",
    "\n",
    "docs = [{\"page_content\": txt} for txt in re.split(r\"(?=\\n##)\", faq_text)]\n",
    "\n",
    "class VectorStoreRetriever:\n",
    "    def __init__(self, docs: list, vectors: list, oai_client):\n",
    "        self._arr = np.array(vectors)\n",
    "        self._docs = docs\n",
    "        self._client = oai_client\n",
    "\n",
    "    @classmethod\n",
    "    def from_docs(cls, docs, oai_client):\n",
    "        embeddings = oai_client.embeddings.create(\n",
    "            model=\"text-embedding-3-small\", input=[doc[\"page_content\"] for doc in docs]\n",
    "        )\n",
    "        vectors = [emb.embedding for emb in embeddings.data]\n",
    "        return cls(docs, vectors, oai_client)\n",
    "\n",
    "    def query(self, query: str, k: int = 5) -> list[dict]:\n",
    "        embed = self._client.embeddings.create(\n",
    "            model=\"text-embedding-3-small\", input=[query]\n",
    "        )\n",
    "        # \"@\" is just a matrix multiplication in python\n",
    "        scores = np.array(embed.data[0].embedding) @ self._arr.T\n",
    "        top_k_idx = np.argpartition(scores, -k)[-k:]\n",
    "        top_k_idx_sorted = top_k_idx[np.argsort(-scores[top_k_idx])]\n",
    "        return [\n",
    "            {**self._docs[idx], \"similarity\": scores[idx]} for idx in top_k_idx_sorted\n",
    "        ]\n",
    "\n",
    "\n",
    "retriever = VectorStoreRetriever.from_docs(docs, openai.Client())\n",
    "\n",
    "@tool\n",
    "def lookup_policy(query: str) -> str:\n",
    "    \"\"\"Consult the company policies to check whether certain options are permitted.\n",
    "    Use this before making any flight changes performing other 'write' events.\"\"\"\n",
    "    docs = retriever.query(query, k=2)\n",
    "    return \"\\n\\n\".join([doc[\"page_content\"] for doc in docs])\n",
    "\n",
    "import sqlite3\n",
    "from datetime import date, datetime\n",
    "from typing import Optional\n",
    "\n",
    "import pytz\n",
    "from langchain_core.runnables import RunnableConfig\n",
    "\n",
    "@tool\n",
    "def fetch_user_flight_information(config: RunnableConfig) -> list[dict]:\n",
    "    \"\"\"Fetch all tickets for the user along with corresponding flight information and seat assignments.\n",
    "\n",
    "    Returns:\n",
    "        A list of dictionaries where each dictionary contains the ticket details,\n",
    "        associated flight details, and the seat assignments for each ticket belonging to the user.\n",
    "    \"\"\"\n",
    "    configuration = config.get(\"configurable\", {})\n",
    "    passenger_id = configuration.get(\"passenger_id\", None)\n",
    "    if not passenger_id:\n",
    "        raise ValueError(\"No passenger ID configured.\")\n",
    "\n",
    "    conn = sqlite3.connect(db)\n",
    "    cursor = conn.cursor()\n",
    "\n",
    "    query = \"\"\"\n",
    "    SELECT\n",
    "        t.ticket_no, t.book_ref,\n",
    "        f.flight_id, f.flight_no, f.departure_airport, f.arrival_airport, f.scheduled_departure, f.scheduled_arrival,\n",
    "        bp.seat_no, tf.fare_conditions\n",
    "    FROM\n",
    "        tickets t\n",
    "        JOIN ticket_flights tf ON t.ticket_no = tf.ticket_no\n",
    "        JOIN flights f ON tf.flight_id = f.flight_id\n",
    "        JOIN boarding_passes bp ON bp.ticket_no = t.ticket_no AND bp.flight_id = f.flight_id\n",
    "    WHERE\n",
    "        t.passenger_id = ?\n",
    "    \"\"\"\n",
    "    cursor.execute(query, (passenger_id,))\n",
    "    rows = cursor.fetchall()\n",
    "    column_names = [column[0] for column in cursor.description]\n",
    "    results = [dict(zip(column_names, row)) for row in rows]\n",
    "\n",
    "    cursor.close()\n",
    "    conn.close()\n",
    "\n",
    "    return results\n",
    "\n",
    "from datetime import date, datetime\n",
    "from typing import Optional, Union\n",
    "\n",
    "@tool\n",
    "def search_flights(\n",
    "    departure_airport: Optional[str] = None,\n",
    "    arrival_airport: Optional[str] = None,\n",
    "    start_time: Optional[date | datetime] = None,\n",
    "    end_time: Optional[date | datetime] = None,\n",
    "    limit: int = 20,\n",
    ") -> list[dict]:\n",
    "    \"\"\"Search for flights based on departure airport, arrival airport, and departure time range.\"\"\"\n",
    "    conn = sqlite3.connect(db)\n",
    "    cursor = conn.cursor()\n",
    "\n",
    "    query = \"SELECT * FROM flights WHERE 1 = 1\"\n",
    "    params = []\n",
    "\n",
    "    if departure_airport:\n",
    "        query += \" AND departure_airport = ?\"\n",
    "        params.append(departure_airport)\n",
    "\n",
    "    if arrival_airport:\n",
    "        query += \" AND arrival_airport = ?\"\n",
    "        params.append(arrival_airport)\n",
    "\n",
    "    if start_time:\n",
    "        query += \" AND scheduled_departure >= ?\"\n",
    "        params.append(start_time)\n",
    "\n",
    "    if end_time:\n",
    "        query += \" AND scheduled_departure <= ?\"\n",
    "        params.append(end_time)\n",
    "    query += \" LIMIT ?\"\n",
    "    params.append(limit)\n",
    "    cursor.execute(query, params)\n",
    "    rows = cursor.fetchall()\n",
    "    column_names = [column[0] for column in cursor.description]\n",
    "    results = [dict(zip(column_names, row)) for row in rows]\n",
    "\n",
    "    cursor.close()\n",
    "    conn.close()\n",
    "\n",
    "    return results\n",
    "\n",
    "@tool\n",
    "def search_car_rentals(\n",
    "    location: Optional[str] = None,\n",
    "    name: Optional[str] = None,\n",
    "    price_tier: Optional[str] = None,\n",
    "    start_date: Optional[Union[datetime, date]] = None,\n",
    "    end_date: Optional[Union[datetime, date]] = None,\n",
    ") -> list[dict]:\n",
    "    \"\"\"\n",
    "    Search for car rentals based on location, name, price tier, start date, and end date.\n",
    "\n",
    "    Args:\n",
    "        location (Optional[str]): The location of the car rental. Defaults to None.\n",
    "        name (Optional[str]): The name of the car rental company. Defaults to None.\n",
    "        price_tier (Optional[str]): The price tier of the car rental. Defaults to None.\n",
    "        start_date (Optional[Union[datetime, date]]): The start date of the car rental. Defaults to None.\n",
    "        end_date (Optional[Union[datetime, date]]): The end date of the car rental. Defaults to None.\n",
    "\n",
    "    Returns:\n",
    "        list[dict]: A list of car rental dictionaries matching the search criteria.\n",
    "    \"\"\"\n",
    "    conn = sqlite3.connect(db)\n",
    "    cursor = conn.cursor()\n",
    "\n",
    "    query = \"SELECT * FROM car_rentals WHERE 1=1\"\n",
    "    params = []\n",
    "\n",
    "    if location:\n",
    "        query += \" AND location LIKE ?\"\n",
    "        params.append(f\"%{location}%\")\n",
    "    if name:\n",
    "        query += \" AND name LIKE ?\"\n",
    "        params.append(f\"%{name}%\")\n",
    "    if price_tier:\n",
    "        query += \" AND price_tier LIKE ?\"\n",
    "        params.append(f\"%{price_tier}%\")\n",
    "    if start_date:\n",
    "        query += \" AND start_date >= ?\"\n",
    "        params.append(str(start_date))\n",
    "    if end_date:\n",
    "        query += \" AND end_date <= ?\"\n",
    "        params.append(str(end_date))\n",
    "    # We allow matching on price tier and dates even though data is limitted\n",
    "    # to test agent behavior when relevant data might be missing.\n",
    "    cursor.execute(query, params)\n",
    "    results = cursor.fetchall()\n",
    "\n",
    "    conn.close()\n",
    "\n",
    "    return [\n",
    "        dict(zip([column[0] for column in cursor.description], row)) for row in results\n",
    "    ]\n",
    "\n",
    "@tool\n",
    "def search_hotels(\n",
    "    location: Optional[str] = None,\n",
    "    name: Optional[str] = None,\n",
    "    price_tier: Optional[str] = None,\n",
    "    checkin_date: Optional[Union[datetime, date]] = None,\n",
    "    checkout_date: Optional[Union[datetime, date]] = None,\n",
    ") -> list[dict]:\n",
    "    \"\"\"\n",
    "    Search for hotels based on location, name, price tier, check-in date, and check-out date.\n",
    "\n",
    "    Args:\n",
    "        location (Optional[str]): The location of the hotel. Defaults to None.\n",
    "        name (Optional[str]): The name of the hotel. Defaults to None.\n",
    "        price_tier (Optional[str]): The price tier of the hotel. Defaults to None. Examples: Midscale, Upper Midscale, Upscale, Luxury\n",
    "        checkin_date (Optional[Union[datetime, date]]): The check-in date of the hotel. Defaults to None.\n",
    "        checkout_date (Optional[Union[datetime, date]]): The check-out date of the hotel. Defaults to None.\n",
    "\n",
    "    Returns:\n",
    "        list[dict]: A list of hotel dictionaries matching the search criteria.\n",
    "    \"\"\"\n",
    "    conn = sqlite3.connect(db)\n",
    "    cursor = conn.cursor()\n",
    "\n",
    "    query = \"SELECT * FROM hotels WHERE 1=1\"\n",
    "    params = []\n",
    "\n",
    "    if location:\n",
    "        query += \" AND location LIKE ?\"\n",
    "        params.append(f\"%{location}%\")\n",
    "    if name:\n",
    "        query += \" AND name LIKE ?\"\n",
    "        params.append(f\"%{name}%\")\n",
    "    # For the sake of this tutorial, we will let you match on any dates and price tier.\n",
    "    cursor.execute(query, params)\n",
    "    results = cursor.fetchall()\n",
    "\n",
    "    conn.close()\n",
    "\n",
    "    return [\n",
    "        dict(zip([column[0] for column in cursor.description], row)) for row in results\n",
    "    ]\n",
    "\n",
    "@tool\n",
    "def search_trip_recommendations(\n",
    "    location: Optional[str] = None,\n",
    "    name: Optional[str] = None,\n",
    "    keywords: Optional[str] = None,\n",
    ") -> list[dict]:\n",
    "    \"\"\"\n",
    "    Search for trip recommendations based on location, name, and keywords.\n",
    "\n",
    "    Args:\n",
    "        location (Optional[str]): The location of the trip recommendation. Defaults to None.\n",
    "        name (Optional[str]): The name of the trip recommendation. Defaults to None.\n",
    "        keywords (Optional[str]): The keywords associated with the trip recommendation. Defaults to None.\n",
    "\n",
    "    Returns:\n",
    "        list[dict]: A list of trip recommendation dictionaries matching the search criteria.\n",
    "    \"\"\"\n",
    "    conn = sqlite3.connect(db)\n",
    "    cursor = conn.cursor()\n",
    "\n",
    "    query = \"SELECT * FROM trip_recommendations WHERE 1=1\"\n",
    "    params = []\n",
    "\n",
    "    if location:\n",
    "        query += \" AND location LIKE ?\"\n",
    "        params.append(f\"%{location}%\")\n",
    "    if name:\n",
    "        query += \" AND name LIKE ?\"\n",
    "        params.append(f\"%{name}%\")\n",
    "    if keywords:\n",
    "        keyword_list = keywords.split(\",\")\n",
    "        keyword_conditions = \" OR \".join([\"keywords LIKE ?\" for _ in keyword_list])\n",
    "        query += f\" AND ({keyword_conditions})\"\n",
    "        params.extend([f\"%{keyword.strip()}%\" for keyword in keyword_list])\n",
    "\n",
    "    cursor.execute(query, params)\n",
    "    results = cursor.fetchall()\n",
    "\n",
    "    conn.close()\n",
    "\n",
    "    return [\n",
    "        dict(zip([column[0] for column in cursor.description], row)) for row in results\n",
    "    ]\n",
    "\n",
    "\n",
    "# Some additional tools beyond those from LangGraph's original tutorial\n",
    "\n",
    "@tool\n",
    "def get_travel_advisory(country: str) -> dict:\n",
    "    \"\"\"Returns a mock travel advisory for a country.\"\"\"\n",
    "    return {\n",
    "        \"level\": \"Level 2 \u2013 Exercise Increased Caution\",\n",
    "        \"notes\": f\"Travelers to {country} should be aware of petty crime and take precautions.\"\n",
    "    }\n",
    "\n",
    "@tool\n",
    "def get_discount_plan(name: str) -> str:\n",
    "    \"\"\"Returns details about a discount plan based on its name.\n",
    "\n",
    "    Valid names: \"basic\", \"premium\", \"five\", \"student\"\n",
    "    \"\"\"\n",
    "    return f\"Returning details for the '{name}' discount plan:\"\n",
    "\n",
    "class InsuranceTerms:\n",
    "    def __init__(self, provider: str):\n",
    "        self.provider = provider\n",
    "        self.coverage = {\n",
    "            \"GloboSure\": {\n",
    "                \"trip_delay\": \"Up to 500 credits after 6 hours\",\n",
    "                \"lost_baggage\": \"Up to 1200 credits with receipt proof\",\n",
    "                \"medical\": \"Emergency care covered up to 50,000 credits\"\n",
    "            },\n",
    "            \"NimbusCoverage\": {\n",
    "                \"cancellation\": \"Refunds up to 70% for non-weather issues\",\n",
    "                \"extreme_weather\": \"Full coverage with documentation\"\n",
    "            }\n",
    "        }\n",
    "\n",
    "@tool\n",
    "def get_insurance_terms(provider: str) -> InsuranceTerms:\n",
    "    \"\"\"Returns a policy explanation object for a given (possibly obscure) travel insurance provider.\"\"\"\n",
    "    return InsuranceTerms(provider)"
   ]
  },
  {
   "cell_type": "markdown",
   "id": "92e89762-612b-4c87-817d-66abcadb94c7",
   "metadata": {},
   "source": [
    "**Optional: Helper methods to support Tool invocation**\n",
    "\n"
   ]
  },
  {
   "cell_type": "code",
   "execution_count": null,
   "metadata": {},
   "outputs": [],
   "source": [
    "from langchain_core.messages import ToolMessage\n",
    "from langchain_core.runnables import RunnableLambda\n",
    "\n",
    "from langgraph.prebuilt import ToolNode\n",
    "\n",
    "\n",
    "def handle_tool_error(state) -> dict:\n",
    "    error = state.get(\"error\")\n",
    "    tool_calls = state[\"messages\"][-1].tool_calls\n",
    "    return {\n",
    "        \"messages\": [\n",
    "            ToolMessage(\n",
    "                content=f\"Error: {repr(error)}\\n please fix your mistakes.\",\n",
    "                tool_call_id=tc[\"id\"],\n",
    "            )\n",
    "            for tc in tool_calls\n",
    "        ]\n",
    "    }\n",
    "\n",
    "\n",
    "def create_tool_node_with_fallback(tools: list) -> dict:\n",
    "    return ToolNode(tools).with_fallbacks(\n",
    "        [RunnableLambda(handle_tool_error)], exception_key=\"error\"\n",
    "    )\n",
    "\n",
    "\n",
    "def _print_event(event: dict, _printed: set, max_length=1500):\n",
    "    current_state = event.get(\"dialog_state\")\n",
    "    if current_state:\n",
    "        print(\"Currently in: \", current_state[-1])\n",
    "    message = event.get(\"messages\")\n",
    "    if message:\n",
    "        if isinstance(message, list):\n",
    "            message = message[-1]\n",
    "        if message.id not in _printed:\n",
    "            msg_repr = message.pretty_repr(html=True)\n",
    "            if len(msg_repr) > max_length:\n",
    "                msg_repr = msg_repr[:max_length] + \" ... (truncated)\"\n",
    "            print(msg_repr)\n",
    "            _printed.add(message.id)\n",
    "\n",
    "    ## Added to print trust scores\n",
    "    print()\n",
    "    trust_score = event.get(\"trustworthiness_score\")\n",
    "    if trust_score is not None:\n",
    "        print(f\"[TLM score for this response]: {trust_score:.2f}\")"
   ]
  },
  {
   "cell_type": "markdown",
   "id": "bcba40e5-1850-4651-8117-c9d710976c8b",
   "metadata": {},
   "source": [
    "**Optional: Setup LangGraph State**\n",
    "\n"
   ]
  },
  {
   "cell_type": "code",
   "execution_count": null,
   "metadata": {},
   "outputs": [],
   "source": [
    "from typing import Annotated, Optional\n",
    "from typing_extensions import TypedDict\n",
    "from langgraph.graph.message import AnyMessage, add_messages\n",
    "\n",
    "\n",
    "class State(TypedDict):\n",
    "    # State follows the structure from the original LangGraph tutorial, plus an optional trustworthiness_score field\n",
    "    messages: Annotated[list[AnyMessage], add_messages]\n",
    "    trustworthiness_score: Optional[float]  # Later in this tutorial, we will store trust scores here, but they are not required for the original LangGraph Agent"
   ]
  },
  {
   "cell_type": "markdown",
   "id": "6b133f89-4eca-4e11-ae13-b366ff9f9162",
   "metadata": {},
   "source": [
    "**Optional: Setup LangGraph Agent**\n",
    "\n"
   ]
  },
  {
   "cell_type": "code",
   "execution_count": null,
   "metadata": {},
   "outputs": [],
   "source": [
    "from datetime import datetime\n",
    "from langchain_openai import ChatOpenAI\n",
    "from langchain_core.prompts import ChatPromptTemplate\n",
    "from langchain_core.runnables import Runnable, RunnableConfig\n",
    "\n",
    "\n",
    "class Assistant:\n",
    "    def __init__(self, runnable: Runnable):\n",
    "        self.runnable = runnable\n",
    "\n",
    "    def __call__(self, state: State, config: RunnableConfig):\n",
    "        while True:\n",
    "            configuration = config.get(\"configurable\", {})\n",
    "            passenger_id = configuration.get(\"passenger_id\", None)\n",
    "            state = {**state, \"user_info\": passenger_id}\n",
    "            result = self.runnable.invoke(state)\n",
    "            # If the LLM happens to return an empty response, we will re-prompt it\n",
    "            # for an actual response.\n",
    "            if not result.tool_calls and (\n",
    "                not result.content\n",
    "                or isinstance(result.content, list)\n",
    "                and not result.content[0].get(\"text\")\n",
    "            ):\n",
    "                messages = state[\"messages\"] + [(\"user\", \"Respond with a real output.\")]\n",
    "                state = {**state, \"messages\": messages}\n",
    "            else:\n",
    "                break\n",
    "        return {\"messages\": result}\n",
    "\n",
    "llm = ChatOpenAI(model=\"gpt-4o-mini\")\n",
    "\n",
    "primary_assistant_prompt = ChatPromptTemplate.from_messages(\n",
    "    [\n",
    "        (\n",
    "            \"system\",\n",
    "            \"You are a helpful customer support assistant for Swiss Airlines. \"\n",
    "            \" Use the provided tools to search for flights, company policies, and other information to assist the user's queries. \"\n",
    "            \" When searching, be persistent. Expand your query bounds if the first search returns no results. \"\n",
    "            \" If a search comes up empty, expand your search before giving up.\"\n",
    "            \"\\n\\nCurrent user:\\n<User>\\n{user_info}\\n</User>\"\n",
    "            \"\\nCurrent time: {time}.\",\n",
    "        ),\n",
    "        (\"placeholder\", \"{messages}\"),\n",
    "    ]\n",
    ").partial(time=datetime.now)\n",
    "\n",
    "part_1_tools = [\n",
    "    fetch_user_flight_information,\n",
    "    search_flights,\n",
    "    lookup_policy,\n",
    "    search_car_rentals,\n",
    "    search_hotels,\n",
    "    search_trip_recommendations,\n",
    "    # Additional mock tools\n",
    "    get_travel_advisory,\n",
    "    get_discount_plan,\n",
    "    get_insurance_terms,\n",
    "]\n",
    "\n",
    "part_1_assistant_runnable = primary_assistant_prompt | llm.bind_tools(part_1_tools)"
   ]
  },
  {
   "cell_type": "markdown",
   "id": "77e5d703-7435-45e7-b315-3244acec556f",
   "metadata": {},
   "source": [
    "**Optional: Setup LangGraph Graph**\n",
    "\n"
   ]
  },
  {
   "cell_type": "code",
   "execution_count": null,
   "metadata": {},
   "outputs": [],
   "source": [
    "from langgraph.checkpoint.memory import MemorySaver\n",
    "from langgraph.graph import END, StateGraph, START\n",
    "from langgraph.prebuilt import tools_condition\n",
    "\n",
    "builder = StateGraph(State)\n",
    "\n",
    "# Define nodes: these do the work\n",
    "builder.add_node(\"assistant\", Assistant(part_1_assistant_runnable))\n",
    "builder.add_node(\"tools\", create_tool_node_with_fallback(part_1_tools))\n",
    "# Define edges: these determine how the control flow moves\n",
    "builder.add_edge(START, \"assistant\")\n",
    "builder.add_conditional_edges(\n",
    "    \"assistant\",\n",
    "    tools_condition,\n",
    ")\n",
    "builder.add_edge(\"tools\", \"assistant\")\n",
    "\n",
    "# The checkpointer lets the graph persist its state, a complete memory for the entire graph\n",
    "# memory = MemorySaver()\n",
    "# part_1_graph = builder.compile(checkpointer=memory)\n",
    "\n",
    "# This tutorial focuses solely on single-turn Question-Answer interactions between user and assistant.\n",
    "part_1_graph = builder.compile()\n",
    "\n",
    "\n",
    "# Method to query the Agent we implemented via this graph\n",
    "def run_conversation(graph, question):\n",
    "\n",
    "    _printed = set()\n",
    "\n",
    "    events = graph.stream(\n",
    "        {\"messages\": (\"user\", question)},\n",
    "        RunnableConfig(configurable={\"passenger_id\": \"3442 587242\"}),\n",
    "        stream_mode=\"values\"\n",
    "    )\n",
    "    for event in events:\n",
    "        _print_event(event, _printed)"
   ]
  },
  {
   "cell_type": "code",
   "execution_count": null,
   "metadata": {},
   "outputs": [
    {
     "data": {
      "image/png": "[encoded data removed]",
      "text/plain": [
       "<IPython.core.display.Image object>"
      ]
     },
     "metadata": {},
     "output_type": "display_data"
    }
   ],
   "source": [
    "from IPython.display import Image, display\n",
    "\n",
    "try:\n",
    "    display(Image(part_1_graph.get_graph(xray=True).draw_mermaid_png()))\n",
    "except Exception:\n",
    "    pass  # This requires some extra dependencies and is optional"
   ]
  },
  {
   "cell_type": "markdown",
   "metadata": {},
   "source": [
    "If you have any questions about the LangGraph code, refer to their [tutorial](https://langchain-ai.github.io/langgraph/tutorials/customer-support/customer-support/) and documentation.\n",
    "\n",
    "## Run the Agent\n",
    "\n",
    "Let's ask our customer support Agent some queries."
   ]
  },
  {
   "cell_type": "code",
   "execution_count": null,
   "metadata": {},
   "outputs": [
    {
     "name": "stdout",
     "output_type": "stream",
     "text": [
      "================================\u001b[1m Human Message \u001b[0m=================================\n",
      "\n",
      "Can I get a refund if I cancel my flight with Swiss Airlines?\n",
      "\n",
      "==================================\u001b[1m Ai Message \u001b[0m==================================\n",
      "Tool Calls:\n",
      "  lookup_policy (call_EEGeKY4P1B9W86XNYjCUnVKv)\n",
      " Call ID: call_EEGeKY4P1B9W86XNYjCUnVKv\n",
      "  Args:\n",
      "    query: refund policy for flight cancellations\n",
      "\n",
      "=================================\u001b[1m Tool Message \u001b[0m=================================\n",
      "Name: lookup_policy\n",
      "\n",
      "\n",
      "## How to Cancel a Swiss Air Flight: 877-5O7-7341 Step-by-Step Guide\n",
      "Swiss Air is a premium airline based in Switzerland that offers a range of domestic and international flights to passengers. However, sometimes situations arise where passengers may need to cancel their flights. In such cases, it is important to understand the Swiss Air Cancellation Policy to avoid any confusion or additional charges.\n",
      "\n",
      "Swiss International Airlines Cancellation Policy\n",
      "In this article, we will provide you with everything you need to know about the Swiss Air Cancellation Policy, including how to cancel a Swiss Air flight, the fees associated with cancelling a flight, and the refund policy.\n",
      "\n",
      "If you have booked a flight with Swiss Airlines but need to cancel it, it's important to understand their cancellation policy to avoid any unnecessary fees or charges.\n",
      "Swiss Airlines offers different fare types, each with their own specific cancellation terms and conditions. The most flexible fare types such as Flex and Business Flex allow you to cancel your flight up to 24 hours before departure without any penalty. For other fare types, cancellation fees may apply.\n",
      "If you cancel your Swiss Airlines flight outside of the 24-hour window, cancellation fees will be charged depending on your fare type and the time of cancellation. For example, if you cancel a non-flexible economy class ticket, a cancel ... (truncated)\n",
      "\n",
      "==================================\u001b[1m Ai Message \u001b[0m==================================\n",
      "\n",
      "Yes, you can get a refund if you cancel your flight with Swiss Airlines, but the eligibility for a refund depends on the type of ticket you purchased and the timing of your cancellation.\n",
      "\n",
      "### Key Points of the Refund Policy:\n",
      "\n",
      "1. **Fare Type**:\n",
      "   - **Flex Ticket**: Full refunds can be obtained without any cancellation fee.\n",
      "   - **Standard Ticket**: You can receive a full refund if you cancel within 24 hours of booking. If you cancel after that, cancellation fees apply, and you may only get a partial refund.\n",
      "   - **Economy Ticket**: Similar to the Standard Ticket, you can get a full refund if you cancel within 24 hours of booking. Post this period, cancellation fees apply, and only a partial refund may be possible.\n",
      "\n",
      "2. **24-Hour Cancellation Policy**: If you cancel your flight within 24 hours of booking, you are entitled to a full refund regardless of the fare type.\n",
      "\n",
      "3. **Cancellation Fees**: If you cancel your flight after the 24-hour period, cancellation fees can vary:\n",
      "   - **Flex Ticket**: No fee.\n",
      "   - **Standard Ticket**: Fees range from 100 to 250 CHF based on the route and timing.\n",
      "   - **Economy Ticket**: Fees range from 150 to 350 CHF based on the route and timing.\n",
      "\n",
      "4. **Guide for Cancellation**:\n",
      "   - You can cancel your flight online, through the Swiss Airlines mobile app, or by contacting customer service.\n",
      "   - Make sure to review your ticket's terms and conditions for specific d ... (truncated)\n",
      "\n"
     ]
    }
   ],
   "source": [
    "easy_question = \"Can I get a refund if I cancel my flight with Swiss Airlines?\"\n",
    "\n",
    "run_conversation(\n",
    "    graph=part_1_graph,\n",
    "    question=easy_question\n",
    ")"
   ]
  },
  {
   "cell_type": "markdown",
   "metadata": {},
   "source": [
    "This example illustrates the agent\u2019s ability to call the appropriate tool and craft an accurate, policy-based answer from the returned data. In the rest of this section, we will dial in on problematic responses."
   ]
  },
  {
   "cell_type": "code",
   "execution_count": null,
   "metadata": {},
   "outputs": [
    {
     "name": "stdout",
     "output_type": "stream",
     "text": [
      "================================\u001b[1m Human Message \u001b[0m=================================\n",
      "\n",
      "What are the details of the 5 discount plan\n",
      "==================================\u001b[1m Ai Message \u001b[0m==================================\n",
      "Tool Calls:\n",
      "  get_discount_plan (call_ZNGt6LgLkmVDH5amJTp6Nt1V)\n",
      " Call ID: call_ZNGt6LgLkmVDH5amJTp6Nt1V\n",
      "  Args:\n",
      "    name: five\n",
      "=================================\u001b[1m Tool Message \u001b[0m=================================\n",
      "Name: get_discount_plan\n",
      "\n",
      "Returning details for the 'five' discount plan:\n",
      "==================================\u001b[1m Ai Message \u001b[0m==================================\n",
      "\n",
      "Here are the details for the \"five\" discount plan:\n",
      "\n",
      "- **Discount Level**: 5% off on all flights.\n",
      "- **Eligibility**: Available for all customers.\n",
      "- **Validity**: The discount can be applied to any flight booked through Swiss Airlines.\n",
      "- **Usage**: Can be used multiple times, but must be specified at the time of booking.\n",
      "- **Exclusions**: Not applicable on promotional fares or during special sales.\n",
      "\n",
      "If you have any more questions or need further assistance, feel free to ask!\n"
     ]
    }
   ],
   "source": [
    "incomplete_tool = \"What are the details of the 5 discount plan\"\n",
    "\n",
    "run_conversation(\n",
    "    graph=part_1_graph,\n",
    "    question=incomplete_tool\n",
    ")"
   ]
  },
  {
   "cell_type": "markdown",
   "metadata": {},
   "source": [
    "The tool message here was intentionally left incomplete. With no real details to draw on, the LLM hallucinated details about the discount plan, potentially misleading users."
   ]
  },
  {
   "cell_type": "code",
   "execution_count": null,
   "metadata": {},
   "outputs": [
    {
     "name": "stdout",
     "output_type": "stream",
     "text": [
      "================================\u001b[1m Human Message \u001b[0m=================================\n",
      "\n",
      "What coverage does GloboSure give me for travel delays?\n",
      "==================================\u001b[1m Ai Message \u001b[0m==================================\n",
      "Tool Calls:\n",
      "  get_insurance_terms (call_vlr2b82vZcZSsor1KgMHoRs9)\n",
      " Call ID: call_vlr2b82vZcZSsor1KgMHoRs9\n",
      "  Args:\n",
      "    provider: GloboSure\n",
      "=================================\u001b[1m Tool Message \u001b[0m=================================\n",
      "Name: get_insurance_terms\n",
      "\n",
      "<__main__.InsuranceTerms object at 0x7ff5ada1f410>\n",
      "==================================\u001b[1m Ai Message \u001b[0m==================================\n",
      "\n",
      "GloboSure provides coverage for travel delays as follows:\n",
      "\n",
      "- **Delayed Departure**: If your scheduled departure is delayed for more than a specified number of hours, GloboSure may cover additional expenses for meals, accommodation, and transportation.\n",
      "  \n",
      "- **Reimbursement**: They typically offer reimbursement for reasonable and necessary expenses incurred due to the delay. The amount and type of expenses covered can vary, so it is essential to keep all receipts.\n",
      "\n",
      "- **Maximum Limits**: There may be maximum limits on the amount reimbursed for delays, which are specified in the individual insurance policy.\n",
      "\n",
      "For more specific details regarding the exact coverage limits and conditions applicable to your policy, please refer to your policy document or contact GloboSure directly.\n"
     ]
    }
   ],
   "source": [
    "tool_returns_object = \"What coverage does GloboSure give me for travel delays?\"\n",
    "\n",
    "run_conversation(\n",
    "    graph=part_1_graph,\n",
    "    question=tool_returns_object\n",
    ")"
   ]
  },
  {
   "cell_type": "markdown",
   "metadata": {},
   "source": [
    "Here, a tool bug returned only a raw Python object, so the LLM filled the gap by hallucinating travel-delay coverage details."
   ]
  },
  {
   "cell_type": "code",
   "execution_count": null,
   "metadata": {},
   "outputs": [
    {
     "name": "stdout",
     "output_type": "stream",
     "text": [
      "================================\u001b[1m Human Message \u001b[0m=================================\n",
      "\n",
      "Is there a health advisory in Basel\n",
      "\n",
      "==================================\u001b[1m Ai Message \u001b[0m==================================\n",
      "Tool Calls:\n",
      "  get_travel_advisory (call_sYnHcsE2MmLZ6omkIEMS9I5u)\n",
      " Call ID: call_sYnHcsE2MmLZ6omkIEMS9I5u\n",
      "  Args:\n",
      "    country: Switzerland\n",
      "\n",
      "=================================\u001b[1m Tool Message \u001b[0m=================================\n",
      "Name: get_travel_advisory\n",
      "\n",
      "{\"level\": \"Level 2 \u2013 Exercise Increased Caution\", \"notes\": \"Travelers to Switzerland should be aware of petty crime and take precautions.\"}\n",
      "\n",
      "==================================\u001b[1m Ai Message \u001b[0m==================================\n",
      "\n",
      "There is a health advisory for Switzerland, including Basel:\n",
      "\n",
      "- **Advisory Level**: Level 2 \u2013 Exercise Increased Caution\n",
      "- **Notes**: Travelers are advised to be aware of petty crime and take necessary precautions.\n",
      "\n",
      "If you need further information or specific health-related advice, feel free to ask!\n",
      "\n"
     ]
    }
   ],
   "source": [
    "irrelevant_tool_response = \"Is there a health advisory in Basel\"\n",
    "\n",
    "run_conversation(\n",
    "    graph=part_1_graph,\n",
    "    question=irrelevant_tool_response\n",
    ")"
   ]
  },
  {
   "cell_type": "markdown",
   "metadata": {},
   "source": [
    "Although the agent chose the correct tool, it returned an advisory about crime rather than the requested health advisory for Basel. It failed to explain that it did not have the relevant information."
   ]
  },
  {
   "cell_type": "code",
   "execution_count": null,
   "metadata": {},
   "outputs": [
    {
     "name": "stdout",
     "output_type": "stream",
     "text": [
      "================================\u001b[1m Human Message \u001b[0m=================================\n",
      "\n",
      "What is my arrival time in their time zone?\n",
      "==================================\u001b[1m Ai Message \u001b[0m==================================\n",
      "Tool Calls:\n",
      "  fetch_user_flight_information (call_xglItw1ZVFdk01CAM4xmxmzM)\n",
      " Call ID: call_xglItw1ZVFdk01CAM4xmxmzM\n",
      "  Args:\n",
      "=================================\u001b[1m Tool Message \u001b[0m=================================\n",
      "Name: fetch_user_flight_information\n",
      "\n",
      "[{\"ticket_no\": \"7240005432906569\", \"book_ref\": \"C46E9F\", \"flight_id\": 19250, \"flight_no\": \"LX0112\", \"departure_airport\": \"CDG\", \"arrival_airport\": \"BSL\", \"scheduled_departure\": \"2025-05-30 01:36:24.169593-04:00\", \"scheduled_arrival\": \"2025-05-30 03:06:24.169593-04:00\", \"seat_no\": \"18E\", \"fare_conditions\": \"Economy\"}]\n",
      "==================================\u001b[1m Ai Message \u001b[0m==================================\n",
      "\n",
      "Your flight LX0112 from Paris Charles de Gaulle (CDG) to EuroAirport Basel-Mulhouse-Freiburg (BSL) is scheduled to arrive at **03:06 AM** (local time) on May 30, 2025. \n",
      "\n",
      "Please note that the departure and arrival times are in the same time zone (UTC-4).\n"
     ]
    }
   ],
   "source": [
    "time_zone_issue = \"What is my arrival time in their time zone?\"\n",
    "\n",
    "run_conversation(\n",
    "    graph=part_1_graph,\n",
    "    question=time_zone_issue\n",
    ")"
   ]
  },
  {
   "cell_type": "markdown",
   "metadata": {},
   "source": [
    "The assistant mistakenly assumed Basel (BSL) used the UTC-4 time zone. In May, Basel observes Central European Summer Time (UTC+2), so the correct local arrival time should be six hours later than stated."
   ]
  },
  {
   "cell_type": "code",
   "execution_count": null,
   "metadata": {},
   "outputs": [
    {
     "name": "stdout",
     "output_type": "stream",
     "text": [
      "================================\u001b[1m Human Message \u001b[0m=================================\n",
      "\n",
      "What are conspiracy theories around Swiss Airlines safety?\n",
      "\n",
      "==================================\u001b[1m Ai Message \u001b[0m==================================\n",
      "\n",
      "While conspiracy theories regarding airlines can circulate, it's important to note that many of these theories are based on misinformation or speculation rather than factual evidence. Some common themes associated with conspiracy theories surrounding airline safety, including Swiss Airlines, might involve:\n",
      "\n",
      "1. **Cover-ups**: Some individuals may claim that airlines cover up accidents or incidents to protect their reputations. This can include everything from technical failures to security breaches.\n",
      "\n",
      "2. **Sabotage**: There are occasionally unfounded theories suggesting that flights could be sabotaged for various reasons, often without any grounding in fact.\n",
      "\n",
      "3. **Political Motives**: Conspiracy theories may suggest that certain flights are targeted due to political issues or international relations, which could affect the safety of passengers.\n",
      "\n",
      "4. **Technical Failures**: Misinformation can lead to the belief that an airline's fleet is unsafe due to hidden mechanical issues or manufacturing faults, despite thorough regulatory oversight and maintenance checks.\n",
      "\n",
      "5. **False Flag Operations**: Some extreme conspiracy theories might suggest that an airline or flight is involved in false flag operations, though these are highly speculative and not taken seriously by experts.\n",
      "\n",
      "It's crucial to approach such conspiracy theories critically and rely on authoritative sources for information regarding ... (truncated)\n",
      "\n"
     ]
    }
   ],
   "source": [
    "no_tool_issue = \"What are conspiracy theories around Swiss Airlines safety?\"\n",
    "\n",
    "run_conversation(\n",
    "    graph=part_1_graph,\n",
    "    question=no_tool_issue\n",
    ")"
   ]
  },
  {
   "cell_type": "markdown",
   "metadata": {},
   "source": [
    "No appropriate tool is available for this query, yet the assistant responds with a potentially hallucinated answer that could further harm the airline\u2019s reputation."
   ]
  },
  {
   "cell_type": "markdown",
   "metadata": {},
   "source": [
    "## Trustworthy Agent"
   ]
  },
  {
   "cell_type": "markdown",
   "metadata": {},
   "source": [
    "Now let's see how Cleanlab's [Trustworthy Language Model](https://cleanlab.ai/blog/trustworthy-language-model/) (TLM) can catch these issues in real time via state-of-the-art LLM trustworthiness scoring. Easily integrate TLM into your LangGraph application by wrapping your existing assistant (LLM) node with our provided wrapper. This will update the LangGraph state with a score quantifying the trustworthiness of the latest AI message, such that low scores correspond to messages which are likely incorrect or otherwise flawed.\n",
    "\n",
    "We first initialize a Cleanlab client."
   ]
  },
  {
   "cell_type": "code",
   "execution_count": null,
   "metadata": {},
   "outputs": [],
   "source": [
    "tlm = TLM()  # See Advanced Tutorial for optional TLM configurations to get better/faster results"
   ]
  },
  {
   "cell_type": "code",
   "execution_count": null,
   "metadata": {},
   "outputs": [],
   "source": [
    "class TrustworthyAssistant:\n",
    "    def __init__(self, assistant: Assistant, tools, tlm):\n",
    "        self.assistant = assistant\n",
    "        self.tools = tools\n",
    "        self.tlm = tlm\n",
    "\n",
    "    def __call__(self, state: State, config: RunnableConfig):\n",
    "\n",
    "        # Render full prompt including system which uses template variables\n",
    "        # TODO: Update this based on your ChatPromptTemplate\n",
    "        configuration = config.get(\"configurable\", {})\n",
    "        passenger_id = configuration.get(\"passenger_id\", None)\n",
    "        state = {**state, \"user_info\": passenger_id}\n",
    "        prompt_template = self.assistant.runnable.first\n",
    "        full_prompt_messages = prompt_template.invoke(state)\n",
    "\n",
    "        # Run the assistant node\n",
    "        result_dict = self.assistant(state, config)\n",
    "        result = result_dict[\"messages\"]\n",
    "\n",
    "        # Convert chat history and tools to OpenAI format\n",
    "        from langchain_core.messages.utils import convert_to_openai_messages\n",
    "        from langchain_core.utils.function_calling import convert_to_openai_tool\n",
    "        from cleanlab_tlm.utils.chat import form_prompt_string\n",
    "\n",
    "        openai_chat_history = convert_to_openai_messages(full_prompt_messages)\n",
    "        openai_response_msg = convert_to_openai_messages(result)\n",
    "        openai_chat_tools = [convert_to_openai_tool(tool) for tool in self.tools]\n",
    "\n",
    "        # Only score assistant messages with content\n",
    "        if openai_response_msg.get(\"role\") == \"assistant\" and openai_response_msg.get(\"content\"):\n",
    "            prompt = form_prompt_string(openai_chat_history, openai_chat_tools)\n",
    "            response = openai_response_msg[\"content\"]\n",
    "            score = self.tlm.get_trustworthiness_score(prompt=prompt, response=response)[\"trustworthiness_score\"]\n",
    "        else:\n",
    "            score = None\n",
    "\n",
    "        return {**result_dict, \"trustworthiness_score\": score}"
   ]
  },
  {
   "cell_type": "markdown",
   "metadata": {},
   "source": [
    "After adding the wrapper node, simply re-compile your LangGraph. You only update a single line of code\u2014everything else can stay exactly the same."
   ]
  },
  {
   "cell_type": "code",
   "execution_count": null,
   "metadata": {},
   "outputs": [],
   "source": [
    "from langgraph.checkpoint.memory import MemorySaver\n",
    "from langgraph.graph import END, StateGraph, START\n",
    "from langgraph.prebuilt import tools_condition\n",
    "\n",
    "builder = StateGraph(State)\n",
    "\n",
    "# Define nodes: these do the work\n",
    "builder.add_node(\"assistant\", TrustworthyAssistant(Assistant(part_1_assistant_runnable), part_1_tools, tlm)) # ONLY CHANGE NEEDED.\n",
    "builder.add_node(\"tools\", create_tool_node_with_fallback(part_1_tools))\n",
    "# Define edges: these determine how the control flow moves\n",
    "builder.add_edge(START, \"assistant\")\n",
    "builder.add_conditional_edges(\n",
    "    \"assistant\",\n",
    "    tools_condition,\n",
    ")\n",
    "builder.add_edge(\"tools\", \"assistant\")\n",
    "\n",
    "tlm_graph = builder.compile()"
   ]
  },
  {
   "cell_type": "markdown",
   "metadata": {},
   "source": [
    "The graph implementing our Agent remains unchanged."
   ]
  },
  {
   "cell_type": "code",
   "execution_count": null,
   "metadata": {},
   "outputs": [
    {
     "data": {
      "image/png": "[encoded data removed]",
      "text/plain": [
       "<IPython.core.display.Image object>"
      ]
     },
     "metadata": {},
     "output_type": "display_data"
    }
   ],
   "source": [
    "from IPython.display import Image, display\n",
    "\n",
    "try:\n",
    "    display(Image(tlm_graph.get_graph(xray=True).draw_mermaid_png()))\n",
    "except Exception:\n",
    "    # This requires some extra dependencies and is optional\n",
    "    pass"
   ]
  },
  {
   "cell_type": "markdown",
   "metadata": {},
   "source": [
    "Now let's run our Agent with automated trustworthiness scoring in place.\n",
    "In the traces below, the trustworthiness scores from TLM correspond to the **final assistant message** in each conversation. This is the response given to your user, whose correctness is vital."
   ]
  },
  {
   "cell_type": "code",
   "execution_count": null,
   "metadata": {},
   "outputs": [
    {
     "name": "stdout",
     "output_type": "stream",
     "text": [
      "================================\u001b[1m Human Message \u001b[0m=================================\n",
      "\n",
      "Can I get a refund if I cancel my flight with Swiss Airlines?\n",
      "\n",
      "==================================\u001b[1m Ai Message \u001b[0m==================================\n",
      "Tool Calls:\n",
      "  lookup_policy (call_jhd1PuqSiBZJRNRpll83KTvn)\n",
      " Call ID: call_jhd1PuqSiBZJRNRpll83KTvn\n",
      "  Args:\n",
      "    query: refund policy for canceling flight\n",
      "\n",
      "=================================\u001b[1m Tool Message \u001b[0m=================================\n",
      "Name: lookup_policy\n",
      "\n",
      "\n",
      "## How to Cancel a Swiss Air Flight: 877-5O7-7341 Step-by-Step Guide\n",
      "Swiss Air is a premium airline based in Switzerland that offers a range of domestic and international flights to passengers. However, sometimes situations arise where passengers may need to cancel their flights. In such cases, it is important to understand the Swiss Air Cancellation Policy to avoid any confusion or additional charges.\n",
      "\n",
      "Swiss International Airlines Cancellation Policy\n",
      "In this article, we will provide you with everything you need to know about the Swiss Air Cancellation Policy, including how to cancel a Swiss Air flight, the fees associated with cancelling a flight, and the refund policy.\n",
      "\n",
      "If you have booked a flight with Swiss Airlines but need to cancel it, it's important to understand their cancellation policy to avoid any unnecessary fees or charges.\n",
      "Swiss Airlines offers different fare types, each with their own specific cancellation terms and conditions. The most flexible fare types such as Flex and Business Flex allow you to cancel your flight up to 24 hours before departure without any penalty. For other fare types, cancellation fees may apply.\n",
      "If you cancel your Swiss Airlines flight outside of the 24-hour window, cancellation fees will be charged depending on your fare type and the time of cancellation. For example, if you cancel a non-flexible economy class ticket, a cancel ... (truncated)\n",
      "\n",
      "==================================\u001b[1m Ai Message \u001b[0m==================================\n",
      "\n",
      "You can receive a refund if you cancel your flight with Swiss Airlines, but eligibility and the amount you receive will depend on the type of ticket you purchased and when you cancel:\n",
      "\n",
      "1. **Flex Ticket**: You can cancel your flight without incurring any fees and receive a full refund.\n",
      "\n",
      "2. **Standard Ticket**: \n",
      "   - If you cancel within 24 hours of booking, you can receive a full refund.\n",
      "   - If you cancel after 24 hours, there may be a cancellation fee, and you could receive a partial refund depending on the fare rules.\n",
      "\n",
      "3. **Economy Ticket**:\n",
      "   - Cancellations within 24 hours of booking also allow for a full refund.\n",
      "   - Canceling after this period may incur fees, resulting in a partial refund.\n",
      "\n",
      "### Important Points:\n",
      "- If you have a **non-refundable ticket**, you may not be eligible for a refund or may only be able to receive a partial refund.\n",
      "- Cancellations must be done either online, through the mobile app, or by contacting Swiss Airlines customer service.\n",
      "- If your flight is canceled by Swiss Airlines, you may also be entitled to a full refund or rebooking.\n",
      "\n",
      "Make sure to check the specific terms associated with your ticket type to understand better your options for cancellation and refund. If you need to proceed with a cancellation, you may want to do it as soon as possible to minimize any potential fees.\n",
      "\n",
      "[TLM score for this response]: 0.98\n"
     ]
    }
   ],
   "source": [
    "easy_question = \"Can I get a refund if I cancel my flight with Swiss Airlines?\"\n",
    "\n",
    "run_conversation(\n",
    "    graph=tlm_graph,\n",
    "    question=easy_question\n",
    ")"
   ]
  },
  {
   "cell_type": "markdown",
   "metadata": {},
   "source": [
    "Upon closer review, we see that the Agent's response was correct for this simple question. TLM computed a high trustworthiness score in real-time, letting our application serve this response to users with great confidence."
   ]
  },
  {
   "cell_type": "code",
   "execution_count": null,
   "metadata": {},
   "outputs": [
    {
     "name": "stdout",
     "output_type": "stream",
     "text": [
      "================================\u001b[1m Human Message \u001b[0m=================================\n",
      "\n",
      "What are the details of the 5 discount plan\n",
      "\n",
      "==================================\u001b[1m Ai Message \u001b[0m==================================\n",
      "Tool Calls:\n",
      "  get_discount_plan (call_Y5Sln7B2KBg2aFROpdKnms4Z)\n",
      " Call ID: call_Y5Sln7B2KBg2aFROpdKnms4Z\n",
      "  Args:\n",
      "    name: five\n",
      "\n",
      "=================================\u001b[1m Tool Message \u001b[0m=================================\n",
      "Name: get_discount_plan\n",
      "\n",
      "Returning details for the 'five' discount plan:\n",
      "\n",
      "==================================\u001b[1m Ai Message \u001b[0m==================================\n",
      "\n",
      "Here are the details of the \"five\" discount plan:\n",
      "\n",
      "- **Discount Rate**: 5% off on all flights.\n",
      "- **Eligibility**: Available for all travelers.\n",
      "- **Validity**: The discount is applicable for bookings made at least 5 days in advance.\n",
      "- **Usage**: This discount can be combined with other promotional offers.\n",
      "- **Booking Channels**: Available for use on the Swiss Airlines website and mobile app.\n",
      "\n",
      "If you have any other questions or need assistance with anything else, feel free to ask!\n",
      "\n",
      "[TLM score for this response]: 0.43\n"
     ]
    }
   ],
   "source": [
    "incomplete_tool = \"What are the details of the 5 discount plan\"\n",
    "\n",
    "run_conversation(\n",
    "    graph=tlm_graph,\n",
    "    question=incomplete_tool\n",
    ")"
   ]
  },
  {
   "cell_type": "code",
   "execution_count": null,
   "metadata": {},
   "outputs": [
    {
     "name": "stdout",
     "output_type": "stream",
     "text": [
      "================================\u001b[1m Human Message \u001b[0m=================================\n",
      "\n",
      "What coverage does GloboSure give me for travel delays?\n",
      "\n",
      "==================================\u001b[1m Ai Message \u001b[0m==================================\n",
      "Tool Calls:\n",
      "  get_insurance_terms (call_5HBMrsu9VniT5yy0C6869d7z)\n",
      " Call ID: call_5HBMrsu9VniT5yy0C6869d7z\n",
      "  Args:\n",
      "    provider: GloboSure\n",
      "\n",
      "=================================\u001b[1m Tool Message \u001b[0m=================================\n",
      "Name: get_insurance_terms\n",
      "\n",
      "<__main__.InsuranceTerms object at 0x7da494851c50>\n",
      "\n",
      "==================================\u001b[1m Ai Message \u001b[0m==================================\n",
      "\n",
      "The coverage provided by GloboSure for travel delays typically includes:\n",
      "\n",
      "1. **Trip Interruption**: Compensation for expenses incurred if your trip is interrupted due to covered reasons.\n",
      "   \n",
      "2. **Accommodation and Meal Expenses**: Reimbursement for additional accommodation and meal costs if you have to stay longer than planned due to delays.\n",
      "\n",
      "3. **Transportation Costs**: Coverage for unexpected transportation costs caused by a delay.\n",
      "\n",
      "4. **Lost Wages**: Compensation for lost wages if you cannot work due to a trip delay.\n",
      "\n",
      "5. **Maximum Coverage Limits**: Policy may have specific limits on the amount covered for each type of delay-related expense.\n",
      "\n",
      "Always check your specific policy for detailed terms, limitations, and exclusions that may apply.\n",
      "\n",
      "[TLM score for this response]: 0.81\n"
     ]
    }
   ],
   "source": [
    "tool_returns_object = \"What coverage does GloboSure give me for travel delays?\"\n",
    "\n",
    "run_conversation(\n",
    "    graph=tlm_graph,\n",
    "    question=tool_returns_object\n",
    ")"
   ]
  },
  {
   "cell_type": "code",
   "execution_count": null,
   "metadata": {},
   "outputs": [
    {
     "name": "stdout",
     "output_type": "stream",
     "text": [
      "================================\u001b[1m Human Message \u001b[0m=================================\n",
      "\n",
      "Is there a health advisory in Basel\n",
      "\n",
      "==================================\u001b[1m Ai Message \u001b[0m==================================\n",
      "Tool Calls:\n",
      "  get_travel_advisory (call_4cUzHKkhbDesWTkZ1wpSof8Z)\n",
      " Call ID: call_4cUzHKkhbDesWTkZ1wpSof8Z\n",
      "  Args:\n",
      "    country: Switzerland\n",
      "\n",
      "=================================\u001b[1m Tool Message \u001b[0m=================================\n",
      "Name: get_travel_advisory\n",
      "\n",
      "{\"level\": \"Level 2 \u2013 Exercise Increased Caution\", \"notes\": \"Travelers to Switzerland should be aware of petty crime and take precautions.\"}\n",
      "\n",
      "==================================\u001b[1m Ai Message \u001b[0m==================================\n",
      "\n",
      "There is a health advisory for Switzerland, which includes Basel. The advisory level is **Level 2 \u2013 Exercise Increased Caution**. Travelers are advised to be aware of petty crime and to take necessary precautions while traveling in the area.\n",
      "\n",
      "[TLM score for this response]: 0.72\n"
     ]
    }
   ],
   "source": [
    "irrelevant_tool_response = \"Is there a health advisory in Basel\"\n",
    "\n",
    "run_conversation(\n",
    "    graph=tlm_graph,\n",
    "    question=irrelevant_tool_response\n",
    ")"
   ]
  },
  {
   "cell_type": "code",
   "execution_count": null,
   "metadata": {},
   "outputs": [
    {
     "name": "stdout",
     "output_type": "stream",
     "text": [
      "================================\u001b[1m Human Message \u001b[0m=================================\n",
      "\n",
      "What is my arrival time in their time zone?\n",
      "\n",
      "==================================\u001b[1m Ai Message \u001b[0m==================================\n",
      "Tool Calls:\n",
      "  fetch_user_flight_information (call_erMS3rPidqO5MH9l3su1dQx8)\n",
      " Call ID: call_erMS3rPidqO5MH9l3su1dQx8\n",
      "  Args:\n",
      "\n",
      "=================================\u001b[1m Tool Message \u001b[0m=================================\n",
      "Name: fetch_user_flight_information\n",
      "\n",
      "[{\"ticket_no\": \"7240005432906569\", \"book_ref\": \"C46E9F\", \"flight_id\": 19250, \"flight_no\": \"LX0112\", \"departure_airport\": \"CDG\", \"arrival_airport\": \"BSL\", \"scheduled_departure\": \"2025-06-04 16:34:21.797505-04:00\", \"scheduled_arrival\": \"2025-06-04 18:04:21.797505-04:00\", \"seat_no\": \"18E\", \"fare_conditions\": \"Economy\"}]\n",
      "\n",
      "==================================\u001b[1m Ai Message \u001b[0m==================================\n",
      "\n",
      "Your flight LX0112 is scheduled to arrive at EuroAirport Basel-Mulhouse-Freiburg (BSL) on June 4, 2025, at 18:04 local time (UTC+2).\n",
      "\n",
      "[TLM score for this response]: 0.37\n"
     ]
    }
   ],
   "source": [
    "time_zone_issue = \"What is my arrival time in their time zone?\"\n",
    "\n",
    "run_conversation(\n",
    "    graph=tlm_graph,\n",
    "    question=time_zone_issue\n",
    ")"
   ]
  },
  {
   "cell_type": "code",
   "execution_count": null,
   "metadata": {},
   "outputs": [
    {
     "name": "stdout",
     "output_type": "stream",
     "text": [
      "================================\u001b[1m Human Message \u001b[0m=================================\n",
      "\n",
      "What are conspiracy theories around Swiss Airlines safety?\n",
      "\n",
      "==================================\u001b[1m Ai Message \u001b[0m==================================\n",
      "\n",
      "While I don't have direct access to news articles or a database of conspiracy theories, I can summarize a few general themes surrounding conspiracy theories related to airlines, including Swiss Airlines:\n",
      "\n",
      "1. **False Flag Operations**: Some conspiracy theorists suggest that certain airline accidents or incidents are orchestrated government actions to justify wider political or military agendas. \n",
      "\n",
      "2. **Safety Records**: Some critics question the safety records of specific airlines, alleging that certain incidents are covered up or not thoroughly investigated, calling into question the true safety of air travel.\n",
      "\n",
      "3. **Technological Manipulation**: Theories sometimes suggest that aircraft technology or systems can be remotely manipulated, leading to accidents or incidents.\n",
      "\n",
      "4. **Pandemic Safety Measures**: In light of COVID-19, there have been conspiracy theories regarding whether airlines are truly prioritizing passenger safety or if they are more concerned about profit margins.\n",
      "\n",
      "5. **Flight Disappearances**: The disappearance of flights in recent years has also led to various conspiracy theories surrounding the safety and security protocols of airlines.\n",
      "\n",
      "Please note that these topics are sensitive and often based on speculation rather than factual evidence. For reliable information, it's always best to refer to official safety records and reports from aviation authorities.\n",
      "\n",
      "[TLM score for this response]: 0.80\n"
     ]
    }
   ],
   "source": [
    "no_tool_issue = \"What are conspiracy theories around Swiss Airlines safety?\"\n",
    "\n",
    "run_conversation(\n",
    "    graph=tlm_graph,\n",
    "    question=no_tool_issue\n",
    ")"
   ]
  },
  {
   "cell_type": "markdown",
   "metadata": {},
   "source": [
    "Upon closer review, we see that the Agent's responses were problematic for the above queries. These responses received lower trustworthiness scores from TLM, allowing our application to flag them in real-time.\n",
    "\n",
    "You could still choose to show such responses to users appending a caveat like: `CAUTION: THIS RESPONSE HAS BEEN FLAGGED AS POTENTIALLY UNTRUSTWORTHY`. Alternatively, you could escalate this interaction to a human customer support representative, or return a canned fallback response in place of the Agent's response. The next section demonstrates how to implement the fallback strategy in LangGraph."
   ]
  },
  {
   "cell_type": "markdown",
   "metadata": {},
   "source": [
    "## Fallback Logic: Replacing Untrustworthy Responses"
   ]
  },
  {
   "cell_type": "markdown",
   "metadata": {},
   "source": [
    "To enable your agent to act on the trustworthiness score, you can create a fallback node. Here we use a simple fallback node which replaces the original assistant message with a pre-written response that indicates a lack of knowledge.\n",
    "\n",
    "You can easily swap this out for other fallback behaviors such as: escalating to a human, triggering a reviser node, or re-running the Agent with a modified prompt (possibly incorporating past untrustworthy responses).\n",
    "\n",
    "**Important:** Since the trustworthiness score in the LangGraph `state` should reflect the most recent assistant message, set it to `None` in your fallback node to prevent the fallback condition from repeatedly triggering."
   ]
  },
  {
   "cell_type": "code",
   "execution_count": null,
   "metadata": {},
   "outputs": [],
   "source": [
    "from langchain_core.messages import RemoveMessage\n",
    "\n",
    "def fallback_node(state):\n",
    "    messages = state[\"messages\"]\n",
    "    if not messages:\n",
    "        return state  # Nothing to remove\n",
    "\n",
    "    # Remove the last message\n",
    "    to_remove = RemoveMessage(id=messages[-1].id)\n",
    "\n",
    "    # Add a new assistant message\n",
    "    new_msg = {\n",
    "            \"role\": \"assistant\",\n",
    "            \"content\": \"I'm not confident in answering this question. Let's try something else or rephrase the question.\"\n",
    "    }\n",
    "\n",
    "    return {\n",
    "        **state,\n",
    "        \"messages\": [to_remove, new_msg],\n",
    "        \"trustworthiness_score\": None\n",
    "    }"
   ]
  },
  {
   "cell_type": "markdown",
   "metadata": {},
   "source": [
    "This function defines conditional logic for routing based on the trustworthiness score. If the most recent LLM message has a trustworthiness score below 0.9, the conversation is routed to the fallback node. Otherwise, it should defer to the original logic.\n",
    "This allows you to override the Agent's behavior only when the assistant response is deemed untrustworthy."
   ]
  },
  {
   "cell_type": "code",
   "execution_count": null,
   "metadata": {},
   "outputs": [],
   "source": [
    "from typing import Literal\n",
    "\n",
    "def trustworthiness_condition(state: State) -> Literal[\"fallback\", \"tools\", \"__end__\"]:\n",
    "    score = state.get(\"trustworthiness_score\")\n",
    "\n",
    "    if score is not None and score < 0.9:\n",
    "        return \"fallback\"\n",
    "\n",
    "    # Otherwise, defer to original condition/node\n",
    "    return tools_condition(state)"
   ]
  },
  {
   "cell_type": "markdown",
   "metadata": {},
   "source": [
    "To update the graph with this fallback logic, you just need to:\n",
    "1. add the fallback node\n",
    "2. replace the original conditional edge from the assistant with one using `trustworthiness_condition`."
   ]
  },
  {
   "cell_type": "code",
   "execution_count": null,
   "metadata": {},
   "outputs": [],
   "source": [
    "from langgraph.checkpoint.memory import MemorySaver\n",
    "from langgraph.graph import END, StateGraph, START\n",
    "from langgraph.prebuilt import tools_condition\n",
    "\n",
    "builder = StateGraph(State)\n",
    "\n",
    "# Define nodes: these do the work\n",
    "builder.add_node(\"assistant\", TrustworthyAssistant(Assistant(part_1_assistant_runnable), part_1_tools, tlm)) # Only change assistant node.\n",
    "builder.add_node(\"tools\", create_tool_node_with_fallback(part_1_tools))\n",
    "# Define edges: these determine how the control flow moves\n",
    "builder.add_edge(START, \"assistant\")\n",
    "builder.add_node(\"fallback\", fallback_node) # New\n",
    "builder.add_conditional_edges(\n",
    "    \"assistant\",\n",
    "    trustworthiness_condition, # New\n",
    ") # New\n",
    "builder.add_edge(\"tools\", \"assistant\")\n",
    "\n",
    "fallback_graph = builder.compile()"
   ]
  },
  {
   "cell_type": "code",
   "execution_count": null,
   "metadata": {},
   "outputs": [
    {
     "data": {
      "image/png": "[encoded data removed]",
      "text/plain": [
       "<IPython.core.display.Image object>"
      ]
     },
     "metadata": {},
     "output_type": "display_data"
    }
   ],
   "source": [
    "from IPython.display import Image, display\n",
    "\n",
    "try:\n",
    "    display(Image(fallback_graph.get_graph(xray=True).draw_mermaid_png()))\n",
    "except Exception:\n",
    "    # This requires some extra dependencies and is optional\n",
    "    pass"
   ]
  },
  {
   "cell_type": "markdown",
   "metadata": {},
   "source": [
    "Here we use LangGraph's `invoke` rather than streaming assistant messages, so that the original Agent's response (which was prevented via our trustworthiness-based fallback) is not printed."
   ]
  },
  {
   "cell_type": "code",
   "execution_count": null,
   "metadata": {},
   "outputs": [
    {
     "name": "stdout",
     "output_type": "stream",
     "text": [
      "================================\u001b[1m Human Message \u001b[0m=================================\n",
      "\n",
      "What are the details of the 5 discount plan\n",
      "==================================\u001b[1m Ai Message \u001b[0m==================================\n",
      "Tool Calls:\n",
      "  get_discount_plan (call_y9M9og2WxQdpnp43ImABJxHW)\n",
      " Call ID: call_y9M9og2WxQdpnp43ImABJxHW\n",
      "  Args:\n",
      "    name: five\n",
      "=================================\u001b[1m Tool Message \u001b[0m=================================\n",
      "Name: get_discount_plan\n",
      "\n",
      "Returning details for the 'five' discount plan:\n",
      "==================================\u001b[1m Ai Message \u001b[0m==================================\n",
      "\n",
      "I'm not confident in answering this question. Let's try something else or rephrase the question.\n"
     ]
    }
   ],
   "source": [
    "incomplete_tool = \"What are the details of the 5 discount plan\"\n",
    "\n",
    "result = fallback_graph.invoke(\n",
    "    {\"messages\": (\"user\", incomplete_tool)},\n",
    "    RunnableConfig(configurable={\"passenger_id\": \"3442 587242\"})\n",
    ")\n",
    "\n",
    "messages = result.get(\"messages\", [])\n",
    "_printed = set()\n",
    "for message in messages:\n",
    "    if message.id not in _printed:\n",
    "        msg_repr = message.pretty_repr(html=True)\n",
    "        print(msg_repr)\n",
    "        _printed.add(message.id)"
   ]
  },
  {
   "cell_type": "markdown",
   "metadata": {},
   "source": [
    "In this case, the trustworthiness-based fallback prevented the Agent from hallucinating incorrect details about the \"five\" discount plan; it instead now responds with a fallback message, which is significantly preferrable over an incorrect response returned by the original Agent for this query.\n",
    "\n",
    "**In conclusion,** adding trustworthiness scoring to your Agent is easy and can automatically prevent your Agent from delivering misleading/incorrect responses to users."
   ]
  }
 ],
 "metadata": {
  "language_info": {
   "name": "python"
  }
 },
 "nbformat": 4,
 "nbformat_minor": 0
}