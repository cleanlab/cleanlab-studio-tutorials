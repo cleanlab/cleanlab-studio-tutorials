{
 "cells": [
  {
   "cell_type": "markdown",
   "metadata": {},
   "source": [
    "# Data Annotation/Labeling with TLM\n",
    "\n",
    "<head>\n",
    "  <meta name=\"title\" content=\"Data Annotation/Labeling with TLM\"/>\n",
    "  <meta property=\"og:title\" content=\"Data Annotation/Labeling with TLM\"/>\n",
    "  <meta name=\"twitter:title\" content=\"Data Annotation/Labeling with TLM\" />\n",
    "  <meta name=\"image\" content=\"/img/tlm_perf_customer_service.png\" />\n",
    "  <meta property=\"og:image\" content=\"/img/tlm_perf_customer_service.png\" />\n",
    "  <meta name=\"description\" content=\"Automatically and quickly annotate data with the Trustworthy Language Model (TLM).\"  />\n",
    "  <meta property=\"og:description\" content=\"Automatically and quickly annotate data with the Trustworthy Language Model (TLM).\" />\n",
    "  <meta name=\"twitter:description\" content=\"Automatically and quickly annotate data with the Trustworthy Language Model (TLM).\" />\n",
    "</head>"
   ]
  },
  {
   "cell_type": "markdown",
   "metadata": {},
   "source": [
    "This tutorial demonstrates how to auto-label data using Cleanlab\u2019s Trustworthy Language Model (TLM) and save human data annotation costs. The TLM trustworthiness scores reveal which subset of data the LLM can confidently handle. Let the LLM auto-label 99% of cases where it is trustworthy, and manually label the remaining 1%.\n",
    "\n",
    "Also TLM can automatically produce higher-accuracy annotations than your base LLM model, if you run it with: `quality_preset = \"best\"`.\n",
    "\n",
    "This tutorial demonstrates the following types of annotation tasks: text classification, document tagging, and entity recognition (useful for PII detection or information extraction). You can similarly use TLM for *any* data annotation task that you think LLMs might be able to automate, including tasks with complex structured labels."
   ]
  },
  {
   "cell_type": "markdown",
   "metadata": {},
   "source": [
    "## Setup\n",
    "This tutorial requires a TLM API key. Get one [here](https://tlm.cleanlab.ai/).\n",
    "\n",
    "Cleanlab\u2019s Python client can be installed using pip. The last part of this tutorial additionally relies on the OpenAI client library."
   ]
  },
  {
   "cell_type": "code",
   "execution_count": 2,
   "metadata": {},
   "outputs": [],
   "source": [
    "%pip install --upgrade cleanlab-tlm openai matplotlib"
   ]
  },
  {
   "cell_type": "code",
   "execution_count": null,
   "metadata": {},
   "outputs": [],
   "source": [
    "# Set your API key\n",
    "import os\n",
    "os.environ[\"CLEANLAB_TLM_API_KEY\"] = \"<API key>\" # Get your free API key from: https://tlm.cleanlab.ai/"
   ]
  },
  {
   "cell_type": "code",
   "execution_count": 2,
   "metadata": {},
   "outputs": [],
   "source": [
    "import pandas as pd\n",
    "import numpy as np\n",
    "from openai import OpenAI\n",
    "import matplotlib.pyplot as plt\n",
    "\n",
    "pd.set_option('display.max_colwidth', None)"
   ]
  },
  {
   "cell_type": "code",
   "execution_count": 4,
   "metadata": {},
   "outputs": [],
   "source": [
    "from cleanlab_tlm import TLM\n",
    "\n",
    "tlm = TLM(quality_preset=\"low\", options={\"log\": [\"explanation\"]})"
   ]
  },
  {
   "cell_type": "markdown",
   "metadata": {},
   "source": [
    "## Fetch classification dataset\n",
    "\n",
    "Let's consider a dataset composed of customer service messages received by a bank."
   ]
  },
  {
   "cell_type": "code",
   "execution_count": 6,
   "metadata": {},
   "outputs": [],
   "source": [
    "!wget -nc https://cleanlab-public.s3.us-east-1.amazonaws.com/Datasets/tlm-annotation-tutorial/customer-service-text.csv"
   ]
  },
  {
   "cell_type": "code",
   "execution_count": 5,
   "metadata": {},
   "outputs": [
    {
     "data": {
      "text/html": [
       "<div>\n",
       "<style scoped>\n",
       "    .dataframe tbody tr th:only-of-type {\n",
       "        vertical-align: middle;\n",
       "    }\n",
       "\n",
       "    .dataframe tbody tr th {\n",
       "        vertical-align: top;\n",
       "    }\n",
       "\n",
       "    .dataframe thead th {\n",
       "        text-align: right;\n",
       "    }\n",
       "</style>\n",
       "<table border=\"1\" class=\"dataframe\">\n",
       "  <thead>\n",
       "    <tr style=\"text-align: right;\">\n",
       "      <th></th>\n",
       "      <th>text</th>\n",
       "    </tr>\n",
       "  </thead>\n",
       "  <tbody>\n",
       "    <tr>\n",
       "      <th>0</th>\n",
       "      <td>i need to cancel my recent transfer as soon as possible. i made an error there. please help before it goes through.</td>\n",
       "    </tr>\n",
       "    <tr>\n",
       "      <th>1</th>\n",
       "      <td>why is there a fee when i thought there would be no fees?</td>\n",
       "    </tr>\n",
       "    <tr>\n",
       "      <th>2</th>\n",
       "      <td>how do i replace my card before it expires next month?</td>\n",
       "    </tr>\n",
       "    <tr>\n",
       "      <th>3</th>\n",
       "      <td>what should i do if someone stole my phone?</td>\n",
       "    </tr>\n",
       "    <tr>\n",
       "      <th>4</th>\n",
       "      <td>please help me get a visa card.</td>\n",
       "    </tr>\n",
       "  </tbody>\n",
       "</table>\n",
       "</div>"
      ],
      "text/plain": [
       "                                                                                                                  text\n",
       "0  i need to cancel my recent transfer as soon as possible. i made an error there. please help before it goes through.\n",
       "1                                                            why is there a fee when i thought there would be no fees?\n",
       "2                                                               how do i replace my card before it expires next month?\n",
       "3                                                                          what should i do if someone stole my phone?\n",
       "4                                                                                      please help me get a visa card."
      ]
     },
     "execution_count": 5,
     "metadata": {},
     "output_type": "execute_result"
    }
   ],
   "source": [
    "df = pd.read_csv(\"customer-service-text.csv\")\n",
    "df.head()"
   ]
  },
  {
   "cell_type": "markdown",
   "metadata": {},
   "source": [
    "**Our goal:** annotate each of the customer messages as one of the following categories:\n",
    "- cancel transaction\n",
    "- fee charged\n",
    "- card expire\n",
    "- missing phone\n",
    "- cards and currency\n",
    "- spare card\n",
    "- beneficiary not allowed\n",
    "- change pin\n",
    "- apple google mobile pay\n",
    "- transfer\n",
    "- other\n",
    "\n",
    "This is a *classification* annotation task, where each example belongs to exactly one of the possible categories.\n"
   ]
  },
  {
   "cell_type": "markdown",
   "metadata": {},
   "source": [
    "## Apply TLM for classification\n",
    "\n",
    "Let's start with a basic way to have TLM automatically label each customer message. This basic approach is called *zero-shot classification* with LLMs."
   ]
  },
  {
   "cell_type": "code",
   "execution_count": 6,
   "metadata": {},
   "outputs": [
    {
     "name": "stdout",
     "output_type": "stream",
     "text": [
      "Category: change pin\n",
      "Trustworthiness Score: 1.0\n",
      "Explanation: Did not find a reason to doubt trustworthiness.\n"
     ]
    }
   ],
   "source": [
    "customer_message = \"I need to change my card's PIN\"\n",
    "prompt = f'''Given the following customer message, classify the message into one of the following categories: change pin, fee charged, or spare card. Please respond with the category only with no leading or trailing text.\n",
    "Here is the customer message: {customer_message}'''\n",
    "\n",
    "# Here we constrain the output to a set of possible categories.\n",
    "response = tlm.prompt(prompt, constrain_outputs=[\"change pin\", \"fee charged\", \"spare card\"])\n",
    "\n",
    "print(\"Category:\", response[\"response\"])\n",
    "print(\"Trustworthiness Score:\", response[\"trustworthiness_score\"])\n",
    "print(\"Explanation:\", response[\"log\"][\"explanation\"])"
   ]
  },
  {
   "cell_type": "markdown",
   "metadata": {},
   "source": [
    "You can also use TLM's `get_trustworthiness_score()` method to evaluate **existing** annotations from your team / other models."
   ]
  },
  {
   "cell_type": "code",
   "execution_count": 7,
   "metadata": {},
   "outputs": [
    {
     "name": "stdout",
     "output_type": "stream",
     "text": [
      "Trustworthiness Score: 0.019506800102024543\n",
      "Explanation: The customer message clearly states the need to change their card's PIN, which directly relates to the \"change pin\" category. The proposed answer incorrectly categorizes it as \"spare card. \n",
      "This response is untrustworthy due to lack of consistency in possible responses from the model. Here's one inconsistent alternate response that the model considered (which may not be accurate either): \n",
      "change pin.\n"
     ]
    }
   ],
   "source": [
    "customer_message = \"I need to change my card's PIN\"\n",
    "existing_label = \"spare card\"\n",
    "prompt = f'''Given the following customer message, classify the message into one of the following categories: change pin, fee charged, or spare card. Please respond with the category only with no leading or trailing text.\n",
    "Here is the customer message: {customer_message}'''\n",
    "\n",
    "response = tlm.get_trustworthiness_score(prompt, existing_label)\n",
    "print(\"Trustworthiness Score:\", response[\"trustworthiness_score\"])\n",
    "print(\"Explanation:\", response[\"log\"][\"explanation\"])"
   ]
  },
  {
   "cell_type": "markdown",
   "metadata": {},
   "source": [
    "## Prompt Engineering\n",
    "Let's construct a descriptive prompt template for higher accuracy data annotation. In this prompt, we define each of the possible categories and provide a brief description of each category. You should ideally supply TLM with the same level of detail as you would include in annotation instruction for human labelers (describing how to handle certain edge cases, etc)."
   ]
  },
  {
   "cell_type": "code",
   "execution_count": 8,
   "metadata": {},
   "outputs": [
    {
     "name": "stdout",
     "output_type": "stream",
     "text": [
      "\n",
      "You are a professional customer service agent. You are given a customer's message and you are asked to classify the customer's message into one of the following categories:\n",
      "\n",
      "- cancel transaction: The customer is requesting to cancel a transaction they recently made or is implicitly asking to cancel a transaction, i.e. they made a payment to a wrong account.\n",
      "- fee charged: The customer is inquiring about a fee charged or disputing an unexpected fee or is missing money from a recent transaction.\n",
      "- card expire: The customer needs assistance with a card that is expiring or expired soon.\n",
      "- missing phone: The customer has lost their phone or is reporting a stolen phone.\n",
      "- cards and currency: The customer is asking questions about card types, when where or how they can use their card, or currency related issues involving their card.\n",
      "- spare card: The customer is requesting information about obtaining an additional or spare card.\n",
      "- beneficiary not allowed: The customer is asking questions about beneficiary access issues.\n",
      "- change pin: The customer needs help changing their card's PIN.\n",
      "- apple google mobile pay: The customer is seeking assistance with Apple, Google or Mobile Pay functionality.\n",
      "- transfer: The customer is asking about a transfer or a transfer related issue.\n",
      "- other: The customer's message does not fit into any of the above categories.\n",
      "\n",
      "Please respond with the category only with no leading or trailing text. \n",
      "\n",
      "Here is the customer's message: i need to cancel my recent transfer as soon as possible. i made an error there. please help before it goes through.\n",
      "\n"
     ]
    }
   ],
   "source": [
    "prompt_template = \"\"\"\n",
    "You are a professional customer service agent. You are given a customer's message and you are asked to classify the customer's message into one of the following categories:\n",
    "\n",
    "- cancel transaction: The customer is requesting to cancel a transaction they recently made or is implicitly asking to cancel a transaction, i.e. they made a payment to a wrong account.\n",
    "- fee charged: The customer is inquiring about a fee charged or disputing an unexpected fee or is missing money from a recent transaction.\n",
    "- card expire: The customer needs assistance with a card that is expiring or expired soon.\n",
    "- missing phone: The customer has lost their phone or is reporting a stolen phone.\n",
    "- cards and currency: The customer is asking questions about card types, when where or how they can use their card, or currency related issues involving their card.\n",
    "- spare card: The customer is requesting information about obtaining an additional or spare card.\n",
    "- beneficiary not allowed: The customer is asking questions about beneficiary access issues.\n",
    "- change pin: The customer needs help changing their card's PIN.\n",
    "- apple google mobile pay: The customer is seeking assistance with Apple, Google or Mobile Pay functionality.\n",
    "- transfer: The customer is asking about a transfer or a transfer related issue.\n",
    "- other: The customer's message does not fit into any of the above categories.\n",
    "\n",
    "Please respond with the category only with no leading or trailing text. \n",
    "\n",
    "Here is the customer's message: {}\n",
    "\"\"\"\n",
    "\n",
    "# Construct prompt for each message to label.\n",
    "all_prompts = [prompt_template.format(text) for text in df.text]\n",
    "print(all_prompts[0])"
   ]
  },
  {
   "cell_type": "markdown",
   "metadata": {},
   "source": [
    "## Categorize all text examples with TLM\n",
    "\n",
    "Let's now apply TLM to auto-label the full dataset."
   ]
  },
  {
   "cell_type": "code",
   "execution_count": 9,
   "metadata": {},
   "outputs": [
    {
     "name": "stderr",
     "output_type": "stream",
     "text": [
      "Querying TLM... 100%|\u2588\u2588\u2588\u2588\u2588\u2588\u2588\u2588\u2588\u2588|\n"
     ]
    },
    {
     "data": {
      "text/html": [
       "<div>\n",
       "<style scoped>\n",
       "    .dataframe tbody tr th:only-of-type {\n",
       "        vertical-align: middle;\n",
       "    }\n",
       "\n",
       "    .dataframe tbody tr th {\n",
       "        vertical-align: top;\n",
       "    }\n",
       "\n",
       "    .dataframe thead th {\n",
       "        text-align: right;\n",
       "    }\n",
       "</style>\n",
       "<table border=\"1\" class=\"dataframe\">\n",
       "  <thead>\n",
       "    <tr style=\"text-align: right;\">\n",
       "      <th></th>\n",
       "      <th>text</th>\n",
       "      <th>predicted_label</th>\n",
       "      <th>trustworthiness</th>\n",
       "      <th>explanation</th>\n",
       "    </tr>\n",
       "  </thead>\n",
       "  <tbody>\n",
       "    <tr>\n",
       "      <th>0</th>\n",
       "      <td>i need to cancel my recent transfer as soon as possible. i made an error there. please help before it goes through.</td>\n",
       "      <td>cancel transaction</td>\n",
       "      <td>1.000000</td>\n",
       "      <td>Did not find a reason to doubt trustworthiness.</td>\n",
       "    </tr>\n",
       "    <tr>\n",
       "      <th>1</th>\n",
       "      <td>why is there a fee when i thought there would be no fees?</td>\n",
       "      <td>fee charged</td>\n",
       "      <td>1.000000</td>\n",
       "      <td>Did not find a reason to doubt trustworthiness.</td>\n",
       "    </tr>\n",
       "    <tr>\n",
       "      <th>2</th>\n",
       "      <td>how do i replace my card before it expires next month?</td>\n",
       "      <td>card expire</td>\n",
       "      <td>0.995549</td>\n",
       "      <td>Did not find a reason to doubt trustworthiness.</td>\n",
       "    </tr>\n",
       "  </tbody>\n",
       "</table>\n",
       "</div>"
      ],
      "text/plain": [
       "                                                                                                                  text  \\\n",
       "0  i need to cancel my recent transfer as soon as possible. i made an error there. please help before it goes through.   \n",
       "1                                                            why is there a fee when i thought there would be no fees?   \n",
       "2                                                               how do i replace my card before it expires next month?   \n",
       "\n",
       "      predicted_label  trustworthiness  \\\n",
       "0  cancel transaction         1.000000   \n",
       "1         fee charged         1.000000   \n",
       "2         card expire         0.995549   \n",
       "\n",
       "                                       explanation  \n",
       "0  Did not find a reason to doubt trustworthiness.  \n",
       "1  Did not find a reason to doubt trustworthiness.  \n",
       "2  Did not find a reason to doubt trustworthiness.  "
      ]
     },
     "execution_count": 9,
     "metadata": {},
     "output_type": "execute_result"
    }
   ],
   "source": [
    "# Here we enumerate the set of possible categories.\n",
    "valid_categories = [\n",
    "    \"cancel transaction\",\n",
    "    \"fee charged\", \n",
    "    \"card expire\",\n",
    "    \"missing phone\",\n",
    "    \"cards and currency\",\n",
    "    \"spare card\", \n",
    "    \"beneficiary not allowed\",\n",
    "    \"change pin\",\n",
    "    \"apple google mobile pay\",\n",
    "    \"transfer\",\n",
    "    \"other\"\n",
    "]\n",
    "\n",
    "# In a single prompt() call, we can annotate the entire dataset.\n",
    "responses = tlm.prompt(all_prompts, constrain_outputs=valid_categories)\n",
    "\n",
    "# Extract the categories, scores, and explanations from each response\n",
    "categories = [response[\"response\"] for response in responses]\n",
    "scores = [response[\"trustworthiness_score\"] for response in responses]\n",
    "explanations = [response['log'][\"explanation\"] for response in responses]\n",
    "df[\"predicted_label\"] = categories\n",
    "df[\"trustworthiness\"] = scores\n",
    "df[\"explanation\"] = explanations\n",
    "df.head(3)"
   ]
  },
  {
   "cell_type": "markdown",
   "metadata": {},
   "source": [
    "## Assess Performance\u00a0(Optional) \n",
    "\n",
    "In this section, we introduce ground-truth labels solely in order to evaluate the performance of TLM. These ground-truth labels are never provided to TLM, and this section can be skipped if you don't have ground-truth labels).\n"
   ]
  },
  {
   "cell_type": "code",
   "execution_count": 7,
   "metadata": {},
   "outputs": [],
   "source": [
    "!wget -nc https://cleanlab-public.s3.us-east-1.amazonaws.com/Datasets/tlm-annotation-tutorial/customer-service-categories.csv"
   ]
  },
  {
   "cell_type": "code",
   "execution_count": 10,
   "metadata": {},
   "outputs": [
    {
     "data": {
      "text/html": [
       "<div>\n",
       "<style scoped>\n",
       "    .dataframe tbody tr th:only-of-type {\n",
       "        vertical-align: middle;\n",
       "    }\n",
       "\n",
       "    .dataframe tbody tr th {\n",
       "        vertical-align: top;\n",
       "    }\n",
       "\n",
       "    .dataframe thead th {\n",
       "        text-align: right;\n",
       "    }\n",
       "</style>\n",
       "<table border=\"1\" class=\"dataframe\">\n",
       "  <thead>\n",
       "    <tr style=\"text-align: right;\">\n",
       "      <th></th>\n",
       "      <th>text</th>\n",
       "      <th>predicted_label</th>\n",
       "      <th>trustworthiness</th>\n",
       "      <th>explanation</th>\n",
       "      <th>ground_truth_label</th>\n",
       "    </tr>\n",
       "  </thead>\n",
       "  <tbody>\n",
       "    <tr>\n",
       "      <th>0</th>\n",
       "      <td>i need to cancel my recent transfer as soon as possible. i made an error there. please help before it goes through.</td>\n",
       "      <td>cancel transaction</td>\n",
       "      <td>1.000000</td>\n",
       "      <td>Did not find a reason to doubt trustworthiness.</td>\n",
       "      <td>cancel transaction</td>\n",
       "    </tr>\n",
       "    <tr>\n",
       "      <th>1</th>\n",
       "      <td>why is there a fee when i thought there would be no fees?</td>\n",
       "      <td>fee charged</td>\n",
       "      <td>1.000000</td>\n",
       "      <td>Did not find a reason to doubt trustworthiness.</td>\n",
       "      <td>fee charged</td>\n",
       "    </tr>\n",
       "    <tr>\n",
       "      <th>2</th>\n",
       "      <td>how do i replace my card before it expires next month?</td>\n",
       "      <td>card expire</td>\n",
       "      <td>0.995549</td>\n",
       "      <td>Did not find a reason to doubt trustworthiness.</td>\n",
       "      <td>card expire</td>\n",
       "    </tr>\n",
       "  </tbody>\n",
       "</table>\n",
       "</div>"
      ],
      "text/plain": [
       "                                                                                                                  text  \\\n",
       "0  i need to cancel my recent transfer as soon as possible. i made an error there. please help before it goes through.   \n",
       "1                                                            why is there a fee when i thought there would be no fees?   \n",
       "2                                                               how do i replace my card before it expires next month?   \n",
       "\n",
       "      predicted_label  trustworthiness  \\\n",
       "0  cancel transaction         1.000000   \n",
       "1         fee charged         1.000000   \n",
       "2         card expire         0.995549   \n",
       "\n",
       "                                       explanation  ground_truth_label  \n",
       "0  Did not find a reason to doubt trustworthiness.  cancel transaction  \n",
       "1  Did not find a reason to doubt trustworthiness.         fee charged  \n",
       "2  Did not find a reason to doubt trustworthiness.         card expire  "
      ]
     },
     "execution_count": 10,
     "metadata": {},
     "output_type": "execute_result"
    }
   ],
   "source": [
    "# Read in ground truth labels\n",
    "ground_truth_labels = pd.read_csv(\"customer-service-categories.csv\")\n",
    "df['ground_truth_label'] = ground_truth_labels['label']\n",
    "df.head(3)"
   ]
  },
  {
   "cell_type": "markdown",
   "metadata": {},
   "source": [
    "Next we plot the accuracy of the TLM-predicted labels (computed with respect to ground-truth labels). Here we assume annotations from TLM are only considered for the subset of data where the trustworthiness score is sufficiently high, so accuracy is only computed over this data subset (the remaining data could be manually reviewed/annotated by humans). Our plot depicts the resulting accuracy across different choices of the trustworthiness score threshold, which determine how much of the data gets auto-labeled by the LLM (see X-axis below)."
   ]
  },
  {
   "cell_type": "markdown",
   "id": "bf8be12e-8c05-47a1-afec-0acd0ae48ea1",
   "metadata": {},
   "source": [
    "**Optional: Plotting code**\n",
    "\n"
   ]
  },
  {
   "cell_type": "code",
   "execution_count": 12,
   "metadata": {},
   "outputs": [],
   "source": [
    "\n",
    "# Calculate the number of examples, percentage of data, and accuracy of TLM's predictions for each threshold value\n",
    "threshold_analysis = pd.DataFrame([{\n",
    "    \"threshold\": t,\n",
    "    \"num_examples\": len(filtered := df[df[\"trustworthiness\"] > t]),\n",
    "    \"percent_data\": len(filtered) / len(df) * 100,\n",
    "    \"accuracy\": np.mean(filtered[\"predicted_label\"] == filtered[\"ground_truth_label\"]) * 100\n",
    "} for t in np.arange(0, 1.0, 0.01)]).round(2)\n",
    "\n",
    "# Plot the accuracy of TLM's predictions and percentage of data for each trustworthiness score threshold value\n",
    "def create_enhanced_line_plot(threshold_analysis):\n",
    "    plt.figure(figsize=(8.25, 6.6))\n",
    "    points = plt.scatter(threshold_analysis['percent_data'], threshold_analysis['accuracy'],\n",
    "                        c=threshold_analysis['threshold'], cmap='viridis', s=40)  # Increased marker size\n",
    "    plt.plot(threshold_analysis['percent_data'], threshold_analysis['accuracy'], \n",
    "            alpha=0.3, color='gray', zorder=1, linewidth=2)  # Increased line width\n",
    "    \n",
    "    plt.colorbar(points).set_label('trustworthiness Threshold', fontsize=14)  # Increased font size\n",
    "    plt.grid(True, alpha=0.3)\n",
    "    plt.xlabel('Percentage of Data Included', fontsize=14)  # Increased font size\n",
    "    plt.ylabel('Classification Accuracy', fontsize=14)  # Increased font size\n",
    "    plt.title('Accuracy vs Auto Labeling Threshold', fontsize=16)  # Increased font size\n",
    "    plt.xticks(fontsize=14)  # Increased tick label size\n",
    "    plt.yticks(fontsize=14)  # Increased tick label size\n",
    "    plt.xlim(40)\n",
    "    plt.tight_layout()\n",
    "    return plt.gcf()\n",
    "\n",
    "# Apply the function to your data\n",
    "fig = create_enhanced_line_plot(threshold_analysis)\n",
    "plt.show()"
   ]
  },
  {
   "cell_type": "markdown",
   "metadata": {},
   "source": [
    "![TLM performance on customer service text data](./assets/tlm-annotation/tlm_perf_customer_service.png)"
   ]
  },
  {
   "cell_type": "markdown",
   "metadata": {},
   "source": [
    "The above plot shows the accuracy of TLM predicted labels, if we only have the LLM handle the subset of the data where TLM's trustworthiness score exceeds a certain threshold. This shows how **TLM can ensure a target labeling accuracy for examples above a certain trustworthiness score**. Your team can manually label the remainder of the data whose TLM trustworthiness score falls below a chosen threshold value.\n",
    "\n",
    "For example, if we want to ensure that greater than 90% of the examples are labeled correctly (i.e. 90% accuracy on the Y axis), the plot above shows that we can let TLM auto-label all examples whose trustworthiness score exceeds 0.8 (the X-axis shows this happens to be nearly 80% of the data). In this case, your team only has to manually 20% of the data in order to get it all labeled with greater than 90% accuracy. TLM helps you effectively trade off between annotation cost savings vs. accuracy of the resulting anotations."
   ]
  },
  {
   "cell_type": "markdown",
   "metadata": {},
   "source": [
    "## Least trustworthy examples\n",
    "\n",
    "Let's sort by the trustworthiness score and look at a few examples."
   ]
  },
  {
   "cell_type": "code",
   "execution_count": 13,
   "metadata": {},
   "outputs": [
    {
     "data": {
      "text/html": [
       "<div>\n",
       "<style scoped>\n",
       "    .dataframe tbody tr th:only-of-type {\n",
       "        vertical-align: middle;\n",
       "    }\n",
       "\n",
       "    .dataframe tbody tr th {\n",
       "        vertical-align: top;\n",
       "    }\n",
       "\n",
       "    .dataframe thead th {\n",
       "        text-align: right;\n",
       "    }\n",
       "</style>\n",
       "<table border=\"1\" class=\"dataframe\">\n",
       "  <thead>\n",
       "    <tr style=\"text-align: right;\">\n",
       "      <th></th>\n",
       "      <th>text</th>\n",
       "      <th>predicted_label</th>\n",
       "      <th>trustworthiness</th>\n",
       "      <th>explanation</th>\n",
       "      <th>ground_truth_label</th>\n",
       "    </tr>\n",
       "  </thead>\n",
       "  <tbody>\n",
       "    <tr>\n",
       "      <th>243</th>\n",
       "      <td>i want to apply for a visa card.</td>\n",
       "      <td>other</td>\n",
       "      <td>0.151055</td>\n",
       "      <td>. \\nThis response is untrustworthy due to lack of consistency in possible responses from the model. Here's one inconsistent alternate response that the model considered (which may not be accurate either): \\ncards and currency.</td>\n",
       "      <td>cards and currency</td>\n",
       "    </tr>\n",
       "    <tr>\n",
       "      <th>121</th>\n",
       "      <td>is it possible to access my phone from the hotel/</td>\n",
       "      <td>other</td>\n",
       "      <td>0.181805</td>\n",
       "      <td>. \\nThis response is untrustworthy due to lack of consistency in possible responses from the model. Here's one inconsistent alternate response that the model considered (which may not be accurate either): \\nmissing phone.</td>\n",
       "      <td>missing phone</td>\n",
       "    </tr>\n",
       "    <tr>\n",
       "      <th>61</th>\n",
       "      <td>your atm pin can be changed at any visa or mastercard atm with pin services. certain countries don't support atm pin changes.</td>\n",
       "      <td>other</td>\n",
       "      <td>0.188929</td>\n",
       "      <td>. \\nThis response is untrustworthy due to lack of consistency in possible responses from the model. Here's one inconsistent alternate response that the model considered (which may not be accurate either): \\nchange pin.</td>\n",
       "      <td>change pin</td>\n",
       "    </tr>\n",
       "  </tbody>\n",
       "</table>\n",
       "</div>"
      ],
      "text/plain": [
       "                                                                                                                              text  \\\n",
       "243                                                                                               i want to apply for a visa card.   \n",
       "121                                                                              is it possible to access my phone from the hotel/   \n",
       "61   your atm pin can be changed at any visa or mastercard atm with pin services. certain countries don't support atm pin changes.   \n",
       "\n",
       "    predicted_label  trustworthiness  \\\n",
       "243           other         0.151055   \n",
       "121           other         0.181805   \n",
       "61            other         0.188929   \n",
       "\n",
       "                                                                                                                                                                                                                            explanation  \\\n",
       "243  . \\nThis response is untrustworthy due to lack of consistency in possible responses from the model. Here's one inconsistent alternate response that the model considered (which may not be accurate either): \\ncards and currency.   \n",
       "121       . \\nThis response is untrustworthy due to lack of consistency in possible responses from the model. Here's one inconsistent alternate response that the model considered (which may not be accurate either): \\nmissing phone.   \n",
       "61           . \\nThis response is untrustworthy due to lack of consistency in possible responses from the model. Here's one inconsistent alternate response that the model considered (which may not be accurate either): \\nchange pin.   \n",
       "\n",
       "     ground_truth_label  \n",
       "243  cards and currency  \n",
       "121       missing phone  \n",
       "61           change pin  "
      ]
     },
     "execution_count": 13,
     "metadata": {},
     "output_type": "execute_result"
    }
   ],
   "source": [
    "df.sort_values(by=\"trustworthiness\", ascending=True).head(3)"
   ]
  },
  {
   "cell_type": "markdown",
   "metadata": {},
   "source": [
    "You can give these low confidence examples to a human annotator to review or label them. Alternatively, you can try to get the LLM to accurately label these examples via other methods we'll consider next. Reviewing these low confidence examples helps you discover how to improve your LLM prompt / annotator instructions (e.g. how to handle edge-cases, which few-shot examples to provide, etc)."
   ]
  },
  {
   "cell_type": "markdown",
   "metadata": {},
   "source": [
    "## Few-shot Prompting\n",
    "\n",
    "One method we can use to increase the accuracy and confidence of TLM predictions is: [few-shot prompting](https://cleanlab.ai/blog/reliable-fewshot-prompts/). Here's an example adapting our prompt template to include a few examples and their desired labels (generally try to include one example of each category)."
   ]
  },
  {
   "cell_type": "code",
   "execution_count": 14,
   "metadata": {},
   "outputs": [],
   "source": [
    "fewshot_prompt_template = \"\"\"\n",
    "You are a professional customer service agent. You are given a customer's message and you are asked to classify the customer's message into one of the following categories:\n",
    "\n",
    "- cancel transaction: The customer is requesting to cancel a transaction they recently made or is implicitly asking to cancel a transaction, i.e. they made a payment to a wrong account.\n",
    "- fee charged: The customer is inquiring about a fee charged or disputing an unexpected fee or is missing money from a recent transaction.\n",
    "- card expire: The customer needs assistance with a card that is expiring or expired soon.\n",
    "- missing phone: The customer has lost their phone or is reporting a stolen phone.\n",
    "- cards and currency: The customer is asking questions about card types, when where or how they can use their card, or currency related issues involving their card.\n",
    "- spare card: The customer is requesting information about obtaining an additional or spare card.\n",
    "- beneficiary not allowed: The customer is asking questions about beneficiary access issues.\n",
    "- change pin: The customer needs help changing their card's PIN.\n",
    "- apple google mobile pay: The customer is seeking assistance with Apple, Google or Mobile Pay functionality.\n",
    "- transfer: The customer is asking about a transfer or a transfer related issue.\n",
    "- other: The customer's message does not fit into any of the above categories.\n",
    "\n",
    "## Some Examples\n",
    "\n",
    "Customer message: I need to cancel a transaction I made to a wrong account.\n",
    "Category: cancel transaction\n",
    "\n",
    "Customer message: I was charged a fee for a transaction I didn't make.\n",
    "Category: fee charged\n",
    "\n",
    "Customer message: My card is about to expire I need a new one soon.\n",
    "Category: card expire\n",
    "\n",
    "Customer message: My phone was taken from me I need help.\n",
    "Category: missing phone\n",
    "\n",
    "Customer message: Am I able to use my Mastercard and AMEX for this transaction?\n",
    "Category: cards and currency\n",
    "\n",
    "Customer message: I need a replacement card right now I am traveling.\n",
    "Category: spare card\n",
    "\n",
    "Customer message: I tried the transfer as a beneficiary but I couldn't.\n",
    "Category: beneficiary not allowed\n",
    "\n",
    "Customer message: I need help changing my card's PIN.\n",
    "Category: change pin\n",
    "\n",
    "Customer message: My Apple Pay is not working on my phone.\n",
    "Category: apple google mobile pay\n",
    "\n",
    "Customer message: I transfered money to my friend's account but it's not showing up.\n",
    "Category: transfer\n",
    "\n",
    "Customer message: Should I open a checking or savings account?\n",
    "Category: other\n",
    "\n",
    "## New Example to Categorize\n",
    "\n",
    "Now categorize the following Customer message. Respond with the category only, no leading or trailing text. \n",
    "\n",
    "Customer message: {customer_message}\n",
    "Category: \n",
    "\"\"\""
   ]
  },
  {
   "cell_type": "markdown",
   "metadata": {},
   "source": [
    "## Automatically Boost Accuracy\n",
    "\n",
    "TLM can\u00a0automatically boost the accuracy of predicted LLM labels, if you specify the \"best\" TLM quality preset. Additionally consider specifying TLM's `model` configuration to a more powerful LLM that works well in your domain."
   ]
  },
  {
   "cell_type": "code",
   "execution_count": 15,
   "metadata": {},
   "outputs": [
    {
     "name": "stdout",
     "output_type": "stream",
     "text": [
      "Base accuracy: 83.7%\n",
      "Boosted accuracy: 84.5%\n"
     ]
    }
   ],
   "source": [
    "base_accuracy = np.mean(df[\"predicted_label\"] == df[\"ground_truth_label\"])\n",
    "print(f\"Base accuracy: {base_accuracy:.1%}\")\n",
    "\n",
    "# Here we use the \"best\" quality preset to auto-boost accuracy\n",
    "tlm_best = TLM(quality_preset=\"best\", options={\"log\": [\"explanation\"]})\n",
    "best_responses = tlm_best.prompt(all_prompts, constrain_outputs=valid_categories)\n",
    "best_categories = [response[\"response\"] for response in best_responses]\n",
    "boosted_accuracy = np.mean(best_categories == df[\"ground_truth_label\"])\n",
    "print(f\"Boosted accuracy: {boosted_accuracy:.1%}\")\n"
   ]
  },
  {
   "cell_type": "markdown",
   "metadata": {},
   "source": [
    "## Find Errors in Existing Annotations\n",
    "You can also use TLM to catch errors in existing annotations, either from a human annotator or another model. \n",
    "\n",
    "Let's look at examples where the human annotator and TLM disagree, but TLM's trustworthiness score is high. We see in these cases that the human annotator actually made an error in their annotations!"
   ]
  },
  {
   "cell_type": "code",
   "execution_count": 29,
   "metadata": {},
   "outputs": [],
   "source": [
    "!wget -nc https://cleanlab-public.s3.us-east-1.amazonaws.com/Datasets/tlm-annotation-tutorial/human-categories.csv"
   ]
  },
  {
   "cell_type": "code",
   "execution_count": 16,
   "metadata": {},
   "outputs": [
    {
     "data": {
      "text/html": [
       "<div>\n",
       "<style scoped>\n",
       "    .dataframe tbody tr th:only-of-type {\n",
       "        vertical-align: middle;\n",
       "    }\n",
       "\n",
       "    .dataframe tbody tr th {\n",
       "        vertical-align: top;\n",
       "    }\n",
       "\n",
       "    .dataframe thead th {\n",
       "        text-align: right;\n",
       "    }\n",
       "</style>\n",
       "<table border=\"1\" class=\"dataframe\">\n",
       "  <thead>\n",
       "    <tr style=\"text-align: right;\">\n",
       "      <th></th>\n",
       "      <th>text</th>\n",
       "      <th>predicted_label</th>\n",
       "      <th>trustworthiness</th>\n",
       "      <th>human_category</th>\n",
       "    </tr>\n",
       "  </thead>\n",
       "  <tbody>\n",
       "    <tr>\n",
       "      <th>293</th>\n",
       "      <td>unbeknownst to me, there was an additional charge on my prior transaction. a notification of sorts should be required and explained before future payments are made.</td>\n",
       "      <td>fee charged</td>\n",
       "      <td>0.999382</td>\n",
       "      <td>cancel transaction</td>\n",
       "    </tr>\n",
       "    <tr>\n",
       "      <th>259</th>\n",
       "      <td>my bag was stolen from me yesterday, so i can't use any apps or anything. i need some help.</td>\n",
       "      <td>missing phone</td>\n",
       "      <td>0.985553</td>\n",
       "      <td>spare card</td>\n",
       "    </tr>\n",
       "    <tr>\n",
       "      <th>564</th>\n",
       "      <td>how much is it to send out additional cards?</td>\n",
       "      <td>spare card</td>\n",
       "      <td>0.959251</td>\n",
       "      <td>card expire</td>\n",
       "    </tr>\n",
       "  </tbody>\n",
       "</table>\n",
       "</div>"
      ],
      "text/plain": [
       "                                                                                                                                                                     text  \\\n",
       "293  unbeknownst to me, there was an additional charge on my prior transaction. a notification of sorts should be required and explained before future payments are made.   \n",
       "259                                                                           my bag was stolen from me yesterday, so i can't use any apps or anything. i need some help.   \n",
       "564                                                                                                                          how much is it to send out additional cards?   \n",
       "\n",
       "    predicted_label  trustworthiness      human_category  \n",
       "293     fee charged         0.999382  cancel transaction  \n",
       "259   missing phone         0.985553          spare card  \n",
       "564      spare card         0.959251         card expire  "
      ]
     },
     "execution_count": 16,
     "metadata": {},
     "output_type": "execute_result"
    }
   ],
   "source": [
    "human_categories = pd.read_csv(\"human-categories.csv\")\n",
    "df[\"human_category\"] = human_categories[\"human_category\"]\n",
    "annotation_errors = df[df['human_category'] != df['predicted_label']].sort_values('trustworthiness', ascending=False).head(3)\n",
    "annotation_errors[['text', 'predicted_label', 'trustworthiness', 'human_category']]\n"
   ]
  },
  {
   "cell_type": "markdown",
   "metadata": {},
   "source": [
    "## Document Tagging (Multi-Label Classification)\n",
    "TLM can also be used for many other types of data annotation tasks. Suppose now that we wish to assign tags to various documents, loaded below. This is a multi-label classification task, where each document can receive multiple tags (unlike in multi-class classification, where each document would belong to exactly one category only). We provide the code needed to use TLM for this new labeling task below."
   ]
  },
  {
   "cell_type": "code",
   "execution_count": 32,
   "metadata": {},
   "outputs": [],
   "source": [
    "!wget -nc https://cleanlab-public.s3.us-east-1.amazonaws.com/Datasets/tlm-annotation-tutorial/document_tagging_dataset.csv"
   ]
  },
  {
   "cell_type": "code",
   "execution_count": 18,
   "metadata": {},
   "outputs": [
    {
     "name": "stderr",
     "output_type": "stream",
     "text": [
      "Querying TLM... 100%|\u2588\u2588\u2588\u2588\u2588\u2588\u2588\u2588\u2588\u2588|\n"
     ]
    },
    {
     "data": {
      "text/html": [
       "<div>\n",
       "<style scoped>\n",
       "    .dataframe tbody tr th:only-of-type {\n",
       "        vertical-align: middle;\n",
       "    }\n",
       "\n",
       "    .dataframe tbody tr th {\n",
       "        vertical-align: top;\n",
       "    }\n",
       "\n",
       "    .dataframe thead th {\n",
       "        text-align: right;\n",
       "    }\n",
       "</style>\n",
       "<table border=\"1\" class=\"dataframe\">\n",
       "  <thead>\n",
       "    <tr style=\"text-align: right;\">\n",
       "      <th></th>\n",
       "      <th>text</th>\n",
       "      <th>labels</th>\n",
       "      <th>tlm_tags</th>\n",
       "      <th>trustworthiness</th>\n",
       "      <th>tags_equal</th>\n",
       "    </tr>\n",
       "  </thead>\n",
       "  <tbody>\n",
       "    <tr>\n",
       "      <th>0</th>\n",
       "      <td>bring me the title of current music. tell me about mary s.</td>\n",
       "      <td>music_query, email_querycontact</td>\n",
       "      <td>music_query, social_query</td>\n",
       "      <td>0.848176</td>\n",
       "      <td>False</td>\n",
       "    </tr>\n",
       "    <tr>\n",
       "      <th>1</th>\n",
       "      <td>show me my alarms i have set</td>\n",
       "      <td>alarm_query</td>\n",
       "      <td>alarm_query</td>\n",
       "      <td>0.999280</td>\n",
       "      <td>True</td>\n",
       "    </tr>\n",
       "    <tr>\n",
       "      <th>2</th>\n",
       "      <td>turn on vacuum cleaner. could you please give me up to date news headlines from my newest provider</td>\n",
       "      <td>iot_cleaning, news_query</td>\n",
       "      <td>iot_cleaning, news_query</td>\n",
       "      <td>0.997675</td>\n",
       "      <td>True</td>\n",
       "    </tr>\n",
       "    <tr>\n",
       "      <th>3</th>\n",
       "      <td>veganism</td>\n",
       "      <td>general_quirky</td>\n",
       "      <td>general_quirky</td>\n",
       "      <td>0.781522</td>\n",
       "      <td>True</td>\n",
       "    </tr>\n",
       "    <tr>\n",
       "      <th>4</th>\n",
       "      <td>clean the floor. what is on my to do list today</td>\n",
       "      <td>iot_cleaning, lists_query</td>\n",
       "      <td>iot_cleaning, lists_query</td>\n",
       "      <td>0.916779</td>\n",
       "      <td>True</td>\n",
       "    </tr>\n",
       "  </tbody>\n",
       "</table>\n",
       "</div>"
      ],
      "text/plain": [
       "                                                                                                 text  \\\n",
       "0                                          bring me the title of current music. tell me about mary s.   \n",
       "1                                                                        show me my alarms i have set   \n",
       "2  turn on vacuum cleaner. could you please give me up to date news headlines from my newest provider   \n",
       "3                                                                                            veganism   \n",
       "4                                                     clean the floor. what is on my to do list today   \n",
       "\n",
       "                            labels                   tlm_tags  \\\n",
       "0  music_query, email_querycontact  music_query, social_query   \n",
       "1                      alarm_query                alarm_query   \n",
       "2         iot_cleaning, news_query   iot_cleaning, news_query   \n",
       "3                   general_quirky             general_quirky   \n",
       "4        iot_cleaning, lists_query  iot_cleaning, lists_query   \n",
       "\n",
       "   trustworthiness  tags_equal  \n",
       "0         0.848176       False  \n",
       "1         0.999280        True  \n",
       "2         0.997675        True  \n",
       "3         0.781522        True  \n",
       "4         0.916779        True  "
      ]
     },
     "execution_count": 18,
     "metadata": {},
     "output_type": "execute_result"
    }
   ],
   "source": [
    "df_tagging = pd.read_csv(\"document_tagging_dataset.csv\")\n",
    "tags = set(\", \".join(df_tagging.labels.values).split(\", \"))\n",
    "tagging_prompt = '''Given the following document, classify the document by applying one or more of the following tags: {tags}\n",
    "\n",
    "Please output only the relevant tags separated by \", \", with no leading or trailing text or punctuation. Example output: tag1, tag2, tag3\n",
    "\n",
    "Here is the document: {text}'''\n",
    "\n",
    "# Generate prompts for all examples.\n",
    "tagging_prompts = [tagging_prompt.format(text=text, tags=tags) for text in df_tagging.text]\n",
    "\n",
    "# Query TLM to tag the documents\n",
    "tagging_responses = tlm.prompt(tagging_prompts)  # Note: we only specify constrain_outputs for multi-class classification, not other tasks\n",
    "\n",
    "# Extract the tags and trustworthiness scores from the responses\n",
    "df_tagging[\"tlm_tags\"] = [tagging_response[\"response\"] for tagging_response in tagging_responses]\n",
    "df_tagging[\"trustworthiness\"] = [tagging_response[\"trustworthiness_score\"] for tagging_response in tagging_responses]\n",
    "df_tagging.head()\n",
    "\n",
    "# Helper method to compare predicted tags vs ground truth, for reporting LLM labeling accuracy\n",
    "df_tagging['tags_equal'] = df_tagging.apply(\n",
    "    lambda row: set(t.strip() for t in row['labels'].split(',')) == \n",
    "                set(t.strip() for t in row['tlm_tags'].split(',')), \n",
    "    axis=1\n",
    ")\n",
    "df_tagging.head()\n"
   ]
  },
  {
   "cell_type": "markdown",
   "metadata": {},
   "source": [
    "Let's again plot the accuracy of the TLM-predicted labels (computed with respect to ground-truth labels). Again, we assume annotations from TLM are only considered for the subset of data where the trustworthiness score is sufficiently high, so accuracy is only computed over this data subset (the remaining data could be manually reviewed/annotated by humans). Our plot again depicts the resulting accuracy across different choices of the trustworthiness score threshold, which determine how much of the data gets auto-labeled by the LLM (see X-axis below)."
   ]
  },
  {
   "cell_type": "markdown",
   "id": "07aba5b4-834c-455d-94f1-0a3f8c493215",
   "metadata": {},
   "source": [
    "**Optional: Plotting code**\n",
    "\n"
   ]
  },
  {
   "cell_type": "code",
   "execution_count": 20,
   "metadata": {},
   "outputs": [],
   "source": [
    "\n",
    "# Calculate the number of examples, percentage of data, and accuracy of TLM's predictions for each threshold value\n",
    "threshold_analysis = pd.DataFrame([{\n",
    "    \"threshold\": t,\n",
    "    \"num_examples\": len(filtered := df_tagging[df_tagging[\"trustworthiness\"] > t]),\n",
    "    \"percent_data\": len(filtered) / len(df_tagging) * 100,\n",
    "    \"accuracy\": np.mean(filtered[\"tags_equal\"]) * 100\n",
    "} for t in np.arange(0, 1.0, 0.01)]).round(2)\n",
    "\n",
    "# Apply the function to your data\n",
    "fig = create_enhanced_line_plot(threshold_analysis)\n",
    "plt.show()"
   ]
  },
  {
   "cell_type": "markdown",
   "metadata": {},
   "source": [
    "![TLM performance on customer service text data](./assets/tlm-annotation/tlm_perf_doc_tagging.png)"
   ]
  },
  {
   "cell_type": "markdown",
   "metadata": {},
   "source": [
    "This plot again shows that, for document tagging, **TLM can ensure a target labeling accuracy for examples above a certain trustworthiness score**. Again the low-trustworthiness examples could be manually reviewed/labeled by human annotators.\n"
   ]
  },
  {
   "cell_type": "markdown",
   "metadata": {},
   "source": [
    "## Entity Recognition\n",
    "Finally, let's consider one more type of data annotation task. Here we consider PII (Personally Identifiable Information) Detection, loading a new dataset for our demonstration. The same technique applies to Data Extraction or more generally any Entity Recognition task."
   ]
  },
  {
   "cell_type": "code",
   "execution_count": 58,
   "metadata": {},
   "outputs": [],
   "source": [
    "!wget -nc https://cleanlab-public.s3.us-east-1.amazonaws.com/Datasets/tlm-annotation-tutorial/pii_text_dataset.csv"
   ]
  },
  {
   "cell_type": "code",
   "execution_count": 3,
   "metadata": {},
   "outputs": [
    {
     "data": {
      "text/html": [
       "<div>\n",
       "<style scoped>\n",
       "    .dataframe tbody tr th:only-of-type {\n",
       "        vertical-align: middle;\n",
       "    }\n",
       "\n",
       "    .dataframe tbody tr th {\n",
       "        vertical-align: top;\n",
       "    }\n",
       "\n",
       "    .dataframe thead th {\n",
       "        text-align: right;\n",
       "    }\n",
       "</style>\n",
       "<table border=\"1\" class=\"dataframe\">\n",
       "  <thead>\n",
       "    <tr style=\"text-align: right;\">\n",
       "      <th></th>\n",
       "      <th>text</th>\n",
       "    </tr>\n",
       "  </thead>\n",
       "  <tbody>\n",
       "    <tr>\n",
       "      <th>0</th>\n",
       "      <td>Customer: Hello, I'm Emily Carter. Can you please verify my account details with my email emily.carter@fakemail.com and phone number 555-654-3210?</td>\n",
       "    </tr>\n",
       "    <tr>\n",
       "      <th>1</th>\n",
       "      <td>Customer: I need help updating my payment method. My old card is 4000123412341234, and the new one is 4000987654321234.</td>\n",
       "    </tr>\n",
       "    <tr>\n",
       "      <th>2</th>\n",
       "      <td>Customer: Hi, I forgot my password. My username is robert_king1980, and my phone number is 555-321-9876. Could you reset it?</td>\n",
       "    </tr>\n",
       "    <tr>\n",
       "      <th>3</th>\n",
       "      <td>Agent: To further assist, I need your SSN. Customer: Sure, it's 123-45-6789.</td>\n",
       "    </tr>\n",
       "    <tr>\n",
       "      <th>4</th>\n",
       "      <td>Customer: I noticed a suspicious transaction on my checking account 123456789, routing number 987654321. Please help me dispute it.</td>\n",
       "    </tr>\n",
       "  </tbody>\n",
       "</table>\n",
       "</div>"
      ],
      "text/plain": [
       "                                                                                                                                                 text\n",
       "0  Customer: Hello, I'm Emily Carter. Can you please verify my account details with my email emily.carter@fakemail.com and phone number 555-654-3210?\n",
       "1                             Customer: I need help updating my payment method. My old card is 4000123412341234, and the new one is 4000987654321234.\n",
       "2                        Customer: Hi, I forgot my password. My username is robert_king1980, and my phone number is 555-321-9876. Could you reset it?\n",
       "3                                                                        Agent: To further assist, I need your SSN. Customer: Sure, it's 123-45-6789.\n",
       "4                 Customer: I noticed a suspicious transaction on my checking account 123456789, routing number 987654321. Please help me dispute it."
      ]
     },
     "execution_count": 3,
     "metadata": {},
     "output_type": "execute_result"
    }
   ],
   "source": [
    "pii_df = pd.read_csv(\"pii_text_dataset.csv\")\n",
    "pii_df.head()"
   ]
  },
  {
   "cell_type": "markdown",
   "metadata": {},
   "source": [
    "Here we run TLM to produce [Structured Outputs](/tlm/tutorials/tlm_structured_outputs/). This can be done by using TLM through the OpenAI client library rather than the Cleanlab TLM client library."
   ]
  },
  {
   "cell_type": "code",
   "execution_count": 4,
   "metadata": {},
   "outputs": [],
   "source": [
    "from pydantic import BaseModel, Field\n",
    "from typing import List\n",
    "\n",
    "# Define the PII response structure, you can easily add or remove fields as needed\n",
    "class PiiResponse(BaseModel):\n",
    "    person: List[str] = Field(title=\"Person\", description=\"Represents any full or partial name referring to a person (e.g., John Doe, Emily Carter).\")\n",
    "    email: List[str] = Field(title=\"Email\", description=\"Identifies email addresses in text (e.g., john.doe@example.com).\")\n",
    "    phone: List[str] = Field(title=\"Phone\", description=\"Captures telephone numbers (e.g., 555-123-4567).\")\n",
    "    address: List[str] = Field(title=\"Address\", description=\"Includes physical or mailing addresses (e.g., 1234 Elm Street, Faketown, FS 99999).\")\n",
    "    ssn: List[str] = Field(title=\"SSN\", description=\"Represents U.S. Social Security Numbers (e.g., 987-65-4321).\")\n",
    "    credit_card: List[str] = Field(title=\"Credit Card\", description=\"Identifies credit or debit card numbers and related details (e.g., 4111 1111 1111 1111).\")\n",
    "    bank_account: List[str] = Field(title=\"Bank Account\", description=\"Covers bank account numbers and routing numbers (e.g., Checking account 123456789).\")\n",
    "    api_key: List[str] = Field(title=\"API Key\", description=\"Includes API keys or tokens used for authentication (e.g., sk_test_51HfVxEC...).\")\n",
    "    username: List[str] = Field(title=\"Username\", description=\"Represents usernames for account login (e.g., robert_king1980).\")\n",
    "    dob: List[str] = Field(title=\"DOB\", description=\"Captures the date of birth (DOB) (e.g., 09/14/1985).\")\n",
    "    employee_id: List[str] = Field(title=\"Employee ID\", description=\"Represents company or corporate ID numbers (e.g., EID-4567).\")\n",
    "    driver_license: List[str] = Field(title=\"Driver License\", description=\"Driver's license identifiers (e.g., T123-4567).\")\n",
    "    passport: List[str] = Field(title=\"Passport\", description=\"Passport identifiers (e.g., X1234567).\")\n"
   ]
  },
  {
   "cell_type": "code",
   "execution_count": 7,
   "metadata": {},
   "outputs": [],
   "source": [
    "client = OpenAI(\n",
    "    api_key=\"<TLM_API_KEY>\",\n",
    "    base_url=\"https://api.cleanlab.ai/api/v1/openai_trustworthy_llm/\"  \n",
    ")\n",
    "# Helper to extract PII from text using TLM through OpenAI's API\n",
    "def extract_pii(client, text):\n",
    "    completion = client.beta.chat.completions.parse(\n",
    "        model=\"gpt-4o\",\n",
    "        messages=[\n",
    "                {\"role\": \"system\", \"content\": \"You are a data extraction expert.\"},\n",
    "                {\"role\": \"user\", \"content\": \"Extract relevant personal identifying information from the following text: {}\".format(text)}  \n",
    "            ],\n",
    "        response_format=PiiResponse,\n",
    "    )\n",
    "    return completion\n",
    "\n",
    "# Run TLM via the OpenAI API\n",
    "pii_responses = [extract_pii(client, text) for text in pii_df.text]\n",
    "\n",
    "parsed_responses = [r.choices[0].message.parsed for r in pii_responses]\n",
    "trust_scores = [r.tlm_metadata[\"trustworthiness_score\"] for r in pii_responses]\n",
    "pii_df[\"tlm_parsed_response\"] = parsed_responses\n",
    "pii_df[\"trustworthiness\"] = trust_scores"
   ]
  },
  {
   "cell_type": "markdown",
   "metadata": {},
   "source": [
    "## Least Trustworthy Examples\n",
    "We can again sort the LLM predicted labels by their trustworthiness score to see the lowest confidence results. Here we find problems in each example that warrant human review:\n",
    "1. The first example (row) contains a zip code that is not returned in the address field.\n",
    "2. The second example (row) contains \"MasterCard\" in the credit card field when it should only be the credit card number itself.\n",
    "3. The third example (row) contains \"routing number\" in the bank account field when it should only be the number itself."
   ]
  },
  {
   "cell_type": "code",
   "execution_count": 17,
   "metadata": {},
   "outputs": [
    {
     "data": {
      "text/html": [
       "<div>\n",
       "<style scoped>\n",
       "    .dataframe tbody tr th:only-of-type {\n",
       "        vertical-align: middle;\n",
       "    }\n",
       "\n",
       "    .dataframe tbody tr th {\n",
       "        vertical-align: top;\n",
       "    }\n",
       "\n",
       "    .dataframe thead th {\n",
       "        text-align: right;\n",
       "    }\n",
       "</style>\n",
       "<table border=\"1\" class=\"dataframe\">\n",
       "  <thead>\n",
       "    <tr style=\"text-align: right;\">\n",
       "      <th></th>\n",
       "      <th>text</th>\n",
       "      <th>tlm_parsed_response</th>\n",
       "      <th>trustworthiness</th>\n",
       "    </tr>\n",
       "  </thead>\n",
       "  <tbody>\n",
       "    <tr>\n",
       "      <th>26</th>\n",
       "      <td>Agent: Please provide your billing ZIP code. Customer: It's 44444.</td>\n",
       "      <td>person=[] email=[] phone=[] address=['ZIP code: 44444'] ssn=[] credit_card=[] bank_account=[] api_key=[] username=[] dob=[] employee_id=[] driver_license=[] passport=[]</td>\n",
       "      <td>0.447888</td>\n",
       "    </tr>\n",
       "    <tr>\n",
       "      <th>4</th>\n",
       "      <td>Customer: I noticed a suspicious transaction on my checking account 123456789, routing number 987654321. Please help me dispute it.</td>\n",
       "      <td>person=[] email=[] phone=[] address=[] ssn=[] credit_card=[] bank_account=['123456789', '987654321'] api_key=[] username=[] dob=[] employee_id=[] driver_license=[] passport=[]</td>\n",
       "      <td>0.591146</td>\n",
       "    </tr>\n",
       "    <tr>\n",
       "      <th>23</th>\n",
       "      <td>Agent: What is the card you used for your last payment? Customer: It's 6011 6011 6011 6011, expiration 10/27.</td>\n",
       "      <td>person=[] email=[] phone=[] address=[] ssn=[] credit_card=['6011 6011 6011 6011'] bank_account=[] api_key=[] username=[] dob=[] employee_id=[] driver_license=[] passport=[]</td>\n",
       "      <td>0.733902</td>\n",
       "    </tr>\n",
       "  </tbody>\n",
       "</table>\n",
       "</div>"
      ],
      "text/plain": [
       "                                                                                                                                   text  \\\n",
       "26                                                                   Agent: Please provide your billing ZIP code. Customer: It's 44444.   \n",
       "4   Customer: I noticed a suspicious transaction on my checking account 123456789, routing number 987654321. Please help me dispute it.   \n",
       "23                        Agent: What is the card you used for your last payment? Customer: It's 6011 6011 6011 6011, expiration 10/27.   \n",
       "\n",
       "                                                                                                                                                                tlm_parsed_response  \\\n",
       "26         person=[] email=[] phone=[] address=['ZIP code: 44444'] ssn=[] credit_card=[] bank_account=[] api_key=[] username=[] dob=[] employee_id=[] driver_license=[] passport=[]   \n",
       "4   person=[] email=[] phone=[] address=[] ssn=[] credit_card=[] bank_account=['123456789', '987654321'] api_key=[] username=[] dob=[] employee_id=[] driver_license=[] passport=[]   \n",
       "23     person=[] email=[] phone=[] address=[] ssn=[] credit_card=['6011 6011 6011 6011'] bank_account=[] api_key=[] username=[] dob=[] employee_id=[] driver_license=[] passport=[]   \n",
       "\n",
       "    trustworthiness  \n",
       "26         0.447888  \n",
       "4          0.591146  \n",
       "23         0.733902  "
      ]
     },
     "execution_count": 17,
     "metadata": {},
     "output_type": "execute_result"
    }
   ],
   "source": [
    "pii_df.sort_values(\"trustworthiness\", ascending=True).head(3)"
   ]
  },
  {
   "cell_type": "markdown",
   "metadata": {},
   "source": [
    "## Highest Confidence Examples\n",
    "We can also sort our respones by the trustworthiness score and see the highest confidence responses.\n"
   ]
  },
  {
   "cell_type": "code",
   "execution_count": 18,
   "metadata": {},
   "outputs": [
    {
     "data": {
      "text/html": [
       "<div>\n",
       "<style scoped>\n",
       "    .dataframe tbody tr th:only-of-type {\n",
       "        vertical-align: middle;\n",
       "    }\n",
       "\n",
       "    .dataframe tbody tr th {\n",
       "        vertical-align: top;\n",
       "    }\n",
       "\n",
       "    .dataframe thead th {\n",
       "        text-align: right;\n",
       "    }\n",
       "</style>\n",
       "<table border=\"1\" class=\"dataframe\">\n",
       "  <thead>\n",
       "    <tr style=\"text-align: right;\">\n",
       "      <th></th>\n",
       "      <th>text</th>\n",
       "      <th>tlm_parsed_response</th>\n",
       "      <th>trustworthiness</th>\n",
       "    </tr>\n",
       "  </thead>\n",
       "  <tbody>\n",
       "    <tr>\n",
       "      <th>33</th>\n",
       "      <td>Customer: My phone is 555-101-2020, but I'm not receiving OTP codes. Could you check your system?</td>\n",
       "      <td>person=[] email=[] phone=['555-101-2020'] address=[] ssn=[] credit_card=[] bank_account=[] api_key=[] username=[] dob=[] employee_id=[] driver_license=[] passport=[]</td>\n",
       "      <td>0.990000</td>\n",
       "    </tr>\n",
       "    <tr>\n",
       "      <th>31</th>\n",
       "      <td>Customer: Could you verify if you have my passport number on file? It's X1234567.</td>\n",
       "      <td>person=[] email=[] phone=[] address=[] ssn=[] credit_card=[] bank_account=[] api_key=[] username=[] dob=[] employee_id=[] driver_license=[] passport=['X1234567']</td>\n",
       "      <td>0.990000</td>\n",
       "    </tr>\n",
       "    <tr>\n",
       "      <th>0</th>\n",
       "      <td>Customer: Hello, I'm Emily Carter. Can you please verify my account details with my email emily.carter@fakemail.com and phone number 555-654-3210?</td>\n",
       "      <td>person=['Emily Carter'] email=['emily.carter@fakemail.com'] phone=['555-654-3210'] address=[] ssn=[] credit_card=[] bank_account=[] api_key=[] username=[] dob=[] employee_id=[] driver_license=[] passport=[]</td>\n",
       "      <td>0.989999</td>\n",
       "    </tr>\n",
       "  </tbody>\n",
       "</table>\n",
       "</div>"
      ],
      "text/plain": [
       "                                                                                                                                                  text  \\\n",
       "33                                                   Customer: My phone is 555-101-2020, but I'm not receiving OTP codes. Could you check your system?   \n",
       "31                                                                   Customer: Could you verify if you have my passport number on file? It's X1234567.   \n",
       "0   Customer: Hello, I'm Emily Carter. Can you please verify my account details with my email emily.carter@fakemail.com and phone number 555-654-3210?   \n",
       "\n",
       "                                                                                                                                                                                               tlm_parsed_response  \\\n",
       "33                                           person=[] email=[] phone=['555-101-2020'] address=[] ssn=[] credit_card=[] bank_account=[] api_key=[] username=[] dob=[] employee_id=[] driver_license=[] passport=[]   \n",
       "31                                               person=[] email=[] phone=[] address=[] ssn=[] credit_card=[] bank_account=[] api_key=[] username=[] dob=[] employee_id=[] driver_license=[] passport=['X1234567']   \n",
       "0   person=['Emily Carter'] email=['emily.carter@fakemail.com'] phone=['555-654-3210'] address=[] ssn=[] credit_card=[] bank_account=[] api_key=[] username=[] dob=[] employee_id=[] driver_license=[] passport=[]   \n",
       "\n",
       "    trustworthiness  \n",
       "33         0.990000  \n",
       "31         0.990000  \n",
       "0          0.989999  "
      ]
     },
     "execution_count": 18,
     "metadata": {},
     "output_type": "execute_result"
    }
   ],
   "source": [
    "pii_df.sort_values(\"trustworthiness\", ascending=False).head(3)"
   ]
  },
  {
   "cell_type": "markdown",
   "metadata": {},
   "source": [
    "## Recommendations \n",
    "\n",
    "Read the [Advanced Tutorial](/tlm/tutorials/tlm_advanced/) to learn how to: improve accuracy/latency/costs (via TLM's `quality_preset` and `model` configurations) and run TLM over large datasets.\n",
    "\n",
    "In practice: you can manually label some data, and then use some of these examples in few-shot prompting TLM. After that, you can manually review/label a few examples with the lowest TLM trustworthiness scores. You can repeat this process iteratively, in each round adjusting your few-shot prompt for TLM (including more/better examples) so that the LLM predicts labels more accurately/confidently.\n",
    "\n",
    "If you have any questions, please reach out to us at: support@cleanlab.ai."
   ]
  }
 ],
 "metadata": {
  "kernelspec": {
   "display_name": "agility",
   "language": "python",
   "name": "python3"
  },
  "language_info": {
   "codemirror_mode": {
    "name": "ipython",
    "version": 3
   },
   "file_extension": ".py",
   "mimetype": "text/x-python",
   "name": "python",
   "nbconvert_exporter": "python",
   "pygments_lexer": "ipython3",
   "version": "3.12.0"
  }
 },
 "nbformat": 4,
 "nbformat_minor": 2
}