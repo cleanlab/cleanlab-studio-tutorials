{
 "cells": [
  {
   "cell_type": "markdown",
   "id": "075f77c1-3328-4265-b077-160d496eb048",
   "metadata": {},
   "source": [
    "# Curating data with TLM for more reliable Retrieval-Augmented Generation"
   ]
  },
  {
   "cell_type": "markdown",
   "id": "aa91666c",
   "metadata": {},
   "source": [
    "<head>\n",
    "  <meta name=\"title\" content=\"Curating data with TLM for more reliable Retrieval-Augmented Generation\"/>\n",
    "  <meta property=\"og:title\" content=\"Curating data with TLM for more reliable Retrieval-Augmented Generation\"/>\n",
    "  <meta name=\"twitter:title\" content=\"Curating data with TLM for more reliable Retrieval-Augmented Generation\" />\n",
    "  <meta name=\"image\" content=\"/img/cleanlab_pinecone_rag.png\" />\n",
    "  <meta property=\"og:image\" content=\"/img/cleanlab_pinecone_rag.png\" />\n",
    "  <meta name=\"description\" content=\"How to automatically tag and curate document/chunk data.\"  />\n",
    "  <meta property=\"og:description\" content=\"How to automatically tag and curate document/chunk data.\" />\n",
    "  <meta name=\"twitter:description\" content=\"How to automatically tag and curate document/chunk data.\" />\n",
    "</head>\n",
    "\n",
    "Beyond [real-time response evaluation and hallucination detection](/tlm/use-cases/tlm_rag/), Cleanlab's Trustworthy Language Model (TLM) can additionally improve any RAG system via document/chunk tagging to ensure data quality and efficient retrieval of relevant information.\n",
    "This tutorial showcases this using Pinecone as a Vector Database, but the same concepts apply to any vector DB and RAG system.\n",
    "This tutorial covers:\n",
    "\n",
    "1. Using TLM to tag and clean document data, removing low-quality chunks and personally identifiable information (PII).\n",
    "2. Leveraging Pinecone to create and manage a vector database for storing and retrieving document embeddings.\n",
    "3. Implementing a RAG pipeline that uses both tools to provide accurate and trustworthy responses.\n",
    "4. Utilizing TLM to classify metadata, enhance retrieval, and evaluate the trustworthiness of RAG outputs.\n",
    "\n",
    "\n",
    "\n",
    "![Reliable RAG with Pinecone and Cleanlab](./assets/tlm-rag-data-curation-tutorial/cleanlab_pinecone_rag.png)"
   ]
  },
  {
   "cell_type": "markdown",
   "id": "e2a8f008",
   "metadata": {},
   "source": [
    "This tutorial requires a TLM API key. Get one [here](https://tlm.cleanlab.ai/), and first complete the [Trustworthy RAG tutorial](/tlm/use-cases/tlm_rag/).\n",
    "\n",
    "Let's install the required Python packages for this tutorial:"
   ]
  },
  {
   "cell_type": "code",
   "execution_count": 13,
   "id": "c447c74a",
   "metadata": {},
   "outputs": [],
   "source": [
    "%pip install pinecone-client==5.0.1 sentence-transformers==3.0.1 cleanlab-tlm"
   ]
  },
  {
   "cell_type": "code",
   "execution_count": null,
   "id": "994d2696",
   "metadata": {},
   "outputs": [],
   "source": [
    "# Set your API key\n",
    "import os\n",
    "os.environ[\"CLEANLAB_TLM_API_KEY\"] = \"<API key>\" # Get your free API key from: https://tlm.cleanlab.ai/"
   ]
  },
  {
   "cell_type": "code",
   "execution_count": 10,
   "id": "c70303b2-ce6f-4a03-a460-38bd27e8ae9b",
   "metadata": {},
   "outputs": [],
   "source": [
    "import pandas as pd\n",
    "import time\n",
    "import warnings\n",
    "import pinecone\n",
    "import uuid\n",
    "from pinecone import ServerlessSpec\n",
    "from sentence_transformers import SentenceTransformer\n",
    "from typing import List, Tuple, Dict, Optional\n",
    "from difflib import SequenceMatcher\n",
    "import re\n",
    "\n",
    "warnings.simplefilter(action=\"ignore\", category=FutureWarning)"
   ]
  },
  {
   "cell_type": "code",
   "execution_count": 2,
   "id": "c7ff0b6b-3a2b-4e6a-a41a-b0f7a54e32d2",
   "metadata": {},
   "outputs": [],
   "source": [
    "if \"PINECONE_API_KEY\" not in os.environ:\n",
    "    os.environ[\"PINECONE_API_KEY\"] = input(\"Please enter your Pinecone API key: \")"
   ]
  },
  {
   "cell_type": "markdown",
   "id": "e7183c0f-c96f-4335-bc48-d474628dbe30",
   "metadata": {
    "id": "iMSW1p7td0yB"
   },
   "source": [
    "Below is an example of how to set a Python index serverless specification, this allows us to define the cloud provider and region where we want to deploy our index. You can find a list of all [available providers and regions here](https://docs.pinecone.io/docs/projects)."
   ]
  },
  {
   "cell_type": "code",
   "execution_count": 11,
   "id": "28911e33-870c-4150-8bb8-e12f3352b9e2",
   "metadata": {
    "id": "KpRYFxYXd0yB"
   },
   "outputs": [],
   "source": [
    "cloud = os.environ.get(\"PINECONE_CLOUD\") or \"aws\"\n",
    "region = os.environ.get(\"PINECONE_REGION\") or \"us-east-1\"\n",
    "\n",
    "spec = ServerlessSpec(cloud=cloud, region=region)"
   ]
  },
  {
   "cell_type": "markdown",
   "id": "2bf9ee9f-255f-4709-b72c-f81ea118c81a",
   "metadata": {},
   "source": [
    "## Fetch and Load Documents Data\n",
    "\n",
    "First let's fetch the dataset."
   ]
  },
  {
   "cell_type": "code",
   "execution_count": 14,
   "id": "e2c64e38",
   "metadata": {},
   "outputs": [],
   "source": [
    "!wget -nc https://cleanlab-public.s3.amazonaws.com/Datasets/documents-RAG-demo.csv"
   ]
  },
  {
   "cell_type": "markdown",
   "id": "047233fe",
   "metadata": {},
   "source": [
    "Let's read in our documents data that we will use in this workflow. The data columns include the `filename` of the document and the document `text`."
   ]
  },
  {
   "cell_type": "code",
   "execution_count": 23,
   "id": "e6df812f",
   "metadata": {},
   "outputs": [],
   "source": [
    "# Read in dataset\n",
    "df = pd.read_csv(\"documents-RAG-demo.csv\")"
   ]
  },
  {
   "cell_type": "markdown",
   "id": "4396cbcc",
   "metadata": {},
   "source": [
    "As you can see below, some of our documents may have missing text while others do not."
   ]
  },
  {
   "cell_type": "code",
   "execution_count": 4,
   "id": "61f490ad",
   "metadata": {},
   "outputs": [
    {
     "data": {
      "text/html": [
       "<div>\n",
       "<style scoped>\n",
       "    .dataframe tbody tr th:only-of-type {\n",
       "        vertical-align: middle;\n",
       "    }\n",
       "\n",
       "    .dataframe tbody tr th {\n",
       "        vertical-align: top;\n",
       "    }\n",
       "\n",
       "    .dataframe thead th {\n",
       "        text-align: right;\n",
       "    }\n",
       "</style>\n",
       "<table border=\"1\" class=\"dataframe\">\n",
       "  <thead>\n",
       "    <tr style=\"text-align: right;\">\n",
       "      <th></th>\n",
       "      <th>index</th>\n",
       "      <th>filename</th>\n",
       "      <th>text</th>\n",
       "    </tr>\n",
       "  </thead>\n",
       "  <tbody>\n",
       "    <tr>\n",
       "      <th>0</th>\n",
       "      <td>0</td>\n",
       "      <td>documents/Blackstone-Third-Quarter-2023-Invest...</td>\n",
       "      <td>Blackstone Third Quarter 2023 Investor Call Oc...</td>\n",
       "    </tr>\n",
       "    <tr>\n",
       "      <th>1</th>\n",
       "      <td>1</td>\n",
       "      <td>documents/8k-nike.pdf</td>\n",
       "      <td>SECURITIES AND EXCHANGE COMMISSIONFORM 8-K Cur...</td>\n",
       "    </tr>\n",
       "    <tr>\n",
       "      <th>2</th>\n",
       "      <td>2</td>\n",
       "      <td>documents/FY24-Q1-NIKE-Press-Release.pdf</td>\n",
       "      <td>NaN</td>\n",
       "    </tr>\n",
       "    <tr>\n",
       "      <th>3</th>\n",
       "      <td>3</td>\n",
       "      <td>documents/10-K 2022-Apple2.pdf</td>\n",
       "      <td>The future principal payments for the Company\u2019...</td>\n",
       "    </tr>\n",
       "    <tr>\n",
       "      <th>4</th>\n",
       "      <td>4</td>\n",
       "      <td>documents/q3-fy22-earnings-presentation.pdf</td>\n",
       "      <td>Financial\\tpresentation\\tto\\t accompany\\tmanag...</td>\n",
       "    </tr>\n",
       "  </tbody>\n",
       "</table>\n",
       "</div>"
      ],
      "text/plain": [
       "   index                                           filename  \\\n",
       "0      0  documents/Blackstone-Third-Quarter-2023-Invest...   \n",
       "1      1                              documents/8k-nike.pdf   \n",
       "2      2           documents/FY24-Q1-NIKE-Press-Release.pdf   \n",
       "3      3                     documents/10-K 2022-Apple2.pdf   \n",
       "4      4        documents/q3-fy22-earnings-presentation.pdf   \n",
       "\n",
       "                                                text  \n",
       "0  Blackstone Third Quarter 2023 Investor Call Oc...  \n",
       "1  SECURITIES AND EXCHANGE COMMISSIONFORM 8-K Cur...  \n",
       "2                                                NaN  \n",
       "3  The future principal payments for the Company\u2019...  \n",
       "4  Financial\\tpresentation\\tto\\t accompany\\tmanag...  "
      ]
     },
     "execution_count": 4,
     "metadata": {},
     "output_type": "execute_result"
    }
   ],
   "source": [
    "df.head()"
   ]
  },
  {
   "cell_type": "markdown",
   "id": "0f8219ec",
   "metadata": {},
   "source": [
    "## Use TLM to tag your documents with a topic"
   ]
  },
  {
   "cell_type": "markdown",
   "id": "c9f745e2",
   "metadata": {},
   "source": [
    "For our RAG system, it would be ideal to tag each of our documents with a particular topic that is most relevant (based on the text content), which can be used as [metadata](https://docs.pinecone.io/guides/data/filter-with-metadata) we can filter with during retrieval in our RAG system. \n",
    "\n",
    "We can now use the [Trustworthy Language Model (TLM)](https://cleanlab.ai/blog/trustworthy-language-model/) to tag our document chunks with the correct document topic that we can later use to enhance our retrieval process of fetching the correct context from our vector DB."
   ]
  },
  {
   "cell_type": "markdown",
   "id": "a4cc3362",
   "metadata": {},
   "source": [
    "TLM is a more reliable LLM that gives high-quality outputs and indicates when it is unsure of the answer to a question, making it suitable for applications where unchecked hallucinations are a show-stopper."
   ]
  },
  {
   "cell_type": "markdown",
   "id": "e5308022",
   "metadata": {},
   "source": [
    "## Using TLM\n",
    "\n",
    "Here we initialize TLM using a more powerful [configuration](/tlm/tutorials/tlm_advanced/#quality-presets)."
   ]
  },
  {
   "cell_type": "code",
   "execution_count": 13,
   "id": "0f764f6d",
   "metadata": {},
   "outputs": [],
   "source": [
    "from cleanlab_tlm import TLM\n",
    "\n",
    "# Use more powerful OpenAI model with TLM\n",
    "tlm = TLM(quality_preset=\"high\", options={\"model\": \"gpt-4o\"})\n",
    "\n",
    "output = tlm.prompt(\"<your prompt>\")"
   ]
  },
  {
   "cell_type": "markdown",
   "id": "47c191e8",
   "metadata": {},
   "source": [
    "Let's now use TLM to classify the text (tag) into different topics, using code from the [TLM Zero-Shot Classification Tutorial](/tlm/use-cases/zero_shot_classification/). This includes helper functions `parse_category()` and `classify()` defined below."
   ]
  },
  {
   "cell_type": "markdown",
   "id": "8989bd72-292c-43c4-b57e-0abb9d9bde4e",
   "metadata": {},
   "source": [
    "**Optional: Define helper functions to extract categories from the LLM output and classify texts into categories**\n",
    "\n"
   ]
  },
  {
   "cell_type": "code",
   "execution_count": 14,
   "id": "2ab085d3",
   "metadata": {},
   "outputs": [],
   "source": [
    "\n",
    "def parse_category(\n",
    "    response: str,\n",
    "    categories: List[str],\n",
    "    disable_warnings: bool = False\n",
    ") -> str:\n",
    "    \"\"\"\n",
    "    Extracts one of the provided categories from the response using regex patterns.\n",
    "    \n",
    "    If no category out of the possible categories is directly mentioned in the response, \n",
    "    the category with greatest string similarity to the response is returned (along with a warning).\n",
    "    \n",
    "    Args:\n",
    "        response (str): Response from the LLM\n",
    "        categories (List[str]): List of expected categories\n",
    "        disable_warnings (bool): If True, print warnings are disabled\n",
    "    \n",
    "    Returns:\n",
    "        str: The extracted or best-matching category\n",
    "    \"\"\"\n",
    "    response_str = str(response)\n",
    "    escaped_categories = [re.escape(output) for output in categories]\n",
    "    categories_pattern = \"(\" + \"|\".join(escaped_categories) + \")\"\n",
    "\n",
    "    exact_matches = re.findall(categories_pattern, response_str, re.IGNORECASE)\n",
    "    if len(exact_matches) > 0:\n",
    "        return str(exact_matches[-1])\n",
    "\n",
    "    best_match = max(\n",
    "        categories, key=lambda x: SequenceMatcher(None, response_str, x).ratio()\n",
    "    )\n",
    "    similarity_score = SequenceMatcher(None, response_str, best_match).ratio()\n",
    "\n",
    "    if similarity_score < 0.5:\n",
    "        warning_message = f\"None of the categories remotely match raw LLM output: {response_str}.\\nReturning the last entry in the constrain outputs list.\"\n",
    "        best_match = categories[-1]\n",
    "    else:\n",
    "        warning_message = f\"None of the categories match raw LLM output: {response_str}\"\n",
    "\n",
    "    if not disable_warnings:\n",
    "        warnings.warn(warning_message)\n",
    "\n",
    "    return best_match\n",
    "\n",
    "def classify(texts: List[str], categories: List[str], prompt_template: str) -> Tuple[List[str], List[float]]:\n",
    "    \"\"\"\n",
    "    Classifies a list of texts into predefined categories using a language model.\n",
    "    \n",
    "    Args:\n",
    "        texts (List[str]): List of texts to classify\n",
    "        categories (List[str]): List of possible categories\n",
    "        prompt_template (str): Template string for formatting the prompt\n",
    "    \n",
    "    Returns:\n",
    "        Tuple[List[str], List[float]]: A tuple containing two lists:\n",
    "            - List of predicted categories for each text\n",
    "            - List of trustworthiness scores for each prediction\n",
    "    \"\"\"\n",
    "    prompts = [prompt_template.format(text=text) for text in texts]\n",
    "    outputs = tlm.prompt(prompts)\n",
    "    \n",
    "    responses = [output['response'] for output in outputs]\n",
    "    trustworthiness_scores = [output['trustworthiness_score'] for output in outputs]\n",
    "    \n",
    "    predictions = [parse_category(response, categories) for response in responses]\n",
    "    \n",
    "    return predictions, trustworthiness_scores\n"
   ]
  },
  {
   "cell_type": "markdown",
   "id": "a6346850",
   "metadata": {},
   "source": [
    "Now we can define the prompt and categories we will use to tag our documents with the correct topic."
   ]
  },
  {
   "cell_type": "code",
   "execution_count": 15,
   "id": "ada8d9a9",
   "metadata": {},
   "outputs": [],
   "source": [
    "# Use TLM to tag your documents with a topic\n",
    "tagging_prompt = \"\"\"\n",
    "You are an assistant for tagging text as one of several topics. The available topics are:\n",
    "\n",
    "1. 'finance': Related to financial matters, budgeting, accounting, investments, lending, or monetary policies.\n",
    "2. 'hr': Pertaining to Human Resources, including hiring, employee documents (such as a W4 form), employee management, benefits, or workplace policies.\n",
    "3. 'it': Covering Information Technology topics such as software development, network infrastructure, cybersecurity, or tech support.\n",
    "4. 'product': Dealing with a specific company product, product development, management, features, or lifecycle.\n",
    "5. 'sales': Involving selling a product, customer acquisition, revenue generation, or sales performance.\n",
    "\n",
    "If you are not sure which topic to tag the text with, then answer 'unknown'. Only use the lower case text version of the topic name.\n",
    "\n",
    "Task: Analyze the following text and determine the topic it belongs to. Return the topic as a string.\n",
    "\n",
    "Now here is the Text to verify:\n",
    "\n",
    "Text: {text}\n",
    "\n",
    "Topic: \n",
    "\"\"\"\n",
    "\n",
    "categories = ['finance', 'hr', 'it', 'product', 'sales', 'unknown']"
   ]
  },
  {
   "cell_type": "markdown",
   "id": "fa0eefa1",
   "metadata": {},
   "source": [
    "Next we will use our helper functions to tag our documents with the correct topic."
   ]
  },
  {
   "cell_type": "code",
   "execution_count": 16,
   "id": "4e974234",
   "metadata": {},
   "outputs": [
    {
     "name": "stderr",
     "output_type": "stream",
     "text": [
      "Querying TLM...   0%|          |"
     ]
    },
    {
     "name": "stderr",
     "output_type": "stream",
     "text": [
      "Querying TLM... 100%|\u2588\u2588\u2588\u2588\u2588\u2588\u2588\u2588\u2588\u2588|\n"
     ]
    }
   ],
   "source": [
    "predictions, trustworthiness_scores = classify(df[\"text\"].tolist(), categories, tagging_prompt)\n",
    "\n",
    "topics_df = df.copy()\n",
    "topics_df['topic'] = predictions\n",
    "topics_df['topic_trustworthiness'] = trustworthiness_scores"
   ]
  },
  {
   "cell_type": "code",
   "execution_count": 17,
   "id": "5b920a8a",
   "metadata": {},
   "outputs": [
    {
     "data": {
      "text/html": [
       "<div>\n",
       "<style scoped>\n",
       "    .dataframe tbody tr th:only-of-type {\n",
       "        vertical-align: middle;\n",
       "    }\n",
       "\n",
       "    .dataframe tbody tr th {\n",
       "        vertical-align: top;\n",
       "    }\n",
       "\n",
       "    .dataframe thead th {\n",
       "        text-align: right;\n",
       "    }\n",
       "</style>\n",
       "<table border=\"1\" class=\"dataframe\">\n",
       "  <thead>\n",
       "    <tr style=\"text-align: right;\">\n",
       "      <th></th>\n",
       "      <th>index</th>\n",
       "      <th>filename</th>\n",
       "      <th>text</th>\n",
       "      <th>topic</th>\n",
       "      <th>topic_trustworthiness</th>\n",
       "    </tr>\n",
       "  </thead>\n",
       "  <tbody>\n",
       "    <tr>\n",
       "      <th>0</th>\n",
       "      <td>0</td>\n",
       "      <td>documents/Blackstone-Third-Quarter-2023-Invest...</td>\n",
       "      <td>Blackstone Third Quarter 2023 Investor Call Oc...</td>\n",
       "      <td>finance</td>\n",
       "      <td>0.985678</td>\n",
       "    </tr>\n",
       "    <tr>\n",
       "      <th>1</th>\n",
       "      <td>1</td>\n",
       "      <td>documents/8k-nike.pdf</td>\n",
       "      <td>SECURITIES AND EXCHANGE COMMISSIONFORM 8-K Cur...</td>\n",
       "      <td>finance</td>\n",
       "      <td>0.947063</td>\n",
       "    </tr>\n",
       "    <tr>\n",
       "      <th>2</th>\n",
       "      <td>2</td>\n",
       "      <td>documents/FY24-Q1-NIKE-Press-Release.pdf</td>\n",
       "      <td>NaN</td>\n",
       "      <td>unknown</td>\n",
       "      <td>0.963138</td>\n",
       "    </tr>\n",
       "    <tr>\n",
       "      <th>3</th>\n",
       "      <td>3</td>\n",
       "      <td>documents/10-K 2022-Apple2.pdf</td>\n",
       "      <td>The future principal payments for the Company\u2019...</td>\n",
       "      <td>finance</td>\n",
       "      <td>0.952134</td>\n",
       "    </tr>\n",
       "    <tr>\n",
       "      <th>4</th>\n",
       "      <td>4</td>\n",
       "      <td>documents/q3-fy22-earnings-presentation.pdf</td>\n",
       "      <td>Financial\\tpresentation\\tto\\t accompany\\tmanag...</td>\n",
       "      <td>finance</td>\n",
       "      <td>0.985763</td>\n",
       "    </tr>\n",
       "  </tbody>\n",
       "</table>\n",
       "</div>"
      ],
      "text/plain": [
       "   index                                           filename  \\\n",
       "0      0  documents/Blackstone-Third-Quarter-2023-Invest...   \n",
       "1      1                              documents/8k-nike.pdf   \n",
       "2      2           documents/FY24-Q1-NIKE-Press-Release.pdf   \n",
       "3      3                     documents/10-K 2022-Apple2.pdf   \n",
       "4      4        documents/q3-fy22-earnings-presentation.pdf   \n",
       "\n",
       "                                                text    topic  \\\n",
       "0  Blackstone Third Quarter 2023 Investor Call Oc...  finance   \n",
       "1  SECURITIES AND EXCHANGE COMMISSIONFORM 8-K Cur...  finance   \n",
       "2                                                NaN  unknown   \n",
       "3  The future principal payments for the Company\u2019...  finance   \n",
       "4  Financial\\tpresentation\\tto\\t accompany\\tmanag...  finance   \n",
       "\n",
       "   topic_trustworthiness  \n",
       "0               0.985678  \n",
       "1               0.947063  \n",
       "2               0.963138  \n",
       "3               0.952134  \n",
       "4               0.985763  "
      ]
     },
     "execution_count": 17,
     "metadata": {},
     "output_type": "execute_result"
    }
   ],
   "source": [
    "# Display results\n",
    "topics_df.head()"
   ]
  },
  {
   "cell_type": "markdown",
   "id": "548099d7",
   "metadata": {},
   "source": [
    "As seen above, after running `classify()`, you will notice two new columns in the dataset: \n",
    "\n",
    "- `topic`, a column with the response that we prompted for \n",
    "- `topic_trustworthiness`, a corresponding trustworthiness score, quantifying how confident you can be that the response is correct"
   ]
  },
  {
   "cell_type": "markdown",
   "id": "40623b63",
   "metadata": {},
   "source": [
    "Now we can use TLM's trustworthiness score (obtained in our results as `topic_trustworthiness`) to see which of our automatically-produced topic tags are the most trustworthy and least trustworthy.\n",
    "For cases where the `topic_trustworthiness` is low, we'll replace the `topic` value with `unknown` since we can't be sure to trust the predicted topic.\n",
    "You can determine a good threshold by sorting the results by trustworthiness score and inspecting where topic values begin to appear consistently inaccurate.\n",
    "\n",
    "Your team can alternatively review low-trustworthiness LLM responses and manually provide a better response instead."
   ]
  },
  {
   "cell_type": "code",
   "execution_count": 18,
   "id": "e129a070",
   "metadata": {},
   "outputs": [
    {
     "data": {
      "text/html": [
       "<div>\n",
       "<style scoped>\n",
       "    .dataframe tbody tr th:only-of-type {\n",
       "        vertical-align: middle;\n",
       "    }\n",
       "\n",
       "    .dataframe tbody tr th {\n",
       "        vertical-align: top;\n",
       "    }\n",
       "\n",
       "    .dataframe thead th {\n",
       "        text-align: right;\n",
       "    }\n",
       "</style>\n",
       "<table border=\"1\" class=\"dataframe\">\n",
       "  <thead>\n",
       "    <tr style=\"text-align: right;\">\n",
       "      <th></th>\n",
       "      <th>index</th>\n",
       "      <th>filename</th>\n",
       "      <th>text</th>\n",
       "      <th>topic</th>\n",
       "      <th>topic_trustworthiness</th>\n",
       "    </tr>\n",
       "  </thead>\n",
       "  <tbody>\n",
       "    <tr>\n",
       "      <th>31</th>\n",
       "      <td>31</td>\n",
       "      <td>documents/hiring-process-infographic.pdf</td>\n",
       "      <td>County of Santa ClaraHiring Options For Manage...</td>\n",
       "      <td>hr</td>\n",
       "      <td>0.998459</td>\n",
       "    </tr>\n",
       "    <tr>\n",
       "      <th>97</th>\n",
       "      <td>97</td>\n",
       "      <td>documents/sales-process.pptx</td>\n",
       "      <td>The Sales Process and Techniques Marketing Pri...</td>\n",
       "      <td>sales</td>\n",
       "      <td>0.998156</td>\n",
       "    </tr>\n",
       "    <tr>\n",
       "      <th>102</th>\n",
       "      <td>102</td>\n",
       "      <td>documents/the-selling-process-1.pdf</td>\n",
       "      <td>ObjectiveThe nature of the customer.\\tGenerall...</td>\n",
       "      <td>sales</td>\n",
       "      <td>0.996991</td>\n",
       "    </tr>\n",
       "    <tr>\n",
       "      <th>95</th>\n",
       "      <td>95</td>\n",
       "      <td>documents/the-selling-process-2.pdf</td>\n",
       "      <td>ObjectivePreparing to sell No\\tmatter\\twhat\\tp...</td>\n",
       "      <td>sales</td>\n",
       "      <td>0.994916</td>\n",
       "    </tr>\n",
       "    <tr>\n",
       "      <th>101</th>\n",
       "      <td>101</td>\n",
       "      <td>documents/best- buy-sales-doc.docx</td>\n",
       "      <td>Essential Sales Strategies - Closing the DealT...</td>\n",
       "      <td>sales</td>\n",
       "      <td>0.994565</td>\n",
       "    </tr>\n",
       "    <tr>\n",
       "      <th>96</th>\n",
       "      <td>96</td>\n",
       "      <td>documents/selling-on-amazon-welcome.pdf</td>\n",
       "      <td>The beginner\u2019s guide toSelling on AmazonWelcom...</td>\n",
       "      <td>sales</td>\n",
       "      <td>0.990125</td>\n",
       "    </tr>\n",
       "    <tr>\n",
       "      <th>63</th>\n",
       "      <td>63</td>\n",
       "      <td>documents/TecNewEquipmentRequest.pdf</td>\n",
       "      <td>Grade Level/Dept StaffYes Cost: ______________...</td>\n",
       "      <td>it</td>\n",
       "      <td>0.988642</td>\n",
       "    </tr>\n",
       "    <tr>\n",
       "      <th>75</th>\n",
       "      <td>75</td>\n",
       "      <td>documents/plug-test-caps.pdf</td>\n",
       "      <td>Plug-On Test Caps Product SpecificationsFEATUR...</td>\n",
       "      <td>product</td>\n",
       "      <td>0.988273</td>\n",
       "    </tr>\n",
       "    <tr>\n",
       "      <th>4</th>\n",
       "      <td>4</td>\n",
       "      <td>documents/q3-fy22-earnings-presentation.pdf</td>\n",
       "      <td>Financial\\tpresentation\\tto\\t accompany\\tmanag...</td>\n",
       "      <td>finance</td>\n",
       "      <td>0.985763</td>\n",
       "    </tr>\n",
       "    <tr>\n",
       "      <th>0</th>\n",
       "      <td>0</td>\n",
       "      <td>documents/Blackstone-Third-Quarter-2023-Invest...</td>\n",
       "      <td>Blackstone Third Quarter 2023 Investor Call Oc...</td>\n",
       "      <td>finance</td>\n",
       "      <td>0.985678</td>\n",
       "    </tr>\n",
       "  </tbody>\n",
       "</table>\n",
       "</div>"
      ],
      "text/plain": [
       "     index                                           filename  \\\n",
       "31      31           documents/hiring-process-infographic.pdf   \n",
       "97      97                       documents/sales-process.pptx   \n",
       "102    102                documents/the-selling-process-1.pdf   \n",
       "95      95                documents/the-selling-process-2.pdf   \n",
       "101    101                 documents/best- buy-sales-doc.docx   \n",
       "96      96            documents/selling-on-amazon-welcome.pdf   \n",
       "63      63               documents/TecNewEquipmentRequest.pdf   \n",
       "75      75                       documents/plug-test-caps.pdf   \n",
       "4        4        documents/q3-fy22-earnings-presentation.pdf   \n",
       "0        0  documents/Blackstone-Third-Quarter-2023-Invest...   \n",
       "\n",
       "                                                  text    topic  \\\n",
       "31   County of Santa ClaraHiring Options For Manage...       hr   \n",
       "97   The Sales Process and Techniques Marketing Pri...    sales   \n",
       "102  ObjectiveThe nature of the customer.\\tGenerall...    sales   \n",
       "95   ObjectivePreparing to sell No\\tmatter\\twhat\\tp...    sales   \n",
       "101  Essential Sales Strategies - Closing the DealT...    sales   \n",
       "96   The beginner\u2019s guide toSelling on AmazonWelcom...    sales   \n",
       "63   Grade Level/Dept StaffYes Cost: ______________...       it   \n",
       "75   Plug-On Test Caps Product SpecificationsFEATUR...  product   \n",
       "4    Financial\\tpresentation\\tto\\t accompany\\tmanag...  finance   \n",
       "0    Blackstone Third Quarter 2023 Investor Call Oc...  finance   \n",
       "\n",
       "     topic_trustworthiness  \n",
       "31                0.998459  \n",
       "97                0.998156  \n",
       "102               0.996991  \n",
       "95                0.994916  \n",
       "101               0.994565  \n",
       "96                0.990125  \n",
       "63                0.988642  \n",
       "75                0.988273  \n",
       "4                 0.985763  \n",
       "0                 0.985678  "
      ]
     },
     "execution_count": 18,
     "metadata": {},
     "output_type": "execute_result"
    }
   ],
   "source": [
    "sorted_topic_df = topics_df.sort_values(\n",
    "    by=\"topic_trustworthiness\", ascending=False\n",
    ").copy()\n",
    "sorted_topic_df.head(10)"
   ]
  },
  {
   "cell_type": "code",
   "execution_count": 19,
   "id": "d734a696",
   "metadata": {},
   "outputs": [
    {
     "data": {
      "text/html": [
       "<div>\n",
       "<style scoped>\n",
       "    .dataframe tbody tr th:only-of-type {\n",
       "        vertical-align: middle;\n",
       "    }\n",
       "\n",
       "    .dataframe tbody tr th {\n",
       "        vertical-align: top;\n",
       "    }\n",
       "\n",
       "    .dataframe thead th {\n",
       "        text-align: right;\n",
       "    }\n",
       "</style>\n",
       "<table border=\"1\" class=\"dataframe\">\n",
       "  <thead>\n",
       "    <tr style=\"text-align: right;\">\n",
       "      <th></th>\n",
       "      <th>index</th>\n",
       "      <th>filename</th>\n",
       "      <th>text</th>\n",
       "      <th>topic</th>\n",
       "      <th>topic_trustworthiness</th>\n",
       "    </tr>\n",
       "  </thead>\n",
       "  <tbody>\n",
       "    <tr>\n",
       "      <th>80</th>\n",
       "      <td>80</td>\n",
       "      <td>documents/product-instructions-oven.docx</td>\n",
       "      <td>Talking Combination Oven ES7253Product Instruc...</td>\n",
       "      <td>product</td>\n",
       "      <td>0.931520</td>\n",
       "    </tr>\n",
       "    <tr>\n",
       "      <th>64</th>\n",
       "      <td>64</td>\n",
       "      <td>documents/internet_safety.pptx</td>\n",
       "      <td>INTERNET SAFETYIntervention and PreventionTrai...</td>\n",
       "      <td>it</td>\n",
       "      <td>0.924140</td>\n",
       "    </tr>\n",
       "    <tr>\n",
       "      <th>14</th>\n",
       "      <td>14</td>\n",
       "      <td>documents/RetailMailings.doc</td>\n",
       "      <td>Fidelity Investments FundsNetwork\uf0e2Procedures f...</td>\n",
       "      <td>finance</td>\n",
       "      <td>0.899811</td>\n",
       "    </tr>\n",
       "    <tr>\n",
       "      <th>20</th>\n",
       "      <td>20</td>\n",
       "      <td>documents/UnreleasedGames.doc</td>\n",
       "      <td>EVERY GAME THAT WAS NEVER RELEASED FOR THE SPE...</td>\n",
       "      <td>unknown</td>\n",
       "      <td>0.847405</td>\n",
       "    </tr>\n",
       "    <tr>\n",
       "      <th>56</th>\n",
       "      <td>56</td>\n",
       "      <td>documents/K-5-internet_safety.ppt</td>\n",
       "      <td>INTERNET SAFETYWhat is the Internet &amp;Why is it...</td>\n",
       "      <td>it</td>\n",
       "      <td>0.838359</td>\n",
       "    </tr>\n",
       "    <tr>\n",
       "      <th>84</th>\n",
       "      <td>84</td>\n",
       "      <td>documents/smp-application-table.docx</td>\n",
       "      <td>Streaming Media Player ApplicationPlease revie...</td>\n",
       "      <td>product</td>\n",
       "      <td>0.814944</td>\n",
       "    </tr>\n",
       "    <tr>\n",
       "      <th>58</th>\n",
       "      <td>58</td>\n",
       "      <td>documents/ElectricalRequestForm.pdf</td>\n",
       "      <td>Use this form to request parts and equipment f...</td>\n",
       "      <td>unknown</td>\n",
       "      <td>0.768220</td>\n",
       "    </tr>\n",
       "    <tr>\n",
       "      <th>59</th>\n",
       "      <td>59</td>\n",
       "      <td>documents/internetsafety.ppt</td>\n",
       "      <td>Santa Rosa District SchoolsINTERNET SAFETYNove...</td>\n",
       "      <td>unknown</td>\n",
       "      <td>0.729705</td>\n",
       "    </tr>\n",
       "    <tr>\n",
       "      <th>8</th>\n",
       "      <td>8</td>\n",
       "      <td>documents/LD_Trucost_Company_Presentation_0504...</td>\n",
       "      <td>Quantitative Environmental Performance Measure...</td>\n",
       "      <td>finance</td>\n",
       "      <td>0.726891</td>\n",
       "    </tr>\n",
       "    <tr>\n",
       "      <th>35</th>\n",
       "      <td>35</td>\n",
       "      <td>documents/Research-Assistant.pdf</td>\n",
       "      <td>Job Description and Responsibilities forResear...</td>\n",
       "      <td>product</td>\n",
       "      <td>0.544833</td>\n",
       "    </tr>\n",
       "  </tbody>\n",
       "</table>\n",
       "</div>"
      ],
      "text/plain": [
       "    index                                           filename  \\\n",
       "80     80           documents/product-instructions-oven.docx   \n",
       "64     64                     documents/internet_safety.pptx   \n",
       "14     14                       documents/RetailMailings.doc   \n",
       "20     20                      documents/UnreleasedGames.doc   \n",
       "56     56                  documents/K-5-internet_safety.ppt   \n",
       "84     84               documents/smp-application-table.docx   \n",
       "58     58                documents/ElectricalRequestForm.pdf   \n",
       "59     59                       documents/internetsafety.ppt   \n",
       "8       8  documents/LD_Trucost_Company_Presentation_0504...   \n",
       "35     35                   documents/Research-Assistant.pdf   \n",
       "\n",
       "                                                 text    topic  \\\n",
       "80  Talking Combination Oven ES7253Product Instruc...  product   \n",
       "64  INTERNET SAFETYIntervention and PreventionTrai...       it   \n",
       "14  Fidelity Investments FundsNetwork\uf0e2Procedures f...  finance   \n",
       "20  EVERY GAME THAT WAS NEVER RELEASED FOR THE SPE...  unknown   \n",
       "56  INTERNET SAFETYWhat is the Internet &Why is it...       it   \n",
       "84  Streaming Media Player ApplicationPlease revie...  product   \n",
       "58  Use this form to request parts and equipment f...  unknown   \n",
       "59  Santa Rosa District SchoolsINTERNET SAFETYNove...  unknown   \n",
       "8   Quantitative Environmental Performance Measure...  finance   \n",
       "35  Job Description and Responsibilities forResear...  product   \n",
       "\n",
       "    topic_trustworthiness  \n",
       "80               0.931520  \n",
       "64               0.924140  \n",
       "14               0.899811  \n",
       "20               0.847405  \n",
       "56               0.838359  \n",
       "84               0.814944  \n",
       "58               0.768220  \n",
       "59               0.729705  \n",
       "8                0.726891  \n",
       "35               0.544833  "
      ]
     },
     "execution_count": 19,
     "metadata": {},
     "output_type": "execute_result"
    }
   ],
   "source": [
    "sorted_topic_df.tail(10)"
   ]
  },
  {
   "cell_type": "markdown",
   "id": "57021901",
   "metadata": {},
   "source": [
    "After sorting the results in descending order by the `topic_trustworthiness` score, the results seem to be less trustworthy for scores less than 0.8.\n",
    "\n",
    "Let's replace each of these less trustworthy`topic` responses with `unknown` now."
   ]
  },
  {
   "cell_type": "code",
   "execution_count": 20,
   "id": "a4db9c91",
   "metadata": {},
   "outputs": [],
   "source": [
    "topics_df.loc[topics_df[\"topic_trustworthiness\"] < 0.8, \"topic\"] = (\n",
    "    \"unknown\"\n",
    ")"
   ]
  },
  {
   "cell_type": "markdown",
   "id": "aea06568",
   "metadata": {},
   "source": [
    "To get a sense of the distribution of topics we've tagged in our documents data, let's look at the distribution now:"
   ]
  },
  {
   "cell_type": "code",
   "execution_count": 21,
   "id": "6ff9fe63",
   "metadata": {},
   "outputs": [
    {
     "name": "stdout",
     "output_type": "stream",
     "text": [
      "\n",
      "Topic Column Distribution:\n",
      "topic\n",
      "hr         26\n",
      "product    19\n",
      "finance    18\n",
      "sales      16\n",
      "unknown    13\n",
      "it         11\n",
      "Name: count, dtype: int64\n",
      "\n",
      "Topic Percentage Distribution:\n",
      "topic\n",
      "hr         25.242718\n",
      "product    18.446602\n",
      "finance    17.475728\n",
      "sales      15.533981\n",
      "unknown    12.621359\n",
      "it         10.679612\n",
      "Name: proportion, dtype: float64\n"
     ]
    }
   ],
   "source": [
    "topic_counts = topics_df[\"topic\"].value_counts(dropna=False)\n",
    "print(f\"\\nTopic Column Distribution:\\n{topic_counts}\")\n",
    "\n",
    "# Percentage distribution of topics\n",
    "topic_percentages = topics_df[\"topic\"].value_counts(normalize=True) * 100\n",
    "print(f\"\\nTopic Percentage Distribution:\\n{topic_percentages}\")"
   ]
  },
  {
   "cell_type": "markdown",
   "id": "a2925cae",
   "metadata": {},
   "source": [
    "## Initialize RAG Pipeline using our documents data"
   ]
  },
  {
   "cell_type": "markdown",
   "id": "393cfdee-eb84-4cef-a12c-072ee93c770b",
   "metadata": {},
   "source": [
    "**Optional: Define PineconeRAGPipeline class to index and search documents using Pinecone**\n",
    "\n"
   ]
  },
  {
   "cell_type": "code",
   "execution_count": 15,
   "id": "a4bf075a",
   "metadata": {},
   "outputs": [],
   "source": [
    "\n",
    "class PineconeRAGPipeline:\n",
    "    def __init__(\n",
    "        self,\n",
    "        model_name: str = \"paraphrase-MiniLM-L6-v2\",\n",
    "        index_name: str = \"document-index\",\n",
    "        cloud: str = \"aws\",\n",
    "        region: str = \"us-east-1\",\n",
    "    ):\n",
    "        \"\"\"\n",
    "        Initialize the PineconeRAGPipeline with a specified model and index name.\n",
    "\n",
    "        Args:\n",
    "            model_name (str): Name of the SentenceTransformer model to use.\n",
    "            index_name (str): Name of the Pinecone index to create or connect to.\n",
    "            cloud (str): Cloud provider for Pinecone.\n",
    "            region (str): Region for the Pinecone service.\n",
    "        \"\"\"\n",
    "        self.model = SentenceTransformer(model_name)\n",
    "        if not os.environ.get(\"PINECONE_API_KEY\"):\n",
    "            os.environ[\"PINECONE_API_KEY\"] = \"YOUR PINECONE API KEY HERE\"\n",
    "        self.pc = pinecone.Pinecone(api_key=os.environ.get(\"PINECONE_API_KEY\"))\n",
    "        self.index_name = index_name\n",
    "\n",
    "        existing_indexes = self.pc.list_indexes()\n",
    "\n",
    "        if self.index_name not in existing_indexes:\n",
    "            try:\n",
    "                print(f\"Creating new index: {self.index_name}\")\n",
    "                self.pc.create_index(\n",
    "                    name=self.index_name,\n",
    "                    dimension=self.model.get_sentence_embedding_dimension(),\n",
    "                    metric=\"cosine\",\n",
    "                    spec=pinecone.ServerlessSpec(cloud=cloud, region=region),\n",
    "                )\n",
    "            except Exception as e:\n",
    "                if \"ALREADY_EXISTS\" in str(e):\n",
    "                    print(\n",
    "                        f\"Index {self.index_name} already exists. Connecting to existing index.\"\n",
    "                    )\n",
    "                else:\n",
    "                    raise e\n",
    "        else:\n",
    "            print(\n",
    "                f\"Index {self.index_name} already exists. Connecting to existing index.\"\n",
    "            )\n",
    "\n",
    "        self.index = self.pc.Index(self.index_name)\n",
    "\n",
    "    def chunk_text(self, text: str, max_tokens: int = 256) -> List[str]:\n",
    "        \"\"\"\n",
    "        Split text into chunks based on a maximum token size.\n",
    "\n",
    "        Args:\n",
    "            text (str): The document text to be chunked.\n",
    "            max_tokens (int): The maximum number of tokens per chunk.\n",
    "\n",
    "        Returns:\n",
    "            List[str]: List of text chunks.\n",
    "        \"\"\"\n",
    "        words = text.split()\n",
    "        chunks = []\n",
    "        current_chunk = []\n",
    "        current_chunk_tokens = 0\n",
    "\n",
    "        for word in words:\n",
    "            word_tokens = len(self.model.tokenize([word])[\"input_ids\"][0])\n",
    "            if current_chunk_tokens + word_tokens > max_tokens and current_chunk:\n",
    "                chunks.append(\" \".join(current_chunk))\n",
    "                current_chunk = []\n",
    "                current_chunk_tokens = 0\n",
    "\n",
    "            current_chunk.append(word)\n",
    "            current_chunk_tokens += word_tokens\n",
    "\n",
    "        if current_chunk:\n",
    "            chunks.append(\" \".join(current_chunk))\n",
    "\n",
    "        for i, chunk in enumerate(chunks):\n",
    "            print(\n",
    "                f\"Chunk {i+1} length: {len(chunk)} characters, \"\n",
    "                f\"{len(self.model.tokenize([chunk])['input_ids'][0])} tokens\"\n",
    "            )\n",
    "\n",
    "        return chunks\n",
    "\n",
    "    def index_documents(self, df: pd.DataFrame) -> int:\n",
    "        \"\"\"\n",
    "        Index documents from a DataFrame with specific metadata structure.\n",
    "\n",
    "        Args:\n",
    "            df (pd.DataFrame): DataFrame containing document information and metadata.\n",
    "                               Expected columns: 'text', 'filename', 'topic'\n",
    "\n",
    "        Returns:\n",
    "            int: The number of chunks successfully indexed.\n",
    "        \"\"\"\n",
    "        valid_docs = []\n",
    "        valid_metadata = []\n",
    "        generated_ids = []\n",
    "\n",
    "        print(\"Starting document processing...\")\n",
    "\n",
    "        for idx, row in df.iterrows():\n",
    "            if pd.isna(row[\"text\"]) or pd.isna(row[\"filename\"]) or pd.isna(row[\"topic\"]):\n",
    "                print(f\"Skipping invalid document at index {idx}: {row['filename']}\")\n",
    "                continue\n",
    "\n",
    "            doc = str(row[\"text\"])\n",
    "            print(f\"Processing document {row['filename']} at index {idx}...\")\n",
    "\n",
    "            chunks = self.chunk_text(doc)\n",
    "\n",
    "            for i, chunk in enumerate(chunks):\n",
    "                chunk_id = str(uuid.uuid4())\n",
    "                chunk_metadata = {\n",
    "                    \"filename\": row[\"filename\"],\n",
    "                    \"topic\": row[\"topic\"],\n",
    "                    \"chunk_index\": i,\n",
    "                    \"total_chunks\": len(chunks),\n",
    "                    \"chunk_id\": chunk_id,\n",
    "                }\n",
    "                valid_docs.append(chunk)\n",
    "                valid_metadata.append(chunk_metadata)\n",
    "                generated_ids.append(chunk_id)\n",
    "\n",
    "        print(f\"Total chunks to encode: {len(valid_docs)}\")\n",
    "\n",
    "        if not valid_docs:\n",
    "            print(\"No valid documents to index.\")\n",
    "            return 0\n",
    "\n",
    "        doc_embeddings = self.model.encode(valid_docs)\n",
    "\n",
    "        batch_size = 100\n",
    "        for i in range(0, len(valid_docs), batch_size):\n",
    "            batch_docs = valid_docs[i : i + batch_size]\n",
    "            batch_metadata = valid_metadata[i : i + batch_size]\n",
    "            batch_embeddings = doc_embeddings[i : i + batch_size]\n",
    "\n",
    "            vectors = [\n",
    "                (\n",
    "                    generated_ids[i + j],\n",
    "                    embedding.tolist(),\n",
    "                    {**metadata, \"text\": doc[:1000]},\n",
    "                )\n",
    "                for j, (doc, embedding, metadata) in enumerate(\n",
    "                    zip(batch_docs, batch_embeddings, batch_metadata)\n",
    "                )\n",
    "            ]\n",
    "\n",
    "            try:\n",
    "                self.index.upsert(vectors=vectors)\n",
    "                print(f\"Successfully indexed batch of {len(vectors)} chunks.\")\n",
    "            except Exception as e:\n",
    "                print(f\"Error during upsert: {e}\")\n",
    "\n",
    "        print(\"Document indexing completed.\")\n",
    "        return len(valid_docs)\n",
    "\n",
    "    def search(\n",
    "        self, query: str, top_k: int = 5, filter_query: Optional[Dict] = None\n",
    "    ) -> List[Tuple[str, Dict]]:\n",
    "        \"\"\"\n",
    "        Search for the top_k most relevant documents based on the input query and optional filter.\n",
    "\n",
    "        Args:\n",
    "            query (str): The search query text.\n",
    "            top_k (int): The number of top relevant documents to return.\n",
    "            filter_query (Optional[Dict]): Optional filter query to apply during search.\n",
    "\n",
    "        Returns:\n",
    "            List[Tuple[str, Dict]]: List of top_k relevant document texts and their metadata.\n",
    "                                    Each tuple contains (document_text, metadata_dict).\n",
    "        \"\"\"\n",
    "        query_embedding = self.model.encode(query)\n",
    "\n",
    "        try:\n",
    "            results = self.index.query(\n",
    "                vector=query_embedding.tolist(),\n",
    "                top_k=top_k,\n",
    "                filter=filter_query,\n",
    "                include_metadata=True,\n",
    "            )\n",
    "\n",
    "            return [\n",
    "                (\n",
    "                    match.metadata[\"text\"],\n",
    "                    {k: v for k, v in match.metadata.items() if k != \"text\"},\n",
    "                )\n",
    "                for match in results.matches\n",
    "            ]\n",
    "        except Exception as e:\n",
    "            print(f\"Error during search: {e}\")\n",
    "            return []\n",
    "\n",
    "    def delete_index(self) -> None:\n",
    "        \"\"\"\n",
    "        Delete the Pinecone index.\n",
    "\n",
    "        Raises:\n",
    "            Exception: If there's an error during the deletion process.\n",
    "        \"\"\"\n",
    "        try:\n",
    "            self.pc.delete_index(self.index_name)\n",
    "            print(f\"Index '{self.index_name}' has been deleted.\")\n",
    "        except Exception as e:\n",
    "            print(f\"Error deleting index: {e}\")\n",
    "\n",
    "    def extract_all_chunks_from_index(self, max_chunks: int = 10000) -> pd.DataFrame:\n",
    "        \"\"\"\n",
    "        Extract all document chunks and metadata from the Pinecone index into a DataFrame.\n",
    "\n",
    "        Args:\n",
    "            max_chunks (int): Maximum number of chunks to retrieve.\n",
    "\n",
    "        Returns:\n",
    "            pd.DataFrame: DataFrame containing chunk data and metadata.\n",
    "                          Columns include all metadata fields stored in the index.\n",
    "\n",
    "        Raises:\n",
    "            Exception: If there's an error retrieving chunks from the index.\n",
    "        \"\"\"\n",
    "        stats = self.index.describe_index_stats()\n",
    "        total_vectors = stats.total_vector_count\n",
    "        dimension = stats.dimension\n",
    "\n",
    "        print(f\"Index name: {self.index_name}\")\n",
    "        print(f\"Total vectors according to stats: {total_vectors}\")\n",
    "        print(f\"Vector dimension: {dimension}\")\n",
    "\n",
    "        try:\n",
    "            results = self.index.query(\n",
    "                vector=[0.0] * dimension,\n",
    "                top_k=max_chunks,\n",
    "                include_values=False,\n",
    "                include_metadata=True,\n",
    "            )\n",
    "\n",
    "            chunk_data = [match.metadata for match in results.matches]\n",
    "            chunk_df = pd.DataFrame(chunk_data)\n",
    "\n",
    "            print(f\"Total chunks retrieved: {len(chunk_df)}\")\n",
    "            return chunk_df\n",
    "\n",
    "        except Exception as e:\n",
    "            print(f\"Error retrieving chunks from index: {e}\")\n",
    "            return pd.DataFrame()\n",
    "\n",
    "    def delete_chunks(self, chunk_ids: List[str]) -> None:\n",
    "        \"\"\"\n",
    "        Delete specific chunks from the Pinecone index.\n",
    "\n",
    "        Args:\n",
    "            chunk_ids (List[str]): List of chunk IDs to delete.\n",
    "\n",
    "        Raises:\n",
    "            Exception: If there's an error during the deletion process.\n",
    "        \"\"\"\n",
    "        try:\n",
    "            self.index.delete(ids=chunk_ids)\n",
    "            print(f\"Successfully deleted {len(chunk_ids)} chunks from the index.\")\n",
    "        except Exception as e:\n",
    "            print(f\"Error deleting chunks: {e}\")\n",
    "            print(f\"Problematic chunk IDs: {chunk_ids}\")\n",
    "\n",
    "        print(f\"Finished deletion process for {len(chunk_ids)} chunks.\")"
   ]
  },
  {
   "cell_type": "markdown",
   "id": "04890aea",
   "metadata": {},
   "source": [
    "Let's use the RAG pipeline we have defined above to create a Pinecone index - then we upsert our document chunks into our vector DB in batches."
   ]
  },
  {
   "cell_type": "code",
   "execution_count": 115,
   "id": "076081ad",
   "metadata": {},
   "outputs": [],
   "source": [
    "# Create RAG pipeline on unfiltered documents\n",
    "rag_pipeline = PineconeRAGPipeline(index_name=\"cleanlab-pinecone-index\")\n",
    "rag_pipeline.index_documents(topics_df)"
   ]
  },
  {
   "cell_type": "markdown",
   "id": "ab666388",
   "metadata": {},
   "source": [
    "After upserting our document chunks, let's now confirm that the upsertion worked properly (after waiting 30 seconds to give the vector DB time to update) by reading the document chunks into a new DataFrame `chunk_df`."
   ]
  },
  {
   "cell_type": "code",
   "execution_count": 18,
   "id": "2783e5b0",
   "metadata": {},
   "outputs": [
    {
     "name": "stdout",
     "output_type": "stream",
     "text": [
      "Index name: cleanlab-pinecone-index\n",
      "Total vectors according to stats: 2432\n",
      "Vector dimension: 384\n",
      "Total chunks retrieved: 2432\n"
     ]
    },
    {
     "data": {
      "text/html": [
       "<div>\n",
       "<style scoped>\n",
       "    .dataframe tbody tr th:only-of-type {\n",
       "        vertical-align: middle;\n",
       "    }\n",
       "\n",
       "    .dataframe tbody tr th {\n",
       "        vertical-align: top;\n",
       "    }\n",
       "\n",
       "    .dataframe thead th {\n",
       "        text-align: right;\n",
       "    }\n",
       "</style>\n",
       "<table border=\"1\" class=\"dataframe\">\n",
       "  <thead>\n",
       "    <tr style=\"text-align: right;\">\n",
       "      <th></th>\n",
       "      <th>chunk_id</th>\n",
       "      <th>chunk_index</th>\n",
       "      <th>filename</th>\n",
       "      <th>text</th>\n",
       "      <th>topic</th>\n",
       "      <th>total_chunks</th>\n",
       "    </tr>\n",
       "  </thead>\n",
       "  <tbody>\n",
       "    <tr>\n",
       "      <th>0</th>\n",
       "      <td>93b8208c-ed08-4dca-bc3a-f0a3a851e647</td>\n",
       "      <td>4.0</td>\n",
       "      <td>documents/Walmart_2022_Investor_Information.pdf</td>\n",
       "      <td>follows:2023HighLow1st Quarter(1)$146.94$132.0...</td>\n",
       "      <td>finance</td>\n",
       "      <td>9.0</td>\n",
       "    </tr>\n",
       "    <tr>\n",
       "      <th>1</th>\n",
       "      <td>c77a729a-2099-4563-b9f6-95bbe91b57a1</td>\n",
       "      <td>5.0</td>\n",
       "      <td>documents/2012_14.doc</td>\n",
       "      <td>Pay transactions on HUE01 using the following ...</td>\n",
       "      <td>hr</td>\n",
       "      <td>17.0</td>\n",
       "    </tr>\n",
       "    <tr>\n",
       "      <th>2</th>\n",
       "      <td>5509e93a-bfe6-4692-a793-b68999e62bd2</td>\n",
       "      <td>5.0</td>\n",
       "      <td>documents/internet_safety.pptx</td>\n",
       "      <td>751-5980 (800) 487-1626 (8 a.m. to 5 p.m. CST,...</td>\n",
       "      <td>it</td>\n",
       "      <td>6.0</td>\n",
       "    </tr>\n",
       "    <tr>\n",
       "      <th>3</th>\n",
       "      <td>6352bd45-9d99-4f86-98e9-26edd34ce6ce</td>\n",
       "      <td>139.0</td>\n",
       "      <td>documents/Investor_Transcript_2023-10-26.pdf</td>\n",
       "      <td>PROVIDE AN ACCURATE TRANSCRIPTION, THERE MAY B...</td>\n",
       "      <td>finance</td>\n",
       "      <td>141.0</td>\n",
       "    </tr>\n",
       "    <tr>\n",
       "      <th>4</th>\n",
       "      <td>a21c6510-2a56-4a1f-89ee-17da5d2f3994</td>\n",
       "      <td>12.0</td>\n",
       "      <td>documents/2012_14.doc</td>\n",
       "      <td>When entering deduction override amounts for a...</td>\n",
       "      <td>hr</td>\n",
       "      <td>17.0</td>\n",
       "    </tr>\n",
       "  </tbody>\n",
       "</table>\n",
       "</div>"
      ],
      "text/plain": [
       "                               chunk_id  chunk_index  \\\n",
       "0  93b8208c-ed08-4dca-bc3a-f0a3a851e647          4.0   \n",
       "1  c77a729a-2099-4563-b9f6-95bbe91b57a1          5.0   \n",
       "2  5509e93a-bfe6-4692-a793-b68999e62bd2          5.0   \n",
       "3  6352bd45-9d99-4f86-98e9-26edd34ce6ce        139.0   \n",
       "4  a21c6510-2a56-4a1f-89ee-17da5d2f3994         12.0   \n",
       "\n",
       "                                          filename  \\\n",
       "0  documents/Walmart_2022_Investor_Information.pdf   \n",
       "1                            documents/2012_14.doc   \n",
       "2                   documents/internet_safety.pptx   \n",
       "3     documents/Investor_Transcript_2023-10-26.pdf   \n",
       "4                            documents/2012_14.doc   \n",
       "\n",
       "                                                text    topic  total_chunks  \n",
       "0  follows:2023HighLow1st Quarter(1)$146.94$132.0...  finance           9.0  \n",
       "1  Pay transactions on HUE01 using the following ...       hr          17.0  \n",
       "2  751-5980 (800) 487-1626 (8 a.m. to 5 p.m. CST,...       it           6.0  \n",
       "3  PROVIDE AN ACCURATE TRANSCRIPTION, THERE MAY B...  finance         141.0  \n",
       "4  When entering deduction override amounts for a...       hr          17.0  "
      ]
     },
     "execution_count": 18,
     "metadata": {},
     "output_type": "execute_result"
    }
   ],
   "source": [
    "time.sleep(30)\n",
    "\n",
    "# Extract chunks from the Pinecone index into a DataFrame\n",
    "chunk_df = rag_pipeline.extract_all_chunks_from_index()\n",
    "\n",
    "# Display the resulting DataFrame\n",
    "chunk_df.head()"
   ]
  },
  {
   "cell_type": "code",
   "execution_count": 22,
   "id": "bcfbd8c5",
   "metadata": {},
   "outputs": [
    {
     "data": {
      "text/plain": [
       "(2432, 6)"
      ]
     },
     "execution_count": 22,
     "metadata": {},
     "output_type": "execute_result"
    }
   ],
   "source": [
    "# Confirm number of chunks matches the number of rows in the DataFrame\n",
    "chunk_df.shape"
   ]
  },
  {
   "cell_type": "code",
   "execution_count": 23,
   "id": "1603f18d",
   "metadata": {},
   "outputs": [
    {
     "name": "stdout",
     "output_type": "stream",
     "text": [
      "The columns in our documents data are: ['chunk_id', 'chunk_index', 'filename', 'text', 'topic', 'total_chunks']\n"
     ]
    }
   ],
   "source": [
    "document_data_columns = list(chunk_df.columns)\n",
    "print(f\"The columns in our documents data are: {document_data_columns}\")"
   ]
  },
  {
   "cell_type": "markdown",
   "id": "f07a408d",
   "metadata": {},
   "source": [
    "We can see below that the number of chunks per document varies:"
   ]
  },
  {
   "cell_type": "code",
   "execution_count": 24,
   "id": "94377992",
   "metadata": {},
   "outputs": [
    {
     "name": "stdout",
     "output_type": "stream",
     "text": [
      "filename\n",
      "documents/10-K 2022-Apple.pdf                                               3.0\n",
      "documents/10-K 2022-Apple2.pdf                                             16.0\n",
      "documents/2012_14.doc                                                      17.0\n",
      "documents/2020_-_I-9_Employment_Verification_Training_Presentation.ppt     17.0\n",
      "documents/2023-CEASampleEmployeeHandbook.doc                              286.0\n",
      "                                                                          ...  \n",
      "documents/the-selling-process-1.pdf                                         7.0\n",
      "documents/the-selling-process-2.pdf                                        10.0\n",
      "documents/unit04.pdf                                                       22.0\n",
      "documents/what-is-selling.pptx                                              7.0\n",
      "documents/work-ez-specs.pdf                                                 2.0\n",
      "Name: chunk_index, Length: 95, dtype: float64\n"
     ]
    }
   ],
   "source": [
    "chunks_per_doc = chunk_df.groupby(\"filename\")[\"chunk_index\"].max() + 1\n",
    "print(chunks_per_doc)"
   ]
  },
  {
   "cell_type": "markdown",
   "id": "c17b8a11",
   "metadata": {},
   "source": [
    "## Use TLM to detect and filter out bad document chunks"
   ]
  },
  {
   "cell_type": "markdown",
   "id": "aa6f410b",
   "metadata": {},
   "source": [
    "Now that we have extracted our document chunks from our Pinecone index, let's use TLM (via the helper functions we defined earlier to tag documents) to detect low quality document chunks (i.e. HTML, not interpretable/cut off phrases, or non English text) and personally identifiable information (PII) to filter out these chunks from our vector DB."
   ]
  },
  {
   "cell_type": "markdown",
   "id": "9698b0f0",
   "metadata": {},
   "source": [
    "Below we define the prompts we will use to find the document chunks that are badly chunked or contain PII and run our `classify()` helper function to obtain the response and trustworthiness scores from TLM."
   ]
  },
  {
   "cell_type": "code",
   "execution_count": 25,
   "id": "9b2b533c",
   "metadata": {},
   "outputs": [],
   "source": [
    "# Bad chunks detection (you can replace this with your own definitions)\n",
    "bad_chunks_prompt = \"\"\"\n",
    "I am chunking documents into smaller pieces to create a knowledge base for question-answering systems. \n",
    "\n",
    "Task: Help me check if the following Text is badly chunked. A badly chunked text is any text that is: full of HTML/XML and other non-language strings or non-english words, has hardly any informative content or missing key information, or text that contains Personally-Identifiable Information (PII) and other sensitive confidential information.\n",
    "\n",
    "Return 'bad_chunk' if the provided Text is badly chunked, and 'good_chunk' otherwise. Please be as accurate as possible, the world depends on it.\n",
    "\n",
    "Text: {text}\n",
    "\"\"\"\n",
    "\n",
    "bad_chunk_categories = [\"bad_chunk\", \"good_chunk\"]\n"
   ]
  },
  {
   "cell_type": "code",
   "execution_count": 26,
   "id": "8b903d58",
   "metadata": {},
   "outputs": [
    {
     "name": "stderr",
     "output_type": "stream",
     "text": [
      "Querying TLM... 100%|\u2588\u2588\u2588\u2588\u2588\u2588\u2588\u2588\u2588\u2588|\n"
     ]
    }
   ],
   "source": [
    "bad_chunk_predictions, bad_chunk_scores = classify(chunk_df[\"text\"].tolist(), bad_chunk_categories, bad_chunks_prompt)\n",
    "\n",
    "chunk_df['chunk_quality'] = bad_chunk_predictions\n",
    "chunk_df['chunk_quality_trustworthiness'] = bad_chunk_scores"
   ]
  },
  {
   "cell_type": "code",
   "execution_count": 27,
   "id": "d538526d",
   "metadata": {},
   "outputs": [],
   "source": [
    "# PII detection\n",
    "pii_prompt = \"\"\"\n",
    "I am chunking documents into smaller pieces to create a knowledge base for question-answering systems. \n",
    "\n",
    "Task: Analyze the following text and determine if it has personally identifiable information (PII). PII is information that could be used to identify an individual or is otherwise sensitive. Names, addresses, phone numbers are examples of common PII.\n",
    "\n",
    "Return 'is_PII' if the text contains PII and 'no_PII' if it does not. Please be as accurate as possible, the world depends on it.\n",
    "\n",
    "Text: {text}\n",
    "\"\"\"\n",
    "\n",
    "pii_categories = [\"is_PII\", \"no_PII\"]"
   ]
  },
  {
   "cell_type": "code",
   "execution_count": 28,
   "id": "8c3ca17e",
   "metadata": {},
   "outputs": [
    {
     "name": "stderr",
     "output_type": "stream",
     "text": [
      "Querying TLM... 100%|\u2588\u2588\u2588\u2588\u2588\u2588\u2588\u2588\u2588\u2588|\n"
     ]
    }
   ],
   "source": [
    "pii_predictions, pii_scores = classify(chunk_df[\"text\"].tolist(), pii_categories, pii_prompt)\n",
    "\n",
    "chunk_df['pii_check'] = pii_predictions\n",
    "chunk_df['pii_check_trustworthiness'] = pii_scores"
   ]
  },
  {
   "cell_type": "code",
   "execution_count": 29,
   "id": "dd151a72",
   "metadata": {},
   "outputs": [],
   "source": [
    "sorted_chunk_quality_df = chunk_df.sort_values(\n",
    "    by=\"chunk_quality_trustworthiness\", ascending=False\n",
    ").copy()\n",
    "sorted_is_pii_df = chunk_df.sort_values(\n",
    "    by=\"pii_check_trustworthiness\", ascending=False\n",
    ").copy()"
   ]
  },
  {
   "cell_type": "markdown",
   "id": "6a41cf91",
   "metadata": {},
   "source": [
    "Now let's check how many document chunks are bad chunks or contain PII but also in which the response trustworthiness score is >= 0.95, which represent the most trustworthy responses using TLM. "
   ]
  },
  {
   "cell_type": "code",
   "execution_count": 30,
   "id": "abbd98d2",
   "metadata": {},
   "outputs": [
    {
     "name": "stdout",
     "output_type": "stream",
     "text": [
      "Number of document chunks that have the worst chunk quality based on trustworthiness: 577\n",
      "Number of document chunks have the worst PII based on trustworthiness: 107\n"
     ]
    }
   ],
   "source": [
    "worst_chunks = sorted_chunk_quality_df.query(\n",
    "    \"chunk_quality == 'bad_chunk' and chunk_quality_trustworthiness >= 0.95\"\n",
    ")\n",
    "worst_pii = sorted_is_pii_df.query(\n",
    "    \"pii_check == 'is_PII' and pii_check_trustworthiness >= 0.95\"\n",
    ")\n",
    "\n",
    "print(\n",
    "    f\"Number of document chunks that have the worst chunk quality based on trustworthiness: {worst_chunks.shape[0]}\"\n",
    ")\n",
    "print(\n",
    "    f\"Number of document chunks have the worst PII based on trustworthiness: {worst_pii.shape[0]}\"\n",
    ")"
   ]
  },
  {
   "cell_type": "markdown",
   "id": "1d288882",
   "metadata": {},
   "source": [
    "We have observed the capabilities that TLM can provide in detecting these low quality document chunks, so let's now:\n",
    "\n",
    "1. Update our Pinecone DB by removing the chunks with any of the issues detected by TLM\n",
    "2. Verify that the update to our Pinecone DB worked"
   ]
  },
  {
   "cell_type": "markdown",
   "id": "116b3fc7",
   "metadata": {},
   "source": [
    "Let's observe some of the worst chunks that we are going to delete:"
   ]
  },
  {
   "cell_type": "code",
   "execution_count": 31,
   "id": "0567869f",
   "metadata": {},
   "outputs": [
    {
     "name": "stdout",
     "output_type": "stream",
     "text": [
      "%20 %12 %2 %5 %15 %\u201413 %Cover Page Cover PageSep. 29, 2022Cover [Abstract] Document Type Document Period End Date Entity Registrant Name Entity Incorporation, State or Country Code OR Entity File Number Entity Tax Identification Number Entity Address, Address Line One Entity Address, City or Town Entity Address, State or Province Entity Address, Postal Zip Code City Area Code Local Phone Number Written Communications Soliciting Material Pre-commencement Tender Offer Pre-commencement Issuer Tender Offer Title of\n",
      "\n",
      "\n",
      "______________________________________ Student ID#: ___________School: _________________________________________________________ Grade: ________________Parent/Guardian Signature: _________________________________________ Date: _________________Please return to your child\u2019s school ONLY if you do not want them\n"
     ]
    }
   ],
   "source": [
    "print(worst_chunks[\"text\"][1311])\n",
    "print(\"\\n\")\n",
    "print(worst_chunks[\"text\"][2065])"
   ]
  },
  {
   "cell_type": "markdown",
   "id": "90d8c0d6",
   "metadata": {},
   "source": [
    "These chunks are clearly not easy to understand nor do they represent full English phrases.\n",
    "\n",
    "Now let's observe some of the worst examples of PII that we are going to delete:"
   ]
  },
  {
   "cell_type": "code",
   "execution_count": 32,
   "id": "f21552fc",
   "metadata": {},
   "outputs": [
    {
     "name": "stdout",
     "output_type": "stream",
     "text": [
      "and install will vary on a case-by-case basis. Forms submitted with incomplete information will delay the decision-making process. PLEASE NOTE: Any requests may be considered for approval as a Pilot prior to full implementation, as determined by the Director of Academic Services, the Director of Pupil Services and the Director of Technology.Sam Jones01/01/24sjones@gmail.com561-555-1254Tori Pines404 Spruce Avenue, Paradise, NV 89109555-123-8172555-123-8173toripines@westlake.edu\n",
      "\n",
      "\n",
      "AmbraAmbra 120 DBL BasePage 1/2CollectionModel |Dimensions Metric1 inch = 2.54 cm 1 inch = 25.4 mm 1051 Lea Drive - Collegeville, PA 19426 Tel. 215 513 9400 - Fax 610 831 0215 www.wsbathcollections.com - info@wsbathcollectins.comProduct Specs SheetsPowered by TCPDF (www.tcpdf.org)Powered by TCPDF (www.tcpdf.org)\n"
     ]
    }
   ],
   "source": [
    "print(worst_pii[\"text\"][531])\n",
    "print(\"\\n\")\n",
    "print(worst_pii[\"text\"][1081])"
   ]
  },
  {
   "cell_type": "markdown",
   "id": "66d3a698",
   "metadata": {},
   "source": [
    "These examples contain sensitive information such as phone numbers, email addresses and personal names that are flagged by Cleanlab - so these definitely contain PII that can be removed!\n",
    "\n",
    "We can now construct the list of chunks to delete based on the `chunk_id` we previously created for each chunk that we can tie to each chunk in our vector DB."
   ]
  },
  {
   "cell_type": "code",
   "execution_count": 33,
   "id": "7c350a6a",
   "metadata": {},
   "outputs": [],
   "source": [
    "# Get the chunk IDs for the chunks that have issues to update our Pinecone index\n",
    "worst_chunks_to_delete_ids = worst_chunks[\"chunk_id\"].tolist()\n",
    "worst_pii_to_delete_ids = worst_pii[\"chunk_id\"].tolist()\n",
    "chunks_to_delete_ids = list(set(worst_chunks_to_delete_ids + worst_pii_to_delete_ids))"
   ]
  },
  {
   "cell_type": "code",
   "execution_count": 34,
   "id": "c1d372b1",
   "metadata": {},
   "outputs": [
    {
     "data": {
      "text/plain": [
       "663"
      ]
     },
     "execution_count": 34,
     "metadata": {},
     "output_type": "execute_result"
    }
   ],
   "source": [
    "# Number of chunks to delete\n",
    "len(chunks_to_delete_ids)"
   ]
  },
  {
   "cell_type": "code",
   "execution_count": 38,
   "id": "402083dd",
   "metadata": {},
   "outputs": [
    {
     "name": "stdout",
     "output_type": "stream",
     "text": [
      "Successfully deleted 663 chunks from the index.\n",
      "Finished deletion process for 663 chunks.\n"
     ]
    }
   ],
   "source": [
    "# Delete the identified chunks from the index\n",
    "rag_pipeline.delete_chunks(chunks_to_delete_ids)"
   ]
  },
  {
   "cell_type": "markdown",
   "id": "d48f24b0",
   "metadata": {},
   "source": [
    "After deleting our document chunks, let's now confirm that the deletion worked properly (after waiting 30 seconds to give the vector DB time to update) by reading the document chunks into a new DataFrame `updated_chunk_df`.\n",
    "\n",
    "We will also then confirm the number of chunks deleted is equal to the total number of original chunks minus the number of chunks after filtering out bad chunks."
   ]
  },
  {
   "cell_type": "code",
   "execution_count": 39,
   "id": "00245478",
   "metadata": {},
   "outputs": [
    {
     "name": "stdout",
     "output_type": "stream",
     "text": [
      "Index name: cleanlab-pinecone-index\n",
      "Total vectors according to stats: 1769\n",
      "Vector dimension: 384\n",
      "Total chunks retrieved: 1769\n"
     ]
    },
    {
     "data": {
      "text/html": [
       "<div>\n",
       "<style scoped>\n",
       "    .dataframe tbody tr th:only-of-type {\n",
       "        vertical-align: middle;\n",
       "    }\n",
       "\n",
       "    .dataframe tbody tr th {\n",
       "        vertical-align: top;\n",
       "    }\n",
       "\n",
       "    .dataframe thead th {\n",
       "        text-align: right;\n",
       "    }\n",
       "</style>\n",
       "<table border=\"1\" class=\"dataframe\">\n",
       "  <thead>\n",
       "    <tr style=\"text-align: right;\">\n",
       "      <th></th>\n",
       "      <th>chunk_id</th>\n",
       "      <th>chunk_index</th>\n",
       "      <th>filename</th>\n",
       "      <th>text</th>\n",
       "      <th>topic</th>\n",
       "      <th>total_chunks</th>\n",
       "    </tr>\n",
       "  </thead>\n",
       "  <tbody>\n",
       "    <tr>\n",
       "      <th>0</th>\n",
       "      <td>5d6cff8b-a53f-4f60-a2a6-60b46417560d</td>\n",
       "      <td>2.0</td>\n",
       "      <td>documents/Blackstone-Third-Quarter-2023-Invest...</td>\n",
       "      <td>release and slide presentation, which are avai...</td>\n",
       "      <td>finance</td>\n",
       "      <td>127.0</td>\n",
       "    </tr>\n",
       "    <tr>\n",
       "      <th>1</th>\n",
       "      <td>c1143934-3f34-4099-b452-6cc1a8036c2c</td>\n",
       "      <td>3.0</td>\n",
       "      <td>documents/Blackstone-Third-Quarter-2023-Invest...</td>\n",
       "      <td>10-K We'll also refer to certain non-GAAP meas...</td>\n",
       "      <td>finance</td>\n",
       "      <td>127.0</td>\n",
       "    </tr>\n",
       "    <tr>\n",
       "      <th>2</th>\n",
       "      <td>afe8ca91-78cb-4851-8f92-b8e682dbb3da</td>\n",
       "      <td>4.0</td>\n",
       "      <td>documents/Blackstone-Third-Quarter-2023-Invest...</td>\n",
       "      <td>$1.2 billion, or $0.94 per common share, and w...</td>\n",
       "      <td>finance</td>\n",
       "      <td>127.0</td>\n",
       "    </tr>\n",
       "    <tr>\n",
       "      <th>3</th>\n",
       "      <td>a6026edc-c32b-4ef2-baea-23bcdb0a2ba9</td>\n",
       "      <td>5.0</td>\n",
       "      <td>documents/Blackstone-Third-Quarter-2023-Invest...</td>\n",
       "      <td>shared human values, and we are deeply saddene...</td>\n",
       "      <td>finance</td>\n",
       "      <td>127.0</td>\n",
       "    </tr>\n",
       "    <tr>\n",
       "      <th>4</th>\n",
       "      <td>df61e9a8-7518-44a7-98a6-57a912e1e418</td>\n",
       "      <td>6.0</td>\n",
       "      <td>documents/Blackstone-Third-Quarter-2023-Invest...</td>\n",
       "      <td>year-to-year basis. Higher interest rates, alo...</td>\n",
       "      <td>finance</td>\n",
       "      <td>127.0</td>\n",
       "    </tr>\n",
       "  </tbody>\n",
       "</table>\n",
       "</div>"
      ],
      "text/plain": [
       "                               chunk_id  chunk_index  \\\n",
       "0  5d6cff8b-a53f-4f60-a2a6-60b46417560d          2.0   \n",
       "1  c1143934-3f34-4099-b452-6cc1a8036c2c          3.0   \n",
       "2  afe8ca91-78cb-4851-8f92-b8e682dbb3da          4.0   \n",
       "3  a6026edc-c32b-4ef2-baea-23bcdb0a2ba9          5.0   \n",
       "4  df61e9a8-7518-44a7-98a6-57a912e1e418          6.0   \n",
       "\n",
       "                                            filename  \\\n",
       "0  documents/Blackstone-Third-Quarter-2023-Invest...   \n",
       "1  documents/Blackstone-Third-Quarter-2023-Invest...   \n",
       "2  documents/Blackstone-Third-Quarter-2023-Invest...   \n",
       "3  documents/Blackstone-Third-Quarter-2023-Invest...   \n",
       "4  documents/Blackstone-Third-Quarter-2023-Invest...   \n",
       "\n",
       "                                                text    topic  total_chunks  \n",
       "0  release and slide presentation, which are avai...  finance         127.0  \n",
       "1  10-K We'll also refer to certain non-GAAP meas...  finance         127.0  \n",
       "2  $1.2 billion, or $0.94 per common share, and w...  finance         127.0  \n",
       "3  shared human values, and we are deeply saddene...  finance         127.0  \n",
       "4  year-to-year basis. Higher interest rates, alo...  finance         127.0  "
      ]
     },
     "execution_count": 39,
     "metadata": {},
     "output_type": "execute_result"
    }
   ],
   "source": [
    "# Sleep timer to allow the deletion process to complete\n",
    "time.sleep(30)\n",
    "\n",
    "# Verify the update went through and we have the correct number of chunks\n",
    "updated_chunk_df = rag_pipeline.extract_all_chunks_from_index()\n",
    "updated_chunk_df.head()"
   ]
  },
  {
   "cell_type": "code",
   "execution_count": 40,
   "id": "be9baa4c",
   "metadata": {},
   "outputs": [],
   "source": [
    "# Confirm the number of chunks deleted is equal to the total number of original chunks minus the number of chunks after filtering out bad chunks\n",
    "assert len(chunk_df) - len(updated_chunk_df) == len(chunks_to_delete_ids)"
   ]
  },
  {
   "cell_type": "markdown",
   "id": "4b3908e5",
   "metadata": {},
   "source": [
    "**Note:** You can also run this data ingestion (tagging, chunking, and cleaning) into a Pinecone vector DB index in real-time as new documents are being ingested. "
   ]
  },
  {
   "cell_type": "markdown",
   "id": "7eb9c280-1c36-4bd5-8bf4-e3a09059353d",
   "metadata": {},
   "source": [
    "## How to search for documents with metadata\n",
    "\n",
    "Below is an example on how you can search for your curated documents based on a query of your choice and use metadata to help filter for the relevant information. \n",
    "\n",
    "In this case, we specify `topic = sales` to find the `top k` (where k is number of results to return and equal to 2 here) documents that best match the search query/metadata filters."
   ]
  },
  {
   "cell_type": "code",
   "execution_count": 41,
   "id": "f825333b-f2aa-44fb-9bcb-40ef6d3cd72b",
   "metadata": {},
   "outputs": [
    {
     "name": "stdout",
     "output_type": "stream",
     "text": [
      "Document: learn the person\u2019s name, position, age, education, experience, hobbies, etc. Many times, just gettin...\n",
      "Metadata: {'chunk_id': 'aeb314c7-9d16-4c2d-859b-85d4a0b098c5', 'chunk_index': 5.0, 'filename': 'documents/the-selling-process-2.pdf', 'topic': 'sales', 'total_chunks': 10.0}\n",
      "--------------------------------------------------------------------------------------------------------------------------------------------------------------------------------------------------------------------------------------------------------------------------------------------------------------------------------------------------------------------------------------------------------------------------------------------------------------------------------------------------------------------\n",
      "Document: often used in a streamlined sales process.You have completed the topic for the sales process. Thank ...\n",
      "Metadata: {'chunk_id': '0087d732-8978-422e-a730-889d58d51026', 'chunk_index': 14.0, 'filename': 'documents/sap-sales-overview.pdf', 'topic': 'sales', 'total_chunks': 15.0}\n",
      "--------------------------------------------------------------------------------------------------------------------------------------------------------------------------------------------------------------------------------------------------------------------------------------------------------------------------------------------------------------------------------------------------------------------------------------------------------------------------------------------------------------------\n"
     ]
    }
   ],
   "source": [
    "results = rag_pipeline.search(\n",
    "    query=\"Tell me about sales\",  # YOUR SEARCH QUERY HERE\n",
    "    top_k=2,\n",
    "    filter_query={\"topic\": {\"$eq\": \"sales\"}},\n",
    ")\n",
    "\n",
    "for doc_text, metadata in results:\n",
    "    print(f\"Document: {doc_text[:100]}...\")\n",
    "    print(f\"Metadata: {metadata}\")\n",
    "    print(\"-\" * 500)"
   ]
  },
  {
   "cell_type": "markdown",
   "id": "160b19ad",
   "metadata": {},
   "source": [
    "## Use TLM for intent classification of queries\n",
    "\n",
    "Suppose our user is asked which topic their question is about from a pre-defined list. Alternatively, we could train a classifier to predict the topic from the question (automatically using TLM). This way, the intent classification is done automatically (and reliably) to obtain our topic that pertains to a user question. This topic can then be used for metadata filtering when querying against our vector DB."
   ]
  },
  {
   "cell_type": "code",
   "execution_count": 42,
   "id": "0febc6be",
   "metadata": {},
   "outputs": [],
   "source": [
    "# Intent classification\n",
    "intent_classification_prompt = \"\"\"\n",
    "You are an assistant for classifying a question as one of several topics. The available topics are:\n",
    "\n",
    "1. 'finance': Related to financial matters, budgeting, accounting, investments, lending, or monetary policies.\n",
    "2. 'hr': Pertaining to Human Resources, including hiring, employee documents (such as a W4 form), employee management, benefits, or workplace policies.\n",
    "3. 'it': Covering Information Technology topics such as software development, network infrastructure, cybersecurity, or tech support.\n",
    "4. 'product': Dealing with a specific company product, product development, management, features, or lifecycle.\n",
    "5. 'sales': Involving selling a product, customer acquisition, revenue generation, or sales performance.\n",
    "\n",
    "If you are not sure which topic to classify the question as, then answer 'unknown'. Only use the lower case text version of the topic name.\n",
    "\n",
    "Task: Analyze the following question and determine the topic it belongs to. Return the topic as a string.\n",
    "\n",
    "Now here is the question to verify:\n",
    "\n",
    "Text: {text}\n",
    "\n",
    "Topic: \n",
    "\"\"\""
   ]
  },
  {
   "cell_type": "code",
   "execution_count": 43,
   "id": "1325b346",
   "metadata": {},
   "outputs": [],
   "source": [
    "question = \"What were Blackstone's fee-related earnings in the third quarter of 2023?\""
   ]
  },
  {
   "cell_type": "markdown",
   "id": "933c407b",
   "metadata": {},
   "source": [
    "Using the question and prompt defined above, let's now use TLM to classify the question into the correct topic (intent classification) that we will use as the metadata to filter our vector DB query with:"
   ]
  },
  {
   "cell_type": "code",
   "execution_count": 44,
   "id": "4fa79f80",
   "metadata": {},
   "outputs": [
    {
     "name": "stderr",
     "output_type": "stream",
     "text": [
      "Querying TLM... 100%|\u2588\u2588\u2588\u2588\u2588\u2588\u2588\u2588\u2588\u2588|"
     ]
    },
    {
     "name": "stdout",
     "output_type": "stream",
     "text": [
      "{'metadata_response': 'finance', 'metadata_trustworthiness_score': 0.9782569595638215}\n"
     ]
    },
    {
     "name": "stderr",
     "output_type": "stream",
     "text": [
      "\n"
     ]
    }
   ],
   "source": [
    "intent_predictions, intent_trustworthiness_scores = classify([question], categories, intent_classification_prompt)\n",
    "\n",
    "metadata_topic_response = {\n",
    "    \"metadata_response\": intent_predictions[0],\n",
    "    \"metadata_trustworthiness_score\": intent_trustworthiness_scores[0]\n",
    "}\n",
    "\n",
    "print(metadata_topic_response)\n",
    "\n",
    "# Extract the topic from the response\n",
    "metadata_topic = metadata_topic_response[\"metadata_response\"]"
   ]
  },
  {
   "cell_type": "markdown",
   "id": "edd14f51",
   "metadata": {},
   "source": [
    "Below, you can then specify the classified metadata topic (or other relevant metadata) when filtering to help search for the relevant context in your Pinecone index.\n",
    "\n",
    "Since we don't know where to stick the documents with an `unknown` topic value, we will always include the unknown topic in the filter."
   ]
  },
  {
   "cell_type": "code",
   "execution_count": 46,
   "id": "6ae30c8e",
   "metadata": {},
   "outputs": [
    {
     "name": "stdout",
     "output_type": "stream",
     "text": [
      "Top document chunk for this query: \n",
      "\n",
      "of year-over-year base management fee growth at Blackstone. Fee-related earnings were $1.1 billion in the third quarter, or $0.92 per share, largely stable with Q2, underpinned by steady top-line performance, along with the firm's strong margin position. The year-over-year comparison was affected by a decline in transaction fees, which are activity-based, as well as lower fee-related performance revenues. Notwithstanding these headwinds, the firm generated $275 million of fee-related performance revenues in\n"
     ]
    }
   ],
   "source": [
    "# Define the list of topics to filter on\n",
    "topic_filter = [metadata_topic, \"unknown\"]\n",
    "\n",
    "# Use the classified topic to filter the search results\n",
    "top_doc_chunk = rag_pipeline.search(\n",
    "    question, top_k=1, filter_query={\"topic\": {\"$in\": topic_filter}}\n",
    ")\n",
    "print(f\"Top document chunk for this query: \\n\\n{top_doc_chunk[0][0]}\")"
   ]
  },
  {
   "cell_type": "markdown",
   "id": "2de70264-3808-49df-bad1-87673534453d",
   "metadata": {},
   "source": [
    "## Use TLM to get Trustworthiness Score for RAG Outputs"
   ]
  },
  {
   "cell_type": "markdown",
   "id": "d2f32e3c-3933-4544-aa39-49cdc8437e45",
   "metadata": {},
   "source": [
    "Now let's use the context from our top document chunk we obtained in the previous step to actually answer the original question asked: `What were Blackstone's fee-related earnings in the third quarter of 2023?`"
   ]
  },
  {
   "cell_type": "code",
   "execution_count": 49,
   "id": "e2e04c82",
   "metadata": {},
   "outputs": [],
   "source": [
    "top_doc_chunks = \"\".join(\n",
    "    rag_pipeline.search(\n",
    "        question, top_k=1, filter_query={\"topic\": {\"$in\": topic_filter}}\n",
    "    )[0][0]\n",
    ")\n",
    "\n",
    "prompt = f\"\"\"You are an assistant for answering the following question based on the document context.\n",
    "\n",
    "Question: {question}\n",
    "Document Context: {top_doc_chunks}\n",
    "\"\"\""
   ]
  },
  {
   "cell_type": "markdown",
   "id": "57bec132",
   "metadata": {},
   "source": [
    "Now let's query TLM using the prompt we previously created using our user query + document context passed from our RAG Pinecone index."
   ]
  },
  {
   "cell_type": "code",
   "execution_count": 50,
   "id": "7c3f8830",
   "metadata": {},
   "outputs": [
    {
     "data": {
      "text/plain": [
       "{'response': \"Blackstone's fee-related earnings in the third quarter of 2023 were $1.1 billion.\",\n",
       " 'trustworthiness_score': 0.993302111747707}"
      ]
     },
     "execution_count": 50,
     "metadata": {},
     "output_type": "execute_result"
    }
   ],
   "source": [
    "output = tlm.prompt(prompt)\n",
    "output"
   ]
  },
  {
   "cell_type": "markdown",
   "id": "e9a8dcac-518d-420c-aee5-51f8566bfe31",
   "metadata": {},
   "source": [
    "### Is this response correct?"
   ]
  },
  {
   "cell_type": "code",
   "execution_count": 62,
   "id": "8433d811",
   "metadata": {},
   "outputs": [
    {
     "data": {
      "text/plain": [
       "'Fee-related earnings were $1.1 billion in the third quarter'"
      ]
     },
     "execution_count": 62,
     "metadata": {},
     "output_type": "execute_result"
    }
   ],
   "source": [
    "text_to_check = updated_chunk_df.query(\"filename == 'documents/Blackstone-Third-Quarter-2023-Investor-Call.pdf' and text.str.contains('of year-over-year base management fee', case=False, na=False)\").iloc[0][\"text\"]\n",
    "text_to_check[60:119]"
   ]
  },
  {
   "cell_type": "markdown",
   "id": "7ee253b8-1ecf-4ea2-a423-13bbe016e11e",
   "metadata": {},
   "source": [
    "### Can we find a hallucination?"
   ]
  },
  {
   "cell_type": "markdown",
   "id": "2367689a",
   "metadata": {},
   "source": [
    "Let's now try to find a hallucination but first classify the intent of this new question into the correct metadata topic value."
   ]
  },
  {
   "cell_type": "code",
   "execution_count": 102,
   "id": "572b4ab3",
   "metadata": {},
   "outputs": [],
   "source": [
    "question = \"Can you tell me if these Good's Homestyle Potato Chips support 9 per row in the case?\""
   ]
  },
  {
   "cell_type": "code",
   "execution_count": 103,
   "id": "21002545",
   "metadata": {},
   "outputs": [
    {
     "name": "stderr",
     "output_type": "stream",
     "text": [
      "Querying TLM... 100%|\u2588\u2588\u2588\u2588\u2588\u2588\u2588\u2588\u2588\u2588|"
     ]
    },
    {
     "name": "stdout",
     "output_type": "stream",
     "text": [
      "{'metadata_response': 'product', 'metadata_trustworthiness_score': 0.951910293755863}\n"
     ]
    },
    {
     "name": "stderr",
     "output_type": "stream",
     "text": [
      "\n"
     ]
    }
   ],
   "source": [
    "intent_predictions, intent_trustworthiness_scores = classify([question], categories, intent_classification_prompt)\n",
    "\n",
    "metadata_topic_response = {\n",
    "    \"metadata_response\": intent_predictions[0],\n",
    "    \"metadata_trustworthiness_score\": intent_trustworthiness_scores[0]\n",
    "}\n",
    "\n",
    "print(metadata_topic_response)\n",
    "\n",
    "# Extract the topic from the response\n",
    "metadata_topic = metadata_topic_response[\"metadata_response\"]"
   ]
  },
  {
   "cell_type": "markdown",
   "id": "54338e19",
   "metadata": {},
   "source": [
    "Now we can pass the question and context into our prompt to catch this hallucination."
   ]
  },
  {
   "cell_type": "code",
   "execution_count": 105,
   "id": "214fe620",
   "metadata": {},
   "outputs": [
    {
     "data": {
      "text/plain": [
       "{'response': \"Yes, the Good's Homestyle Potato Chips support 9 per row in the case, as indicated by the pallet configuration of 72 per pallet (9 x 8).\",\n",
       " 'trustworthiness_score': 0.7508270454814128}"
      ]
     },
     "execution_count": 105,
     "metadata": {},
     "output_type": "execute_result"
    }
   ],
   "source": [
    "# Define the list of topics to filter on\n",
    "topic_filter = [metadata_topic, \"unknown\"]\n",
    "\n",
    "top_doc_chunks = \"\".join(\n",
    "    rag_pipeline.search(\n",
    "        question, top_k=1, filter_query={\"topic\": {\"$in\": topic_filter}}\n",
    "    )[0][0]\n",
    ")\n",
    "\n",
    "prompt = f\"\"\"You are an assistant for answering the following question based on the document context.\n",
    "\n",
    "Question: {question}\n",
    "Document Context: {top_doc_chunks}\n",
    "\"\"\"\n",
    "\n",
    "# Run TLM\n",
    "tlm = TLM()\n",
    "\n",
    "output = tlm.prompt(prompt)\n",
    "output"
   ]
  },
  {
   "cell_type": "markdown",
   "id": "0b2ea643-4621-4d3c-8bf7-afc438e65fa3",
   "metadata": {},
   "source": [
    "### Is this correct?\n",
    "\n",
    "There are 24 chip bags per case which cannot support 9 per row, so this is a hallucination."
   ]
  },
  {
   "cell_type": "code",
   "execution_count": 101,
   "id": "c3123ebe",
   "metadata": {},
   "outputs": [
    {
     "data": {
      "text/plain": [
       "'24/case (3 x 6 & 6 on top)'"
      ]
     },
     "execution_count": 101,
     "metadata": {},
     "output_type": "execute_result"
    }
   ],
   "source": [
    "text_to_check = updated_chunk_df.query(\"filename == 'documents/potato-chips-specs.pdf'\").iloc[0][\"text\"]\n",
    "text_to_check[113:139]"
   ]
  },
  {
   "cell_type": "markdown",
   "id": "929c75a5-e2f3-4116-a905-0147f92c86c5",
   "metadata": {},
   "source": [
    "## Apply TLM to Existing RAG Prompt/Response Pairs\n",
    "\n",
    "If you have a RAG system in which you already have retrieved the context and obtained a response from your LLM, you can still generate a trustworthiness score for these responses via TLM's `get_trustworthiness_score()` method."
   ]
  },
  {
   "cell_type": "code",
   "execution_count": 106,
   "id": "d825b76f-8c07-4d17-8a45-732cc572c1e7",
   "metadata": {},
   "outputs": [
    {
     "name": "stdout",
     "output_type": "stream",
     "text": [
      "TLM Score for Response A: {'trustworthiness_score': 0.8209634111514514}\n",
      "TLM Score for Response B: {'trustworthiness_score': 0.09573812948850895}\n"
     ]
    }
   ],
   "source": [
    "tlm = TLM(quality_preset=\"high\", options={\"model\": \"gpt-4o\"})\n",
    "\n",
    "prompt = \"\"\"Based on the following documents, answer the given question. \n",
    "\n",
    "Documents:  We're getting new desks! Specs are here: Staples Model RTG120XLDBL BasePage \\\n",
    "CollectionModel | Dimensions width = 60.0in height = 48.0in depth = 24.0in Base Color Black \\\n",
    "Top Color White | Specs SheetsPowered by TCPDF (www.tcpdf.org)\n",
    "\n",
    "Question: What is the width of the new desks?\n",
    "\"\"\"\n",
    "\n",
    "response_A = \"60 inches\"\n",
    "response_B = \"24 inches\"\n",
    "\n",
    "trust_score_A = tlm.get_trustworthiness_score(prompt, response_A)\n",
    "trust_score_B = tlm.get_trustworthiness_score(prompt, response_B)\n",
    "\n",
    "print(f\"TLM Score for Response A: {trust_score_A}\")\n",
    "print(f\"TLM Score for Response B: {trust_score_B}\")"
   ]
  },
  {
   "cell_type": "markdown",
   "id": "b4cc73e6",
   "metadata": {},
   "source": [
    "The trustworthiness score for the correct response is much higher than the incorrect response."
   ]
  },
  {
   "cell_type": "markdown",
   "id": "b6438b38",
   "metadata": {},
   "source": [
    "To summarize, we used TLM to curate the knowledge base data of a RAG system, tagging documents with metadata that enhances overall reliability. While this tutorial used Pinecone as the vector database, the same approach applies to any other vector database and RAG system.\n",
    "\n",
    "Learn more about leveraging TLM in RAG applications via our [Trustworthy RAG with TLM tutorial](/tlm/use-cases/tlm_rag/) and [cheatsheet](/tlm/faq/)."
   ]
  }
 ],
 "metadata": {
  "kernelspec": {
   "display_name": "Python 3 (ipykernel)",
   "language": "python",
   "name": "python3"
  },
  "language_info": {
   "codemirror_mode": {
    "name": "ipython",
    "version": 3
   },
   "file_extension": ".py",
   "mimetype": "text/x-python",
   "name": "python",
   "nbconvert_exporter": "python",
   "pygments_lexer": "ipython3",
   "version": "3.10.14"
  }
 },
 "nbformat": 4,
 "nbformat_minor": 5
}