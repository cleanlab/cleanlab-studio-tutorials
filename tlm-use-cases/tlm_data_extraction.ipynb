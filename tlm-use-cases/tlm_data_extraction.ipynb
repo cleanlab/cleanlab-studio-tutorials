{
 "cells": [
  {
   "cell_type": "markdown",
   "id": "3b1788ba-96c0-4f84-93e8-465202e99b18",
   "metadata": {},
   "source": [
    "# Information Extraction from Documents using the Trustworthy Language Model\n",
    "\n",
    "<head>\n",
    "  <meta name=\"title\" content=\"Trustworthy Data Extraction from Documents using LLMs\"/>\n",
    "  <meta property=\"og:title\" content=\"Trustworthy Data Extraction from Documents using LLMs\"/>\n",
    "  <meta name=\"twitter:title\" content=\"Trustworthy Data Extraction from Documents using LLMs\" />\n",
    "  <meta name=\"image\" content=\"/img/extraction.png\" />\n",
    "  <meta property=\"og:image\" content=\"/img/extraction.png\" />\n",
    "  <meta name=\"description\" content=\"Automatically catch incorrectly extracted information with the Trustworthy Language Model (TLM).\"  />\n",
    "  <meta property=\"og:description\" content=\"Automatically catch incorrectly extracted information with the Trustworthy Language Model (TLM).\" />\n",
    "  <meta name=\"twitter:description\" content=\"Automatically catch incorrectly extracted information with the Trustworthy Language Model (TLM).\" />\n",
    "</head>\n",
    "\n"
   ]
  },
  {
   "cell_type": "markdown",
   "id": "7feae7bd-3173-4a2f-b528-6ca33fe2d4e7",
   "metadata": {},
   "source": [
    "This tutorial demonstrates how to use Cleanlab's Trustworthy Language Model (TLM) to reliably extract data from unstructured text documents. \n",
    "\n",
    "You can use TLM like any other LLM, just prompt it with the document text provided as context along with an instruction detailing what information should be extracted and in what format. While today's GenAI and LLMs demonstrate promise for such information extraction, the technology remains fundamentally unreliable. LLMs may extract **completely wrong (hallucinated) values** in certain edge-cases, but you won't know with existing LLMs. Cleanlab's TLM also provides a **trustworthiness score** alongside the extracted information to indicate how confident we can be regarding its accuracy. TLM trustworthiness scores offer state-of-the-art automation to catch badly extracted information before it harms downstream processes.\n",
    "\n",
    "![LLM extracting data and providing trustworthiness scores](./assets/tlm-text-extraction-tutorial/extraction.png)"
   ]
  },
  {
   "cell_type": "markdown",
   "id": "e9ed290c-755c-458e-8997-d3c06c26ddcd",
   "metadata": {},
   "source": [
    "## Setup"
   ]
  },
  {
   "cell_type": "markdown",
   "id": "8a4f7e8d-12c2-4684-a0c3-9aa669f319b7",
   "metadata": {},
   "source": [
    "This tutorial requires a TLM API key. Get one [here](https://tlm.cleanlab.ai/), and first complete the [quickstart tutorial](/tlm/tutorials/tlm/).\n",
    "\n",
    "The Python packages required for this tutorial can be installed using pip:"
   ]
  },
  {
   "cell_type": "code",
   "execution_count": 1,
   "id": "14f21548-efac-4b63-b65c-adcc815f8301",
   "metadata": {
    "scrolled": true
   },
   "outputs": [],
   "source": [
    "%pip install --upgrade cleanlab-tlm \"unstructured[pdf]==0.13.2\" \"pillow-heif==0.16.0\" \"pdfminer.six==20240706\""
   ]
  },
  {
   "cell_type": "code",
   "execution_count": null,
   "id": "99cec5c4",
   "metadata": {},
   "outputs": [],
   "source": [
    "# Set your API key\n",
    "import os\n",
    "os.environ[\"CLEANLAB_TLM_API_KEY\"] = \"<API key>\" # Get your free API key from: https://tlm.cleanlab.ai/"
   ]
  },
  {
   "cell_type": "code",
   "execution_count": null,
   "id": "ac9b9325-4c69-4e6d-a6c2-f52adccd8e87",
   "metadata": {},
   "outputs": [],
   "source": [
    "import pandas as pd\n",
    "from unstructured.partition.pdf import partition_pdf\n",
    "from IPython.display import display, IFrame\n",
    "\n",
    "from cleanlab_tlm import TLM\n",
    "\n",
    "pd.set_option('display.max_colwidth', None)  "
   ]
  },
  {
   "cell_type": "markdown",
   "id": "c6d6bf89-c61f-4909-91c3-00a0a2c396c6",
   "metadata": {},
   "source": [
    "## Document Dataset"
   ]
  },
  {
   "cell_type": "markdown",
   "id": "8ae79c6f-fed8-48dd-9998-8f8ba18213d8",
   "metadata": {},
   "source": [
    "The ideas demonstrated in this tutorial apply to arbitrary information extracation tasks involving any types of documents. The particular documents demonstrated in this tutorial are a collection of datasheets for electronic parts, stored in PDF format. These datasheets contain technical specifications and application guidelines regarding the electronic products, serving as an important guide for users of these products. Let's download the data and look at an example datasheet."
   ]
  },
  {
   "cell_type": "code",
   "execution_count": null,
   "id": "471f80e8-0417-427a-814f-e31a0073aa3a",
   "metadata": {},
   "outputs": [],
   "source": [
    "!wget -nc https://cleanlab-public.s3.amazonaws.com/Datasets/electronics-datasheets/electronics-datasheets.zip\n",
    "!mkdir datasheets/\n",
    "!unzip -q electronics-datasheets.zip -d datasheets/"
   ]
  },
  {
   "cell_type": "markdown",
   "id": "150c51cb-1f9b-4e6e-996e-9930572b64de",
   "metadata": {},
   "source": [
    "Here's the first page of a sample datasheet ([13.pdf](https://cleanlab-public.s3.amazonaws.com/Datasets/electronics-datasheets/13.pdf)):"
   ]
  },
  {
   "cell_type": "markdown",
   "id": "c345354a-b594-492c-9ca6-a45ab45121db",
   "metadata": {},
   "source": [
    "![Sample Datasheet 13.pdf](./assets/tlm-text-extraction-tutorial/13.png)"
   ]
  },
  {
   "cell_type": "markdown",
   "id": "8cc1bfac-5274-4774-9de0-cabb98002008",
   "metadata": {},
   "source": [
    "This document contains many details, so it might be tough to extract one particular piece of information. Datasheets may use complex and highly technical language, while also varying in their structure and organization of information. \n",
    "\n",
    "Hence, we'll use the Trustworthy Language Model (TLM) to automatically extract key information about each product from these datasheets. TLM also provides a trustworthiness score to quantify how confident we can be that the right information was extracted, which allows us to catch potential errors in this process at scale."
   ]
  },
  {
   "cell_type": "markdown",
   "id": "a3ea8019-99cd-41f8-b765-031ff41309ef",
   "metadata": {},
   "source": [
    "## Convert PDF Documents to Text"
   ]
  },
  {
   "cell_type": "markdown",
   "id": "c1a5f8dd-a78f-4b4c-86ce-d9dc96c02a88",
   "metadata": {},
   "source": [
    "Our documents are PDFs, but TLM requires text inputs (like any other LLM). We can use the open-source `unstructured` library to extract the text from each PDF."
   ]
  },
  {
   "cell_type": "code",
   "execution_count": 4,
   "id": "13353715-3618-4786-9926-638419c25397",
   "metadata": {},
   "outputs": [],
   "source": [
    "import nltk\n",
    "nltk.download('punkt_tab')\n",
    "nltk.download('averaged_perceptron_tagger_eng')\n",
    "\n",
    "def extract_text_from_pdf(filename):\n",
    "    elements = partition_pdf(filename)\n",
    "    text = \"\\n\".join([str(el) for el in elements])\n",
    "    return text"
   ]
  },
  {
   "cell_type": "code",
   "execution_count": 5,
   "id": "c01ef390-9d2f-4d12-99d5-4655ac794419",
   "metadata": {},
   "outputs": [],
   "source": [
    "directory = \"datasheets/\"\n",
    "all_files = os.listdir(directory)\n",
    "pdf_files = sorted([file for file in all_files if file.endswith('.pdf')])\n",
    "pdf_texts = [extract_text_from_pdf(os.path.join(directory, file)) for file in pdf_files]"
   ]
  },
  {
   "cell_type": "markdown",
   "id": "e97beee4-67ad-4a76-9a8c-a4cadbe04763",
   "metadata": {},
   "source": [
    "Here is a sample of the extracted text:"
   ]
  },
  {
   "cell_type": "code",
   "execution_count": null,
   "id": "bb9b66cc",
   "metadata": {},
   "outputs": [
    {
     "name": "stdout",
     "output_type": "stream",
     "text": [
      "0.5w Solar Panel 55*70\n",
      "This is a custom solar panel, which mates directly with many of our development boards and has a high efficiency at 17%. Unit has a clear epoxy coating with hard-board backing. Robust sealing for out door applications!\n",
      "Specification\n",
      "PET\n",
      "Package\n",
      "Typical peak power\n",
      "0.55W\n",
      "Voltage at peak power\n",
      "5.5v\n",
      "Current at peak power\n",
      "100mA\n",
      "Length\n",
      "70 mm\n",
      "Width\n",
      "55 mm\n",
      "Depth\n",
      "1.5 mm\n",
      "Weight\n",
      "17g\n",
      "Efficiency\n",
      "17%\n",
      "Wire diameter\n",
      "1.5mm\n",
      "Connector\n",
      "2.0mm JST\n",
      "Hardware Installation\n",
      "http://wiki.seeedstudio.com/0.5w_Solar_Panel_55x70/9\u201024\u201018\n"
     ]
    }
   ],
   "source": [
    "print(pdf_texts[0])"
   ]
  },
  {
   "cell_type": "markdown",
   "id": "64ee140e-68a4-474a-ac69-66eaddbd78a1",
   "metadata": {},
   "source": [
    "## Extract Information using TLM"
   ]
  },
  {
   "cell_type": "markdown",
   "id": "5b00d16f-0c72-4fea-b64b-4c851b07bc2b",
   "metadata": {},
   "source": [
    "Let's initalize TLM, here using default configuration settings."
   ]
  },
  {
   "cell_type": "code",
   "execution_count": 7,
   "id": "7ffbb98a-7564-4aac-8e13-52063b7fe14d",
   "metadata": {},
   "outputs": [],
   "source": [
    "tlm = TLM()  # See Advanced Tutorial for optional TLM configurations to get better/faster results"
   ]
  },
  {
   "cell_type": "markdown",
   "id": "f2e92b1a-74bb-4a1f-b3ac-da2d1d6c706d",
   "metadata": {},
   "source": [
    "We'll use the following prompt template that instructs our model to extract the operating voltage of each electronics product from its datasheet:\n",
    "\n",
    "```\n",
    "Please reference the provided datasheet to determine the operating voltage of the item. \n",
    "Respond in the following format: \"Operating Voltage: [insert appropriate voltage range]V [AC/DC]\" with the appropriate voltage range and indicating \"AC\" or \"DC\" if applicable, or omitting if not.\n",
    "If the operating voltage is a range, write it as \"A - B\" with \"-\" between the values.\n",
    "If the operating voltage information is not available, specify \"Operating Voltage: N/A\".\n",
    "Datasheet: <insert-datasheet>\n",
    "```"
   ]
  },
  {
   "cell_type": "markdown",
   "id": "1def444c-1f64-4f1c-ae20-1eb84460b59b",
   "metadata": {},
   "source": [
    "Some of these datasheets are very long (over 50 pages), and TLM might not have the ability to ingest large inputs (contact us if you require larger context windows: sales@cleanlab.ai). For this tutorial, we'll limit the input datasheet text to only the first 10,000 characters. Most datasheets summarize product technical details in the first few pages, so this should not be an issue for our information extraction task. If you already know roughly where in your documents the relevant information lies, you can save cost and runtime by only including text from the relevant part of the document in your prompts rather than the whole thing."
   ]
  },
  {
   "cell_type": "code",
   "execution_count": 8,
   "id": "2775de4d-93c0-4a00-b306-8a197741be36",
   "metadata": {},
   "outputs": [],
   "source": [
    "prompt_template = \"\"\"Please reference the provided datasheet to determine the operating voltage of the item. \n",
    "Respond in the following format: \"Operating Voltage: [insert appropriate voltage range]V [AC/DC]\" with the appropriate voltage range and indicating \"AC\" or \"DC\" if applicable, or omitting if not.\n",
    "If the operating voltage is a range, write it as \"A - B\" with \"-\" between the values.\n",
    "If the operating voltage information is not available, specify \"Operating Voltage: N/A\".\n",
    "Datasheet:\n",
    "\"\"\"\n",
    "\n",
    "texts_with_prompt = [prompt_template + text[:10000] for text in pdf_texts]"
   ]
  },
  {
   "cell_type": "markdown",
   "id": "f56f9732-320d-4236-bf69-31af8e0f524f",
   "metadata": {},
   "source": [
    "After forming our prompts for each datasheet, let's run the prompts through TLM. We can run all prompts simultaneously in a batch.\n",
    "\n",
    "TLM will return a list of dictionaries, with each dictionary containing the corresponding response and **trustworthiness score**, which quantifies how confident you can be that the response is correct."
   ]
  },
  {
   "cell_type": "code",
   "execution_count": 9,
   "id": "85c93d7a-eb74-4c98-9b6c-5803758f9a2d",
   "metadata": {
    "scrolled": true
   },
   "outputs": [
    {
     "name": "stderr",
     "output_type": "stream",
     "text": [
      "Querying TLM... 100%|\u2588\u2588\u2588\u2588\u2588\u2588\u2588\u2588\u2588\u2588\u2588\u2588\u2588\u2588\u2588\u2588\u2588\u2588\u2588\u2588\u2588\u2588\u2588\u2588\u2588\u2588\u2588\u2588\u2588\u2588\u2588\u2588\u2588\u2588\u2588\u2588\u2588\u2588\u2588\u2588\u2588\u2588\u2588\u2588\u2588\u2588\u2588\u2588\u2588\u2588\u2588\u2588\u2588\u2588\u2588\u2588\u2588\u2588\u2588\u2588\u2588\u2588\u2588\u2588\u2588\u2588\u2588\u2588\u2588\u2588\u2588\u2588\u2588\u2588\u2588\u2588\u2588\u2588\u2588\u2588\u2588\u2588\u2588\u2588\u2588\u2588\u2588\u2588\u2588\u2588\u2588\u2588\u2588\u2588\u2588\u2588\u2588\u2588\u2588\u2588\u2588\u2588\u2588\u2588\u2588\u2588\u2588\u2588\u2588\u2588\u2588\u2588\u2588\u2588\u2588\u2588\u2588\u2588\u2588\u2588\u2588\u2588\u2588\u2588\u2588\u2588\u2588\u2588\u2588\u2588\u2588\u2588\u2588\u2588\u2588\u2588\u2588\u2588\u2588\u2588\u2588\u2588\u2588\u2588\u2588\u2588\u2588\u2588\u2588\u2588\u2588\u2588\u2588\u2588\u2588\u2588\u2588\u2588\u2588\u2588\u2588\u2588\u2588\u2588\u2588\u2588\u2588\u2588\u2588\u2588\u2588\u2588\u2588\u2588\u2588\u2588\u2588\u2588\u2588\u2588|\n"
     ]
    }
   ],
   "source": [
    "tlm_response = tlm.prompt(texts_with_prompt)"
   ]
  },
  {
   "cell_type": "markdown",
   "id": "95df9f3c-031f-482a-9449-666d16502fd1",
   "metadata": {},
   "source": [
    "Let's organize the extracted information (TLM responses) and trustworthiness scores for each input PDF, along with its filename."
   ]
  },
  {
   "cell_type": "code",
   "execution_count": 10,
   "id": "6c2f4ae1-6a6a-467d-adda-12ac3a78f9e1",
   "metadata": {},
   "outputs": [
    {
     "data": {
      "text/html": [
       "<div>\n",
       "<style scoped>\n",
       "    .dataframe tbody tr th:only-of-type {\n",
       "        vertical-align: middle;\n",
       "    }\n",
       "\n",
       "    .dataframe tbody tr th {\n",
       "        vertical-align: top;\n",
       "    }\n",
       "\n",
       "    .dataframe thead th {\n",
       "        text-align: right;\n",
       "    }\n",
       "</style>\n",
       "<table border=\"1\" class=\"dataframe\">\n",
       "  <thead>\n",
       "    <tr style=\"text-align: right;\">\n",
       "      <th></th>\n",
       "      <th>filename</th>\n",
       "      <th>response</th>\n",
       "      <th>trustworthiness_score</th>\n",
       "    </tr>\n",
       "  </thead>\n",
       "  <tbody>\n",
       "    <tr>\n",
       "      <th>0</th>\n",
       "      <td>1.pdf</td>\n",
       "      <td>Operating Voltage: 5.5V DC</td>\n",
       "      <td>0.997596</td>\n",
       "    </tr>\n",
       "    <tr>\n",
       "      <th>1</th>\n",
       "      <td>10.pdf</td>\n",
       "      <td>Operating Voltage: 2.7 - 5.5V DC</td>\n",
       "      <td>0.992541</td>\n",
       "    </tr>\n",
       "    <tr>\n",
       "      <th>2</th>\n",
       "      <td>11.pdf</td>\n",
       "      <td>Operating Voltage: 1.8 - 5.5V DC</td>\n",
       "      <td>0.985845</td>\n",
       "    </tr>\n",
       "    <tr>\n",
       "      <th>3</th>\n",
       "      <td>12.pdf</td>\n",
       "      <td>Operating Voltage: 0.9 - 1.6V DC</td>\n",
       "      <td>0.987066</td>\n",
       "    </tr>\n",
       "    <tr>\n",
       "      <th>4</th>\n",
       "      <td>13.pdf</td>\n",
       "      <td>Operating Voltage: 1.8 - 5.5V</td>\n",
       "      <td>0.990618</td>\n",
       "    </tr>\n",
       "  </tbody>\n",
       "</table>\n",
       "</div>"
      ],
      "text/plain": [
       "  filename                          response  trustworthiness_score\n",
       "0    1.pdf        Operating Voltage: 5.5V DC               0.997596\n",
       "1   10.pdf  Operating Voltage: 2.7 - 5.5V DC               0.992541\n",
       "2   11.pdf  Operating Voltage: 1.8 - 5.5V DC               0.985845\n",
       "3   12.pdf  Operating Voltage: 0.9 - 1.6V DC               0.987066\n",
       "4   13.pdf     Operating Voltage: 1.8 - 5.5V               0.990618"
      ]
     },
     "execution_count": 10,
     "metadata": {},
     "output_type": "execute_result"
    }
   ],
   "source": [
    "results_df = pd.DataFrame({\n",
    "    \"filename\": pdf_files,\n",
    "    \"response\": [d[\"response\"] for d in tlm_response],\n",
    "    \"trustworthiness_score\": [d[\"trustworthiness_score\"] for d in tlm_response]\n",
    "})\n",
    "\n",
    "results_df.head()"
   ]
  },
  {
   "cell_type": "markdown",
   "id": "4b308a07-ed50-45c1-ae8f-7da1afef9d1c",
   "metadata": {},
   "source": [
    "## Examine Results"
   ]
  },
  {
   "cell_type": "markdown",
   "id": "f441d8af-4b59-4740-aa8d-8165a789fab9",
   "metadata": {},
   "source": [
    "TLM has extracted the product's operating voltage from each datasheet, alongside with a given `trustworthiness_score` indicating its confidence. Let's now examine the results in more detail."
   ]
  },
  {
   "cell_type": "markdown",
   "id": "fa553723",
   "metadata": {},
   "source": [
    "### High Trustworthiness Scores"
   ]
  },
  {
   "cell_type": "markdown",
   "id": "17e08a4d",
   "metadata": {},
   "source": [
    "The responses with the highest trustworthiness scores represent datasheets where TLM is the most confident that it has accurately extracted the operating voltage of the product."
   ]
  },
  {
   "cell_type": "code",
   "execution_count": null,
   "id": "c7cd6aa5",
   "metadata": {},
   "outputs": [
    {
     "data": {
      "text/html": [
       "<div>\n",
       "<style scoped>\n",
       "    .dataframe tbody tr th:only-of-type {\n",
       "        vertical-align: middle;\n",
       "    }\n",
       "\n",
       "    .dataframe tbody tr th {\n",
       "        vertical-align: top;\n",
       "    }\n",
       "\n",
       "    .dataframe thead th {\n",
       "        text-align: right;\n",
       "    }\n",
       "</style>\n",
       "<table border=\"1\" class=\"dataframe\">\n",
       "  <thead>\n",
       "    <tr style=\"text-align: right;\">\n",
       "      <th></th>\n",
       "      <th>filename</th>\n",
       "      <th>response</th>\n",
       "      <th>trustworthiness_score</th>\n",
       "    </tr>\n",
       "  </thead>\n",
       "  <tbody>\n",
       "    <tr>\n",
       "      <th>29</th>\n",
       "      <td>36.pdf</td>\n",
       "      <td>Operating Voltage: N/A</td>\n",
       "      <td>1.000000</td>\n",
       "    </tr>\n",
       "    <tr>\n",
       "      <th>12</th>\n",
       "      <td>20.pdf</td>\n",
       "      <td>Operating Voltage: 3.3V DC</td>\n",
       "      <td>1.000000</td>\n",
       "    </tr>\n",
       "    <tr>\n",
       "      <th>37</th>\n",
       "      <td>43.pdf</td>\n",
       "      <td>Operating Voltage: 1.8 - 3.6V DC</td>\n",
       "      <td>0.999889</td>\n",
       "    </tr>\n",
       "    <tr>\n",
       "      <th>33</th>\n",
       "      <td>4.pdf</td>\n",
       "      <td>Operating Voltage: 19.2 - 28.8V DC</td>\n",
       "      <td>0.999249</td>\n",
       "    </tr>\n",
       "    <tr>\n",
       "      <th>6</th>\n",
       "      <td>15.pdf</td>\n",
       "      <td>Operating Voltage: 12V DC</td>\n",
       "      <td>0.998750</td>\n",
       "    </tr>\n",
       "  </tbody>\n",
       "</table>\n",
       "</div>"
      ],
      "text/plain": [
       "   filename                            response  trustworthiness_score\n",
       "29   36.pdf              Operating Voltage: N/A               1.000000\n",
       "12   20.pdf          Operating Voltage: 3.3V DC               1.000000\n",
       "37   43.pdf    Operating Voltage: 1.8 - 3.6V DC               0.999889\n",
       "33    4.pdf  Operating Voltage: 19.2 - 28.8V DC               0.999249\n",
       "6    15.pdf           Operating Voltage: 12V DC               0.998750"
      ]
     },
     "metadata": {},
     "output_type": "display_data"
    }
   ],
   "source": [
    "results_df.sort_values(\"trustworthiness_score\", ascending=False).head()"
   ]
  },
  {
   "cell_type": "markdown",
   "id": "4a692533",
   "metadata": {},
   "source": [
    "Let's look at an example response with one of our highest trustworthiness scores."
   ]
  },
  {
   "cell_type": "code",
   "execution_count": null,
   "id": "1c2c3510",
   "metadata": {},
   "outputs": [
    {
     "data": {
      "text/html": [
       "<div>\n",
       "<style scoped>\n",
       "    .dataframe tbody tr th:only-of-type {\n",
       "        vertical-align: middle;\n",
       "    }\n",
       "\n",
       "    .dataframe tbody tr th {\n",
       "        vertical-align: top;\n",
       "    }\n",
       "\n",
       "    .dataframe thead th {\n",
       "        text-align: right;\n",
       "    }\n",
       "</style>\n",
       "<table border=\"1\" class=\"dataframe\">\n",
       "  <thead>\n",
       "    <tr style=\"text-align: right;\">\n",
       "      <th></th>\n",
       "      <th>filename</th>\n",
       "      <th>response</th>\n",
       "      <th>trustworthiness_score</th>\n",
       "    </tr>\n",
       "  </thead>\n",
       "  <tbody>\n",
       "    <tr>\n",
       "      <th>24</th>\n",
       "      <td>31.pdf</td>\n",
       "      <td>Operating Voltage: 1.71 - 3.6V DC</td>\n",
       "      <td>0.994991</td>\n",
       "    </tr>\n",
       "  </tbody>\n",
       "</table>\n",
       "</div>"
      ],
      "text/plain": [
       "   filename                           response  trustworthiness_score\n",
       "24   31.pdf  Operating Voltage: 1.71 - 3.6V DC               0.994991"
      ]
     },
     "metadata": {},
     "output_type": "display_data"
    }
   ],
   "source": [
    "results_df.loc[results_df[\"filename\"] == \"31.pdf\"]"
   ]
  },
  {
   "cell_type": "markdown",
   "id": "1db84e87",
   "metadata": {},
   "source": [
    "Below we show part of a datasheet for which the LLM extraction received a high trustworthiness score, document `31.pdf`."
   ]
  },
  {
   "cell_type": "markdown",
   "id": "9e89edcd",
   "metadata": {},
   "source": [
    "![Table from Datasheet 31.pdf](./assets/tlm-text-extraction-tutorial/31.png)"
   ]
  },
  {
   "cell_type": "markdown",
   "id": "d4f7d978",
   "metadata": {},
   "source": [
    "From this image (you can also find this on the page 1 in the original file: [31.pdf](https://cleanlab-public.s3.amazonaws.com/Datasets/electronics-datasheets/31.pdf),\n",
    "we see it specifies the operating voltage range to be **1.71 VDC** to **3.6 VDC**. This matches the extracted information by TLM. When the trustworthiness scores are high, you can trust the results from TLM with great confidence!"
   ]
  },
  {
   "cell_type": "markdown",
   "id": "0af8ec8c",
   "metadata": {},
   "source": [
    "### Low Trustworthiness Scores"
   ]
  },
  {
   "cell_type": "markdown",
   "id": "3272755c",
   "metadata": {},
   "source": [
    "The responses with the lowest trustworthiness scores represent datasheets where you should be least confident in the LLM extractions."
   ]
  },
  {
   "cell_type": "code",
   "execution_count": null,
   "id": "e150a722",
   "metadata": {},
   "outputs": [
    {
     "data": {
      "text/html": [
       "<div>\n",
       "<style scoped>\n",
       "    .dataframe tbody tr th:only-of-type {\n",
       "        vertical-align: middle;\n",
       "    }\n",
       "\n",
       "    .dataframe tbody tr th {\n",
       "        vertical-align: top;\n",
       "    }\n",
       "\n",
       "    .dataframe thead th {\n",
       "        text-align: right;\n",
       "    }\n",
       "</style>\n",
       "<table border=\"1\" class=\"dataframe\">\n",
       "  <thead>\n",
       "    <tr style=\"text-align: right;\">\n",
       "      <th></th>\n",
       "      <th>filename</th>\n",
       "      <th>response</th>\n",
       "      <th>trustworthiness_score</th>\n",
       "    </tr>\n",
       "  </thead>\n",
       "  <tbody>\n",
       "    <tr>\n",
       "      <th>20</th>\n",
       "      <td>28.pdf</td>\n",
       "      <td>Operating Voltage: 2.81 - 3.15V DC</td>\n",
       "      <td>0.273827</td>\n",
       "    </tr>\n",
       "    <tr>\n",
       "      <th>64</th>\n",
       "      <td>68.pdf</td>\n",
       "      <td>Operating Voltage: 1.5 - 3.8V DC</td>\n",
       "      <td>0.321355</td>\n",
       "    </tr>\n",
       "    <tr>\n",
       "      <th>73</th>\n",
       "      <td>76.pdf</td>\n",
       "      <td>Operating Voltage: 18 - 36 VDC</td>\n",
       "      <td>0.336443</td>\n",
       "    </tr>\n",
       "    <tr>\n",
       "      <th>7</th>\n",
       "      <td>16.pdf</td>\n",
       "      <td>Operating Voltage: 2.3 - 2.7V DC, 4.6 - 5.5V DC, 6.9 - 8.1V DC</td>\n",
       "      <td>0.367804</td>\n",
       "    </tr>\n",
       "    <tr>\n",
       "      <th>14</th>\n",
       "      <td>22.pdf</td>\n",
       "      <td>Operating Voltage: 6.3 - 450 V DC</td>\n",
       "      <td>0.438818</td>\n",
       "    </tr>\n",
       "  </tbody>\n",
       "</table>\n",
       "</div>"
      ],
      "text/plain": [
       "   filename                                                        response  \\\n",
       "20   28.pdf                              Operating Voltage: 2.81 - 3.15V DC   \n",
       "64   68.pdf                                Operating Voltage: 1.5 - 3.8V DC   \n",
       "73   76.pdf                                  Operating Voltage: 18 - 36 VDC   \n",
       "7    16.pdf  Operating Voltage: 2.3 - 2.7V DC, 4.6 - 5.5V DC, 6.9 - 8.1V DC   \n",
       "14   22.pdf                               Operating Voltage: 6.3 - 450 V DC   \n",
       "\n",
       "    trustworthiness_score  \n",
       "20               0.273827  \n",
       "64               0.321355  \n",
       "73               0.336443  \n",
       "7                0.367804  \n",
       "14               0.438818  "
      ]
     },
     "metadata": {},
     "output_type": "display_data"
    }
   ],
   "source": [
    "results_df.sort_values(\"trustworthiness_score\").head()"
   ]
  },
  {
   "cell_type": "markdown",
   "id": "1b4ca712",
   "metadata": {},
   "source": [
    "Let's zoom in on one example where the LLM extraction received a low trustworthiness score."
   ]
  },
  {
   "cell_type": "code",
   "execution_count": null,
   "id": "e52abe74",
   "metadata": {},
   "outputs": [
    {
     "data": {
      "text/html": [
       "<div>\n",
       "<style scoped>\n",
       "    .dataframe tbody tr th:only-of-type {\n",
       "        vertical-align: middle;\n",
       "    }\n",
       "\n",
       "    .dataframe tbody tr th {\n",
       "        vertical-align: top;\n",
       "    }\n",
       "\n",
       "    .dataframe thead th {\n",
       "        text-align: right;\n",
       "    }\n",
       "</style>\n",
       "<table border=\"1\" class=\"dataframe\">\n",
       "  <thead>\n",
       "    <tr style=\"text-align: right;\">\n",
       "      <th></th>\n",
       "      <th>filename</th>\n",
       "      <th>response</th>\n",
       "      <th>trustworthiness_score</th>\n",
       "    </tr>\n",
       "  </thead>\n",
       "  <tbody>\n",
       "    <tr>\n",
       "      <th>30</th>\n",
       "      <td>37.pdf</td>\n",
       "      <td>Operating Voltage: 3.0 - 3.3V DC</td>\n",
       "      <td>0.488113</td>\n",
       "    </tr>\n",
       "  </tbody>\n",
       "</table>\n",
       "</div>"
      ],
      "text/plain": [
       "   filename                          response  trustworthiness_score\n",
       "30   37.pdf  Operating Voltage: 3.0 - 3.3V DC               0.488113"
      ]
     },
     "metadata": {},
     "output_type": "display_data"
    }
   ],
   "source": [
    "results_df.loc[results_df[\"filename\"] == \"37.pdf\"]"
   ]
  },
  {
   "cell_type": "markdown",
   "id": "cbab8ff8",
   "metadata": {},
   "source": [
    "The LLM extracted a operating voltage value of **3V DC** for datasheet `37.pdf`, which received a low trustworthiness score.\n",
    "We depict part of this datasheet below (you can find this information on Page 7 of [37.pdf](https://cleanlab-public.s3.amazonaws.com/Datasets/electronics-datasheets/37.pdf)). Reviewing the document, we see that this table only lists the product's supply voltage and backlight supply voltage. There is no mention of the operating voltage. The LLM failed to extract the correct information (or realize that this information is not available), and hence returns the wrong response. At least you automatically get a low trustworthiness score for this response, allow you to catch this incorrect LLM output."
   ]
  },
  {
   "cell_type": "markdown",
   "id": "a875c1e0-f394-4077-a0ba-e77d5c0ee4a7",
   "metadata": {},
   "source": [
    "![Table from Datasheet 37.pdf](./assets/tlm-text-extraction-tutorial/37.png)"
   ]
  },
  {
   "cell_type": "markdown",
   "id": "9a8ed140-6440-4fb4-a70a-6940e9e40937",
   "metadata": {},
   "source": [
    "For datasheet `68.pdf`, the LLM output also received a low trustworthiness score. The LLM output was:\n",
    "> Operating Voltage: 1.5 - 2.6V DC\n",
    "\n",
    "Below we review part of the corresponding datasheet (the table on page 2 of [68.pdf](https://cleanlab-public.s3.amazonaws.com/Datasets/electronics-datasheets/68.pdf))."
   ]
  },
  {
   "cell_type": "markdown",
   "id": "efbb0a36-05f7-4082-9512-e48606f8c3f8",
   "metadata": {},
   "source": [
    "![Table from Datasheet 68.pdf](./assets/tlm-text-extraction-tutorial/68.png)"
   ]
  },
  {
   "cell_type": "markdown",
   "id": "312237ed-af08-4588-84e7-f6963edb5f81",
   "metadata": {},
   "source": [
    "We see that there are many different products here with a wide range of operating voltages (some of which are not in the 1.5 - 2.6V range).\n",
    "Again, the low trustworthiness scores automatically help you discover that this example requires further review.\n",
    "\n",
    "Don't let unreliable LLM outputs block AI automation to extract information from documents at scale! With TLM, you can let LLMs automatically process the documents where they are trustworthy and automatically detect which remaining LLM outputs to manually review. This saves your team time and improves the accuracy of extracted information."
   ]
  },
  {
   "cell_type": "markdown",
   "id": "ef6641a4",
   "metadata": {},
   "source": [
    "# Enforcing Structured Outputs from TLM via the OpenAI API\n",
    "\n",
    "Above, we extracted the operating voltage from datasheets using basic LLM calls. Let's explore more advanced extraction that enforces structured outputs from the LLM. TLM can score the trustworthiness of LLM structured outputs when you use it via our OpenAI API integration."
   ]
  },
  {
   "cell_type": "markdown",
   "id": "b629e4c3",
   "metadata": {},
   "source": [
    "Let's extract multiple fields simultaneously and ensure they conform to a specific format by defining a structured output schema. For instance, you can guarantee the LLM outputs: specific fields and specific types of values for each field (numbers, specific categories, ...). Here we'll extract:\n",
    "\n",
    "- Operating voltage\n",
    "- Whether the maximum dimension exceeds 100mm"
   ]
  },
  {
   "cell_type": "markdown",
   "id": "7fe15058",
   "metadata": {},
   "source": [
    "First install and import the necessary libraries."
   ]
  },
  {
   "cell_type": "code",
   "execution_count": null,
   "id": "d8d2fd17",
   "metadata": {},
   "outputs": [],
   "source": [
    "%pip install openai pydantic"
   ]
  },
  {
   "cell_type": "code",
   "execution_count": null,
   "id": "d8d2fd17",
   "metadata": {},
   "outputs": [],
   "source": [
    "from pydantic import BaseModel, Field\n",
    "from typing import Literal\n",
    "from openai import OpenAI"
   ]
  },
  {
   "cell_type": "markdown",
   "id": "6d7365c1",
   "metadata": {},
   "source": [
    "We define a Pydantic schema to specify the extracted data format:"
   ]
  },
  {
   "cell_type": "code",
   "execution_count": null,
   "id": "b0d524c4",
   "metadata": {},
   "outputs": [],
   "source": [
    "class DatasheetInfo(BaseModel):\n",
    "    operating_voltage: str = Field(\n",
    "        description=\"The operating voltage of the product in the format 'X - Y V [AC/DC]' or single value 'X V [AC/DC]'. Use 'N/A' if not available.\"\n",
    "    )\n",
    "    max_dimension_exceeds_100mm: Literal[\"Yes\", \"No\", \"N/A\"] = Field(\n",
    "        description=\"Whether any dimension (length, width, or height) exceeds 100mm. Choose 'Yes', 'No', or 'N/A' if dimensions are not specified.\"\n",
    "    )"
   ]
  },
  {
   "cell_type": "markdown",
   "id": "f7e10394",
   "metadata": {},
   "source": [
    "We initialize a TLM client via the OpenAI client library. This allows you to run any OpenAI-compatible code and get trustworthiness scores, including for nonstandard response types like structured outputs, tool calls, etc."
   ]
  },
  {
   "cell_type": "code",
   "execution_count": null,
   "id": "f99b88b3",
   "metadata": {},
   "outputs": [],
   "source": [
    "client = OpenAI(\n",
    "    api_key=\"<Cleanlab API key>\",  # Get your key from https://tlm.cleanlab.ai/\n",
    "    base_url=\"https://api.cleanlab.ai/api/v1/openai_trustworthy_llm/\"\n",
    ")"
   ]
  },
  {
   "cell_type": "markdown",
   "id": "625df451",
   "metadata": {},
   "source": [
    "### Extract Multiple Fields from Documents"
   ]
  },
  {
   "cell_type": "markdown",
   "id": "9cd6a87b",
   "metadata": {},
   "source": [
    "Let's create a prompt for structured extraction of multiple fields at once. Here we just show this for one example datasheet."
   ]
  },
  {
   "cell_type": "code",
   "execution_count": null,
   "id": "c10c569b",
   "metadata": {},
   "outputs": [],
   "source": [
    "# Modify our existing prompt template from the tutorial\n",
    "prompt_template = \"\"\"Please reference the provided datasheet to determine the operating voltage of the item and whether any dimension exceeds 100mm. \n",
    "\n",
    "For operating voltage:\n",
    "Respond in the format: \"Operating Voltage: [insert appropriate voltage range]V [AC/DC]\" with the appropriate voltage range and indicating \"AC\" or \"DC\" if applicable, or omitting if not.\n",
    "If the operating voltage is a range, write it as \"A - B\" with \"-\" between the values.\n",
    "If the operating voltage information is not available, specify \"Operating Voltage: N/A\".\n",
    "\n",
    "For maximum dimension:\n",
    "Also determine if any dimension (length, width, or height) exceeds 100mm.\n",
    "Choose 'Yes', 'No', or 'N/A' if dimensions are not specified.\n",
    "\n",
    "Datasheet:\n",
    "\"\"\"\n",
    "\n",
    "# Sample datasheet text (first 1000 characters from the datasheet)\n",
    "datasheet_text = \"\"\"\n",
    "0.5w Solar Panel 55*70\n",
    "This is a custom solar panel, which mates directly with many of our development boards and has a high efficiency at 17%. Unit has a clear epoxy coating with hard-board backing. Robust sealing for out door applications!\n",
    "Specification\n",
    "PET\n",
    "Package\n",
    "Typical peak power\n",
    "0.55W\n",
    "Voltage at peak power\n",
    "5.5v\n",
    "Current at peak power\n",
    "100mA\n",
    "Length\n",
    "70 mm\n",
    "Width\n",
    "55 mm\n",
    "Depth\n",
    "1.5 mm\n",
    "Weight\n",
    "17g\n",
    "Efficiency\n",
    "17%\n",
    "Wire diameter\n",
    "1.5mm\n",
    "Connector\n",
    "2.0mm JST\n",
    "\"\"\"\n",
    "\n",
    "# Build the full prompt\n",
    "full_prompt = prompt_template + datasheet_text"
   ]
  },
  {
   "cell_type": "markdown",
   "id": "bb8a30e5",
   "metadata": {},
   "source": [
    "Now we use the OpenAI API to extract multiple fields at once. Since we pointed the OpenAI client `base_url` at TLM, we will also get back trustworthiness scores for each request."
   ]
  },
  {
   "cell_type": "code",
   "execution_count": null,
   "id": "6739a1d5",
   "metadata": {},
   "outputs": [
    {
     "name": "stdout",
     "output_type": "stream",
     "text": [
      "Extracted Information:\n",
      "Operating Voltage: Operating Voltage: 5.5 V\n",
      "Max Dimension Exceeds 100mm: No\n",
      "Trustworthiness Score: 0.7003051903015907\n"
     ]
    }
   ],
   "source": [
    "# Send request to TLM via OpenAI API\n",
    "completion = client.beta.chat.completions.parse(\n",
    "    model=\"gpt-4o\",  # You can also use \"gpt-4o-low\" or \"gpt-4o-medium\" for different quality presets\n",
    "    messages=[\n",
    "        {\"role\": \"user\", \"content\": full_prompt}\n",
    "    ],\n",
    "    response_format=DatasheetInfo,\n",
    ")\n",
    "\n",
    "# Extract the structured information and trustworthiness score\n",
    "extracted_info = completion.choices[0].message.parsed\n",
    "trustworthiness_score = completion.tlm_metadata[\"trustworthiness_score\"]\n",
    "\n",
    "# Display the results\n",
    "print(f\"Extracted Information:\")\n",
    "print(f\"Operating Voltage: {extracted_info.operating_voltage}\")\n",
    "print(f\"Max Dimension Exceeds 100mm: {extracted_info.max_dimension_exceeds_100mm}\")\n",
    "print(f\"Trustworthiness Score: {trustworthiness_score}\")"
   ]
  },
  {
   "cell_type": "markdown",
   "id": "54c949b8",
   "metadata": {},
   "source": [
    "## Next Steps\n",
    "\n",
    "- You may find [TLM with Structured Outputs](/tlm/tutorials/tlm_structured_outputs/) useful in certain data extraction applications like Named Entity Recognition or PII Detection.\n",
    "- Also check out our [cheatsheet](/tlm/faq/) and [Data Annotation tutorial](/tlm/use-cases/tlm_annotation/).\n",
    "- To improve extraction accuracy, run TLM with a more powerful `model` and `quality_preset` [configuration](/tlm/faq/#recommended-tlm-configurations-to-try)."
   ]
  }
 ],
 "metadata": {
  "kernelspec": {
   "display_name": "Python 3",
   "language": "python",
   "name": "python3"
  },
  "language_info": {
   "codemirror_mode": {
    "name": "ipython",
    "version": 3
   },
   "file_extension": ".py",
   "mimetype": "text/x-python",
   "name": "python",
   "nbconvert_exporter": "python",
   "pygments_lexer": "ipython3",
   "version": "3.11.10"
  }
 },
 "nbformat": 4,
 "nbformat_minor": 5
}