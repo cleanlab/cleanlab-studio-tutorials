{
 "cells": [
  {
   "cell_type": "markdown",
   "id": "3b1788ba-96c0-4f84-93e8-465202e99b18",
   "metadata": {},
   "source": [
    "# Information Extraction from Documents using the Trustworthy Language Model\n",
    "\n",
    "<head>\n",
    "  <meta name=\"title\" content=\"Trustworthy Data Extraction from Documents using LLMs\"/>\n",
    "  <meta property=\"og:title\" content=\"Trustworthy Data Extraction from Documents using LLMs\"/>\n",
    "  <meta name=\"twitter:title\" content=\"Trustworthy Data Extraction from Documents using LLMs\" />\n",
    "  <meta name=\"image\" content=\"/img/extraction.png\" />\n",
    "  <meta property=\"og:image\" content=\"/img/extraction.png\" />\n",
    "  <meta name=\"description\" content=\"Automatically catch incorrectly extracted information with the Trustworthy Language Model (TLM).\"  />\n",
    "  <meta property=\"og:description\" content=\"Automatically catch incorrectly extracted information with the Trustworthy Language Model (TLM).\" />\n",
    "  <meta name=\"twitter:description\" content=\"Automatically catch incorrectly extracted information with the Trustworthy Language Model (TLM).\" />\n",
    "</head>\n",
    "\n"
   ]
  },
  {
   "cell_type": "markdown",
   "id": "7feae7bd-3173-4a2f-b528-6ca33fe2d4e7",
   "metadata": {},
   "source": [
    "This tutorial demonstrates how to use Cleanlab's Trustworthy Language Model (TLM) to reliably extract data from unstructured text documents. \n",
    "\n",
    "You can use TLM like any other LLM, just prompt it with the document text provided as context along with an instruction detailing what information should be extracted and in what format. While today's GenAI and LLMs demonstrate promise for such information extraction, the technology remains fundamentally unreliable. LLMs may extract **completely wrong (hallucinated) values** in certain edge-cases, but you won't know with existing LLMs. Cleanlab's TLM also provides a **trustworthiness score** alongside the extracted information to indicate how confident we can be regarding its accuracy. TLM trustworthiness scores offer state-of-the-art automation to catch badly extracted information before it harms downstream processes.\n",
    "\n",
    "![LLM extracting data and providing trustworthiness scores](./assets/tlm-text-extraction-tutorial/extraction.png)"
   ]
  },
  {
   "cell_type": "markdown",
   "id": "e9ed290c-755c-458e-8997-d3c06c26ddcd",
   "metadata": {},
   "source": [
    "## Setup"
   ]
  },
  {
   "cell_type": "markdown",
   "id": "8a4f7e8d-12c2-4684-a0c3-9aa669f319b7",
   "metadata": {},
   "source": [
    "This tutorial requires a TLM API key. Get one [here](https://tlm.cleanlab.ai/), and first complete the [quickstart tutorial](/tlm/tutorials/tlm/).\n",
    "\n",
    "The Python packages required for this tutorial can be installed using pip:"
   ]
  },
  {
   "cell_type": "code",
   "execution_count": null,
   "id": "50cbb98f",
   "metadata": {},
   "outputs": [],
   "source": [
    "!apt-get -qq install poppler-utils  # Required for PDF processing with unstructured library"
   ]
  },
  {
   "cell_type": "code",
   "execution_count": null,
   "id": "0c4361c2",
   "metadata": {},
   "outputs": [],
   "source": [
    "%pip install --upgrade cleanlab-tlm \"unstructured[pdf]==0.18.15\""
   ]
  },
  {
   "cell_type": "code",
   "execution_count": null,
   "id": "99cec5c4",
   "metadata": {},
   "outputs": [],
   "source": [
    "# Set your API key\n",
    "import os\n",
    "os.environ[\"CLEANLAB_TLM_API_KEY\"] = \"<API key>\" # Get your free API key from: https://tlm.cleanlab.ai/"
   ]
  },
  {
   "cell_type": "code",
   "execution_count": null,
   "id": "ac9b9325-4c69-4e6d-a6c2-f52adccd8e87",
   "metadata": {},
   "outputs": [],
   "source": [
    "import pandas as pd\n",
    "from unstructured.partition.pdf import partition_pdf\n",
    "from IPython.display import display, IFrame\n",
    "\n",
    "from cleanlab_tlm import TLM\n",
    "\n",
    "pd.set_option('display.max_colwidth', None)  "
   ]
  },
  {
   "cell_type": "markdown",
   "id": "c6d6bf89-c61f-4909-91c3-00a0a2c396c6",
   "metadata": {},
   "source": [
    "## Document Dataset"
   ]
  },
  {
   "cell_type": "markdown",
   "id": "8ae79c6f-fed8-48dd-9998-8f8ba18213d8",
   "metadata": {},
   "source": [
    "The ideas demonstrated in this tutorial apply to arbitrary information extracation tasks involving any types of documents. The particular documents demonstrated in this tutorial are a collection of datasheets for electronic parts, stored in PDF format. These datasheets contain technical specifications and application guidelines regarding the electronic products, serving as an important guide for users of these products. Let's download the data and look at an example datasheet."
   ]
  },
  {
   "cell_type": "code",
   "execution_count": null,
   "id": "471f80e8-0417-427a-814f-e31a0073aa3a",
   "metadata": {},
   "outputs": [],
   "source": [
    "!wget -nc https://cleanlab-public.s3.amazonaws.com/Datasets/electronics-datasheets/electronics-datasheets.zip\n",
    "!mkdir datasheets/\n",
    "!unzip -q electronics-datasheets.zip -d datasheets/"
   ]
  },
  {
   "cell_type": "markdown",
   "id": "150c51cb-1f9b-4e6e-996e-9930572b64de",
   "metadata": {},
   "source": [
    "Here's the first page of a sample datasheet ([13.pdf](https://cleanlab-public.s3.amazonaws.com/Datasets/electronics-datasheets/13.pdf)):"
   ]
  },
  {
   "cell_type": "markdown",
   "id": "c345354a-b594-492c-9ca6-a45ab45121db",
   "metadata": {},
   "source": [
    "![Sample Datasheet 13.pdf](./assets/tlm-text-extraction-tutorial/13.png)"
   ]
  },
  {
   "cell_type": "markdown",
   "id": "8cc1bfac-5274-4774-9de0-cabb98002008",
   "metadata": {},
   "source": [
    "This document contains many details, so it might be tough to extract one particular piece of information. Datasheets may use complex and highly technical language, while also varying in their structure and organization of information. \n",
    "\n",
    "Hence, we'll use the Trustworthy Language Model (TLM) to automatically extract key information about each product from these datasheets. TLM also provides a trustworthiness score to quantify how confident we can be that the right information was extracted, which allows us to catch potential errors in this process at scale."
   ]
  },
  {
   "cell_type": "markdown",
   "id": "a3ea8019-99cd-41f8-b765-031ff41309ef",
   "metadata": {},
   "source": [
    "## Convert PDF Documents to Text"
   ]
  },
  {
   "cell_type": "markdown",
   "id": "c1a5f8dd-a78f-4b4c-86ce-d9dc96c02a88",
   "metadata": {},
   "source": [
    "Our documents are PDFs, but TLM requires text inputs (like any other LLM). We can use the open-source `unstructured` library to extract the text from each PDF."
   ]
  },
  {
   "cell_type": "code",
   "execution_count": null,
   "id": "13353715-3618-4786-9926-638419c25397",
   "metadata": {},
   "outputs": [],
   "source": [
    "import nltk\n",
    "nltk.download('punkt_tab')\n",
    "nltk.download('averaged_perceptron_tagger_eng')\n",
    "\n",
    "def extract_text_from_pdf(filename):\n",
    "    elements = partition_pdf(filename, languages=[\"en\"])\n",
    "    text = \"\\n\".join([str(el) for el in elements])\n",
    "    return text"
   ]
  },
  {
   "cell_type": "code",
   "execution_count": null,
   "id": "c01ef390-9d2f-4d12-99d5-4655ac794419",
   "metadata": {},
   "outputs": [],
   "source": [
    "directory = \"datasheets/\"\n",
    "all_files = os.listdir(directory)\n",
    "pdf_files = sorted([file for file in all_files if file.endswith('.pdf')])\n",
    "pdf_texts = [extract_text_from_pdf(os.path.join(directory, file)) for file in pdf_files]"
   ]
  },
  {
   "cell_type": "markdown",
   "id": "e97beee4-67ad-4a76-9a8c-a4cadbe04763",
   "metadata": {},
   "source": [
    "Here is a sample of the extracted text:"
   ]
  },
  {
   "cell_type": "code",
   "execution_count": 5,
   "id": "bb9b66cc",
   "metadata": {},
   "outputs": [
    {
     "name": "stdout",
     "output_type": "stream",
     "text": [
      "0.5w Solar Panel 55*70\n",
      "This is a custom solar panel, which mates directly with many of our development boards and has a high efficiency at 17%. Unit has a clear epoxy coating with hard-board backing. Robust sealing for out door applications!\n",
      "Specification\n",
      "PET\n",
      "Package\n",
      "Typical peak power\n",
      "0.55W\n",
      "Voltage at peak power\n",
      "5.5v\n",
      "Current at peak power\n",
      "100mA\n",
      "Length\n",
      "70 mm\n",
      "Width\n",
      "55 mm\n",
      "Depth\n",
      "1.5 mm\n",
      "Weight\n",
      "17g\n",
      "Efficiency\n",
      "17%\n",
      "Wire diameter\n",
      "1.5mm\n",
      "Connector\n",
      "2.0mm JST\n",
      "Hardware Installation\n",
      "http://wiki.seeedstudio.com/0.5w_Solar_Panel_55x70/9\u201024\u201018\n"
     ]
    }
   ],
   "source": [
    "print(pdf_texts[0])"
   ]
  },
  {
   "cell_type": "markdown",
   "id": "64ee140e-68a4-474a-ac69-66eaddbd78a1",
   "metadata": {},
   "source": [
    "## Extract Information using TLM"
   ]
  },
  {
   "cell_type": "markdown",
   "id": "5b00d16f-0c72-4fea-b64b-4c851b07bc2b",
   "metadata": {},
   "source": [
    "Let's initalize TLM, here using default configuration settings."
   ]
  },
  {
   "cell_type": "code",
   "execution_count": null,
   "id": "7ffbb98a-7564-4aac-8e13-52063b7fe14d",
   "metadata": {},
   "outputs": [],
   "source": [
    "tlm = TLM()  # See Advanced Tutorial for optional TLM configurations to get better/faster results"
   ]
  },
  {
   "cell_type": "markdown",
   "id": "f2e92b1a-74bb-4a1f-b3ac-da2d1d6c706d",
   "metadata": {},
   "source": [
    "We'll use the following prompt template that instructs our model to extract the operating voltage of each electronics product from its datasheet:\n",
    "\n",
    "```\n",
    "Please reference the provided datasheet to determine the operating voltage of the item. \n",
    "Respond in the following format: \"Operating Voltage: [insert appropriate voltage range]V [AC/DC]\" with the appropriate voltage range and indicating \"AC\" or \"DC\" if applicable, or omitting if not.\n",
    "If the operating voltage is a range, write it as \"A - B\" with \"-\" between the values.\n",
    "If the operating voltage information is not available, specify \"Operating Voltage: N/A\".\n",
    "Datasheet: <insert-datasheet>\n",
    "```"
   ]
  },
  {
   "cell_type": "markdown",
   "id": "1def444c-1f64-4f1c-ae20-1eb84460b59b",
   "metadata": {},
   "source": [
    "Some of these datasheets are very long (over 50 pages), and TLM might not have the ability to ingest large inputs (contact us if you require larger context windows: sales@cleanlab.ai). For this tutorial, we'll limit the input datasheet text to only the first 10,000 characters. Most datasheets summarize product technical details in the first few pages, so this should not be an issue for our information extraction task. If you already know roughly where in your documents the relevant information lies, you can save cost and runtime by only including text from the relevant part of the document in your prompts rather than the whole thing."
   ]
  },
  {
   "cell_type": "code",
   "execution_count": 10,
   "id": "2775de4d-93c0-4a00-b306-8a197741be36",
   "metadata": {},
   "outputs": [],
   "source": [
    "prompt_template = \"\"\"Please reference the provided datasheet to determine the operating voltage of the item. \n",
    "Respond in the following format: \"Operating Voltage: [insert appropriate voltage range]V [AC/DC]\" with the appropriate voltage range and indicating \"AC\" or \"DC\" if applicable, or omitting if not.\n",
    "If the operating voltage is a range, write it as \"A - B\" with \"-\" between the values.\n",
    "If the operating voltage information is not available, specify \"Operating Voltage: N/A\".\n",
    "Datasheet:\n",
    "\"\"\"\n",
    "\n",
    "texts_with_prompt = [prompt_template + text[:10000] for text in pdf_texts]"
   ]
  },
  {
   "cell_type": "markdown",
   "id": "f56f9732-320d-4236-bf69-31af8e0f524f",
   "metadata": {},
   "source": [
    "After forming our prompts for each datasheet, let's generate LLM responses using these prompts. Here we use `TLM.prompt()` to both generate responses and score their trustworthiness, but you can alternatively use any LLM to generate responses and `TLM.get_trustworthiness_score()` to score their trustworthiness."
   ]
  },
  {
   "cell_type": "code",
   "execution_count": null,
   "id": "85c93d7a-eb74-4c98-9b6c-5803758f9a2d",
   "metadata": {
    "scrolled": true
   },
   "outputs": [],
   "source": [
    "tlm_response = tlm.prompt(texts_with_prompt)  # run all prompts at once in batch-mode"
   ]
  },
  {
   "cell_type": "markdown",
   "id": "95df9f3c-031f-482a-9449-666d16502fd1",
   "metadata": {},
   "source": [
    "Let's organize the extracted information from the LLM and trustworthiness scores, along with the filename of each document."
   ]
  },
  {
   "cell_type": "code",
   "execution_count": null,
   "id": "6c2f4ae1-6a6a-467d-adda-12ac3a78f9e1",
   "metadata": {},
   "outputs": [
    {
     "data": {
      "text/html": [
       "<div>\n",
       "<style scoped>\n",
       "    .dataframe tbody tr th:only-of-type {\n",
       "        vertical-align: middle;\n",
       "    }\n",
       "\n",
       "    .dataframe tbody tr th {\n",
       "        vertical-align: top;\n",
       "    }\n",
       "\n",
       "    .dataframe thead th {\n",
       "        text-align: right;\n",
       "    }\n",
       "</style>\n",
       "<table border=\"1\" class=\"dataframe\">\n",
       "  <thead>\n",
       "    <tr style=\"text-align: right;\">\n",
       "      <th></th>\n",
       "      <th>filename</th>\n",
       "      <th>response</th>\n",
       "      <th>trustworthiness_score</th>\n",
       "    </tr>\n",
       "  </thead>\n",
       "  <tbody>\n",
       "    <tr>\n",
       "      <th>0</th>\n",
       "      <td>1.pdf</td>\n",
       "      <td>Operating Voltage: 5.5V DC</td>\n",
       "      <td>0.987320</td>\n",
       "    </tr>\n",
       "    <tr>\n",
       "      <th>1</th>\n",
       "      <td>10.pdf</td>\n",
       "      <td>Operating Voltage: 2.7 - 5.5V DC</td>\n",
       "      <td>0.992886</td>\n",
       "    </tr>\n",
       "    <tr>\n",
       "      <th>2</th>\n",
       "      <td>11.pdf</td>\n",
       "      <td>Operating Voltage: 1.8 - 5.5V</td>\n",
       "      <td>0.977994</td>\n",
       "    </tr>\n",
       "    <tr>\n",
       "      <th>3</th>\n",
       "      <td>12.pdf</td>\n",
       "      <td>Operating Voltage: 0.9 - 1.6V DC</td>\n",
       "      <td>0.991136</td>\n",
       "    </tr>\n",
       "    <tr>\n",
       "      <th>4</th>\n",
       "      <td>13.pdf</td>\n",
       "      <td>Operating Voltage: 1.8 - 5.5V</td>\n",
       "      <td>0.985581</td>\n",
       "    </tr>\n",
       "  </tbody>\n",
       "</table>\n",
       "</div>"
      ],
      "text/plain": [
       "  filename                          response  trustworthiness_score\n",
       "0    1.pdf        Operating Voltage: 5.5V DC               0.987320\n",
       "1   10.pdf  Operating Voltage: 2.7 - 5.5V DC               0.992886\n",
       "2   11.pdf     Operating Voltage: 1.8 - 5.5V               0.977994\n",
       "3   12.pdf  Operating Voltage: 0.9 - 1.6V DC               0.991136\n",
       "4   13.pdf     Operating Voltage: 1.8 - 5.5V               0.985581"
      ]
     },
     "execution_count": 12,
     "metadata": {},
     "output_type": "execute_result"
    }
   ],
   "source": [
    "results_df = pd.DataFrame({\n",
    "    \"filename\": pdf_files,\n",
    "    \"response\": [d[\"response\"] for d in tlm_response],\n",
    "    \"trustworthiness_score\": [d[\"trustworthiness_score\"] for d in tlm_response]\n",
    "})\n",
    "\n",
    "results_df.head()"
   ]
  },
  {
   "cell_type": "markdown",
   "id": "4b308a07-ed50-45c1-ae8f-7da1afef9d1c",
   "metadata": {},
   "source": [
    "## Examine Results"
   ]
  },
  {
   "cell_type": "markdown",
   "id": "f441d8af-4b59-4740-aa8d-8165a789fab9",
   "metadata": {},
   "source": [
    "The LLM has extracted the product's operating voltage from each datasheet, and we have a `trustworthiness_score` indicating how confident we can be that the LLM output is correct."
   ]
  },
  {
   "cell_type": "markdown",
   "id": "fa553723",
   "metadata": {},
   "source": [
    "### High Trustworthiness Scores"
   ]
  },
  {
   "cell_type": "markdown",
   "id": "17e08a4d",
   "metadata": {},
   "source": [
    "The responses with the highest trustworthiness scores represent datasheets where we can be the most confident that the LLM has accurately extracted the product's operating voltage from its datasheet document."
   ]
  },
  {
   "cell_type": "code",
   "execution_count": 13,
   "id": "c7cd6aa5",
   "metadata": {},
   "outputs": [
    {
     "data": {
      "text/html": [
       "<div>\n",
       "<style scoped>\n",
       "    .dataframe tbody tr th:only-of-type {\n",
       "        vertical-align: middle;\n",
       "    }\n",
       "\n",
       "    .dataframe tbody tr th {\n",
       "        vertical-align: top;\n",
       "    }\n",
       "\n",
       "    .dataframe thead th {\n",
       "        text-align: right;\n",
       "    }\n",
       "</style>\n",
       "<table border=\"1\" class=\"dataframe\">\n",
       "  <thead>\n",
       "    <tr style=\"text-align: right;\">\n",
       "      <th></th>\n",
       "      <th>filename</th>\n",
       "      <th>response</th>\n",
       "      <th>trustworthiness_score</th>\n",
       "    </tr>\n",
       "  </thead>\n",
       "  <tbody>\n",
       "    <tr>\n",
       "      <th>48</th>\n",
       "      <td>53.pdf</td>\n",
       "      <td>Operating Voltage: 2.2 - 3.6V DC</td>\n",
       "      <td>0.998998</td>\n",
       "    </tr>\n",
       "    <tr>\n",
       "      <th>11</th>\n",
       "      <td>2.pdf</td>\n",
       "      <td>Operating Voltage: 10 - 30V DC</td>\n",
       "      <td>0.998991</td>\n",
       "    </tr>\n",
       "    <tr>\n",
       "      <th>26</th>\n",
       "      <td>33.pdf</td>\n",
       "      <td>Operating Voltage: 1.62 - 3.6V DC</td>\n",
       "      <td>0.998701</td>\n",
       "    </tr>\n",
       "    <tr>\n",
       "      <th>22</th>\n",
       "      <td>3.pdf</td>\n",
       "      <td>Operating Voltage: 2.4 - 3.6V DC</td>\n",
       "      <td>0.998617</td>\n",
       "    </tr>\n",
       "    <tr>\n",
       "      <th>44</th>\n",
       "      <td>5.pdf</td>\n",
       "      <td>Operating Voltage: 4.5 - 9V DC</td>\n",
       "      <td>0.998272</td>\n",
       "    </tr>\n",
       "  </tbody>\n",
       "</table>\n",
       "</div>"
      ],
      "text/plain": [
       "   filename                           response  trustworthiness_score\n",
       "48   53.pdf   Operating Voltage: 2.2 - 3.6V DC               0.998998\n",
       "11    2.pdf     Operating Voltage: 10 - 30V DC               0.998991\n",
       "26   33.pdf  Operating Voltage: 1.62 - 3.6V DC               0.998701\n",
       "22    3.pdf   Operating Voltage: 2.4 - 3.6V DC               0.998617\n",
       "44    5.pdf     Operating Voltage: 4.5 - 9V DC               0.998272"
      ]
     },
     "execution_count": 40,
     "metadata": {},
     "output_type": "execute_result"
    }
   ],
   "source": [
    "results_df.sort_values(\"trustworthiness_score\", ascending=False).head()"
   ]
  },
  {
   "cell_type": "markdown",
   "id": "4a692533",
   "metadata": {},
   "source": [
    "Let's look at an example response with one of our highest trustworthiness scores."
   ]
  },
  {
   "cell_type": "code",
   "execution_count": 14,
   "id": "1c2c3510",
   "metadata": {},
   "outputs": [
    {
     "data": {
      "text/html": [
       "<div>\n",
       "<style scoped>\n",
       "    .dataframe tbody tr th:only-of-type {\n",
       "        vertical-align: middle;\n",
       "    }\n",
       "\n",
       "    .dataframe tbody tr th {\n",
       "        vertical-align: top;\n",
       "    }\n",
       "\n",
       "    .dataframe thead th {\n",
       "        text-align: right;\n",
       "    }\n",
       "</style>\n",
       "<table border=\"1\" class=\"dataframe\">\n",
       "  <thead>\n",
       "    <tr style=\"text-align: right;\">\n",
       "      <th></th>\n",
       "      <th>filename</th>\n",
       "      <th>response</th>\n",
       "      <th>trustworthiness_score</th>\n",
       "    </tr>\n",
       "  </thead>\n",
       "  <tbody>\n",
       "    <tr>\n",
       "      <th>24</th>\n",
       "      <td>31.pdf</td>\n",
       "      <td>Operating Voltage: 1.71 - 3.6V DC</td>\n",
       "      <td>0.993152</td>\n",
       "    </tr>\n",
       "  </tbody>\n",
       "</table>\n",
       "</div>"
      ],
      "text/plain": [
       "   filename                           response  trustworthiness_score\n",
       "24   31.pdf  Operating Voltage: 1.71 - 3.6V DC               0.993152"
      ]
     },
     "execution_count": 41,
     "metadata": {},
     "output_type": "execute_result"
    }
   ],
   "source": [
    "results_df.loc[results_df[\"filename\"] == \"31.pdf\"]"
   ]
  },
  {
   "cell_type": "markdown",
   "id": "1db84e87",
   "metadata": {},
   "source": [
    "Below we show part of a datasheet for which the LLM extraction received a high trustworthiness score, document `31.pdf`."
   ]
  },
  {
   "cell_type": "markdown",
   "id": "9e89edcd",
   "metadata": {},
   "source": [
    "![Table from Datasheet 31.pdf](./assets/tlm-text-extraction-tutorial/31.png)"
   ]
  },
  {
   "cell_type": "markdown",
   "id": "d4f7d978",
   "metadata": {},
   "source": [
    "From this image (you can also find this on the page 1 in the original file: [31.pdf](https://cleanlab-public.s3.amazonaws.com/Datasets/electronics-datasheets/31.pdf)),\n",
    "we see it clearly specifies the operating voltage range to be **1.71 VDC** to **3.6 VDC**. This matches the LLM's extracted information. High trustworthiness scores help you know which LLM outputs you can be confident in!"
   ]
  },
  {
   "cell_type": "markdown",
   "id": "0af8ec8c",
   "metadata": {},
   "source": [
    "### Low Trustworthiness Scores"
   ]
  },
  {
   "cell_type": "markdown",
   "id": "3272755c",
   "metadata": {},
   "source": [
    "The responses with the lowest trustworthiness scores represent datasheets where you should be least confident in the LLM extractions."
   ]
  },
  {
   "cell_type": "code",
   "execution_count": 15,
   "id": "e150a722",
   "metadata": {},
   "outputs": [
    {
     "data": {
      "text/html": [
       "<div>\n",
       "<style scoped>\n",
       "    .dataframe tbody tr th:only-of-type {\n",
       "        vertical-align: middle;\n",
       "    }\n",
       "\n",
       "    .dataframe tbody tr th {\n",
       "        vertical-align: top;\n",
       "    }\n",
       "\n",
       "    .dataframe thead th {\n",
       "        text-align: right;\n",
       "    }\n",
       "</style>\n",
       "<table border=\"1\" class=\"dataframe\">\n",
       "  <thead>\n",
       "    <tr style=\"text-align: right;\">\n",
       "      <th></th>\n",
       "      <th>filename</th>\n",
       "      <th>response</th>\n",
       "      <th>trustworthiness_score</th>\n",
       "    </tr>\n",
       "  </thead>\n",
       "  <tbody>\n",
       "    <tr>\n",
       "      <th>25</th>\n",
       "      <td>32.pdf</td>\n",
       "      <td>Operating Voltage: 3.3V DC</td>\n",
       "      <td>0.331792</td>\n",
       "    </tr>\n",
       "    <tr>\n",
       "      <th>51</th>\n",
       "      <td>56.pdf</td>\n",
       "      <td>Operating Voltage: 3.3 - 280V AC/DC</td>\n",
       "      <td>0.489190</td>\n",
       "    </tr>\n",
       "    <tr>\n",
       "      <th>29</th>\n",
       "      <td>36.pdf</td>\n",
       "      <td>Operating Voltage: 3.3V DC</td>\n",
       "      <td>0.507770</td>\n",
       "    </tr>\n",
       "    <tr>\n",
       "      <th>56</th>\n",
       "      <td>60.pdf</td>\n",
       "      <td>Operating Voltage: 80 Vp-p</td>\n",
       "      <td>0.662016</td>\n",
       "    </tr>\n",
       "    <tr>\n",
       "      <th>27</th>\n",
       "      <td>34.pdf</td>\n",
       "      <td>Operating Voltage: 12 - 30 V DC</td>\n",
       "      <td>0.725684</td>\n",
       "    </tr>\n",
       "  </tbody>\n",
       "</table>\n",
       "</div>"
      ],
      "text/plain": [
       "   filename                             response  trustworthiness_score\n",
       "25   32.pdf           Operating Voltage: 3.3V DC               0.331792\n",
       "51   56.pdf  Operating Voltage: 3.3 - 280V AC/DC               0.489190\n",
       "29   36.pdf           Operating Voltage: 3.3V DC               0.507770\n",
       "56   60.pdf           Operating Voltage: 80 Vp-p               0.662016\n",
       "27   34.pdf      Operating Voltage: 12 - 30 V DC               0.725684"
      ]
     },
     "execution_count": 43,
     "metadata": {},
     "output_type": "execute_result"
    }
   ],
   "source": [
    "results_df.sort_values(\"trustworthiness_score\").head()"
   ]
  },
  {
   "cell_type": "markdown",
   "id": "1b4ca712",
   "metadata": {},
   "source": [
    "Let's zoom in on one example where the LLM extraction received a low trustworthiness score."
   ]
  },
  {
   "cell_type": "code",
   "execution_count": 16,
   "id": "4ab6f078",
   "metadata": {},
   "outputs": [
    {
     "data": {
      "text/html": [
       "<div>\n",
       "<style scoped>\n",
       "    .dataframe tbody tr th:only-of-type {\n",
       "        vertical-align: middle;\n",
       "    }\n",
       "\n",
       "    .dataframe tbody tr th {\n",
       "        vertical-align: top;\n",
       "    }\n",
       "\n",
       "    .dataframe thead th {\n",
       "        text-align: right;\n",
       "    }\n",
       "</style>\n",
       "<table border=\"1\" class=\"dataframe\">\n",
       "  <thead>\n",
       "    <tr style=\"text-align: right;\">\n",
       "      <th></th>\n",
       "      <th>filename</th>\n",
       "      <th>response</th>\n",
       "      <th>trustworthiness_score</th>\n",
       "    </tr>\n",
       "  </thead>\n",
       "  <tbody>\n",
       "    <tr>\n",
       "      <th>51</th>\n",
       "      <td>56.pdf</td>\n",
       "      <td>Operating Voltage: 3.3 - 280V AC/DC</td>\n",
       "      <td>0.48919</td>\n",
       "    </tr>\n",
       "  </tbody>\n",
       "</table>\n",
       "</div>"
      ],
      "text/plain": [
       "   filename                             response  trustworthiness_score\n",
       "51   56.pdf  Operating Voltage: 3.3 - 280V AC/DC                0.48919"
      ]
     },
     "execution_count": 44,
     "metadata": {},
     "output_type": "execute_result"
    }
   ],
   "source": [
    "results_df.loc[results_df[\"filename\"] == \"56.pdf\"]"
   ]
  },
  {
   "cell_type": "markdown",
   "id": "3ce21131",
   "metadata": {},
   "source": [
    "The LLM extracted an operating voltage range of **3.3 - 280V AC/DC** for datasheet `56.pdf`, which received a low trustworthiness score. We depict part of this dataset below (you can find this information on Page 1 of [56.pdf](https://cleanlab-public.s3.amazonaws.com/Datasets/electronics-datasheets/56.pdf)). While the definition of the operating voltage is not explicitly stated, datasheet lists several different product models with different input voltage ranges. In this case, the LLM essentially combined the input ranges for all models, and hence returns the wrong response. At least you automatically get a low trustworthiness score for this response, allowing you to catch this incorrect LLM output."
   ]
  },
  {
   "cell_type": "markdown",
   "id": "f020aac3",
   "metadata": {},
   "source": [
    "![Table from Datasheet 56.pdf](./assets/tlm-text-extraction-tutorial/56.png)"
   ]
  },
  {
   "cell_type": "markdown",
   "id": "ef6641a4",
   "metadata": {},
   "source": [
    "## Structured Outputs\n",
    "\n",
    "Above, we extracted the operating voltage from datasheets using basic LLM calls. Let's explore more advanced data extraction that enforces **structured outputs** from the LLM. With minimal code changes, you can extract multiple fields simultaneously and score the trustworthiness of each field in the structured output."
   ]
  },
  {
   "cell_type": "markdown",
   "id": "b629e4c3",
   "metadata": {},
   "source": [
    "Let's extract multiple fields in a specific format that we define in a structured output schema. Here we'll extract:\n",
    "\n",
    "- Operating voltage\n",
    "- Whether the maximum dimension exceeds 100mm"
   ]
  },
  {
   "cell_type": "markdown",
   "id": "7fe15058",
   "metadata": {},
   "source": [
    "First install and import necessary libraries."
   ]
  },
  {
   "cell_type": "code",
   "execution_count": null,
   "id": "d8d2fd17",
   "metadata": {},
   "outputs": [],
   "source": [
    "%pip install openai pydantic"
   ]
  },
  {
   "cell_type": "code",
   "execution_count": 17,
   "id": "d8d2fd17",
   "metadata": {},
   "outputs": [],
   "source": [
    "from pydantic import BaseModel, Field\n",
    "import json\n",
    "from typing import Literal\n",
    "from openai import OpenAI\n",
    "\n",
    "from cleanlab_tlm.utils.chat_completions import TLMChatCompletion"
   ]
  },
  {
   "cell_type": "code",
   "execution_count": null,
   "id": "d8d2fd17",
   "metadata": {},
   "outputs": [],
   "source": [
    "os.environ[\"OPENAI_API_KEY\"] = \"<OpenAI API key>\"  # Here we'll showcase using OpenAI to generate structured outputs, but you can use TLM for this instead too"
   ]
  },
  {
   "cell_type": "markdown",
   "id": "f7e10394",
   "metadata": {},
   "source": [
    "Here, we utilize OpenAI's Chat Completions API to extract structured data from the datasheet, and use TLM to score the trustworthiness of those extractions.\n",
    "\n",
    "The decorator allows us to first use OpenAI to extract and parse the information, then use TLM to assess the reliability of each extracted field with minimal setup. For more information, see our [TLM for Chat Completions tutorial](/tlm/tutorials/tlm_chat_completion/#workflow-2-make-your-existing-code-also-produce-trust-scores-via-decorator).\n",
    "\n",
    "\n",
    "If you don\u2019t have an OpenAI account, you can use your TLM account to both generate the structured outputs and score their trustworthiness, as shown [here](/tlm/tutorials/tlm_chat_completion/#workflow-3-use-cleanlab-to-generate-and-score-responses)."
   ]
  },
  {
   "cell_type": "code",
   "execution_count": 18,
   "id": "f99b88b3",
   "metadata": {},
   "outputs": [],
   "source": [
    "import functools\n",
    "\n",
    "def add_trust_scoring(tlm_instance):\n",
    "    \"\"\"Decorator factory that creates a trust scoring decorator.\"\"\"\n",
    "    def trust_score_decorator(fn):\n",
    "        @functools.wraps(fn)\n",
    "        def wrapper(**kwargs):\n",
    "            response = fn(**kwargs)\n",
    "            score_result = tlm_instance.score(response=response, **kwargs)\n",
    "            response.tlm_metadata = score_result\n",
    "            return response\n",
    "        return wrapper\n",
    "    return trust_score_decorator"
   ]
  },
  {
   "cell_type": "code",
   "execution_count": 18,
   "id": "26c837d0",
   "metadata": {},
   "outputs": [],
   "source": [
    "tlm = TLMChatCompletion(options={\"log\": [\"per_field_score\"]})\n",
    "\n",
    "\n",
    "client = OpenAI()\n",
    "client.chat.completions.parse = add_trust_scoring(tlm)(client.chat.completions.parse)"
   ]
  },
  {
   "cell_type": "markdown",
   "id": "625df451",
   "metadata": {},
   "source": [
    "### Extract Multiple Fields from Documents"
   ]
  },
  {
   "cell_type": "markdown",
   "id": "9cd6a87b",
   "metadata": {},
   "source": [
    "Let's create a prompt for structured extraction of multiple fields at once. Here we just show this for one example datasheet."
   ]
  },
  {
   "cell_type": "code",
   "execution_count": null,
   "id": "c10c569b",
   "metadata": {},
   "outputs": [],
   "source": [
    "# Modify our existing prompt template from the tutorial\n",
    "prompt_template = \"\"\"Please reference the provided datasheet to determine the operating voltage of the item and whether any dimension exceeds 100mm. \n",
    "\n",
    "For operating voltage:\n",
    "Respond in the format: \"[insert appropriate voltage range]V [AC/DC]\" with the appropriate voltage range and indicating \"AC\" or \"DC\" if applicable, or omitting if not.\n",
    "If the operating voltage is a range, write it as \"A - B\" with \"-\" between the values.\n",
    "If the operating voltage information is not available, specify \"N/A\".\n",
    "\n",
    "For maximum dimension:\n",
    "Also determine if any dimension (length, width, or height) exceeds 100mm.\n",
    "Choose 'Yes', 'No', or 'N/A' if dimensions are not specified.\n",
    "\n",
    "Datasheet:\n",
    "\"\"\"\n",
    "\n",
    "# Sample datasheet text (first 1000 characters from the datasheet)\n",
    "datasheet_text = \"\"\"\n",
    "0.5w Solar Panel 55*70\n",
    "This is a custom solar panel, which mates directly with many of our development boards and has a high efficiency at 17%. Unit has a clear epoxy coating with hard-board backing. Robust sealing for out door applications!\n",
    "Specification\n",
    "PET\n",
    "Package\n",
    "Typical peak power\n",
    "0.55W\n",
    "Voltage at peak power\n",
    "5.5w\n",
    "Current at peak power\n",
    "100mA\n",
    "Length\n",
    "70 mm\n",
    "Width\n",
    "55 mm\n",
    "Depth\n",
    "1.5 mm\n",
    "Weight\n",
    "17g\n",
    "Efficiency\n",
    "17%\n",
    "Wire diameter\n",
    "1.5mm\n",
    "Connector\n",
    "2.0mm JST\n",
    "\"\"\"\n",
    "\n",
    "# Build the full prompt\n",
    "full_prompt = prompt_template + datasheet_text"
   ]
  },
  {
   "cell_type": "markdown",
   "id": "6d7365c1",
   "metadata": {},
   "source": [
    "We define a Pydantic schema to specify the extracted data format:"
   ]
  },
  {
   "cell_type": "code",
   "execution_count": 19,
   "id": "b0d524c4",
   "metadata": {},
   "outputs": [],
   "source": [
    "class DatasheetInfo(BaseModel):\n",
    "    operating_voltage: str = Field(\n",
    "        description=\"The operating voltage of the product in the format 'X - Y V [AC/DC]' or single value 'X V [AC/DC]'. Use 'N/A' if not available.\"\n",
    "    )\n",
    "    max_dimension_exceeds_100mm: Literal[\"Yes\", \"No\", \"N/A\"] = Field(\n",
    "        description=\"Whether any dimension (length, width, or height) exceeds 100mm. Choose 'Yes', 'No', or 'N/A' if dimensions are not specified.\"\n",
    "    )"
   ]
  },
  {
   "cell_type": "markdown",
   "id": "bb8a30e5",
   "metadata": {},
   "source": [
    "Now we use the OpenAI API to extract multiple fields at once. After you decorate OpenAI's Chat Completions function, your existing code that uses the decorated function will automatically compute trust scores as well (zero change needed in other code)."
   ]
  },
  {
   "cell_type": "code",
   "execution_count": 20,
   "id": "6739a1d5",
   "metadata": {},
   "outputs": [
    {
     "name": "stdout",
     "output_type": "stream",
     "text": [
      "Extracted Information:\n",
      "Operating Voltage: N/A\n",
      "Max Dimension Exceeds 100mm: No\n",
      "Trustworthiness Score: 0.5403188015968065\n",
      "\n",
      "Per-field trustworthiness scores:\n",
      "{\n",
      "  \"max_dimension_exceeds_100mm\": {\n",
      "    \"explanation\": \"The datasheet lists dimensions as Length: 70 mm, Width: 55 mm, Depth: 1.5 mm. None of these exceed 100 mm, so 'No' is correct.\",\n",
      "    \"score\": 1.0\n",
      "  },\n",
      "  \"operating_voltage\": {\n",
      "    \"explanation\": \"The datasheet provides 'Voltage at peak power' as '5.5w', which appears to be a typographical error where 'w' should be 'V' (volts). Interpreting this as 5.5V is reasonable. Since the datasheet does not specify AC or DC, and the product is a solar panel (which typically outputs DC voltage), the operating voltage should be '5.5 V DC'. The response 'N/A' is therefore incorrect and incomplete.\",\n",
      "    \"score\": 0.5\n",
      "  }\n",
      "}\n"
     ]
    }
   ],
   "source": [
    "completion = client.chat.completions.parse(\n",
    "    model=\"gpt-4.1-mini\",\n",
    "    messages=[\n",
    "        {\"role\": \"user\", \"content\": full_prompt}\n",
    "    ],\n",
    "    response_format=DatasheetInfo,\n",
    ")\n",
    "\n",
    "# Extract the structured information and trustworthiness score\n",
    "extracted_info = completion.choices[0].message.parsed\n",
    "trustworthiness_score = completion.tlm_metadata[\"trustworthiness_score\"]\n",
    "per_field_scores = completion.tlm_metadata[\"log\"][\"per_field_score\"]\n",
    "\n",
    "# Display the results\n",
    "print(f\"Extracted Information:\")\n",
    "print(f\"Operating Voltage: {extracted_info.operating_voltage}\")\n",
    "print(f\"Max Dimension Exceeds 100mm: {extracted_info.max_dimension_exceeds_100mm}\")\n",
    "print(f\"Trustworthiness Score: {trustworthiness_score}\")\n",
    "\n",
    "print(f\"\\nPer-field trustworthiness scores:\")\n",
    "print(json.dumps(per_field_scores, indent=2))"
   ]
  },
  {
   "cell_type": "markdown",
   "id": "96ee7778",
   "metadata": {},
   "source": [
    "The `per_field_scores` dictionary contains a granular confidence score and explanation for each extracted field. Since this dictionary can be overwhelming for larger schemas, we provide a `get_untrustworthy_fields()` method that:\n",
    "\n",
    "- Prints detailed information about low-confidence fields\n",
    "- Returns a list of fields that may need manual review due to low trust scores\n",
    "\n",
    "\n",
    "\n",
    "\n",
    "\n"
   ]
  },
  {
   "cell_type": "code",
   "execution_count": 21,
   "id": "62f3df39",
   "metadata": {},
   "outputs": [
    {
     "name": "stdout",
     "output_type": "stream",
     "text": [
      "Untrustworthy fields: ['operating_voltage']\n",
      "\n",
      "Field: operating_voltage\n",
      "Response: N/A\n",
      "Score: 0.5\n",
      "Explanation: The datasheet provides 'Voltage at peak power' as '5.5w', which appears to be a typographical error where 'w' should be 'V' (volts). Interpreting this as 5.5V is reasonable. Since the datasheet does not specify AC or DC, and the product is a solar panel (which typically outputs DC voltage), the operating voltage should be '5.5 V DC'. The response 'N/A' is therefore incorrect and incomplete.\n",
      "\n"
     ]
    }
   ],
   "source": [
    "untrustworthy_fields = tlm.get_untrustworthy_fields(tlm_result=completion)"
   ]
  },
  {
   "cell_type": "markdown",
   "id": "e3902979",
   "metadata": {},
   "source": [
    "This method returns a list of fields whose confidence score is low, allowing you to focus manual review on the specific fields whose extracted value is untrustworthy."
   ]
  },
  {
   "cell_type": "code",
   "execution_count": 22,
   "id": "4d4870c0",
   "metadata": {},
   "outputs": [
    {
     "data": {
      "text/plain": [
       "['operating_voltage']"
      ]
     },
     "execution_count": 22,
     "metadata": {},
     "output_type": "execute_result"
    }
   ],
   "source": [
    "untrustworthy_fields"
   ]
  },
  {
   "cell_type": "markdown",
   "id": "54c949b8",
   "metadata": {},
   "source": [
    "## Next Steps\n",
    "\n",
    "Don't let unreliable LLM outputs block AI automation to extract information from documents at scale! With TLM, you can let LLMs automatically process the documents where they are trustworthy and automatically detect which remaining LLM outputs to manually review. This saves your team time and improves the accuracy of extracted information.\n",
    "\n",
    "- Also check out our [Structured Outputs](/tlm/tutorials/tlm_structured_outputs/) and [Data Annotation](/tlm/use-cases/tlm_annotation/) tutorials.\n",
    "- To improve extraction accuracy, run TLM with a more powerful `model` and `quality_preset` [configuration](/tlm/faq/#recommended-tlm-configurations-to-try)."
   ]
  }
 ],
 "metadata": {
  "kernelspec": {
   "display_name": "Python 3",
   "language": "python",
   "name": "python3"
  },
  "language_info": {
   "codemirror_mode": {
    "name": "ipython",
    "version": 3
   },
   "file_extension": ".py",
   "mimetype": "text/x-python",
   "name": "python",
   "nbconvert_exporter": "python",
   "pygments_lexer": "ipython3",
   "version": "3.11.10"
  }
 },
 "nbformat": 4,
 "nbformat_minor": 5
}