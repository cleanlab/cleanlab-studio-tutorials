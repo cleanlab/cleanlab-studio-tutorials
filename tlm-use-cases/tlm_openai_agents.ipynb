{
 "cells": [
  {
   "cell_type": "markdown",
   "metadata": {},
   "source": [
    "# Trustworthy Agents with OpenAI Agents SDK and Cleanlab\n",
    "\n",
    "<head>\n",
    "  <meta name=\"title\" content=\"Trustworthy Agents with OpenAI Agents SDK and Cleanlab\"/>\n",
    "  <meta property=\"og:title\" content=\"Trustworthy Agents with OpenAI Agents SDK and Cleanlab\"/>\n",
    "  <meta name=\"twitter:title\" content=\"Trustworthy Agents with OpenAI Agents SDK and Cleanlab\" />\n",
    "  <meta name=\"description\" content=\"How to prevent incorrect responses from your agentic AI.\"  />\n",
    "  <meta property=\"og:description\" content=\"How to prevent incorrect responses from your agentic AI.\" />\n",
    "  <meta name=\"twitter:description\" content=\"How to prevent incorrect responses from your agentic AI.\" />\n",
    "</head>\n",
    "\n",
    "Agentic AI applications \u2014 such as those built using the [OpenAI Agents SDK](https://openai.github.io/openai-agents-python/) \u2014 orchestrate tools and language models to carry out complex user tasks. But like any system built on LLMs, Agents can still hallucinate, occasionally generating **incorrect** or misleading responses that undermine user trust. This tutorial shows how to **evaluate and score the trustworthiness** of any OpenAI Agent\u2019s responses in real-time using Cleanlab, and how to **automatically block untrustworthy outputs** from reaching your users.\n"
   ]
  },
  {
   "cell_type": "markdown",
   "metadata": {},
   "source": [
    "## Setup"
   ]
  },
  {
   "cell_type": "code",
   "execution_count": null,
   "metadata": {},
   "outputs": [],
   "source": [
    "# Install required packages\n",
    "%pip install cleanlab-tlm openai-agents --quiet"
   ]
  },
  {
   "cell_type": "code",
   "execution_count": null,
   "metadata": {},
   "outputs": [],
   "source": [
    "# Set API keys\n",
    "import os\n",
    "os.environ[\"CLEANLAB_TLM_API_KEY\"] = \"<YOUR_CLEANLAB_TLM_API_KEY>\"  # Get your free API key from: https://tlm.cleanlab.ai/\n",
    "os.environ[\"OPENAI_API_KEY\"] = \"<YOUR_OPENAI_API_KEY>\"  # Get API key from: https://platform.openai.com/signup"
   ]
  },
  {
   "cell_type": "code",
   "execution_count": null,
   "metadata": {},
   "outputs": [],
   "source": [
    "# Import required libraries\n",
    "from cleanlab_tlm import TLM\n",
    "from cleanlab_tlm.utils.chat import form_prompt_string, form_response_string_chat_completions_api\n",
    "\n",
    "from agents import Agent, Runner, RunContextWrapper, function_tool, RunConfig, set_default_openai_api\n",
    "from agents.models.chatcmpl_converter import Converter\n",
    "from agents.models.interface import Model, ModelProvider\n",
    "from agents.models.multi_provider import MultiProvider"
   ]
  },
  {
   "cell_type": "code",
   "execution_count": null,
   "metadata": {},
   "outputs": [],
   "source": [
    "# Use the Chat Completions API\n",
    "set_default_openai_api(\"chat_completions\")"
   ]
  },
  {
   "cell_type": "markdown",
   "metadata": {},
   "source": [
    "## Build an OpenAI Agent"
   ]
  },
  {
   "cell_type": "markdown",
   "metadata": {},
   "source": [
    "For this tutorial, we'll build a Customer Support AI Agent using the OpenAI Agents SDK. We have [another tutorial](/tlm/use-cases/tlm_agents/) on adding TLM into a version of this same Agent built with LangGraph."
   ]
  },
  {
   "cell_type": "markdown",
   "id": "2f41cb59-96ef-4674-bdbb-9c9dae55fafc",
   "metadata": {},
   "source": [
    "**Optional: Define Tools the Agent can call**\n",
    "\n"
   ]
  },
  {
   "cell_type": "code",
   "execution_count": null,
   "metadata": {},
   "outputs": [],
   "source": [
    "from typing import Union, Optional\n",
    "\n",
    "import re\n",
    "import shutil\n",
    "import openai\n",
    "import sqlite3\n",
    "import requests\n",
    "import numpy as np\n",
    "import pandas as pd\n",
    "from dataclasses import dataclass\n",
    "from datetime import date, datetime\n",
    "\n",
    "@dataclass\n",
    "class UserInfo:\n",
    "    passenger_id: str\n",
    "\n",
    "response = requests.get(\n",
    "    \"https://storage.googleapis.com/benchmarks-artifacts/travel-db/swiss_faq.md\"\n",
    ")\n",
    "response.raise_for_status()\n",
    "faq_text = response.text\n",
    "\n",
    "docs = [{\"page_content\": txt} for txt in re.split(r\"(?=\\n##)\", faq_text)]\n",
    "\n",
    "class VectorStoreRetriever:\n",
    "    def __init__(self, docs: list, vectors: list, oai_client):\n",
    "        self._arr = np.array(vectors)\n",
    "        self._docs = docs\n",
    "        self._client = oai_client\n",
    "\n",
    "    @classmethod\n",
    "    def from_docs(cls, docs, oai_client):\n",
    "        embeddings = oai_client.embeddings.create(\n",
    "            model=\"text-embedding-3-small\", input=[doc[\"page_content\"] for doc in docs]\n",
    "        )\n",
    "        vectors = [emb.embedding for emb in embeddings.data]\n",
    "        return cls(docs, vectors, oai_client)\n",
    "\n",
    "    def query(self, query: str, k: int = 5) -> list[dict]:\n",
    "        embed = self._client.embeddings.create(\n",
    "            model=\"text-embedding-3-small\", input=[query]\n",
    "        )\n",
    "        # \"@\" is just a matrix multiplication in python\n",
    "        scores = np.array(embed.data[0].embedding) @ self._arr.T\n",
    "        top_k_idx = np.argpartition(scores, -k)[-k:]\n",
    "        top_k_idx_sorted = top_k_idx[np.argsort(-scores[top_k_idx])]\n",
    "        return [\n",
    "            {**self._docs[idx], \"similarity\": scores[idx]} for idx in top_k_idx_sorted\n",
    "        ]\n",
    "\n",
    "\n",
    "retriever = VectorStoreRetriever.from_docs(docs, openai.Client())\n",
    "\n",
    "@function_tool\n",
    "def lookup_policy(query: str) -> str:\n",
    "    \"\"\"Consult the company policies to check whether certain options are permitted.\n",
    "    Use this before making any flight changes performing other 'write' events.\"\"\"\n",
    "    docs = retriever.query(query, k=2)\n",
    "    return \"\\n\\n\".join([doc[\"page_content\"] for doc in docs])\n",
    "\n",
    "# Populate Database that Agent can access via Tool Call\n",
    "db_url = \"https://storage.googleapis.com/benchmarks-artifacts/travel-db/travel2.sqlite\"\n",
    "local_file = \"travel2.sqlite\"\n",
    "# The backup lets us restart for each tutorial section\n",
    "backup_file = \"travel2.backup.sqlite\"\n",
    "overwrite = False\n",
    "if overwrite or not os.path.exists(local_file):\n",
    "    response = requests.get(db_url)\n",
    "    response.raise_for_status()  # Ensure the request was successful\n",
    "    with open(local_file, \"wb\") as f:\n",
    "        f.write(response.content)\n",
    "    # Backup - we will use this to \"reset\" our DB in each section\n",
    "    shutil.copy(local_file, backup_file)\n",
    "\n",
    "\n",
    "# Convert the flights to present time for our tutorial\n",
    "def update_dates(file):\n",
    "    shutil.copy(backup_file, file)\n",
    "    conn = sqlite3.connect(file)\n",
    "    cursor = conn.cursor()\n",
    "\n",
    "    tables = pd.read_sql(\n",
    "        \"SELECT name FROM sqlite_master WHERE type='table';\", conn\n",
    "    ).name.tolist()\n",
    "    tdf = {}\n",
    "    for t in tables:\n",
    "        tdf[t] = pd.read_sql(f\"SELECT * from {t}\", conn)\n",
    "\n",
    "    example_time = pd.to_datetime(\n",
    "        tdf[\"flights\"][\"actual_departure\"].replace(\"\\\\N\", pd.NaT)\n",
    "    ).max()\n",
    "    current_time = pd.to_datetime(\"now\").tz_localize(example_time.tz)\n",
    "    time_diff = current_time - example_time\n",
    "\n",
    "    tdf[\"bookings\"][\"book_date\"] = (\n",
    "        pd.to_datetime(tdf[\"bookings\"][\"book_date\"].replace(\"\\\\N\", pd.NaT), utc=True)\n",
    "        + time_diff\n",
    "    )\n",
    "\n",
    "    datetime_columns = [\n",
    "        \"scheduled_departure\",\n",
    "        \"scheduled_arrival\",\n",
    "        \"actual_departure\",\n",
    "        \"actual_arrival\",\n",
    "    ]\n",
    "    for column in datetime_columns:\n",
    "        tdf[\"flights\"][column] = (\n",
    "            pd.to_datetime(tdf[\"flights\"][column].replace(\"\\\\N\", pd.NaT)) + time_diff\n",
    "        )\n",
    "\n",
    "    for table_name, df in tdf.items():\n",
    "        df.to_sql(table_name, conn, if_exists=\"replace\", index=False)\n",
    "    del df\n",
    "    del tdf\n",
    "    conn.commit()\n",
    "    conn.close()\n",
    "\n",
    "    return file\n",
    "\n",
    "\n",
    "db = update_dates(local_file)\n",
    "\n",
    "@function_tool\n",
    "def fetch_user_flight_information(wrapper: RunContextWrapper[UserInfo]) -> list[dict]:\n",
    "    \"\"\"Fetch all tickets for the user along with corresponding flight information and seat assignments.\n",
    "\n",
    "    Returns:\n",
    "        A list of dictionaries where each dictionary contains the ticket details,\n",
    "        associated flight details, and the seat assignments for each ticket belonging to the user.\n",
    "    \"\"\"\n",
    "    passenger_id = wrapper.context.passenger_id\n",
    "    if not passenger_id:\n",
    "        raise ValueError(\"No passenger ID configured.\")\n",
    "\n",
    "    conn = sqlite3.connect(db)\n",
    "    cursor = conn.cursor()\n",
    "\n",
    "    query = \"\"\"\n",
    "    SELECT\n",
    "        t.ticket_no, t.book_ref,\n",
    "        f.flight_id, f.flight_no, f.departure_airport, f.arrival_airport, f.scheduled_departure, f.scheduled_arrival,\n",
    "        bp.seat_no, tf.fare_conditions\n",
    "    FROM\n",
    "        tickets t\n",
    "        JOIN ticket_flights tf ON t.ticket_no = tf.ticket_no\n",
    "        JOIN flights f ON tf.flight_id = f.flight_id\n",
    "        JOIN boarding_passes bp ON bp.ticket_no = t.ticket_no AND bp.flight_id = f.flight_id\n",
    "    WHERE\n",
    "        t.passenger_id = ?\n",
    "    \"\"\"\n",
    "    cursor.execute(query, (passenger_id,))\n",
    "    rows = cursor.fetchall()\n",
    "    column_names = [column[0] for column in cursor.description]\n",
    "    results = [dict(zip(column_names, row)) for row in rows]\n",
    "\n",
    "    cursor.close()\n",
    "    conn.close()\n",
    "\n",
    "    return results\n",
    "\n",
    "@function_tool\n",
    "def search_flights(\n",
    "    departure_airport: Optional[str] = None,\n",
    "    arrival_airport: Optional[str] = None,\n",
    "    start_time: Optional[date | datetime] = None,\n",
    "    end_time: Optional[date | datetime] = None,\n",
    "    limit: int = 20,\n",
    ") -> list[dict]:\n",
    "    \"\"\"Search for flights based on departure airport, arrival airport, and departure time range.\"\"\"\n",
    "    conn = sqlite3.connect(db)\n",
    "    cursor = conn.cursor()\n",
    "\n",
    "    query = \"SELECT * FROM flights WHERE 1 = 1\"\n",
    "    params = []\n",
    "\n",
    "    if departure_airport:\n",
    "        query += \" AND departure_airport = ?\"\n",
    "        params.append(departure_airport)\n",
    "\n",
    "    if arrival_airport:\n",
    "        query += \" AND arrival_airport = ?\"\n",
    "        params.append(arrival_airport)\n",
    "\n",
    "    if start_time:\n",
    "        query += \" AND scheduled_departure >= ?\"\n",
    "        params.append(start_time)\n",
    "\n",
    "    if end_time:\n",
    "        query += \" AND scheduled_departure <= ?\"\n",
    "        params.append(end_time)\n",
    "    query += \" LIMIT ?\"\n",
    "    params.append(limit)\n",
    "    cursor.execute(query, params)\n",
    "    rows = cursor.fetchall()\n",
    "    column_names = [column[0] for column in cursor.description]\n",
    "    results = [dict(zip(column_names, row)) for row in rows]\n",
    "\n",
    "    cursor.close()\n",
    "    conn.close()\n",
    "\n",
    "    return results\n",
    "\n",
    "@function_tool\n",
    "def search_car_rentals(\n",
    "    location: Optional[str] = None,\n",
    "    name: Optional[str] = None,\n",
    "    price_tier: Optional[str] = None,\n",
    "    start_date: Optional[Union[datetime, date]] = None,\n",
    "    end_date: Optional[Union[datetime, date]] = None,\n",
    ") -> list[dict]:\n",
    "    \"\"\"\n",
    "    Search for car rentals based on location, name, price tier, start date, and end date.\n",
    "\n",
    "    Args:\n",
    "        location (Optional[str]): The location of the car rental. Defaults to None.\n",
    "        name (Optional[str]): The name of the car rental company. Defaults to None.\n",
    "        price_tier (Optional[str]): The price tier of the car rental. Defaults to None.\n",
    "        start_date (Optional[Union[datetime, date]]): The start date of the car rental. Defaults to None.\n",
    "        end_date (Optional[Union[datetime, date]]): The end date of the car rental. Defaults to None.\n",
    "\n",
    "    Returns:\n",
    "        list[dict]: A list of car rental dictionaries matching the search criteria.\n",
    "    \"\"\"\n",
    "    conn = sqlite3.connect(db)\n",
    "    cursor = conn.cursor()\n",
    "\n",
    "    query = \"SELECT * FROM car_rentals WHERE 1=1\"\n",
    "    params = []\n",
    "\n",
    "    if location:\n",
    "        query += \" AND location LIKE ?\"\n",
    "        params.append(f\"%{location}%\")\n",
    "    if name:\n",
    "        query += \" AND name LIKE ?\"\n",
    "        params.append(f\"%{name}%\")\n",
    "    if price_tier:\n",
    "        query += \" AND price_tier LIKE ?\"\n",
    "        params.append(f\"%{price_tier}%\")\n",
    "    if start_date:\n",
    "        query += \" AND start_date >= ?\"\n",
    "        params.append(str(start_date))\n",
    "    if end_date:\n",
    "        query += \" AND end_date <= ?\"\n",
    "        params.append(str(end_date))\n",
    "    # This tool allows matching on price tier and dates even though data is limited\n",
    "    # which tests Agent behavior when relevant data might be missing.\n",
    "    cursor.execute(query, params)\n",
    "    results = cursor.fetchall()\n",
    "\n",
    "    conn.close()\n",
    "\n",
    "    return [\n",
    "        dict(zip([column[0] for column in cursor.description], row)) for row in results\n",
    "    ]\n",
    "\n",
    "@function_tool\n",
    "def search_hotels(\n",
    "    location: Optional[str] = None,\n",
    "    name: Optional[str] = None,\n",
    "    price_tier: Optional[str] = None,\n",
    "    checkin_date: Optional[Union[datetime, date]] = None,\n",
    "    checkout_date: Optional[Union[datetime, date]] = None,\n",
    ") -> list[dict]:\n",
    "    \"\"\"\n",
    "    Search for hotels based on location, name, price tier, check-in date, and check-out date.\n",
    "\n",
    "    Args:\n",
    "        location (Optional[str]): The location of the hotel. Defaults to None.\n",
    "        name (Optional[str]): The name of the hotel. Defaults to None.\n",
    "        price_tier (Optional[str]): The price tier of the hotel. Defaults to None. Examples: Midscale, Upper Midscale, Upscale, Luxury\n",
    "        checkin_date (Optional[Union[datetime, date]]): The check-in date of the hotel. Defaults to None.\n",
    "        checkout_date (Optional[Union[datetime, date]]): The check-out date of the hotel. Defaults to None.\n",
    "\n",
    "    Returns:\n",
    "        list[dict]: A list of hotel dictionaries matching the search criteria.\n",
    "    \"\"\"\n",
    "    conn = sqlite3.connect(db)\n",
    "    cursor = conn.cursor()\n",
    "\n",
    "    query = \"SELECT * FROM hotels WHERE 1=1\"\n",
    "    params = []\n",
    "\n",
    "    if location:\n",
    "        query += \" AND location LIKE ?\"\n",
    "        params.append(f\"%{location}%\")\n",
    "    if name:\n",
    "        query += \" AND name LIKE ?\"\n",
    "        params.append(f\"%{name}%\")\n",
    "    # For the sake of this tutorial, we will let you match on any dates and price tier.\n",
    "    cursor.execute(query, params)\n",
    "    results = cursor.fetchall()\n",
    "\n",
    "    conn.close()\n",
    "\n",
    "    return [\n",
    "        dict(zip([column[0] for column in cursor.description], row)) for row in results\n",
    "    ]\n",
    "\n",
    "@function_tool\n",
    "def search_trip_recommendations(\n",
    "    location: Optional[str] = None,\n",
    "    name: Optional[str] = None,\n",
    "    keywords: Optional[str] = None,\n",
    ") -> list[dict]:\n",
    "    \"\"\"\n",
    "    Search for trip recommendations based on location, name, and keywords.\n",
    "\n",
    "    Args:\n",
    "        location (Optional[str]): The location of the trip recommendation. Defaults to None.\n",
    "        name (Optional[str]): The name of the trip recommendation. Defaults to None.\n",
    "        keywords (Optional[str]): The keywords associated with the trip recommendation. Defaults to None.\n",
    "\n",
    "    Returns:\n",
    "        list[dict]: A list of trip recommendation dictionaries matching the search criteria.\n",
    "    \"\"\"\n",
    "    conn = sqlite3.connect(db)\n",
    "    cursor = conn.cursor()\n",
    "\n",
    "    query = \"SELECT * FROM trip_recommendations WHERE 1=1\"\n",
    "    params = []\n",
    "\n",
    "    if location:\n",
    "        query += \" AND location LIKE ?\"\n",
    "        params.append(f\"%{location}%\")\n",
    "    if name:\n",
    "        query += \" AND name LIKE ?\"\n",
    "        params.append(f\"%{name}%\")\n",
    "    if keywords:\n",
    "        keyword_list = keywords.split(\",\")\n",
    "        keyword_conditions = \" OR \".join([\"keywords LIKE ?\" for _ in keyword_list])\n",
    "        query += f\" AND ({keyword_conditions})\"\n",
    "        params.extend([f\"%{keyword.strip()}%\" for keyword in keyword_list])\n",
    "\n",
    "    cursor.execute(query, params)\n",
    "    results = cursor.fetchall()\n",
    "\n",
    "    conn.close()\n",
    "\n",
    "    return [\n",
    "        dict(zip([column[0] for column in cursor.description], row)) for row in results\n",
    "    ]\n",
    "\n",
    "@function_tool\n",
    "def get_travel_advisory(country: str) -> dict:\n",
    "    \"\"\"Returns a mock travel advisory for a country.\"\"\"\n",
    "    return {\n",
    "        \"level\": \"Level 2 \u2013 Exercise Increased Caution\",\n",
    "        \"notes\": f\"Travelers to {country} should be aware of petty crime and take precautions.\"\n",
    "    }\n",
    "\n",
    "@function_tool\n",
    "def get_discount_plan(name: str) -> str:\n",
    "    \"\"\"Returns details about a discount plan based on its name.\n",
    "\n",
    "    Valid names: \"basic\", \"premium\", \"five\", \"student\"\n",
    "    \"\"\"\n",
    "    return f\"Returning details for the '{name}' discount plan:\"\n",
    "\n",
    "class InsuranceTerms:\n",
    "    def __init__(self, provider: str):\n",
    "        self.provider = provider\n",
    "        self.coverage = {\n",
    "            \"GloboSure\": {\n",
    "                \"trip_delay\": \"Up to 500 credits after 6 hours\",\n",
    "                \"lost_baggage\": \"Up to 1200 credits with receipt proof\",\n",
    "                \"medical\": \"Emergency care covered up to 50,000 credits\"\n",
    "            },\n",
    "            \"NimbusCoverage\": {\n",
    "                \"cancellation\": \"Refunds up to 70% for non-weather issues\",\n",
    "                \"extreme_weather\": \"Full coverage with documentation\"\n",
    "            }\n",
    "        }\n",
    "\n",
    "@function_tool\n",
    "def get_insurance_terms(provider: str) -> InsuranceTerms:\n",
    "    \"\"\"Returns a policy explanation object for a given (possibly obscure) travel insurance provider.\"\"\"\n",
    "    return InsuranceTerms(provider)"
   ]
  },
  {
   "cell_type": "markdown",
   "id": "88963af6-5623-454e-a3cb-8db61bb61aac",
   "metadata": {},
   "source": [
    "**Optional: Setup OpenAI Agent**\n",
    "\n"
   ]
  },
  {
   "cell_type": "code",
   "execution_count": null,
   "metadata": {},
   "outputs": [],
   "source": [
    "import json\n",
    "\n",
    "system_prompt = \"\"\"You are a helpful customer support assistant for Swiss Airlines. Use the provided tools to search for flights, company policies, and other information to assist the user's queries. When searching, be persistent. Expand your query bounds if the first search returns no results. If a search comes up empty, expand your search before giving up.\n",
    "\n",
    "Current time: {time}.\"\"\".format(time=datetime.now().strftime(\"%Y-%m-%d %H:%M:%S\"))\n",
    "\n",
    "tools=[\n",
    "    fetch_user_flight_information,\n",
    "    search_flights,\n",
    "    lookup_policy,\n",
    "    search_car_rentals,\n",
    "    search_hotels,\n",
    "    search_trip_recommendations,\n",
    "    get_travel_advisory,\n",
    "    get_discount_plan,\n",
    "    get_insurance_terms,\n",
    "]\n",
    "\n",
    "user_info = UserInfo(passenger_id=\"3442 587242\")\n",
    "\n",
    "agent = Agent[UserInfo](\n",
    "    name=\"Customer support agent\",\n",
    "    instructions=system_prompt,\n",
    "    tools=tools,\n",
    "    model=\"gpt-4o-mini\"\n",
    ")\n",
    "\n",
    "max_length = 2000\n",
    "def truncate(msg, max_length=max_length):\n",
    "    if msg is None:\n",
    "        return \"\"\n",
    "    msg = str(msg)\n",
    "    if len(msg) > max_length:\n",
    "        return msg[:max_length] + \" ... (truncated)\"\n",
    "    return msg\n",
    "\n",
    "HEADER = {\n",
    "    \"human_message\":       (None,            \"Human Message\"),\n",
    "    \"ai_message_header\":   (\"ai_message\",    \"AI Message\"),\n",
    "    \"tool_calls_header\":   (\"tool_calls\",    \"Tool Calls\"),\n",
    "    \"tool_message_header\": (\"tool_message\",  \"Tool Message\"),\n",
    "}\n",
    "\n",
    "def print_event(tag, printed, data=None, item=None, score=None, tool_calls_from_message=None):\n",
    "    if tag == \"human_message\":\n",
    "        if tag not in printed:\n",
    "            printed.add(tag)\n",
    "            print(f\"\\n{'='*10}  Human Message  {'='*10}\")\n",
    "        print(data)\n",
    "\n",
    "    elif tag == \"tool_call\":\n",
    "        key, title = HEADER[\"tool_calls_header\"]\n",
    "        if key not in printed:\n",
    "            printed.add(key)\n",
    "            print(f\"\\n{'='*10}  {title}  {'='*10}\")\n",
    "        # If called from a message, print each call in the list\n",
    "        if tool_calls_from_message is not None:\n",
    "            for call in tool_calls_from_message:\n",
    "                func = call.get(\"function\", {})\n",
    "                name = func.get(\"name\", \"UnknownFunction\")\n",
    "                call_id = call.get(\"id\", \"unknown_id\")\n",
    "                print(f\"{name} ({call_id})\\nArgs:\")\n",
    "                try:\n",
    "                    args = json.loads(func.get(\"arguments\", \"{}\"))\n",
    "                except Exception:\n",
    "                    args = {}\n",
    "                for k, v in args.items():\n",
    "                    print(f\"  {k}: {v}\")\n",
    "        elif item is not None:\n",
    "            call = item.raw_item\n",
    "            print(f\"{call.name} ({call.call_id})\\nArgs:\")\n",
    "            for k, v in json.loads(call.arguments).items():\n",
    "                print(f\"  {k}: {truncate(v)}\")\n",
    "\n",
    "    elif tag == \"tool_output\":\n",
    "        key, title = HEADER[\"tool_message_header\"]\n",
    "        if key not in printed:\n",
    "            printed.add(key)\n",
    "            print(f\"\\n{'='*10}  {title}  {'='*10}\")\n",
    "        print(truncate(data or item.raw_item.get(\"output\", \"\")))\n",
    "\n",
    "    elif tag == \"ai_message\":\n",
    "        key, title = HEADER[\"ai_message_header\"]\n",
    "        if key not in printed:\n",
    "            printed.add(key)\n",
    "            print(f\"\\n{'='*10}  {title}  {'='*10}\")\n",
    "        print(data or item.raw_item.content[0].text)\n",
    "\n",
    "    elif tag == \"tlm_score\":\n",
    "        print(f\"\\n[TLM Score]: {score}\")\n",
    "\n",
    "def print_items(items):\n",
    "    printed = set()\n",
    "    messages = Converter.items_to_messages(items)\n",
    "    for msg in messages:\n",
    "        role = msg.get('role')\n",
    "        content = msg.get(\"content\")\n",
    "        tool_calls = msg.get(\"tool_calls\")\n",
    "\n",
    "        if role == \"user\":\n",
    "            print_event(\"human_message\", printed, data=content)\n",
    "        elif role == \"assistant\":\n",
    "            if tool_calls:\n",
    "                print_event(\"tool_call\", printed, tool_calls_from_message=tool_calls)\n",
    "            if content:\n",
    "                print_event(\"ai_message\", printed, data=content)\n",
    "\n",
    "async def print_stream_events(stream):\n",
    "    printed, cached_score = set(), None\n",
    "    event_map = {\n",
    "        \"tool_called\": \"tool_call\",\n",
    "        \"tool_output\": \"tool_output\",\n",
    "        \"message_output_created\": \"ai_message\"\n",
    "    }\n",
    "\n",
    "    async for e in stream.stream_events():\n",
    "        if e.type == \"run_item_stream_event\" and e.item and e.name in event_map:\n",
    "            print_event(event_map[e.name], printed, item=e.item)\n",
    "            if cached_score is not None:\n",
    "                print_event(\"tlm_score\", printed, score=cached_score)\n",
    "                cached_score = None\n",
    "        elif getattr(e, \"type\", None) == \"raw_response_event\" and getattr(getattr(e, \"data\", None), \"type\", None) == \"tlm_score_event\":\n",
    "            cached_score = e.data.score\n",
    "\n",
    "    if cached_score is not None:\n",
    "        print_event(\"tlm_score\", printed, score=cached_score)\n",
    "    print()"
   ]
  },
  {
   "cell_type": "markdown",
   "metadata": {},
   "source": [
    "For educational purposes, we implement a `stream_agent_response()` method \u2014based on the [OpenAI streaming example](https://openai.github.io/openai-agents-python/streaming/)\u2014 which prints everything produced/processed by the Agent (user messages, Tool calls, Tool outputs, LLM responses, ...)."
   ]
  },
  {
   "cell_type": "code",
   "execution_count": null,
   "metadata": {},
   "outputs": [],
   "source": [
    "async def stream_agent_response(agent, user_input):\n",
    "    input_items = [{\"content\": user_input, \"role\": \"user\"}]\n",
    "    print_items(input_items)\n",
    "    stream = Runner.run_streamed(agent, \n",
    "                                 input=input_items, \n",
    "                                 context=user_info)\n",
    "    await print_stream_events(stream)"
   ]
  },
  {
   "cell_type": "markdown",
   "metadata": {},
   "source": [
    "## Run the Agent\n",
    "\n",
    "Let's ask our Agent some queries."
   ]
  },
  {
   "cell_type": "code",
   "execution_count": null,
   "metadata": {},
   "outputs": [
    {
     "name": "stdout",
     "output_type": "stream",
     "text": [
      "\n",
      "==========  Human Message  ==========\n",
      "Can I get a refund if I cancel my flight with Swiss Airlines?\n",
      "\n",
      "==========  Tool Calls  ==========\n",
      "lookup_policy (call_iDFx4YyxlIJjEKBKo0WQsfD7)\n",
      "Args:\n",
      "  query: refund policy for flight cancellation\n",
      "\n",
      "==========  Tool Message  ==========\n",
      "\n",
      "## How to Cancel a Swiss Air Flight: 877-5O7-7341 Step-by-Step Guide\n",
      "Swiss Air is a premium airline based in Switzerland that offers a range of domestic and international flights to passengers. However, sometimes situations arise where passengers may need to cancel their flights. In such cases, it is important to understand the Swiss Air Cancellation Policy to avoid any confusion or additional charges.\n",
      "\n",
      "Swiss International Airlines Cancellation Policy\n",
      "In this article, we will provide you with everything you need to know about the Swiss Air Cancellation Policy, including how to cancel a Swiss Air flight, the fees associated with cancelling a flight, and the refund policy.\n",
      "\n",
      "If you have booked a flight with Swiss Airlines but need to cancel it, it's important to understand their cancellation policy to avoid any unnecessary fees or charges.\n",
      "Swiss Airlines offers different fare types, each with their own specific cancellation terms and conditions. The most flexible fare types such as Flex and Business Flex allow you to cancel your flight up to 24 hours before departure without any penalty. For other fare types, cancellation fees may apply.\n",
      "If you cancel your Swiss Airlines flight outside of the 24-hour window, cancellation fees will be charged depending on your fare type and the time of cancellation. For example, if you cancel a non-flexible economy class ticket, a cancellation fee will be charged. The closer you cancel to the departure date, the higher the cancellation fee.\n",
      "In some cases, Swiss Airlines may allow you to make changes to your flight instead of cancelling it outright. However, these changes may also come with fees or penalties depending on your fare type and the type of change requested.\n",
      "If Swiss Airlines cancels your flight, you may be entitled to a full refund or rebooking on another flight. However, if the cancellation is due to extraordinary circumstances such as bad weather or political unrest, Swiss Airlines may not be obligated to offer any compens ... (truncated)\n",
      "\n",
      "==========  AI Message  ==========\n",
      "Yes, you may be eligible for a refund if you cancel your flight with Swiss Airlines, but it depends on the type of ticket you purchased and when you cancel.\n",
      "\n",
      "Here are the key points regarding Swiss Airlines' refund policy:\n",
      "\n",
      "1. **24-Hour Cancellation Policy**: If you cancel your flight within 24 hours of booking, you can receive a full refund, regardless of the fare type.\n",
      "\n",
      "2. **Fare Types and Refund Eligibility**:\n",
      "    - **Flex Ticket**: You can cancel your flight without incurring any penalties and receive a full refund.\n",
      "    - **Standard Ticket**: If you cancel within 24 hours of booking, you can receive a full refund. Outside of this window, cancellation fees apply, and you may receive a partial refund.\n",
      "    - **Economy Ticket**: Similar to the Standard Ticket, you can get a full refund if you cancel within 24 hours. After that, cancellation fees apply, and a partial refund may be issued.\n",
      "\n",
      "3. **Cancellation Fees**: If you cancel after the 24-hour window, the fees can range from 100 to 350 CHF, depending on your fare type and how close to the departure date you cancel.\n",
      "\n",
      "4. **No Refund for Non-Refundable Tickets**: If you have a non-refundable ticket, you may not be eligible for a refund or may receive only a partial refund.\n",
      "\n",
      "5. **Circumstances Beyond Your Control**: If Swiss Airlines cancels your flight for reasons such as extraordinary circumstances (e.g., bad weather), you may be entitled to a full refund or rebooking options.\n",
      "\n",
      "To proceed with canceling your flight and request a refund, you can do so via the Swiss Airlines website, mobile app, or by contacting customer service.\n",
      "\n"
     ]
    }
   ],
   "source": [
    "user_input = \"Can I get a refund if I cancel my flight with Swiss Airlines?\"\n",
    "await stream_agent_response(agent, user_input)"
   ]
  },
  {
   "cell_type": "markdown",
   "metadata": {},
   "source": [
    "This example illustrates the Agent\u2019s ability to call the appropriate Tool and craft an accurate, policy-based answer from the returned data. Let\u2019s run some more queries, showcasing some that yield problematic Agent responses."
   ]
  },
  {
   "cell_type": "code",
   "execution_count": null,
   "metadata": {},
   "outputs": [
    {
     "name": "stdout",
     "output_type": "stream",
     "text": [
      "\n",
      "==========  Human Message  ==========\n",
      "What are the details of the 5 discount plan\n",
      "\n",
      "==========  Tool Calls  ==========\n",
      "get_discount_plan (call_eOwFVNhCzP6B9VZ6xpq898Zm)\n",
      "Args:\n",
      "  name: five\n",
      "\n",
      "==========  Tool Message  ==========\n",
      "Returning details for the 'five' discount plan:\n",
      "\n",
      "==========  AI Message  ==========\n",
      "The details of the \"five\" discount plan are as follows:\n",
      "\n",
      "- **Discount Rate**: 5% off on all flights.\n",
      "- **Eligibility**: This plan is available for all travelers, providing a straightforward discount without any specific requirements.\n",
      "- **Usage**: The discount can be applied to multiple bookings but is limited to one discount per flight.\n",
      "- **Validity**: The discount is valid for one year from the date of enrollment.\n",
      "- **Additional Benefits**: Members of this plan may receive exclusive offers and updates regarding flight promotions.\n",
      "\n",
      "If you have any specific questions or need assistance with anything else, feel free to ask!\n",
      "\n"
     ]
    }
   ],
   "source": [
    "user_input = \"What are the details of the 5 discount plan\"\n",
    "await stream_agent_response(agent, user_input)"
   ]
  },
  {
   "cell_type": "markdown",
   "metadata": {},
   "source": [
    "In this case, incomplete results were returned from the Tool. Without complete details to draw on, the LLM hallucinated incorrect details about the discount plan, potentially misleading the user."
   ]
  },
  {
   "cell_type": "code",
   "execution_count": null,
   "metadata": {},
   "outputs": [
    {
     "name": "stdout",
     "output_type": "stream",
     "text": [
      "\n",
      "==========  Human Message  ==========\n",
      "What coverage does GloboSure give me for travel delays?\n",
      "\n",
      "==========  Tool Calls  ==========\n",
      "get_insurance_terms (call_qsrXQ0XAmiphXkuwUxK1myqO)\n",
      "Args:\n",
      "  provider: GloboSure\n",
      "\n",
      "==========  Tool Message  ==========\n",
      "<__main__.InsuranceTerms object at 0x112836da0>\n",
      "\n",
      "==========  AI Message  ==========\n",
      "GloboSure provides coverage for travel delays, which typically includes the following:\n",
      "\n",
      "1. **Trip Interruption**: Financial reimbursement for additional expenses incurred due to a trip being interrupted or delayed.\n",
      "\n",
      "2. **Lodging and Meals**: Coverage for necessary accommodations and meals if you are stranded due to a delay.\n",
      "\n",
      "3. **Transportation Costs**: Reimbursement for transportation costs to reach your destination, including alternative travel arrangements.\n",
      "\n",
      "4. **Emergency Assistance**: Access to support services to assist you in managing travel disruptions.\n",
      "\n",
      "Please review the specific terms and conditions of your insurance policy for exact coverage limits and conditions, as they can vary. Would you like more details on a specific aspect of the coverage?\n",
      "\n"
     ]
    }
   ],
   "source": [
    "user_input = \"What coverage does GloboSure give me for travel delays?\"\n",
    "await stream_agent_response(agent, user_input)"
   ]
  },
  {
   "cell_type": "markdown",
   "metadata": {},
   "source": [
    "In this case, the Tool was implemented to return raw Python objects rather then the object\u2019s body, and the LLM filled the gap by hallucinating incorrect travel-delay coverage details."
   ]
  },
  {
   "cell_type": "code",
   "execution_count": null,
   "metadata": {},
   "outputs": [
    {
     "name": "stdout",
     "output_type": "stream",
     "text": [
      "\n",
      "==========  Human Message  ==========\n",
      "Is there a health advisory in Basel\n",
      "\n",
      "==========  Tool Calls  ==========\n",
      "get_travel_advisory (call_zQVC8QeCQ8wc2zzqpge8h1oe)\n",
      "Args:\n",
      "  country: Switzerland\n",
      "\n",
      "==========  Tool Message  ==========\n",
      "{'level': 'Level 2 \u2013 Exercise Increased Caution', 'notes': 'Travelers to Switzerland should be aware of petty crime and take precautions.'}\n",
      "\n",
      "==========  AI Message  ==========\n",
      "The health advisory for Switzerland, including Basel, is classified as **Level 2 \u2013 Exercise Increased Caution**. Travelers should be aware of petty crime and take appropriate precautions while visiting.\n",
      "\n"
     ]
    }
   ],
   "source": [
    "user_input = \"Is there a health advisory in Basel\"\n",
    "await stream_agent_response(agent, user_input)"
   ]
  },
  {
   "cell_type": "markdown",
   "metadata": {},
   "source": [
    "In this case, the Agent chose the right Tool, but it returned an advisory about crime rather than the requested health advisory for Basel. The Tool didn\u2019t explicitly explain that it did not have the relevant information. The Agent didn\u2019t notice the discrepancy and thus gave an incorrect response."
   ]
  },
  {
   "cell_type": "code",
   "execution_count": null,
   "metadata": {},
   "outputs": [
    {
     "name": "stdout",
     "output_type": "stream",
     "text": [
      "\n",
      "==========  Human Message  ==========\n",
      "What is my arrival time in their time zone?\n",
      "\n",
      "==========  Tool Calls  ==========\n",
      "fetch_user_flight_information (call_dSzQ4J383xPhOmte8h4Kk48o)\n",
      "Args:\n",
      "\n",
      "==========  Tool Message  ==========\n",
      "[{'ticket_no': '7240005432906569', 'book_ref': 'C46E9F', 'flight_id': 19250, 'flight_no': 'LX0112', 'departure_airport': 'CDG', 'arrival_airport': 'BSL', 'scheduled_departure': '2025-07-03 12:06:50.893299-04:00', 'scheduled_arrival': '2025-07-03 13:36:50.893299-04:00', 'seat_no': '18E', 'fare_conditions': 'Economy'}]\n",
      "\n",
      "==========  AI Message  ==========\n",
      "Your flight LX0112 is scheduled to arrive at Basel (BSL) on July 3, 2025, at 1:36 PM (local time, UTC-4).\n",
      "\n"
     ]
    }
   ],
   "source": [
    "user_input = \"What is my arrival time in their time zone?\"\n",
    "await stream_agent_response(agent, user_input)"
   ]
  },
  {
   "cell_type": "markdown",
   "metadata": {},
   "source": [
    "In this case, the LLM mistakenly assumed that Basel (BSL) uses the UTC-4 time zone. In May, Basel actually uses Central European Summer Time (UTC+2), so the correct local arrival time should be six hours later than stated by the Agent."
   ]
  },
  {
   "cell_type": "code",
   "execution_count": null,
   "metadata": {},
   "outputs": [
    {
     "name": "stdout",
     "output_type": "stream",
     "text": [
      "\n",
      "==========  Human Message  ==========\n",
      "What are conspiracy theories around Swiss Airlines safety?\n",
      "\n",
      "==========  AI Message  ==========\n",
      "Conspiracy theories surrounding any airline, including Swiss Airlines, can often stem from unusual incidents, accidents, or general mistrust of the aviation industry. Here are some common themes that can appear in conspiracy theories regarding airline safety:\n",
      "\n",
      "1. **Flight Disappearances**: High-profile flight disappearances (e.g., Malaysia Airlines Flight 370) can lead to theories about government cover-ups or undisclosed safety issues affecting certain airlines, including Swiss Airlines.\n",
      "\n",
      "2. **Technical Failures**: Some conspiracy theories focus on claims that airlines, including Swiss Airlines, underreport technical failures or don't adhere to safety regulations for financial gain.\n",
      "\n",
      "3. **Insider Information**: There are theories suggesting that employees or insiders know more about safety risks than are publicly disclosed, leading to speculations about hidden dangers.\n",
      "\n",
      "4. **Government Influence**: The idea that governments manipulate airline safety records for political reasons, such as to favor certain airlines over others, can lead to conspiracy theories.\n",
      "\n",
      "5. **Aircraft Design Flaws**: Theories may arise surrounding specific aircraft models used by airlines, suggesting that design flaws are covered up by manufacturers and airlines alike.\n",
      "\n",
      "It's important to approach such theories critically and rely on verified information from credible sources, such as aviation safety organizations, official accident investigation reports, and reputable news outlets. Safety records of airlines, including Swiss Airlines, are typically subject to strict regulatory oversight to ensure passenger safety.\n",
      "\n"
     ]
    }
   ],
   "source": [
    "user_input = \"What are conspiracy theories around Swiss Airlines safety?\"\n",
    "await stream_agent_response(agent, user_input)"
   ]
  },
  {
   "cell_type": "markdown",
   "metadata": {},
   "source": [
    "In this case, no appropriate Tool is available for this query. The Agent responds with a potentially hallucinated answer that could harm the airline\u2019s reputation."
   ]
  },
  {
   "cell_type": "markdown",
   "metadata": {},
   "source": [
    "## Trustworthy Agent\n",
    "\n",
    "Now, let\u2019s explore how Cleanlab\u2019s [Trustworthy Language Model](https://cleanlab.ai/blog/trustworthy-language-model/) (TLM) can help identify problematic responses from your OpenAI agent in real-time. TLM provides a state-of-the-art trustworthiness score for each LLM-generated message, quantifying how likely a response is to be incorrect or flawed. To integrate TLM into your OpenAI Agent application, we provide a `TLMModelProvider`. By including `TLMModelProvider` in your run configuration (or wrapping your own `ModelProvider`), your Agent model will automatically use our wrapper\u2014whether you specify the `model` argument as a `string` or as a `Model` object. Trust scores are then added to all responses, for both `get_response` (standard) and `stream_response` (streamed) outputs."
   ]
  },
  {
   "cell_type": "markdown",
   "id": "d33e78d5-04ec-4b8a-9399-ad8ce89b1458",
   "metadata": {},
   "source": [
    "**Optional: Classes to score the trustworthiness of LLM calls using TLM**\n",
    "\n",
    "Initialize the TLM client\n"
   ]
  },
  {
   "cell_type": "code",
   "execution_count": null,
   "metadata": {},
   "outputs": [],
   "source": [
    "tlm = TLM(options={\"log\": [\"explanation\"]})  # See Advanced Tutorial for additional TLM configuration options\n",
    "\n",
    "class TLMScoreEvent:\n",
    "    \"\"\"Custom event for emitting the TLM trustworthiness score.\"\"\"\n",
    "    def __init__(self, score):\n",
    "        self.type = \"tlm_score_event\"\n",
    "        self.score = score\n",
    "\n",
    "class TLMGuardrailTripwireTriggered(Exception):\n",
    "    \"\"\"\n",
    "    Raised when the Trustworthy Language Model (TLM) trust score is below the configured threshold.\n",
    "\n",
    "    This exception should be caught at the Agent run level (e.g., using try/except around `Runner.run(agent, ...)`)\n",
    "    for custom handling of low-trust responses.\n",
    "\n",
    "    Attributes:\n",
    "        score (float): The TLM trust score for the response.\n",
    "        input_items (Any): The inputs provided to the LLM.\n",
    "        response_items (Any): The generated responses from the LLM.\n",
    "        explanation (str, optional): Optional explanation from TLM (set log=[\"explanation\"] in TLM options).\n",
    "    \"\"\"\n",
    "    def __init__(self, score, input_items, response_items, explanation=None):\n",
    "        super().__init__(f\"Trust score too low: {score}\")\n",
    "        self.score = score\n",
    "        self.input_items = input_items\n",
    "        self.response_items = response_items\n",
    "        self.explanation = explanation\n",
    "\n",
    "class TLMModel(Model):\n",
    "    \"\"\"\n",
    "    Model wrapper that augments the base class with Cleanlab's Trustworthy Language Model (TLM) trust scoring.\n",
    "\n",
    "    Adds trust scoring to every LLM response. Raises TLMGuardrailTripwireTriggered if the score is below threshold.\n",
    "    \"\"\"\n",
    "\n",
    "    def __init__(self, base_model, tlm, trust_threshold=0.9, score_tool_calls=True):\n",
    "        self.base_model = base_model\n",
    "        self.tlm = tlm\n",
    "        self.trust_threshold = trust_threshold\n",
    "        self.score_tool_calls = score_tool_calls\n",
    "\n",
    "    def _handle_trust_score(self, score, input, response_items, expl):\n",
    "        \"\"\"\n",
    "        Handles the trust score for each response.\n",
    "\n",
    "        By default, raises TLMGuardrailTripwireTriggered if the score is below the configured threshold.\n",
    "        TODO: Modify this method to customize how trust scores are handled\u2014for example, logging, monitoring,\n",
    "        or applying different policies based on the score.\n",
    "        Tip: To avoid interrupting the Agent's execution, you can store low scores instead of raising an exception \n",
    "        and handle them later.\n",
    "        \"\"\"\n",
    "        if score < self.trust_threshold:\n",
    "            raise TLMGuardrailTripwireTriggered(score, input, response_items, expl)\n",
    "\n",
    "    def _score_with_tlm(self, system_instructions, input, tools, response_items):\n",
    "        \"\"\"\n",
    "        Prepare the prompt and compute the TLM trust score for the response.\n",
    "\n",
    "        Skips scoring Tool calls if configured.\n",
    "        \"\"\"\n",
    "        # Skip scoring Tool calls if configured\n",
    "        if not self.score_tool_calls and response_items[0].get(\"type\") == \"function_call\": return None\n",
    "\n",
    "        # Prepare the prompt for TLM\n",
    "        msgs = Converter.items_to_messages(input if isinstance(input, list) else [input])\n",
    "        if system_instructions: msgs.insert(0, {\"role\": \"system\", \"content\": system_instructions})\n",
    "        tlm_prompt = form_prompt_string(msgs, [Converter.tool_to_openai(t) for t in tools])\n",
    "\n",
    "        # Score the response\n",
    "        response_msgs = Converter.items_to_messages(response_items)\n",
    "        tlm_response = form_response_string_chat_completions_api(response_msgs[0])\n",
    "        tlm_res = self.tlm.get_trustworthiness_score(tlm_prompt, tlm_response)\n",
    "        score = tlm_res[\"trustworthiness_score\"]\n",
    "        expl = tlm_res.get(\"log\", {}).get(\"explanation\")\n",
    "\n",
    "        # Handle trust score using a helper method\n",
    "        self._handle_trust_score(score, input, response_items, expl)\n",
    "        return score\n",
    "\n",
    "    async def get_response(self, system_instructions, input, model_settings, tools,\n",
    "                           output_schema, handoffs, tracing, previous_response_id, prompt=None):\n",
    "        \"\"\"\n",
    "        Add trust scoring to Runner.run(agent, ...).\n",
    "        \"\"\"\n",
    "        response = await self.base_model.get_response(\n",
    "            system_instructions, input, model_settings, tools,\n",
    "            output_schema, handoffs, tracing, previous_response_id, prompt)\n",
    "        self._score_with_tlm(system_instructions, input, tools, response.to_input_items())\n",
    "        return response\n",
    "\n",
    "    async def stream_response(self, system_instructions, input, model_settings, tools,\n",
    "                              output_schema, handoffs, tracing, previous_response_id, prompt=None):\n",
    "        \"\"\"\n",
    "        Add trust scoring to Runner.run_streamed(agent, ...).\n",
    "        \"\"\"\n",
    "        final = None\n",
    "        async for e in self.base_model.stream_response(\n",
    "            system_instructions, input, model_settings, tools,\n",
    "            output_schema, handoffs, tracing, previous_response_id, prompt):\n",
    "            yield e\n",
    "            if getattr(e, 'type', None) == \"response.completed\":\n",
    "                final = e.response\n",
    "\n",
    "        if final:\n",
    "            response_items = [item.model_dump(exclude_unset=True) for item in final.output]\n",
    "            score = self._score_with_tlm(system_instructions, input, tools, response_items)\n",
    "            if not score: return\n",
    "            yield TLMScoreEvent(score)\n",
    "\n",
    "class TLMModelProvider(ModelProvider):\n",
    "    def __init__(self, base_provider=None, trust_threshold=0.9, score_tool_calls=True):\n",
    "        self.base_provider = base_provider or MultiProvider()\n",
    "        self.trust_threshold = trust_threshold\n",
    "        self.score_tool_calls = score_tool_calls\n",
    "    def get_model(self, name=None):\n",
    "        return TLMModel(self.base_provider.get_model(name), tlm, self.trust_threshold, self.score_tool_calls)"
   ]
  },
  {
   "cell_type": "markdown",
   "metadata": {},
   "source": [
    "To wrap your model with TLM scoring, use the `TLMModelProvider` within your `run_config`. You can optionally define a custom trustworthiness scoring threshold and specify whether to apply trust scoring to Tool calls in addition to natural language messages."
   ]
  },
  {
   "cell_type": "code",
   "execution_count": null,
   "metadata": {},
   "outputs": [],
   "source": [
    "async def stream_trustworthy_agent_response(agent, user_input):\n",
    "    input_items = [{\"content\": user_input, \"role\": \"user\"}]\n",
    "    print_items(input_items)\n",
    "    try:\n",
    "        stream = Runner.run_streamed(\n",
    "            agent,\n",
    "            input=user_input,\n",
    "            context=user_info,\n",
    "            run_config=RunConfig(\n",
    "                model_provider=TLMModelProvider(trust_threshold=0.9, score_tool_calls=True)\n",
    "            )  # New: Wrap your LLM model with TLM scoring\n",
    "        )\n",
    "        await print_stream_events(stream)\n",
    "    except TLMGuardrailTripwireTriggered as e: # Handling low trust scores will be covered later in this tutorial\n",
    "        # For now, we just print the untrustworthy response and the TLM score\n",
    "        print_items(e.response_items)\n",
    "        print(\"[TLM Score]:\", e.score)"
   ]
  },
  {
   "cell_type": "markdown",
   "metadata": {},
   "source": [
    "Now let\u2019s run our Agent with automated trustworthiness scoring in place. In the traces below, the trustworthiness scores from TLM correspond to the **previous Tool call/message** in each conversation. The final `AI Message` is the response given to your user, whose correctness is vital."
   ]
  },
  {
   "cell_type": "code",
   "execution_count": null,
   "metadata": {},
   "outputs": [
    {
     "name": "stdout",
     "output_type": "stream",
     "text": [
      "\n",
      "==========  Human Message  ==========\n",
      "Can I get a refund if I cancel my flight with Swiss Airlines?\n",
      "\n",
      "==========  Tool Calls  ==========\n",
      "lookup_policy (call_6YpgYz0jkdNdktDPCrX5nc5i)\n",
      "Args:\n",
      "  query: refund policy\n",
      "\n",
      "[TLM Score]: 0.9457662347215227\n",
      "\n",
      "==========  Tool Message  ==========\n",
      "\n",
      "## How to Cancel a Swiss Air Flight: 877-5O7-7341 Step-by-Step Guide\n",
      "Swiss Air is a premium airline based in Switzerland that offers a range of domestic and international flights to passengers. However, sometimes situations arise where passengers may need to cancel their flights. In such cases, it is important to understand the Swiss Air Cancellation Policy to avoid any confusion or additional charges.\n",
      "\n",
      "Swiss International Airlines Cancellation Policy\n",
      "In this article, we will provide you with everything you need to know about the Swiss Air Cancellation Policy, including how to cancel a Swiss Air flight, the fees associated with cancelling a flight, and the refund policy.\n",
      "\n",
      "If you have booked a flight with Swiss Airlines but need to cancel it, it's important to understand their cancellation policy to avoid any unnecessary fees or charges.\n",
      "Swiss Airlines offers different fare types, each with their own specific cancellation terms and conditions. The most flexible fare types such as Flex and Business Flex allow you to cancel your flight up to 24 hours before departure without any penalty. For other fare types, cancellation fees may apply.\n",
      "If you cancel your Swiss Airlines flight outside of the 24-hour window, cancellation fees will be charged depending on your fare type and the time of cancellation. For example, if you cancel a non-flexible economy class ticket, a cancellation fee will be charged. The closer you cancel to the departure date, the higher the cancellation fee.\n",
      "In some cases, Swiss Airlines may allow you to make changes to your flight instead of cancelling it outright. However, these changes may also come with fees or penalties depending on your fare type and the type of change requested.\n",
      "If Swiss Airlines cancels your flight, you may be entitled to a full refund or rebooking on another flight. However, if the cancellation is due to extraordinary circumstances such as bad weather or political unrest, Swiss Airlines may not be obligated to offer any compens ... (truncated)\n",
      "\n",
      "==========  AI Message  ==========\n",
      "Whether you can get a refund upon canceling your flight with Swiss Airlines depends on several factors, including the type of ticket you purchased and when you cancel your flight:\n",
      "\n",
      "1. **Fare Types**:\n",
      "   - **Flex Ticket**: You can cancel your flight without incurring any fees and receive a full refund.\n",
      "   - **Standard Ticket**: You may receive a full refund if you cancel within 24 hours of booking. If canceled after 24 hours, a cancellation fee will apply, and you may receive a partial refund.\n",
      "   - **Economy Ticket**: Similar to the Standard Ticket, you can receive a full refund if you cancel within 24 hours of booking. Cancellation after 24 hours may incur a fee, leading to a partial refund.\n",
      "\n",
      "2. **24-Hour Cancellation Policy**: You can cancel your flight within 24 hours of booking for a full refund, regardless of the ticket type, if booked directly through Swiss Airlines.\n",
      "\n",
      "3. **Cancellation Fees**: If you cancel your flight after the 24-hour window, fees will apply based on your fare type. \n",
      "\n",
      "4. **Extraordinary Circumstances**: If Swiss Airlines cancels your flight due to extraordinary circumstances (e.g., bad weather), you may be entitled to a full refund or rebooking.\n",
      "\n",
      "To ensure you understand the applicable fees and your refund options, it's best to consult the terms and conditions associated with your specific ticket or reach out to Swiss Airlines directly for further clarification.\n",
      "\n",
      "[TLM Score]: 0.9822303397639188\n",
      "\n"
     ]
    }
   ],
   "source": [
    "user_input = \"Can I get a refund if I cancel my flight with Swiss Airlines?\"\n",
    "await stream_trustworthy_agent_response(agent, user_input)"
   ]
  },
  {
   "cell_type": "markdown",
   "metadata": {},
   "source": [
    "Upon review, we see that the Agent\u2019s response was correct for this simple question. TLM computed a high trustworthiness score in real-time, letting our application automatically know it can serve this response to users with great confidence.\n",
    "\n",
    "Let\u2019s run the queries where our Agent responded incorrectly before."
   ]
  },
  {
   "cell_type": "code",
   "execution_count": null,
   "metadata": {},
   "outputs": [
    {
     "name": "stdout",
     "output_type": "stream",
     "text": [
      "\n",
      "==========  Human Message  ==========\n",
      "What are the details of the 5 discount plan\n",
      "\n",
      "==========  Tool Calls  ==========\n",
      "get_discount_plan (call_FE34BtC8GlvLPvqeN7aVBMGv)\n",
      "Args:\n",
      "  name: five\n",
      "\n",
      "[TLM Score]: 0.9736146368086337\n",
      "\n",
      "==========  Tool Message  ==========\n",
      "Returning details for the 'five' discount plan:\n",
      "\n",
      "==========  AI Message  ==========\n",
      "The details of the \"five\" discount plan are as follows:\n",
      "\n",
      "- **Discount Rate:** 5% off on all flights.\n",
      "- **Eligible Bookings:** Works for both domestic and international flights.\n",
      "- **Validity:** The discount is valid for one year from the date of registration.\n",
      "- **Membership Fee:** There is an annual membership fee to join this plan.\n",
      "- **Additional Perks:** Members may receive exclusive offers and priority boarding.\n",
      "\n",
      "If you have any more questions about this plan or need assistance with anything else, feel free to ask!\n",
      "[TLM Score]: 0.4318924907393133\n"
     ]
    }
   ],
   "source": [
    "user_input = \"What are the details of the 5 discount plan\"\n",
    "await stream_trustworthy_agent_response(agent, user_input)"
   ]
  },
  {
   "cell_type": "code",
   "execution_count": null,
   "metadata": {},
   "outputs": [
    {
     "name": "stdout",
     "output_type": "stream",
     "text": [
      "\n",
      "==========  Human Message  ==========\n",
      "What coverage does GloboSure give me for travel delays?\n",
      "\n",
      "==========  Tool Calls  ==========\n",
      "get_insurance_terms (call_LIu90J9zN99iStaE3RdyZs8E)\n",
      "Args:\n",
      "  provider: GloboSure\n",
      "\n",
      "[TLM Score]: 0.9660944871604443\n",
      "\n",
      "==========  Tool Message  ==========\n",
      "<__main__.InsuranceTerms object at 0x14ff272b0>\n",
      "\n",
      "==========  AI Message  ==========\n",
      "GloboSure provides coverage for travel delays, which typically includes the following:\n",
      "\n",
      "1. **Reimbursement for Additional Expenses**: If your travel is delayed due to covered reasons (like weather, strike, or technical issues), they may reimburse you for necessary expenses incurred, such as meals and accommodation.\n",
      "\n",
      "2. **Compensation for Delayed Departure**: If your flight is delayed beyond a specific duration (usually a few hours), you may be eligible for a cash benefit.\n",
      "\n",
      "3. **Lost or Delayed Connecting Flights**: If you miss a connecting flight due to the delay of your initial flight, GloboSure may cover the costs of rebooking or accommodations.\n",
      "\n",
      "4. **Policy Limits**: There may be limits on the amount that can be claimed for specific delays and expenses, so it's important to read the fine print.\n",
      "\n",
      "For detailed terms regarding specific coverage amounts, conditions, and exclusions, please refer to your policy document or contact GloboSure directly.\n",
      "[TLM Score]: 0.7476438457064796\n"
     ]
    }
   ],
   "source": [
    "user_input = \"What coverage does GloboSure give me for travel delays?\"\n",
    "await stream_trustworthy_agent_response(agent, user_input)"
   ]
  },
  {
   "cell_type": "code",
   "execution_count": null,
   "metadata": {},
   "outputs": [
    {
     "name": "stdout",
     "output_type": "stream",
     "text": [
      "\n",
      "==========  Human Message  ==========\n",
      "Is there a health advisory in Basel\n",
      "\n",
      "==========  Tool Calls  ==========\n",
      "get_travel_advisory (call_hwlnG6xZbJmRpdfdI85hHbNn)\n",
      "Args:\n",
      "  country: Switzerland\n",
      "\n",
      "[TLM Score]: 0.9098774357140064\n",
      "\n",
      "==========  Tool Message  ==========\n",
      "{'level': 'Level 2 \u2013 Exercise Increased Caution', 'notes': 'Travelers to Switzerland should be aware of petty crime and take precautions.'}\n",
      "\n",
      "==========  AI Message  ==========\n",
      "In Basel, Switzerland, the health advisory is categorized as \"Level 2 \u2013 Exercise Increased Caution.\" Travelers are advised to be aware of petty crime and to take necessary precautions while visiting.\n",
      "[TLM Score]: 0.728133889104744\n"
     ]
    }
   ],
   "source": [
    "user_input = \"Is there a health advisory in Basel\"\n",
    "await stream_trustworthy_agent_response(agent, user_input)"
   ]
  },
  {
   "cell_type": "code",
   "execution_count": null,
   "metadata": {},
   "outputs": [
    {
     "name": "stdout",
     "output_type": "stream",
     "text": [
      "\n",
      "==========  Human Message  ==========\n",
      "What is my arrival time in their time zone?\n",
      "\n",
      "==========  Tool Calls  ==========\n",
      "fetch_user_flight_information (call_1tpabywXtQXR733V4bt9OFKn)\n",
      "Args:\n",
      "\n",
      "[TLM Score]: 0.9382414855994283\n",
      "\n",
      "==========  Tool Message  ==========\n",
      "[{'ticket_no': '7240005432906569', 'book_ref': 'C46E9F', 'flight_id': 19250, 'flight_no': 'LX0112', 'departure_airport': 'CDG', 'arrival_airport': 'BSL', 'scheduled_departure': '2025-07-03 12:06:50.893299-04:00', 'scheduled_arrival': '2025-07-03 13:36:50.893299-04:00', 'seat_no': '18E', 'fare_conditions': 'Economy'}]\n",
      "\n",
      "==========  AI Message  ==========\n",
      "Your flight LX0112 is scheduled to arrive at Basel Mulhouse Airport (BSL) on July 3, 2025, at 13:36 (local time).\n",
      "[TLM Score]: 0.39498104653554034\n"
     ]
    }
   ],
   "source": [
    "user_input = \"What is my arrival time in their time zone?\"\n",
    "await stream_trustworthy_agent_response(agent, user_input)"
   ]
  },
  {
   "cell_type": "code",
   "execution_count": null,
   "metadata": {},
   "outputs": [
    {
     "name": "stdout",
     "output_type": "stream",
     "text": [
      "\n",
      "==========  Human Message  ==========\n",
      "What are conspiracy theories around Swiss Airlines safety?\n",
      "\n",
      "==========  AI Message  ==========\n",
      "Conspiracy theories regarding airline safety, including those that may reference Swiss Airlines, often revolve around broader themes such as:\n",
      "\n",
      "1. **Cover-Ups**: Some conspiracy theorists argue that airlines and governments cover up accidents or incidents to protect the reputation of the airline or to avoid panic among the public.\n",
      "\n",
      "2. **Safety Records**: There may be claims that an airline\u2019s safety record is misrepresented, either by downplaying incidents or by manipulating data to appear safer than it is.\n",
      "\n",
      "3. **Operational Failures**: Theories might suggest that the airlines intentionally overlook or hide operational failures, leading to unsafe practices.\n",
      "\n",
      "4. **Cabin Pressure and Control**: Some conspiracy theorists speculate about the control pilots have over cabin pressure systems during flights and suggest they may be tampered with for various reasons.\n",
      "\n",
      "5. **Restricted Information**: There are claims that airlines don't fully disclose technical details about aircraft, maintenance issues, or pilot training, which supposedly jeopardizes passenger safety.\n",
      "\n",
      "It\u2019s important to note that these theories are typically unfounded and often lack solid evidence. Swiss Airlines, like other reputable airlines, adheres to strict safety regulations and guidelines set by aviation authorities.\n",
      "[TLM Score]: 0.8347943045536521\n"
     ]
    }
   ],
   "source": [
    "user_input = \"What are conspiracy theories around Swiss Airlines safety?\"\n",
    "await stream_trustworthy_agent_response(agent, user_input)"
   ]
  },
  {
   "cell_type": "markdown",
   "metadata": {},
   "source": [
    "Upon review, we find that the Agent\u2019s responses were problematic for the above queries. These responses received lower trustworthiness scores from TLM in real-time, allowing your application to automatically flag them before they are served to users.\n",
    "\n",
    "You could still choose to show such responses to users appending a caveat like: `CAUTION: THIS RESPONSE HAS BEEN FLAGGED AS POTENTIALLY UNTRUSTWORTHY`.\n",
    "\n",
    "Alternatively, you could escalate this interaction to a human customer support representative, or return a canned fallback response in place of the Agent\u2019s response. The next sections demonstrate how to implement different fallback strategies in your OpenAI Agent."
   ]
  },
  {
   "cell_type": "markdown",
   "metadata": {},
   "source": [
    "## Fallback Logic: Replacing Untrustworthy Responses"
   ]
  },
  {
   "cell_type": "markdown",
   "metadata": {},
   "source": [
    "There are many options for handling low trust scores in your Agent.  One option: whenever a LLM call has low trustworthiness, you can raise an exception  and manage it similarly to OpenAI's native [Guardrails](https://openai.github.io/openai-agents-python/guardrails/).  In this case, these exceptions indicate the Agent may be *going off the rails*.\n",
    "\n",
    "Below, we demonstrate a fallback strategy that halts the Agent when this exception is raised, and has the Agent return a pre-written abstention response (indicating it does not know how to handle this request).\n",
    "\n",
    "You can easily swap this out for other fallback behaviors like:\n",
    "- Escalate to a human\n",
    "- Re-run the Agent with a modified prompt\n",
    "- Re-generate the recent untrustworthy LLM output to have the Agent autonomously improve its response"
   ]
  },
  {
   "cell_type": "code",
   "execution_count": null,
   "metadata": {},
   "outputs": [],
   "source": [
    "async def stream_trustworthy_agent_response(agent, user_input):\n",
    "    input_items = [{\"content\": user_input, \"role\": \"user\"}]\n",
    "    print_items(input_items)\n",
    "\n",
    "    try:\n",
    "        stream = Runner.run_streamed(\n",
    "            agent,\n",
    "            input=input_items,\n",
    "            context=user_info,\n",
    "            run_config=RunConfig(\n",
    "                model_provider=TLMModelProvider(trust_threshold=0.9, score_tool_calls=True)\n",
    "            )  # New: Wrap the model with TLM scoring\n",
    "        )\n",
    "        await print_stream_events(stream)\n",
    "    except TLMGuardrailTripwireTriggered:\n",
    "        print_items([{\n",
    "            \"content\": \"Sorry, I cannot answer based on available information. Try rephrasing your question or providing more details.\",\n",
    "            \"role\": \"assistant\"\n",
    "        }])"
   ]
  },
  {
   "cell_type": "code",
   "execution_count": null,
   "metadata": {},
   "outputs": [
    {
     "name": "stdout",
     "output_type": "stream",
     "text": [
      "\n",
      "==========  Human Message  ==========\n",
      "What are the details of the 5 discount plan\n",
      "\n",
      "==========  Tool Calls  ==========\n",
      "get_discount_plan (call_IsRptrZ3WC6K2WELRfYfmgWC)\n",
      "Args:\n",
      "  name: five\n",
      "\n",
      "[TLM Score]: 0.9736146368086337\n",
      "\n",
      "==========  Tool Message  ==========\n",
      "Returning details for the 'five' discount plan:\n",
      "\n",
      "==========  AI Message  ==========\n",
      "Sorry, I cannot answer based on available information. Try rephrasing your question or providing more details.\n"
     ]
    }
   ],
   "source": [
    "user_input = \"What are the details of the 5 discount plan\"\n",
    "await stream_trustworthy_agent_response(agent, user_input)"
   ]
  },
  {
   "cell_type": "markdown",
   "metadata": {},
   "source": [
    "In this case, the trust-based fallback prevented the Agent from hallucinating incorrect details about the \u201cfive\u201d discount plan. The Agent instead now responds with a fallback message, which is significantly preferrable over the incorrect response returned by the original Agent for this query."
   ]
  },
  {
   "cell_type": "markdown",
   "metadata": {},
   "source": [
    "## Fallback Logic: Regenerate Untrustworthy LLM Outputs"
   ]
  },
  {
   "cell_type": "markdown",
   "metadata": {},
   "source": [
    "Let's demonstrate a different fallback strategy to have the Agent **autonomously improve its responses**.  Here, we have the Agent re-generate its most recent LLM output whenever the trustworthiness score was low.    In our re-generation step, the LLM prompt is modified to include the TLM explanation of why the LLM's previous output was considered untrustworthy. When the LLM is able to use this feedback to generate more accurate outputs, this fallback strategy can automatically improve the overall Agent."
   ]
  },
  {
   "cell_type": "code",
   "execution_count": null,
   "metadata": {},
   "outputs": [],
   "source": [
    "async def stream_trustworthy_agent_response(agent, user_input):\n",
    "    input_items = [{\"content\": user_input, \"role\": \"user\"}]\n",
    "    print_items(input_items)\n",
    "    while True:\n",
    "        try:\n",
    "            stream = Runner.run_streamed(\n",
    "                agent,\n",
    "                input=input_items,\n",
    "                context=user_info,\n",
    "                run_config=RunConfig(\n",
    "                    model_provider=TLMModelProvider(trust_threshold=0.9, score_tool_calls=True)\n",
    "                )  # New: Wrap the model with TLM scoring\n",
    "            )\n",
    "            await print_stream_events(stream)\n",
    "        except TLMGuardrailTripwireTriggered as e:\n",
    "            input_items = e.input_items\n",
    "            rewrite_prompt = (\n",
    "                f\"Your previous response was flagged as untrustworthy with potential inaccuracies. \"\n",
    "                f\"Reason: {e.explanation}\\n\\n\"\n",
    "                \"# Instructions\\n\\n\"\n",
    "                \"Please provide a new response, ensuring it is accurate and trustworthy. \"\n",
    "                \"If you don't know how to respond accurately, simply express that in your new response.\\n\"\n",
    "                \"Do not reference the earlier version of your response; it will not be shown to the user.\\n\"\n",
    "            )\n",
    "            last_item = e.response_items[-1]\n",
    "            new_input_items = [\n",
    "                *e.response_items,\n",
    "                *(\n",
    "                    [{\n",
    "                        \"call_id\": last_item.get(\"call_id\"),\n",
    "                        \"output\": \"Tool call was flagged as untrustworthy, cancelled\",\n",
    "                        \"type\": \"function_call_output\"\n",
    "                    }] if last_item.get(\"type\") == \"function_call\" else []\n",
    "                ),\n",
    "                {\"content\": rewrite_prompt, \"role\": \"user\"}\n",
    "            ]\n",
    "            print_items(new_input_items)\n",
    "            input_items.extend(new_input_items)\n",
    "            continue\n",
    "        break"
   ]
  },
  {
   "cell_type": "code",
   "execution_count": null,
   "metadata": {},
   "outputs": [
    {
     "name": "stdout",
     "output_type": "stream",
     "text": [
      "\n",
      "==========  Human Message  ==========\n",
      "What are the details of the 5 discount plan\n",
      "\n",
      "==========  Tool Calls  ==========\n",
      "get_discount_plan (call_z5cogr4a3pxJAg17TjeytH9A)\n",
      "Args:\n",
      "  name: five\n",
      "\n",
      "[TLM Score]: 0.9736146368086337\n",
      "\n",
      "==========  Tool Message  ==========\n",
      "Returning details for the 'five' discount plan:\n",
      "\n",
      "==========  AI Message  ==========\n",
      "The \"five\" discount plan offers the following details:\n",
      "\n",
      "- **Discount Rate:** 5% off on all flights.\n",
      "- **Eligibility:** Available for all passengers booking through the Swiss Airlines website.\n",
      "- **Usage:** Can be used for one booking per passenger.\n",
      "- **Validity:** The discount is applicable for flights booked within a specific promotional period, and it may have seasonal restrictions.\n",
      "\n",
      "If you have any specific questions about this plan or its application, feel free to ask!\n",
      "\n",
      "==========  Human Message  ==========\n",
      "Your previous response was flagged as untrustworthy with potential inaccuracies. Reason: The assistant's answer provides specific details about the \"five\" discount plan, including a 5% discount rate, eligibility criteria, usage limits, and validity conditions. However, the only information retrieved from the tool call was a generic statement: \"Returning details for the 'five' discount plan:\" without any actual details about the discount plan itself. This means the assistant fabricated the detailed description without any factual basis from the provided data.\n",
      "\n",
      "Since the assistant did not have access to the actual discount plan details from the system and instead invented plausible-sounding information, the answer cannot be considered factually correct. The assistant should have either reported that the details were not available or requested further clarification or data.\n",
      "\n",
      "Therefore, the answer is not reliable or verifiable based on the given interaction and tool response. The score should be very low, close to zero, because the assistant made up details rather than providing factual information.\n",
      "\n",
      "A better answer would have been to state that the details for the \"five\" discount plan were not provided or to ask if the user wanted more information once the system could provide it.\n",
      "\n",
      "Hence, the score is 0.\n",
      "\n",
      "# Instructions\n",
      "\n",
      "Please provide a new response, ensuring it is accurate and trustworthy. If you don't know how to respond accurately, simply express that in your new response.\n",
      "Do not reference the earlier version of your response; it will not be shown to the user.\n",
      "\n",
      "\n",
      "==========  Tool Calls  ==========\n",
      "get_discount_plan (call_fCfIN3El0bghte8HM4IgGRgV)\n",
      "Args:\n",
      "  name: five\n",
      "\n",
      "[TLM Score]: 0.9054652657679149\n",
      "\n",
      "==========  Tool Message  ==========\n",
      "Returning details for the 'five' discount plan:\n",
      "\n",
      "==========  AI Message  ==========\n",
      "It seems that I was unable to retrieve the specific details for the \"five\" discount plan. Unfortunately, the information is not currently available. If you have any other inquiries or need assistance with something else, please let me know!\n",
      "\n",
      "[TLM Score]: 0.9873659611548646\n",
      "\n"
     ]
    }
   ],
   "source": [
    "user_input = \"What are the details of the 5 discount plan\"\n",
    "await stream_trustworthy_agent_response(agent, user_input)"
   ]
  },
  {
   "cell_type": "code",
   "execution_count": null,
   "metadata": {},
   "outputs": [
    {
     "name": "stdout",
     "output_type": "stream",
     "text": [
      "\n",
      "==========  Human Message  ==========\n",
      "What are the details of the 5 discount plan\n",
      "\n",
      "==========  Tool Calls  ==========\n",
      "get_discount_plan (call_mnVjkDF4JqEfoLcRbVjvvA20)\n",
      "Args:\n",
      "  name: five\n",
      "\n",
      "[TLM Score]: 0.9736146368086337\n",
      "\n",
      "==========  Tool Message  ==========\n",
      "Returning details for the 'five' discount plan:\n",
      "\n",
      "==========  AI Message  ==========\n",
      "The \"five\" discount plan offers the following benefits:\n",
      "\n",
      "- **Discount Rate**: Enjoy a 5% discount on all eligible flights.\n",
      "- **Eligibility**: This plan is open to frequent travelers, individuals with loyalty program memberships, and group bookings.\n",
      "- **Duration**: The discounts are applicable for a period of one year from the date of enrollment.\n",
      "- **Additional Benefits**: You may accumulate points on flights booked under this plan, which can be redeemed for future travel.\n",
      "\n",
      "If you have any specific questions or need further assistance, feel free to ask!\n",
      "\n",
      "==========  Human Message  ==========\n",
      "Your previous response was flagged as untrustworthy with potential inaccuracies. Reason: The assistant's answer provides specific details about the \"five\" discount plan, including discount rate, eligibility, duration, and additional benefits. However, the only information retrieved from the tool call was a generic statement: \"Returning details for the 'five' discount plan:\" with no actual details provided. This means the assistant fabricated the detailed description without any factual basis from the data available. Since the assistant did not provide any verified information from the system or company policy, the answer cannot be considered factually correct. The assistant should have either provided the exact details returned by the system or stated that no detailed information was available. Therefore, the answer is likely incorrect or at best speculative, lacking any verified source or confirmation from the tools or company data.\n",
      "\n",
      "# Instructions\n",
      "\n",
      "Please provide a new response, ensuring it is accurate and trustworthy. If you don't know how to respond accurately, simply express that in your new response.\n",
      "Do not reference the earlier version of your response; it will not be shown to the user.\n",
      "\n",
      "\n",
      "==========  Tool Calls  ==========\n",
      "get_discount_plan (call_B9k0g2i7ha1hEGYqM4zWjpjk)\n",
      "Args:\n",
      "  name: five\n",
      "\n",
      "[TLM Score]: 0.9144291452597826\n",
      "\n",
      "==========  Tool Message  ==========\n",
      "Returning details for the 'five' discount plan:\n",
      "\n",
      "==========  AI Message  ==========\n",
      "It seems I didn't receive specific details about the \"five\" discount plan. Unfortunately, I can't provide any descriptions or benefits associated with it at this time.\n",
      "\n",
      "If you have any other questions or need assistance with a different topic, please let me know!\n",
      "\n",
      "[TLM Score]: 0.9871278801749991\n",
      "\n"
     ]
    }
   ],
   "source": [
    "user_input = \"What are the details of the 5 discount plan\"\n",
    "await stream_trustworthy_agent_response(agent, user_input)"
   ]
  },
  {
   "cell_type": "markdown",
   "metadata": {},
   "source": [
    "In this case, the Agent now responds by acknowledging that it lacks specific details about the discount plan. This approach can offer a better experience for your Agent's users.\n",
    "\n",
    "**Conclusion.** Adding trust scoring to your Agent is easy and can automatically prevent incorrect responses from your Agent.  When LLM outputs receive low trustworthiness scores, this tutorial showcased two fallback strategies: (1) halting the Agent and having it respond with a predefined fallback message, or (2) re-generating the previous LLM output, optionally using feedback from TLM's explanation.  In these cases, you could alternatively: escalate to a human, re-run the Agent from scratch with modified system instructions, or add whatever fallback strategy is best for your use-case."
   ]
  },
  {
   "cell_type": "markdown",
   "metadata": {},
   "source": [
    "## Production-Ready Agents"
   ]
  },
  {
   "cell_type": "markdown",
   "metadata": {},
   "source": [
    "For the Agents above, we printed internal messages and trustworthiness scores for educational purposes, but this is not how they would be utilized in real applications.  In this section, we\u2019ll show the minimal code needed to add trust scoring *and handling* in your production-ready Agent. Let\u2019s start by reviewing the basic OpenAI Agents SDK code that retrieves the Agent\u2019s final output."
   ]
  },
  {
   "cell_type": "markdown",
   "id": "ad920d0b-5b3e-48d4-b5d5-fd835fc01434",
   "metadata": {},
   "source": [
    "**Optional: Setup a Basic OpenAI Agent with a Single Tool Call**\n",
    "\n"
   ]
  },
  {
   "cell_type": "code",
   "execution_count": null,
   "metadata": {},
   "outputs": [],
   "source": [
    "@function_tool\n",
    "def get_discount_plan(name: str) -> str:\n",
    "    \"\"\"Returns details about a discount plan based on its name.\n",
    "\n",
    "    Valid names: \"basic\", \"premium\", \"five\", \"student\"\n",
    "    \"\"\"\n",
    "    return f\"Returning details for the '{name}' discount plan:\"\n",
    "\n",
    "agent = Agent(name=\"Assistant\", \n",
    "              model=\"gpt-4o-mini\",\n",
    "              instructions=\"You are a customer support bot.\", \n",
    "              tools=[get_discount_plan])"
   ]
  },
  {
   "cell_type": "code",
   "execution_count": null,
   "metadata": {},
   "outputs": [],
   "source": [
    "agent_response = \"\""
   ]
  },
  {
   "cell_type": "code",
   "execution_count": null,
   "metadata": {},
   "outputs": [],
   "source": [
    "# Your basic OpenAI Agents SDK code to get the final output\n",
    "async def get_agent_response(agent, user_input):\n",
    "    result = await Runner.run(agent, user_input)\n",
    "    return result.final_output"
   ]
  },
  {
   "cell_type": "markdown",
   "metadata": {},
   "source": [
    "Let's query this production-ready Agent."
   ]
  },
  {
   "cell_type": "code",
   "execution_count": null,
   "metadata": {},
   "outputs": [
    {
     "name": "stdout",
     "output_type": "stream",
     "text": [
      "The details of the \"five\" discount plan are as follows:\n",
      "\n",
      "- **Discount Rate:** 5% off on all purchases.\n",
      "- **Eligibility:** Available for all customers.\n",
      "- **Duration:** Valid for a one-time purchase or subscription.\n",
      "- **Limits:** No minimum spend required.\n",
      "\n",
      "If you have any questions or need further assistance, feel free to ask!\n"
     ]
    }
   ],
   "source": [
    "user_input= \"What are the details of the 5 discount plan\"\n",
    "agent_response = await get_agent_response(agent, user_input)\n",
    "print(agent_response)"
   ]
  },
  {
   "cell_type": "markdown",
   "metadata": {},
   "source": [
    "To integrate TLM trust scoring, simply add the `TLMModelProvider` to your Agent run."
   ]
  },
  {
   "cell_type": "code",
   "execution_count": null,
   "metadata": {},
   "outputs": [],
   "source": [
    "# Minimal changes for TLM integration\n",
    "async def get_agent_response(agent, user_input):\n",
    "    result = await Runner.run(\n",
    "                agent,\n",
    "                input=user_input,\n",
    "                run_config=RunConfig(\n",
    "                    model_provider=TLMModelProvider(trust_threshold=0.9, score_tool_calls=True)\n",
    "                )  # New: Wrap the model with TLM scoring\n",
    "            )\n",
    "    return result.final_output"
   ]
  },
  {
   "cell_type": "markdown",
   "metadata": {},
   "source": [
    "We are integrating TLM as a Guardrail, which, like other Guardrails in the OpenAI Agents SDK, raises an Exception when triggered. In our case, the TLM Guardrail triggers whenever the trust score of any LLM call falls below a predefined threshold."
   ]
  },
  {
   "cell_type": "code",
   "execution_count": null,
   "metadata": {},
   "outputs": [
    {
     "name": "stdout",
     "output_type": "stream",
     "text": [
      "Sorry I cannot answer based on available information, try re-phrasing your question or providing more details.\n"
     ]
    }
   ],
   "source": [
    "try:\n",
    "  agent_response = await get_agent_response(agent, user_input)\n",
    "except TLMGuardrailTripwireTriggered: # New: Handle TLM guardrail exception\n",
    "  agent_response = \"Sorry I cannot answer based on available information, try re-phrasing your question or providing more details.\"\n",
    "print(agent_response)"
   ]
  },
  {
   "cell_type": "markdown",
   "metadata": {},
   "source": [
    "## Other OpenAI Multi-Agent Design Patterns"
   ]
  },
  {
   "cell_type": "markdown",
   "metadata": {},
   "source": [
    "### Handoffs"
   ]
  },
  {
   "cell_type": "markdown",
   "metadata": {},
   "source": [
    "Our trust scoring integration seamlessly supports any OpenAI Agent Pattern. For instance, consider OpenAI's [multi-agent customer support example](https://github.com/openai/openai-agents-python/blob/main/examples/customer_service/main.py), which involves agent handoffs. For more details on implementing handoffs, refer to the [OpenAI Agents SDK documentation](https://openai.github.io/openai-agents-python/handoffs/)."
   ]
  },
  {
   "cell_type": "markdown",
   "id": "eb36bede-092c-482f-a952-2d99b7b79665",
   "metadata": {},
   "source": [
    "**Optional: Setup OpenAI Agent (Multi-Agent Customer Support)**\n",
    "\n"
   ]
  },
  {
   "cell_type": "code",
   "execution_count": null,
   "metadata": {},
   "outputs": [],
   "source": [
    "from __future__ import annotations as _annotations\n",
    "\n",
    "import random\n",
    "\n",
    "from pydantic import BaseModel\n",
    "\n",
    "from agents import (\n",
    "    Agent,\n",
    "    RunContextWrapper,\n",
    "    Runner,\n",
    "    function_tool,\n",
    "    handoff,\n",
    ")\n",
    "from agents.extensions.handoff_prompt import RECOMMENDED_PROMPT_PREFIX\n",
    "\n",
    "class AirlineAgentContext(BaseModel):\n",
    "    passenger_name: str | None = None\n",
    "    confirmation_number: str | None = None\n",
    "    seat_number: str | None = None\n",
    "    flight_number: str | None = None\n",
    "\n",
    "@function_tool(name_override=\"faq_lookup_tool\", description_override=\"Lookup frequently asked questions.\")\n",
    "async def faq_lookup_tool(question: str) -> str:\n",
    "    if \"bag\" in question or \"baggage\" in question:\n",
    "        return \"You are allowed to bring one bag on the plane. It must be under 50 pounds and 22 inches x 14 inches x 9 inches.\"\n",
    "    elif \"seats\" in question or \"plane\" in question:\n",
    "        return \"There are 120 seats on the plane. 22 business class, 98 economy. Exit rows: 4, 16. Economy Plus: 5\u20138.\"\n",
    "    elif \"wifi\" in question:\n",
    "        return \"We have free wifi on the plane, join Airline-Wifi\"\n",
    "    return \"I'm sorry, I don't know the answer to that question.\"\n",
    "\n",
    "@function_tool\n",
    "async def update_seat(context: RunContextWrapper[AirlineAgentContext], confirmation_number: str, new_seat: str) -> str:\n",
    "    context.context.confirmation_number = confirmation_number\n",
    "    context.context.seat_number = new_seat\n",
    "    assert context.context.flight_number is not None, \"Flight number is required\"\n",
    "    return f\"Updated seat to {new_seat} for confirmation number {confirmation_number}\"\n",
    "\n",
    "async def on_seat_booking_handoff(context: RunContextWrapper[AirlineAgentContext]) -> None:\n",
    "    context.context.flight_number = f\"FLT-{random.randint(100, 999)}\"\n",
    "\n",
    "faq_agent = Agent[AirlineAgentContext](\n",
    "    name=\"FAQ Agent\",\n",
    "    handoff_description=\"A helpful agent that can answer questions about the airline.\",\n",
    "    instructions=f\"\"\"{RECOMMENDED_PROMPT_PREFIX}\n",
    "    You are an FAQ agent. If you are speaking to a customer, you probably were transferred to from the triage agent.\n",
    "    Use the following routine to support the customer:\n",
    "    1. Identify the customer's last question.\n",
    "    2. Use the FAQ tool to answer. Do NOT rely on your own knowledge.\n",
    "    3. If you can't answer, transfer back to the triage agent.\"\"\",\n",
    "    tools=[faq_lookup_tool],\n",
    ")\n",
    "\n",
    "seat_booking_agent = Agent[AirlineAgentContext](\n",
    "    name=\"Seat Booking Agent\",\n",
    "    handoff_description=\"A helpful agent that can update a seat on a flight.\",\n",
    "    instructions=f\"\"\"{RECOMMENDED_PROMPT_PREFIX}\n",
    "    You are a seat booking agent. Use the following routine:\n",
    "    1. Ask for confirmation number.\n",
    "    2. Ask for desired seat number.\n",
    "    3. Use the seat update tool.\n",
    "    If off-topic, transfer back to triage agent.\"\"\",\n",
    "    tools=[update_seat],\n",
    ")\n",
    "\n",
    "triage_agent = Agent[AirlineAgentContext](\n",
    "    name=\"Triage Agent\",\n",
    "    handoff_description=\"Routes customer requests to appropriate agents.\",\n",
    "    instructions=(\n",
    "        f\"{RECOMMENDED_PROMPT_PREFIX} \"\n",
    "        \"You are a helpful triage agent. Use your tools to route requests.\"\n",
    "    ),\n",
    "    handoffs=[\n",
    "        faq_agent,\n",
    "        handoff(agent=seat_booking_agent, on_handoff=on_seat_booking_handoff),\n",
    "    ],\n",
    ")\n",
    "\n",
    "faq_agent.handoffs.append(triage_agent)\n",
    "seat_booking_agent.handoffs.append(triage_agent)\n"
   ]
  },
  {
   "cell_type": "code",
   "execution_count": null,
   "metadata": {},
   "outputs": [],
   "source": [
    "async def get_agent_response(agent, user_input):\n",
    "    result = await Runner.run(agent, \n",
    "                              [{\"content\": user_input, \"role\": \"user\"}], \n",
    "                              context=AirlineAgentContext(),\n",
    "                              run_config=RunConfig(model_provider=TLMModelProvider(trust_threshold=0.9))) # New: Wrap the model with TLM scoring\n",
    "    return result.final_output"
   ]
  },
  {
   "cell_type": "code",
   "execution_count": null,
   "metadata": {},
   "outputs": [
    {
     "name": "stdout",
     "output_type": "stream",
     "text": [
      "You are allowed to bring one bag on the plane. It must be under 50 pounds and 22 inches x 14 inches x 9 inches. If you have any other questions, feel free to ask!\n"
     ]
    }
   ],
   "source": [
    "user_input = \"What are the baggage restrictions?\"\n",
    "try:\n",
    "    agent_response = await get_agent_response(triage_agent, user_input)\n",
    "except TLMGuardrailTripwireTriggered: # New: Handle TLM guardrail exception\n",
    "    agent_response = \"Sorry, I cannot answer based on available information. Try rephrasing your question or providing more details.\"\n",
    "\n",
    "print(agent_response)"
   ]
  },
  {
   "cell_type": "code",
   "execution_count": null,
   "metadata": {},
   "outputs": [
    {
     "name": "stdout",
     "output_type": "stream",
     "text": [
      "Sorry, I cannot answer based on available information. Try rephrasing your question or providing more details.\n"
     ]
    }
   ],
   "source": [
    "user_input = \"Tell me about recent plane crashes?\"\n",
    "try:\n",
    "    agent_response = await get_agent_response(triage_agent, user_input)\n",
    "except TLMGuardrailTripwireTriggered: # New: Handle TLM guardrail exception\n",
    "    agent_response = \"Sorry, I cannot answer based on available information. Try rephrasing your question or providing more details.\"\n",
    "\n",
    "print(agent_response)"
   ]
  },
  {
   "cell_type": "markdown",
   "metadata": {},
   "source": [
    "### Agent-as-a-tool"
   ]
  },
  {
   "cell_type": "markdown",
   "metadata": {},
   "source": [
    "OpenAI recommends to alternatively use your *Agent-as-a-tool*, allowing Agents to call other Agents without handing off to them. You can learn more about this pattern from the official OpenAI [documentation](https://openai.github.io/openai-agents-python/tools/#agents-as-tools). To add trust scoring to your Agent-as-a-tool, implement a function tool to run your Agent with our `TLMModelProvider` as demonstrated below."
   ]
  },
  {
   "cell_type": "code",
   "execution_count": null,
   "metadata": {},
   "outputs": [],
   "source": [
    "from agents import default_tool_error_function\n",
    "\n",
    "def custom_tool_error_function(ctx, error) -> str:\n",
    "    if isinstance(error, TLMGuardrailTripwireTriggered):\n",
    "        return f\"Agent-as-a-tool returned an untrustworthy response. Please try again. Error: {str(error)}\"\n",
    "    return default_tool_error_function(ctx, error) # For all other exceptions, use the default behavior\n",
    "\n",
    "@function_tool(failure_error_function=custom_tool_error_function)\n",
    "async def run_discount_agent(input: str) -> str:\n",
    "    \"\"\"A tool that runs the agent with custom configs\"\"\"\n",
    "\n",
    "    discount_agent = Agent(\n",
    "    name=\"discount_agent\",\n",
    "    model=\"gpt-4o-mini\",\n",
    "    instructions=(\n",
    "        \"You are a customer service agent specializing in discount inquiries. \"\n",
    "        \"Respond helpfully and clearly. \"\n",
    "        \"Valid discount plan names: 'basic', 'premium', 'five', 'student'. \"\n",
    "        \"Details for the 'student' discount plan: Students with a valid student ID receive a 15% discount on all full-priced items. \"\n",
    "        \"Details for the 'five' discount plan: \"\n",
    "    ),\n",
    "    handoff_description=\"Handles discount-related questions.\",\n",
    "    )\n",
    "\n",
    "    result = await Runner.run(\n",
    "        discount_agent,\n",
    "        input=input,\n",
    "        max_turns=1,\n",
    "        run_config=RunConfig(model_provider=TLMModelProvider(trust_threshold=0.9, score_tool_calls=True))\n",
    "    )\n",
    "\n",
    "    return str(result.final_output)"
   ]
  },
  {
   "cell_type": "code",
   "execution_count": null,
   "metadata": {},
   "outputs": [],
   "source": [
    "customer_support_agent = Agent(\n",
    "    name=\"Customer Support Agent\",\n",
    "    model=\"gpt-4o-mini\",\n",
    "    instructions=(\n",
    "        \"You are a customer service agent. Always use your tools to handle specific requests. \"\n",
    "        \"Never answer directly; always use your tools.\"\n",
    "    ),\n",
    "    tools=[run_discount_agent],\n",
    ")"
   ]
  },
  {
   "cell_type": "code",
   "execution_count": null,
   "metadata": {},
   "outputs": [],
   "source": [
    "async def get_agent_response(agent, user_input):\n",
    "    result = await Runner.run(\n",
    "        agent,\n",
    "        [{\"content\": user_input, \"role\": \"user\"}],\n",
    "        run_config=RunConfig(model_provider=TLMModelProvider(trust_threshold=0.9, score_tool_calls=True))\n",
    "    )\n",
    "    return result.final_output"
   ]
  },
  {
   "cell_type": "code",
   "execution_count": null,
   "metadata": {},
   "outputs": [
    {
     "name": "stdout",
     "output_type": "stream",
     "text": [
      "Yes, as a student, you can get a 15% discount on all full-priced items by presenting a valid student ID. If you have your ID ready, you can enjoy this discount on your purchases! Let me know if you need further assistance.\n"
     ]
    }
   ],
   "source": [
    "user_input = \"I am a student, can I get a discount?\"\n",
    "try:\n",
    "    agent_response = await get_agent_response(customer_support_agent, user_input)\n",
    "except TLMGuardrailTripwireTriggered: # New: Handle TLM guardrail exception\n",
    "    agent_response = \"Sorry, I cannot answer based on available information. Try rephrasing your question or providing more details.\"\n",
    "\n",
    "print(agent_response)"
   ]
  },
  {
   "cell_type": "code",
   "execution_count": null,
   "metadata": {},
   "outputs": [
    {
     "name": "stdout",
     "output_type": "stream",
     "text": [
      "I'm currently unable to retrieve the details of the 5 discount plan. You may want to check back later or provide more specific criteria regarding the plan you're interested in.\n"
     ]
    }
   ],
   "source": [
    "user_input = \"What are the details of the 5 discount plan\"\n",
    "try:\n",
    "    agent_response = await get_agent_response(customer_support_agent, user_input)\n",
    "except TLMGuardrailTripwireTriggered: # New: Handle TLM guardrail exception\n",
    "    agent_response = \"Sorry, I cannot answer based on available information. Try rephrasing your question or providing more details.\"\n",
    "\n",
    "print(agent_response)"
   ]
  },
  {
   "cell_type": "markdown",
   "metadata": {},
   "source": [
    "Under the hood, TLM scoring intercepted the hallucinated response from the Agent-as-a-tool, preventing it from propagating to the main Agent's final output."
   ]
  }
 ],
 "metadata": {
  "kernelspec": {
   "display_name": "venv",
   "language": "python",
   "name": "python3"
  },
  "language_info": {
   "codemirror_mode": {
    "name": "ipython",
    "version": 3
   },
   "file_extension": ".py",
   "mimetype": "text/x-python",
   "name": "python",
   "nbconvert_exporter": "python",
   "pygments_lexer": "ipython3",
   "version": "3.10.0"
  }
 },
 "nbformat": 4,
 "nbformat_minor": 0
}