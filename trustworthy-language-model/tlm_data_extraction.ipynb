{
 "cells": [
  {
   "cell_type": "markdown",
   "id": "3b1788ba-96c0-4f84-93e8-465202e99b18",
   "metadata": {},
   "source": [
    "# Information Extraction from Documents using the Trustworthy Language Model"
   ]
  },
  {
   "cell_type": "markdown",
   "id": "7feae7bd-3173-4a2f-b528-6ca33fe2d4e7",
   "metadata": {},
   "source": [
    "This tutorial demonstrates how to use Cleanlab's Trustworthy Language Model (TLM) to reliably extract information from unstructured text documents. \n",
    "\n",
    "You can use TLM like any other LLM, just prompt it with the document text provided as context along with an instruction detailing what information should be extracted and in what format. While today's GenAI and LLMs demonstrate promise for such information extraction, the technology remains fundamentally unreliable. LLMs may extract **completely wrong (hallucinated) values** in certain edge-cases, but you won't know with existing LLMs. Cleanlab's TLM also provides a **trustworthiness score** alongside the extracted information to indicate how confident we can be regarding its accuracy. These TLM trustworthiness scores are significantly more reliable than existing measures of LLM confidence, and help you catch badly extracted information before it harms downstream processes.\n",
    "\n",
    "Before this tutorial, we recommend first completing the [TLM quickstart tutorial](/tutorials/tlm/)."
   ]
  },
  {
   "cell_type": "markdown",
   "id": "e9ed290c-755c-458e-8997-d3c06c26ddcd",
   "metadata": {},
   "source": [
    "## Install and Import Dependencies"
   ]
  },
  {
   "cell_type": "markdown",
   "id": "8a4f7e8d-12c2-4684-a0c3-9aa669f319b7",
   "metadata": {},
   "source": [
    "Using TLM requires a [Cleanlab account](https://app.cleanlab.ai/). Sign up for one [here](https://cleanlab.ai/signup/) if you haven\u2019t yet. If you\u2019ve already signed up, check your email for a personal login link.\n",
    "The Python package dependencies for this tutorial can be installed using pip:"
   ]
  },
  {
   "cell_type": "code",
   "execution_count": 1,
   "id": "14f21548-efac-4b63-b65c-adcc815f8301",
   "metadata": {},
   "outputs": [],
   "source": [
    "%pip install --upgrade cleanlab-studio \"unstructured[pdf]\""
   ]
  },
  {
   "cell_type": "code",
   "execution_count": null,
   "id": "ac9b9325-4c69-4e6d-a6c2-f52adccd8e87",
   "metadata": {},
   "outputs": [],
   "source": [
    "import os\n",
    "import pandas as pd\n",
    "from unstructured.partition.pdf import partition_pdf\n",
    "from IPython.display import display, IFrame\n",
    "\n",
    "from cleanlab_studio import Studio\n",
    "\n",
    "pd.set_option('display.max_colwidth', None)  "
   ]
  },
  {
   "cell_type": "markdown",
   "id": "c6d6bf89-c61f-4909-91c3-00a0a2c396c6",
   "metadata": {},
   "source": [
    "## Fetch the Document Dataset"
   ]
  },
  {
   "cell_type": "markdown",
   "id": "8ae79c6f-fed8-48dd-9998-8f8ba18213d8",
   "metadata": {},
   "source": [
    "The ideas demonstrated in this tutorial apply to arbitrary information extracation tasks involving any types of documents. The particular documents demonstrated in this tutorial are a collection of datasheets for electronic parts, stored in PDF format. These datasheets contain technical specifications and application guidelines regarding the electronic products, serving as an important guide for users of these products. Let's download the data and look at an example datasheet."
   ]
  },
  {
   "cell_type": "code",
   "execution_count": null,
   "id": "471f80e8-0417-427a-814f-e31a0073aa3a",
   "metadata": {},
   "outputs": [],
   "source": [
    "!wget -nc https://cleanlab-public.s3.amazonaws.com/Datasets/electronics-datasheets/electronics-datasheets.zip\n",
    "!mkdir datasheets/\n",
    "!unzip -q electronics-datasheets.zip -d datasheets/"
   ]
  },
  {
   "cell_type": "markdown",
   "id": "150c51cb-1f9b-4e6e-996e-9930572b64de",
   "metadata": {},
   "source": [
    "Here's the first page of a sample datasheet ([13.pdf](https://cleanlab-public.s3.amazonaws.com/Datasets/electronics-datasheets/13.pdf)):"
   ]
  },
  {
   "cell_type": "markdown",
   "id": "c345354a-b594-492c-9ca6-a45ab45121db",
   "metadata": {},
   "source": [
    "![Sample Datasheet 13.pdf](../assets/tlm-text-extraction-tutorial/13.png)"
   ]
  },
  {
   "cell_type": "markdown",
   "id": "8cc1bfac-5274-4774-9de0-cabb98002008",
   "metadata": {},
   "source": [
    "This document contains many details, so it might be tough to extract one particular piece of information. Datasheets may use complex and highly technical language, while also varying in their structure and organization of information. \n",
    "\n",
    "Hence, we'll use the Trustworthy Language Model (TLM) to automatically extract key information about each product from these datasheets. TLM also provides a trustworthiness score to quantify how confident we can be that the right information was extracted, which allows us to catch potential errors in this process at scale."
   ]
  },
  {
   "cell_type": "markdown",
   "id": "a3ea8019-99cd-41f8-b765-031ff41309ef",
   "metadata": {},
   "source": [
    "## Convert PDF Documents to Text"
   ]
  },
  {
   "cell_type": "markdown",
   "id": "c1a5f8dd-a78f-4b4c-86ce-d9dc96c02a88",
   "metadata": {},
   "source": [
    "Our documents are PDFs, but TLM requires text inputs (like any other LLM). We can use the open-source `unstructured` library to extract the text from each PDF."
   ]
  },
  {
   "cell_type": "code",
   "execution_count": 4,
   "id": "13353715-3618-4786-9926-638419c25397",
   "metadata": {},
   "outputs": [],
   "source": [
    "def extract_text_from_pdf(filename):\n",
    "    elements = partition_pdf(filename)\n",
    "    text = \"\\n\".join([str(el) for el in elements])\n",
    "    return text"
   ]
  },
  {
   "cell_type": "code",
   "execution_count": 5,
   "id": "c01ef390-9d2f-4d12-99d5-4655ac794419",
   "metadata": {},
   "outputs": [],
   "source": [
    "directory = \"datasheets/\"\n",
    "all_files = os.listdir(directory)\n",
    "pdf_files = sorted([file for file in all_files if file.endswith('.pdf')])\n",
    "pdf_texts = [extract_text_from_pdf(os.path.join(directory, file)) for file in pdf_files]"
   ]
  },
  {
   "cell_type": "markdown",
   "id": "e97beee4-67ad-4a76-9a8c-a4cadbe04763",
   "metadata": {},
   "source": [
    "Here is a sample of the extracted text:"
   ]
  },
  {
   "cell_type": "code",
   "execution_count": 6,
   "id": "c48b69ea-3bb2-4bf5-ac73-ee049502da7f",
   "metadata": {},
   "outputs": [
    {
     "name": "stdout",
     "output_type": "stream",
     "text": [
      "0.5w Solar Panel 55*70\n",
      "This is a custom solar panel, which mates directly with many of our development boards and has a high efficiency at 17%. Unit has a clear epoxy coating with hard-board backing. Robust sealing for out door applications!\n",
      "Specification\n",
      "PET\n",
      "Package\n",
      "Typical peak power\n",
      "0.55W\n",
      "Voltage at peak power\n",
      "5.5v\n",
      "Current at peak power\n",
      "100mA\n",
      "Length\n",
      "70 mm\n",
      "Width\n",
      "55 mm\n",
      "Depth\n",
      "1.5 mm\n",
      "Weight\n",
      "17g\n",
      "Efficiency\n",
      "17%\n",
      "Wire diameter\n",
      "1.5mm\n",
      "Connector\n",
      "2.0mm JST\n",
      "Hardware Installation\n",
      "http://wiki.seeedstudio.com/0.5w_Solar_Panel_55x70/9\u201024\u201018\n"
     ]
    }
   ],
   "source": [
    "print(pdf_texts[0])"
   ]
  },
  {
   "cell_type": "markdown",
   "id": "64ee140e-68a4-474a-ac69-66eaddbd78a1",
   "metadata": {},
   "source": [
    "## Extract Information using TLM"
   ]
  },
  {
   "cell_type": "markdown",
   "id": "5b00d16f-0c72-4fea-b64b-4c851b07bc2b",
   "metadata": {},
   "source": [
    "Let's initalize the TLM client. Here we use default TLM settings, but check out the [TLM quickstart tutorial](/tutorials/tlm/) for configuration options to get better results."
   ]
  },
  {
   "cell_type": "code",
   "execution_count": 7,
   "id": "7ffbb98a-7564-4aac-8e13-52063b7fe14d",
   "metadata": {},
   "outputs": [],
   "source": [
    "# Get your API key from https://app.cleanlab.ai/account after creating an account\n",
    "studio = Studio(\"<API key>\")\n",
    "\n",
    "tlm = studio.TLM()"
   ]
  },
  {
   "cell_type": "markdown",
   "id": "f2e92b1a-74bb-4a1f-b3ac-da2d1d6c706d",
   "metadata": {},
   "source": [
    "We'll use the following prompt template that instructs our model to extract the operating voltage of each electronics product from its datasheet:\n",
    "\n",
    "```\n",
    "Please reference the provided datasheet to determine the operating voltage of the item. \n",
    "Respond in the following format: \"Operating Voltage: [insert appropriate voltage range]V [AC/DC]\" with the appropriate voltage range and indicating \"AC\" or \"DC\" if applicable, or omitting if not.\n",
    "If the operating voltage is a range, write it as \"A - B\" with \"-\" between the values.\n",
    "If the operating voltage information is not available, specify \"Operating Voltage: N/A\".\n",
    "Datasheet: <insert-datasheet>\n",
    "```"
   ]
  },
  {
   "cell_type": "markdown",
   "id": "1def444c-1f64-4f1c-ae20-1eb84460b59b",
   "metadata": {},
   "source": [
    "Some of these datasheets are very long (over 50 pages), and TLM might not have the ability to ingest large inputs (contact us if you require larger context windows: sales@cleanlab.ai). For this tutorial, we'll limit the input datasheet text to only the first 10,000 characters. Most datasheets summarize product technical details in the first few pages, so this should not be an issue for our information extraction task. If you already know roughly where in your documents the relevant information lies, you can save cost and runtime by only including text from the relevant part of the document in your prompts rather than the whole thing."
   ]
  },
  {
   "cell_type": "code",
   "execution_count": 8,
   "id": "2775de4d-93c0-4a00-b306-8a197741be36",
   "metadata": {},
   "outputs": [],
   "source": [
    "prompt_template = \"\"\"Please reference the provided datasheet to determine the operating voltage of the item. \n",
    "Respond in the following format: \"Operating Voltage: [insert appropriate voltage range]V [AC/DC]\" with the appropriate voltage range and indicating \"AC\" or \"DC\" if applicable, or omitting if not.\n",
    "If the operating voltage is a range, write it as \"A - B\" with \"-\" between the values.\n",
    "If the operating voltage information is not available, specify \"Operating Voltage: N/A\".\n",
    "Datasheet:\n",
    "\"\"\"\n",
    "\n",
    "texts_with_prompt = [prompt_template + text[:10000] for text in pdf_texts]"
   ]
  },
  {
   "cell_type": "markdown",
   "id": "f56f9732-320d-4236-bf69-31af8e0f524f",
   "metadata": {},
   "source": [
    "After forming our prompts for each datasheet, let's pass in the prompts to the TLM. Note we can run all prompts simultaneously in a batch.\n",
    "\n",
    "TLM will return a list of dictionaries, with each dictionary containing the corresponding response and corresponding **trustworthiness score**, which quantifies how confident you can be that the response is correct."
   ]
  },
  {
   "cell_type": "code",
   "execution_count": 9,
   "id": "85c93d7a-eb74-4c98-9b6c-5803758f9a2d",
   "metadata": {
    "scrolled": true
   },
   "outputs": [
    {
     "name": "stderr",
     "output_type": "stream",
     "text": [
      "Querying TLM... 100%|\u2588\u2588\u2588\u2588\u2588\u2588\u2588\u2588\u2588\u2588\u2588\u2588\u2588\u2588\u2588\u2588\u2588\u2588\u2588\u2588\u2588\u2588\u2588\u2588\u2588\u2588\u2588\u2588\u2588\u2588\u2588\u2588\u2588\u2588\u2588\u2588\u2588\u2588\u2588\u2588\u2588\u2588\u2588\u2588\u2588\u2588\u2588\u2588\u2588\u2588\u2588\u2588\u2588\u2588\u2588\u2588\u2588\u2588\u2588\u2588\u2588\u2588\u2588\u2588\u2588\u2588\u2588\u2588\u2588\u2588\u2588\u2588\u2588\u2588\u2588\u2588\u2588\u2588\u2588\u2588\u2588\u2588\u2588\u2588\u2588\u2588\u2588\u2588\u2588\u2588\u2588\u2588\u2588\u2588\u2588\u2588\u2588\u2588\u2588\u2588\u2588\u2588\u2588\u2588\u2588\u2588\u2588\u2588\u2588\u2588\u2588\u2588\u2588\u2588\u2588\u2588\u2588\u2588\u2588\u2588\u2588\u2588\u2588\u2588\u2588\u2588\u2588\u2588\u2588\u2588\u2588\u2588\u2588\u2588\u2588\u2588\u2588\u2588\u2588\u2588\u2588\u2588\u2588\u2588\u2588\u2588\u2588\u2588\u2588\u2588\u2588\u2588\u2588\u2588\u2588\u2588\u2588\u2588\u2588\u2588\u2588\u2588\u2588\u2588\u2588\u2588\u2588\u2588\u2588\u2588\u2588\u2588\u2588\u2588\u2588\u2588\u2588\u2588\u2588\u2588|\n"
     ]
    }
   ],
   "source": [
    "tlm_response = tlm.prompt(texts_with_prompt)"
   ]
  },
  {
   "cell_type": "markdown",
   "id": "95df9f3c-031f-482a-9449-666d16502fd1",
   "metadata": {},
   "source": [
    "Let's organize the extracted information (TLM responses) and trustworthiness scores for each input PDF, along with its filename."
   ]
  },
  {
   "cell_type": "code",
   "execution_count": 10,
   "id": "6c2f4ae1-6a6a-467d-adda-12ac3a78f9e1",
   "metadata": {},
   "outputs": [
    {
     "data": {
      "text/html": [
       "<div>\n",
       "<style scoped>\n",
       "    .dataframe tbody tr th:only-of-type {\n",
       "        vertical-align: middle;\n",
       "    }\n",
       "\n",
       "    .dataframe tbody tr th {\n",
       "        vertical-align: top;\n",
       "    }\n",
       "\n",
       "    .dataframe thead th {\n",
       "        text-align: right;\n",
       "    }\n",
       "</style>\n",
       "<table border=\"1\" class=\"dataframe\">\n",
       "  <thead>\n",
       "    <tr style=\"text-align: right;\">\n",
       "      <th></th>\n",
       "      <th>filename</th>\n",
       "      <th>response</th>\n",
       "      <th>trustworthiness_score</th>\n",
       "    </tr>\n",
       "  </thead>\n",
       "  <tbody>\n",
       "    <tr>\n",
       "      <th>0</th>\n",
       "      <td>1.pdf</td>\n",
       "      <td>Operating Voltage: 5.5V DC</td>\n",
       "      <td>0.765674</td>\n",
       "    </tr>\n",
       "    <tr>\n",
       "      <th>1</th>\n",
       "      <td>10.pdf</td>\n",
       "      <td>Operating Voltage: 2.7V - 5.5V DC</td>\n",
       "      <td>0.939829</td>\n",
       "    </tr>\n",
       "    <tr>\n",
       "      <th>2</th>\n",
       "      <td>11.pdf</td>\n",
       "      <td>Operating Voltage: 1.8 - 5.5V DC</td>\n",
       "      <td>0.915594</td>\n",
       "    </tr>\n",
       "    <tr>\n",
       "      <th>3</th>\n",
       "      <td>12.pdf</td>\n",
       "      <td>Operating Voltage: 0.9 - 1.6VDC</td>\n",
       "      <td>0.930093</td>\n",
       "    </tr>\n",
       "    <tr>\n",
       "      <th>4</th>\n",
       "      <td>13.pdf</td>\n",
       "      <td>Operating Voltage: 1.8 - 5.5V</td>\n",
       "      <td>0.936506</td>\n",
       "    </tr>\n",
       "  </tbody>\n",
       "</table>\n",
       "</div>"
      ],
      "text/plain": [
       "  filename                           response  trustworthiness_score\n",
       "0    1.pdf         Operating Voltage: 5.5V DC               0.765674\n",
       "1   10.pdf  Operating Voltage: 2.7V - 5.5V DC               0.939829\n",
       "2   11.pdf   Operating Voltage: 1.8 - 5.5V DC               0.915594\n",
       "3   12.pdf    Operating Voltage: 0.9 - 1.6VDC               0.930093\n",
       "4   13.pdf      Operating Voltage: 1.8 - 5.5V               0.936506"
      ]
     },
     "execution_count": 10,
     "metadata": {},
     "output_type": "execute_result"
    }
   ],
   "source": [
    "results_df = pd.DataFrame({\n",
    "    \"filename\": pdf_files,\n",
    "    \"response\": [d[\"response\"] for d in tlm_response],\n",
    "    \"trustworthiness_score\": [d[\"trustworthiness_score\"] for d in tlm_response]\n",
    "})\n",
    "\n",
    "results_df.head()"
   ]
  },
  {
   "cell_type": "markdown",
   "id": "4b308a07-ed50-45c1-ae8f-7da1afef9d1c",
   "metadata": {},
   "source": [
    "## Examine Results"
   ]
  },
  {
   "cell_type": "markdown",
   "id": "f441d8af-4b59-4740-aa8d-8165a789fab9",
   "metadata": {},
   "source": [
    "TLM has extracted the product's operating voltage from each datasheet, alongside with a given `trustworthiness_score` indicating its confidence. Let's now examine the results in more detail."
   ]
  },
  {
   "cell_type": "markdown",
   "id": "7c0cff93-bd13-4108-b7b0-a13bbd7fee37",
   "metadata": {},
   "source": [
    "### High Trustworthiness Scores"
   ]
  },
  {
   "cell_type": "markdown",
   "id": "b3098b16-4f37-4ec6-aa06-4541f18fbb62",
   "metadata": {},
   "source": [
    "The responses with the highest trustworthiness scores represent datasheets where TLM is the most confident that it has accurately extracted the operating voltage of the product."
   ]
  },
  {
   "cell_type": "code",
   "execution_count": 11,
   "id": "2ac14224-3fe7-40e9-9b68-61ccf011d0b1",
   "metadata": {},
   "outputs": [
    {
     "data": {
      "text/html": [
       "<div>\n",
       "<style scoped>\n",
       "    .dataframe tbody tr th:only-of-type {\n",
       "        vertical-align: middle;\n",
       "    }\n",
       "\n",
       "    .dataframe tbody tr th {\n",
       "        vertical-align: top;\n",
       "    }\n",
       "\n",
       "    .dataframe thead th {\n",
       "        text-align: right;\n",
       "    }\n",
       "</style>\n",
       "<table border=\"1\" class=\"dataframe\">\n",
       "  <thead>\n",
       "    <tr style=\"text-align: right;\">\n",
       "      <th></th>\n",
       "      <th>filename</th>\n",
       "      <th>response</th>\n",
       "      <th>trustworthiness_score</th>\n",
       "    </tr>\n",
       "  </thead>\n",
       "  <tbody>\n",
       "    <tr>\n",
       "      <th>17</th>\n",
       "      <td>25.pdf</td>\n",
       "      <td>Operating Voltage: 3.0 - 6.0V DC</td>\n",
       "      <td>0.964483</td>\n",
       "    </tr>\n",
       "    <tr>\n",
       "      <th>6</th>\n",
       "      <td>15.pdf</td>\n",
       "      <td>Operating Voltage: 12V DC</td>\n",
       "      <td>0.955249</td>\n",
       "    </tr>\n",
       "    <tr>\n",
       "      <th>24</th>\n",
       "      <td>31.pdf</td>\n",
       "      <td>Operating Voltage: 1.71V - 3.6V DC</td>\n",
       "      <td>0.948459</td>\n",
       "    </tr>\n",
       "    <tr>\n",
       "      <th>1</th>\n",
       "      <td>10.pdf</td>\n",
       "      <td>Operating Voltage: 2.7V - 5.5V DC</td>\n",
       "      <td>0.939829</td>\n",
       "    </tr>\n",
       "    <tr>\n",
       "      <th>4</th>\n",
       "      <td>13.pdf</td>\n",
       "      <td>Operating Voltage: 1.8 - 5.5V</td>\n",
       "      <td>0.936506</td>\n",
       "    </tr>\n",
       "  </tbody>\n",
       "</table>\n",
       "</div>"
      ],
      "text/plain": [
       "   filename                            response  trustworthiness_score\n",
       "17   25.pdf    Operating Voltage: 3.0 - 6.0V DC               0.964483\n",
       "6    15.pdf           Operating Voltage: 12V DC               0.955249\n",
       "24   31.pdf  Operating Voltage: 1.71V - 3.6V DC               0.948459\n",
       "1    10.pdf   Operating Voltage: 2.7V - 5.5V DC               0.939829\n",
       "4    13.pdf       Operating Voltage: 1.8 - 5.5V               0.936506"
      ]
     },
     "execution_count": 11,
     "metadata": {},
     "output_type": "execute_result"
    }
   ],
   "source": [
    "results_df.sort_values(\"trustworthiness_score\", ascending=False).head()"
   ]
  },
  {
   "cell_type": "markdown",
   "id": "3832535d-648d-4de1-b31e-90aafd350f9c",
   "metadata": {},
   "source": [
    "Below we show part of the datasheet which corresponds to the highest TLM trustworthiness score, document `25.pdf`."
   ]
  },
  {
   "cell_type": "markdown",
   "id": "7c885a82-dbf8-4d35-b551-9ae17ae908df",
   "metadata": {},
   "source": [
    "![Table from Datasheet 25.pdf](../assets/tlm-text-extraction-tutorial/25.png)"
   ]
  },
  {
   "cell_type": "markdown",
   "id": "54f80d06-afc8-4a9b-a14b-66af539d14e9",
   "metadata": {},
   "source": [
    "From this image (you can also find this on the bottom of page 2 in the original file: [25.pdf](https://cleanlab-public.s3.amazonaws.com/Datasets/electronics-datasheets/25.pdf)),\n",
    "we see a table which specifies the minimum and maximum operating voltage of this time to be **3 VDC** and **6 VDC** respectively. This matches the extracted information by the TLM. When the trustworthiness scores are high, you can trust the results from TLM with great confidence!"
   ]
  },
  {
   "cell_type": "markdown",
   "id": "fda57a31-d30c-4e75-88f5-5a6c7bbb435e",
   "metadata": {},
   "source": [
    "### Low Trustworthiness Scores"
   ]
  },
  {
   "cell_type": "markdown",
   "id": "7fcf5680-5663-4a1e-96ef-7a25e8e08f9b",
   "metadata": {},
   "source": [
    "The responses with the lowest trustworthiness scores represent datasheets where TLM is the least confident that it correctly extracted the operating voltage of the product. Low trustworthiness scores indicate instances where you should not place much confidence in the TLM response. Results with low trustworthiness scores would benefit most from manual review, especially if the results are critical to get right."
   ]
  },
  {
   "cell_type": "code",
   "execution_count": 12,
   "id": "1edfcdbc-2005-40d2-98fe-f8dc8771a937",
   "metadata": {},
   "outputs": [
    {
     "data": {
      "text/html": [
       "<div>\n",
       "<style scoped>\n",
       "    .dataframe tbody tr th:only-of-type {\n",
       "        vertical-align: middle;\n",
       "    }\n",
       "\n",
       "    .dataframe tbody tr th {\n",
       "        vertical-align: top;\n",
       "    }\n",
       "\n",
       "    .dataframe thead th {\n",
       "        text-align: right;\n",
       "    }\n",
       "</style>\n",
       "<table border=\"1\" class=\"dataframe\">\n",
       "  <thead>\n",
       "    <tr style=\"text-align: right;\">\n",
       "      <th></th>\n",
       "      <th>filename</th>\n",
       "      <th>response</th>\n",
       "      <th>trustworthiness_score</th>\n",
       "    </tr>\n",
       "  </thead>\n",
       "  <tbody>\n",
       "    <tr>\n",
       "      <th>62</th>\n",
       "      <td>66.pdf</td>\n",
       "      <td>Operating Voltage: 24 V DC</td>\n",
       "      <td>0.514770</td>\n",
       "    </tr>\n",
       "    <tr>\n",
       "      <th>52</th>\n",
       "      <td>57.pdf</td>\n",
       "      <td>Operating Voltage: 5V DC (26M024B1U, 26M024B1B)\\nOperating Voltage: 12V DC (26M048B1U, 26M048B1B, 26M048B2U, 26M048B2B)</td>\n",
       "      <td>0.524739</td>\n",
       "    </tr>\n",
       "    <tr>\n",
       "      <th>36</th>\n",
       "      <td>42.pdf</td>\n",
       "      <td>Operating Voltage: 1V - 15V DC</td>\n",
       "      <td>0.566969</td>\n",
       "    </tr>\n",
       "    <tr>\n",
       "      <th>73</th>\n",
       "      <td>76.pdf</td>\n",
       "      <td>Operating Voltage: 9 - 75 VDC</td>\n",
       "      <td>0.588441</td>\n",
       "    </tr>\n",
       "    <tr>\n",
       "      <th>31</th>\n",
       "      <td>38.pdf</td>\n",
       "      <td>Operating Voltage: 5V DC</td>\n",
       "      <td>0.603914</td>\n",
       "    </tr>\n",
       "  </tbody>\n",
       "</table>\n",
       "</div>"
      ],
      "text/plain": [
       "   filename  \\\n",
       "62   66.pdf   \n",
       "52   57.pdf   \n",
       "36   42.pdf   \n",
       "73   76.pdf   \n",
       "31   38.pdf   \n",
       "\n",
       "                                                                                                                   response  \\\n",
       "62                                                                                               Operating Voltage: 24 V DC   \n",
       "52  Operating Voltage: 5V DC (26M024B1U, 26M024B1B)\\nOperating Voltage: 12V DC (26M048B1U, 26M048B1B, 26M048B2U, 26M048B2B)   \n",
       "36                                                                                           Operating Voltage: 1V - 15V DC   \n",
       "73                                                                                            Operating Voltage: 9 - 75 VDC   \n",
       "31                                                                                                 Operating Voltage: 5V DC   \n",
       "\n",
       "    trustworthiness_score  \n",
       "62               0.514770  \n",
       "52               0.524739  \n",
       "36               0.566969  \n",
       "73               0.588441  \n",
       "31               0.603914  "
      ]
     },
     "execution_count": 12,
     "metadata": {},
     "output_type": "execute_result"
    }
   ],
   "source": [
    "results_df.sort_values(\"trustworthiness_score\").head()"
   ]
  },
  {
   "cell_type": "markdown",
   "id": "492789af-4b23-49d9-afc1-5f4b13f3137c",
   "metadata": {},
   "source": [
    "Above we see the results that received the lowest trustworthiness scores amongst our documents. TLM extracted a operating voltage value of **24 V DC** for datasheet `66.pdf`, which received the lowest trustworthiness score.\n",
    "We depict part of this datasheet below (you can find this information on Page 2 of [66.pdf](https://cleanlab-public.s3.amazonaws.com/Datasets/electronics-datasheets/66.pdf)). We see there are many mentions of voltages in this datasheet, such as *input voltage range*, *voltage output signal*, *nominal supply voltage*, etc. There is no mention of the operating voltage. Like any standard LLM, the TLM finds it hard to extract the correct information (or realize that this information is not available) due to this abundance of closely related information, returning the wrong response. However, at least the trustworthiness score associated with this response is low, which allows us to catch this bad response with minimal manual review of the overall results."
   ]
  },
  {
   "cell_type": "markdown",
   "id": "efbb0a36-05f7-4082-9512-e48606f8c3f8",
   "metadata": {},
   "source": [
    "![Table from Datasheet 66.pdf](../assets/tlm-text-extraction-tutorial/66.png)"
   ]
  },
  {
   "cell_type": "markdown",
   "id": "f980f2b7-c405-466d-9483-c646a21873d7",
   "metadata": {},
   "source": [
    "For datasheet `57.pdf`, TLM also produced a low trustworthiness score for its response, which was the following:\n",
    "> Operating Voltage: 5V DC (26M024B1U, 26M024B1B)\n",
    "> Operating Voltage: 12V DC (26M048B1U, 26M048B1B, 26M048B2U, 26M048B2B)\n",
    "\n",
    "\n",
    "Below we show parts of the datasheet (the tables on pages 2 and 3 of [57.pdf](https://cleanlab-public.s3.amazonaws.com/Datasets/electronics-datasheets/57.pdf))."
   ]
  },
  {
   "cell_type": "markdown",
   "id": "a875c1e0-f394-4077-a0ba-e77d5c0ee4a7",
   "metadata": {},
   "source": [
    "![Table 1 from Datasheet 57.pdf](../assets/tlm-text-extraction-tutorial/57-1.png) ![Table 2 from Datasheet 57.pdf](../assets/tlm-text-extraction-tutorial/57-2.png)"
   ]
  },
  {
   "cell_type": "markdown",
   "id": "312237ed-af08-4588-84e7-f6963edb5f81",
   "metadata": {},
   "source": [
    "We see that these two tables contain 8 different products, each having its own technical specification.\n",
    "TLM got some of the extracted information right, part numbers *26M024B1U* and *26M024B1B* do indeed have an operating voltage of 5V. However, some information was also extracted incorrectly, for example the items with part numbers *26M048B1U* and *26M048B1B* have an operating voltage of 5V, instead of 12V listed in the TLM response.\n",
    "\n",
    "Again, the low trustworthiness scores help you realize this example requires further review.\n",
    "\n",
    "Don't let unreliable results prevent you from employing LLM automation to extract information from documents at scale! You can rely on LLMs for a large subset of documents and with TLM's trustworthiness scores, know which other documents you should still manually inspect. This can save your teams immense time and improve the quality of extracted information signficantly."
   ]
  }
 ],
 "metadata": {
  "kernelspec": {
   "display_name": "Python 3 (ipykernel)",
   "language": "python",
   "name": "python3"
  },
  "language_info": {
   "codemirror_mode": {
    "name": "ipython",
    "version": 3
   },
   "file_extension": ".py",
   "mimetype": "text/x-python",
   "name": "python",
   "nbconvert_exporter": "python",
   "pygments_lexer": "ipython3",
   "version": "3.9.6"
  }
 },
 "nbformat": 4,
 "nbformat_minor": 5
}